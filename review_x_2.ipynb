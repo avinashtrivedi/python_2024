{
 "cells": [
  {
   "cell_type": "markdown",
   "metadata": {
    "id": "j2UsnmmtB8Nz"
   },
   "source": [
    "# Prediction of Soil Viability for Sustainable Agriculture"
   ]
  },
  {
   "cell_type": "markdown",
   "metadata": {
    "id": "7ScxW7i5B8N2"
   },
   "source": [
    "🎯 The goal of this challenge is to train a model that classifies soils as viable or not for sustainable agriculture."
   ]
  },
  {
   "cell_type": "markdown",
   "metadata": {
    "id": "H8LQ1U--B8N3"
   },
   "source": [
    "💡 As part of an initiative to promote sustainable agriculture worldwide, experiments were made at different locations.\n",
    "\n",
    "Each experiment consisted in an analysis of the soil.  \n",
    "The results of these analysis are our features.\n",
    "\n",
    "After the analysis, a small agriculture project was launched at the location:    \n",
    "- If the project was successful, the soil was labeled as viable.  \n",
    "- On the other hand if the project failed, the soil was labeled as not-viable.  \n",
    "\n",
    "The viability of the soil is our target."
   ]
  },
  {
   "cell_type": "markdown",
   "metadata": {
    "id": "iY2359c0B8N3"
   },
   "source": [
    "💡 Small test projects were used for data collection, but the ambition is to launch projects of much larger scale.  \n",
    "\n",
    "The costs and time investment on these large scale projects are extremely high.  \n",
    "\n",
    "🎯 To be valuable, our model should be right at least 90% of the time when it identifies a viable soil."
   ]
  },
  {
   "cell_type": "markdown",
   "metadata": {
    "id": "QBOW5S5xB8N3"
   },
   "source": [
    "Here is a description of the fields:\n",
    "- **id**: Unique identification number of the experiment\n",
    "- **scientist**: Name of the scientist responsible for the experiment\n",
    "- **measure_index**: Engineered measure of soil characteristics\n",
    "- **measure_moisture**: Moisture level of the soil\n",
    "- **measure_temperature**: Temperature of the soil, in Celsius degrees\n",
    "- **measure_chemicals**: Indice of chemicals presence in the soil\n",
    "- **measure_biodiversity**: Indice of biodiversity in the soil\n",
    "- **measure_flora**: Indice of diversity of flora in the soil\n",
    "- **main_element**: Symbol of the main chemical element found in the soil\n",
    "- **past_agriculture**: Indicates the presence of past agriculture on the soil\n",
    "- **soil_condition**: Overall indicator of the soil fertility\n",
    "- **datetime_start**: Timestamp of experiment's start\n",
    "- **datetime_end**: Timestamp of experiment's end\n",
    "- **target**: Viability of the soil  \n",
    "    - 1: means the soil was viable, i.e. the test project was a success  \n",
    "    - 0: means the soil was not viable, i.e. the test project was a failure"
   ]
  },
  {
   "cell_type": "markdown",
   "metadata": {
    "id": "4gOIEJzoB8N4"
   },
   "source": [
    "## Data Collection"
   ]
  },
  {
   "cell_type": "markdown",
   "metadata": {
    "id": "8m01Y3DtB8N5"
   },
   "source": [
    "*C5 - Préparer les données en vue de l'apprentissage afin que celles-ci soient nettoyées*"
   ]
  },
  {
   "cell_type": "markdown",
   "metadata": {
    "id": "kN9-Yvh0B8N5"
   },
   "source": [
    "**📝 Load the csv provided at this URL: https://wagon-public-datasets.s3.amazonaws.com/certification/soils_viability/soils_viability_train.csv.**"
   ]
  },
  {
   "cell_type": "code",
   "execution_count": 1,
   "metadata": {
    "ExecuteTime": {
     "end_time": "2021-09-09T15:39:40.398126Z",
     "start_time": "2021-09-09T15:39:40.377328Z"
    },
    "colab": {
     "base_uri": "https://localhost:8080/",
     "height": 1000
    },
    "id": "b7R-2A2tB8N6",
    "outputId": "b76232ee-48e7-4850-ea9d-702d2c1e8d9e",
    "tags": [
     "challengify"
    ]
   },
   "outputs": [
    {
     "name": "stderr",
     "output_type": "stream",
     "text": [
      "C:\\Users\\avitr\\anaconda3\\lib\\site-packages\\pandas\\core\\arrays\\masked.py:60: UserWarning: Pandas requires version '1.3.6' or newer of 'bottleneck' (version '1.3.5' currently installed).\n",
      "  from pandas.core import (\n"
     ]
    },
    {
     "data": {
      "text/html": [
       "<div>\n",
       "<style scoped>\n",
       "    .dataframe tbody tr th:only-of-type {\n",
       "        vertical-align: middle;\n",
       "    }\n",
       "\n",
       "    .dataframe tbody tr th {\n",
       "        vertical-align: top;\n",
       "    }\n",
       "\n",
       "    .dataframe thead th {\n",
       "        text-align: right;\n",
       "    }\n",
       "</style>\n",
       "<table border=\"1\" class=\"dataframe\">\n",
       "  <thead>\n",
       "    <tr style=\"text-align: right;\">\n",
       "      <th></th>\n",
       "      <th>id</th>\n",
       "      <th>scientist</th>\n",
       "      <th>measure_index</th>\n",
       "      <th>measure_moisture</th>\n",
       "      <th>measure_temperature</th>\n",
       "      <th>measure_chemicals</th>\n",
       "      <th>measure_biodiversity</th>\n",
       "      <th>measure_flora</th>\n",
       "      <th>main_element</th>\n",
       "      <th>past_agriculture</th>\n",
       "      <th>soil_condition</th>\n",
       "      <th>datetime_start</th>\n",
       "      <th>datetime_end</th>\n",
       "      <th>target</th>\n",
       "    </tr>\n",
       "  </thead>\n",
       "  <tbody>\n",
       "    <tr>\n",
       "      <th>0</th>\n",
       "      <td>493</td>\n",
       "      <td>Kathryn Owens</td>\n",
       "      <td>1.875085</td>\n",
       "      <td>24.442232</td>\n",
       "      <td>18.510316</td>\n",
       "      <td>5.715697</td>\n",
       "      <td>521.074105</td>\n",
       "      <td>NaN</td>\n",
       "      <td>Na</td>\n",
       "      <td>yes</td>\n",
       "      <td>normal</td>\n",
       "      <td>2017-06-27 16:53:42</td>\n",
       "      <td>2017-06-27 20:05:36</td>\n",
       "      <td>1</td>\n",
       "    </tr>\n",
       "    <tr>\n",
       "      <th>1</th>\n",
       "      <td>2340</td>\n",
       "      <td>Andrea Pratt</td>\n",
       "      <td>7.658911</td>\n",
       "      <td>30.121175</td>\n",
       "      <td>17.050250</td>\n",
       "      <td>1.973804</td>\n",
       "      <td>314.443474</td>\n",
       "      <td>NaN</td>\n",
       "      <td>Ca</td>\n",
       "      <td>no</td>\n",
       "      <td>rich</td>\n",
       "      <td>2018-12-10 07:06:56</td>\n",
       "      <td>2018-12-10 11:43:29</td>\n",
       "      <td>1</td>\n",
       "    </tr>\n",
       "    <tr>\n",
       "      <th>2</th>\n",
       "      <td>5434</td>\n",
       "      <td>Kaitlyn Jackson</td>\n",
       "      <td>18.000212</td>\n",
       "      <td>34.188025</td>\n",
       "      <td>17.157393</td>\n",
       "      <td>3.658506</td>\n",
       "      <td>361.796180</td>\n",
       "      <td>NaN</td>\n",
       "      <td>Al</td>\n",
       "      <td>yes</td>\n",
       "      <td>normal</td>\n",
       "      <td>2018-10-04 18:45:29</td>\n",
       "      <td>2018-10-04 23:20:38</td>\n",
       "      <td>0</td>\n",
       "    </tr>\n",
       "    <tr>\n",
       "      <th>3</th>\n",
       "      <td>2304</td>\n",
       "      <td>Brett Rosario</td>\n",
       "      <td>4.056764</td>\n",
       "      <td>37.462768</td>\n",
       "      <td>13.275961</td>\n",
       "      <td>6.666983</td>\n",
       "      <td>402.016494</td>\n",
       "      <td>NaN</td>\n",
       "      <td>Ca</td>\n",
       "      <td>no</td>\n",
       "      <td>normal</td>\n",
       "      <td>2018-10-03 08:03:36</td>\n",
       "      <td>2018-10-03 10:56:40</td>\n",
       "      <td>0</td>\n",
       "    </tr>\n",
       "    <tr>\n",
       "      <th>4</th>\n",
       "      <td>1911</td>\n",
       "      <td>Craig Thompson</td>\n",
       "      <td>53.271676</td>\n",
       "      <td>31.425482</td>\n",
       "      <td>17.433458</td>\n",
       "      <td>1.940748</td>\n",
       "      <td>978.383654</td>\n",
       "      <td>NaN</td>\n",
       "      <td>Si</td>\n",
       "      <td>no</td>\n",
       "      <td>poor</td>\n",
       "      <td>2018-07-20 09:27:34</td>\n",
       "      <td>2018-07-20 13:48:30</td>\n",
       "      <td>0</td>\n",
       "    </tr>\n",
       "    <tr>\n",
       "      <th>5</th>\n",
       "      <td>4733</td>\n",
       "      <td>Stacy Elliott</td>\n",
       "      <td>5.446522</td>\n",
       "      <td>31.946289</td>\n",
       "      <td>14.820124</td>\n",
       "      <td>1.531663</td>\n",
       "      <td>775.368114</td>\n",
       "      <td>NaN</td>\n",
       "      <td>Ca</td>\n",
       "      <td>yes</td>\n",
       "      <td>rich</td>\n",
       "      <td>2017-08-06 14:23:51</td>\n",
       "      <td>2017-08-06 19:20:46</td>\n",
       "      <td>1</td>\n",
       "    </tr>\n",
       "    <tr>\n",
       "      <th>6</th>\n",
       "      <td>1597</td>\n",
       "      <td>Scott Morris</td>\n",
       "      <td>4.986124</td>\n",
       "      <td>28.368372</td>\n",
       "      <td>19.055275</td>\n",
       "      <td>1.095355</td>\n",
       "      <td>806.166614</td>\n",
       "      <td>NaN</td>\n",
       "      <td>Si</td>\n",
       "      <td>yes</td>\n",
       "      <td>poor</td>\n",
       "      <td>2018-03-19 10:47:24</td>\n",
       "      <td>2018-03-19 12:12:49</td>\n",
       "      <td>0</td>\n",
       "    </tr>\n",
       "    <tr>\n",
       "      <th>7</th>\n",
       "      <td>1258</td>\n",
       "      <td>Denise Duffy</td>\n",
       "      <td>19.539513</td>\n",
       "      <td>39.871162</td>\n",
       "      <td>16.362313</td>\n",
       "      <td>0.488977</td>\n",
       "      <td>388.962889</td>\n",
       "      <td>NaN</td>\n",
       "      <td>Na</td>\n",
       "      <td>yes</td>\n",
       "      <td>normal</td>\n",
       "      <td>2018-09-14 10:32:44</td>\n",
       "      <td>2018-09-14 13:14:49</td>\n",
       "      <td>1</td>\n",
       "    </tr>\n",
       "    <tr>\n",
       "      <th>8</th>\n",
       "      <td>6526</td>\n",
       "      <td>Casey Rivera</td>\n",
       "      <td>45.656502</td>\n",
       "      <td>33.024977</td>\n",
       "      <td>15.167387</td>\n",
       "      <td>1.579964</td>\n",
       "      <td>405.198078</td>\n",
       "      <td>NaN</td>\n",
       "      <td>C</td>\n",
       "      <td>no</td>\n",
       "      <td>normal</td>\n",
       "      <td>2018-08-15 06:06:40</td>\n",
       "      <td>2018-08-15 10:15:31</td>\n",
       "      <td>0</td>\n",
       "    </tr>\n",
       "    <tr>\n",
       "      <th>9</th>\n",
       "      <td>331</td>\n",
       "      <td>Christopher Sullivan</td>\n",
       "      <td>20.629855</td>\n",
       "      <td>38.786551</td>\n",
       "      <td>16.189421</td>\n",
       "      <td>3.075686</td>\n",
       "      <td>528.724173</td>\n",
       "      <td>NaN</td>\n",
       "      <td>Ca</td>\n",
       "      <td>NaN</td>\n",
       "      <td>normal</td>\n",
       "      <td>2018-03-04 02:13:01</td>\n",
       "      <td>2018-03-04 03:23:59</td>\n",
       "      <td>1</td>\n",
       "    </tr>\n",
       "    <tr>\n",
       "      <th>10</th>\n",
       "      <td>8930</td>\n",
       "      <td>Alexandra Escobar</td>\n",
       "      <td>1.829298</td>\n",
       "      <td>27.879553</td>\n",
       "      <td>13.799630</td>\n",
       "      <td>0.654677</td>\n",
       "      <td>581.532113</td>\n",
       "      <td>NaN</td>\n",
       "      <td>Si</td>\n",
       "      <td>yes</td>\n",
       "      <td>normal</td>\n",
       "      <td>2018-11-07 08:19:14</td>\n",
       "      <td>2018-11-07 09:53:55</td>\n",
       "      <td>0</td>\n",
       "    </tr>\n",
       "    <tr>\n",
       "      <th>11</th>\n",
       "      <td>5446</td>\n",
       "      <td>Christopher Garcia</td>\n",
       "      <td>20.664878</td>\n",
       "      <td>18.716775</td>\n",
       "      <td>20.517609</td>\n",
       "      <td>0.667021</td>\n",
       "      <td>378.576203</td>\n",
       "      <td>NaN</td>\n",
       "      <td>Na</td>\n",
       "      <td>no</td>\n",
       "      <td>poor</td>\n",
       "      <td>2018-12-22 05:07:18</td>\n",
       "      <td>2018-12-22 07:18:54</td>\n",
       "      <td>1</td>\n",
       "    </tr>\n",
       "    <tr>\n",
       "      <th>12</th>\n",
       "      <td>344</td>\n",
       "      <td>Ronnie Bradshaw</td>\n",
       "      <td>23.210142</td>\n",
       "      <td>46.035505</td>\n",
       "      <td>19.777019</td>\n",
       "      <td>2.870648</td>\n",
       "      <td>211.201244</td>\n",
       "      <td>NaN</td>\n",
       "      <td>Ca</td>\n",
       "      <td>NaN</td>\n",
       "      <td>normal</td>\n",
       "      <td>2018-01-18 16:33:53</td>\n",
       "      <td>2018-01-18 19:08:49</td>\n",
       "      <td>0</td>\n",
       "    </tr>\n",
       "    <tr>\n",
       "      <th>13</th>\n",
       "      <td>4494</td>\n",
       "      <td>Alan Wood</td>\n",
       "      <td>48.732732</td>\n",
       "      <td>23.351928</td>\n",
       "      <td>17.153110</td>\n",
       "      <td>3.363983</td>\n",
       "      <td>816.254947</td>\n",
       "      <td>NaN</td>\n",
       "      <td>C</td>\n",
       "      <td>NaN</td>\n",
       "      <td>poor</td>\n",
       "      <td>2017-08-07 16:06:24</td>\n",
       "      <td>2017-08-07 18:38:48</td>\n",
       "      <td>0</td>\n",
       "    </tr>\n",
       "    <tr>\n",
       "      <th>14</th>\n",
       "      <td>9264</td>\n",
       "      <td>Matthew Casey</td>\n",
       "      <td>4.155507</td>\n",
       "      <td>36.761459</td>\n",
       "      <td>20.300944</td>\n",
       "      <td>1.500225</td>\n",
       "      <td>1181.783523</td>\n",
       "      <td>NaN</td>\n",
       "      <td>Na</td>\n",
       "      <td>NaN</td>\n",
       "      <td>normal</td>\n",
       "      <td>2017-11-09 02:32:32</td>\n",
       "      <td>2017-11-09 07:02:11</td>\n",
       "      <td>1</td>\n",
       "    </tr>\n",
       "    <tr>\n",
       "      <th>15</th>\n",
       "      <td>7020</td>\n",
       "      <td>Erin Alvarez</td>\n",
       "      <td>20.561856</td>\n",
       "      <td>45.843531</td>\n",
       "      <td>18.565287</td>\n",
       "      <td>8.056528</td>\n",
       "      <td>564.605047</td>\n",
       "      <td>NaN</td>\n",
       "      <td>Na</td>\n",
       "      <td>no</td>\n",
       "      <td>poor</td>\n",
       "      <td>2018-06-30 21:20:40</td>\n",
       "      <td>2018-06-30 22:25:26</td>\n",
       "      <td>0</td>\n",
       "    </tr>\n",
       "    <tr>\n",
       "      <th>16</th>\n",
       "      <td>5545</td>\n",
       "      <td>Joshua Chandler</td>\n",
       "      <td>24.956048</td>\n",
       "      <td>29.991609</td>\n",
       "      <td>18.687492</td>\n",
       "      <td>1.622977</td>\n",
       "      <td>907.324802</td>\n",
       "      <td>NaN</td>\n",
       "      <td>Al</td>\n",
       "      <td>NaN</td>\n",
       "      <td>normal</td>\n",
       "      <td>2018-01-22 15:13:39</td>\n",
       "      <td>2018-01-22 16:54:07</td>\n",
       "      <td>0</td>\n",
       "    </tr>\n",
       "    <tr>\n",
       "      <th>17</th>\n",
       "      <td>7677</td>\n",
       "      <td>Trevor Green</td>\n",
       "      <td>44.435801</td>\n",
       "      <td>25.146919</td>\n",
       "      <td>17.812419</td>\n",
       "      <td>5.259613</td>\n",
       "      <td>288.498419</td>\n",
       "      <td>NaN</td>\n",
       "      <td>O</td>\n",
       "      <td>no</td>\n",
       "      <td>normal</td>\n",
       "      <td>2018-04-01 17:23:31</td>\n",
       "      <td>2018-04-01 21:18:55</td>\n",
       "      <td>1</td>\n",
       "    </tr>\n",
       "    <tr>\n",
       "      <th>18</th>\n",
       "      <td>8671</td>\n",
       "      <td>Julie Weaver</td>\n",
       "      <td>71.505253</td>\n",
       "      <td>17.055479</td>\n",
       "      <td>15.875124</td>\n",
       "      <td>2.646964</td>\n",
       "      <td>776.283392</td>\n",
       "      <td>NaN</td>\n",
       "      <td>Ca</td>\n",
       "      <td>NaN</td>\n",
       "      <td>normal</td>\n",
       "      <td>2017-12-24 20:14:26</td>\n",
       "      <td>2017-12-24 21:16:39</td>\n",
       "      <td>0</td>\n",
       "    </tr>\n",
       "    <tr>\n",
       "      <th>19</th>\n",
       "      <td>6047</td>\n",
       "      <td>Eileen Taylor</td>\n",
       "      <td>36.646794</td>\n",
       "      <td>33.616622</td>\n",
       "      <td>18.616787</td>\n",
       "      <td>5.189759</td>\n",
       "      <td>365.759900</td>\n",
       "      <td>NaN</td>\n",
       "      <td>Na</td>\n",
       "      <td>no</td>\n",
       "      <td>normal</td>\n",
       "      <td>2018-11-04 11:21:08</td>\n",
       "      <td>2018-11-04 13:24:00</td>\n",
       "      <td>1</td>\n",
       "    </tr>\n",
       "  </tbody>\n",
       "</table>\n",
       "</div>"
      ],
      "text/plain": [
       "      id             scientist  measure_index  measure_moisture  \\\n",
       "0    493         Kathryn Owens       1.875085         24.442232   \n",
       "1   2340          Andrea Pratt       7.658911         30.121175   \n",
       "2   5434       Kaitlyn Jackson      18.000212         34.188025   \n",
       "3   2304         Brett Rosario       4.056764         37.462768   \n",
       "4   1911        Craig Thompson      53.271676         31.425482   \n",
       "5   4733         Stacy Elliott       5.446522         31.946289   \n",
       "6   1597          Scott Morris       4.986124         28.368372   \n",
       "7   1258          Denise Duffy      19.539513         39.871162   \n",
       "8   6526          Casey Rivera      45.656502         33.024977   \n",
       "9    331  Christopher Sullivan      20.629855         38.786551   \n",
       "10  8930     Alexandra Escobar       1.829298         27.879553   \n",
       "11  5446    Christopher Garcia      20.664878         18.716775   \n",
       "12   344       Ronnie Bradshaw      23.210142         46.035505   \n",
       "13  4494             Alan Wood      48.732732         23.351928   \n",
       "14  9264         Matthew Casey       4.155507         36.761459   \n",
       "15  7020          Erin Alvarez      20.561856         45.843531   \n",
       "16  5545       Joshua Chandler      24.956048         29.991609   \n",
       "17  7677          Trevor Green      44.435801         25.146919   \n",
       "18  8671          Julie Weaver      71.505253         17.055479   \n",
       "19  6047         Eileen Taylor      36.646794         33.616622   \n",
       "\n",
       "    measure_temperature  measure_chemicals  measure_biodiversity  \\\n",
       "0             18.510316           5.715697            521.074105   \n",
       "1             17.050250           1.973804            314.443474   \n",
       "2             17.157393           3.658506            361.796180   \n",
       "3             13.275961           6.666983            402.016494   \n",
       "4             17.433458           1.940748            978.383654   \n",
       "5             14.820124           1.531663            775.368114   \n",
       "6             19.055275           1.095355            806.166614   \n",
       "7             16.362313           0.488977            388.962889   \n",
       "8             15.167387           1.579964            405.198078   \n",
       "9             16.189421           3.075686            528.724173   \n",
       "10            13.799630           0.654677            581.532113   \n",
       "11            20.517609           0.667021            378.576203   \n",
       "12            19.777019           2.870648            211.201244   \n",
       "13            17.153110           3.363983            816.254947   \n",
       "14            20.300944           1.500225           1181.783523   \n",
       "15            18.565287           8.056528            564.605047   \n",
       "16            18.687492           1.622977            907.324802   \n",
       "17            17.812419           5.259613            288.498419   \n",
       "18            15.875124           2.646964            776.283392   \n",
       "19            18.616787           5.189759            365.759900   \n",
       "\n",
       "    measure_flora main_element past_agriculture soil_condition  \\\n",
       "0             NaN           Na              yes         normal   \n",
       "1             NaN           Ca               no           rich   \n",
       "2             NaN           Al              yes         normal   \n",
       "3             NaN           Ca               no         normal   \n",
       "4             NaN           Si               no           poor   \n",
       "5             NaN           Ca              yes           rich   \n",
       "6             NaN           Si              yes           poor   \n",
       "7             NaN           Na              yes         normal   \n",
       "8             NaN            C               no         normal   \n",
       "9             NaN           Ca              NaN         normal   \n",
       "10            NaN           Si              yes         normal   \n",
       "11            NaN           Na               no           poor   \n",
       "12            NaN           Ca              NaN         normal   \n",
       "13            NaN            C              NaN           poor   \n",
       "14            NaN           Na              NaN         normal   \n",
       "15            NaN           Na               no           poor   \n",
       "16            NaN           Al              NaN         normal   \n",
       "17            NaN            O               no         normal   \n",
       "18            NaN           Ca              NaN         normal   \n",
       "19            NaN           Na               no         normal   \n",
       "\n",
       "         datetime_start         datetime_end  target  \n",
       "0   2017-06-27 16:53:42  2017-06-27 20:05:36       1  \n",
       "1   2018-12-10 07:06:56  2018-12-10 11:43:29       1  \n",
       "2   2018-10-04 18:45:29  2018-10-04 23:20:38       0  \n",
       "3   2018-10-03 08:03:36  2018-10-03 10:56:40       0  \n",
       "4   2018-07-20 09:27:34  2018-07-20 13:48:30       0  \n",
       "5   2017-08-06 14:23:51  2017-08-06 19:20:46       1  \n",
       "6   2018-03-19 10:47:24  2018-03-19 12:12:49       0  \n",
       "7   2018-09-14 10:32:44  2018-09-14 13:14:49       1  \n",
       "8   2018-08-15 06:06:40  2018-08-15 10:15:31       0  \n",
       "9   2018-03-04 02:13:01  2018-03-04 03:23:59       1  \n",
       "10  2018-11-07 08:19:14  2018-11-07 09:53:55       0  \n",
       "11  2018-12-22 05:07:18  2018-12-22 07:18:54       1  \n",
       "12  2018-01-18 16:33:53  2018-01-18 19:08:49       0  \n",
       "13  2017-08-07 16:06:24  2017-08-07 18:38:48       0  \n",
       "14  2017-11-09 02:32:32  2017-11-09 07:02:11       1  \n",
       "15  2018-06-30 21:20:40  2018-06-30 22:25:26       0  \n",
       "16  2018-01-22 15:13:39  2018-01-22 16:54:07       0  \n",
       "17  2018-04-01 17:23:31  2018-04-01 21:18:55       1  \n",
       "18  2017-12-24 20:14:26  2017-12-24 21:16:39       0  \n",
       "19  2018-11-04 11:21:08  2018-11-04 13:24:00       1  "
      ]
     },
     "execution_count": 1,
     "metadata": {},
     "output_type": "execute_result"
    }
   ],
   "source": [
    "import pandas as pd\n",
    "import numpy as np\n",
    "url = \"https://wagon-public-datasets.s3.amazonaws.com/certification/soils_viability/soils_viability_train.csv\"\n",
    "df = pd.read_csv(url)\n",
    "df.head(20)"
   ]
  },
  {
   "cell_type": "code",
   "execution_count": 2,
   "metadata": {
    "colab": {
     "base_uri": "https://localhost:8080/"
    },
    "id": "58WwLmb7B8N7",
    "outputId": "2479c01f-df6f-45af-81d3-85a196fb9dab"
   },
   "outputs": [
    {
     "data": {
      "text/plain": [
       "id                         0\n",
       "scientist                  0\n",
       "measure_index              0\n",
       "measure_moisture           7\n",
       "measure_temperature       17\n",
       "measure_chemicals         18\n",
       "measure_biodiversity      18\n",
       "measure_flora           8224\n",
       "main_element               0\n",
       "past_agriculture        3347\n",
       "soil_condition             0\n",
       "datetime_start             0\n",
       "datetime_end               0\n",
       "target                     0\n",
       "dtype: int64"
      ]
     },
     "execution_count": 2,
     "metadata": {},
     "output_type": "execute_result"
    }
   ],
   "source": [
    "df.isna().sum()"
   ]
  },
  {
   "cell_type": "markdown",
   "metadata": {
    "ExecuteTime": {
     "end_time": "2021-08-26T15:16:16.968282Z",
     "start_time": "2021-08-26T15:16:16.912761Z"
    },
    "id": "BeQMGfCjB8N8"
   },
   "source": [
    "**📝 Clean the dataset and store the resulting dataset in the `data` variable:**"
   ]
  },
  {
   "cell_type": "code",
   "execution_count": 3,
   "metadata": {
    "ExecuteTime": {
     "end_time": "2021-09-09T15:39:40.500340Z",
     "start_time": "2021-09-09T15:39:40.463560Z"
    },
    "colab": {
     "base_uri": "https://localhost:8080/",
     "height": 617
    },
    "id": "7VfSli_1B8N8",
    "outputId": "10454dfe-5413-4447-899b-cd8a333964ff",
    "tags": [
     "challengify"
    ]
   },
   "outputs": [
    {
     "name": "stderr",
     "output_type": "stream",
     "text": [
      "C:\\Users\\avitr\\AppData\\Local\\Temp\\ipykernel_19968\\3178461456.py:4: FutureWarning: A value is trying to be set on a copy of a DataFrame or Series through chained assignment using an inplace method.\n",
      "The behavior will change in pandas 3.0. This inplace method will never work because the intermediate object on which we are setting values always behaves as a copy.\n",
      "\n",
      "For example, when doing 'df[col].method(value, inplace=True)', try using 'df.method({col: value}, inplace=True)' or df[col] = df[col].method(value) instead, to perform the operation inplace on the original object.\n",
      "\n",
      "\n",
      "  df[column].fillna(df[column].median(), inplace=True)\n",
      "C:\\Users\\avitr\\AppData\\Local\\Temp\\ipykernel_19968\\3178461456.py:4: FutureWarning: A value is trying to be set on a copy of a DataFrame or Series through chained assignment using an inplace method.\n",
      "The behavior will change in pandas 3.0. This inplace method will never work because the intermediate object on which we are setting values always behaves as a copy.\n",
      "\n",
      "For example, when doing 'df[col].method(value, inplace=True)', try using 'df.method({col: value}, inplace=True)' or df[col] = df[col].method(value) instead, to perform the operation inplace on the original object.\n",
      "\n",
      "\n",
      "  df[column].fillna(df[column].median(), inplace=True)\n",
      "C:\\Users\\avitr\\AppData\\Local\\Temp\\ipykernel_19968\\3178461456.py:4: FutureWarning: A value is trying to be set on a copy of a DataFrame or Series through chained assignment using an inplace method.\n",
      "The behavior will change in pandas 3.0. This inplace method will never work because the intermediate object on which we are setting values always behaves as a copy.\n",
      "\n",
      "For example, when doing 'df[col].method(value, inplace=True)', try using 'df.method({col: value}, inplace=True)' or df[col] = df[col].method(value) instead, to perform the operation inplace on the original object.\n",
      "\n",
      "\n",
      "  df[column].fillna(df[column].median(), inplace=True)\n",
      "C:\\Users\\avitr\\AppData\\Local\\Temp\\ipykernel_19968\\3178461456.py:4: FutureWarning: A value is trying to be set on a copy of a DataFrame or Series through chained assignment using an inplace method.\n",
      "The behavior will change in pandas 3.0. This inplace method will never work because the intermediate object on which we are setting values always behaves as a copy.\n",
      "\n",
      "For example, when doing 'df[col].method(value, inplace=True)', try using 'df.method({col: value}, inplace=True)' or df[col] = df[col].method(value) instead, to perform the operation inplace on the original object.\n",
      "\n",
      "\n",
      "  df[column].fillna(df[column].median(), inplace=True)\n",
      "C:\\Users\\avitr\\AppData\\Local\\Temp\\ipykernel_19968\\3178461456.py:5: FutureWarning: A value is trying to be set on a copy of a DataFrame or Series through chained assignment using an inplace method.\n",
      "The behavior will change in pandas 3.0. This inplace method will never work because the intermediate object on which we are setting values always behaves as a copy.\n",
      "\n",
      "For example, when doing 'df[col].method(value, inplace=True)', try using 'df.method({col: value}, inplace=True)' or df[col] = df[col].method(value) instead, to perform the operation inplace on the original object.\n",
      "\n",
      "\n",
      "  df['past_agriculture'].fillna(df['past_agriculture'].mode()[0], inplace=True)\n"
     ]
    },
    {
     "data": {
      "text/html": [
       "<div>\n",
       "<style scoped>\n",
       "    .dataframe tbody tr th:only-of-type {\n",
       "        vertical-align: middle;\n",
       "    }\n",
       "\n",
       "    .dataframe tbody tr th {\n",
       "        vertical-align: top;\n",
       "    }\n",
       "\n",
       "    .dataframe thead th {\n",
       "        text-align: right;\n",
       "    }\n",
       "</style>\n",
       "<table border=\"1\" class=\"dataframe\">\n",
       "  <thead>\n",
       "    <tr style=\"text-align: right;\">\n",
       "      <th></th>\n",
       "      <th>id</th>\n",
       "      <th>scientist</th>\n",
       "      <th>measure_index</th>\n",
       "      <th>measure_moisture</th>\n",
       "      <th>measure_temperature</th>\n",
       "      <th>measure_chemicals</th>\n",
       "      <th>measure_biodiversity</th>\n",
       "      <th>main_element</th>\n",
       "      <th>past_agriculture</th>\n",
       "      <th>soil_condition</th>\n",
       "      <th>datetime_start</th>\n",
       "      <th>datetime_end</th>\n",
       "      <th>target</th>\n",
       "    </tr>\n",
       "  </thead>\n",
       "  <tbody>\n",
       "    <tr>\n",
       "      <th>0</th>\n",
       "      <td>493</td>\n",
       "      <td>Kathryn Owens</td>\n",
       "      <td>1.875085</td>\n",
       "      <td>24.442232</td>\n",
       "      <td>18.510316</td>\n",
       "      <td>5.715697</td>\n",
       "      <td>521.074105</td>\n",
       "      <td>Na</td>\n",
       "      <td>yes</td>\n",
       "      <td>normal</td>\n",
       "      <td>2017-06-27 16:53:42</td>\n",
       "      <td>2017-06-27 20:05:36</td>\n",
       "      <td>1</td>\n",
       "    </tr>\n",
       "    <tr>\n",
       "      <th>1</th>\n",
       "      <td>2340</td>\n",
       "      <td>Andrea Pratt</td>\n",
       "      <td>7.658911</td>\n",
       "      <td>30.121175</td>\n",
       "      <td>17.050250</td>\n",
       "      <td>1.973804</td>\n",
       "      <td>314.443474</td>\n",
       "      <td>Ca</td>\n",
       "      <td>no</td>\n",
       "      <td>rich</td>\n",
       "      <td>2018-12-10 07:06:56</td>\n",
       "      <td>2018-12-10 11:43:29</td>\n",
       "      <td>1</td>\n",
       "    </tr>\n",
       "    <tr>\n",
       "      <th>2</th>\n",
       "      <td>5434</td>\n",
       "      <td>Kaitlyn Jackson</td>\n",
       "      <td>18.000212</td>\n",
       "      <td>34.188025</td>\n",
       "      <td>17.157393</td>\n",
       "      <td>3.658506</td>\n",
       "      <td>361.796180</td>\n",
       "      <td>Al</td>\n",
       "      <td>yes</td>\n",
       "      <td>normal</td>\n",
       "      <td>2018-10-04 18:45:29</td>\n",
       "      <td>2018-10-04 23:20:38</td>\n",
       "      <td>0</td>\n",
       "    </tr>\n",
       "    <tr>\n",
       "      <th>3</th>\n",
       "      <td>2304</td>\n",
       "      <td>Brett Rosario</td>\n",
       "      <td>4.056764</td>\n",
       "      <td>37.462768</td>\n",
       "      <td>13.275961</td>\n",
       "      <td>6.666983</td>\n",
       "      <td>402.016494</td>\n",
       "      <td>Ca</td>\n",
       "      <td>no</td>\n",
       "      <td>normal</td>\n",
       "      <td>2018-10-03 08:03:36</td>\n",
       "      <td>2018-10-03 10:56:40</td>\n",
       "      <td>0</td>\n",
       "    </tr>\n",
       "    <tr>\n",
       "      <th>4</th>\n",
       "      <td>1911</td>\n",
       "      <td>Craig Thompson</td>\n",
       "      <td>53.271676</td>\n",
       "      <td>31.425482</td>\n",
       "      <td>17.433458</td>\n",
       "      <td>1.940748</td>\n",
       "      <td>978.383654</td>\n",
       "      <td>Si</td>\n",
       "      <td>no</td>\n",
       "      <td>poor</td>\n",
       "      <td>2018-07-20 09:27:34</td>\n",
       "      <td>2018-07-20 13:48:30</td>\n",
       "      <td>0</td>\n",
       "    </tr>\n",
       "    <tr>\n",
       "      <th>...</th>\n",
       "      <td>...</td>\n",
       "      <td>...</td>\n",
       "      <td>...</td>\n",
       "      <td>...</td>\n",
       "      <td>...</td>\n",
       "      <td>...</td>\n",
       "      <td>...</td>\n",
       "      <td>...</td>\n",
       "      <td>...</td>\n",
       "      <td>...</td>\n",
       "      <td>...</td>\n",
       "      <td>...</td>\n",
       "      <td>...</td>\n",
       "    </tr>\n",
       "    <tr>\n",
       "      <th>8297</th>\n",
       "      <td>6275</td>\n",
       "      <td>James Carter</td>\n",
       "      <td>6.616369</td>\n",
       "      <td>999.000000</td>\n",
       "      <td>17.283441</td>\n",
       "      <td>7.693774</td>\n",
       "      <td>683.214251</td>\n",
       "      <td>Al</td>\n",
       "      <td>no</td>\n",
       "      <td>poor</td>\n",
       "      <td>2017-04-23 04:10:57</td>\n",
       "      <td>2017-04-23 06:11:58</td>\n",
       "      <td>0</td>\n",
       "    </tr>\n",
       "    <tr>\n",
       "      <th>8298</th>\n",
       "      <td>9851</td>\n",
       "      <td>Benjamin Rodriguez</td>\n",
       "      <td>23.578767</td>\n",
       "      <td>999.000000</td>\n",
       "      <td>18.456903</td>\n",
       "      <td>1.009824</td>\n",
       "      <td>313.740816</td>\n",
       "      <td>O</td>\n",
       "      <td>no</td>\n",
       "      <td>rich</td>\n",
       "      <td>2017-07-21 16:57:54</td>\n",
       "      <td>2017-07-21 20:30:17</td>\n",
       "      <td>1</td>\n",
       "    </tr>\n",
       "    <tr>\n",
       "      <th>8299</th>\n",
       "      <td>1453</td>\n",
       "      <td>Colin Baxter</td>\n",
       "      <td>9.967761</td>\n",
       "      <td>999.000000</td>\n",
       "      <td>14.949271</td>\n",
       "      <td>3.484480</td>\n",
       "      <td>370.533784</td>\n",
       "      <td>O</td>\n",
       "      <td>no</td>\n",
       "      <td>rich</td>\n",
       "      <td>2017-01-07 04:00:02</td>\n",
       "      <td>2017-01-07 06:26:16</td>\n",
       "      <td>1</td>\n",
       "    </tr>\n",
       "    <tr>\n",
       "      <th>8300</th>\n",
       "      <td>4265</td>\n",
       "      <td>Christina Ortega</td>\n",
       "      <td>5.195543</td>\n",
       "      <td>999.000000</td>\n",
       "      <td>21.811990</td>\n",
       "      <td>2.261112</td>\n",
       "      <td>403.970941</td>\n",
       "      <td>Si</td>\n",
       "      <td>no</td>\n",
       "      <td>poor</td>\n",
       "      <td>2018-12-12 10:12:04</td>\n",
       "      <td>2018-12-12 13:02:11</td>\n",
       "      <td>0</td>\n",
       "    </tr>\n",
       "    <tr>\n",
       "      <th>8301</th>\n",
       "      <td>8906</td>\n",
       "      <td>Shawn Campbell</td>\n",
       "      <td>4.525789</td>\n",
       "      <td>999.000000</td>\n",
       "      <td>19.170774</td>\n",
       "      <td>1.409303</td>\n",
       "      <td>452.556674</td>\n",
       "      <td>K</td>\n",
       "      <td>no</td>\n",
       "      <td>normal</td>\n",
       "      <td>2017-05-02 03:18:48</td>\n",
       "      <td>2017-05-02 08:05:03</td>\n",
       "      <td>1</td>\n",
       "    </tr>\n",
       "  </tbody>\n",
       "</table>\n",
       "<p>8302 rows × 13 columns</p>\n",
       "</div>"
      ],
      "text/plain": [
       "        id           scientist  measure_index  measure_moisture  \\\n",
       "0      493       Kathryn Owens       1.875085         24.442232   \n",
       "1     2340        Andrea Pratt       7.658911         30.121175   \n",
       "2     5434     Kaitlyn Jackson      18.000212         34.188025   \n",
       "3     2304       Brett Rosario       4.056764         37.462768   \n",
       "4     1911      Craig Thompson      53.271676         31.425482   \n",
       "...    ...                 ...            ...               ...   \n",
       "8297  6275        James Carter       6.616369        999.000000   \n",
       "8298  9851  Benjamin Rodriguez      23.578767        999.000000   \n",
       "8299  1453        Colin Baxter       9.967761        999.000000   \n",
       "8300  4265    Christina Ortega       5.195543        999.000000   \n",
       "8301  8906      Shawn Campbell       4.525789        999.000000   \n",
       "\n",
       "      measure_temperature  measure_chemicals  measure_biodiversity  \\\n",
       "0               18.510316           5.715697            521.074105   \n",
       "1               17.050250           1.973804            314.443474   \n",
       "2               17.157393           3.658506            361.796180   \n",
       "3               13.275961           6.666983            402.016494   \n",
       "4               17.433458           1.940748            978.383654   \n",
       "...                   ...                ...                   ...   \n",
       "8297            17.283441           7.693774            683.214251   \n",
       "8298            18.456903           1.009824            313.740816   \n",
       "8299            14.949271           3.484480            370.533784   \n",
       "8300            21.811990           2.261112            403.970941   \n",
       "8301            19.170774           1.409303            452.556674   \n",
       "\n",
       "     main_element past_agriculture soil_condition      datetime_start  \\\n",
       "0              Na              yes         normal 2017-06-27 16:53:42   \n",
       "1              Ca               no           rich 2018-12-10 07:06:56   \n",
       "2              Al              yes         normal 2018-10-04 18:45:29   \n",
       "3              Ca               no         normal 2018-10-03 08:03:36   \n",
       "4              Si               no           poor 2018-07-20 09:27:34   \n",
       "...           ...              ...            ...                 ...   \n",
       "8297           Al               no           poor 2017-04-23 04:10:57   \n",
       "8298            O               no           rich 2017-07-21 16:57:54   \n",
       "8299            O               no           rich 2017-01-07 04:00:02   \n",
       "8300           Si               no           poor 2018-12-12 10:12:04   \n",
       "8301            K               no         normal 2017-05-02 03:18:48   \n",
       "\n",
       "            datetime_end  target  \n",
       "0    2017-06-27 20:05:36       1  \n",
       "1    2018-12-10 11:43:29       1  \n",
       "2    2018-10-04 23:20:38       0  \n",
       "3    2018-10-03 10:56:40       0  \n",
       "4    2018-07-20 13:48:30       0  \n",
       "...                  ...     ...  \n",
       "8297 2017-04-23 06:11:58       0  \n",
       "8298 2017-07-21 20:30:17       1  \n",
       "8299 2017-01-07 06:26:16       1  \n",
       "8300 2018-12-12 13:02:11       0  \n",
       "8301 2017-05-02 08:05:03       1  \n",
       "\n",
       "[8302 rows x 13 columns]"
      ]
     },
     "execution_count": 3,
     "metadata": {},
     "output_type": "execute_result"
    }
   ],
   "source": [
    "df.drop(columns='measure_flora', inplace=True)\n",
    "columns_to_fill = ['measure_moisture', 'measure_temperature', 'measure_chemicals', 'measure_biodiversity']\n",
    "for column in columns_to_fill:\n",
    "    df[column].fillna(df[column].median(), inplace=True)\n",
    "df['past_agriculture'].fillna(df['past_agriculture'].mode()[0], inplace=True)\n",
    "df['datetime_start'] = pd.to_datetime(df['datetime_start'])\n",
    "df['datetime_end'] = pd.to_datetime(df['datetime_end'])\n",
    "\n",
    "data = df\n",
    "data"
   ]
  },
  {
   "cell_type": "code",
   "execution_count": 4,
   "metadata": {
    "colab": {
     "base_uri": "https://localhost:8080/"
    },
    "id": "-8fbyTSHB8N8",
    "outputId": "b938b6c0-0a62-4a4d-89a6-a14569f6ac16"
   },
   "outputs": [
    {
     "data": {
      "text/plain": [
       "id                      0\n",
       "scientist               0\n",
       "measure_index           0\n",
       "measure_moisture        0\n",
       "measure_temperature     0\n",
       "measure_chemicals       0\n",
       "measure_biodiversity    0\n",
       "main_element            0\n",
       "past_agriculture        0\n",
       "soil_condition          0\n",
       "datetime_start          0\n",
       "datetime_end            0\n",
       "target                  0\n",
       "dtype: int64"
      ]
     },
     "execution_count": 4,
     "metadata": {},
     "output_type": "execute_result"
    }
   ],
   "source": [
    "data.isna().sum()"
   ]
  },
  {
   "cell_type": "markdown",
   "metadata": {
    "id": "pZWkwHqfB8N9"
   },
   "source": [
    "### 💾 Save your results\n",
    "\n",
    "Run the cell below to save your results."
   ]
  },
  {
   "cell_type": "code",
   "execution_count": 7,
   "metadata": {
    "id": "UuWt_HHWCSIB"
   },
   "outputs": [],
   "source": [
    "# pip install nbresult"
   ]
  },
  {
   "cell_type": "code",
   "execution_count": 5,
   "metadata": {
    "id": "8E2PqmRoB8N9"
   },
   "outputs": [],
   "source": [
    "# from nbresult import ChallengeResult\n",
    "# results = ChallengeResult(\n",
    "#     \"data_cleaning\",\n",
    "#     columns=data.columns,\n",
    "#     shape=data.shape,\n",
    "#     samples=data.loc[7000:,:]\n",
    "# )\n",
    "# results.write()"
   ]
  },
  {
   "cell_type": "markdown",
   "metadata": {
    "id": "FanmYGmTB8N9"
   },
   "source": [
    "## Target, Baseline & Metrics"
   ]
  },
  {
   "cell_type": "markdown",
   "metadata": {
    "id": "nOon-aPLB8N9"
   },
   "source": [
    "*C9 - Entraîner un modèle d'apprentissage supervisé pour optimiser une fonction de prédiction à partir d'exemples annotées (50%)*"
   ]
  },
  {
   "cell_type": "markdown",
   "metadata": {
    "ExecuteTime": {
     "end_time": "2021-08-26T09:51:04.532853Z",
     "start_time": "2021-08-26T09:51:04.520413Z"
    },
    "id": "KG-RWndqB8N9"
   },
   "source": [
    "**📝 Check the number of target classes and their repartition.**"
   ]
  },
  {
   "cell_type": "code",
   "execution_count": 6,
   "metadata": {
    "colab": {
     "base_uri": "https://localhost:8080/"
    },
    "id": "2n8Aew8vB8N9",
    "outputId": "38102774-1260-4792-ace9-d83d4b6ee7c0"
   },
   "outputs": [
    {
     "name": "stdout",
     "output_type": "stream",
     "text": [
      "target\n",
      "1    0.502168\n",
      "0    0.497832\n",
      "Name: proportion, dtype: float64\n"
     ]
    }
   ],
   "source": [
    "target_classes_repartition = data['target'].value_counts(normalize=True)\n",
    "\n",
    "print(target_classes_repartition)"
   ]
  },
  {
   "cell_type": "code",
   "execution_count": 7,
   "metadata": {
    "ExecuteTime": {
     "end_time": "2021-09-09T15:39:41.810088Z",
     "start_time": "2021-09-09T15:39:41.778859Z"
    },
    "colab": {
     "base_uri": "https://localhost:8080/"
    },
    "id": "QzOQQpIdB8N9",
    "outputId": "a45a9112-76fe-4eb6-d34b-601739f2615a",
    "tags": [
     "challengify"
    ]
   },
   "outputs": [
    {
     "name": "stdout",
     "output_type": "stream",
     "text": [
      "target\n",
      "1    4169\n",
      "0    4133\n",
      "Name: count, dtype: int64\n"
     ]
    }
   ],
   "source": [
    "target_counts = data['target'].value_counts()\n",
    "print(target_counts)"
   ]
  },
  {
   "cell_type": "markdown",
   "metadata": {
    "id": "NLtNyIQ7B8N-"
   },
   "source": [
    "❓ Is the dataset balanced?"
   ]
  },
  {
   "cell_type": "markdown",
   "metadata": {
    "id": "Vc8ZrltYB8N-",
    "tags": [
     "challengify"
    ]
   },
   "source": [
    "> Ratio being close to 1 (Balance: 0.991) the dataset is balanced, thats means we are safe to proceed to the training of the model"
   ]
  },
  {
   "cell_type": "markdown",
   "metadata": {
    "id": "goVJtQugB8N-"
   },
   "source": [
    "🎯 Recall our initial requirement:\n",
    "\n",
    "**\"To be valuable, our model should be right at least 90% of the time when it predicts a viable soil.\"**\n",
    "\n",
    "📝 Store the name of the metric we should use for this purpose in a variable `metric` from the list proposed by [Scikit-learn](https://scikit-learn.org/stable/modules/model_evaluation.html#common-cases-predefined-values).\n"
   ]
  },
  {
   "cell_type": "code",
   "execution_count": 8,
   "metadata": {
    "ExecuteTime": {
     "end_time": "2021-09-09T15:39:41.877982Z",
     "start_time": "2021-09-09T15:39:41.862118Z"
    },
    "id": "p1grfA85B8N-",
    "tags": [
     "challengify"
    ]
   },
   "outputs": [],
   "source": [
    "metric = \"precision\""
   ]
  },
  {
   "cell_type": "markdown",
   "metadata": {
    "id": "EiOgcIMHB8N-"
   },
   "source": [
    "**📝 Compute the baseline score and store the result as a floating number in the `baseline_score` variable.**\n"
   ]
  },
  {
   "cell_type": "code",
   "execution_count": 9,
   "metadata": {
    "ExecuteTime": {
     "end_time": "2021-09-09T15:39:41.825750Z",
     "start_time": "2021-09-09T15:39:41.812050Z"
    },
    "colab": {
     "base_uri": "https://localhost:8080/"
    },
    "id": "N8aNgLIRB8N-",
    "outputId": "b3b77804-0687-4f99-bd12-d010c97ee8a9",
    "tags": [
     "challengify"
    ]
   },
   "outputs": [
    {
     "data": {
      "text/plain": [
       "0.5021681522524692"
      ]
     },
     "execution_count": 9,
     "metadata": {},
     "output_type": "execute_result"
    }
   ],
   "source": [
    "baseline_score = max(data['target'].value_counts(normalize=True))\n",
    "baseline_score"
   ]
  },
  {
   "cell_type": "markdown",
   "metadata": {
    "id": "Vu9_hFf-B8N-"
   },
   "source": [
    "**📝 Store the target in a variable named `y`.**"
   ]
  },
  {
   "cell_type": "code",
   "execution_count": 10,
   "metadata": {
    "ExecuteTime": {
     "end_time": "2021-09-09T15:39:41.857148Z",
     "start_time": "2021-09-09T15:39:41.827800Z"
    },
    "id": "IWBvD3lQB8N_",
    "tags": [
     "challengify"
    ]
   },
   "outputs": [],
   "source": [
    "y = data['target']"
   ]
  },
  {
   "cell_type": "markdown",
   "metadata": {
    "id": "srNvj9OlB8N_"
   },
   "source": [
    "### 💾 Save your results\n",
    "\n",
    "Run the cell below to save your results."
   ]
  },
  {
   "cell_type": "code",
   "execution_count": 11,
   "metadata": {
    "id": "CPTQyQTnB8N_"
   },
   "outputs": [],
   "source": [
    "# results = ChallengeResult(\n",
    "#     \"baseline\",\n",
    "#     metric=metric,\n",
    "#     baseline=baseline_score\n",
    "# )\n",
    "# results.write()"
   ]
  },
  {
   "cell_type": "markdown",
   "metadata": {
    "id": "g4rkwqURB8N_"
   },
   "source": [
    "## Features"
   ]
  },
  {
   "cell_type": "code",
   "execution_count": 12,
   "metadata": {
    "ExecuteTime": {
     "end_time": "2021-09-09T15:39:41.935151Z",
     "start_time": "2021-09-09T15:39:41.880164Z"
    },
    "id": "2Aj6Ef7xB8N_"
   },
   "outputs": [],
   "source": [
    "from sklearn import set_config; set_config(display='diagram')"
   ]
  },
  {
   "cell_type": "markdown",
   "metadata": {
    "id": "dOYQdzvBB8N_"
   },
   "source": [
    "**📝 Store the features in a DataFrame `X`.**\n"
   ]
  },
  {
   "cell_type": "code",
   "execution_count": 13,
   "metadata": {
    "ExecuteTime": {
     "end_time": "2021-09-09T15:39:41.954123Z",
     "start_time": "2021-09-09T15:39:41.937063Z"
    },
    "id": "zUz2mpcnB8N_",
    "tags": [
     "challengify"
    ]
   },
   "outputs": [],
   "source": [
    "X = data.drop('target', axis=1)"
   ]
  },
  {
   "cell_type": "markdown",
   "metadata": {
    "id": "SIYOothfB8N_"
   },
   "source": [
    "💡 Two features in there are useless.\n",
    "\n",
    "- `id`: serves a technical need and does not carry any information.  \n",
    "- `scientist`: almost all experiments were conducted by different scientists, we assume they all followed the same protocol for the experiment.\n",
    "\n",
    "**📝 Drop these two features.**"
   ]
  },
  {
   "cell_type": "code",
   "execution_count": 14,
   "metadata": {
    "ExecuteTime": {
     "end_time": "2021-09-09T15:39:41.973910Z",
     "start_time": "2021-09-09T15:39:41.955889Z"
    },
    "id": "eUgvSHZAB8N_",
    "tags": [
     "challengify"
    ]
   },
   "outputs": [],
   "source": [
    "X = X.drop(['id', 'scientist'], axis=1)"
   ]
  },
  {
   "cell_type": "markdown",
   "metadata": {
    "id": "lcJnUY6lB8OA"
   },
   "source": [
    "**📝 Create variables to store feature names according to their types.**"
   ]
  },
  {
   "cell_type": "markdown",
   "metadata": {
    "ExecuteTime": {
     "end_time": "2021-08-26T15:23:40.164290Z",
     "start_time": "2021-08-26T15:23:40.149621Z"
    },
    "id": "zOfmb4cSB8OA"
   },
   "source": [
    "- `feat_num`: list of numerical features' name\n",
    "- `feat_cat` list of categorical features' name\n",
    "- `feat_time` list of time features' name"
   ]
  },
  {
   "cell_type": "code",
   "execution_count": 15,
   "metadata": {
    "ExecuteTime": {
     "end_time": "2021-09-09T15:39:41.994679Z",
     "start_time": "2021-09-09T15:39:41.976174Z"
    },
    "id": "f50nz3ixB8OA",
    "tags": [
     "challengify"
    ]
   },
   "outputs": [],
   "source": [
    "feat_num = ['measure_index', 'measure_moisture', 'measure_temperature', 'measure_chemicals', 'measure_biodiversity']\n",
    "feat_cat = ['main_element', 'past_agriculture', 'soil_condition']\n",
    "feat_time = ['datetime_start', 'datetime_end']"
   ]
  },
  {
   "cell_type": "markdown",
   "metadata": {
    "id": "5LtOWeAIB8OE"
   },
   "source": [
    "💡 We will ignore date-like features for the basic preprocessing.\n",
    "\n",
    "**📝 Create `X_basic` that contains only numerical and categorical features.**\n"
   ]
  },
  {
   "cell_type": "code",
   "execution_count": 16,
   "metadata": {
    "ExecuteTime": {
     "end_time": "2021-09-09T15:39:42.025512Z",
     "start_time": "2021-09-09T15:39:41.997100Z"
    },
    "id": "-YYdTG6PB8OE",
    "tags": [
     "challengify"
    ]
   },
   "outputs": [],
   "source": [
    "X_basic = X[feat_num + feat_cat]"
   ]
  },
  {
   "cell_type": "markdown",
   "metadata": {
    "id": "e5umx6ygB8OE"
   },
   "source": [
    "### 💾 Save your results\n",
    "\n",
    "Run the cell below to save your results."
   ]
  },
  {
   "cell_type": "code",
   "execution_count": 17,
   "metadata": {
    "ExecuteTime": {
     "end_time": "2021-09-09T15:39:42.054493Z",
     "start_time": "2021-09-09T15:39:42.027906Z"
    },
    "id": "N9NuvyRyB8OE"
   },
   "outputs": [],
   "source": [
    "# from nbresult import ChallengeResult\n",
    "# result = ChallengeResult(\n",
    "#     \"features\",\n",
    "#     columns=X.columns,\n",
    "#     shape=X.shape,\n",
    "#     target=y.ndim\n",
    "# )\n",
    "# result.write()"
   ]
  },
  {
   "cell_type": "markdown",
   "metadata": {
    "id": "rg0hIK-vB8OE"
   },
   "source": [
    "## Preprocessing"
   ]
  },
  {
   "cell_type": "markdown",
   "metadata": {
    "id": "uNahpKT5B8OE"
   },
   "source": [
    "*C6 - Transformer les données d'entrée afin de satisfaire les contraintes inhérentes au modèle (Preprocessing)*"
   ]
  },
  {
   "cell_type": "code",
   "execution_count": 18,
   "metadata": {
    "ExecuteTime": {
     "end_time": "2021-09-09T15:39:42.067672Z",
     "start_time": "2021-09-09T15:39:42.056478Z"
    },
    "id": "Mokp1fKDB8OE"
   },
   "outputs": [],
   "source": [
    "from sklearn import set_config; set_config(display='diagram')"
   ]
  },
  {
   "cell_type": "markdown",
   "metadata": {
    "id": "8xcMV-MSB8OF"
   },
   "source": [
    "**📝 Scale and Encode your features.**"
   ]
  },
  {
   "cell_type": "markdown",
   "metadata": {
    "id": "711GpTYfB8OF"
   },
   "source": [
    "Prepare a ColumnTransformer that:\n",
    "- Scale the numerical features between $0$ and $1$\n",
    "- Encode the categorical features\n",
    "\n",
    "Store it in a variable `preprocessing_basic`\n"
   ]
  },
  {
   "cell_type": "code",
   "execution_count": 19,
   "metadata": {
    "ExecuteTime": {
     "end_time": "2021-09-09T15:39:42.112025Z",
     "start_time": "2021-09-09T15:39:42.094352Z"
    },
    "colab": {
     "base_uri": "https://localhost:8080/",
     "height": 116
    },
    "id": "7fFtv5ZzB8OF",
    "outputId": "fdda500a-b279-4446-b4a4-f5972a4563cc",
    "tags": [
     "challengify"
    ]
   },
   "outputs": [
    {
     "data": {
      "text/html": [
       "<style>#sk-container-id-1 {color: black;background-color: white;}#sk-container-id-1 pre{padding: 0;}#sk-container-id-1 div.sk-toggleable {background-color: white;}#sk-container-id-1 label.sk-toggleable__label {cursor: pointer;display: block;width: 100%;margin-bottom: 0;padding: 0.3em;box-sizing: border-box;text-align: center;}#sk-container-id-1 label.sk-toggleable__label-arrow:before {content: \"▸\";float: left;margin-right: 0.25em;color: #696969;}#sk-container-id-1 label.sk-toggleable__label-arrow:hover:before {color: black;}#sk-container-id-1 div.sk-estimator:hover label.sk-toggleable__label-arrow:before {color: black;}#sk-container-id-1 div.sk-toggleable__content {max-height: 0;max-width: 0;overflow: hidden;text-align: left;background-color: #f0f8ff;}#sk-container-id-1 div.sk-toggleable__content pre {margin: 0.2em;color: black;border-radius: 0.25em;background-color: #f0f8ff;}#sk-container-id-1 input.sk-toggleable__control:checked~div.sk-toggleable__content {max-height: 200px;max-width: 100%;overflow: auto;}#sk-container-id-1 input.sk-toggleable__control:checked~label.sk-toggleable__label-arrow:before {content: \"▾\";}#sk-container-id-1 div.sk-estimator input.sk-toggleable__control:checked~label.sk-toggleable__label {background-color: #d4ebff;}#sk-container-id-1 div.sk-label input.sk-toggleable__control:checked~label.sk-toggleable__label {background-color: #d4ebff;}#sk-container-id-1 input.sk-hidden--visually {border: 0;clip: rect(1px 1px 1px 1px);clip: rect(1px, 1px, 1px, 1px);height: 1px;margin: -1px;overflow: hidden;padding: 0;position: absolute;width: 1px;}#sk-container-id-1 div.sk-estimator {font-family: monospace;background-color: #f0f8ff;border: 1px dotted black;border-radius: 0.25em;box-sizing: border-box;margin-bottom: 0.5em;}#sk-container-id-1 div.sk-estimator:hover {background-color: #d4ebff;}#sk-container-id-1 div.sk-parallel-item::after {content: \"\";width: 100%;border-bottom: 1px solid gray;flex-grow: 1;}#sk-container-id-1 div.sk-label:hover label.sk-toggleable__label {background-color: #d4ebff;}#sk-container-id-1 div.sk-serial::before {content: \"\";position: absolute;border-left: 1px solid gray;box-sizing: border-box;top: 0;bottom: 0;left: 50%;z-index: 0;}#sk-container-id-1 div.sk-serial {display: flex;flex-direction: column;align-items: center;background-color: white;padding-right: 0.2em;padding-left: 0.2em;position: relative;}#sk-container-id-1 div.sk-item {position: relative;z-index: 1;}#sk-container-id-1 div.sk-parallel {display: flex;align-items: stretch;justify-content: center;background-color: white;position: relative;}#sk-container-id-1 div.sk-item::before, #sk-container-id-1 div.sk-parallel-item::before {content: \"\";position: absolute;border-left: 1px solid gray;box-sizing: border-box;top: 0;bottom: 0;left: 50%;z-index: -1;}#sk-container-id-1 div.sk-parallel-item {display: flex;flex-direction: column;z-index: 1;position: relative;background-color: white;}#sk-container-id-1 div.sk-parallel-item:first-child::after {align-self: flex-end;width: 50%;}#sk-container-id-1 div.sk-parallel-item:last-child::after {align-self: flex-start;width: 50%;}#sk-container-id-1 div.sk-parallel-item:only-child::after {width: 0;}#sk-container-id-1 div.sk-dashed-wrapped {border: 1px dashed gray;margin: 0 0.4em 0.5em 0.4em;box-sizing: border-box;padding-bottom: 0.4em;background-color: white;}#sk-container-id-1 div.sk-label label {font-family: monospace;font-weight: bold;display: inline-block;line-height: 1.2em;}#sk-container-id-1 div.sk-label-container {text-align: center;}#sk-container-id-1 div.sk-container {/* jupyter's `normalize.less` sets `[hidden] { display: none; }` but bootstrap.min.css set `[hidden] { display: none !important; }` so we also need the `!important` here to be able to override the default hidden behavior on the sphinx rendered scikit-learn.org. See: https://github.com/scikit-learn/scikit-learn/issues/21755 */display: inline-block !important;position: relative;}#sk-container-id-1 div.sk-text-repr-fallback {display: none;}</style><div id=\"sk-container-id-1\" class=\"sk-top-container\"><div class=\"sk-text-repr-fallback\"><pre>ColumnTransformer(transformers=[(&#x27;num&#x27;, MinMaxScaler(),\n",
       "                                 [&#x27;measure_index&#x27;, &#x27;measure_moisture&#x27;,\n",
       "                                  &#x27;measure_temperature&#x27;, &#x27;measure_chemicals&#x27;,\n",
       "                                  &#x27;measure_biodiversity&#x27;]),\n",
       "                                (&#x27;cat&#x27;, OneHotEncoder(handle_unknown=&#x27;ignore&#x27;),\n",
       "                                 [&#x27;main_element&#x27;, &#x27;past_agriculture&#x27;,\n",
       "                                  &#x27;soil_condition&#x27;])])</pre><b>In a Jupyter environment, please rerun this cell to show the HTML representation or trust the notebook. <br />On GitHub, the HTML representation is unable to render, please try loading this page with nbviewer.org.</b></div><div class=\"sk-container\" hidden><div class=\"sk-item sk-dashed-wrapped\"><div class=\"sk-label-container\"><div class=\"sk-label sk-toggleable\"><input class=\"sk-toggleable__control sk-hidden--visually\" id=\"sk-estimator-id-1\" type=\"checkbox\" ><label for=\"sk-estimator-id-1\" class=\"sk-toggleable__label sk-toggleable__label-arrow\">ColumnTransformer</label><div class=\"sk-toggleable__content\"><pre>ColumnTransformer(transformers=[(&#x27;num&#x27;, MinMaxScaler(),\n",
       "                                 [&#x27;measure_index&#x27;, &#x27;measure_moisture&#x27;,\n",
       "                                  &#x27;measure_temperature&#x27;, &#x27;measure_chemicals&#x27;,\n",
       "                                  &#x27;measure_biodiversity&#x27;]),\n",
       "                                (&#x27;cat&#x27;, OneHotEncoder(handle_unknown=&#x27;ignore&#x27;),\n",
       "                                 [&#x27;main_element&#x27;, &#x27;past_agriculture&#x27;,\n",
       "                                  &#x27;soil_condition&#x27;])])</pre></div></div></div><div class=\"sk-parallel\"><div class=\"sk-parallel-item\"><div class=\"sk-item\"><div class=\"sk-label-container\"><div class=\"sk-label sk-toggleable\"><input class=\"sk-toggleable__control sk-hidden--visually\" id=\"sk-estimator-id-2\" type=\"checkbox\" ><label for=\"sk-estimator-id-2\" class=\"sk-toggleable__label sk-toggleable__label-arrow\">num</label><div class=\"sk-toggleable__content\"><pre>[&#x27;measure_index&#x27;, &#x27;measure_moisture&#x27;, &#x27;measure_temperature&#x27;, &#x27;measure_chemicals&#x27;, &#x27;measure_biodiversity&#x27;]</pre></div></div></div><div class=\"sk-serial\"><div class=\"sk-item\"><div class=\"sk-estimator sk-toggleable\"><input class=\"sk-toggleable__control sk-hidden--visually\" id=\"sk-estimator-id-3\" type=\"checkbox\" ><label for=\"sk-estimator-id-3\" class=\"sk-toggleable__label sk-toggleable__label-arrow\">MinMaxScaler</label><div class=\"sk-toggleable__content\"><pre>MinMaxScaler()</pre></div></div></div></div></div></div><div class=\"sk-parallel-item\"><div class=\"sk-item\"><div class=\"sk-label-container\"><div class=\"sk-label sk-toggleable\"><input class=\"sk-toggleable__control sk-hidden--visually\" id=\"sk-estimator-id-4\" type=\"checkbox\" ><label for=\"sk-estimator-id-4\" class=\"sk-toggleable__label sk-toggleable__label-arrow\">cat</label><div class=\"sk-toggleable__content\"><pre>[&#x27;main_element&#x27;, &#x27;past_agriculture&#x27;, &#x27;soil_condition&#x27;]</pre></div></div></div><div class=\"sk-serial\"><div class=\"sk-item\"><div class=\"sk-estimator sk-toggleable\"><input class=\"sk-toggleable__control sk-hidden--visually\" id=\"sk-estimator-id-5\" type=\"checkbox\" ><label for=\"sk-estimator-id-5\" class=\"sk-toggleable__label sk-toggleable__label-arrow\">OneHotEncoder</label><div class=\"sk-toggleable__content\"><pre>OneHotEncoder(handle_unknown=&#x27;ignore&#x27;)</pre></div></div></div></div></div></div></div></div></div></div>"
      ],
      "text/plain": [
       "ColumnTransformer(transformers=[('num', MinMaxScaler(),\n",
       "                                 ['measure_index', 'measure_moisture',\n",
       "                                  'measure_temperature', 'measure_chemicals',\n",
       "                                  'measure_biodiversity']),\n",
       "                                ('cat', OneHotEncoder(handle_unknown='ignore'),\n",
       "                                 ['main_element', 'past_agriculture',\n",
       "                                  'soil_condition'])])"
      ]
     },
     "execution_count": 19,
     "metadata": {},
     "output_type": "execute_result"
    }
   ],
   "source": [
    "from sklearn.compose import ColumnTransformer\n",
    "from sklearn.preprocessing import MinMaxScaler, OneHotEncoder\n",
    "from sklearn.impute import SimpleImputer\n",
    "\n",
    "preprocessing_basic = ColumnTransformer(\n",
    "    transformers=[\n",
    "        ('num', MinMaxScaler(), feat_num),  # Mise à l'échelle des caractéristiques numériques\n",
    "        ('cat', OneHotEncoder(handle_unknown='ignore'), feat_cat)  # Encodage des caractéristiques catégorielles\n",
    "    ],\n",
    "    remainder='drop'  # Ignorer les autres colonnes non spécifiées dans transformers\n",
    ")\n",
    "\n",
    "# Affichage du transformateur\n",
    "preprocessing_basic"
   ]
  },
  {
   "cell_type": "markdown",
   "metadata": {
    "id": "ii6FssKQB8OF"
   },
   "source": [
    "## Linear Model"
   ]
  },
  {
   "cell_type": "markdown",
   "metadata": {
    "id": "U9soKtqCB8OF"
   },
   "source": [
    "*C9 - Entraîner un modèle d'apprentissage supervisé pour optimiser une fonction de prédiction à partir d'exemples annotées (50%)*"
   ]
  },
  {
   "cell_type": "markdown",
   "metadata": {
    "id": "_JWjFjaZB8OF"
   },
   "source": [
    "**📝 Cross-validate a linear model on `X_basic` to see how it compares to your baseline.**"
   ]
  },
  {
   "cell_type": "markdown",
   "metadata": {
    "id": "n_8EMkU4B8OF"
   },
   "source": [
    "Inside a pipeline, apply the basic preprocessing, then use a basic **linear** model with **no penalty**.\n",
    "\n",
    "Cross-validate your pipeline and store the scores in `scores_linear` as a `numpy.ndarray`."
   ]
  },
  {
   "cell_type": "code",
   "execution_count": 52,
   "metadata": {
    "ExecuteTime": {
     "end_time": "2021-09-09T15:39:42.202414Z",
     "start_time": "2021-09-09T15:39:42.190310Z"
    },
    "colab": {
     "base_uri": "https://localhost:8080/"
    },
    "id": "dlfnVv_kB8OF",
    "outputId": "4f0eb701-e78e-478d-cc2b-55a3fcd74cf2",
    "tags": [
     "challengify"
    ]
   },
   "outputs": [
    {
     "name": "stdout",
     "output_type": "stream",
     "text": [
      "0.7607815730108877\n"
     ]
    }
   ],
   "source": [
    "from sklearn.linear_model import LogisticRegression\n",
    "from sklearn.pipeline import Pipeline\n",
    "import warnings\n",
    "warnings.filterwarnings(\"ignore\")\n",
    "from sklearn.model_selection import cross_val_score\n",
    "\n",
    "# Correction du pipeline avec LogisticRegression pour un problème de classification\n",
    "pipeline_linear = Pipeline(steps=[\n",
    "    ('preprocessing', preprocessing_basic),  # Prétraitement défini précédemment\n",
    "    ('linear_model', LogisticRegression(penalty='none', max_iter=1000))  # Modèle de classification linéaire\n",
    "])\n",
    "\n",
    "# Ré-application de la validation croisée avec la correction\n",
    "scores_linear = cross_val_score(pipeline_linear, X_basic, data['target'], cv=5)\n",
    "\n",
    "print(scores_linear.mean())\n"
   ]
  },
  {
   "cell_type": "markdown",
   "metadata": {
    "id": "mmR20vy2B8OG"
   },
   "source": [
    "**❓ Does your model beat the baseline? Do you reach your goal?**"
   ]
  },
  {
   "cell_type": "markdown",
   "metadata": {
    "id": "AaZNd35lB8OG",
    "tags": [
     "challengify"
    ]
   },
   "source": [
    "> Yes, the model clearly beats the baseline. The model's accuracy scores are significantly higher than the proportion of the majority class, indicating a significant improvement over a naive prediction. The objective was for the model to be correct at least 90% of the time when it identifies soil as viable. Accuracy scores obtained with the linear model are below this target, falling between approximately 78% and 81% accuracy. Although the model outperforms the baseline and shows an ability to identify viable soils more accurately than chance, it does not reach the 90% accuracy target. Although the model is an improvement over a naive prediction, it does not reach the set goal of 90% accuracy for positive predictions. This suggests that further model improvements or the use of more advanced modeling techniques may be necessary to achieve this goal. You might consider exploring other models, adding or selecting features more strategically, or applying feature engineering techniques to improve model performance."
   ]
  },
  {
   "cell_type": "markdown",
   "metadata": {
    "id": "IX9lZr8EB8OG"
   },
   "source": [
    "### 💾 Save your results\n",
    "\n",
    "Run the cell below to save your results."
   ]
  },
  {
   "cell_type": "code",
   "execution_count": 22,
   "metadata": {
    "ExecuteTime": {
     "end_time": "2021-09-09T15:39:42.999830Z",
     "start_time": "2021-09-09T15:39:37.573Z"
    },
    "id": "0e5gwUSlB8OG"
   },
   "outputs": [],
   "source": [
    "# from nbresult import ChallengeResult\n",
    "# X_preproc=preprocessing_basic.fit_transform(X_basic)\n",
    "# from sklearn.model_selection import train_test_split\n",
    "# X_,X_val,y_,y_val = train_test_split(X_basic,y,test_size=0.3,random_state=10)\n",
    "# pipe=pipeline_linear.fit(X_,y_)\n",
    "\n",
    "# result = ChallengeResult(\n",
    "#     'basic_pipeline',\n",
    "#     preproc=preprocessing_basic,\n",
    "#     preproc_shape=X_preproc.shape,\n",
    "#     pipe=pipeline_linear,\n",
    "#     y=y_val,\n",
    "#     y_pred=pipeline_linear.predict(X_val),\n",
    "#     scores=scores_linear\n",
    "# )\n",
    "# result.write()"
   ]
  },
  {
   "cell_type": "markdown",
   "metadata": {
    "id": "deC5ObGEB8OG"
   },
   "source": [
    "## Feature Engineering"
   ]
  },
  {
   "cell_type": "markdown",
   "metadata": {
    "id": "BOc_iRJXB8OG"
   },
   "source": [
    "*C7 - Générer des données d'entrée afin de satisfaire les contraintes inhérentes au modèles (Feature Engineering)*"
   ]
  },
  {
   "cell_type": "markdown",
   "metadata": {
    "id": "fUgLPccGB8OH"
   },
   "source": [
    "💡 We are going to look more closely at the features and try to enhance our preprocessing."
   ]
  },
  {
   "cell_type": "markdown",
   "metadata": {
    "id": "BBjQLX5xB8OH"
   },
   "source": [
    "### Enhanced `soil_condition` Encoding"
   ]
  },
  {
   "cell_type": "markdown",
   "metadata": {
    "id": "8qsJ1iHbB8OH"
   },
   "source": [
    "**📝 Check the possible values of the feature `soil_condition`**"
   ]
  },
  {
   "cell_type": "code",
   "execution_count": 23,
   "metadata": {
    "ExecuteTime": {
     "end_time": "2021-09-09T15:39:43.001593Z",
     "start_time": "2021-09-09T15:39:37.585Z"
    },
    "colab": {
     "base_uri": "https://localhost:8080/"
    },
    "id": "_3vrJu0WB8OH",
    "outputId": "097b22db-d962-45a9-de9b-56102e3122d7",
    "tags": [
     "challengify"
    ]
   },
   "outputs": [
    {
     "data": {
      "text/plain": [
       "array(['normal', 'rich', 'poor'], dtype=object)"
      ]
     },
     "execution_count": 23,
     "metadata": {},
     "output_type": "execute_result"
    }
   ],
   "source": [
    "soil_condition_values = data['soil_condition'].unique()\n",
    "soil_condition_values"
   ]
  },
  {
   "cell_type": "markdown",
   "metadata": {
    "id": "iMyNzyE8B8OH"
   },
   "source": [
    "**❓ Can you a better way to encode the `soil_condition` feature?**"
   ]
  },
  {
   "cell_type": "markdown",
   "metadata": {
    "id": "ZKsin2UfB8OH",
    "tags": [
     "challengify"
    ]
   },
   "source": [
    "> yes, if we use ordinal encoding we can convert strings into numeric format which would help to rank labels (e.g. : 3 = 'rich', 2 = 'neutral', 1 = 'poor'). This helps to take into account the maximum information from the dataset during encoding when we have a lot of ordinal features."
   ]
  },
  {
   "cell_type": "code",
   "execution_count": 24,
   "metadata": {
    "id": "KE_PTyXKB8OH"
   },
   "outputs": [],
   "source": [
    "soil_condition_mapping = {'rich': 3, 'normal': 2, 'poor': 1}\n",
    "data['soil_condition_encoded'] = data['soil_condition'].map(soil_condition_mapping)"
   ]
  },
  {
   "cell_type": "markdown",
   "metadata": {
    "id": "UYpLZYTJB8OI"
   },
   "source": [
    "**📝 Select a transformer keeping a sense of the order of the values of `soil_condition` to encode that feature.**\n",
    "\n",
    "Encode `soil_condition` from `X` with that relevant encoder and store the result in `X_soil_condition_encoded` as a `numpy.ndarray`."
   ]
  },
  {
   "cell_type": "code",
   "execution_count": 25,
   "metadata": {
    "ExecuteTime": {
     "end_time": "2021-09-08T08:04:46.326504Z",
     "start_time": "2021-09-08T08:04:46.300531Z"
    },
    "id": "eBnd_FlXB8OI",
    "tags": [
     "challengify"
    ]
   },
   "outputs": [],
   "source": [
    "from sklearn.preprocessing import OrdinalEncoder\n",
    "\n",
    "ordinal_encoder = OrdinalEncoder(categories=[['poor', 'normal', 'rich']])\n",
    "soil_condition = X['soil_condition'].values.reshape(-1, 1)\n",
    "X_soil_condition_encoded = ordinal_encoder.fit_transform(soil_condition)"
   ]
  },
  {
   "cell_type": "markdown",
   "metadata": {
    "id": "yNb54Tw-B8OI"
   },
   "source": [
    "**📝 Make sure that it works properly.**\n",
    "\n",
    "Check the value counts for the feature `soil_condition`"
   ]
  },
  {
   "cell_type": "code",
   "execution_count": 26,
   "metadata": {
    "ExecuteTime": {
     "end_time": "2021-09-09T15:39:43.004518Z",
     "start_time": "2021-09-09T15:39:37.597Z"
    },
    "colab": {
     "base_uri": "https://localhost:8080/"
    },
    "id": "QPTHsFSYB8OI",
    "outputId": "9715bf05-0efc-46ce-f2b0-f359e322f7c6",
    "tags": [
     "challengify"
    ]
   },
   "outputs": [
    {
     "name": "stdout",
     "output_type": "stream",
     "text": [
      "Value counts before transformation:\n",
      " soil_condition\n",
      "normal    4153\n",
      "poor      2510\n",
      "rich      1639\n",
      "Name: count, dtype: int64\n"
     ]
    }
   ],
   "source": [
    "value_counts_before = X['soil_condition'].value_counts()\n",
    "print(\"Value counts before transformation:\\n\", value_counts_before)"
   ]
  },
  {
   "cell_type": "markdown",
   "metadata": {
    "id": "ZeH9UJtgB8OI"
   },
   "source": [
    "**📝 Check it again,  after transformation with the relevant encoder:**"
   ]
  },
  {
   "cell_type": "code",
   "execution_count": 27,
   "metadata": {
    "ExecuteTime": {
     "end_time": "2021-09-08T08:04:46.386517Z",
     "start_time": "2021-09-08T08:04:46.363133Z"
    },
    "colab": {
     "base_uri": "https://localhost:8080/"
    },
    "id": "yuskjopVB8OI",
    "outputId": "a6778bc1-1b39-464b-d70c-e87a2671f675",
    "tags": [
     "challengify"
    ]
   },
   "outputs": [
    {
     "name": "stdout",
     "output_type": "stream",
     "text": [
      "Value counts after transformation:\n",
      " 0.0    2510\n",
      "1.0    4153\n",
      "2.0    1639\n",
      "Name: count, dtype: int64\n"
     ]
    }
   ],
   "source": [
    "encoded_series = pd.Series(X_soil_condition_encoded.flatten())\n",
    "\n",
    "value_counts_after = encoded_series.value_counts().sort_index()\n",
    "print(\"Value counts after transformation:\\n\", value_counts_after)"
   ]
  },
  {
   "cell_type": "markdown",
   "metadata": {
    "id": "nk1W0OifB8OI"
   },
   "source": [
    "### Custom Time Transformers"
   ]
  },
  {
   "cell_type": "markdown",
   "metadata": {
    "id": "GYPVHrwuB8OJ"
   },
   "source": [
    "#### Datetime Features Extraction"
   ]
  },
  {
   "cell_type": "markdown",
   "metadata": {
    "id": "VHxB-0WOB8OJ"
   },
   "source": [
    "💡  We want to extract two information from our time features"
   ]
  },
  {
   "cell_type": "markdown",
   "metadata": {
    "ExecuteTime": {
     "end_time": "2021-08-26T15:39:59.268983Z",
     "start_time": "2021-08-26T15:39:59.246286Z"
    },
    "id": "uqg3KnpqB8OJ"
   },
   "source": [
    "📅 The `month` of the experiment's start\n",
    "\n",
    "⏳ The `duration` of the experiment in an appropriate unit"
   ]
  },
  {
   "cell_type": "markdown",
   "metadata": {
    "id": "05AutAqNB8OJ"
   },
   "source": [
    "**📝 Compute the `duration` of experiments, and look at the statistics.**"
   ]
  },
  {
   "cell_type": "code",
   "execution_count": 28,
   "metadata": {
    "ExecuteTime": {
     "end_time": "2021-09-09T15:39:43.008118Z",
     "start_time": "2021-09-09T15:39:37.616Z"
    },
    "colab": {
     "base_uri": "https://localhost:8080/"
    },
    "id": "vT7-Y0JZB8OJ",
    "outputId": "26974d3f-02a4-4a83-85fa-390e7a96eddf",
    "tags": [
     "challengify"
    ]
   },
   "outputs": [
    {
     "name": "stdout",
     "output_type": "stream",
     "text": [
      "count     8302.000000\n",
      "mean     10823.497470\n",
      "std       4162.942503\n",
      "min       3605.000000\n",
      "25%       7236.000000\n",
      "50%      10840.500000\n",
      "75%      14497.250000\n",
      "max      17999.000000\n",
      "Name: experiment_duration, dtype: float64\n"
     ]
    }
   ],
   "source": [
    "X['experiment_duration'] = (pd.to_datetime(X['datetime_end']) - pd.to_datetime(X['datetime_start']))\n",
    "duration = X['experiment_duration'].dt.total_seconds().describe()\n",
    "print(duration)"
   ]
  },
  {
   "cell_type": "markdown",
   "metadata": {
    "id": "CymuH0_uB8OJ"
   },
   "source": [
    "**❓ What is the most accurate time unit to use to describe the `duration` feature?**\n",
    "\n",
    "**📝 Choose between `['days', 'hours', 'minutes', 'seconds']` and store your choice in the `duration_time_unit` variable:**"
   ]
  },
  {
   "cell_type": "code",
   "execution_count": 29,
   "metadata": {
    "id": "NAgkthaxB8OJ",
    "tags": [
     "challengify"
    ]
   },
   "outputs": [],
   "source": [
    "duration_time_unit = 'seconds'"
   ]
  },
  {
   "cell_type": "markdown",
   "metadata": {
    "id": "VLh-yrw9B8OL"
   },
   "source": [
    "**📝 Create a `TimeFeaturesExtractor` class that transforms `datetime_start` and `datetime_end` into `month` and `duration`:**\n",
    "- `month` as a number from 1 to 12\n",
    "- `duration` as a float in the relevant `duration_time_unit`"
   ]
  },
  {
   "cell_type": "code",
   "execution_count": 30,
   "metadata": {
    "ExecuteTime": {
     "end_time": "2021-09-09T15:39:43.010193Z",
     "start_time": "2021-09-09T15:39:37.627Z"
    },
    "id": "RzJCw_UGB8OL",
    "tags": [
     "challengify"
    ]
   },
   "outputs": [],
   "source": [
    "from sklearn.base import BaseEstimator, TransformerMixin\n",
    "\n",
    "class TimeFeaturesExtractor(BaseEstimator, TransformerMixin):\n",
    "    def fit(self, X, y=None):\n",
    "        return self\n",
    "\n",
    "    def transform(self, X, y=None):\n",
    "        X_transformed = pd.DataFrame()\n",
    "        X_transformed['month'] = pd.to_datetime(X['datetime_start']).dt.month\n",
    "        duration = (pd.to_datetime(X['datetime_end']) - pd.to_datetime(X['datetime_start'])).dt.total_seconds()\n",
    "        X_transformed['duration'] = duration\n",
    "        return X_transformed\n",
    "\n",
    "time_feature_extractor = TimeFeaturesExtractor()\n",
    "X_time_features = time_feature_extractor.transform(X.head(100))"
   ]
  },
  {
   "cell_type": "markdown",
   "metadata": {
    "id": "_rM4JqtRB8OL"
   },
   "source": [
    "**📝 Apply your `TimeFeaturesExtractor` to _100 rows_ of `X` and store the result in a DataFrame `X_time_features`**\n",
    "\n",
    "Double check that it has **2 columns**: `month` and `duration`, and **100 rows**"
   ]
  },
  {
   "cell_type": "code",
   "execution_count": 31,
   "metadata": {
    "ExecuteTime": {
     "end_time": "2021-09-09T15:39:43.011279Z",
     "start_time": "2021-09-09T15:39:37.632Z"
    },
    "colab": {
     "base_uri": "https://localhost:8080/"
    },
    "id": "d_VbERs6B8OM",
    "outputId": "af91b652-8b9d-4147-a577-860f0e0432cd",
    "tags": [
     "challengify"
    ]
   },
   "outputs": [
    {
     "name": "stdout",
     "output_type": "stream",
     "text": [
      "(100, 2)\n",
      "   month  duration\n",
      "0      6   11514.0\n",
      "1     12   16593.0\n",
      "2     10   16509.0\n",
      "3     10   10384.0\n",
      "4      7   15656.0\n"
     ]
    }
   ],
   "source": [
    "print(X_time_features.shape)\n",
    "print(X_time_features.head())"
   ]
  },
  {
   "cell_type": "markdown",
   "metadata": {
    "id": "JGLLqt9zB8OM"
   },
   "source": [
    "#### Cyclical Encoding & Scaling"
   ]
  },
  {
   "cell_type": "markdown",
   "metadata": {
    "id": "QbOmusBHB8OM"
   },
   "source": [
    "💡 We now have to encode and scale the extracted time features!  "
   ]
  },
  {
   "cell_type": "markdown",
   "metadata": {
    "id": "4GHNA74JB8OM"
   },
   "source": [
    "You should scale the `duration` between 0 and 1.  \n",
    "\n",
    "However we need to build a **Cyclical Encoder** for the `month`."
   ]
  },
  {
   "cell_type": "markdown",
   "metadata": {
    "id": "Wuf2BWdbB8OM"
   },
   "source": [
    "**📝Create a `CyclicalEncoder` class that transforms `month` into `month_cos` and `month_sin`.**"
   ]
  },
  {
   "cell_type": "markdown",
   "metadata": {
    "id": "QPUkn_ybB8OM"
   },
   "source": [
    "Recall the equations:  \n",
    "\n",
    "$month\\_norm = 2\\pi\\frac{month}{12}$  \n",
    "$month\\_cos = \\cos({month\\_norm})$  \n",
    "$month\\_sin = \\sin({month\\_norm})$"
   ]
  },
  {
   "cell_type": "code",
   "execution_count": 32,
   "metadata": {
    "ExecuteTime": {
     "end_time": "2021-09-09T15:39:43.012084Z",
     "start_time": "2021-09-09T15:39:37.640Z"
    },
    "id": "z6Cj6k_qB8OM",
    "tags": [
     "challengify"
    ]
   },
   "outputs": [],
   "source": [
    "class CyclicalEncoder(BaseEstimator, TransformerMixin):\n",
    "    def fit(self, X, y=None):\n",
    "        return self\n",
    "\n",
    "    def transform(self, X, y=None):\n",
    "\n",
    "        X_encoded = pd.DataFrame()\n",
    "        month_norm = 2 * np.pi * X['month'] / 12\n",
    "        X_encoded['month_cos'] = np.cos(month_norm)\n",
    "        X_encoded['month_sin'] = np.sin(month_norm)\n",
    "        return X_encoded"
   ]
  },
  {
   "cell_type": "markdown",
   "metadata": {
    "id": "eamMYpRGB8ON"
   },
   "source": [
    "**📝 Apply your `CyclicalEncoder` to `X_time_features` and store the result in a DataFrame `X_time_cyclical`.**\n",
    "\n",
    "Double check that it has **2 columns**: `month_cos` and `month_sin`, and **100 rows**"
   ]
  },
  {
   "cell_type": "code",
   "execution_count": 33,
   "metadata": {
    "ExecuteTime": {
     "end_time": "2021-09-09T15:39:43.012914Z",
     "start_time": "2021-09-09T15:39:37.646Z"
    },
    "colab": {
     "base_uri": "https://localhost:8080/"
    },
    "id": "-k1qFqbuB8ON",
    "outputId": "c37e804f-b369-4084-9195-2a69ee28572d",
    "tags": [
     "challengify"
    ]
   },
   "outputs": [
    {
     "name": "stdout",
     "output_type": "stream",
     "text": [
      "(100, 2)\n",
      "   month_cos     month_sin\n",
      "0  -1.000000  1.224647e-16\n",
      "1   1.000000 -2.449294e-16\n",
      "2   0.500000 -8.660254e-01\n",
      "3   0.500000 -8.660254e-01\n",
      "4  -0.866025 -5.000000e-01\n"
     ]
    }
   ],
   "source": [
    "cyclical_encoder = CyclicalEncoder()\n",
    "X_time_cyclical = cyclical_encoder.transform(X_time_features[['month']])\n",
    "print(X_time_cyclical.shape)\n",
    "print(X_time_cyclical.head())"
   ]
  },
  {
   "cell_type": "markdown",
   "metadata": {
    "id": "jLZLAB_CB8ON"
   },
   "source": [
    "**📝 Build a pipeline, that contains all the steps for time features.**\n",
    "\n",
    "Store it in a variable `preprocessing_time`"
   ]
  },
  {
   "cell_type": "markdown",
   "metadata": {
    "id": "2EZ0BKxAB8ON"
   },
   "source": [
    "**Steps**\n",
    "\n",
    "- Extraction of `month` and `duration` from  `datetime_start` and `datetime_end`  \n",
    "- Scaling of `duration` between 0 and 1\n",
    "- Cyclical encoding of `month`"
   ]
  },
  {
   "cell_type": "code",
   "execution_count": 34,
   "metadata": {
    "ExecuteTime": {
     "end_time": "2021-09-09T15:39:43.013690Z",
     "start_time": "2021-09-09T15:39:37.652Z"
    },
    "colab": {
     "base_uri": "https://localhost:8080/",
     "height": 190
    },
    "id": "-3XGbGTyB8ON",
    "outputId": "154b1303-0646-469e-9aa5-86776265851f",
    "tags": [
     "challengify"
    ]
   },
   "outputs": [
    {
     "data": {
      "text/html": [
       "<style>#sk-container-id-2 {color: black;background-color: white;}#sk-container-id-2 pre{padding: 0;}#sk-container-id-2 div.sk-toggleable {background-color: white;}#sk-container-id-2 label.sk-toggleable__label {cursor: pointer;display: block;width: 100%;margin-bottom: 0;padding: 0.3em;box-sizing: border-box;text-align: center;}#sk-container-id-2 label.sk-toggleable__label-arrow:before {content: \"▸\";float: left;margin-right: 0.25em;color: #696969;}#sk-container-id-2 label.sk-toggleable__label-arrow:hover:before {color: black;}#sk-container-id-2 div.sk-estimator:hover label.sk-toggleable__label-arrow:before {color: black;}#sk-container-id-2 div.sk-toggleable__content {max-height: 0;max-width: 0;overflow: hidden;text-align: left;background-color: #f0f8ff;}#sk-container-id-2 div.sk-toggleable__content pre {margin: 0.2em;color: black;border-radius: 0.25em;background-color: #f0f8ff;}#sk-container-id-2 input.sk-toggleable__control:checked~div.sk-toggleable__content {max-height: 200px;max-width: 100%;overflow: auto;}#sk-container-id-2 input.sk-toggleable__control:checked~label.sk-toggleable__label-arrow:before {content: \"▾\";}#sk-container-id-2 div.sk-estimator input.sk-toggleable__control:checked~label.sk-toggleable__label {background-color: #d4ebff;}#sk-container-id-2 div.sk-label input.sk-toggleable__control:checked~label.sk-toggleable__label {background-color: #d4ebff;}#sk-container-id-2 input.sk-hidden--visually {border: 0;clip: rect(1px 1px 1px 1px);clip: rect(1px, 1px, 1px, 1px);height: 1px;margin: -1px;overflow: hidden;padding: 0;position: absolute;width: 1px;}#sk-container-id-2 div.sk-estimator {font-family: monospace;background-color: #f0f8ff;border: 1px dotted black;border-radius: 0.25em;box-sizing: border-box;margin-bottom: 0.5em;}#sk-container-id-2 div.sk-estimator:hover {background-color: #d4ebff;}#sk-container-id-2 div.sk-parallel-item::after {content: \"\";width: 100%;border-bottom: 1px solid gray;flex-grow: 1;}#sk-container-id-2 div.sk-label:hover label.sk-toggleable__label {background-color: #d4ebff;}#sk-container-id-2 div.sk-serial::before {content: \"\";position: absolute;border-left: 1px solid gray;box-sizing: border-box;top: 0;bottom: 0;left: 50%;z-index: 0;}#sk-container-id-2 div.sk-serial {display: flex;flex-direction: column;align-items: center;background-color: white;padding-right: 0.2em;padding-left: 0.2em;position: relative;}#sk-container-id-2 div.sk-item {position: relative;z-index: 1;}#sk-container-id-2 div.sk-parallel {display: flex;align-items: stretch;justify-content: center;background-color: white;position: relative;}#sk-container-id-2 div.sk-item::before, #sk-container-id-2 div.sk-parallel-item::before {content: \"\";position: absolute;border-left: 1px solid gray;box-sizing: border-box;top: 0;bottom: 0;left: 50%;z-index: -1;}#sk-container-id-2 div.sk-parallel-item {display: flex;flex-direction: column;z-index: 1;position: relative;background-color: white;}#sk-container-id-2 div.sk-parallel-item:first-child::after {align-self: flex-end;width: 50%;}#sk-container-id-2 div.sk-parallel-item:last-child::after {align-self: flex-start;width: 50%;}#sk-container-id-2 div.sk-parallel-item:only-child::after {width: 0;}#sk-container-id-2 div.sk-dashed-wrapped {border: 1px dashed gray;margin: 0 0.4em 0.5em 0.4em;box-sizing: border-box;padding-bottom: 0.4em;background-color: white;}#sk-container-id-2 div.sk-label label {font-family: monospace;font-weight: bold;display: inline-block;line-height: 1.2em;}#sk-container-id-2 div.sk-label-container {text-align: center;}#sk-container-id-2 div.sk-container {/* jupyter's `normalize.less` sets `[hidden] { display: none; }` but bootstrap.min.css set `[hidden] { display: none !important; }` so we also need the `!important` here to be able to override the default hidden behavior on the sphinx rendered scikit-learn.org. See: https://github.com/scikit-learn/scikit-learn/issues/21755 */display: inline-block !important;position: relative;}#sk-container-id-2 div.sk-text-repr-fallback {display: none;}</style><div id=\"sk-container-id-2\" class=\"sk-top-container\"><div class=\"sk-text-repr-fallback\"><pre>Pipeline(steps=[(&#x27;time_features_extractor&#x27;, TimeFeaturesExtractor()),\n",
       "                (&#x27;feature_transform&#x27;,\n",
       "                 ColumnTransformer(transformers=[(&#x27;duration_scaler&#x27;,\n",
       "                                                  MinMaxScaler(),\n",
       "                                                  [&#x27;duration&#x27;]),\n",
       "                                                 (&#x27;cyclical_encoder&#x27;,\n",
       "                                                  CyclicalEncoder(),\n",
       "                                                  [&#x27;month&#x27;])]))])</pre><b>In a Jupyter environment, please rerun this cell to show the HTML representation or trust the notebook. <br />On GitHub, the HTML representation is unable to render, please try loading this page with nbviewer.org.</b></div><div class=\"sk-container\" hidden><div class=\"sk-item sk-dashed-wrapped\"><div class=\"sk-label-container\"><div class=\"sk-label sk-toggleable\"><input class=\"sk-toggleable__control sk-hidden--visually\" id=\"sk-estimator-id-6\" type=\"checkbox\" ><label for=\"sk-estimator-id-6\" class=\"sk-toggleable__label sk-toggleable__label-arrow\">Pipeline</label><div class=\"sk-toggleable__content\"><pre>Pipeline(steps=[(&#x27;time_features_extractor&#x27;, TimeFeaturesExtractor()),\n",
       "                (&#x27;feature_transform&#x27;,\n",
       "                 ColumnTransformer(transformers=[(&#x27;duration_scaler&#x27;,\n",
       "                                                  MinMaxScaler(),\n",
       "                                                  [&#x27;duration&#x27;]),\n",
       "                                                 (&#x27;cyclical_encoder&#x27;,\n",
       "                                                  CyclicalEncoder(),\n",
       "                                                  [&#x27;month&#x27;])]))])</pre></div></div></div><div class=\"sk-serial\"><div class=\"sk-item\"><div class=\"sk-estimator sk-toggleable\"><input class=\"sk-toggleable__control sk-hidden--visually\" id=\"sk-estimator-id-7\" type=\"checkbox\" ><label for=\"sk-estimator-id-7\" class=\"sk-toggleable__label sk-toggleable__label-arrow\">TimeFeaturesExtractor</label><div class=\"sk-toggleable__content\"><pre>TimeFeaturesExtractor()</pre></div></div></div><div class=\"sk-item sk-dashed-wrapped\"><div class=\"sk-label-container\"><div class=\"sk-label sk-toggleable\"><input class=\"sk-toggleable__control sk-hidden--visually\" id=\"sk-estimator-id-8\" type=\"checkbox\" ><label for=\"sk-estimator-id-8\" class=\"sk-toggleable__label sk-toggleable__label-arrow\">feature_transform: ColumnTransformer</label><div class=\"sk-toggleable__content\"><pre>ColumnTransformer(transformers=[(&#x27;duration_scaler&#x27;, MinMaxScaler(),\n",
       "                                 [&#x27;duration&#x27;]),\n",
       "                                (&#x27;cyclical_encoder&#x27;, CyclicalEncoder(),\n",
       "                                 [&#x27;month&#x27;])])</pre></div></div></div><div class=\"sk-parallel\"><div class=\"sk-parallel-item\"><div class=\"sk-item\"><div class=\"sk-label-container\"><div class=\"sk-label sk-toggleable\"><input class=\"sk-toggleable__control sk-hidden--visually\" id=\"sk-estimator-id-9\" type=\"checkbox\" ><label for=\"sk-estimator-id-9\" class=\"sk-toggleable__label sk-toggleable__label-arrow\">duration_scaler</label><div class=\"sk-toggleable__content\"><pre>[&#x27;duration&#x27;]</pre></div></div></div><div class=\"sk-serial\"><div class=\"sk-item\"><div class=\"sk-estimator sk-toggleable\"><input class=\"sk-toggleable__control sk-hidden--visually\" id=\"sk-estimator-id-10\" type=\"checkbox\" ><label for=\"sk-estimator-id-10\" class=\"sk-toggleable__label sk-toggleable__label-arrow\">MinMaxScaler</label><div class=\"sk-toggleable__content\"><pre>MinMaxScaler()</pre></div></div></div></div></div></div><div class=\"sk-parallel-item\"><div class=\"sk-item\"><div class=\"sk-label-container\"><div class=\"sk-label sk-toggleable\"><input class=\"sk-toggleable__control sk-hidden--visually\" id=\"sk-estimator-id-11\" type=\"checkbox\" ><label for=\"sk-estimator-id-11\" class=\"sk-toggleable__label sk-toggleable__label-arrow\">cyclical_encoder</label><div class=\"sk-toggleable__content\"><pre>[&#x27;month&#x27;]</pre></div></div></div><div class=\"sk-serial\"><div class=\"sk-item\"><div class=\"sk-estimator sk-toggleable\"><input class=\"sk-toggleable__control sk-hidden--visually\" id=\"sk-estimator-id-12\" type=\"checkbox\" ><label for=\"sk-estimator-id-12\" class=\"sk-toggleable__label sk-toggleable__label-arrow\">CyclicalEncoder</label><div class=\"sk-toggleable__content\"><pre>CyclicalEncoder()</pre></div></div></div></div></div></div></div></div></div></div></div></div>"
      ],
      "text/plain": [
       "Pipeline(steps=[('time_features_extractor', TimeFeaturesExtractor()),\n",
       "                ('feature_transform',\n",
       "                 ColumnTransformer(transformers=[('duration_scaler',\n",
       "                                                  MinMaxScaler(),\n",
       "                                                  ['duration']),\n",
       "                                                 ('cyclical_encoder',\n",
       "                                                  CyclicalEncoder(),\n",
       "                                                  ['month'])]))])"
      ]
     },
     "execution_count": 34,
     "metadata": {},
     "output_type": "execute_result"
    }
   ],
   "source": [
    "from sklearn.pipeline import Pipeline\n",
    "from sklearn.compose import ColumnTransformer\n",
    "from sklearn.preprocessing import MinMaxScaler\n",
    "\n",
    "preprocessing_time = Pipeline([\n",
    "    ('time_features_extractor', TimeFeaturesExtractor()),\n",
    "    ('feature_transform', ColumnTransformer([\n",
    "        ('duration_scaler', MinMaxScaler(), ['duration']),\n",
    "        ('cyclical_encoder', CyclicalEncoder(), ['month'])\n",
    "    ], remainder='drop'))\n",
    "])\n",
    "preprocessing_time"
   ]
  },
  {
   "cell_type": "markdown",
   "metadata": {
    "id": "NuFlNb7wB8ON"
   },
   "source": [
    "### 💾 Save your results\n",
    "\n",
    "Run the cell below to save your results."
   ]
  },
  {
   "cell_type": "code",
   "execution_count": 35,
   "metadata": {
    "id": "Xqn6y9pXB8ON"
   },
   "outputs": [],
   "source": [
    "# from nbresult import ChallengeResult\n",
    "# results = ChallengeResult(\n",
    "#     'feature_engineering',\n",
    "#     x_soil_condition=X_soil_condition_encoded,\n",
    "#     X_time_features=X_time_features,\n",
    "#     X_time_cyclical= X_time_cyclical,\n",
    "#     X_time=preprocessing_time.fit_transform(X)\n",
    "# )\n",
    "# results.write()"
   ]
  },
  {
   "cell_type": "markdown",
   "metadata": {
    "id": "FK8CZt4pB8OO"
   },
   "source": [
    "## Advanced Pipeline"
   ]
  },
  {
   "cell_type": "markdown",
   "metadata": {
    "id": "mZnkPpW6B8OO"
   },
   "source": [
    "**📝  Build a full preprocessing pipeline and store it in `preprocessing_advanced`.**"
   ]
  },
  {
   "cell_type": "markdown",
   "metadata": {
    "id": "1L1A8NEjB8OO"
   },
   "source": [
    "Here are its steps, they should go in a parallel ColumnTransformer\n",
    "\n",
    "- Scale all numerical features between 0 and 1\n",
    "- Encode `main_element`  \n",
    "- Better encode `soil_condition`\n",
    "- Apply the `preprocessing_time` pipeline on `datetime_start` and `datetime_end`"
   ]
  },
  {
   "cell_type": "code",
   "execution_count": 36,
   "metadata": {
    "ExecuteTime": {
     "end_time": "2021-09-09T15:39:43.015494Z",
     "start_time": "2021-09-09T15:39:37.663Z"
    },
    "id": "cQ0s05CIB8OO",
    "tags": [
     "challengify"
    ]
   },
   "outputs": [],
   "source": [
    "preprocessing_advanced = ColumnTransformer(\n",
    "    [\n",
    "        ('num', MinMaxScaler(), feat_num),\n",
    "        ('element', OneHotEncoder(handle_unknown='ignore'), ['main_element']),\n",
    "        ('soil', OrdinalEncoder(categories=[['poor', 'normal', 'rich']]), ['soil_condition']),\n",
    "        ('time', Pipeline([\n",
    "            ('time_features_extractor', TimeFeaturesExtractor()),\n",
    "            ('cyclical_encoder', CyclicalEncoder()),\n",
    "            ('duration_scaler', MinMaxScaler(feature_range=(0, 1)))\n",
    "        ]), ['datetime_start', 'datetime_end'])\n",
    "    ],\n",
    "    remainder='passthrough'\n",
    ")"
   ]
  },
  {
   "cell_type": "markdown",
   "metadata": {
    "id": "4z-fqyB7B8OO"
   },
   "source": [
    "## Regularized Linear Model"
   ]
  },
  {
   "cell_type": "markdown",
   "metadata": {
    "id": "mroBubW2B8OO"
   },
   "source": [
    "C8 - Maîtriser les différents algorithmes d'apprentissage afin d'apporter une réponse adaptée à une problématique d'une organisation (entreprise, laboratoire, etc.)"
   ]
  },
  {
   "cell_type": "markdown",
   "metadata": {
    "id": "SJJvWFVhB8OO"
   },
   "source": [
    "**📝 Build a pipeline that uses `preprocessing_advanced` and then a _Regularized Linear_ model.**"
   ]
  },
  {
   "cell_type": "markdown",
   "metadata": {
    "id": "XoVVS776B8OO"
   },
   "source": [
    "Cross-validate your pipeline and store the scores in a list `scores_regularized`"
   ]
  },
  {
   "cell_type": "code",
   "execution_count": 37,
   "metadata": {
    "id": "j8jiRPsjB8OP"
   },
   "outputs": [],
   "source": [
    "X['past_agriculture']= X['past_agriculture'].replace({'yes': 1,  'no':0})"
   ]
  },
  {
   "cell_type": "code",
   "execution_count": 38,
   "metadata": {
    "id": "yzsNH41qB8OP"
   },
   "outputs": [],
   "source": [
    "X['experiment_duration'] = X['experiment_duration'].apply(lambda x: x.total_seconds())"
   ]
  },
  {
   "cell_type": "code",
   "execution_count": 41,
   "metadata": {
    "ExecuteTime": {
     "end_time": "2021-09-09T15:39:43.018869Z",
     "start_time": "2021-09-09T15:39:37.683Z"
    },
    "colab": {
     "base_uri": "https://localhost:8080/"
    },
    "id": "k-RxgncOB8OP",
    "outputId": "31b514fd-bde3-40f3-ed29-8d474e547578",
    "tags": [
     "challengify"
    ]
   },
   "outputs": [
    {
     "name": "stdout",
     "output_type": "stream",
     "text": [
      "0.14079778800313067\n"
     ]
    }
   ],
   "source": [
    "from sklearn.linear_model import Ridge\n",
    "from sklearn.model_selection import cross_val_score\n",
    "\n",
    "pipeline_regularized = Pipeline([\n",
    "    ('preprocessing_advanced', preprocessing_advanced),\n",
    "    ('ridge', Ridge())\n",
    "])\n",
    "\n",
    "scores_regularized = cross_val_score(pipeline_regularized, X, y, cv=5, scoring='neg_mean_squared_error', error_score='raise')\n",
    "scores_regularized = np.abs(scores_regularized)\n",
    "print(scores_regularized.mean())"
   ]
  },
  {
   "cell_type": "markdown",
   "metadata": {
    "id": "kdUEGiobB8OP"
   },
   "source": [
    "### 💾 Save your results\n",
    "\n",
    "Run the cell below to save your results."
   ]
  },
  {
   "cell_type": "code",
   "execution_count": 42,
   "metadata": {
    "ExecuteTime": {
     "end_time": "2021-09-09T15:39:43.020657Z",
     "start_time": "2021-09-09T15:39:37.693Z"
    },
    "colab": {
     "base_uri": "https://localhost:8080/",
     "height": 321
    },
    "id": "QLgMLO08B8OP",
    "outputId": "dc90e3a9-1042-4897-a481-c4950eb6f4a9"
   },
   "outputs": [],
   "source": [
    "# from nbresult import ChallengeResult\n",
    "# from sklearn.model_selection import train_test_split\n",
    "# X_,X_val,y_,y_val = train_test_split(X,y,test_size=0.3,random_state=7)\n",
    "# pipe=pipeline_regularized.fit(X_,y_)\n",
    "\n",
    "# result = ChallengeResult(\n",
    "#     'advanced_pipeline',\n",
    "#     steps=str(pipeline_regularized.steps),\n",
    "#     scores=scores_regularized,\n",
    "#     y=y_val,\n",
    "#     y_pred=pipeline_regularized.predict(X_val)\n",
    "# )\n",
    "# result.write()"
   ]
  },
  {
   "cell_type": "markdown",
   "metadata": {
    "id": "ee8psDa4B8OP"
   },
   "source": [
    "## Dimensionality Reduction"
   ]
  },
  {
   "cell_type": "markdown",
   "metadata": {
    "id": "uK7i1VxYB8OP"
   },
   "source": [
    "*C10 - Entraîner un modèle d'apprentissage non supervisé pour détecter des structures sous-jacentes à partir de données non étiquetées*"
   ]
  },
  {
   "cell_type": "markdown",
   "metadata": {
    "id": "PFiO65xEB8OP"
   },
   "source": [
    "**📝 Add a dimensional reduction step as the last step of your `preprocessing_advanced`. Make sure your dimensional reduction keeps _only 12 features_.**"
   ]
  },
  {
   "cell_type": "code",
   "execution_count": 43,
   "metadata": {
    "ExecuteTime": {
     "end_time": "2021-09-09T15:39:43.023453Z",
     "start_time": "2021-09-09T15:39:37.712Z"
    },
    "id": "XWa9kAi5B8OQ",
    "tags": [
     "challengify"
    ]
   },
   "outputs": [],
   "source": [
    "from sklearn.decomposition import PCA\n",
    "\n",
    "preprocessing_advanced = Pipeline([\n",
    "    ('preprocessing_advanced', preprocessing_advanced),\n",
    "    ('dimension_reduction', PCA(n_components=12))\n",
    "])"
   ]
  },
  {
   "cell_type": "markdown",
   "metadata": {
    "id": "ShuWxsy4B8OQ"
   },
   "source": [
    "**📝 Apply your `preprocessing_advanced` to `X` and store the result in the `X_preproc_adv` variable.**"
   ]
  },
  {
   "cell_type": "code",
   "execution_count": 44,
   "metadata": {
    "id": "P2Q_-oe4B8OQ",
    "tags": [
     "challengify"
    ]
   },
   "outputs": [],
   "source": [
    "X_preproc_adv = preprocessing_advanced.fit_transform(X)"
   ]
  },
  {
   "cell_type": "markdown",
   "metadata": {
    "id": "oApGuF_6B8OQ"
   },
   "source": [
    "### 💾 Save your results\n",
    "\n",
    "Run the cell below to save your results."
   ]
  },
  {
   "cell_type": "code",
   "execution_count": 45,
   "metadata": {
    "id": "XLURe-xfB8OQ"
   },
   "outputs": [],
   "source": [
    "# from nbresult import ChallengeResult\n",
    "# results=ChallengeResult(\n",
    "#     'unsupervised',\n",
    "#     algorithm=preprocessing_advanced.steps[-1],\n",
    "#     X_preproc_adv=X_preproc_adv\n",
    "# )\n",
    "# results.write()"
   ]
  },
  {
   "cell_type": "markdown",
   "metadata": {
    "id": "mxGKRIeMB8OQ"
   },
   "source": [
    "## Non-linear Model"
   ]
  },
  {
   "cell_type": "markdown",
   "metadata": {
    "id": "l6Q-tKOBB8OQ"
   },
   "source": [
    "**📝 Build a pipeline that uses `preprocessing_advanced` and then a _Ensemble_ model.**"
   ]
  },
  {
   "cell_type": "markdown",
   "metadata": {
    "id": "V591IVhMB8OQ"
   },
   "source": [
    "Store this pipeline in the variable `pipeline_ensemble`"
   ]
  },
  {
   "cell_type": "markdown",
   "metadata": {
    "id": "tETb6z7XB8OQ"
   },
   "source": [
    "Cross-validate your pipeline and store the scores in a list `scores_ensemble`"
   ]
  },
  {
   "cell_type": "code",
   "execution_count": 50,
   "metadata": {
    "ExecuteTime": {
     "end_time": "2021-09-09T15:39:43.024242Z",
     "start_time": "2021-09-09T15:39:37.720Z"
    },
    "id": "Ibrbkv-qB8OR",
    "tags": [
     "challengify"
    ]
   },
   "outputs": [
    {
     "name": "stderr",
     "output_type": "stream",
     "text": [
      "[Parallel(n_jobs=1)]: Using backend SequentialBackend with 1 concurrent workers.\n",
      "[Parallel(n_jobs=1)]: Done   5 out of   5 | elapsed:   41.3s finished\n"
     ]
    }
   ],
   "source": [
    "from sklearn.ensemble import RandomForestRegressor\n",
    "\n",
    "pipeline_ensemble = Pipeline([\n",
    "    ('preprocessing', preprocessing_advanced),\n",
    "    ('ensemble_model', RandomForestRegressor())\n",
    "])\n",
    "\n",
    "scores_ensemble = cross_val_score(pipeline_ensemble, X, y, cv=5,verbose=1)"
   ]
  },
  {
   "cell_type": "code",
   "execution_count": 51,
   "metadata": {},
   "outputs": [
    {
     "data": {
      "text/plain": [
       "0.9171988412424517"
      ]
     },
     "execution_count": 51,
     "metadata": {},
     "output_type": "execute_result"
    }
   ],
   "source": [
    "scores_ensemble.mean()"
   ]
  },
  {
   "cell_type": "markdown",
   "metadata": {
    "id": "ytySCG8XB8OR"
   },
   "source": [
    "**❓ Does this non-linear model satisfy the goal of the study?**"
   ]
  },
  {
   "cell_type": "markdown",
   "metadata": {
    "id": "UfQZKgNwB8OR",
    "tags": [
     "challengify"
    ]
   },
   "source": [
    "> Yes, Accuracy improved from 76 to 91%"
   ]
  },
  {
   "cell_type": "markdown",
   "metadata": {
    "id": "i6Skq-IFB8OR"
   },
   "source": [
    "💡 Wait, did our feature engineering helps us ❓\n",
    "yes"
   ]
  },
  {
   "cell_type": "markdown",
   "metadata": {
    "id": "Br7gXqbMB8OR"
   },
   "source": [
    "**📝 Build a pipeline that uses `preprocessing_basic` and the same Ensemble model as above.**"
   ]
  },
  {
   "cell_type": "code",
   "execution_count": 53,
   "metadata": {
    "ExecuteTime": {
     "end_time": "2021-09-09T15:39:43.026546Z",
     "start_time": "2021-09-09T15:39:37.737Z"
    },
    "id": "YQcsHb9WB8OR",
    "tags": [
     "challengify"
    ]
   },
   "outputs": [],
   "source": [
    "pipeline_ensemble_basic = Pipeline([\n",
    "    ('preprocessing', preprocessing_basic),\n",
    "    ('ensemble_model', RandomForestRegressor())\n",
    "])\n",
    "\n",
    "scores_ensemble_basic = cross_val_score(pipeline_ensemble_basic, X, y, cv=5)"
   ]
  },
  {
   "cell_type": "code",
   "execution_count": 54,
   "metadata": {},
   "outputs": [
    {
     "data": {
      "text/plain": [
       "0.38720019132611266"
      ]
     },
     "execution_count": 54,
     "metadata": {},
     "output_type": "execute_result"
    }
   ],
   "source": [
    "scores_ensemble_basic.mean()"
   ]
  },
  {
   "cell_type": "markdown",
   "metadata": {
    "id": "147617T2B8OR"
   },
   "source": [
    "**❓ What is your conclusion?**"
   ]
  },
  {
   "cell_type": "markdown",
   "metadata": {
    "id": "SkUm7WLmB8OR",
    "tags": [
     "challengify"
    ]
   },
   "source": [
    "> preprocessing_basic is not working well, and hence giving poor result"
   ]
  },
  {
   "cell_type": "markdown",
   "metadata": {
    "id": "O6jAJf16B8OS"
   },
   "source": [
    "### 💾 Save your results\n",
    "\n",
    "Run the cell below to save your results."
   ]
  },
  {
   "cell_type": "code",
   "execution_count": 55,
   "metadata": {
    "id": "6EuZUwt1B8OS"
   },
   "outputs": [],
   "source": [
    "# from nbresult import ChallengeResult\n",
    "# from sklearn.model_selection import train_test_split\n",
    "# X_,X_val,y_,y_val=train_test_split(X,y,test_size=0.3,random_state=7)\n",
    "# pipeline_ensemble.fit(X_,y_)\n",
    "# y_pred=pipeline_ensemble.predict(X_val)\n",
    "\n",
    "# results=ChallengeResult(\n",
    "#     'ensemble',\n",
    "#     steps=str(pipeline_ensemble.steps),\n",
    "#     scores=scores_ensemble,\n",
    "#     y=y_val,\n",
    "#     y_pred=y_pred\n",
    "# )\n",
    "# results.write()"
   ]
  },
  {
   "cell_type": "markdown",
   "metadata": {
    "id": "tjeb0rCaB8OS"
   },
   "source": [
    "## Fine-Tuning"
   ]
  },
  {
   "cell_type": "markdown",
   "metadata": {
    "id": "EsxOZGHnB8OS"
   },
   "source": [
    "*C11 - Améliorer les capacités prédictives d'un systèmes en sélectionnant un modèle différent ou en modifiant ses hyperparamètres en vue de corriger des erreurs (hyperparameter tuning)*"
   ]
  },
  {
   "cell_type": "markdown",
   "metadata": {
    "id": "0vl2Mel2B8OS"
   },
   "source": [
    "💡 To improve the model as much as we can, it's time to grid search for optimal hyperparameters"
   ]
  },
  {
   "cell_type": "markdown",
   "metadata": {
    "id": "ym6IbSvLB8OS"
   },
   "source": [
    "**📝 Look at the hyperparameters of your estimator**"
   ]
  },
  {
   "cell_type": "code",
   "execution_count": 56,
   "metadata": {
    "ExecuteTime": {
     "end_time": "2021-09-09T15:39:43.029350Z",
     "start_time": "2021-09-09T15:39:37.754Z"
    },
    "colab": {
     "base_uri": "https://localhost:8080/"
    },
    "id": "pvWA69uAB8OS",
    "outputId": "7fd8e31b-fa0e-479c-c9be-94584f310590",
    "tags": [
     "challengify"
    ]
   },
   "outputs": [
    {
     "name": "stdout",
     "output_type": "stream",
     "text": [
      "{'bootstrap': True, 'ccp_alpha': 0.0, 'criterion': 'squared_error', 'max_depth': None, 'max_features': 1.0, 'max_leaf_nodes': None, 'max_samples': None, 'min_impurity_decrease': 0.0, 'min_samples_leaf': 1, 'min_samples_split': 2, 'min_weight_fraction_leaf': 0.0, 'n_estimators': 100, 'n_jobs': None, 'oob_score': False, 'random_state': None, 'verbose': 0, 'warm_start': False}\n"
     ]
    }
   ],
   "source": [
    "print(pipeline_ensemble.named_steps['ensemble_model'].get_params())"
   ]
  },
  {
   "cell_type": "markdown",
   "metadata": {
    "id": "62EojqFpB8OS"
   },
   "source": [
    "**📝 Try to fine tune some hyperparameters to improve your model!**"
   ]
  },
  {
   "cell_type": "code",
   "execution_count": 57,
   "metadata": {
    "ExecuteTime": {
     "end_time": "2021-09-09T15:39:43.030102Z",
     "start_time": "2021-09-09T15:39:37.760Z"
    },
    "id": "qEe58q0FB8OS",
    "tags": [
     "challengify"
    ]
   },
   "outputs": [],
   "source": [
    "from sklearn.model_selection import GridSearchCV\n",
    "param_grid = {\n",
    "    'ensemble_model__n_estimators': [100],\n",
    "    'ensemble_model__max_depth': [None, 10],\n",
    "    # 'ensemble_model__min_samples_split': [2, 5],\n",
    "    # 'ensemble_model__min_samples_leaf': [1, 2],\n",
    "    # 'ensemble_model__bootstrap': [True, False]\n",
    "}"
   ]
  },
  {
   "cell_type": "markdown",
   "metadata": {
    "id": "xOqIskrbB8OT"
   },
   "source": [
    "**📝 Store the _fitted_ grid search in the `search` variable:**"
   ]
  },
  {
   "cell_type": "code",
   "execution_count": 58,
   "metadata": {
    "colab": {
     "base_uri": "https://localhost:8080/"
    },
    "id": "pQ_KggzzB8OT",
    "outputId": "6dd9618a-4aa0-4195-da6a-8efcb82e746e",
    "tags": [
     "challengify"
    ]
   },
   "outputs": [
    {
     "name": "stdout",
     "output_type": "stream",
     "text": [
      "Fitting 5 folds for each of 2 candidates, totalling 10 fits\n"
     ]
    },
    {
     "data": {
      "text/html": [
       "<style>#sk-container-id-3 {color: black;background-color: white;}#sk-container-id-3 pre{padding: 0;}#sk-container-id-3 div.sk-toggleable {background-color: white;}#sk-container-id-3 label.sk-toggleable__label {cursor: pointer;display: block;width: 100%;margin-bottom: 0;padding: 0.3em;box-sizing: border-box;text-align: center;}#sk-container-id-3 label.sk-toggleable__label-arrow:before {content: \"▸\";float: left;margin-right: 0.25em;color: #696969;}#sk-container-id-3 label.sk-toggleable__label-arrow:hover:before {color: black;}#sk-container-id-3 div.sk-estimator:hover label.sk-toggleable__label-arrow:before {color: black;}#sk-container-id-3 div.sk-toggleable__content {max-height: 0;max-width: 0;overflow: hidden;text-align: left;background-color: #f0f8ff;}#sk-container-id-3 div.sk-toggleable__content pre {margin: 0.2em;color: black;border-radius: 0.25em;background-color: #f0f8ff;}#sk-container-id-3 input.sk-toggleable__control:checked~div.sk-toggleable__content {max-height: 200px;max-width: 100%;overflow: auto;}#sk-container-id-3 input.sk-toggleable__control:checked~label.sk-toggleable__label-arrow:before {content: \"▾\";}#sk-container-id-3 div.sk-estimator input.sk-toggleable__control:checked~label.sk-toggleable__label {background-color: #d4ebff;}#sk-container-id-3 div.sk-label input.sk-toggleable__control:checked~label.sk-toggleable__label {background-color: #d4ebff;}#sk-container-id-3 input.sk-hidden--visually {border: 0;clip: rect(1px 1px 1px 1px);clip: rect(1px, 1px, 1px, 1px);height: 1px;margin: -1px;overflow: hidden;padding: 0;position: absolute;width: 1px;}#sk-container-id-3 div.sk-estimator {font-family: monospace;background-color: #f0f8ff;border: 1px dotted black;border-radius: 0.25em;box-sizing: border-box;margin-bottom: 0.5em;}#sk-container-id-3 div.sk-estimator:hover {background-color: #d4ebff;}#sk-container-id-3 div.sk-parallel-item::after {content: \"\";width: 100%;border-bottom: 1px solid gray;flex-grow: 1;}#sk-container-id-3 div.sk-label:hover label.sk-toggleable__label {background-color: #d4ebff;}#sk-container-id-3 div.sk-serial::before {content: \"\";position: absolute;border-left: 1px solid gray;box-sizing: border-box;top: 0;bottom: 0;left: 50%;z-index: 0;}#sk-container-id-3 div.sk-serial {display: flex;flex-direction: column;align-items: center;background-color: white;padding-right: 0.2em;padding-left: 0.2em;position: relative;}#sk-container-id-3 div.sk-item {position: relative;z-index: 1;}#sk-container-id-3 div.sk-parallel {display: flex;align-items: stretch;justify-content: center;background-color: white;position: relative;}#sk-container-id-3 div.sk-item::before, #sk-container-id-3 div.sk-parallel-item::before {content: \"\";position: absolute;border-left: 1px solid gray;box-sizing: border-box;top: 0;bottom: 0;left: 50%;z-index: -1;}#sk-container-id-3 div.sk-parallel-item {display: flex;flex-direction: column;z-index: 1;position: relative;background-color: white;}#sk-container-id-3 div.sk-parallel-item:first-child::after {align-self: flex-end;width: 50%;}#sk-container-id-3 div.sk-parallel-item:last-child::after {align-self: flex-start;width: 50%;}#sk-container-id-3 div.sk-parallel-item:only-child::after {width: 0;}#sk-container-id-3 div.sk-dashed-wrapped {border: 1px dashed gray;margin: 0 0.4em 0.5em 0.4em;box-sizing: border-box;padding-bottom: 0.4em;background-color: white;}#sk-container-id-3 div.sk-label label {font-family: monospace;font-weight: bold;display: inline-block;line-height: 1.2em;}#sk-container-id-3 div.sk-label-container {text-align: center;}#sk-container-id-3 div.sk-container {/* jupyter's `normalize.less` sets `[hidden] { display: none; }` but bootstrap.min.css set `[hidden] { display: none !important; }` so we also need the `!important` here to be able to override the default hidden behavior on the sphinx rendered scikit-learn.org. See: https://github.com/scikit-learn/scikit-learn/issues/21755 */display: inline-block !important;position: relative;}#sk-container-id-3 div.sk-text-repr-fallback {display: none;}</style><div id=\"sk-container-id-3\" class=\"sk-top-container\"><div class=\"sk-text-repr-fallback\"><pre>GridSearchCV(cv=5,\n",
       "             estimator=Pipeline(steps=[(&#x27;preprocessing&#x27;,\n",
       "                                        Pipeline(steps=[(&#x27;preprocessing_advanced&#x27;,\n",
       "                                                         ColumnTransformer(remainder=&#x27;passthrough&#x27;,\n",
       "                                                                           transformers=[(&#x27;num&#x27;,\n",
       "                                                                                          MinMaxScaler(),\n",
       "                                                                                          [&#x27;measure_index&#x27;,\n",
       "                                                                                           &#x27;measure_moisture&#x27;,\n",
       "                                                                                           &#x27;measure_temperature&#x27;,\n",
       "                                                                                           &#x27;measure_chemicals&#x27;,\n",
       "                                                                                           &#x27;measure_biodiversity&#x27;]),\n",
       "                                                                                         (&#x27;element&#x27;,\n",
       "                                                                                          OneHotEncoder(handle_unknown=&#x27;ignore&#x27;),\n",
       "                                                                                          [&#x27;main_element&#x27;]...\n",
       "                                                                                          Pipeline(steps=[(&#x27;time_features_extractor&#x27;,\n",
       "                                                                                                           TimeFeaturesExtractor()),\n",
       "                                                                                                          (&#x27;cyclical_encoder&#x27;,\n",
       "                                                                                                           CyclicalEncoder()),\n",
       "                                                                                                          (&#x27;duration_scaler&#x27;,\n",
       "                                                                                                           MinMaxScaler())]),\n",
       "                                                                                          [&#x27;datetime_start&#x27;,\n",
       "                                                                                           &#x27;datetime_end&#x27;])])),\n",
       "                                                        (&#x27;dimension_reduction&#x27;,\n",
       "                                                         PCA(n_components=12))])),\n",
       "                                       (&#x27;ensemble_model&#x27;,\n",
       "                                        RandomForestRegressor())]),\n",
       "             n_jobs=-1,\n",
       "             param_grid={&#x27;ensemble_model__max_depth&#x27;: [None, 10],\n",
       "                         &#x27;ensemble_model__n_estimators&#x27;: [100]},\n",
       "             verbose=1)</pre><b>In a Jupyter environment, please rerun this cell to show the HTML representation or trust the notebook. <br />On GitHub, the HTML representation is unable to render, please try loading this page with nbviewer.org.</b></div><div class=\"sk-container\" hidden><div class=\"sk-item sk-dashed-wrapped\"><div class=\"sk-label-container\"><div class=\"sk-label sk-toggleable\"><input class=\"sk-toggleable__control sk-hidden--visually\" id=\"sk-estimator-id-13\" type=\"checkbox\" ><label for=\"sk-estimator-id-13\" class=\"sk-toggleable__label sk-toggleable__label-arrow\">GridSearchCV</label><div class=\"sk-toggleable__content\"><pre>GridSearchCV(cv=5,\n",
       "             estimator=Pipeline(steps=[(&#x27;preprocessing&#x27;,\n",
       "                                        Pipeline(steps=[(&#x27;preprocessing_advanced&#x27;,\n",
       "                                                         ColumnTransformer(remainder=&#x27;passthrough&#x27;,\n",
       "                                                                           transformers=[(&#x27;num&#x27;,\n",
       "                                                                                          MinMaxScaler(),\n",
       "                                                                                          [&#x27;measure_index&#x27;,\n",
       "                                                                                           &#x27;measure_moisture&#x27;,\n",
       "                                                                                           &#x27;measure_temperature&#x27;,\n",
       "                                                                                           &#x27;measure_chemicals&#x27;,\n",
       "                                                                                           &#x27;measure_biodiversity&#x27;]),\n",
       "                                                                                         (&#x27;element&#x27;,\n",
       "                                                                                          OneHotEncoder(handle_unknown=&#x27;ignore&#x27;),\n",
       "                                                                                          [&#x27;main_element&#x27;]...\n",
       "                                                                                          Pipeline(steps=[(&#x27;time_features_extractor&#x27;,\n",
       "                                                                                                           TimeFeaturesExtractor()),\n",
       "                                                                                                          (&#x27;cyclical_encoder&#x27;,\n",
       "                                                                                                           CyclicalEncoder()),\n",
       "                                                                                                          (&#x27;duration_scaler&#x27;,\n",
       "                                                                                                           MinMaxScaler())]),\n",
       "                                                                                          [&#x27;datetime_start&#x27;,\n",
       "                                                                                           &#x27;datetime_end&#x27;])])),\n",
       "                                                        (&#x27;dimension_reduction&#x27;,\n",
       "                                                         PCA(n_components=12))])),\n",
       "                                       (&#x27;ensemble_model&#x27;,\n",
       "                                        RandomForestRegressor())]),\n",
       "             n_jobs=-1,\n",
       "             param_grid={&#x27;ensemble_model__max_depth&#x27;: [None, 10],\n",
       "                         &#x27;ensemble_model__n_estimators&#x27;: [100]},\n",
       "             verbose=1)</pre></div></div></div><div class=\"sk-parallel\"><div class=\"sk-parallel-item\"><div class=\"sk-item\"><div class=\"sk-label-container\"><div class=\"sk-label sk-toggleable\"><input class=\"sk-toggleable__control sk-hidden--visually\" id=\"sk-estimator-id-14\" type=\"checkbox\" ><label for=\"sk-estimator-id-14\" class=\"sk-toggleable__label sk-toggleable__label-arrow\">estimator: Pipeline</label><div class=\"sk-toggleable__content\"><pre>Pipeline(steps=[(&#x27;preprocessing&#x27;,\n",
       "                 Pipeline(steps=[(&#x27;preprocessing_advanced&#x27;,\n",
       "                                  ColumnTransformer(remainder=&#x27;passthrough&#x27;,\n",
       "                                                    transformers=[(&#x27;num&#x27;,\n",
       "                                                                   MinMaxScaler(),\n",
       "                                                                   [&#x27;measure_index&#x27;,\n",
       "                                                                    &#x27;measure_moisture&#x27;,\n",
       "                                                                    &#x27;measure_temperature&#x27;,\n",
       "                                                                    &#x27;measure_chemicals&#x27;,\n",
       "                                                                    &#x27;measure_biodiversity&#x27;]),\n",
       "                                                                  (&#x27;element&#x27;,\n",
       "                                                                   OneHotEncoder(handle_unknown=&#x27;ignore&#x27;),\n",
       "                                                                   [&#x27;main_element&#x27;]),\n",
       "                                                                  (&#x27;soil&#x27;,\n",
       "                                                                   OrdinalEncoder(categories=[[&#x27;poor&#x27;,\n",
       "                                                                                               &#x27;normal&#x27;,\n",
       "                                                                                               &#x27;rich&#x27;]]),\n",
       "                                                                   [&#x27;soil_condition&#x27;]),\n",
       "                                                                  (&#x27;time&#x27;,\n",
       "                                                                   Pipeline(steps=[(&#x27;time_features_extractor&#x27;,\n",
       "                                                                                    TimeFeaturesExtractor()),\n",
       "                                                                                   (&#x27;cyclical_encoder&#x27;,\n",
       "                                                                                    CyclicalEncoder()),\n",
       "                                                                                   (&#x27;duration_scaler&#x27;,\n",
       "                                                                                    MinMaxScaler())]),\n",
       "                                                                   [&#x27;datetime_start&#x27;,\n",
       "                                                                    &#x27;datetime_end&#x27;])])),\n",
       "                                 (&#x27;dimension_reduction&#x27;,\n",
       "                                  PCA(n_components=12))])),\n",
       "                (&#x27;ensemble_model&#x27;, RandomForestRegressor())])</pre></div></div></div><div class=\"sk-serial\"><div class=\"sk-item\"><div class=\"sk-serial\"><div class=\"sk-item\"><div class=\"sk-label-container\"><div class=\"sk-label sk-toggleable\"><input class=\"sk-toggleable__control sk-hidden--visually\" id=\"sk-estimator-id-15\" type=\"checkbox\" ><label for=\"sk-estimator-id-15\" class=\"sk-toggleable__label sk-toggleable__label-arrow\">preprocessing: Pipeline</label><div class=\"sk-toggleable__content\"><pre>Pipeline(steps=[(&#x27;preprocessing_advanced&#x27;,\n",
       "                 ColumnTransformer(remainder=&#x27;passthrough&#x27;,\n",
       "                                   transformers=[(&#x27;num&#x27;, MinMaxScaler(),\n",
       "                                                  [&#x27;measure_index&#x27;,\n",
       "                                                   &#x27;measure_moisture&#x27;,\n",
       "                                                   &#x27;measure_temperature&#x27;,\n",
       "                                                   &#x27;measure_chemicals&#x27;,\n",
       "                                                   &#x27;measure_biodiversity&#x27;]),\n",
       "                                                 (&#x27;element&#x27;,\n",
       "                                                  OneHotEncoder(handle_unknown=&#x27;ignore&#x27;),\n",
       "                                                  [&#x27;main_element&#x27;]),\n",
       "                                                 (&#x27;soil&#x27;,\n",
       "                                                  OrdinalEncoder(categories=[[&#x27;poor&#x27;,\n",
       "                                                                              &#x27;normal&#x27;,\n",
       "                                                                              &#x27;rich&#x27;]]),\n",
       "                                                  [&#x27;soil_condition&#x27;]),\n",
       "                                                 (&#x27;time&#x27;,\n",
       "                                                  Pipeline(steps=[(&#x27;time_features_extractor&#x27;,\n",
       "                                                                   TimeFeaturesExtractor()),\n",
       "                                                                  (&#x27;cyclical_encoder&#x27;,\n",
       "                                                                   CyclicalEncoder()),\n",
       "                                                                  (&#x27;duration_scaler&#x27;,\n",
       "                                                                   MinMaxScaler())]),\n",
       "                                                  [&#x27;datetime_start&#x27;,\n",
       "                                                   &#x27;datetime_end&#x27;])])),\n",
       "                (&#x27;dimension_reduction&#x27;, PCA(n_components=12))])</pre></div></div></div><div class=\"sk-serial\"><div class=\"sk-item sk-dashed-wrapped\"><div class=\"sk-label-container\"><div class=\"sk-label sk-toggleable\"><input class=\"sk-toggleable__control sk-hidden--visually\" id=\"sk-estimator-id-16\" type=\"checkbox\" ><label for=\"sk-estimator-id-16\" class=\"sk-toggleable__label sk-toggleable__label-arrow\">preprocessing_advanced: ColumnTransformer</label><div class=\"sk-toggleable__content\"><pre>ColumnTransformer(remainder=&#x27;passthrough&#x27;,\n",
       "                  transformers=[(&#x27;num&#x27;, MinMaxScaler(),\n",
       "                                 [&#x27;measure_index&#x27;, &#x27;measure_moisture&#x27;,\n",
       "                                  &#x27;measure_temperature&#x27;, &#x27;measure_chemicals&#x27;,\n",
       "                                  &#x27;measure_biodiversity&#x27;]),\n",
       "                                (&#x27;element&#x27;,\n",
       "                                 OneHotEncoder(handle_unknown=&#x27;ignore&#x27;),\n",
       "                                 [&#x27;main_element&#x27;]),\n",
       "                                (&#x27;soil&#x27;,\n",
       "                                 OrdinalEncoder(categories=[[&#x27;poor&#x27;, &#x27;normal&#x27;,\n",
       "                                                             &#x27;rich&#x27;]]),\n",
       "                                 [&#x27;soil_condition&#x27;]),\n",
       "                                (&#x27;time&#x27;,\n",
       "                                 Pipeline(steps=[(&#x27;time_features_extractor&#x27;,\n",
       "                                                  TimeFeaturesExtractor()),\n",
       "                                                 (&#x27;cyclical_encoder&#x27;,\n",
       "                                                  CyclicalEncoder()),\n",
       "                                                 (&#x27;duration_scaler&#x27;,\n",
       "                                                  MinMaxScaler())]),\n",
       "                                 [&#x27;datetime_start&#x27;, &#x27;datetime_end&#x27;])])</pre></div></div></div><div class=\"sk-parallel\"><div class=\"sk-parallel-item\"><div class=\"sk-item\"><div class=\"sk-label-container\"><div class=\"sk-label sk-toggleable\"><input class=\"sk-toggleable__control sk-hidden--visually\" id=\"sk-estimator-id-17\" type=\"checkbox\" ><label for=\"sk-estimator-id-17\" class=\"sk-toggleable__label sk-toggleable__label-arrow\">num</label><div class=\"sk-toggleable__content\"><pre>[&#x27;measure_index&#x27;, &#x27;measure_moisture&#x27;, &#x27;measure_temperature&#x27;, &#x27;measure_chemicals&#x27;, &#x27;measure_biodiversity&#x27;]</pre></div></div></div><div class=\"sk-serial\"><div class=\"sk-item\"><div class=\"sk-estimator sk-toggleable\"><input class=\"sk-toggleable__control sk-hidden--visually\" id=\"sk-estimator-id-18\" type=\"checkbox\" ><label for=\"sk-estimator-id-18\" class=\"sk-toggleable__label sk-toggleable__label-arrow\">MinMaxScaler</label><div class=\"sk-toggleable__content\"><pre>MinMaxScaler()</pre></div></div></div></div></div></div><div class=\"sk-parallel-item\"><div class=\"sk-item\"><div class=\"sk-label-container\"><div class=\"sk-label sk-toggleable\"><input class=\"sk-toggleable__control sk-hidden--visually\" id=\"sk-estimator-id-19\" type=\"checkbox\" ><label for=\"sk-estimator-id-19\" class=\"sk-toggleable__label sk-toggleable__label-arrow\">element</label><div class=\"sk-toggleable__content\"><pre>[&#x27;main_element&#x27;]</pre></div></div></div><div class=\"sk-serial\"><div class=\"sk-item\"><div class=\"sk-estimator sk-toggleable\"><input class=\"sk-toggleable__control sk-hidden--visually\" id=\"sk-estimator-id-20\" type=\"checkbox\" ><label for=\"sk-estimator-id-20\" class=\"sk-toggleable__label sk-toggleable__label-arrow\">OneHotEncoder</label><div class=\"sk-toggleable__content\"><pre>OneHotEncoder(handle_unknown=&#x27;ignore&#x27;)</pre></div></div></div></div></div></div><div class=\"sk-parallel-item\"><div class=\"sk-item\"><div class=\"sk-label-container\"><div class=\"sk-label sk-toggleable\"><input class=\"sk-toggleable__control sk-hidden--visually\" id=\"sk-estimator-id-21\" type=\"checkbox\" ><label for=\"sk-estimator-id-21\" class=\"sk-toggleable__label sk-toggleable__label-arrow\">soil</label><div class=\"sk-toggleable__content\"><pre>[&#x27;soil_condition&#x27;]</pre></div></div></div><div class=\"sk-serial\"><div class=\"sk-item\"><div class=\"sk-estimator sk-toggleable\"><input class=\"sk-toggleable__control sk-hidden--visually\" id=\"sk-estimator-id-22\" type=\"checkbox\" ><label for=\"sk-estimator-id-22\" class=\"sk-toggleable__label sk-toggleable__label-arrow\">OrdinalEncoder</label><div class=\"sk-toggleable__content\"><pre>OrdinalEncoder(categories=[[&#x27;poor&#x27;, &#x27;normal&#x27;, &#x27;rich&#x27;]])</pre></div></div></div></div></div></div><div class=\"sk-parallel-item\"><div class=\"sk-item\"><div class=\"sk-label-container\"><div class=\"sk-label sk-toggleable\"><input class=\"sk-toggleable__control sk-hidden--visually\" id=\"sk-estimator-id-23\" type=\"checkbox\" ><label for=\"sk-estimator-id-23\" class=\"sk-toggleable__label sk-toggleable__label-arrow\">time</label><div class=\"sk-toggleable__content\"><pre>[&#x27;datetime_start&#x27;, &#x27;datetime_end&#x27;]</pre></div></div></div><div class=\"sk-serial\"><div class=\"sk-item\"><div class=\"sk-serial\"><div class=\"sk-item\"><div class=\"sk-estimator sk-toggleable\"><input class=\"sk-toggleable__control sk-hidden--visually\" id=\"sk-estimator-id-24\" type=\"checkbox\" ><label for=\"sk-estimator-id-24\" class=\"sk-toggleable__label sk-toggleable__label-arrow\">TimeFeaturesExtractor</label><div class=\"sk-toggleable__content\"><pre>TimeFeaturesExtractor()</pre></div></div></div><div class=\"sk-item\"><div class=\"sk-estimator sk-toggleable\"><input class=\"sk-toggleable__control sk-hidden--visually\" id=\"sk-estimator-id-25\" type=\"checkbox\" ><label for=\"sk-estimator-id-25\" class=\"sk-toggleable__label sk-toggleable__label-arrow\">CyclicalEncoder</label><div class=\"sk-toggleable__content\"><pre>CyclicalEncoder()</pre></div></div></div><div class=\"sk-item\"><div class=\"sk-estimator sk-toggleable\"><input class=\"sk-toggleable__control sk-hidden--visually\" id=\"sk-estimator-id-26\" type=\"checkbox\" ><label for=\"sk-estimator-id-26\" class=\"sk-toggleable__label sk-toggleable__label-arrow\">MinMaxScaler</label><div class=\"sk-toggleable__content\"><pre>MinMaxScaler()</pre></div></div></div></div></div></div></div></div><div class=\"sk-parallel-item\"><div class=\"sk-item\"><div class=\"sk-label-container\"><div class=\"sk-label sk-toggleable\"><input class=\"sk-toggleable__control sk-hidden--visually\" id=\"sk-estimator-id-27\" type=\"checkbox\" ><label for=\"sk-estimator-id-27\" class=\"sk-toggleable__label sk-toggleable__label-arrow\">remainder</label><div class=\"sk-toggleable__content\"><pre>[&#x27;past_agriculture&#x27;, &#x27;experiment_duration&#x27;]</pre></div></div></div><div class=\"sk-serial\"><div class=\"sk-item\"><div class=\"sk-estimator sk-toggleable\"><input class=\"sk-toggleable__control sk-hidden--visually\" id=\"sk-estimator-id-28\" type=\"checkbox\" ><label for=\"sk-estimator-id-28\" class=\"sk-toggleable__label sk-toggleable__label-arrow\">passthrough</label><div class=\"sk-toggleable__content\"><pre>passthrough</pre></div></div></div></div></div></div></div></div><div class=\"sk-item\"><div class=\"sk-estimator sk-toggleable\"><input class=\"sk-toggleable__control sk-hidden--visually\" id=\"sk-estimator-id-29\" type=\"checkbox\" ><label for=\"sk-estimator-id-29\" class=\"sk-toggleable__label sk-toggleable__label-arrow\">PCA</label><div class=\"sk-toggleable__content\"><pre>PCA(n_components=12)</pre></div></div></div></div></div><div class=\"sk-item\"><div class=\"sk-estimator sk-toggleable\"><input class=\"sk-toggleable__control sk-hidden--visually\" id=\"sk-estimator-id-30\" type=\"checkbox\" ><label for=\"sk-estimator-id-30\" class=\"sk-toggleable__label sk-toggleable__label-arrow\">RandomForestRegressor</label><div class=\"sk-toggleable__content\"><pre>RandomForestRegressor()</pre></div></div></div></div></div></div></div></div></div></div></div></div>"
      ],
      "text/plain": [
       "GridSearchCV(cv=5,\n",
       "             estimator=Pipeline(steps=[('preprocessing',\n",
       "                                        Pipeline(steps=[('preprocessing_advanced',\n",
       "                                                         ColumnTransformer(remainder='passthrough',\n",
       "                                                                           transformers=[('num',\n",
       "                                                                                          MinMaxScaler(),\n",
       "                                                                                          ['measure_index',\n",
       "                                                                                           'measure_moisture',\n",
       "                                                                                           'measure_temperature',\n",
       "                                                                                           'measure_chemicals',\n",
       "                                                                                           'measure_biodiversity']),\n",
       "                                                                                         ('element',\n",
       "                                                                                          OneHotEncoder(handle_unknown='ignore'),\n",
       "                                                                                          ['main_element']...\n",
       "                                                                                          Pipeline(steps=[('time_features_extractor',\n",
       "                                                                                                           TimeFeaturesExtractor()),\n",
       "                                                                                                          ('cyclical_encoder',\n",
       "                                                                                                           CyclicalEncoder()),\n",
       "                                                                                                          ('duration_scaler',\n",
       "                                                                                                           MinMaxScaler())]),\n",
       "                                                                                          ['datetime_start',\n",
       "                                                                                           'datetime_end'])])),\n",
       "                                                        ('dimension_reduction',\n",
       "                                                         PCA(n_components=12))])),\n",
       "                                       ('ensemble_model',\n",
       "                                        RandomForestRegressor())]),\n",
       "             n_jobs=-1,\n",
       "             param_grid={'ensemble_model__max_depth': [None, 10],\n",
       "                         'ensemble_model__n_estimators': [100]},\n",
       "             verbose=1)"
      ]
     },
     "execution_count": 58,
     "metadata": {},
     "output_type": "execute_result"
    }
   ],
   "source": [
    "# Perform grid search\n",
    "search = GridSearchCV(pipeline_ensemble, param_grid, cv=5,n_jobs=-1,verbose=1)\n",
    "\n",
    "# Fit grid search\n",
    "search.fit(X, y)"
   ]
  },
  {
   "cell_type": "markdown",
   "metadata": {
    "id": "iEKn1KvnB8OT"
   },
   "source": [
    "**📝 Store the _cross-validated results_ of your grid search in the `cv_results` variable:**\n",
    "\n",
    "> Add blockquote\n",
    "\n"
   ]
  },
  {
   "cell_type": "code",
   "execution_count": 59,
   "metadata": {
    "id": "oNqubt6pB8OT",
    "tags": [
     "challengify"
    ]
   },
   "outputs": [],
   "source": [
    "cv_results = search.cv_results_"
   ]
  },
  {
   "cell_type": "markdown",
   "metadata": {
    "id": "tVtIXLJbB8OT"
   },
   "source": [
    "**📝 Store the _best model_ of your grid search in a variable `tuned_model`.**"
   ]
  },
  {
   "cell_type": "code",
   "execution_count": 60,
   "metadata": {
    "ExecuteTime": {
     "end_time": "2021-09-09T15:39:43.033730Z",
     "start_time": "2021-09-09T15:39:37.779Z"
    },
    "id": "3_ozSePcB8OT",
    "tags": [
     "challengify"
    ]
   },
   "outputs": [],
   "source": [
    "tuned_model = search.best_estimator_"
   ]
  },
  {
   "cell_type": "markdown",
   "metadata": {
    "id": "n1DxNiEaB8OT"
   },
   "source": [
    "### 💾 Save your results\n",
    "\n",
    "Run the cell below to save your results."
   ]
  },
  {
   "cell_type": "code",
   "execution_count": 61,
   "metadata": {
    "ExecuteTime": {
     "end_time": "2021-09-09T15:39:43.035303Z",
     "start_time": "2021-09-09T15:39:37.788Z"
    },
    "id": "RuidG-ZBB8OT"
   },
   "outputs": [],
   "source": [
    "# from nbresult import ChallengeResult\n",
    "# from sklearn.model_selection import train_test_split\n",
    "# X_,X_val,y_,y_val=train_test_split(X,y,test_size=0.3,random_state=10)\n",
    "# tuned_model.fit(X_,y_)\n",
    "\n",
    "# result = ChallengeResult(\n",
    "#     'model_tuning',\n",
    "#     scores_ensemble=scores_ensemble,\n",
    "#     scoring=search.scorer_,\n",
    "#     params=search.best_params_,\n",
    "#     cv_results=cv_results,\n",
    "#     y=y_val,\n",
    "#     y_pred=tuned_model.predict(X_val)\n",
    "# )\n",
    "# result.write()"
   ]
  },
  {
   "cell_type": "markdown",
   "metadata": {
    "id": "PKn_KnnuB8OT"
   },
   "source": [
    "## Prediction"
   ]
  },
  {
   "cell_type": "markdown",
   "metadata": {
    "id": "diqXYlZ0B8OU"
   },
   "source": [
    "**📝 Use your newly fine-tuned model to predict on a test set.**"
   ]
  },
  {
   "cell_type": "markdown",
   "metadata": {
    "id": "fk0VqVZpB8OU"
   },
   "source": [
    "Load the test provided at this url: \"https://wagon-public-datasets.s3.amazonaws.com/certification/soils_viability/soils_viability_test.csv\".\n",
    "\n",
    "Create `X_test` and `y_test`\n",
    "\n",
    "Use your fine-tuned model to predict on `X_test`\n",
    "\n",
    "Print a full classification report with your prediction and `y_test`"
   ]
  },
  {
   "cell_type": "code",
   "execution_count": null,
   "metadata": {
    "id": "uwKGp_yIB8OU"
   },
   "outputs": [],
   "source": [
    "df_test = pd.read_csv(\"https://wagon-public-datasets.s3.amazonaws.com/certification/soils_viability/soils_viability_test.csv\")"
   ]
  },
  {
   "cell_type": "code",
   "execution_count": null,
   "metadata": {
    "ExecuteTime": {
     "end_time": "2021-09-09T15:39:43.036804Z",
     "start_time": "2021-09-09T15:39:37.800Z"
    },
    "id": "iXw4Fz1XB8OU",
    "tags": [
     "challengify"
    ]
   },
   "outputs": [],
   "source": [
    "# YOUR CODE HERE"
   ]
  },
  {
   "cell_type": "markdown",
   "metadata": {
    "id": "W9D3Bg6RB8OU"
   },
   "source": [
    "**❓ Comment your results:**"
   ]
  },
  {
   "cell_type": "markdown",
   "metadata": {
    "id": "yPnN_TvvB8OU",
    "tags": [
     "challengify"
    ]
   },
   "source": [
    "> YOUR ANSWER HERE"
   ]
  },
  {
   "cell_type": "markdown",
   "metadata": {
    "id": "wbr3BaQaB8OU"
   },
   "source": [
    "## API\n",
    "\n",
    "Time to put a pipeline in production!\n",
    "\n",
    "👉 Go back to the certification interface and follow the instructions about the API challenge.\n",
    "\n",
    "**This final part is independent from the above notebook**"
   ]
  },
  {
   "cell_type": "markdown",
   "metadata": {
    "id": "uqg9E5JMB8OU"
   },
   "source": [
    "*C12 - Mettre en production le modèle d'apprentissage supervisé ou non supervisé obtenu sous la forme d'une API*"
   ]
  }
 ],
 "metadata": {
  "colab": {
   "provenance": []
  },
  "kernelspec": {
   "display_name": "Python 3 (ipykernel)",
   "language": "python",
   "name": "python3"
  },
  "language_info": {
   "codemirror_mode": {
    "name": "ipython",
    "version": 3
   },
   "file_extension": ".py",
   "mimetype": "text/x-python",
   "name": "python",
   "nbconvert_exporter": "python",
   "pygments_lexer": "ipython3",
   "version": "3.9.15"
  },
  "toc": {
   "base_numbering": 1,
   "nav_menu": {},
   "number_sections": false,
   "sideBar": true,
   "skip_h1_title": false,
   "title_cell": "Table of Contents",
   "title_sidebar": "Contents",
   "toc_cell": false,
   "toc_position": {
    "height": "calc(100% - 180px)",
    "left": "10px",
    "top": "150px",
    "width": "246.297px"
   },
   "toc_section_display": true,
   "toc_window_display": false
  },
  "varInspector": {
   "cols": {
    "lenName": 16,
    "lenType": 16,
    "lenVar": 40
   },
   "kernels_config": {
    "python": {
     "delete_cmd_postfix": "",
     "delete_cmd_prefix": "del ",
     "library": "var_list.py",
     "varRefreshCmd": "print(var_dic_list())"
    },
    "r": {
     "delete_cmd_postfix": ") ",
     "delete_cmd_prefix": "rm(",
     "library": "var_list.r",
     "varRefreshCmd": "cat(var_dic_list()) "
    }
   },
   "types_to_exclude": [
    "module",
    "function",
    "builtin_function_or_method",
    "instance",
    "_Feature"
   ],
   "window_display": false
  }
 },
 "nbformat": 4,
 "nbformat_minor": 1
}
