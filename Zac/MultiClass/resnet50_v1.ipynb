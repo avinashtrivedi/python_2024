{
 "cells": [
  {
   "cell_type": "code",
   "execution_count": null,
   "id": "55f0db22",
   "metadata": {
    "_cell_guid": "b1076dfc-b9ad-4769-8c92-a6c4dae69d19",
    "_uuid": "8f2839f25d086af736a60e9eeb907d3b93b6e0e5",
    "execution": {
     "iopub.execute_input": "2023-11-01T02:58:30.167392Z",
     "iopub.status.busy": "2023-11-01T02:58:30.167019Z",
     "iopub.status.idle": "2023-11-01T02:58:30.963835Z",
     "shell.execute_reply": "2023-11-01T02:58:30.963053Z"
    },
    "papermill": {
     "duration": 0.811689,
     "end_time": "2023-11-01T02:58:30.966185",
     "exception": false,
     "start_time": "2023-11-01T02:58:30.154496",
     "status": "completed"
    },
    "tags": []
   },
   "outputs": [],
   "source": [
    "import numpy as np \n",
    "from tqdm.notebook import tqdm\n",
    "import pandas as pd \n",
    "import os"
   ]
  },
  {
   "cell_type": "code",
   "execution_count": null,
   "id": "0f3f3273",
   "metadata": {},
   "outputs": [],
   "source": [
    "os.listdir('data')"
   ]
  },
  {
   "cell_type": "code",
   "execution_count": null,
   "id": "ba348bb1",
   "metadata": {
    "execution": {
     "iopub.execute_input": "2023-11-01T02:58:31.031389Z",
     "iopub.status.busy": "2023-11-01T02:58:31.031070Z",
     "iopub.status.idle": "2023-11-01T02:58:31.069312Z",
     "shell.execute_reply": "2023-11-01T02:58:31.068360Z"
    },
    "papermill": {
     "duration": 0.05175,
     "end_time": "2023-11-01T02:58:31.071444",
     "exception": false,
     "start_time": "2023-11-01T02:58:31.019694",
     "status": "completed"
    },
    "tags": []
   },
   "outputs": [],
   "source": [
    "# load the metadata\n",
    "data = pd.read_csv('data/HAM10000_metadata.csv')"
   ]
  },
  {
   "cell_type": "code",
   "execution_count": null,
   "id": "82481002",
   "metadata": {
    "execution": {
     "iopub.execute_input": "2023-11-01T02:58:31.094040Z",
     "iopub.status.busy": "2023-11-01T02:58:31.093338Z",
     "iopub.status.idle": "2023-11-01T02:58:31.110942Z",
     "shell.execute_reply": "2023-11-01T02:58:31.110047Z"
    },
    "papermill": {
     "duration": 0.030978,
     "end_time": "2023-11-01T02:58:31.113064",
     "exception": false,
     "start_time": "2023-11-01T02:58:31.082086",
     "status": "completed"
    },
    "tags": []
   },
   "outputs": [],
   "source": [
    "data['dx'].value_counts()"
   ]
  },
  {
   "cell_type": "code",
   "execution_count": null,
   "id": "25eb4198",
   "metadata": {},
   "outputs": [],
   "source": [
    "# number of classes\n",
    "data['dx'].nunique()"
   ]
  },
  {
   "cell_type": "code",
   "execution_count": null,
   "id": "941cef86",
   "metadata": {
    "execution": {
     "iopub.execute_input": "2023-11-01T02:58:31.135506Z",
     "iopub.status.busy": "2023-11-01T02:58:31.134929Z",
     "iopub.status.idle": "2023-11-01T02:58:44.503407Z",
     "shell.execute_reply": "2023-11-01T02:58:44.502243Z"
    },
    "papermill": {
     "duration": 13.383045,
     "end_time": "2023-11-01T02:58:44.506446",
     "exception": false,
     "start_time": "2023-11-01T02:58:31.123401",
     "status": "completed"
    },
    "tags": []
   },
   "outputs": [],
   "source": [
    "!pip install barbar pytorch-ignite"
   ]
  },
  {
   "cell_type": "code",
   "execution_count": null,
   "id": "66055d0c",
   "metadata": {
    "execution": {
     "iopub.execute_input": "2023-11-01T02:58:44.532464Z",
     "iopub.status.busy": "2023-11-01T02:58:44.531634Z",
     "iopub.status.idle": "2023-11-01T02:58:56.628997Z",
     "shell.execute_reply": "2023-11-01T02:58:56.627700Z"
    },
    "papermill": {
     "duration": 12.112865,
     "end_time": "2023-11-01T02:58:56.631419",
     "exception": false,
     "start_time": "2023-11-01T02:58:44.518554",
     "status": "completed"
    },
    "tags": []
   },
   "outputs": [],
   "source": [
    "pip install -q torch-summary"
   ]
  },
  {
   "cell_type": "code",
   "execution_count": null,
   "id": "0020e61a",
   "metadata": {},
   "outputs": [],
   "source": [
    "!pip install tensorboard"
   ]
  },
  {
   "cell_type": "code",
   "execution_count": null,
   "id": "afb1a252",
   "metadata": {},
   "outputs": [],
   "source": [
    "conda install pytorch torchvision torchaudio pytorch-cuda=12.1 -c pytorch -c nvidia"
   ]
  },
  {
   "cell_type": "code",
   "execution_count": null,
   "id": "c6964295",
   "metadata": {
    "execution": {
     "iopub.execute_input": "2023-11-01T02:58:56.656828Z",
     "iopub.status.busy": "2023-11-01T02:58:56.656469Z",
     "iopub.status.idle": "2023-11-01T02:59:09.541965Z",
     "shell.execute_reply": "2023-11-01T02:59:09.541087Z"
    },
    "papermill": {
     "duration": 12.901289,
     "end_time": "2023-11-01T02:59:09.544571",
     "exception": false,
     "start_time": "2023-11-01T02:58:56.643282",
     "status": "completed"
    },
    "tags": []
   },
   "outputs": [],
   "source": [
    "import torch\n",
    "import os\n",
    "import random\n",
    "import torchvision\n",
    "import pandas as pd\n",
    "import torch.nn as nn\n",
    "import numpy as np\n",
    "from torchvision import transforms, datasets\n",
    "# from shutil import copyfile, move\n",
    "# from torch.utils.tensorboard import SummaryWriter\n",
    "# from barbar import Bar\n",
    "# from torchsummary import summary\n",
    "# from ignite.metrics import Accuracy\n",
    "# from sklearn.metrics import confusion_matrix, ConfusionMatrixDisplay, classification_report, roc_auc_score"
   ]
  },
  {
   "cell_type": "code",
   "execution_count": null,
   "id": "0bbf1e39",
   "metadata": {},
   "outputs": [],
   "source": [
    "model2 = torchvision.models.resnet50(pretrained=True)#.to(device)\n",
    "\n",
    "model2.fc = nn.Linear(2048, 7)#.to(device)"
   ]
  },
  {
   "cell_type": "code",
   "execution_count": null,
   "id": "d47e2938",
   "metadata": {},
   "outputs": [],
   "source": [
    "model2"
   ]
  },
  {
   "cell_type": "code",
   "execution_count": null,
   "id": "819419d3",
   "metadata": {},
   "outputs": [],
   "source": []
  },
  {
   "cell_type": "code",
   "execution_count": null,
   "id": "79189761",
   "metadata": {},
   "outputs": [],
   "source": []
  },
  {
   "cell_type": "code",
   "execution_count": null,
   "id": "017939d6",
   "metadata": {},
   "outputs": [],
   "source": []
  },
  {
   "cell_type": "code",
   "execution_count": null,
   "id": "d2cc2ce0",
   "metadata": {},
   "outputs": [],
   "source": []
  },
  {
   "cell_type": "markdown",
   "id": "0ef0ce14",
   "metadata": {},
   "source": [
    "# split the data into train and validation"
   ]
  },
  {
   "cell_type": "code",
   "execution_count": null,
   "id": "e135db81",
   "metadata": {
    "execution": {
     "iopub.execute_input": "2023-11-01T02:59:09.607075Z",
     "iopub.status.busy": "2023-11-01T02:59:09.606646Z",
     "iopub.status.idle": "2023-11-01T02:59:09.614361Z",
     "shell.execute_reply": "2023-11-01T02:59:09.613521Z"
    },
    "papermill": {
     "duration": 0.022167,
     "end_time": "2023-11-01T02:59:09.616427",
     "exception": false,
     "start_time": "2023-11-01T02:59:09.594260",
     "status": "completed"
    },
    "tags": []
   },
   "outputs": [],
   "source": [
    "def split_data(source, training, validation, split_size):    \n",
    "    files = []\n",
    "    for filename in os.listdir(source):\n",
    "        file = source + filename\n",
    "        if os.path.getsize(file) > 0:\n",
    "            files.append(filename)\n",
    "        else:\n",
    "            print(filename + \" is zero length, so ignoring.\")\n",
    "\n",
    "    training_length = int(len(files) * split_size)\n",
    "    validation_length = int(len(files) - training_length)\n",
    "    shuffled_set = random.sample(files, len(files))\n",
    "    training_set = shuffled_set[0:training_length]\n",
    "    validation_set = shuffled_set[:validation_length]\n",
    "\n",
    "    for filename in training_set:\n",
    "        this_file = source + filename\n",
    "        destination = training + filename\n",
    "        copyfile(this_file, destination)\n",
    "\n",
    "    for filename in validation_set:\n",
    "        this_file = source + filename\n",
    "        destination = validation + filename\n",
    "        copyfile(this_file, destination)"
   ]
  },
  {
   "cell_type": "markdown",
   "id": "2dadad5c",
   "metadata": {},
   "source": [
    "# create necessary folders to store the specific images"
   ]
  },
  {
   "cell_type": "code",
   "execution_count": null,
   "id": "54fbe568",
   "metadata": {
    "execution": {
     "iopub.execute_input": "2023-11-01T02:59:09.640991Z",
     "iopub.status.busy": "2023-11-01T02:59:09.640290Z",
     "iopub.status.idle": "2023-11-01T02:59:09.644580Z",
     "shell.execute_reply": "2023-11-01T02:59:09.643749Z"
    },
    "papermill": {
     "duration": 0.018719,
     "end_time": "2023-11-01T02:59:09.646633",
     "exception": false,
     "start_time": "2023-11-01T02:59:09.627914",
     "status": "completed"
    },
    "tags": []
   },
   "outputs": [],
   "source": [
    "try:\n",
    "    os.mkdir('skin_models/')\n",
    "    os.mkdir('HAM10000')\n",
    "    os.mkdir('orig/')\n",
    "    os.mkdir('orig/0.MEL/')\n",
    "    os.mkdir('orig/1.NV/')\n",
    "    os.mkdir('orig/2.BCC/')\n",
    "    os.mkdir('orig/3.AKIEC/')\n",
    "    os.mkdir('orig/4.BKL/')\n",
    "    os.mkdir('orig/5.DF/')\n",
    "    os.mkdir('orig/6.VASC/')\n",
    "\n",
    "    os.mkdir('skin/')\n",
    "    os.mkdir('skin/training/')\n",
    "    os.mkdir('skin/validation/')\n",
    "    os.mkdir('skin/training/0.MEL/')\n",
    "    os.mkdir('skin/training/1.NV/')\n",
    "    os.mkdir('skin/training/2.BCC/')\n",
    "    os.mkdir('skin/training/3.AKIEC/')\n",
    "    os.mkdir('skin/training/4.BKL/')\n",
    "    os.mkdir('skin/training/5.DF/')\n",
    "    os.mkdir('skin/training/6.VASC/')\n",
    "    os.mkdir('skin/validation/0.MEL/')\n",
    "    os.mkdir('skin/validation/1.NV/')\n",
    "    os.mkdir('skin/validation/2.BCC/')\n",
    "    os.mkdir('skin/validation/3.AKIEC/')\n",
    "    os.mkdir('skin/validation/4.BKL/')\n",
    "    os.mkdir('skin/validation/5.DF/')\n",
    "    os.mkdir('skin/validation/6.VASC/')\n",
    "except:\n",
    "    print('Folders already created.')"
   ]
  },
  {
   "cell_type": "code",
   "execution_count": null,
   "id": "3ddd53dc",
   "metadata": {
    "execution": {
     "iopub.execute_input": "2023-11-01T02:59:09.709091Z",
     "iopub.status.busy": "2023-11-01T02:59:09.708400Z",
     "iopub.status.idle": "2023-11-01T02:59:09.715438Z",
     "shell.execute_reply": "2023-11-01T02:59:09.714384Z"
    },
    "papermill": {
     "duration": 0.021996,
     "end_time": "2023-11-01T02:59:09.717599",
     "exception": false,
     "start_time": "2023-11-01T02:59:09.695603",
     "status": "completed"
    },
    "tags": []
   },
   "outputs": [],
   "source": [
    "orig_all = 'HAM10000/'\n",
    "source_MEL = 'orig/0.MEL/'\n",
    "source_NV = 'orig/1.NV/'\n",
    "source_BCC = 'orig/2.BCC/'\n",
    "source_AKIEC = 'orig/3.AKIEC/'\n",
    "source_BKL = 'orig/4.BKL/'\n",
    "source_DF = 'orig/5.DF/'\n",
    "source_VASC = 'orig/6.VASC/'\n",
    "\n",
    "training_MEL = 'skin/training/0.MEL/'\n",
    "training_NV = 'skin/training/1.NV/'\n",
    "training_BCC = 'skin/training/2.BCC/'\n",
    "training_AKIEC = 'skin/training/3.AKIEC/'\n",
    "training_BKL = 'skin/training/4.BKL/'\n",
    "training_DF = 'skin/training/5.DF/'\n",
    "training_VASC = 'skin/training/6.VASC/'\n",
    "validation_MEL = 'skin/validation/0.MEL/'\n",
    "validation_NV = 'skin/validation/1.NV/'\n",
    "validation_BCC = 'skin/validation/2.BCC/'\n",
    "validation_AKIEC = 'skin/validation/3.AKIEC/'\n",
    "validation_BKL = 'skin/validation/4.BKL/'\n",
    "validation_DF = 'skin/validation/5.DF/'\n",
    "validation_VASC = 'skin/validation/6.VASC/'"
   ]
  },
  {
   "cell_type": "code",
   "execution_count": null,
   "id": "91483b79",
   "metadata": {
    "execution": {
     "iopub.execute_input": "2023-11-01T02:59:09.772398Z",
     "iopub.status.busy": "2023-11-01T02:59:09.772024Z",
     "iopub.status.idle": "2023-11-01T03:00:42.054293Z",
     "shell.execute_reply": "2023-11-01T03:00:42.053242Z"
    },
    "papermill": {
     "duration": 92.297077,
     "end_time": "2023-11-01T03:00:42.056483",
     "exception": false,
     "start_time": "2023-11-01T02:59:09.759406",
     "status": "completed"
    },
    "tags": []
   },
   "outputs": [],
   "source": [
    "part1 = \"data/HAM10000_images_part_1\"\n",
    "part2 = \"data/HAM10000_images_part_2\"\n",
    "\n",
    "for part in [part1,part2]:\n",
    "    for img in tqdm(os.listdir(part)):\n",
    "        copyfile(os.path.join(part, img), os.path.join('HAM10000', img))    "
   ]
  },
  {
   "cell_type": "code",
   "execution_count": null,
   "id": "3335ab7a",
   "metadata": {
    "execution": {
     "iopub.execute_input": "2023-11-01T03:00:42.082481Z",
     "iopub.status.busy": "2023-11-01T03:00:42.082127Z",
     "iopub.status.idle": "2023-11-01T03:00:42.106547Z",
     "shell.execute_reply": "2023-11-01T03:00:42.105512Z"
    },
    "papermill": {
     "duration": 0.040365,
     "end_time": "2023-11-01T03:00:42.108959",
     "exception": false,
     "start_time": "2023-11-01T03:00:42.068594",
     "status": "completed"
    },
    "tags": []
   },
   "outputs": [],
   "source": [
    "data"
   ]
  },
  {
   "cell_type": "code",
   "execution_count": null,
   "id": "4416137c",
   "metadata": {
    "execution": {
     "iopub.execute_input": "2023-11-01T03:00:42.135734Z",
     "iopub.status.busy": "2023-11-01T03:00:42.135414Z",
     "iopub.status.idle": "2023-11-01T03:00:42.141799Z",
     "shell.execute_reply": "2023-11-01T03:00:42.140897Z"
    },
    "papermill": {
     "duration": 0.021742,
     "end_time": "2023-11-01T03:00:42.143773",
     "exception": false,
     "start_time": "2023-11-01T03:00:42.122031",
     "status": "completed"
    },
    "tags": []
   },
   "outputs": [],
   "source": [
    "data.columns"
   ]
  },
  {
   "cell_type": "code",
   "execution_count": null,
   "id": "94e34d5f",
   "metadata": {
    "execution": {
     "iopub.execute_input": "2023-11-01T03:00:42.168565Z",
     "iopub.status.busy": "2023-11-01T03:00:42.168295Z",
     "iopub.status.idle": "2023-11-01T03:00:42.173883Z",
     "shell.execute_reply": "2023-11-01T03:00:42.173026Z"
    },
    "papermill": {
     "duration": 0.020255,
     "end_time": "2023-11-01T03:00:42.175780",
     "exception": false,
     "start_time": "2023-11-01T03:00:42.155525",
     "status": "completed"
    },
    "tags": []
   },
   "outputs": [],
   "source": [
    "len(data)"
   ]
  },
  {
   "cell_type": "code",
   "execution_count": null,
   "id": "1011e2da",
   "metadata": {
    "execution": {
     "iopub.execute_input": "2023-11-01T03:00:42.201341Z",
     "iopub.status.busy": "2023-11-01T03:00:42.200575Z",
     "iopub.status.idle": "2023-11-01T03:00:42.209419Z",
     "shell.execute_reply": "2023-11-01T03:00:42.208435Z"
    },
    "papermill": {
     "duration": 0.024,
     "end_time": "2023-11-01T03:00:42.211510",
     "exception": false,
     "start_time": "2023-11-01T03:00:42.187510",
     "status": "completed"
    },
    "tags": []
   },
   "outputs": [],
   "source": [
    "# drop all duplicate photos by lesion_id to make all our photos iid (independant and identically distributed), \n",
    "# so that we wont overfit\n",
    "\n",
    "data = data.drop_duplicates(subset='lesion_id')"
   ]
  },
  {
   "cell_type": "code",
   "execution_count": null,
   "id": "c0f2087a",
   "metadata": {
    "execution": {
     "iopub.execute_input": "2023-11-01T03:00:42.237301Z",
     "iopub.status.busy": "2023-11-01T03:00:42.236721Z",
     "iopub.status.idle": "2023-11-01T03:00:42.242674Z",
     "shell.execute_reply": "2023-11-01T03:00:42.241801Z"
    },
    "papermill": {
     "duration": 0.021162,
     "end_time": "2023-11-01T03:00:42.244708",
     "exception": false,
     "start_time": "2023-11-01T03:00:42.223546",
     "status": "completed"
    },
    "tags": []
   },
   "outputs": [],
   "source": [
    "len(data)\n"
   ]
  },
  {
   "cell_type": "code",
   "execution_count": null,
   "id": "3f6b6bd3",
   "metadata": {
    "execution": {
     "iopub.execute_input": "2023-11-01T03:00:42.318965Z",
     "iopub.status.busy": "2023-11-01T03:00:42.318248Z",
     "iopub.status.idle": "2023-11-01T03:00:42.325440Z",
     "shell.execute_reply": "2023-11-01T03:00:42.324489Z"
    },
    "papermill": {
     "duration": 0.070219,
     "end_time": "2023-11-01T03:00:42.327357",
     "exception": false,
     "start_time": "2023-11-01T03:00:42.257138",
     "status": "completed"
    },
    "tags": []
   },
   "outputs": [],
   "source": [
    "image_names = [x for x in data['image_id']]\n",
    "diagnosis = [x for x in data['dx']]"
   ]
  },
  {
   "cell_type": "code",
   "execution_count": null,
   "id": "62d33779",
   "metadata": {
    "execution": {
     "iopub.execute_input": "2023-11-01T03:00:42.353744Z",
     "iopub.status.busy": "2023-11-01T03:00:42.353432Z",
     "iopub.status.idle": "2023-11-01T03:00:42.358506Z",
     "shell.execute_reply": "2023-11-01T03:00:42.357703Z"
    },
    "papermill": {
     "duration": 0.020366,
     "end_time": "2023-11-01T03:00:42.360513",
     "exception": false,
     "start_time": "2023-11-01T03:00:42.340147",
     "status": "completed"
    },
    "tags": []
   },
   "outputs": [],
   "source": [
    "print(len(image_names))\n",
    "print(len(diagnosis))"
   ]
  },
  {
   "cell_type": "code",
   "execution_count": null,
   "id": "dc3c4e4d",
   "metadata": {
    "execution": {
     "iopub.execute_input": "2023-11-01T03:00:42.386348Z",
     "iopub.status.busy": "2023-11-01T03:00:42.386046Z",
     "iopub.status.idle": "2023-11-01T03:00:42.391132Z",
     "shell.execute_reply": "2023-11-01T03:00:42.390201Z"
    },
    "papermill": {
     "duration": 0.020391,
     "end_time": "2023-11-01T03:00:42.393279",
     "exception": false,
     "start_time": "2023-11-01T03:00:42.372888",
     "status": "completed"
    },
    "tags": []
   },
   "outputs": [],
   "source": [
    "print(image_names[0])\n",
    "print(diagnosis[0])"
   ]
  },
  {
   "cell_type": "code",
   "execution_count": null,
   "id": "d899713a",
   "metadata": {
    "execution": {
     "iopub.execute_input": "2023-11-01T03:00:42.420915Z",
     "iopub.status.busy": "2023-11-01T03:00:42.420585Z",
     "iopub.status.idle": "2023-11-01T03:00:42.429781Z",
     "shell.execute_reply": "2023-11-01T03:00:42.428839Z"
    },
    "papermill": {
     "duration": 0.025114,
     "end_time": "2023-11-01T03:00:42.431881",
     "exception": false,
     "start_time": "2023-11-01T03:00:42.406767",
     "status": "completed"
    },
    "tags": []
   },
   "outputs": [],
   "source": [
    "pd.unique(data['dx'])"
   ]
  },
  {
   "cell_type": "markdown",
   "id": "17e1016b",
   "metadata": {},
   "source": [
    "# Copy image to their particular locations"
   ]
  },
  {
   "cell_type": "code",
   "execution_count": null,
   "id": "eccd1e97",
   "metadata": {
    "execution": {
     "iopub.execute_input": "2023-11-01T03:00:42.458427Z",
     "iopub.status.busy": "2023-11-01T03:00:42.458115Z",
     "iopub.status.idle": "2023-11-01T03:00:44.872574Z",
     "shell.execute_reply": "2023-11-01T03:00:44.871499Z"
    },
    "papermill": {
     "duration": 2.430426,
     "end_time": "2023-11-01T03:00:44.874757",
     "exception": false,
     "start_time": "2023-11-01T03:00:42.444331",
     "status": "completed"
    },
    "tags": []
   },
   "outputs": [],
   "source": [
    "for index, image in tqdm(enumerate(image_names)):\n",
    "    image = image + '.jpg'\n",
    "    if diagnosis[index] == 'mel':\n",
    "        copyfile(os.path.join(orig_all, image), os.path.join(source_MEL, image))\n",
    "    elif diagnosis[index] == 'nv':\n",
    "        copyfile(os.path.join(orig_all, image), os.path.join(source_NV, image))\n",
    "    elif diagnosis[index] == 'bcc': \n",
    "        copyfile(os.path.join(orig_all, image), os.path.join(source_BCC, image))\n",
    "    elif diagnosis[index] == 'akiec': \n",
    "        copyfile(os.path.join(orig_all, image), os.path.join(source_AKIEC, image))\n",
    "    elif diagnosis[index] == 'bkl':\n",
    "        copyfile(os.path.join(orig_all, image), os.path.join(source_BKL, image))\n",
    "    elif diagnosis[index] == 'df':  \n",
    "        copyfile(os.path.join(orig_all, image), os.path.join(source_DF, image))\n",
    "    elif diagnosis[index] == 'vasc': \n",
    "        copyfile(os.path.join(orig_all, image), os.path.join(source_VASC, image))       "
   ]
  },
  {
   "cell_type": "code",
   "execution_count": null,
   "id": "8d478ecb",
   "metadata": {
    "execution": {
     "iopub.execute_input": "2023-11-01T03:00:44.904739Z",
     "iopub.status.busy": "2023-11-01T03:00:44.903802Z",
     "iopub.status.idle": "2023-11-01T03:00:44.916303Z",
     "shell.execute_reply": "2023-11-01T03:00:44.915101Z"
    },
    "papermill": {
     "duration": 0.029729,
     "end_time": "2023-11-01T03:00:44.918412",
     "exception": false,
     "start_time": "2023-11-01T03:00:44.888683",
     "status": "completed"
    },
    "tags": []
   },
   "outputs": [],
   "source": [
    "# Print amount of pictures for each class\n",
    "print(len(os.listdir(source_MEL)))\n",
    "print(len(os.listdir(source_NV)))\n",
    "print(len(os.listdir(source_BCC)))\n",
    "print(len(os.listdir(source_AKIEC)))\n",
    "print(len(os.listdir(source_BKL)))\n",
    "print(len(os.listdir(source_DF)))\n",
    "print(len(os.listdir(source_VASC)))"
   ]
  },
  {
   "cell_type": "code",
   "execution_count": null,
   "id": "2220a9e5",
   "metadata": {
    "execution": {
     "iopub.execute_input": "2023-11-01T03:00:44.946853Z",
     "iopub.status.busy": "2023-11-01T03:00:44.946505Z",
     "iopub.status.idle": "2023-11-01T03:00:48.245199Z",
     "shell.execute_reply": "2023-11-01T03:00:48.244112Z"
    },
    "papermill": {
     "duration": 3.316429,
     "end_time": "2023-11-01T03:00:48.248925",
     "exception": false,
     "start_time": "2023-11-01T03:00:44.932496",
     "status": "completed"
    },
    "tags": []
   },
   "outputs": [],
   "source": [
    "# split each individual class of photos into train and val datasets 80/20%\n",
    "\n",
    "split_size = 0.8\n",
    "split_data(source_MEL, training_MEL, validation_MEL, split_size)\n",
    "split_data(source_NV, training_NV, validation_NV, split_size)\n",
    "split_data(source_BCC, training_BCC, validation_BCC, split_size)\n",
    "split_data(source_AKIEC, training_AKIEC, validation_AKIEC, split_size)\n",
    "split_data(source_BKL, training_BKL, validation_BKL, split_size)\n",
    "split_data(source_DF, training_DF, validation_DF, split_size)\n",
    "split_data(source_VASC, training_VASC, validation_VASC, split_size)"
   ]
  },
  {
   "cell_type": "code",
   "execution_count": null,
   "id": "31a2bf81",
   "metadata": {
    "execution": {
     "iopub.execute_input": "2023-11-01T03:00:48.316444Z",
     "iopub.status.busy": "2023-11-01T03:00:48.315505Z",
     "iopub.status.idle": "2023-11-01T03:00:48.336285Z",
     "shell.execute_reply": "2023-11-01T03:00:48.335022Z"
    },
    "papermill": {
     "duration": 0.053819,
     "end_time": "2023-11-01T03:00:48.338421",
     "exception": false,
     "start_time": "2023-11-01T03:00:48.284602",
     "status": "completed"
    },
    "tags": []
   },
   "outputs": [],
   "source": [
    "# Print amount of pictures for each class after split, train/val.\n",
    "print(len(os.listdir(training_MEL)))\n",
    "print(len(os.listdir(validation_MEL)))\n",
    "print(len(os.listdir(training_NV)))\n",
    "print(len(os.listdir(validation_NV)))\n",
    "print(len(os.listdir(training_BCC)))\n",
    "print(len(os.listdir(validation_BCC)))\n",
    "print(len(os.listdir(training_AKIEC)))\n",
    "print(len(os.listdir(validation_AKIEC)))\n",
    "print(len(os.listdir(training_BKL)))\n",
    "print(len(os.listdir(validation_BKL)))\n",
    "print(len(os.listdir(training_DF)))\n",
    "print(len(os.listdir(validation_DF)))\n",
    "print(len(os.listdir(training_VASC)))\n",
    "print(len(os.listdir(validation_VASC)))"
   ]
  },
  {
   "cell_type": "markdown",
   "id": "1fb84afe",
   "metadata": {},
   "source": [
    "Inherent regularization of ResNet50 due to its Bottleneck layers and Batch normalization together with weight decay and random data augmentations is enough to prevent model from overfitting even on this imbalance dataset"
   ]
  },
  {
   "cell_type": "code",
   "execution_count": null,
   "id": "3717b1d3",
   "metadata": {
    "execution": {
     "iopub.execute_input": "2023-11-01T03:00:48.374696Z",
     "iopub.status.busy": "2023-11-01T03:00:48.373873Z",
     "iopub.status.idle": "2023-11-01T03:00:48.379334Z",
     "shell.execute_reply": "2023-11-01T03:00:48.378341Z"
    },
    "papermill": {
     "duration": 0.025798,
     "end_time": "2023-11-01T03:00:48.381291",
     "exception": false,
     "start_time": "2023-11-01T03:00:48.355493",
     "status": "completed"
    },
    "tags": []
   },
   "outputs": [],
   "source": [
    "traindir = r'skin/training/'\n",
    "valdir = r'skin/validation/'"
   ]
  },
  {
   "cell_type": "markdown",
   "id": "f5bd3f3f",
   "metadata": {},
   "source": [
    "# challenging aspects:\n",
    "Dataset consists of 7470 unique skin neoplasm photos with height=450 and width=600 pixels.\n",
    "- After analyzing the images, I observed that in most cases, the skin neoplasm is positioned at the center and occupies the central 450x450 portion of the image, with only a few exceptions. Therefore, I conclude that there is no need to compress the photos along the width axis, which might result in the loss of important details, as our primary subject of interest is nearly always within the central crop. therefore for Resnet-50 to work, need to make it 240x240"
   ]
  },
  {
   "cell_type": "markdown",
   "id": "5e1eb144",
   "metadata": {},
   "source": [
    "# Data augmentation: a technique to increase the diversity in training set by applying random (but realistic) transformations"
   ]
  },
  {
   "cell_type": "markdown",
   "id": "a9641432",
   "metadata": {},
   "source": [
    "Resnet-50 requires input images to be of size 224 × 224 \n",
    "we will first resize to 224x280 to avoid loss of info on width axis and then crop to 224x224 piece.\n",
    "\n",
    "Apply Random rotation and Horizontal/Vertical flipping. Since skin neoplasms can be in a lot of different shapes, by rotating and horizontally flipping them we will still get skin neoplasms that we would expect our model to classify correctly. These two transformations will help our model greatly. They will inflate our dataset, increase model robustness (especially since we have some classes with very small representation), help with better generalization and overfitting prevention."
   ]
  },
  {
   "cell_type": "code",
   "execution_count": null,
   "id": "5f54bac9",
   "metadata": {
    "execution": {
     "iopub.execute_input": "2023-11-01T03:00:48.420775Z",
     "iopub.status.busy": "2023-11-01T03:00:48.418181Z",
     "iopub.status.idle": "2023-11-01T03:00:48.508038Z",
     "shell.execute_reply": "2023-11-01T03:00:48.506711Z"
    },
    "papermill": {
     "duration": 0.110256,
     "end_time": "2023-11-01T03:00:48.510680",
     "exception": false,
     "start_time": "2023-11-01T03:00:48.400424",
     "status": "completed"
    },
    "tags": []
   },
   "outputs": [],
   "source": [
    "train_transforms = transforms.Compose([\n",
    "    transforms.Resize((224, 280)),\n",
    "    transforms.CenterCrop((224, 224)),\n",
    "    transforms.RandomHorizontalFlip(p=0.5),\n",
    "    transforms.RandomApply(transforms=[transforms.RandomRotation(degrees=(-180, 180))], p=0.99),\n",
    "    transforms.ToTensor(),\n",
    "    transforms.Normalize(mean=[0.485, 0.456, 0.406], std=[0.229, 0.224, 0.225])\n",
    "    ])\n",
    "\n",
    "val_transforms = transforms.Compose([\n",
    "    transforms.Resize((224, 280)),\n",
    "    torchvision.transforms.CenterCrop((224, 224)),\n",
    "    transforms.ToTensor(),\n",
    "    transforms.Normalize(mean=[0.485, 0.456, 0.406], std=[0.229, 0.224, 0.225])\n",
    "    ])\n",
    "\n",
    "train_dataset = datasets.ImageFolder(\n",
    "    traindir, transform=train_transforms)\n",
    "\n",
    "val_dataset = datasets.ImageFolder(\n",
    "    valdir, transform=val_transforms)"
   ]
  },
  {
   "cell_type": "code",
   "execution_count": null,
   "id": "76e430fd",
   "metadata": {
    "execution": {
     "iopub.execute_input": "2023-11-01T03:00:48.552601Z",
     "iopub.status.busy": "2023-11-01T03:00:48.551445Z",
     "iopub.status.idle": "2023-11-01T03:00:48.559840Z",
     "shell.execute_reply": "2023-11-01T03:00:48.558935Z"
    },
    "papermill": {
     "duration": 0.029801,
     "end_time": "2023-11-01T03:00:48.562729",
     "exception": false,
     "start_time": "2023-11-01T03:00:48.532928",
     "status": "completed"
    },
    "tags": []
   },
   "outputs": [],
   "source": [
    "train_loader = torch.utils.data.DataLoader(\n",
    "    train_dataset, batch_size=64, shuffle=True,\n",
    "    pin_memory=False, drop_last=False)\n",
    "\n",
    "val_loader = torch.utils.data.DataLoader(\n",
    "    val_dataset, batch_size=64, shuffle=True,\n",
    "    pin_memory=False, drop_last=False)"
   ]
  },
  {
   "cell_type": "code",
   "execution_count": null,
   "id": "45fa278e",
   "metadata": {
    "execution": {
     "iopub.execute_input": "2023-11-01T03:00:48.609448Z",
     "iopub.status.busy": "2023-11-01T03:00:48.608971Z",
     "iopub.status.idle": "2023-11-01T03:00:48.615865Z",
     "shell.execute_reply": "2023-11-01T03:00:48.614193Z"
    },
    "papermill": {
     "duration": 0.027179,
     "end_time": "2023-11-01T03:00:48.619118",
     "exception": false,
     "start_time": "2023-11-01T03:00:48.591939",
     "status": "completed"
    },
    "tags": []
   },
   "outputs": [],
   "source": [
    "print(val_dataset.class_to_idx)\n",
    "print(train_dataset.class_to_idx)"
   ]
  },
  {
   "cell_type": "markdown",
   "id": "897e3a77",
   "metadata": {},
   "source": [
    "# resnet50 Model"
   ]
  },
  {
   "cell_type": "code",
   "execution_count": null,
   "id": "406be7ed",
   "metadata": {
    "execution": {
     "iopub.execute_input": "2023-11-01T03:00:48.690683Z",
     "iopub.status.busy": "2023-11-01T03:00:48.690169Z",
     "iopub.status.idle": "2023-11-01T03:00:55.490475Z",
     "shell.execute_reply": "2023-11-01T03:00:55.489657Z"
    },
    "papermill": {
     "duration": 6.834748,
     "end_time": "2023-11-01T03:00:55.492893",
     "exception": false,
     "start_time": "2023-11-01T03:00:48.658145",
     "status": "completed"
    },
    "tags": []
   },
   "outputs": [],
   "source": [
    "device = 'cuda'\n",
    "\n",
    "model = torchvision.models.resnet50(pretrained=True).to(device)\n",
    "\n",
    "model.fc = nn.Linear(2048, 7).to(device)\n",
    "\n",
    "criterion = nn.CrossEntropyLoss()\n",
    "\n",
    "optimizer = torch.optim.Adam(model.parameters(), weight_decay=0.0001)\n",
    "\n",
    "epochs = 5 # 200 or 250 or 300\n",
    "\n",
    "writer = SummaryWriter(log_dir='skin_logs/', filename_suffix=\"skin50\")"
   ]
  },
  {
   "cell_type": "code",
   "execution_count": null,
   "id": "f06a3e95",
   "metadata": {
    "execution": {
     "iopub.execute_input": "2023-11-01T03:00:55.521577Z",
     "iopub.status.busy": "2023-11-01T03:00:55.521261Z",
     "iopub.status.idle": "2023-11-01T03:00:55.550553Z",
     "shell.execute_reply": "2023-11-01T03:00:55.547927Z"
    },
    "papermill": {
     "duration": 0.045788,
     "end_time": "2023-11-01T03:00:55.552704",
     "exception": false,
     "start_time": "2023-11-01T03:00:55.506916",
     "status": "completed"
    },
    "tags": []
   },
   "outputs": [],
   "source": [
    "# Shows info about model\n",
    "summary(model, input_size=(3, 224, 224))"
   ]
  },
  {
   "cell_type": "markdown",
   "id": "9b5b29b9",
   "metadata": {},
   "source": [
    "# Early stops the training if validation loss doesn't improve after a given patience"
   ]
  },
  {
   "cell_type": "code",
   "execution_count": null,
   "id": "25ae8c30",
   "metadata": {},
   "outputs": [],
   "source": [
    "class EarlyStopping:\n",
    "    def __init__(self, patience=7, verbose=False, delta=0, path='checkpoint.pt', trace_func=print):\n",
    "        self.patience = patience\n",
    "        self.verbose = verbose\n",
    "        self.counter = 0\n",
    "        self.best_score = None\n",
    "        self.early_stop = False\n",
    "        self.val_loss_min = np.Inf\n",
    "        self.delta = delta\n",
    "        self.path = path\n",
    "        self.trace_func = trace_func\n",
    "    def __call__(self, val_loss, model):\n",
    "\n",
    "        score = -val_loss\n",
    "\n",
    "        if self.best_score is None:\n",
    "            self.best_score = score\n",
    "            self.save_checkpoint(val_loss, model)\n",
    "        elif score < self.best_score + self.delta:\n",
    "            self.counter += 1\n",
    "            self.trace_func(f'EarlyStopping counter: {self.counter} out of {self.patience}')\n",
    "            if self.counter >= self.patience:\n",
    "                self.early_stop = True\n",
    "        else:\n",
    "            self.best_score = score\n",
    "            self.save_checkpoint(val_loss, model)\n",
    "            self.counter = 0\n",
    "\n",
    "    def save_checkpoint(self, val_loss, model):\n",
    "        '''Saves model when monitored metric decrease.'''\n",
    "        if self.verbose:\n",
    "            self.trace_func(f'Monitored metric has improved ({self.val_loss_min:.6f} --> {val_loss:.6f}).  Saving model ...')\n",
    "        torch.save(model.state_dict(), f'skin_models/skinmodel50.pt') \n",
    "        self.val_loss_min = val_loss\n"
   ]
  },
  {
   "cell_type": "markdown",
   "id": "04f85873",
   "metadata": {},
   "source": [
    "# Model Training "
   ]
  },
  {
   "cell_type": "code",
   "execution_count": null,
   "id": "e1f05f38",
   "metadata": {
    "execution": {
     "iopub.execute_input": "2023-11-01T03:00:55.585200Z",
     "iopub.status.busy": "2023-11-01T03:00:55.584793Z",
     "iopub.status.idle": "2023-11-01T10:30:53.342478Z",
     "shell.execute_reply": "2023-11-01T10:30:53.341468Z"
    },
    "papermill": {
     "duration": 26999.761731,
     "end_time": "2023-11-01T10:30:55.329022",
     "exception": false,
     "start_time": "2023-11-01T03:00:55.567291",
     "status": "completed"
    },
    "tags": []
   },
   "outputs": [],
   "source": [
    "early_stopping = EarlyStopping(patience=30, verbose=True)\n",
    "\n",
    "for epoch in range(epochs):\n",
    "    train_loss = 0.00\n",
    "    val_loss = 0.00\n",
    "    train_accuracy = Accuracy()\n",
    "    val_accuracy = Accuracy()\n",
    "    print(f'Epoch {epoch+1}')\n",
    "\n",
    "    # Training loop\n",
    "    for idx, (inputs, labels) in enumerate(Bar(train_loader)):\n",
    "        model.train()\n",
    "        inputs, labels = inputs.to(device), labels.to(device)\n",
    "        optimizer.zero_grad() \n",
    "        outputs = model(inputs) \n",
    "        loss = criterion(outputs, labels)\n",
    "        loss.backward() \n",
    "        optimizer.step() \n",
    "        train_loss += loss.item()\n",
    "        train_accuracy.update((nn.functional.softmax(outputs, dim=1), labels))\n",
    "    print(f\"Train Accuracy: {train_accuracy.compute()}\")\n",
    "    train_loss /= len(train_loader)\n",
    "    train_loss_formated = \"{:.4f}\".format(train_loss)\n",
    "\n",
    "    # Validation loop\n",
    "    with torch.no_grad():\n",
    "        for inputs, labels in val_loader:\n",
    "            model.eval()           \n",
    "            inputs, labels = inputs.to(device), labels.to(device)\n",
    "            outputs = model(inputs)\n",
    "            loss = criterion(outputs, labels)\n",
    "            val_loss += loss.item()\n",
    "            val_accuracy.update((nn.functional.softmax(outputs, dim=1), labels))\n",
    "    print(f\"Val Accuracy: {val_accuracy.compute()}\")\n",
    "    val_loss /= len(val_loader)\n",
    "    val_loss_formated = \"{:.4f}\".format(val_loss)\n",
    "    print(f'Training Loss: {train_loss_formated}')\n",
    "    print(f\"Validation Loss: {val_loss_formated}\")\n",
    "\n",
    "    # TensorBoard writer \n",
    "    writer.add_scalar('Loss/train', train_loss, epoch+1)\n",
    "    writer.add_scalar('Loss/val', val_loss, epoch+1)\n",
    "    writer.add_scalar('Accuracy/train', train_accuracy.compute(), epoch+1)\n",
    "    writer.add_scalar('Accuracy/val', val_accuracy.compute(), epoch+1)\n",
    "\n",
    "    # Early Stopping\n",
    "    early_stopping(val_loss, model)       \n",
    "    if early_stopping.early_stop:\n",
    "        print(\"Early stopping\")\n",
    "        break\n",
    "        \n",
    "# load the last checkpoint with the best model\n",
    "model.load_state_dict(torch.load('skin_models/skinmodel50.pt'))   "
   ]
  },
  {
   "cell_type": "code",
   "execution_count": null,
   "id": "c343704c",
   "metadata": {
    "execution": {
     "iopub.execute_input": "2023-11-01T10:30:59.469967Z",
     "iopub.status.busy": "2023-11-01T10:30:59.469273Z",
     "iopub.status.idle": "2023-11-01T10:31:15.863956Z",
     "shell.execute_reply": "2023-11-01T10:31:15.862963Z"
    },
    "papermill": {
     "duration": 18.368977,
     "end_time": "2023-11-01T10:31:15.865968",
     "exception": false,
     "start_time": "2023-11-01T10:30:57.496991",
     "status": "completed"
    },
    "tags": []
   },
   "outputs": [],
   "source": [
    "num_classes = 7\n",
    "\n",
    "predlist = torch.zeros(0,dtype=torch.long, device='cpu')\n",
    "lbllist = torch.zeros(0,dtype=torch.long, device='cpu')\n",
    "predlistauc = torch.zeros(0,dtype=torch.long, device='cpu')\n",
    "with torch.no_grad():\n",
    "    for i, (inputs, classes) in enumerate(val_loader):\n",
    "        model.eval()\n",
    "        inputs = inputs.to(device)\n",
    "        classes = classes.to(device)\n",
    "        outputs = model(inputs)\n",
    "        _, preds = torch.max(outputs, 1)\n",
    "\n",
    "        # Append batch prediction results\n",
    "        predlist=torch.cat([predlist,preds.view(-1).cpu()])\n",
    "        lbllist=torch.cat([lbllist,classes.view(-1).cpu()])\n",
    "        predlistauc = torch.cat([predlistauc,nn.functional.softmax(outputs, dim=1).cpu()])\n",
    "predlist = predlist.numpy()\n",
    "lbllist = lbllist.numpy()\n",
    "predlistauc = predlistauc.numpy()\n",
    "\n",
    "# Confusion matrix, classification report and AUC\n",
    "conf_mat=confusion_matrix(lbllist, predlist)\n",
    "target_names = ['MEL','NV','BCC','AKIEC','BKL','DF','VASC',]\n",
    "ConfusionMatrixDisplay(conf_mat, display_labels=target_names).plot(values_format=\"d\")\n",
    "print(classification_report(lbllist, predlist, target_names=target_names))\n",
    "lbllist_one_hot = nn.functional.one_hot(torch.tensor([lbllist]), num_classes=num_classes)\n",
    "every_auc = roc_auc_score(lbllist_one_hot.view([predlistauc.shape[0], predlistauc.shape[1]]), \n",
    "                                          predlistauc, multi_class='ovr', average=None)\n",
    "for i, every in enumerate(target_names):\n",
    "    print(f'AUC of class {every} = {every_auc[i]}')"
   ]
  },
  {
   "cell_type": "markdown",
   "id": "016e0cbf",
   "metadata": {},
   "source": [
    "# For better validation robustness lets spin validation dataset with random rotations and horizontal flip and then check the metrics again"
   ]
  },
  {
   "cell_type": "code",
   "execution_count": null,
   "id": "59c7f523",
   "metadata": {
    "execution": {
     "iopub.execute_input": "2023-11-01T10:31:20.127712Z",
     "iopub.status.busy": "2023-11-01T10:31:20.126807Z",
     "iopub.status.idle": "2023-11-01T10:31:20.142443Z",
     "shell.execute_reply": "2023-11-01T10:31:20.141527Z"
    },
    "papermill": {
     "duration": 2.177155,
     "end_time": "2023-11-01T10:31:20.144377",
     "exception": false,
     "start_time": "2023-11-01T10:31:17.967222",
     "status": "completed"
    },
    "tags": []
   },
   "outputs": [],
   "source": [
    "val_transforms = transforms.Compose([\n",
    "    transforms.Resize((224, 280)),\n",
    "    torchvision.transforms.CenterCrop((224, 224)),\n",
    "    transforms.RandomHorizontalFlip(p=0.5),\n",
    "    transforms.RandomApply(transforms=[transforms.RandomRotation(degrees=(-180, 180))], p=0.99),\n",
    "    transforms.ToTensor(),\n",
    "    transforms.Normalize(mean=[0.485, 0.456, 0.406], std=[0.229, 0.224, 0.225])\n",
    "    ])\n",
    "\n",
    "\n",
    "val_dataset = datasets.ImageFolder(\n",
    "    valdir, transform=val_transforms)\n",
    "\n",
    "val_loader = torch.utils.data.DataLoader(\n",
    "    val_dataset, batch_size=64, shuffle=True,\n",
    "    pin_memory=False, drop_last=False)"
   ]
  },
  {
   "cell_type": "code",
   "execution_count": null,
   "id": "803f9aa5",
   "metadata": {
    "execution": {
     "iopub.execute_input": "2023-11-01T10:31:24.118559Z",
     "iopub.status.busy": "2023-11-01T10:31:24.117572Z",
     "iopub.status.idle": "2023-11-01T10:32:46.783478Z",
     "shell.execute_reply": "2023-11-01T10:32:46.782430Z"
    },
    "papermill": {
     "duration": 86.84123,
     "end_time": "2023-11-01T10:32:48.949739",
     "exception": false,
     "start_time": "2023-11-01T10:31:22.108509",
     "status": "completed"
    },
    "tags": []
   },
   "outputs": [],
   "source": [
    "num_classes = 7\n",
    "\n",
    "predlist=torch.zeros(0,dtype=torch.long, device='cpu')\n",
    "lbllist=torch.zeros(0,dtype=torch.long, device='cpu')\n",
    "predlistauc = torch.zeros(0,dtype=torch.long, device='cpu')\n",
    "for n in range(5):\n",
    "    with torch.no_grad():\n",
    "        for i, (inputs, classes) in enumerate(val_loader):\n",
    "            model.eval()\n",
    "            inputs = inputs.to(device)\n",
    "            classes = classes.to(device)\n",
    "            outputs = model(inputs)\n",
    "            _, preds = torch.max(outputs, 1)\n",
    "\n",
    "            # Append batch prediction results\n",
    "            predlist=torch.cat([predlist,preds.view(-1).cpu()])\n",
    "            lbllist=torch.cat([lbllist,classes.view(-1).cpu()])\n",
    "            predlistauc = torch.cat([predlistauc,nn.functional.softmax(outputs, dim=1).cpu()])\n",
    "predlist = predlist.numpy()\n",
    "lbllist = lbllist.numpy()\n",
    "predlistauc = predlistauc.numpy() \n",
    "\n",
    "# Confusion matrix, classification report and AUC\n",
    "conf_mat=confusion_matrix(lbllist, predlist)\n",
    "target_names = ['MEL','NV','BCC','AKIEC','BKL','DF','VASC',]\n",
    "ConfusionMatrixDisplay(conf_mat, display_labels=target_names).plot(values_format=\"d\")\n",
    "print(classification_report(lbllist, predlist, target_names=target_names))\n",
    "lbllist_one_hot = nn.functional.one_hot(torch.tensor([lbllist]), num_classes=num_classes)\n",
    "every_auc = roc_auc_score(lbllist_one_hot.view([predlistauc.shape[0], predlistauc.shape[1]]), \n",
    "                                          predlistauc, multi_class='ovr', average=None)\n",
    "for i, every in enumerate(target_names):\n",
    "    print(f'AUC of class {every} = {every_auc[i]}')"
   ]
  },
  {
   "cell_type": "markdown",
   "id": "d29a3378",
   "metadata": {
    "papermill": {
     "duration": 2.202315,
     "end_time": "2023-11-01T10:32:53.232050",
     "exception": false,
     "start_time": "2023-11-01T10:32:51.029735",
     "status": "completed"
    },
    "tags": []
   },
   "source": [
    "In the end we were able to achieve 99% average F1 score and AUCs close to 100%!\n",
    "And what is interesting, even on 2 classes with smallest representations (only 78 and 58 training images) we still were able to achieve 100 F1 score in both cases.\n",
    "I believe that the most important reason for the perfect result is well chosen data augmentations that helped not only to enrich our dataset, but also prevent overfitting."
   ]
  },
  {
   "cell_type": "code",
   "execution_count": null,
   "id": "a2601742",
   "metadata": {},
   "outputs": [],
   "source": []
  }
 ],
 "metadata": {
  "kernelspec": {
   "display_name": "Python (myNEWenv)",
   "language": "python",
   "name": "mynewenv"
  },
  "language_info": {
   "codemirror_mode": {
    "name": "ipython",
    "version": 3
   },
   "file_extension": ".py",
   "mimetype": "text/x-python",
   "name": "python",
   "nbconvert_exporter": "python",
   "pygments_lexer": "ipython3",
   "version": "3.10.12"
  },
  "papermill": {
   "default_parameters": {},
   "duration": 27271.638868,
   "end_time": "2023-11-01T10:32:58.355457",
   "environment_variables": {},
   "exception": null,
   "input_path": "__notebook__.ipynb",
   "output_path": "__notebook__.ipynb",
   "parameters": {},
   "start_time": "2023-11-01T02:58:26.716589",
   "version": "2.4.0"
  },
  "widgets": {
   "application/vnd.jupyter.widget-state+json": {
    "state": {
     "023e2767ec0c415f81609d7d9f07f54b": {
      "model_module": "@jupyter-widgets/base",
      "model_module_version": "1.2.0",
      "model_name": "LayoutModel",
      "state": {
       "_model_module": "@jupyter-widgets/base",
       "_model_module_version": "1.2.0",
       "_model_name": "LayoutModel",
       "_view_count": null,
       "_view_module": "@jupyter-widgets/base",
       "_view_module_version": "1.2.0",
       "_view_name": "LayoutView",
       "align_content": null,
       "align_items": null,
       "align_self": null,
       "border": null,
       "bottom": null,
       "display": null,
       "flex": null,
       "flex_flow": null,
       "grid_area": null,
       "grid_auto_columns": null,
       "grid_auto_flow": null,
       "grid_auto_rows": null,
       "grid_column": null,
       "grid_gap": null,
       "grid_row": null,
       "grid_template_areas": null,
       "grid_template_columns": null,
       "grid_template_rows": null,
       "height": null,
       "justify_content": null,
       "justify_items": null,
       "left": null,
       "margin": null,
       "max_height": null,
       "max_width": null,
       "min_height": null,
       "min_width": null,
       "object_fit": null,
       "object_position": null,
       "order": null,
       "overflow": null,
       "overflow_x": null,
       "overflow_y": null,
       "padding": null,
       "right": null,
       "top": null,
       "visibility": null,
       "width": null
      }
     },
     "084ebd47159a4316866849fa381b5665": {
      "model_module": "@jupyter-widgets/controls",
      "model_module_version": "1.5.0",
      "model_name": "HBoxModel",
      "state": {
       "_dom_classes": [],
       "_model_module": "@jupyter-widgets/controls",
       "_model_module_version": "1.5.0",
       "_model_name": "HBoxModel",
       "_view_count": null,
       "_view_module": "@jupyter-widgets/controls",
       "_view_module_version": "1.5.0",
       "_view_name": "HBoxView",
       "box_style": "",
       "children": [
        "IPY_MODEL_c1fd0f4d0e5d4074a11756f5f15dc51c",
        "IPY_MODEL_aa937ba4769648d682a77f13ee812cb4",
        "IPY_MODEL_d24f9daf015b4cbc9b6087b146873ff5"
       ],
       "layout": "IPY_MODEL_9e941c9849da4e189637384c00bd2e86"
      }
     },
     "12a9efce0ada41d5a8394bd7237872de": {
      "model_module": "@jupyter-widgets/base",
      "model_module_version": "1.2.0",
      "model_name": "LayoutModel",
      "state": {
       "_model_module": "@jupyter-widgets/base",
       "_model_module_version": "1.2.0",
       "_model_name": "LayoutModel",
       "_view_count": null,
       "_view_module": "@jupyter-widgets/base",
       "_view_module_version": "1.2.0",
       "_view_name": "LayoutView",
       "align_content": null,
       "align_items": null,
       "align_self": null,
       "border": null,
       "bottom": null,
       "display": null,
       "flex": null,
       "flex_flow": null,
       "grid_area": null,
       "grid_auto_columns": null,
       "grid_auto_flow": null,
       "grid_auto_rows": null,
       "grid_column": null,
       "grid_gap": null,
       "grid_row": null,
       "grid_template_areas": null,
       "grid_template_columns": null,
       "grid_template_rows": null,
       "height": null,
       "justify_content": null,
       "justify_items": null,
       "left": null,
       "margin": null,
       "max_height": null,
       "max_width": null,
       "min_height": null,
       "min_width": null,
       "object_fit": null,
       "object_position": null,
       "order": null,
       "overflow": null,
       "overflow_x": null,
       "overflow_y": null,
       "padding": null,
       "right": null,
       "top": null,
       "visibility": null,
       "width": null
      }
     },
     "1efc72633fbd4600a9cbf4e707694b93": {
      "model_module": "@jupyter-widgets/controls",
      "model_module_version": "1.5.0",
      "model_name": "DescriptionStyleModel",
      "state": {
       "_model_module": "@jupyter-widgets/controls",
       "_model_module_version": "1.5.0",
       "_model_name": "DescriptionStyleModel",
       "_view_count": null,
       "_view_module": "@jupyter-widgets/base",
       "_view_module_version": "1.2.0",
       "_view_name": "StyleView",
       "description_width": ""
      }
     },
     "211f9db6c48f4062b0eeab9ce93bfaf0": {
      "model_module": "@jupyter-widgets/controls",
      "model_module_version": "1.5.0",
      "model_name": "ProgressStyleModel",
      "state": {
       "_model_module": "@jupyter-widgets/controls",
       "_model_module_version": "1.5.0",
       "_model_name": "ProgressStyleModel",
       "_view_count": null,
       "_view_module": "@jupyter-widgets/base",
       "_view_module_version": "1.2.0",
       "_view_name": "StyleView",
       "bar_color": null,
       "description_width": ""
      }
     },
     "2165e8d5ddb547d98cbe5e2675343097": {
      "model_module": "@jupyter-widgets/controls",
      "model_module_version": "1.5.0",
      "model_name": "FloatProgressModel",
      "state": {
       "_dom_classes": [],
       "_model_module": "@jupyter-widgets/controls",
       "_model_module_version": "1.5.0",
       "_model_name": "FloatProgressModel",
       "_view_count": null,
       "_view_module": "@jupyter-widgets/controls",
       "_view_module_version": "1.5.0",
       "_view_name": "ProgressView",
       "bar_style": "success",
       "description": "",
       "description_tooltip": null,
       "layout": "IPY_MODEL_023e2767ec0c415f81609d7d9f07f54b",
       "max": 5000,
       "min": 0,
       "orientation": "horizontal",
       "style": "IPY_MODEL_cd59d04746f44f9fba14325fe290f585",
       "value": 5000
      }
     },
     "2b58a799fd5e4492a57b6430330d22f4": {
      "model_module": "@jupyter-widgets/controls",
      "model_module_version": "1.5.0",
      "model_name": "HBoxModel",
      "state": {
       "_dom_classes": [],
       "_model_module": "@jupyter-widgets/controls",
       "_model_module_version": "1.5.0",
       "_model_name": "HBoxModel",
       "_view_count": null,
       "_view_module": "@jupyter-widgets/controls",
       "_view_module_version": "1.5.0",
       "_view_name": "HBoxView",
       "box_style": "",
       "children": [
        "IPY_MODEL_950effc519b04e2f970fe2f09a5a6d2a",
        "IPY_MODEL_2165e8d5ddb547d98cbe5e2675343097",
        "IPY_MODEL_b9c0417524694364add826a1fa0eecf4"
       ],
       "layout": "IPY_MODEL_c3f58ada16004d4489d3990a9a2d9848"
      }
     },
     "57aba74b720e4fa38abf791c64ec4ebc": {
      "model_module": "@jupyter-widgets/base",
      "model_module_version": "1.2.0",
      "model_name": "LayoutModel",
      "state": {
       "_model_module": "@jupyter-widgets/base",
       "_model_module_version": "1.2.0",
       "_model_name": "LayoutModel",
       "_view_count": null,
       "_view_module": "@jupyter-widgets/base",
       "_view_module_version": "1.2.0",
       "_view_name": "LayoutView",
       "align_content": null,
       "align_items": null,
       "align_self": null,
       "border": null,
       "bottom": null,
       "display": null,
       "flex": null,
       "flex_flow": null,
       "grid_area": null,
       "grid_auto_columns": null,
       "grid_auto_flow": null,
       "grid_auto_rows": null,
       "grid_column": null,
       "grid_gap": null,
       "grid_row": null,
       "grid_template_areas": null,
       "grid_template_columns": null,
       "grid_template_rows": null,
       "height": null,
       "justify_content": null,
       "justify_items": null,
       "left": null,
       "margin": null,
       "max_height": null,
       "max_width": null,
       "min_height": null,
       "min_width": null,
       "object_fit": null,
       "object_position": null,
       "order": null,
       "overflow": null,
       "overflow_x": null,
       "overflow_y": null,
       "padding": null,
       "right": null,
       "top": null,
       "visibility": null,
       "width": null
      }
     },
     "5a037a12a9604f0cb7d9aa2183eacaeb": {
      "model_module": "@jupyter-widgets/controls",
      "model_module_version": "1.5.0",
      "model_name": "DescriptionStyleModel",
      "state": {
       "_model_module": "@jupyter-widgets/controls",
       "_model_module_version": "1.5.0",
       "_model_name": "DescriptionStyleModel",
       "_view_count": null,
       "_view_module": "@jupyter-widgets/base",
       "_view_module_version": "1.2.0",
       "_view_name": "StyleView",
       "description_width": ""
      }
     },
     "7313ad0aa89340e58974b2c8b232a09e": {
      "model_module": "@jupyter-widgets/base",
      "model_module_version": "1.2.0",
      "model_name": "LayoutModel",
      "state": {
       "_model_module": "@jupyter-widgets/base",
       "_model_module_version": "1.2.0",
       "_model_name": "LayoutModel",
       "_view_count": null,
       "_view_module": "@jupyter-widgets/base",
       "_view_module_version": "1.2.0",
       "_view_name": "LayoutView",
       "align_content": null,
       "align_items": null,
       "align_self": null,
       "border": null,
       "bottom": null,
       "display": null,
       "flex": null,
       "flex_flow": null,
       "grid_area": null,
       "grid_auto_columns": null,
       "grid_auto_flow": null,
       "grid_auto_rows": null,
       "grid_column": null,
       "grid_gap": null,
       "grid_row": null,
       "grid_template_areas": null,
       "grid_template_columns": null,
       "grid_template_rows": null,
       "height": null,
       "justify_content": null,
       "justify_items": null,
       "left": null,
       "margin": null,
       "max_height": null,
       "max_width": null,
       "min_height": null,
       "min_width": null,
       "object_fit": null,
       "object_position": null,
       "order": null,
       "overflow": null,
       "overflow_x": null,
       "overflow_y": null,
       "padding": null,
       "right": null,
       "top": null,
       "visibility": null,
       "width": null
      }
     },
     "7325dc2ce482480d82c51f00cf7c09d6": {
      "model_module": "@jupyter-widgets/controls",
      "model_module_version": "1.5.0",
      "model_name": "DescriptionStyleModel",
      "state": {
       "_model_module": "@jupyter-widgets/controls",
       "_model_module_version": "1.5.0",
       "_model_name": "DescriptionStyleModel",
       "_view_count": null,
       "_view_module": "@jupyter-widgets/base",
       "_view_module_version": "1.2.0",
       "_view_name": "StyleView",
       "description_width": ""
      }
     },
     "7703e1b26be74be6b343b2b0a069124d": {
      "model_module": "@jupyter-widgets/controls",
      "model_module_version": "1.5.0",
      "model_name": "DescriptionStyleModel",
      "state": {
       "_model_module": "@jupyter-widgets/controls",
       "_model_module_version": "1.5.0",
       "_model_name": "DescriptionStyleModel",
       "_view_count": null,
       "_view_module": "@jupyter-widgets/base",
       "_view_module_version": "1.2.0",
       "_view_name": "StyleView",
       "description_width": ""
      }
     },
     "86ba97a6147746aaada91792497f1357": {
      "model_module": "@jupyter-widgets/controls",
      "model_module_version": "1.5.0",
      "model_name": "HBoxModel",
      "state": {
       "_dom_classes": [],
       "_model_module": "@jupyter-widgets/controls",
       "_model_module_version": "1.5.0",
       "_model_name": "HBoxModel",
       "_view_count": null,
       "_view_module": "@jupyter-widgets/controls",
       "_view_module_version": "1.5.0",
       "_view_name": "HBoxView",
       "box_style": "",
       "children": [
        "IPY_MODEL_99ce77b2670a40be8bef3123f7b39cb1",
        "IPY_MODEL_9f2a19eaaf8b4512888c75f3666f29bf",
        "IPY_MODEL_f5cee91fd8e041e5a85f8e4bf5b84e39"
       ],
       "layout": "IPY_MODEL_7313ad0aa89340e58974b2c8b232a09e"
      }
     },
     "885d92f1e2b749d0af848bec4857eb73": {
      "model_module": "@jupyter-widgets/base",
      "model_module_version": "1.2.0",
      "model_name": "LayoutModel",
      "state": {
       "_model_module": "@jupyter-widgets/base",
       "_model_module_version": "1.2.0",
       "_model_name": "LayoutModel",
       "_view_count": null,
       "_view_module": "@jupyter-widgets/base",
       "_view_module_version": "1.2.0",
       "_view_name": "LayoutView",
       "align_content": null,
       "align_items": null,
       "align_self": null,
       "border": null,
       "bottom": null,
       "display": null,
       "flex": null,
       "flex_flow": null,
       "grid_area": null,
       "grid_auto_columns": null,
       "grid_auto_flow": null,
       "grid_auto_rows": null,
       "grid_column": null,
       "grid_gap": null,
       "grid_row": null,
       "grid_template_areas": null,
       "grid_template_columns": null,
       "grid_template_rows": null,
       "height": null,
       "justify_content": null,
       "justify_items": null,
       "left": null,
       "margin": null,
       "max_height": null,
       "max_width": null,
       "min_height": null,
       "min_width": null,
       "object_fit": null,
       "object_position": null,
       "order": null,
       "overflow": null,
       "overflow_x": null,
       "overflow_y": null,
       "padding": null,
       "right": null,
       "top": null,
       "visibility": null,
       "width": null
      }
     },
     "8f521d5b6b0b40cbab3584954c69ea8b": {
      "model_module": "@jupyter-widgets/controls",
      "model_module_version": "1.5.0",
      "model_name": "DescriptionStyleModel",
      "state": {
       "_model_module": "@jupyter-widgets/controls",
       "_model_module_version": "1.5.0",
       "_model_name": "DescriptionStyleModel",
       "_view_count": null,
       "_view_module": "@jupyter-widgets/base",
       "_view_module_version": "1.2.0",
       "_view_name": "StyleView",
       "description_width": ""
      }
     },
     "950effc519b04e2f970fe2f09a5a6d2a": {
      "model_module": "@jupyter-widgets/controls",
      "model_module_version": "1.5.0",
      "model_name": "HTMLModel",
      "state": {
       "_dom_classes": [],
       "_model_module": "@jupyter-widgets/controls",
       "_model_module_version": "1.5.0",
       "_model_name": "HTMLModel",
       "_view_count": null,
       "_view_module": "@jupyter-widgets/controls",
       "_view_module_version": "1.5.0",
       "_view_name": "HTMLView",
       "description": "",
       "description_tooltip": null,
       "layout": "IPY_MODEL_f9ac4e0f2930419db0712470d226204c",
       "placeholder": "​",
       "style": "IPY_MODEL_7703e1b26be74be6b343b2b0a069124d",
       "value": "100%"
      }
     },
     "978eb3d7d54c4fdca3b277d8210399b5": {
      "model_module": "@jupyter-widgets/base",
      "model_module_version": "1.2.0",
      "model_name": "LayoutModel",
      "state": {
       "_model_module": "@jupyter-widgets/base",
       "_model_module_version": "1.2.0",
       "_model_name": "LayoutModel",
       "_view_count": null,
       "_view_module": "@jupyter-widgets/base",
       "_view_module_version": "1.2.0",
       "_view_name": "LayoutView",
       "align_content": null,
       "align_items": null,
       "align_self": null,
       "border": null,
       "bottom": null,
       "display": null,
       "flex": null,
       "flex_flow": null,
       "grid_area": null,
       "grid_auto_columns": null,
       "grid_auto_flow": null,
       "grid_auto_rows": null,
       "grid_column": null,
       "grid_gap": null,
       "grid_row": null,
       "grid_template_areas": null,
       "grid_template_columns": null,
       "grid_template_rows": null,
       "height": null,
       "justify_content": null,
       "justify_items": null,
       "left": null,
       "margin": null,
       "max_height": null,
       "max_width": null,
       "min_height": null,
       "min_width": null,
       "object_fit": null,
       "object_position": null,
       "order": null,
       "overflow": null,
       "overflow_x": null,
       "overflow_y": null,
       "padding": null,
       "right": null,
       "top": null,
       "visibility": null,
       "width": null
      }
     },
     "99ce77b2670a40be8bef3123f7b39cb1": {
      "model_module": "@jupyter-widgets/controls",
      "model_module_version": "1.5.0",
      "model_name": "HTMLModel",
      "state": {
       "_dom_classes": [],
       "_model_module": "@jupyter-widgets/controls",
       "_model_module_version": "1.5.0",
       "_model_name": "HTMLModel",
       "_view_count": null,
       "_view_module": "@jupyter-widgets/controls",
       "_view_module_version": "1.5.0",
       "_view_name": "HTMLView",
       "description": "",
       "description_tooltip": null,
       "layout": "IPY_MODEL_978eb3d7d54c4fdca3b277d8210399b5",
       "placeholder": "​",
       "style": "IPY_MODEL_d121e5036570422dac9f5d228032eb7b",
       "value": "100%"
      }
     },
     "9e941c9849da4e189637384c00bd2e86": {
      "model_module": "@jupyter-widgets/base",
      "model_module_version": "1.2.0",
      "model_name": "LayoutModel",
      "state": {
       "_model_module": "@jupyter-widgets/base",
       "_model_module_version": "1.2.0",
       "_model_name": "LayoutModel",
       "_view_count": null,
       "_view_module": "@jupyter-widgets/base",
       "_view_module_version": "1.2.0",
       "_view_name": "LayoutView",
       "align_content": null,
       "align_items": null,
       "align_self": null,
       "border": null,
       "bottom": null,
       "display": null,
       "flex": null,
       "flex_flow": null,
       "grid_area": null,
       "grid_auto_columns": null,
       "grid_auto_flow": null,
       "grid_auto_rows": null,
       "grid_column": null,
       "grid_gap": null,
       "grid_row": null,
       "grid_template_areas": null,
       "grid_template_columns": null,
       "grid_template_rows": null,
       "height": null,
       "justify_content": null,
       "justify_items": null,
       "left": null,
       "margin": null,
       "max_height": null,
       "max_width": null,
       "min_height": null,
       "min_width": null,
       "object_fit": null,
       "object_position": null,
       "order": null,
       "overflow": null,
       "overflow_x": null,
       "overflow_y": null,
       "padding": null,
       "right": null,
       "top": null,
       "visibility": null,
       "width": null
      }
     },
     "9f2a19eaaf8b4512888c75f3666f29bf": {
      "model_module": "@jupyter-widgets/controls",
      "model_module_version": "1.5.0",
      "model_name": "FloatProgressModel",
      "state": {
       "_dom_classes": [],
       "_model_module": "@jupyter-widgets/controls",
       "_model_module_version": "1.5.0",
       "_model_name": "FloatProgressModel",
       "_view_count": null,
       "_view_module": "@jupyter-widgets/controls",
       "_view_module_version": "1.5.0",
       "_view_name": "ProgressView",
       "bar_style": "success",
       "description": "",
       "description_tooltip": null,
       "layout": "IPY_MODEL_12a9efce0ada41d5a8394bd7237872de",
       "max": 5015,
       "min": 0,
       "orientation": "horizontal",
       "style": "IPY_MODEL_e6eb7e82346b4490be7e056fec5becda",
       "value": 5015
      }
     },
     "a0cfd7dcc3b5487dbd45a5f21b01b378": {
      "model_module": "@jupyter-widgets/base",
      "model_module_version": "1.2.0",
      "model_name": "LayoutModel",
      "state": {
       "_model_module": "@jupyter-widgets/base",
       "_model_module_version": "1.2.0",
       "_model_name": "LayoutModel",
       "_view_count": null,
       "_view_module": "@jupyter-widgets/base",
       "_view_module_version": "1.2.0",
       "_view_name": "LayoutView",
       "align_content": null,
       "align_items": null,
       "align_self": null,
       "border": null,
       "bottom": null,
       "display": null,
       "flex": null,
       "flex_flow": null,
       "grid_area": null,
       "grid_auto_columns": null,
       "grid_auto_flow": null,
       "grid_auto_rows": null,
       "grid_column": null,
       "grid_gap": null,
       "grid_row": null,
       "grid_template_areas": null,
       "grid_template_columns": null,
       "grid_template_rows": null,
       "height": null,
       "justify_content": null,
       "justify_items": null,
       "left": null,
       "margin": null,
       "max_height": null,
       "max_width": null,
       "min_height": null,
       "min_width": null,
       "object_fit": null,
       "object_position": null,
       "order": null,
       "overflow": null,
       "overflow_x": null,
       "overflow_y": null,
       "padding": null,
       "right": null,
       "top": null,
       "visibility": null,
       "width": null
      }
     },
     "a6728f9bf639498481973df209f578d1": {
      "model_module": "@jupyter-widgets/base",
      "model_module_version": "1.2.0",
      "model_name": "LayoutModel",
      "state": {
       "_model_module": "@jupyter-widgets/base",
       "_model_module_version": "1.2.0",
       "_model_name": "LayoutModel",
       "_view_count": null,
       "_view_module": "@jupyter-widgets/base",
       "_view_module_version": "1.2.0",
       "_view_name": "LayoutView",
       "align_content": null,
       "align_items": null,
       "align_self": null,
       "border": null,
       "bottom": null,
       "display": null,
       "flex": null,
       "flex_flow": null,
       "grid_area": null,
       "grid_auto_columns": null,
       "grid_auto_flow": null,
       "grid_auto_rows": null,
       "grid_column": null,
       "grid_gap": null,
       "grid_row": null,
       "grid_template_areas": null,
       "grid_template_columns": null,
       "grid_template_rows": null,
       "height": null,
       "justify_content": null,
       "justify_items": null,
       "left": null,
       "margin": null,
       "max_height": null,
       "max_width": null,
       "min_height": null,
       "min_width": null,
       "object_fit": null,
       "object_position": null,
       "order": null,
       "overflow": null,
       "overflow_x": null,
       "overflow_y": null,
       "padding": null,
       "right": null,
       "top": null,
       "visibility": null,
       "width": "20px"
      }
     },
     "aa937ba4769648d682a77f13ee812cb4": {
      "model_module": "@jupyter-widgets/controls",
      "model_module_version": "1.5.0",
      "model_name": "FloatProgressModel",
      "state": {
       "_dom_classes": [],
       "_model_module": "@jupyter-widgets/controls",
       "_model_module_version": "1.5.0",
       "_model_name": "FloatProgressModel",
       "_view_count": null,
       "_view_module": "@jupyter-widgets/controls",
       "_view_module_version": "1.5.0",
       "_view_name": "ProgressView",
       "bar_style": "success",
       "description": "",
       "description_tooltip": null,
       "layout": "IPY_MODEL_a6728f9bf639498481973df209f578d1",
       "max": 1,
       "min": 0,
       "orientation": "horizontal",
       "style": "IPY_MODEL_211f9db6c48f4062b0eeab9ce93bfaf0",
       "value": 1
      }
     },
     "b6079f7b4b7145f79ad64612554e0b8f": {
      "model_module": "@jupyter-widgets/base",
      "model_module_version": "1.2.0",
      "model_name": "LayoutModel",
      "state": {
       "_model_module": "@jupyter-widgets/base",
       "_model_module_version": "1.2.0",
       "_model_name": "LayoutModel",
       "_view_count": null,
       "_view_module": "@jupyter-widgets/base",
       "_view_module_version": "1.2.0",
       "_view_name": "LayoutView",
       "align_content": null,
       "align_items": null,
       "align_self": null,
       "border": null,
       "bottom": null,
       "display": null,
       "flex": null,
       "flex_flow": null,
       "grid_area": null,
       "grid_auto_columns": null,
       "grid_auto_flow": null,
       "grid_auto_rows": null,
       "grid_column": null,
       "grid_gap": null,
       "grid_row": null,
       "grid_template_areas": null,
       "grid_template_columns": null,
       "grid_template_rows": null,
       "height": null,
       "justify_content": null,
       "justify_items": null,
       "left": null,
       "margin": null,
       "max_height": null,
       "max_width": null,
       "min_height": null,
       "min_width": null,
       "object_fit": null,
       "object_position": null,
       "order": null,
       "overflow": null,
       "overflow_x": null,
       "overflow_y": null,
       "padding": null,
       "right": null,
       "top": null,
       "visibility": null,
       "width": null
      }
     },
     "b9c0417524694364add826a1fa0eecf4": {
      "model_module": "@jupyter-widgets/controls",
      "model_module_version": "1.5.0",
      "model_name": "HTMLModel",
      "state": {
       "_dom_classes": [],
       "_model_module": "@jupyter-widgets/controls",
       "_model_module_version": "1.5.0",
       "_model_name": "HTMLModel",
       "_view_count": null,
       "_view_module": "@jupyter-widgets/controls",
       "_view_module_version": "1.5.0",
       "_view_name": "HTMLView",
       "description": "",
       "description_tooltip": null,
       "layout": "IPY_MODEL_885d92f1e2b749d0af848bec4857eb73",
       "placeholder": "​",
       "style": "IPY_MODEL_5a037a12a9604f0cb7d9aa2183eacaeb",
       "value": " 5000/5000 [00:45&lt;00:00, 97.22it/s]"
      }
     },
     "c1fd0f4d0e5d4074a11756f5f15dc51c": {
      "model_module": "@jupyter-widgets/controls",
      "model_module_version": "1.5.0",
      "model_name": "HTMLModel",
      "state": {
       "_dom_classes": [],
       "_model_module": "@jupyter-widgets/controls",
       "_model_module_version": "1.5.0",
       "_model_name": "HTMLModel",
       "_view_count": null,
       "_view_module": "@jupyter-widgets/controls",
       "_view_module_version": "1.5.0",
       "_view_name": "HTMLView",
       "description": "",
       "description_tooltip": null,
       "layout": "IPY_MODEL_57aba74b720e4fa38abf791c64ec4ebc",
       "placeholder": "​",
       "style": "IPY_MODEL_7325dc2ce482480d82c51f00cf7c09d6",
       "value": ""
      }
     },
     "c3f58ada16004d4489d3990a9a2d9848": {
      "model_module": "@jupyter-widgets/base",
      "model_module_version": "1.2.0",
      "model_name": "LayoutModel",
      "state": {
       "_model_module": "@jupyter-widgets/base",
       "_model_module_version": "1.2.0",
       "_model_name": "LayoutModel",
       "_view_count": null,
       "_view_module": "@jupyter-widgets/base",
       "_view_module_version": "1.2.0",
       "_view_name": "LayoutView",
       "align_content": null,
       "align_items": null,
       "align_self": null,
       "border": null,
       "bottom": null,
       "display": null,
       "flex": null,
       "flex_flow": null,
       "grid_area": null,
       "grid_auto_columns": null,
       "grid_auto_flow": null,
       "grid_auto_rows": null,
       "grid_column": null,
       "grid_gap": null,
       "grid_row": null,
       "grid_template_areas": null,
       "grid_template_columns": null,
       "grid_template_rows": null,
       "height": null,
       "justify_content": null,
       "justify_items": null,
       "left": null,
       "margin": null,
       "max_height": null,
       "max_width": null,
       "min_height": null,
       "min_width": null,
       "object_fit": null,
       "object_position": null,
       "order": null,
       "overflow": null,
       "overflow_x": null,
       "overflow_y": null,
       "padding": null,
       "right": null,
       "top": null,
       "visibility": null,
       "width": null
      }
     },
     "cd59d04746f44f9fba14325fe290f585": {
      "model_module": "@jupyter-widgets/controls",
      "model_module_version": "1.5.0",
      "model_name": "ProgressStyleModel",
      "state": {
       "_model_module": "@jupyter-widgets/controls",
       "_model_module_version": "1.5.0",
       "_model_name": "ProgressStyleModel",
       "_view_count": null,
       "_view_module": "@jupyter-widgets/base",
       "_view_module_version": "1.2.0",
       "_view_name": "StyleView",
       "bar_color": null,
       "description_width": ""
      }
     },
     "d121e5036570422dac9f5d228032eb7b": {
      "model_module": "@jupyter-widgets/controls",
      "model_module_version": "1.5.0",
      "model_name": "DescriptionStyleModel",
      "state": {
       "_model_module": "@jupyter-widgets/controls",
       "_model_module_version": "1.5.0",
       "_model_name": "DescriptionStyleModel",
       "_view_count": null,
       "_view_module": "@jupyter-widgets/base",
       "_view_module_version": "1.2.0",
       "_view_name": "StyleView",
       "description_width": ""
      }
     },
     "d24f9daf015b4cbc9b6087b146873ff5": {
      "model_module": "@jupyter-widgets/controls",
      "model_module_version": "1.5.0",
      "model_name": "HTMLModel",
      "state": {
       "_dom_classes": [],
       "_model_module": "@jupyter-widgets/controls",
       "_model_module_version": "1.5.0",
       "_model_name": "HTMLModel",
       "_view_count": null,
       "_view_module": "@jupyter-widgets/controls",
       "_view_module_version": "1.5.0",
       "_view_name": "HTMLView",
       "description": "",
       "description_tooltip": null,
       "layout": "IPY_MODEL_a0cfd7dcc3b5487dbd45a5f21b01b378",
       "placeholder": "​",
       "style": "IPY_MODEL_1efc72633fbd4600a9cbf4e707694b93",
       "value": " 7470/? [00:02&lt;00:00, 3257.02it/s]"
      }
     },
     "e6eb7e82346b4490be7e056fec5becda": {
      "model_module": "@jupyter-widgets/controls",
      "model_module_version": "1.5.0",
      "model_name": "ProgressStyleModel",
      "state": {
       "_model_module": "@jupyter-widgets/controls",
       "_model_module_version": "1.5.0",
       "_model_name": "ProgressStyleModel",
       "_view_count": null,
       "_view_module": "@jupyter-widgets/base",
       "_view_module_version": "1.2.0",
       "_view_name": "StyleView",
       "bar_color": null,
       "description_width": ""
      }
     },
     "f5cee91fd8e041e5a85f8e4bf5b84e39": {
      "model_module": "@jupyter-widgets/controls",
      "model_module_version": "1.5.0",
      "model_name": "HTMLModel",
      "state": {
       "_dom_classes": [],
       "_model_module": "@jupyter-widgets/controls",
       "_model_module_version": "1.5.0",
       "_model_name": "HTMLModel",
       "_view_count": null,
       "_view_module": "@jupyter-widgets/controls",
       "_view_module_version": "1.5.0",
       "_view_name": "HTMLView",
       "description": "",
       "description_tooltip": null,
       "layout": "IPY_MODEL_b6079f7b4b7145f79ad64612554e0b8f",
       "placeholder": "​",
       "style": "IPY_MODEL_8f521d5b6b0b40cbab3584954c69ea8b",
       "value": " 5015/5015 [00:46&lt;00:00, 105.92it/s]"
      }
     },
     "f9ac4e0f2930419db0712470d226204c": {
      "model_module": "@jupyter-widgets/base",
      "model_module_version": "1.2.0",
      "model_name": "LayoutModel",
      "state": {
       "_model_module": "@jupyter-widgets/base",
       "_model_module_version": "1.2.0",
       "_model_name": "LayoutModel",
       "_view_count": null,
       "_view_module": "@jupyter-widgets/base",
       "_view_module_version": "1.2.0",
       "_view_name": "LayoutView",
       "align_content": null,
       "align_items": null,
       "align_self": null,
       "border": null,
       "bottom": null,
       "display": null,
       "flex": null,
       "flex_flow": null,
       "grid_area": null,
       "grid_auto_columns": null,
       "grid_auto_flow": null,
       "grid_auto_rows": null,
       "grid_column": null,
       "grid_gap": null,
       "grid_row": null,
       "grid_template_areas": null,
       "grid_template_columns": null,
       "grid_template_rows": null,
       "height": null,
       "justify_content": null,
       "justify_items": null,
       "left": null,
       "margin": null,
       "max_height": null,
       "max_width": null,
       "min_height": null,
       "min_width": null,
       "object_fit": null,
       "object_position": null,
       "order": null,
       "overflow": null,
       "overflow_x": null,
       "overflow_y": null,
       "padding": null,
       "right": null,
       "top": null,
       "visibility": null,
       "width": null
      }
     }
    },
    "version_major": 2,
    "version_minor": 0
   }
  }
 },
 "nbformat": 4,
 "nbformat_minor": 5
}
