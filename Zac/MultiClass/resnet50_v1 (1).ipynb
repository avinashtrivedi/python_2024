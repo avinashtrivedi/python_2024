{
 "cells": [
  {
   "cell_type": "code",
   "execution_count": 18,
   "metadata": {
    "_cell_guid": "b1076dfc-b9ad-4769-8c92-a6c4dae69d19",
    "_uuid": "8f2839f25d086af736a60e9eeb907d3b93b6e0e5",
    "execution": {
     "iopub.execute_input": "2024-04-19T14:55:35.031744Z",
     "iopub.status.busy": "2024-04-19T14:55:35.030638Z",
     "iopub.status.idle": "2024-04-19T14:55:35.036715Z",
     "shell.execute_reply": "2024-04-19T14:55:35.035697Z",
     "shell.execute_reply.started": "2024-04-19T14:55:35.031691Z"
    }
   },
   "outputs": [],
   "source": [
    "import os\n",
    "import random\n",
    "import pandas as pd\n",
    "import numpy as np\n",
    "from tqdm import tqdm\n",
    "from shutil import copyfile, move\n",
    "from ignite.metrics import Accuracy\n",
    "from sklearn.metrics import confusion_matrix, ConfusionMatrixDisplay, classification_report, roc_auc_score"
   ]
  },
  {
   "cell_type": "code",
   "execution_count": 3,
   "metadata": {
    "execution": {
     "iopub.execute_input": "2024-04-19T14:50:23.125279Z",
     "iopub.status.busy": "2024-04-19T14:50:23.124981Z",
     "iopub.status.idle": "2024-04-19T14:50:23.151464Z",
     "shell.execute_reply": "2024-04-19T14:50:23.150609Z",
     "shell.execute_reply.started": "2024-04-19T14:50:23.125256Z"
    }
   },
   "outputs": [
    {
     "name": "stdout",
     "output_type": "stream",
     "text": [
      "['hmnist_8_8_RGB.csv', 'hmnist_28_28_RGB.csv', 'HAM10000_images_part_1', 'ham10000_images_part_1', 'hmnist_8_8_L.csv', 'HAM10000_images_part_2', 'ham10000_images_part_2', 'hmnist_28_28_L.csv', 'HAM10000_metadata.csv']\n"
     ]
    }
   ],
   "source": [
    "print(os.listdir(\"/kaggle/input/skin-cancer-mnist-ham10000/\"))"
   ]
  },
  {
   "cell_type": "code",
   "execution_count": 4,
   "metadata": {
    "execution": {
     "iopub.execute_input": "2024-04-19T14:50:23.153232Z",
     "iopub.status.busy": "2024-04-19T14:50:23.152969Z",
     "iopub.status.idle": "2024-04-19T14:50:23.191426Z",
     "shell.execute_reply": "2024-04-19T14:50:23.190769Z",
     "shell.execute_reply.started": "2024-04-19T14:50:23.153209Z"
    }
   },
   "outputs": [],
   "source": [
    "data = pd.read_csv('../input/skin-cancer-mnist-ham10000/HAM10000_metadata.csv')"
   ]
  },
  {
   "cell_type": "code",
   "execution_count": 5,
   "metadata": {
    "execution": {
     "iopub.execute_input": "2024-04-19T14:50:23.192414Z",
     "iopub.status.busy": "2024-04-19T14:50:23.192186Z",
     "iopub.status.idle": "2024-04-19T14:50:23.208913Z",
     "shell.execute_reply": "2024-04-19T14:50:23.208013Z",
     "shell.execute_reply.started": "2024-04-19T14:50:23.192393Z"
    }
   },
   "outputs": [
    {
     "data": {
      "text/plain": [
       "dx\n",
       "nv       6705\n",
       "mel      1113\n",
       "bkl      1099\n",
       "bcc       514\n",
       "akiec     327\n",
       "vasc      142\n",
       "df        115\n",
       "Name: count, dtype: int64"
      ]
     },
     "execution_count": 5,
     "metadata": {},
     "output_type": "execute_result"
    }
   ],
   "source": [
    "data['dx'].value_counts()"
   ]
  },
  {
   "cell_type": "code",
   "execution_count": 6,
   "metadata": {
    "execution": {
     "iopub.execute_input": "2024-04-19T14:50:23.211259Z",
     "iopub.status.busy": "2024-04-19T14:50:23.210965Z",
     "iopub.status.idle": "2024-04-19T14:50:36.089920Z",
     "shell.execute_reply": "2024-04-19T14:50:36.088902Z",
     "shell.execute_reply.started": "2024-04-19T14:50:23.211236Z"
    }
   },
   "outputs": [
    {
     "name": "stdout",
     "output_type": "stream",
     "text": [
      "Collecting barbar\n",
      "  Downloading barbar-0.2.1-py3-none-any.whl (3.9 kB)\n",
      "Requirement already satisfied: pytorch-ignite in /opt/conda/lib/python3.10/site-packages (0.4.12)\n",
      "Requirement already satisfied: torch<3,>=1.3 in /opt/conda/lib/python3.10/site-packages (from pytorch-ignite) (2.0.0)\n",
      "Requirement already satisfied: packaging in /opt/conda/lib/python3.10/site-packages (from pytorch-ignite) (21.3)\n",
      "Requirement already satisfied: filelock in /opt/conda/lib/python3.10/site-packages (from torch<3,>=1.3->pytorch-ignite) (3.12.2)\n",
      "Requirement already satisfied: typing-extensions in /opt/conda/lib/python3.10/site-packages (from torch<3,>=1.3->pytorch-ignite) (4.6.3)\n",
      "Requirement already satisfied: sympy in /opt/conda/lib/python3.10/site-packages (from torch<3,>=1.3->pytorch-ignite) (1.12)\n",
      "Requirement already satisfied: networkx in /opt/conda/lib/python3.10/site-packages (from torch<3,>=1.3->pytorch-ignite) (3.1)\n",
      "Requirement already satisfied: jinja2 in /opt/conda/lib/python3.10/site-packages (from torch<3,>=1.3->pytorch-ignite) (3.1.2)\n",
      "Requirement already satisfied: pyparsing!=3.0.5,>=2.0.2 in /opt/conda/lib/python3.10/site-packages (from packaging->pytorch-ignite) (3.0.9)\n",
      "Requirement already satisfied: MarkupSafe>=2.0 in /opt/conda/lib/python3.10/site-packages (from jinja2->torch<3,>=1.3->pytorch-ignite) (2.1.3)\n",
      "Requirement already satisfied: mpmath>=0.19 in /opt/conda/lib/python3.10/site-packages (from sympy->torch<3,>=1.3->pytorch-ignite) (1.3.0)\n",
      "Installing collected packages: barbar\n",
      "Successfully installed barbar-0.2.1\n"
     ]
    }
   ],
   "source": [
    "!pip install barbar pytorch-ignite"
   ]
  },
  {
   "cell_type": "code",
   "execution_count": 7,
   "metadata": {
    "execution": {
     "iopub.execute_input": "2024-04-19T14:50:36.091896Z",
     "iopub.status.busy": "2024-04-19T14:50:36.091494Z",
     "iopub.status.idle": "2024-04-19T14:50:47.573738Z",
     "shell.execute_reply": "2024-04-19T14:50:47.572600Z",
     "shell.execute_reply.started": "2024-04-19T14:50:36.091853Z"
    }
   },
   "outputs": [
    {
     "name": "stdout",
     "output_type": "stream",
     "text": [
      "Note: you may need to restart the kernel to use updated packages.\n"
     ]
    }
   ],
   "source": [
    "pip install -q torch-summary\n"
   ]
  },
  {
   "cell_type": "code",
   "execution_count": 8,
   "metadata": {
    "execution": {
     "iopub.execute_input": "2024-04-19T14:50:47.575325Z",
     "iopub.status.busy": "2024-04-19T14:50:47.575014Z",
     "iopub.status.idle": "2024-04-19T14:50:55.822857Z",
     "shell.execute_reply": "2024-04-19T14:50:55.821862Z",
     "shell.execute_reply.started": "2024-04-19T14:50:47.575287Z"
    }
   },
   "outputs": [],
   "source": [
    "from torchvision import transforms, datasets\n",
    "import torch\n",
    "import torch.nn as nn\n",
    "import torchvision\n",
    "from torchsummary import summary\n",
    "from torch.utils.tensorboard import SummaryWriter\n",
    "from barbar import Bar"
   ]
  },
  {
   "cell_type": "code",
   "execution_count": 9,
   "metadata": {
    "execution": {
     "iopub.execute_input": "2024-04-19T14:50:55.824920Z",
     "iopub.status.busy": "2024-04-19T14:50:55.824363Z",
     "iopub.status.idle": "2024-04-19T14:50:55.835184Z",
     "shell.execute_reply": "2024-04-19T14:50:55.834145Z",
     "shell.execute_reply.started": "2024-04-19T14:50:55.824892Z"
    }
   },
   "outputs": [],
   "source": [
    "class EarlyStopping:\n",
    "    \"\"\"Early stops the training if validation loss doesn't improve after a given patience.\"\"\"\n",
    "    def __init__(self, patience=7, verbose=False, delta=0, path='checkpoint.pt', trace_func=print):\n",
    "        \"\"\"\n",
    "        Args:\n",
    "            patience (int): How long to wait after last time validation loss improved.\n",
    "                            Default: 7\n",
    "            verbose (bool): If True, prints a message for each validation loss improvement. \n",
    "                            Default: False\n",
    "            delta (float): Minimum change in the monitored quantity to qualify as an improvement.\n",
    "                            Default: 0\n",
    "            path (str): Path for the checkpoint to be saved to.\n",
    "                            Default: 'checkpoint.pt'\n",
    "            trace_func (function): trace print function.\n",
    "                            Default: print            \n",
    "        \"\"\"\n",
    "        self.patience = patience\n",
    "        self.verbose = verbose\n",
    "        self.counter = 0\n",
    "        self.best_score = None\n",
    "        self.early_stop = False\n",
    "        self.val_loss_min = np.Inf\n",
    "        self.delta = delta\n",
    "        self.path = path\n",
    "        self.trace_func = trace_func\n",
    "    def __call__(self, val_loss, model):\n",
    "\n",
    "        score = -val_loss\n",
    "\n",
    "        if self.best_score is None:\n",
    "            self.best_score = score\n",
    "            self.save_checkpoint(val_loss, model)\n",
    "        elif score < self.best_score + self.delta:\n",
    "            self.counter += 1\n",
    "            self.trace_func(f'EarlyStopping counter: {self.counter} out of {self.patience}')\n",
    "            if self.counter >= self.patience:\n",
    "                self.early_stop = True\n",
    "        else:\n",
    "            self.best_score = score\n",
    "            self.save_checkpoint(val_loss, model)\n",
    "            self.counter = 0\n",
    "\n",
    "    def save_checkpoint(self, val_loss, model):\n",
    "        '''Saves model when monitored metric decrease.'''\n",
    "        if self.verbose:\n",
    "            self.trace_func(f'Monitored metric has improved ({self.val_loss_min:.6f} --> {val_loss:.6f}).  Saving model ...')\n",
    "        torch.save(model.state_dict(), f'/kaggle/working/skin_models/skinmodel50.pt') \n",
    "        self.val_loss_min = val_loss\n"
   ]
  },
  {
   "cell_type": "code",
   "execution_count": 10,
   "metadata": {
    "execution": {
     "iopub.execute_input": "2024-04-19T14:50:55.839961Z",
     "iopub.status.busy": "2024-04-19T14:50:55.839332Z",
     "iopub.status.idle": "2024-04-19T14:50:55.854221Z",
     "shell.execute_reply": "2024-04-19T14:50:55.853408Z",
     "shell.execute_reply.started": "2024-04-19T14:50:55.839935Z"
    }
   },
   "outputs": [],
   "source": [
    "def split_data(source, training,test,validation, split_size):    \n",
    "    files = []\n",
    "    for filename in os.listdir(source):\n",
    "        file = source + filename\n",
    "        if os.path.getsize(file) > 0:\n",
    "            files.append(filename)\n",
    "        else:\n",
    "            print(filename + \" is zero length, so ignoring.\")\n",
    "\n",
    "    training_length = int(len(files) * split_size)\n",
    "    test_length = int(len(files) - training_length)\n",
    "    validation_length = int(training_length*0.1)\n",
    "    training_length = int(training_length - validation_length)\n",
    "    \n",
    "    shuffled_set = random.sample(files, len(files))\n",
    "    training_set = shuffled_set[0:training_length]\n",
    "    validation_set = shuffled_set[training_length:training_length+validation_length]\n",
    "    \n",
    "    test_set = shuffled_set[training_length+validation_length:]\n",
    "    \n",
    "    for filename in training_set:\n",
    "        this_file = source + filename\n",
    "        destination = training + filename\n",
    "        copyfile(this_file, destination)\n",
    "\n",
    "    for filename in validation_set:\n",
    "        this_file = source + filename\n",
    "        destination = validation + filename\n",
    "        copyfile(this_file, destination)\n",
    "        \n",
    "    for filename in test_set:\n",
    "        this_file = source + filename\n",
    "        destination = test + filename\n",
    "        copyfile(this_file, destination)"
   ]
  },
  {
   "cell_type": "code",
   "execution_count": 11,
   "metadata": {
    "execution": {
     "iopub.execute_input": "2024-04-19T14:50:55.855592Z",
     "iopub.status.busy": "2024-04-19T14:50:55.855293Z",
     "iopub.status.idle": "2024-04-19T14:50:55.870124Z",
     "shell.execute_reply": "2024-04-19T14:50:55.869304Z",
     "shell.execute_reply.started": "2024-04-19T14:50:55.855548Z"
    }
   },
   "outputs": [],
   "source": [
    "os.mkdir('/kaggle/working/skin_models/')"
   ]
  },
  {
   "cell_type": "code",
   "execution_count": 12,
   "metadata": {
    "execution": {
     "iopub.execute_input": "2024-04-19T14:50:55.871347Z",
     "iopub.status.busy": "2024-04-19T14:50:55.871099Z",
     "iopub.status.idle": "2024-04-19T14:50:55.883796Z",
     "shell.execute_reply": "2024-04-19T14:50:55.883079Z",
     "shell.execute_reply.started": "2024-04-19T14:50:55.871325Z"
    }
   },
   "outputs": [],
   "source": [
    "os.mkdir('/kaggle/working/orig/')\n",
    "os.mkdir('/kaggle/working/orig/0.MEL/')\n",
    "os.mkdir('/kaggle/working/orig/1.NV/')\n",
    "os.mkdir('/kaggle/working/orig/2.BCC/')\n",
    "os.mkdir('/kaggle/working/orig/3.AKIEC/')\n",
    "os.mkdir('/kaggle/working/orig/4.BKL/')\n",
    "os.mkdir('/kaggle/working/orig/5.DF/')\n",
    "os.mkdir('/kaggle/working/orig/6.VASC/')\n",
    "\n",
    "os.mkdir('/kaggle/working/skin/')\n",
    "os.mkdir('/kaggle/working/skin/training/')\n",
    "os.mkdir('/kaggle/working/skin/test/')\n",
    "os.mkdir('/kaggle/working/skin/validation/')\n",
    "os.mkdir('/kaggle/working/skin/training/0.MEL/')\n",
    "os.mkdir('/kaggle/working/skin/training/1.NV/')\n",
    "os.mkdir('/kaggle/working/skin/training/2.BCC/')\n",
    "os.mkdir('/kaggle/working/skin/training/3.AKIEC/')\n",
    "os.mkdir('/kaggle/working/skin/training/4.BKL/')\n",
    "os.mkdir('/kaggle/working/skin/training/5.DF/')\n",
    "os.mkdir('/kaggle/working/skin/training/6.VASC/')\n",
    "os.mkdir('/kaggle/working/skin/validation/0.MEL/')\n",
    "os.mkdir('/kaggle/working/skin/validation/1.NV/')\n",
    "os.mkdir('/kaggle/working/skin/validation/2.BCC/')\n",
    "os.mkdir('/kaggle/working/skin/validation/3.AKIEC/')\n",
    "os.mkdir('/kaggle/working/skin/validation/4.BKL/')\n",
    "os.mkdir('/kaggle/working/skin/validation/5.DF/')\n",
    "os.mkdir('/kaggle/working/skin/validation/6.VASC/')\n",
    "\n",
    "os.mkdir('/kaggle/working/skin/test/0.MEL/')\n",
    "os.mkdir('/kaggle/working/skin/test/1.NV/')\n",
    "os.mkdir('/kaggle/working/skin/test/2.BCC/')\n",
    "os.mkdir('/kaggle/working/skin/test/3.AKIEC/')\n",
    "os.mkdir('/kaggle/working/skin/test/4.BKL/')\n",
    "os.mkdir('/kaggle/working/skin/test/5.DF/')\n",
    "os.mkdir('/kaggle/working/skin/test/6.VASC/')"
   ]
  },
  {
   "cell_type": "code",
   "execution_count": 13,
   "metadata": {
    "execution": {
     "iopub.execute_input": "2024-04-19T14:50:55.884997Z",
     "iopub.status.busy": "2024-04-19T14:50:55.884755Z",
     "iopub.status.idle": "2024-04-19T14:50:55.896699Z",
     "shell.execute_reply": "2024-04-19T14:50:55.895817Z",
     "shell.execute_reply.started": "2024-04-19T14:50:55.884976Z"
    }
   },
   "outputs": [],
   "source": [
    "orig_all = '/kaggle/working/HAM10000/'\n",
    "source_MEL = '/kaggle/working/orig/0.MEL/'\n",
    "source_NV = '/kaggle/working/orig/1.NV/'\n",
    "source_BCC = '/kaggle/working/orig/2.BCC/'\n",
    "source_AKIEC = '/kaggle/working/orig/3.AKIEC/'\n",
    "source_BKL = '/kaggle/working/orig/4.BKL/'\n",
    "source_DF = '/kaggle/working/orig/5.DF/'\n",
    "source_VASC = '/kaggle/working/orig/6.VASC/'\n",
    "\n",
    "training_MEL = '/kaggle/working/skin/training/0.MEL/'\n",
    "training_NV = '/kaggle/working/skin/training/1.NV/'\n",
    "training_BCC = '/kaggle/working/skin/training/2.BCC/'\n",
    "training_AKIEC = '/kaggle/working/skin/training/3.AKIEC/'\n",
    "training_BKL = '/kaggle/working/skin/training/4.BKL/'\n",
    "training_DF = '/kaggle/working/skin/training/5.DF/'\n",
    "training_VASC = '/kaggle/working/skin/training/6.VASC/'\n",
    "validation_MEL = '/kaggle/working/skin/validation/0.MEL/'\n",
    "validation_NV = '/kaggle/working/skin/validation/1.NV/'\n",
    "validation_BCC = '/kaggle/working/skin/validation/2.BCC/'\n",
    "validation_AKIEC = '/kaggle/working/skin/validation/3.AKIEC/'\n",
    "validation_BKL = '/kaggle/working/skin/validation/4.BKL/'\n",
    "validation_DF = '/kaggle/working/skin/validation/5.DF/'\n",
    "validation_VASC = '/kaggle/working/skin/validation/6.VASC/'\n",
    "\n",
    "test_MEL = '/kaggle/working/skin/test/0.MEL/'\n",
    "test_NV = '/kaggle/working/skin/test/1.NV/'\n",
    "test_BCC = '/kaggle/working/skin/test/2.BCC/'\n",
    "test_AKIEC = '/kaggle/working/skin/test/3.AKIEC/'\n",
    "test_BKL = '/kaggle/working/skin/test/4.BKL/'\n",
    "test_DF = '/kaggle/working/skin/test/5.DF/'\n",
    "test_VASC = '/kaggle/working/skin/test/6.VASC/'"
   ]
  },
  {
   "cell_type": "code",
   "execution_count": 14,
   "metadata": {
    "execution": {
     "iopub.execute_input": "2024-04-19T14:50:55.897826Z",
     "iopub.status.busy": "2024-04-19T14:50:55.897572Z",
     "iopub.status.idle": "2024-04-19T14:50:55.909265Z",
     "shell.execute_reply": "2024-04-19T14:50:55.908597Z",
     "shell.execute_reply.started": "2024-04-19T14:50:55.897804Z"
    }
   },
   "outputs": [],
   "source": [
    "os.mkdir('/kaggle/working/HAM10000/')"
   ]
  },
  {
   "cell_type": "code",
   "execution_count": 19,
   "metadata": {
    "execution": {
     "iopub.execute_input": "2024-04-19T14:55:45.698669Z",
     "iopub.status.busy": "2024-04-19T14:55:45.698302Z",
     "iopub.status.idle": "2024-04-19T14:57:18.148118Z",
     "shell.execute_reply": "2024-04-19T14:57:18.147239Z",
     "shell.execute_reply.started": "2024-04-19T14:55:45.698639Z"
    }
   },
   "outputs": [
    {
     "name": "stderr",
     "output_type": "stream",
     "text": [
      "100%|██████████| 5000/5000 [00:45<00:00, 108.78it/s]\n",
      "100%|██████████| 5015/5015 [00:46<00:00, 108.52it/s]\n"
     ]
    }
   ],
   "source": [
    "part1 = \"/kaggle/input/skin-cancer-mnist-ham10000/HAM10000_images_part_1\"\n",
    "part2 = \"/kaggle/input/skin-cancer-mnist-ham10000/HAM10000_images_part_2\"\n",
    "\n",
    "for part in [part1,part2]:\n",
    "    for img in tqdm(os.listdir(part)):\n",
    "        copyfile(os.path.join(part, img), os.path.join('/kaggle/working/HAM10000/', img))    "
   ]
  },
  {
   "cell_type": "code",
   "execution_count": 20,
   "metadata": {
    "execution": {
     "iopub.execute_input": "2024-04-19T14:57:18.150207Z",
     "iopub.status.busy": "2024-04-19T14:57:18.149899Z",
     "iopub.status.idle": "2024-04-19T14:57:18.173549Z",
     "shell.execute_reply": "2024-04-19T14:57:18.172754Z",
     "shell.execute_reply.started": "2024-04-19T14:57:18.150179Z"
    }
   },
   "outputs": [
    {
     "data": {
      "text/html": [
       "<div>\n",
       "<style scoped>\n",
       "    .dataframe tbody tr th:only-of-type {\n",
       "        vertical-align: middle;\n",
       "    }\n",
       "\n",
       "    .dataframe tbody tr th {\n",
       "        vertical-align: top;\n",
       "    }\n",
       "\n",
       "    .dataframe thead th {\n",
       "        text-align: right;\n",
       "    }\n",
       "</style>\n",
       "<table border=\"1\" class=\"dataframe\">\n",
       "  <thead>\n",
       "    <tr style=\"text-align: right;\">\n",
       "      <th></th>\n",
       "      <th>lesion_id</th>\n",
       "      <th>image_id</th>\n",
       "      <th>dx</th>\n",
       "      <th>dx_type</th>\n",
       "      <th>age</th>\n",
       "      <th>sex</th>\n",
       "      <th>localization</th>\n",
       "    </tr>\n",
       "  </thead>\n",
       "  <tbody>\n",
       "    <tr>\n",
       "      <th>0</th>\n",
       "      <td>HAM_0000118</td>\n",
       "      <td>ISIC_0027419</td>\n",
       "      <td>bkl</td>\n",
       "      <td>histo</td>\n",
       "      <td>80.0</td>\n",
       "      <td>male</td>\n",
       "      <td>scalp</td>\n",
       "    </tr>\n",
       "    <tr>\n",
       "      <th>1</th>\n",
       "      <td>HAM_0000118</td>\n",
       "      <td>ISIC_0025030</td>\n",
       "      <td>bkl</td>\n",
       "      <td>histo</td>\n",
       "      <td>80.0</td>\n",
       "      <td>male</td>\n",
       "      <td>scalp</td>\n",
       "    </tr>\n",
       "    <tr>\n",
       "      <th>2</th>\n",
       "      <td>HAM_0002730</td>\n",
       "      <td>ISIC_0026769</td>\n",
       "      <td>bkl</td>\n",
       "      <td>histo</td>\n",
       "      <td>80.0</td>\n",
       "      <td>male</td>\n",
       "      <td>scalp</td>\n",
       "    </tr>\n",
       "    <tr>\n",
       "      <th>3</th>\n",
       "      <td>HAM_0002730</td>\n",
       "      <td>ISIC_0025661</td>\n",
       "      <td>bkl</td>\n",
       "      <td>histo</td>\n",
       "      <td>80.0</td>\n",
       "      <td>male</td>\n",
       "      <td>scalp</td>\n",
       "    </tr>\n",
       "    <tr>\n",
       "      <th>4</th>\n",
       "      <td>HAM_0001466</td>\n",
       "      <td>ISIC_0031633</td>\n",
       "      <td>bkl</td>\n",
       "      <td>histo</td>\n",
       "      <td>75.0</td>\n",
       "      <td>male</td>\n",
       "      <td>ear</td>\n",
       "    </tr>\n",
       "    <tr>\n",
       "      <th>...</th>\n",
       "      <td>...</td>\n",
       "      <td>...</td>\n",
       "      <td>...</td>\n",
       "      <td>...</td>\n",
       "      <td>...</td>\n",
       "      <td>...</td>\n",
       "      <td>...</td>\n",
       "    </tr>\n",
       "    <tr>\n",
       "      <th>10010</th>\n",
       "      <td>HAM_0002867</td>\n",
       "      <td>ISIC_0033084</td>\n",
       "      <td>akiec</td>\n",
       "      <td>histo</td>\n",
       "      <td>40.0</td>\n",
       "      <td>male</td>\n",
       "      <td>abdomen</td>\n",
       "    </tr>\n",
       "    <tr>\n",
       "      <th>10011</th>\n",
       "      <td>HAM_0002867</td>\n",
       "      <td>ISIC_0033550</td>\n",
       "      <td>akiec</td>\n",
       "      <td>histo</td>\n",
       "      <td>40.0</td>\n",
       "      <td>male</td>\n",
       "      <td>abdomen</td>\n",
       "    </tr>\n",
       "    <tr>\n",
       "      <th>10012</th>\n",
       "      <td>HAM_0002867</td>\n",
       "      <td>ISIC_0033536</td>\n",
       "      <td>akiec</td>\n",
       "      <td>histo</td>\n",
       "      <td>40.0</td>\n",
       "      <td>male</td>\n",
       "      <td>abdomen</td>\n",
       "    </tr>\n",
       "    <tr>\n",
       "      <th>10013</th>\n",
       "      <td>HAM_0000239</td>\n",
       "      <td>ISIC_0032854</td>\n",
       "      <td>akiec</td>\n",
       "      <td>histo</td>\n",
       "      <td>80.0</td>\n",
       "      <td>male</td>\n",
       "      <td>face</td>\n",
       "    </tr>\n",
       "    <tr>\n",
       "      <th>10014</th>\n",
       "      <td>HAM_0003521</td>\n",
       "      <td>ISIC_0032258</td>\n",
       "      <td>mel</td>\n",
       "      <td>histo</td>\n",
       "      <td>70.0</td>\n",
       "      <td>female</td>\n",
       "      <td>back</td>\n",
       "    </tr>\n",
       "  </tbody>\n",
       "</table>\n",
       "<p>10015 rows × 7 columns</p>\n",
       "</div>"
      ],
      "text/plain": [
       "         lesion_id      image_id     dx dx_type   age     sex localization\n",
       "0      HAM_0000118  ISIC_0027419    bkl   histo  80.0    male        scalp\n",
       "1      HAM_0000118  ISIC_0025030    bkl   histo  80.0    male        scalp\n",
       "2      HAM_0002730  ISIC_0026769    bkl   histo  80.0    male        scalp\n",
       "3      HAM_0002730  ISIC_0025661    bkl   histo  80.0    male        scalp\n",
       "4      HAM_0001466  ISIC_0031633    bkl   histo  75.0    male          ear\n",
       "...            ...           ...    ...     ...   ...     ...          ...\n",
       "10010  HAM_0002867  ISIC_0033084  akiec   histo  40.0    male      abdomen\n",
       "10011  HAM_0002867  ISIC_0033550  akiec   histo  40.0    male      abdomen\n",
       "10012  HAM_0002867  ISIC_0033536  akiec   histo  40.0    male      abdomen\n",
       "10013  HAM_0000239  ISIC_0032854  akiec   histo  80.0    male         face\n",
       "10014  HAM_0003521  ISIC_0032258    mel   histo  70.0  female         back\n",
       "\n",
       "[10015 rows x 7 columns]"
      ]
     },
     "execution_count": 20,
     "metadata": {},
     "output_type": "execute_result"
    }
   ],
   "source": [
    "data"
   ]
  },
  {
   "cell_type": "code",
   "execution_count": 21,
   "metadata": {
    "execution": {
     "iopub.execute_input": "2024-04-19T14:57:18.174905Z",
     "iopub.status.busy": "2024-04-19T14:57:18.174633Z",
     "iopub.status.idle": "2024-04-19T14:57:18.181142Z",
     "shell.execute_reply": "2024-04-19T14:57:18.180235Z",
     "shell.execute_reply.started": "2024-04-19T14:57:18.174881Z"
    }
   },
   "outputs": [
    {
     "data": {
      "text/plain": [
       "Index(['lesion_id', 'image_id', 'dx', 'dx_type', 'age', 'sex', 'localization'], dtype='object')"
      ]
     },
     "execution_count": 21,
     "metadata": {},
     "output_type": "execute_result"
    }
   ],
   "source": [
    "data.columns"
   ]
  },
  {
   "cell_type": "code",
   "execution_count": 22,
   "metadata": {
    "execution": {
     "iopub.execute_input": "2024-04-19T14:57:18.182652Z",
     "iopub.status.busy": "2024-04-19T14:57:18.182268Z",
     "iopub.status.idle": "2024-04-19T14:57:18.191836Z",
     "shell.execute_reply": "2024-04-19T14:57:18.191027Z",
     "shell.execute_reply.started": "2024-04-19T14:57:18.182623Z"
    }
   },
   "outputs": [
    {
     "data": {
      "text/plain": [
       "10015"
      ]
     },
     "execution_count": 22,
     "metadata": {},
     "output_type": "execute_result"
    }
   ],
   "source": [
    "len(data)\n"
   ]
  },
  {
   "cell_type": "code",
   "execution_count": 23,
   "metadata": {
    "execution": {
     "iopub.execute_input": "2024-04-19T14:57:18.194385Z",
     "iopub.status.busy": "2024-04-19T14:57:18.194103Z",
     "iopub.status.idle": "2024-04-19T14:57:18.205138Z",
     "shell.execute_reply": "2024-04-19T14:57:18.204262Z",
     "shell.execute_reply.started": "2024-04-19T14:57:18.194361Z"
    }
   },
   "outputs": [],
   "source": [
    "data = data.drop_duplicates(subset='lesion_id')"
   ]
  },
  {
   "cell_type": "code",
   "execution_count": 24,
   "metadata": {
    "execution": {
     "iopub.execute_input": "2024-04-19T14:57:18.206920Z",
     "iopub.status.busy": "2024-04-19T14:57:18.206346Z",
     "iopub.status.idle": "2024-04-19T14:57:18.214613Z",
     "shell.execute_reply": "2024-04-19T14:57:18.213889Z",
     "shell.execute_reply.started": "2024-04-19T14:57:18.206887Z"
    }
   },
   "outputs": [
    {
     "data": {
      "text/plain": [
       "7470"
      ]
     },
     "execution_count": 24,
     "metadata": {},
     "output_type": "execute_result"
    }
   ],
   "source": [
    "len(data)\n"
   ]
  },
  {
   "cell_type": "code",
   "execution_count": 25,
   "metadata": {
    "execution": {
     "iopub.execute_input": "2024-04-19T14:57:18.216160Z",
     "iopub.status.busy": "2024-04-19T14:57:18.215877Z",
     "iopub.status.idle": "2024-04-19T14:57:18.226470Z",
     "shell.execute_reply": "2024-04-19T14:57:18.225587Z",
     "shell.execute_reply.started": "2024-04-19T14:57:18.216137Z"
    }
   },
   "outputs": [],
   "source": [
    "image_names = [x for x in data['image_id']]\n",
    "diagnosis = [x for x in data['dx']]"
   ]
  },
  {
   "cell_type": "code",
   "execution_count": 26,
   "metadata": {
    "execution": {
     "iopub.execute_input": "2024-04-19T14:57:18.227982Z",
     "iopub.status.busy": "2024-04-19T14:57:18.227710Z",
     "iopub.status.idle": "2024-04-19T14:57:18.236870Z",
     "shell.execute_reply": "2024-04-19T14:57:18.236001Z",
     "shell.execute_reply.started": "2024-04-19T14:57:18.227949Z"
    }
   },
   "outputs": [
    {
     "name": "stdout",
     "output_type": "stream",
     "text": [
      "7470\n",
      "7470\n"
     ]
    }
   ],
   "source": [
    "print(len(image_names))\n",
    "print(len(diagnosis))"
   ]
  },
  {
   "cell_type": "code",
   "execution_count": 27,
   "metadata": {
    "execution": {
     "iopub.execute_input": "2024-04-19T14:57:18.238124Z",
     "iopub.status.busy": "2024-04-19T14:57:18.237843Z",
     "iopub.status.idle": "2024-04-19T14:57:18.248394Z",
     "shell.execute_reply": "2024-04-19T14:57:18.247503Z",
     "shell.execute_reply.started": "2024-04-19T14:57:18.238101Z"
    }
   },
   "outputs": [
    {
     "name": "stdout",
     "output_type": "stream",
     "text": [
      "ISIC_0027419\n",
      "bkl\n"
     ]
    }
   ],
   "source": [
    "print(image_names[0])\n",
    "print(diagnosis[0])"
   ]
  },
  {
   "cell_type": "code",
   "execution_count": 28,
   "metadata": {
    "execution": {
     "iopub.execute_input": "2024-04-19T14:57:18.250307Z",
     "iopub.status.busy": "2024-04-19T14:57:18.249504Z",
     "iopub.status.idle": "2024-04-19T14:57:18.262887Z",
     "shell.execute_reply": "2024-04-19T14:57:18.261957Z",
     "shell.execute_reply.started": "2024-04-19T14:57:18.250275Z"
    }
   },
   "outputs": [
    {
     "data": {
      "text/plain": [
       "array(['bkl', 'nv', 'df', 'mel', 'vasc', 'bcc', 'akiec'], dtype=object)"
      ]
     },
     "execution_count": 28,
     "metadata": {},
     "output_type": "execute_result"
    }
   ],
   "source": [
    "pd.unique(data['dx'])"
   ]
  },
  {
   "cell_type": "code",
   "execution_count": 29,
   "metadata": {
    "execution": {
     "iopub.execute_input": "2024-04-19T14:57:18.264783Z",
     "iopub.status.busy": "2024-04-19T14:57:18.264035Z",
     "iopub.status.idle": "2024-04-19T14:57:20.588972Z",
     "shell.execute_reply": "2024-04-19T14:57:20.587752Z",
     "shell.execute_reply.started": "2024-04-19T14:57:18.264751Z"
    }
   },
   "outputs": [
    {
     "name": "stderr",
     "output_type": "stream",
     "text": [
      "7470it [00:02, 3234.49it/s]\n"
     ]
    }
   ],
   "source": [
    "for index, image in tqdm(enumerate(image_names)):\n",
    "    image = image + '.jpg'\n",
    "    if diagnosis[index] == 'mel':\n",
    "        copyfile(os.path.join(orig_all, image), os.path.join(source_MEL, image))\n",
    "    elif diagnosis[index] == 'nv':\n",
    "        copyfile(os.path.join(orig_all, image), os.path.join(source_NV, image))\n",
    "    elif diagnosis[index] == 'bcc': \n",
    "        copyfile(os.path.join(orig_all, image), os.path.join(source_BCC, image))\n",
    "    elif diagnosis[index] == 'akiec': \n",
    "        copyfile(os.path.join(orig_all, image), os.path.join(source_AKIEC, image))\n",
    "    elif diagnosis[index] == 'bkl':\n",
    "        copyfile(os.path.join(orig_all, image), os.path.join(source_BKL, image))\n",
    "    elif diagnosis[index] == 'df':  \n",
    "        copyfile(os.path.join(orig_all, image), os.path.join(source_DF, image))\n",
    "    elif diagnosis[index] == 'vasc': \n",
    "        copyfile(os.path.join(orig_all, image), os.path.join(source_VASC, image))       "
   ]
  },
  {
   "cell_type": "code",
   "execution_count": 30,
   "metadata": {
    "execution": {
     "iopub.execute_input": "2024-04-19T14:57:20.591239Z",
     "iopub.status.busy": "2024-04-19T14:57:20.590911Z",
     "iopub.status.idle": "2024-04-19T14:57:20.607492Z",
     "shell.execute_reply": "2024-04-19T14:57:20.604907Z",
     "shell.execute_reply.started": "2024-04-19T14:57:20.591213Z"
    }
   },
   "outputs": [
    {
     "name": "stdout",
     "output_type": "stream",
     "text": [
      "614\n",
      "5403\n",
      "327\n",
      "228\n",
      "727\n",
      "73\n",
      "98\n"
     ]
    }
   ],
   "source": [
    "# Print amount of pictures for each class\n",
    "print(len(os.listdir(source_MEL)))\n",
    "print(len(os.listdir(source_NV)))\n",
    "print(len(os.listdir(source_BCC)))\n",
    "print(len(os.listdir(source_AKIEC)))\n",
    "print(len(os.listdir(source_BKL)))\n",
    "print(len(os.listdir(source_DF)))\n",
    "print(len(os.listdir(source_VASC)))"
   ]
  },
  {
   "cell_type": "code",
   "execution_count": 31,
   "metadata": {
    "execution": {
     "iopub.execute_input": "2024-04-19T14:57:20.609522Z",
     "iopub.status.busy": "2024-04-19T14:57:20.609063Z",
     "iopub.status.idle": "2024-04-19T14:57:24.777747Z",
     "shell.execute_reply": "2024-04-19T14:57:24.776618Z",
     "shell.execute_reply.started": "2024-04-19T14:57:20.609468Z"
    }
   },
   "outputs": [],
   "source": [
    "split_size = 0.8\n",
    "split_data(source_MEL, training_MEL, test_MEL,validation_MEL, split_size)\n",
    "split_data(source_NV, training_NV, test_NV,validation_NV, split_size)\n",
    "split_data(source_BCC, training_BCC,test_BCC, validation_BCC, split_size)\n",
    "split_data(source_AKIEC, training_AKIEC,test_AKIEC, validation_AKIEC, split_size)\n",
    "split_data(source_BKL, training_BKL,test_BKL, validation_BKL, split_size)\n",
    "split_data(source_DF, training_DF,test_DF, validation_DF, split_size)\n",
    "split_data(source_VASC, training_VASC,test_VASC, validation_VASC, split_size)"
   ]
  },
  {
   "cell_type": "code",
   "execution_count": 32,
   "metadata": {
    "execution": {
     "iopub.execute_input": "2024-04-19T14:57:24.782774Z",
     "iopub.status.busy": "2024-04-19T14:57:24.782464Z",
     "iopub.status.idle": "2024-04-19T14:57:24.801169Z",
     "shell.execute_reply": "2024-04-19T14:57:24.800132Z",
     "shell.execute_reply.started": "2024-04-19T14:57:24.782748Z"
    }
   },
   "outputs": [
    {
     "name": "stdout",
     "output_type": "stream",
     "text": [
      "442\n",
      "123\n",
      "49\n",
      "3890\n",
      "1081\n",
      "432\n",
      "235\n",
      "66\n",
      "26\n",
      "164\n",
      "46\n",
      "18\n",
      "523\n",
      "146\n",
      "58\n",
      "53\n",
      "15\n",
      "5\n",
      "71\n",
      "20\n",
      "7\n"
     ]
    }
   ],
   "source": [
    "# Print amount of pictures for each class after split, train/val.\n",
    "print(len(os.listdir(training_MEL)))\n",
    "print(len(os.listdir(test_MEL)))\n",
    "print(len(os.listdir(validation_MEL)))\n",
    "print(len(os.listdir(training_NV)))\n",
    "print(len(os.listdir(test_NV)))\n",
    "print(len(os.listdir(validation_NV)))\n",
    "print(len(os.listdir(training_BCC)))\n",
    "print(len(os.listdir(test_BCC)))\n",
    "print(len(os.listdir(validation_BCC)))\n",
    "print(len(os.listdir(training_AKIEC)))\n",
    "print(len(os.listdir(test_AKIEC)))\n",
    "print(len(os.listdir(validation_AKIEC)))\n",
    "print(len(os.listdir(training_BKL)))\n",
    "print(len(os.listdir(test_BKL)))\n",
    "print(len(os.listdir(validation_BKL)))\n",
    "print(len(os.listdir(training_DF)))\n",
    "print(len(os.listdir(test_DF)))\n",
    "print(len(os.listdir(validation_DF)))\n",
    "print(len(os.listdir(training_VASC)))\n",
    "print(len(os.listdir(test_VASC)))\n",
    "print(len(os.listdir(validation_VASC)))"
   ]
  },
  {
   "cell_type": "code",
   "execution_count": 33,
   "metadata": {
    "execution": {
     "iopub.execute_input": "2024-04-19T14:57:24.802613Z",
     "iopub.status.busy": "2024-04-19T14:57:24.802277Z",
     "iopub.status.idle": "2024-04-19T14:57:24.809480Z",
     "shell.execute_reply": "2024-04-19T14:57:24.808621Z",
     "shell.execute_reply.started": "2024-04-19T14:57:24.802578Z"
    }
   },
   "outputs": [],
   "source": [
    "traindir = r'/kaggle/working/skin/training/'\n",
    "valdir = r'/kaggle/working/skin/validation/'\n",
    "test = r'/kaggle/working/skin/test/'"
   ]
  },
  {
   "cell_type": "code",
   "execution_count": 34,
   "metadata": {
    "execution": {
     "iopub.execute_input": "2024-04-19T14:57:24.811436Z",
     "iopub.status.busy": "2024-04-19T14:57:24.810993Z",
     "iopub.status.idle": "2024-04-19T14:57:24.868530Z",
     "shell.execute_reply": "2024-04-19T14:57:24.867455Z",
     "shell.execute_reply.started": "2024-04-19T14:57:24.811395Z"
    }
   },
   "outputs": [],
   "source": [
    "train_transforms = transforms.Compose([\n",
    "    transforms.Resize((224, 280)),\n",
    "    transforms.CenterCrop((224, 224)),\n",
    "    transforms.RandomHorizontalFlip(p=0.5),\n",
    "    transforms.RandomApply(transforms=[transforms.RandomRotation(degrees=(-180, 180))], p=0.99),\n",
    "    transforms.ToTensor(),\n",
    "    transforms.Normalize(mean=[0.485, 0.456, 0.406], std=[0.229, 0.224, 0.225])\n",
    "    ])\n",
    "\n",
    "val_transforms = transforms.Compose([\n",
    "    transforms.Resize((224, 280)),\n",
    "    torchvision.transforms.CenterCrop((224, 224)),\n",
    "    transforms.ToTensor(),\n",
    "    transforms.Normalize(mean=[0.485, 0.456, 0.406], std=[0.229, 0.224, 0.225])\n",
    "    ])\n",
    "\n",
    "test_transforms = transforms.Compose([\n",
    "    transforms.Resize((224, 280)),\n",
    "    torchvision.transforms.CenterCrop((224, 224)),\n",
    "    transforms.ToTensor(),\n",
    "    transforms.Normalize(mean=[0.485, 0.456, 0.406], std=[0.229, 0.224, 0.225])\n",
    "    ])\n",
    "\n",
    "train_dataset = datasets.ImageFolder(\n",
    "    traindir, transform=train_transforms)\n",
    "\n",
    "val_dataset = datasets.ImageFolder(\n",
    "    valdir, transform=val_transforms)\n",
    "\n",
    "test_dataset = datasets.ImageFolder(\n",
    "    valdir, transform=test_transforms)"
   ]
  },
  {
   "cell_type": "code",
   "execution_count": 35,
   "metadata": {
    "execution": {
     "iopub.execute_input": "2024-04-19T14:57:24.870631Z",
     "iopub.status.busy": "2024-04-19T14:57:24.870217Z",
     "iopub.status.idle": "2024-04-19T14:57:24.877917Z",
     "shell.execute_reply": "2024-04-19T14:57:24.877008Z",
     "shell.execute_reply.started": "2024-04-19T14:57:24.870592Z"
    }
   },
   "outputs": [],
   "source": [
    "train_loader = torch.utils.data.DataLoader(\n",
    "    train_dataset, batch_size=64, shuffle=True,\n",
    "    pin_memory=False, drop_last=False)\n",
    "\n",
    "val_loader = torch.utils.data.DataLoader(\n",
    "    val_dataset, batch_size=64, shuffle=True,\n",
    "    pin_memory=False, drop_last=False)"
   ]
  },
  {
   "cell_type": "code",
   "execution_count": 36,
   "metadata": {
    "execution": {
     "iopub.execute_input": "2024-04-19T14:57:24.879412Z",
     "iopub.status.busy": "2024-04-19T14:57:24.879069Z",
     "iopub.status.idle": "2024-04-19T14:57:24.888540Z",
     "shell.execute_reply": "2024-04-19T14:57:24.887438Z",
     "shell.execute_reply.started": "2024-04-19T14:57:24.879379Z"
    }
   },
   "outputs": [],
   "source": [
    "test_loader = torch.utils.data.DataLoader(\n",
    "    test_dataset, batch_size=1, shuffle=True,\n",
    "    pin_memory=False, drop_last=False)"
   ]
  },
  {
   "cell_type": "code",
   "execution_count": 37,
   "metadata": {
    "execution": {
     "iopub.execute_input": "2024-04-19T14:57:24.890081Z",
     "iopub.status.busy": "2024-04-19T14:57:24.889744Z",
     "iopub.status.idle": "2024-04-19T14:57:24.899451Z",
     "shell.execute_reply": "2024-04-19T14:57:24.898507Z",
     "shell.execute_reply.started": "2024-04-19T14:57:24.890056Z"
    }
   },
   "outputs": [
    {
     "name": "stdout",
     "output_type": "stream",
     "text": [
      "{'0.MEL': 0, '1.NV': 1, '2.BCC': 2, '3.AKIEC': 3, '4.BKL': 4, '5.DF': 5, '6.VASC': 6}\n",
      "{'0.MEL': 0, '1.NV': 1, '2.BCC': 2, '3.AKIEC': 3, '4.BKL': 4, '5.DF': 5, '6.VASC': 6}\n"
     ]
    }
   ],
   "source": [
    "print(val_dataset.class_to_idx)\n",
    "print(train_dataset.class_to_idx)"
   ]
  },
  {
   "cell_type": "code",
   "execution_count": 38,
   "metadata": {
    "execution": {
     "iopub.execute_input": "2024-04-19T14:57:24.900969Z",
     "iopub.status.busy": "2024-04-19T14:57:24.900658Z",
     "iopub.status.idle": "2024-04-19T14:57:24.914033Z",
     "shell.execute_reply": "2024-04-19T14:57:24.913080Z",
     "shell.execute_reply.started": "2024-04-19T14:57:24.900932Z"
    }
   },
   "outputs": [
    {
     "data": {
      "text/plain": [
       "{'0.MEL': 0,\n",
       " '1.NV': 1,\n",
       " '2.BCC': 2,\n",
       " '3.AKIEC': 3,\n",
       " '4.BKL': 4,\n",
       " '5.DF': 5,\n",
       " '6.VASC': 6}"
      ]
     },
     "execution_count": 38,
     "metadata": {},
     "output_type": "execute_result"
    }
   ],
   "source": [
    "test_dataset.class_to_idx"
   ]
  },
  {
   "cell_type": "code",
   "execution_count": 41,
   "metadata": {
    "execution": {
     "iopub.execute_input": "2024-04-19T14:58:36.181045Z",
     "iopub.status.busy": "2024-04-19T14:58:36.180126Z",
     "iopub.status.idle": "2024-04-19T14:58:36.890077Z",
     "shell.execute_reply": "2024-04-19T14:58:36.889304Z",
     "shell.execute_reply.started": "2024-04-19T14:58:36.181009Z"
    }
   },
   "outputs": [],
   "source": [
    "device = 'cuda'\n",
    "\n",
    "model = torchvision.models.resnet50(weights='ResNet50_Weights.IMAGENET1K_V1').to(device)\n",
    "\n",
    "model.fc = nn.Linear(2048, 7).to(device)\n",
    "\n",
    "criterion = nn.CrossEntropyLoss()\n",
    "\n",
    "optimizer = torch.optim.Adam(model.parameters(), weight_decay=0.0001)\n",
    "\n",
    "epochs = 5#300#5#500\n",
    "\n",
    "writer = SummaryWriter(log_dir='/kaggle/working/skin_logs/', filename_suffix=\"skin50\")"
   ]
  },
  {
   "cell_type": "code",
   "execution_count": 47,
   "metadata": {
    "execution": {
     "iopub.execute_input": "2024-04-19T15:05:52.151288Z",
     "iopub.status.busy": "2024-04-19T15:05:52.151012Z",
     "iopub.status.idle": "2024-04-19T15:05:52.155016Z",
     "shell.execute_reply": "2024-04-19T15:05:52.154073Z",
     "shell.execute_reply.started": "2024-04-19T15:05:52.151264Z"
    }
   },
   "outputs": [],
   "source": [
    "# Shows info about model\n",
    "# summary(model, input_size=(3, 224, 224))"
   ]
  },
  {
   "cell_type": "code",
   "execution_count": 43,
   "metadata": {
    "execution": {
     "iopub.execute_input": "2024-04-19T14:58:51.839895Z",
     "iopub.status.busy": "2024-04-19T14:58:51.838977Z",
     "iopub.status.idle": "2024-04-19T15:05:39.112601Z",
     "shell.execute_reply": "2024-04-19T15:05:39.111753Z",
     "shell.execute_reply.started": "2024-04-19T14:58:51.839860Z"
    }
   },
   "outputs": [
    {
     "name": "stdout",
     "output_type": "stream",
     "text": [
      "Epoch 1\n",
      "5378/5378: [===============================>] - ETA 1.9sss\n",
      "Train Accuracy: 0.7288955001859427\n",
      "Val Accuracy: 0.7411764705882353\n",
      "Training Loss: 0.8262\n",
      "Validation Loss: 0.9869\n",
      "Monitored metric has improved (inf --> 0.986889).  Saving model ...\n",
      "Epoch 2\n",
      "5378/5378: [===============================>] - ETA 0.9ss\n",
      "Train Accuracy: 0.761993306061733\n",
      "Val Accuracy: 0.7529411764705882\n",
      "Training Loss: 0.6639\n",
      "Validation Loss: 0.7317\n",
      "Monitored metric has improved (0.986889 --> 0.731680).  Saving model ...\n",
      "Epoch 3\n",
      "5378/5378: [===============================>] - ETA 0.9ss\n",
      "Train Accuracy: 0.7727779843808107\n",
      "Val Accuracy: 0.7647058823529411\n",
      "Training Loss: 0.6350\n",
      "Validation Loss: 0.6660\n",
      "Monitored metric has improved (0.731680 --> 0.665963).  Saving model ...\n",
      "Epoch 4\n",
      "5378/5378: [===============================>] - ETA 0.9ss\n",
      "Train Accuracy: 0.7815172926738565\n",
      "Val Accuracy: 0.7647058823529411\n",
      "Training Loss: 0.6061\n",
      "Validation Loss: 0.6620\n",
      "Monitored metric has improved (0.665963 --> 0.662013).  Saving model ...\n",
      "Epoch 5\n",
      "5378/5378: [===============================>] - ETA 0.9ss\n",
      "Train Accuracy: 0.7740795834882856\n",
      "Val Accuracy: 0.7647058823529411\n",
      "Training Loss: 0.6848\n",
      "Validation Loss: 0.6589\n",
      "Monitored metric has improved (0.662013 --> 0.658948).  Saving model ...\n"
     ]
    }
   ],
   "source": [
    "early_stopping = EarlyStopping(patience=50, verbose=True)\n",
    "\n",
    "for epoch in range(epochs):\n",
    "    train_loss = 0.00\n",
    "    val_loss = 0.00\n",
    "    train_accuracy = Accuracy()\n",
    "    val_accuracy = Accuracy()\n",
    "    print(f'Epoch {epoch+1}')\n",
    "\n",
    "    # Training loop\n",
    "    for idx, (inputs, labels) in enumerate(Bar(train_loader)):\n",
    "        model.train()\n",
    "        inputs, labels = inputs.to(device), labels.to(device)\n",
    "        optimizer.zero_grad() \n",
    "        outputs = model(inputs) \n",
    "        loss = criterion(outputs, labels)\n",
    "        loss.backward() \n",
    "        optimizer.step() \n",
    "        train_loss += loss.item()\n",
    "        train_accuracy.update((nn.functional.softmax(outputs, dim=1), labels))\n",
    "    print(f\"Train Accuracy: {train_accuracy.compute()}\")\n",
    "    train_loss /= len(train_loader)\n",
    "    train_loss_formated = \"{:.4f}\".format(train_loss)\n",
    "\n",
    "    # Validation loop\n",
    "    with torch.no_grad():\n",
    "        for inputs, labels in val_loader:\n",
    "            model.eval()           \n",
    "            inputs, labels = inputs.to(device), labels.to(device)\n",
    "            outputs = model(inputs)\n",
    "            loss = criterion(outputs, labels)\n",
    "            val_loss += loss.item()\n",
    "            val_accuracy.update((nn.functional.softmax(outputs, dim=1), labels))\n",
    "    print(f\"Val Accuracy: {val_accuracy.compute()}\")\n",
    "    val_loss /= len(val_loader)\n",
    "    val_loss_formated = \"{:.4f}\".format(val_loss)\n",
    "    print(f'Training Loss: {train_loss_formated}')\n",
    "    print(f\"Validation Loss: {val_loss_formated}\")\n",
    "\n",
    "    # TensorBoard writer \n",
    "    writer.add_scalar('Loss/train', train_loss, epoch+1)\n",
    "    writer.add_scalar('Loss/val', val_loss, epoch+1)\n",
    "    writer.add_scalar('Accuracy/train', train_accuracy.compute(), epoch+1)\n",
    "    writer.add_scalar('Accuracy/val', val_accuracy.compute(), epoch+1)\n",
    "\n",
    "    # Early Stopping\n",
    "    early_stopping(val_loss, model)       \n",
    "    if early_stopping.early_stop:\n",
    "        print(\"Early stopping\")\n",
    "        break\n",
    "        \n",
    "# load the last checkpoint with the best model\n",
    "# model.load_state_dict(torch.load('/kaggle/working/skin_models/skinmodel50.pt'))   "
   ]
  },
  {
   "cell_type": "code",
   "execution_count": 44,
   "metadata": {
    "execution": {
     "iopub.execute_input": "2024-04-19T15:05:39.114758Z",
     "iopub.status.busy": "2024-04-19T15:05:39.114446Z",
     "iopub.status.idle": "2024-04-19T15:05:51.454464Z",
     "shell.execute_reply": "2024-04-19T15:05:51.453520Z",
     "shell.execute_reply.started": "2024-04-19T15:05:39.114732Z"
    }
   },
   "outputs": [
    {
     "name": "stderr",
     "output_type": "stream",
     "text": [
      "/opt/conda/lib/python3.10/site-packages/sklearn/metrics/_classification.py:1344: UndefinedMetricWarning: Precision and F-score are ill-defined and being set to 0.0 in labels with no predicted samples. Use `zero_division` parameter to control this behavior.\n",
      "  _warn_prf(average, modifier, msg_start, len(result))\n",
      "/opt/conda/lib/python3.10/site-packages/sklearn/metrics/_classification.py:1344: UndefinedMetricWarning: Precision and F-score are ill-defined and being set to 0.0 in labels with no predicted samples. Use `zero_division` parameter to control this behavior.\n",
      "  _warn_prf(average, modifier, msg_start, len(result))\n",
      "/opt/conda/lib/python3.10/site-packages/sklearn/metrics/_classification.py:1344: UndefinedMetricWarning: Precision and F-score are ill-defined and being set to 0.0 in labels with no predicted samples. Use `zero_division` parameter to control this behavior.\n",
      "  _warn_prf(average, modifier, msg_start, len(result))\n"
     ]
    },
    {
     "name": "stdout",
     "output_type": "stream",
     "text": [
      "              precision    recall  f1-score   support\n",
      "\n",
      "         MEL       0.56      0.18      0.28        49\n",
      "          NV       0.87      0.95      0.90       432\n",
      "         BCC       0.31      0.54      0.39        26\n",
      "       AKIEC       0.33      0.06      0.10        18\n",
      "         BKL       0.36      0.36      0.36        58\n",
      "          DF       0.00      0.00      0.00         5\n",
      "        VASC       1.00      0.14      0.25         7\n",
      "\n",
      "    accuracy                           0.76       595\n",
      "   macro avg       0.49      0.32      0.33       595\n",
      "weighted avg       0.75      0.76      0.74       595\n",
      "\n"
     ]
    },
    {
     "data": {
      "image/png": "[encoded data removed]",
      "text/plain": [
       "<Figure size 640x480 with 2 Axes>"
      ]
     },
     "metadata": {},
     "output_type": "display_data"
    }
   ],
   "source": [
    "num_classes = 7\n",
    "\n",
    "predlist = torch.zeros(0,dtype=torch.long, device='cpu')\n",
    "lbllist = torch.zeros(0,dtype=torch.long, device='cpu')\n",
    "predlistauc = torch.zeros(0,dtype=torch.long, device='cpu')\n",
    "with torch.no_grad():\n",
    "    for i, (inputs, classes) in enumerate(test_loader):\n",
    "        model.eval()\n",
    "        inputs = inputs.to(device)\n",
    "        classes = classes.to(device)\n",
    "        outputs = model(inputs)\n",
    "        _, preds = torch.max(outputs, 1)\n",
    "#         print(preds)\n",
    "\n",
    "        # Append batch prediction results\n",
    "        predlist=torch.cat([predlist,preds.view(-1).cpu()])\n",
    "        lbllist=torch.cat([lbllist,classes.view(-1).cpu()])\n",
    "#         predlistauc = torch.cat([predlistauc,nn.functional.softmax(outputs, dim=1).cpu()])\n",
    "predlist = predlist.numpy()\n",
    "lbllist = lbllist.numpy()\n",
    "# predlistauc = predlistauc.numpy()\n",
    "\n",
    "# Confusion matrix, classification report\n",
    "conf_mat=confusion_matrix(lbllist, predlist)\n",
    "target_names = ['MEL','NV','BCC','AKIEC','BKL','DF','VASC',]\n",
    "ConfusionMatrixDisplay(conf_mat, display_labels=target_names).plot(values_format=\"d\")\n",
    "print(classification_report(lbllist, predlist, target_names=target_names))\n",
    "# lbllist_one_hot = nn.functional.one_hot(torch.tensor([lbllist]), num_classes=num_classes)\n",
    "# every_auc = roc_auc_score(lbllist_one_hot.view([predlistauc.shape[0], predlistauc.shape[1]]), \n",
    "#                                           predlistauc, multi_class='ovr', average=None)\n",
    "# for i, every in enumerate(target_names):\n",
    "#     print(f'AUC of class {every} = {every_auc[i]}')"
   ]
  },
  {
   "cell_type": "markdown",
   "metadata": {},
   "source": [
    "# Prediction"
   ]
  },
  {
   "cell_type": "code",
   "execution_count": 45,
   "metadata": {
    "execution": {
     "iopub.execute_input": "2024-04-19T15:05:51.456670Z",
     "iopub.status.busy": "2024-04-19T15:05:51.455977Z",
     "iopub.status.idle": "2024-04-19T15:05:52.096271Z",
     "shell.execute_reply": "2024-04-19T15:05:52.095346Z",
     "shell.execute_reply.started": "2024-04-19T15:05:51.456631Z"
    }
   },
   "outputs": [
    {
     "data": {
      "text/plain": [
       "<All keys matched successfully>"
      ]
     },
     "execution_count": 45,
     "metadata": {},
     "output_type": "execute_result"
    }
   ],
   "source": [
    "device = 'cuda'\n",
    "\n",
    "model1 = torchvision.models.resnet50(weights='ResNet50_Weights.IMAGENET1K_V1').to(device)\n",
    "\n",
    "model1.fc = nn.Linear(2048, 7).to(device)\n",
    "\n",
    "# load the last checkpoint with the best model\n",
    "model1.load_state_dict(torch.load('/kaggle/working/skin_models/skinmodel50.pt'))   "
   ]
  },
  {
   "cell_type": "code",
   "execution_count": 46,
   "metadata": {
    "execution": {
     "iopub.execute_input": "2024-04-19T15:05:52.098987Z",
     "iopub.status.busy": "2024-04-19T15:05:52.098617Z",
     "iopub.status.idle": "2024-04-19T15:05:52.149916Z",
     "shell.execute_reply": "2024-04-19T15:05:52.149001Z",
     "shell.execute_reply.started": "2024-04-19T15:05:52.098954Z"
    }
   },
   "outputs": [
    {
     "name": "stdout",
     "output_type": "stream",
     "text": [
      "4\n"
     ]
    }
   ],
   "source": [
    "from torchvision import transforms\n",
    "from PIL import Image\n",
    "\n",
    "image_path = \"/kaggle/input/skin-cancer-mnist-ham10000/HAM10000_images_part_1/ISIC_0027960.jpg\"\n",
    "\n",
    "unseen_transforms = transforms.Compose([\n",
    "    transforms.Resize((224, 280)),\n",
    "    transforms.CenterCrop((224, 224)),\n",
    "    transforms.ToTensor(),\n",
    "    transforms.Normalize(mean=[0.485, 0.456, 0.406], std=[0.229, 0.224, 0.225])\n",
    "])\n",
    "\n",
    "image = Image.open(image_path).convert(\"RGB\")\n",
    "image = unseen_transforms(image)\n",
    "\n",
    "# Reshape the image to add batch dimension\n",
    "image = image.unsqueeze(0) \n",
    "\n",
    "with torch.no_grad():\n",
    "    model1.eval()\n",
    "    inputs = image.to(device)\n",
    "    outputs = model1(inputs)\n",
    "    _, preds = torch.max(outputs, 1)\n",
    "    print(preds[0].item())"
   ]
  },
  {
   "cell_type": "code",
   "execution_count": null,
   "metadata": {},
   "outputs": [],
   "source": []
  }
 ],
 "metadata": {
  "kaggle": {
   "accelerator": "gpu",
   "dataSources": [
    {
     "datasetId": 54339,
     "sourceId": 104884,
     "sourceType": "datasetVersion"
    }
   ],
   "dockerImageVersionId": 30559,
   "isGpuEnabled": true,
   "isInternetEnabled": true,
   "language": "python",
   "sourceType": "notebook"
  },
  "kernelspec": {
   "display_name": "Python 3 (ipykernel)",
   "language": "python",
   "name": "python3"
  },
  "language_info": {
   "codemirror_mode": {
    "name": "ipython",
    "version": 3
   },
   "file_extension": ".py",
   "mimetype": "text/x-python",
   "name": "python",
   "nbconvert_exporter": "python",
   "pygments_lexer": "ipython3",
   "version": "3.9.15"
  }
 },
 "nbformat": 4,
 "nbformat_minor": 4
}
