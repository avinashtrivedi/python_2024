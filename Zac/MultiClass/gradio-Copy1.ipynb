{
 "cells": [
  {
   "cell_type": "markdown",
   "id": "eea77f60",
   "metadata": {},
   "source": [
    "# 1st Proj"
   ]
  },
  {
   "cell_type": "code",
   "execution_count": 1,
   "id": "d2b3a022",
   "metadata": {},
   "outputs": [
    {
     "name": "stderr",
     "output_type": "stream",
     "text": [
      "C:\\Users\\avitr\\anaconda3\\envs\\test_env\\lib\\site-packages\\torchvision\\io\\image.py:13: UserWarning: Failed to load image Python extension: '[WinError 127] The specified procedure could not be found'If you don't plan on using image functionality from `torchvision.io`, you can ignore this warning. Otherwise, there might be something wrong with your environment. Did you have `libjpeg` or `libpng` installed before building `torchvision` from source?\n",
      "  warn(\n"
     ]
    },
    {
     "name": "stdout",
     "output_type": "stream",
     "text": [
      "Running on local URL:  http://127.0.0.1:7860\n",
      "\n",
      "To create a public link, set `share=True` in `launch()`.\n"
     ]
    },
    {
     "data": {
      "text/html": [
       "<div><iframe src=\"http://127.0.0.1:7860/\" width=\"100%\" height=\"500\" allow=\"autoplay; camera; microphone; clipboard-read; clipboard-write;\" frameborder=\"0\" allowfullscreen></iframe></div>"
      ],
      "text/plain": [
       "<IPython.core.display.HTML object>"
      ]
     },
     "metadata": {},
     "output_type": "display_data"
    }
   ],
   "source": [
    "import numpy as np\n",
    "import torch\n",
    "import torch.nn as nn\n",
    "import torch.optim as optim\n",
    "from torchvision import models, datasets, transforms\n",
    "from torch.utils.data import DataLoader, random_split\n",
    "from torchvision import transforms\n",
    "from PIL import Image\n",
    "\n",
    "import gradio as gr\n",
    "target = ['Benign','Malignant']\n",
    "imgSize = 170\n",
    "def prediction(input_img):\n",
    "    image_pil = Image.fromarray(input_img).convert(\"RGB\")\n",
    "    \n",
    "    model1 = models.efficientnet_b7(weights = 'DEFAULT')\n",
    "    model1.classifier[1] = nn.Linear(model1.classifier[1].in_features, 1)\n",
    "    model1.load_state_dict(torch.load(r'D:\\OneDrive - NITT\\Custom_Download\\best_model.pth',map_location=torch.device('cpu'))) \n",
    "\n",
    "    testTransformer = transforms.Compose([\n",
    "    transforms.Resize(size = (imgSize, imgSize), antialias = True),\n",
    "    transforms.CenterCrop(size = (imgSize, imgSize)),\n",
    "    \n",
    "    transforms.ToTensor(),\n",
    "    transforms.Normalize(mean = [0.485, 0.456, 0.406], std = [0.229, 0.224, 0.225])])\n",
    "\n",
    "\n",
    "#     image = Image.open(image_pil).convert(\"RGB\")\n",
    "    image = testTransformer(image_pil)\n",
    "\n",
    "    # Reshape the image to add batch dimension\n",
    "    image = image.unsqueeze(0) \n",
    "\n",
    "    with torch.no_grad():\n",
    "        model1.eval()\n",
    "        inputs = image.to('cpu')\n",
    "        outputs = model1(inputs)\n",
    "        predictions = (torch.sigmoid(outputs) > 0.5).float()\n",
    "        predictions = int(predictions.item())\n",
    "        \n",
    "        prob = torch.sigmoid(outputs)[0][0].item()\n",
    "        \n",
    "        prob = (1-prob if predictions==0 else prob)\n",
    "        \n",
    "#         print(torch.sigmoid(outputs))\n",
    "        return target[predictions],f'Probability={prob:.3f}'\n",
    "    \n",
    "    \n",
    "demo = gr.Interface(prediction, gr.Image(), \"text\")\n",
    "if __name__ == \"__main__\":\n",
    "    demo.launch()"
   ]
  },
  {
   "cell_type": "markdown",
   "id": "3e85f0c7",
   "metadata": {},
   "source": [
    "# 2nd proj"
   ]
  },
  {
   "cell_type": "code",
   "execution_count": null,
   "id": "f5f8b954",
   "metadata": {},
   "outputs": [],
   "source": [
    "\n",
    "\n",
    "\n",
    "\n",
    "model1 = models.efficientnet_b7(weights = 'DEFAULT')\n",
    "model1.classifier[1] = nn.Linear(model1.classifier[1].in_features, 1)\n",
    "model1.load_state_dict(torch.load(r'D:\\OneDrive - NITT\\Custom_Download\\best_model.pth',map_location=torch.device('cpu'))) \n",
    "\n",
    "# model2 = torch.load('/kaggle/working/best_model.pth',map_location=torch.device('cpu'))  # Loading best model of this fold\n",
    "from torchvision import transforms\n",
    "from PIL import Image\n",
    "\n",
    "image_path = r\"D:\\OneDrive - NITT\\CODE\\Python Scripts\\Code_2024\\Zac\\MultiClass\\data\\HAM10000_images_part_1\\ISIC_0024334.jpg\"\n",
    "\n",
    "\n",
    "imgSize = 170\n",
    "# Validation transformer\n",
    "valTransformer = transforms.Compose([\n",
    "    transforms.Resize(size = (imgSize, imgSize), antialias = True),\n",
    "    transforms.CenterCrop(size = (imgSize, imgSize)),\n",
    "    \n",
    "    transforms.ToTensor(),\n",
    "    transforms.Normalize(mean = [0.485, 0.456, 0.406], std = [0.229, 0.224, 0.225])\n",
    "])\n",
    "\n",
    "image = Image.open(image_path).convert(\"RGB\")\n",
    "image = valTransformer(image)\n",
    "\n",
    "# Reshape the image to add batch dimension\n",
    "image = image.unsqueeze(0) \n",
    "\n",
    "\n",
    "\n",
    "with torch.no_grad():\n",
    "    model1.eval()\n",
    "    inputs = image.to('cpu')\n",
    "    outputs = model1(inputs)\n",
    "    predictions = (torch.sigmoid(outputs) > 0.5).float()\n",
    "    print(target[int(predictions.item())])"
   ]
  },
  {
   "cell_type": "code",
   "execution_count": null,
   "id": "71b2cb17",
   "metadata": {},
   "outputs": [],
   "source": []
  },
  {
   "cell_type": "code",
   "execution_count": null,
   "id": "7495bb1b",
   "metadata": {},
   "outputs": [],
   "source": [
    "import gradio as gr\n",
    "\n",
    "# Code for Task 1\n",
    "def task1(input_text):\n",
    "    # Task 1 logic\n",
    "    return \"Task 1 Result: \" + input_text\n",
    "\n",
    "# Code for Task 2\n",
    "def task2(input_image):\n",
    "    # Task 2 logic\n",
    "    return \"Task 2 Result\"\n",
    "\n",
    "# interface one\n",
    "iface1 = gr.Interface(\n",
    "    fn=task1,\n",
    "    inputs=\"text\",\n",
    "    outputs=\"text\",\n",
    "    title=\"Multi-Page Interface\"\n",
    ")\n",
    "# interface two\n",
    "iface2 = gr.Interface(\n",
    "    fn=task2,\n",
    "    inputs=\"image\",\n",
    "    outputs= \"text\",\n",
    "    title=\"Multi-Page Interface\"\n",
    ")\n",
    "\n",
    "demo = gr.TabbedInterface([iface1, iface2], [\"Text-to-text\", \"image-to-text\"])\n",
    "\n",
    "# Run the interface\n",
    "demo.launch(share=True)"
   ]
  },
  {
   "cell_type": "code",
   "execution_count": null,
   "id": "7a4118e1",
   "metadata": {},
   "outputs": [],
   "source": []
  }
 ],
 "metadata": {
  "kernelspec": {
   "display_name": "Python (myNEWenv)",
   "language": "python",
   "name": "mynewenv"
  },
  "language_info": {
   "codemirror_mode": {
    "name": "ipython",
    "version": 3
   },
   "file_extension": ".py",
   "mimetype": "text/x-python",
   "name": "python",
   "nbconvert_exporter": "python",
   "pygments_lexer": "ipython3",
   "version": "3.10.12"
  }
 },
 "nbformat": 4,
 "nbformat_minor": 5
}
