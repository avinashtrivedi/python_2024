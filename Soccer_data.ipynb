{
 "cells": [
  {
   "cell_type": "markdown",
   "metadata": {
    "id": "QZN6w2bB2EJI"
   },
   "source": [
    "Get upcomming match list to predict"
   ]
  },
  {
   "cell_type": "code",
   "execution_count": 1,
   "metadata": {
    "id": "oB9gfx9t2Dgm"
   },
   "outputs": [],
   "source": [
    "import requests\n",
    "import pandas as pd\n",
    "from datetime import datetime\n",
    "\n",
    "# Sample base URL and season ID\n",
    "base_url = \"https://vgls.betradar.com/vfl/feeds/?/bet9javirtuals/en/Asia:Dhaka/gismo/stats_season_fixtures2/\"\n",
    "season_id = \"2800029\"\n",
    "\n",
    "# Fetch the fixture data\n",
    "fixture_url = f\"{base_url}{season_id}\"\n",
    "response = requests.get(fixture_url)\n",
    "if response.status_code == 200:\n",
    "    fixture_data = response.json()\n",
    "else:\n",
    "    print(f\"Failed to fetch fixture data. Status code: {response.status_code}\")\n",
    "    exit()\n",
    "\n",
    "# Create a list to store the match data\n",
    "matches_dataset = []\n",
    "\n",
    "# Iterate over the matches in the fixture data\n",
    "for match in fixture_data['doc'][0]['data']['matches']:\n",
    "    match_info = {\n",
    "        'season_id': season_id,\n",
    "        'round': match['round'],\n",
    "        'week': match['week'],\n",
    "        'home_team_abbr': match['teams']['home']['abbr'],\n",
    "        'away_team_abbr': match['teams']['away']['abbr'],\n",
    "    }\n",
    "\n",
    "    # Additional features can be added based on your specific requirements\n",
    "\n",
    "    matches_dataset.append(match_info)\n",
    "\n",
    "# Create a DataFrame from the extracted data\n",
    "df_matches = pd.DataFrame(matches_dataset)\n",
    "\n",
    "# Save the dataset to a CSV file\n",
    "df_matches.to_csv('season_matches_dataset.csv', index=False)\n"
   ]
  },
  {
   "cell_type": "markdown",
   "metadata": {
    "id": "FyokX8ds2b0g"
   },
   "source": [
    "Previous Season Data"
   ]
  },
  {
   "cell_type": "code",
   "execution_count": 2,
   "metadata": {
    "colab": {
     "base_uri": "https://localhost:8080/"
    },
    "id": "X4Uq4igj2flB",
    "outputId": "22c964de-4966-4f10-e9b1-325a62cba056"
   },
   "outputs": [
    {
     "name": "stdout",
     "output_type": "stream",
     "text": [
      "https://vgls.betradar.com/vfl/feeds/?/bet9javirtuals/en/Asia:Dhaka/gismo/stats_season_fixtures2/2798481\n",
      "https://vgls.betradar.com/vfl/feeds/?/bet9javirtuals/en/Asia:Dhaka/gismo/stats_season_fixtures2/2798377\n",
      "https://vgls.betradar.com/vfl/feeds/?/bet9javirtuals/en/Asia:Dhaka/gismo/stats_season_fixtures2/2798407\n",
      "https://vgls.betradar.com/vfl/feeds/?/bet9javirtuals/en/Asia:Dhaka/gismo/stats_season_fixtures2/2798431\n",
      "https://vgls.betradar.com/vfl/feeds/?/bet9javirtuals/en/Asia:Dhaka/gismo/stats_season_fixtures2/2798458\n",
      "https://vgls.betradar.com/vfl/feeds/?/bet9javirtuals/en/Asia:Dhaka/gismo/stats_season_fixtures2/2798508\n",
      "https://vgls.betradar.com/vfl/feeds/?/bet9javirtuals/en/Asia:Dhaka/gismo/stats_season_fixtures2/2798532\n",
      "https://vgls.betradar.com/vfl/feeds/?/bet9javirtuals/en/Asia:Dhaka/gismo/stats_season_fixtures2/2798557\n",
      "https://vgls.betradar.com/vfl/feeds/?/bet9javirtuals/en/Asia:Dhaka/gismo/stats_season_fixtures2/2798588\n",
      "https://vgls.betradar.com/vfl/feeds/?/bet9javirtuals/en/Asia:Dhaka/gismo/stats_season_fixtures2/2798615\n",
      "https://vgls.betradar.com/vfl/feeds/?/bet9javirtuals/en/Asia:Dhaka/gismo/stats_season_fixtures2/2798638\n",
      "https://vgls.betradar.com/vfl/feeds/?/bet9javirtuals/en/Asia:Dhaka/gismo/stats_season_fixtures2/2798664\n",
      "https://vgls.betradar.com/vfl/feeds/?/bet9javirtuals/en/Asia:Dhaka/gismo/stats_season_fixtures2/2798690\n",
      "https://vgls.betradar.com/vfl/feeds/?/bet9javirtuals/en/Asia:Dhaka/gismo/stats_season_fixtures2/2798713\n",
      "https://vgls.betradar.com/vfl/feeds/?/bet9javirtuals/en/Asia:Dhaka/gismo/stats_season_fixtures2/2798742\n",
      "https://vgls.betradar.com/vfl/feeds/?/bet9javirtuals/en/Asia:Dhaka/gismo/stats_season_fixtures2/2798768\n",
      "https://vgls.betradar.com/vfl/feeds/?/bet9javirtuals/en/Asia:Dhaka/gismo/stats_season_fixtures2/2798794\n",
      "https://vgls.betradar.com/vfl/feeds/?/bet9javirtuals/en/Asia:Dhaka/gismo/stats_season_fixtures2/2798818\n",
      "https://vgls.betradar.com/vfl/feeds/?/bet9javirtuals/en/Asia:Dhaka/gismo/stats_season_fixtures2/2798843\n",
      "https://vgls.betradar.com/vfl/feeds/?/bet9javirtuals/en/Asia:Dhaka/gismo/stats_season_fixtures2/2798868\n",
      "https://vgls.betradar.com/vfl/feeds/?/bet9javirtuals/en/Asia:Dhaka/gismo/stats_season_fixtures2/2798893\n"
     ]
    }
   ],
   "source": [
    "import requests\n",
    "import json\n",
    "import pandas as pd\n",
    "\n",
    "# Define the base URL and the list of numbers\n",
    "base_url = \"https://vgls.betradar.com/vfl/feeds/?/bet9javirtuals/en/Asia:Dhaka/gismo/stats_season_fixtures2/\"\n",
    "numbers = [\n",
    "    \"2798481\", \"2798377\", \"2798407\", \"2798431\", \"2798458\",\n",
    "    \"2798508\", \"2798532\", \"2798557\", \"2798588\", \"2798615\",\n",
    "    \"2798638\", \"2798664\" , \"2798690\", \"2798713\",\n",
    "    \"2798742\", \"2798768\" , \"2798794\" , \"2798818\", \"2798843\",\n",
    "    \"2798868\", \"2798893\"\n",
    "]\n",
    "\n",
    "matches_dataset = []\n",
    "\n",
    "# Iterate over the numbers, make API calls, and save the responses\n",
    "for number in numbers:\n",
    "    url = base_url + number\n",
    "    print(url)\n",
    "    response = requests.get(url)\n",
    "    if response.status_code == 200:\n",
    "        json_data = response.json()\n",
    "\n",
    "        # Extracting the 'matches' array from each response\n",
    "        matches_data = json_data['doc'][0]['data']['matches']\n",
    "\n",
    "        for match in matches_data:\n",
    "            match_info = {\n",
    "                'season_id': number,\n",
    "                'week': match['week'],\n",
    "                'round': match['round'],\n",
    "                'home_team': match['teams']['home']['name'],\n",
    "                'away_team': match['teams']['away']['name'],\n",
    "                'home_team_abbr': match['teams']['home']['abbr'],\n",
    "                'away_team_abbr': match['teams']['away']['abbr'],\n",
    "                '_id': match['_id'],\n",
    "                '_sid': match['_sid'],\n",
    "                '_rcid': match['_rcid'],\n",
    "                '_tid': match['_tid'],\n",
    "                '_utid': match['_utid'],\n",
    "                'time': match['time']['time'],\n",
    "                'date': match['time']['date'],\n",
    "                'home_score': match['result']['home'],\n",
    "                'away_score': match['result']['away'],\n",
    "                'periods_p1_home': match['periods']['p1']['home'],\n",
    "                'periods_p1_away': match['periods']['p1']['away'],\n",
    "                'periods_ft_home': match['periods']['ft']['home'],\n",
    "                'periods_ft_away': match['periods']['ft']['away'],\n",
    "                'neutralground': match['neutralground'],\n",
    "                'inlivescore': match['inlivescore'],\n",
    "                'winner': match['result']['winner'],\n",
    "                'comment': match['comment'],\n",
    "                'status': match['status'],\n",
    "                'tobeannounced': match['tobeannounced'],\n",
    "                'postponed': match['postponed'],\n",
    "                'canceled': match['canceled'],\n",
    "                'stadiumid': match['stadiumid'],\n",
    "                'bestof': match['bestof'],\n",
    "                'walkover': match['walkover'],\n",
    "                'retired': match['retired'],\n",
    "                'disqualified': match['disqualified'],\n",
    "            }\n",
    "            matches_dataset.append(match_info)\n",
    "\n",
    "# Create DataFrame from the extracted data\n",
    "df_matches = pd.DataFrame(matches_dataset)\n",
    "\n",
    "# Save the dataset to a CSV file\n",
    "df_matches.to_csv('matches_dataset.csv', index=False)\n"
   ]
  },
  {
   "cell_type": "code",
   "execution_count": 17,
   "metadata": {
    "colab": {
     "base_uri": "https://localhost:8080/"
    },
    "id": "E4XfZrniItY_",
    "outputId": "8cc827e4-8db1-4701-a216-7ef5e0c31ea6"
   },
   "outputs": [
    {
     "name": "stdout",
     "output_type": "stream",
     "text": [
      "    home_team_abbr away_team_abbr  predicted_home_score  predicted_away_score\n",
      "0              LVR            WVL                     2                     1\n",
      "1              BUR            BOU                     1                     1\n",
      "2              TOT            CRY                     3                     1\n",
      "3              CHE            EVE                     2                     1\n",
      "4              MBL            LON                     2                     1\n",
      "..             ...            ...                   ...                   ...\n",
      "235            TOT            BOU                     2                     2\n",
      "236            BUR            EVE                     1                     1\n",
      "237            WAT            MRE                     1                     2\n",
      "238            SOU            LON                     1                     1\n",
      "239            NEW            CRY                     1                     1\n",
      "\n",
      "[240 rows x 4 columns]\n",
      "Home Score Model R2 Score: 0.07662406909952424\n",
      "Away Score Model R2 Score: 0.06289680248673368\n"
     ]
    }
   ],
   "source": [
    "# Import necessary libraries\n",
    "import pandas as pd\n",
    "from sklearn.model_selection import train_test_split\n",
    "from sklearn.ensemble import RandomForestRegressor\n",
    "from sklearn.preprocessing import OneHotEncoder\n",
    "from sklearn.compose import ColumnTransformer\n",
    "from sklearn.pipeline import Pipeline\n",
    "from sklearn.metrics import r2_score\n",
    "\n",
    "# Load the datasets\n",
    "matches_data = pd.read_csv('matches_dataset.csv')\n",
    "season_matches_data = pd.read_csv('season_matches_dataset.csv')\n",
    "\n",
    "# Feature selection\n",
    "features = ['home_team_abbr', 'away_team_abbr']\n",
    "\n",
    "# Creating a feature matrix X and target variables y_home and y_away\n",
    "X = matches_data[features]\n",
    "y_home = matches_data['home_score']\n",
    "y_away = matches_data['away_score']\n",
    "\n",
    "# Split the data into training and testing sets\n",
    "X_train, X_test, y_home_train, y_home_test, y_away_train, y_away_test = train_test_split(X, y_home, y_away, test_size=0.2, random_state=42)\n",
    "\n",
    "# Define preprocessing steps\n",
    "preprocessor = ColumnTransformer(\n",
    "    transformers=[\n",
    "        ('encoder', OneHotEncoder(), ['home_team_abbr', 'away_team_abbr'])\n",
    "    ])\n",
    "\n",
    "# Combine preprocessing steps with the model\n",
    "model_home = Pipeline(steps=[('preprocessor', preprocessor),\n",
    "                              ('regressor', RandomForestRegressor())])\n",
    "\n",
    "model_away = Pipeline(steps=[('preprocessor', preprocessor),\n",
    "                              ('regressor', RandomForestRegressor())])\n",
    "\n",
    "# Train the models\n",
    "model_home.fit(X_train, y_home_train)\n",
    "model_away.fit(X_train, y_away_train)\n",
    "\n",
    "# Make predictions on the season_matches_data\n",
    "season_predictions_home = model_home.predict(season_matches_data[features])\n",
    "season_predictions_away = model_away.predict(season_matches_data[features])\n",
    "\n",
    "# Convert predictions to integers and create 'predicted_home_score' and 'predicted_away_score' columns\n",
    "season_matches_data['predicted_home_score'] = season_predictions_home.round().astype(int)\n",
    "season_matches_data['predicted_away_score'] = season_predictions_away.round().astype(int)\n",
    "\n",
    "# Evaluate the models on the test set and add R2 scores to the output\n",
    "model_home_score = r2_score(y_home_test, model_home.predict(X_test))\n",
    "model_away_score = r2_score(y_away_test, model_away.predict(X_test))\n",
    "\n",
    "# Display the predictions and model scores\n",
    "# Print the DataFrame\n",
    "print(season_matches_data[['home_team_abbr', 'away_team_abbr', 'predicted_home_score', 'predicted_away_score']])\n",
    "\n",
    "# Save to a CSV file\n",
    "season_matches_data[['home_team_abbr', 'away_team_abbr', 'predicted_home_score', 'predicted_away_score']].to_csv('predicted_scores.csv', index=False)\n",
    "\n",
    "print(f\"Home Score Model R2 Score: {model_home_score}\")\n",
    "print(f\"Away Score Model R2 Score: {model_away_score}\")\n"
   ]
  },
  {
   "cell_type": "code",
   "execution_count": null,
   "metadata": {
    "id": "eTlCSc-WKmdd"
   },
   "outputs": [],
   "source": []
  }
 ],
 "metadata": {
  "colab": {
   "provenance": []
  },
  "kernelspec": {
   "display_name": "Python 3 (ipykernel)",
   "language": "python",
   "name": "python3"
  },
  "language_info": {
   "codemirror_mode": {
    "name": "ipython",
    "version": 3
   },
   "file_extension": ".py",
   "mimetype": "text/x-python",
   "name": "python",
   "nbconvert_exporter": "python",
   "pygments_lexer": "ipython3",
   "version": "3.9.15"
  }
 },
 "nbformat": 4,
 "nbformat_minor": 1
}
