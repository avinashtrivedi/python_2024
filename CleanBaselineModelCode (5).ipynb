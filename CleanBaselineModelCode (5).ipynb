{
 "cells": [
  {
   "cell_type": "code",
   "execution_count": 450,
   "id": "2d76d78d-4457-4d3a-bb2f-d59b6f15dbc1",
   "metadata": {},
   "outputs": [],
   "source": [
    "import numpy as np\n",
    "import pandas as pd\n",
    "from sklearn.ensemble import RandomForestRegressor\n",
    "from sklearn.metrics import mean_absolute_error, mean_squared_error\n",
    "import matplotlib.pyplot as plt\n",
    "from statsmodels.tsa.holtwinters import ExponentialSmoothing, Holt\n",
    "from statsmodels.tsa.arima.model import ARIMA\n",
    "from sklearn.linear_model import LinearRegression\n",
    "from statsmodels.tsa.holtwinters import Holt\n",
    "from sklearn.model_selection import GridSearchCV\n",
    "import xgboost as xgb\n",
    "import warnings\n",
    "import datetime\n",
    "from sklearn.model_selection import train_test_split\n",
    "from xgboost import XGBRegressor\n",
    "import matplotlib.pyplot as plt\n",
    "import openpyxl\n",
    "from openpyxl import Workbook\n",
    "from openpyxl.utils.dataframe import dataframe_to_rows\n",
    "import os\n",
    "from sklearn.linear_model import LinearRegression\n",
    "from statsmodels.tsa.arima.model import ARIMA"
   ]
  },
  {
   "cell_type": "code",
   "execution_count": 452,
   "id": "6408d531-b871-4c96-a2b6-4442722fda62",
   "metadata": {},
   "outputs": [
    {
     "data": {
      "text/html": [
       "<div>\n",
       "<style scoped>\n",
       "    .dataframe tbody tr th:only-of-type {\n",
       "        vertical-align: middle;\n",
       "    }\n",
       "\n",
       "    .dataframe tbody tr th {\n",
       "        vertical-align: top;\n",
       "    }\n",
       "\n",
       "    .dataframe thead th {\n",
       "        text-align: right;\n",
       "    }\n",
       "</style>\n",
       "<table border=\"1\" class=\"dataframe\">\n",
       "  <thead>\n",
       "    <tr style=\"text-align: right;\">\n",
       "      <th></th>\n",
       "      <th>InvoiceNumber</th>\n",
       "      <th>LineNumber</th>\n",
       "      <th>InvoiceDate</th>\n",
       "      <th>ReqDate</th>\n",
       "      <th>SalesOrderType</th>\n",
       "      <th>TransactionType</th>\n",
       "      <th>RevenueAccount</th>\n",
       "      <th>RevenueAccountDesc</th>\n",
       "      <th>RevenueAccountType</th>\n",
       "      <th>RevenueAccountTerm</th>\n",
       "      <th>...</th>\n",
       "      <th>PricePerLB</th>\n",
       "      <th>CostPerLB</th>\n",
       "      <th>QtyInGallons</th>\n",
       "      <th>MaterialMargin</th>\n",
       "      <th>MaterialMarginPercent</th>\n",
       "      <th>TAMId</th>\n",
       "      <th>IsInFull</th>\n",
       "      <th>IsOnTime</th>\n",
       "      <th>InvMonth</th>\n",
       "      <th>InvYear</th>\n",
       "    </tr>\n",
       "  </thead>\n",
       "  <tbody>\n",
       "    <tr>\n",
       "      <th>0</th>\n",
       "      <td>85757</td>\n",
       "      <td>16</td>\n",
       "      <td>7/1/16</td>\n",
       "      <td>NaN</td>\n",
       "      <td>NaN</td>\n",
       "      <td>Invoiced/Voided Order</td>\n",
       "      <td>NaN</td>\n",
       "      <td>NaN</td>\n",
       "      <td>NaN</td>\n",
       "      <td>NaN</td>\n",
       "      <td>...</td>\n",
       "      <td>0.000000</td>\n",
       "      <td>0.000000</td>\n",
       "      <td>NaN</td>\n",
       "      <td>0.0000</td>\n",
       "      <td>NaN</td>\n",
       "      <td>FlooringPALLET|7</td>\n",
       "      <td>NaN</td>\n",
       "      <td>0</td>\n",
       "      <td>7</td>\n",
       "      <td>2016</td>\n",
       "    </tr>\n",
       "    <tr>\n",
       "      <th>1</th>\n",
       "      <td>90912</td>\n",
       "      <td>28</td>\n",
       "      <td>12/16/16</td>\n",
       "      <td>NaN</td>\n",
       "      <td>NaN</td>\n",
       "      <td>Invoiced/Voided Order</td>\n",
       "      <td>NaN</td>\n",
       "      <td>NaN</td>\n",
       "      <td>NaN</td>\n",
       "      <td>NaN</td>\n",
       "      <td>...</td>\n",
       "      <td>0.160000</td>\n",
       "      <td>0.000000</td>\n",
       "      <td>NaN</td>\n",
       "      <td>8.0000</td>\n",
       "      <td>1.000000</td>\n",
       "      <td>FlooringPALLET|7</td>\n",
       "      <td>NaN</td>\n",
       "      <td>0</td>\n",
       "      <td>12</td>\n",
       "      <td>2016</td>\n",
       "    </tr>\n",
       "    <tr>\n",
       "      <th>2</th>\n",
       "      <td>92476</td>\n",
       "      <td>16</td>\n",
       "      <td>2/9/17</td>\n",
       "      <td>2/13/17</td>\n",
       "      <td>Normal</td>\n",
       "      <td>Invoiced/Voided Order</td>\n",
       "      <td>NaN</td>\n",
       "      <td>NaN</td>\n",
       "      <td>NaN</td>\n",
       "      <td>NaN</td>\n",
       "      <td>...</td>\n",
       "      <td>1.092051</td>\n",
       "      <td>0.572177</td>\n",
       "      <td>NaN</td>\n",
       "      <td>20.2751</td>\n",
       "      <td>0.476053</td>\n",
       "      <td>Flooring2033-1|7</td>\n",
       "      <td>1.0</td>\n",
       "      <td>0</td>\n",
       "      <td>2</td>\n",
       "      <td>2017</td>\n",
       "    </tr>\n",
       "    <tr>\n",
       "      <th>3</th>\n",
       "      <td>92476</td>\n",
       "      <td>28</td>\n",
       "      <td>2/9/17</td>\n",
       "      <td>2/13/17</td>\n",
       "      <td>Normal</td>\n",
       "      <td>Invoiced/Voided Order</td>\n",
       "      <td>NaN</td>\n",
       "      <td>NaN</td>\n",
       "      <td>NaN</td>\n",
       "      <td>NaN</td>\n",
       "      <td>...</td>\n",
       "      <td>0.340000</td>\n",
       "      <td>0.348738</td>\n",
       "      <td>NaN</td>\n",
       "      <td>-0.3670</td>\n",
       "      <td>-0.025700</td>\n",
       "      <td>Flooring960-4-TA|7</td>\n",
       "      <td>1.0</td>\n",
       "      <td>0</td>\n",
       "      <td>2</td>\n",
       "      <td>2017</td>\n",
       "    </tr>\n",
       "    <tr>\n",
       "      <th>4</th>\n",
       "      <td>102400</td>\n",
       "      <td>16</td>\n",
       "      <td>11/30/17</td>\n",
       "      <td>11/21/17</td>\n",
       "      <td>Normal</td>\n",
       "      <td>Invoiced/Voided Order</td>\n",
       "      <td>NaN</td>\n",
       "      <td>NaN</td>\n",
       "      <td>NaN</td>\n",
       "      <td>NaN</td>\n",
       "      <td>...</td>\n",
       "      <td>2.319143</td>\n",
       "      <td>1.138360</td>\n",
       "      <td>NaN</td>\n",
       "      <td>41.3274</td>\n",
       "      <td>0.509146</td>\n",
       "      <td>Flooring2091-1|7</td>\n",
       "      <td>1.0</td>\n",
       "      <td>1</td>\n",
       "      <td>11</td>\n",
       "      <td>2017</td>\n",
       "    </tr>\n",
       "  </tbody>\n",
       "</table>\n",
       "<p>5 rows × 50 columns</p>\n",
       "</div>"
      ],
      "text/plain": [
       "   InvoiceNumber  LineNumber InvoiceDate   ReqDate SalesOrderType  \\\n",
       "0          85757          16      7/1/16       NaN            NaN   \n",
       "1          90912          28    12/16/16       NaN            NaN   \n",
       "2          92476          16      2/9/17   2/13/17         Normal   \n",
       "3          92476          28      2/9/17   2/13/17         Normal   \n",
       "4         102400          16    11/30/17  11/21/17         Normal   \n",
       "\n",
       "         TransactionType RevenueAccount  RevenueAccountDesc  \\\n",
       "0  Invoiced/Voided Order            NaN                 NaN   \n",
       "1  Invoiced/Voided Order            NaN                 NaN   \n",
       "2  Invoiced/Voided Order            NaN                 NaN   \n",
       "3  Invoiced/Voided Order            NaN                 NaN   \n",
       "4  Invoiced/Voided Order            NaN                 NaN   \n",
       "\n",
       "   RevenueAccountType  RevenueAccountTerm  ...  PricePerLB  CostPerLB  \\\n",
       "0                 NaN                 NaN  ...    0.000000   0.000000   \n",
       "1                 NaN                 NaN  ...    0.160000   0.000000   \n",
       "2                 NaN                 NaN  ...    1.092051   0.572177   \n",
       "3                 NaN                 NaN  ...    0.340000   0.348738   \n",
       "4                 NaN                 NaN  ...    2.319143   1.138360   \n",
       "\n",
       "  QtyInGallons  MaterialMargin  MaterialMarginPercent               TAMId  \\\n",
       "0          NaN          0.0000                    NaN    FlooringPALLET|7   \n",
       "1          NaN          8.0000               1.000000    FlooringPALLET|7   \n",
       "2          NaN         20.2751               0.476053    Flooring2033-1|7   \n",
       "3          NaN         -0.3670              -0.025700  Flooring960-4-TA|7   \n",
       "4          NaN         41.3274               0.509146    Flooring2091-1|7   \n",
       "\n",
       "   IsInFull  IsOnTime  InvMonth InvYear  \n",
       "0       NaN         0         7    2016  \n",
       "1       NaN         0        12    2016  \n",
       "2       1.0         0         2    2017  \n",
       "3       1.0         0         2    2017  \n",
       "4       1.0         1        11    2017  \n",
       "\n",
       "[5 rows x 50 columns]"
      ]
     },
     "execution_count": 452,
     "metadata": {},
     "output_type": "execute_result"
    }
   ],
   "source": [
    "df1 = pd.read_csv('file:///Users/marycarolinekreps/Downloads/rptSales.csv')\n",
    "df1.head()"
   ]
  },
  {
   "cell_type": "code",
   "execution_count": 454,
   "id": "067a7119-87fb-4b36-b1a9-a8ee2ab63739",
   "metadata": {},
   "outputs": [],
   "source": [
    "item = pd.read_csv('file:///Users/marycarolinekreps/Desktop/ItemRpt.csv')"
   ]
  },
  {
   "cell_type": "code",
   "execution_count": 456,
   "id": "56ddcdf5-21c3-4cb4-bcc2-cb334752b2bc",
   "metadata": {},
   "outputs": [],
   "source": [
    "df1_item = df1.merge(item[['ItemId','ItemDescription','ItemClass','LastCostPaid','AverageCost','StandardCost','ClassDescription','CommCodeDescription','ProdLineDescription','MonthsUntilExpired','BusinessUnit','StockUoM']],on='ItemId', how='left')\n",
    "df1_item['InvoiceDate'] = pd.to_datetime(df1_item['InvoiceDate'], format='%m/%d/%y')\n"
   ]
  },
  {
   "cell_type": "code",
   "execution_count": 458,
   "id": "1ee20c0a-6f6b-4a04-a076-f73038eee91b",
   "metadata": {},
   "outputs": [
    {
     "data": {
      "text/html": [
       "<div>\n",
       "<style scoped>\n",
       "    .dataframe tbody tr th:only-of-type {\n",
       "        vertical-align: middle;\n",
       "    }\n",
       "\n",
       "    .dataframe tbody tr th {\n",
       "        vertical-align: top;\n",
       "    }\n",
       "\n",
       "    .dataframe thead th {\n",
       "        text-align: right;\n",
       "    }\n",
       "</style>\n",
       "<table border=\"1\" class=\"dataframe\">\n",
       "  <thead>\n",
       "    <tr style=\"text-align: right;\">\n",
       "      <th></th>\n",
       "      <th>InvoiceNumber</th>\n",
       "      <th>LineNumber</th>\n",
       "      <th>InvoiceDate</th>\n",
       "      <th>ReqDate</th>\n",
       "      <th>SalesOrderType</th>\n",
       "      <th>TransactionType</th>\n",
       "      <th>RevenueAccount</th>\n",
       "      <th>RevenueAccountDesc</th>\n",
       "      <th>RevenueAccountType</th>\n",
       "      <th>RevenueAccountTerm</th>\n",
       "      <th>...</th>\n",
       "      <th>ItemClass</th>\n",
       "      <th>LastCostPaid</th>\n",
       "      <th>AverageCost</th>\n",
       "      <th>StandardCost</th>\n",
       "      <th>ClassDescription</th>\n",
       "      <th>CommCodeDescription</th>\n",
       "      <th>ProdLineDescription</th>\n",
       "      <th>MonthsUntilExpired</th>\n",
       "      <th>BusinessUnit</th>\n",
       "      <th>StockUoM</th>\n",
       "    </tr>\n",
       "  </thead>\n",
       "  <tbody>\n",
       "    <tr>\n",
       "      <th>0</th>\n",
       "      <td>85757</td>\n",
       "      <td>16</td>\n",
       "      <td>2016-07-01</td>\n",
       "      <td>NaN</td>\n",
       "      <td>NaN</td>\n",
       "      <td>Invoiced/Voided Order</td>\n",
       "      <td>NaN</td>\n",
       "      <td>NaN</td>\n",
       "      <td>NaN</td>\n",
       "      <td>NaN</td>\n",
       "      <td>...</td>\n",
       "      <td>5199</td>\n",
       "      <td>0.00000</td>\n",
       "      <td>0.00000</td>\n",
       "      <td>0.00</td>\n",
       "      <td>FG Pallet Sales                               ...</td>\n",
       "      <td>No Comm Code Assigned</td>\n",
       "      <td>Pallet Sales                                  ...</td>\n",
       "      <td>0.0</td>\n",
       "      <td>Flooring</td>\n",
       "      <td>EA</td>\n",
       "    </tr>\n",
       "    <tr>\n",
       "      <th>1</th>\n",
       "      <td>90912</td>\n",
       "      <td>28</td>\n",
       "      <td>2016-12-16</td>\n",
       "      <td>NaN</td>\n",
       "      <td>NaN</td>\n",
       "      <td>Invoiced/Voided Order</td>\n",
       "      <td>NaN</td>\n",
       "      <td>NaN</td>\n",
       "      <td>NaN</td>\n",
       "      <td>NaN</td>\n",
       "      <td>...</td>\n",
       "      <td>5199</td>\n",
       "      <td>0.00000</td>\n",
       "      <td>0.00000</td>\n",
       "      <td>0.00</td>\n",
       "      <td>FG Pallet Sales                               ...</td>\n",
       "      <td>No Comm Code Assigned</td>\n",
       "      <td>Pallet Sales                                  ...</td>\n",
       "      <td>0.0</td>\n",
       "      <td>Flooring</td>\n",
       "      <td>EA</td>\n",
       "    </tr>\n",
       "    <tr>\n",
       "      <th>2</th>\n",
       "      <td>92476</td>\n",
       "      <td>16</td>\n",
       "      <td>2017-02-09</td>\n",
       "      <td>2/13/17</td>\n",
       "      <td>Normal</td>\n",
       "      <td>Invoiced/Voided Order</td>\n",
       "      <td>NaN</td>\n",
       "      <td>NaN</td>\n",
       "      <td>NaN</td>\n",
       "      <td>NaN</td>\n",
       "      <td>...</td>\n",
       "      <td>5100</td>\n",
       "      <td>20.71780</td>\n",
       "      <td>22.81510</td>\n",
       "      <td>14.42</td>\n",
       "      <td>FG Latex Adhesive                             ...</td>\n",
       "      <td>Steadfast - Clear Thin Spread VCT Adhesive    ...</td>\n",
       "      <td>Latex Distributor Sales                       ...</td>\n",
       "      <td>365.0</td>\n",
       "      <td>Flooring</td>\n",
       "      <td>CTN-1</td>\n",
       "    </tr>\n",
       "    <tr>\n",
       "      <th>3</th>\n",
       "      <td>92476</td>\n",
       "      <td>28</td>\n",
       "      <td>2017-02-09</td>\n",
       "      <td>2/13/17</td>\n",
       "      <td>Normal</td>\n",
       "      <td>Invoiced/Voided Order</td>\n",
       "      <td>NaN</td>\n",
       "      <td>NaN</td>\n",
       "      <td>NaN</td>\n",
       "      <td>NaN</td>\n",
       "      <td>...</td>\n",
       "      <td>5100</td>\n",
       "      <td>15.30572</td>\n",
       "      <td>15.98697</td>\n",
       "      <td>0.00</td>\n",
       "      <td>FG Latex Adhesive                             ...</td>\n",
       "      <td>900 - Contract Grade Flooring Adhesive        ...</td>\n",
       "      <td>Latex Distributor Sales                       ...</td>\n",
       "      <td>365.0</td>\n",
       "      <td>Flooring</td>\n",
       "      <td>EA-4</td>\n",
       "    </tr>\n",
       "    <tr>\n",
       "      <th>4</th>\n",
       "      <td>102400</td>\n",
       "      <td>16</td>\n",
       "      <td>2017-11-30</td>\n",
       "      <td>11/21/17</td>\n",
       "      <td>Normal</td>\n",
       "      <td>Invoiced/Voided Order</td>\n",
       "      <td>NaN</td>\n",
       "      <td>NaN</td>\n",
       "      <td>NaN</td>\n",
       "      <td>NaN</td>\n",
       "      <td>...</td>\n",
       "      <td>5142</td>\n",
       "      <td>40.66792</td>\n",
       "      <td>2.54175</td>\n",
       "      <td>0.00</td>\n",
       "      <td>FG Meta-Tec Adhesives                         ...</td>\n",
       "      <td>Pinnacle - Hard-Set Transitional PSA          ...</td>\n",
       "      <td>Meta-Tec Adhesives                            ...</td>\n",
       "      <td>365.0</td>\n",
       "      <td>Flooring</td>\n",
       "      <td>CTN-1</td>\n",
       "    </tr>\n",
       "  </tbody>\n",
       "</table>\n",
       "<p>5 rows × 61 columns</p>\n",
       "</div>"
      ],
      "text/plain": [
       "   InvoiceNumber  LineNumber InvoiceDate   ReqDate SalesOrderType  \\\n",
       "0          85757          16  2016-07-01       NaN            NaN   \n",
       "1          90912          28  2016-12-16       NaN            NaN   \n",
       "2          92476          16  2017-02-09   2/13/17         Normal   \n",
       "3          92476          28  2017-02-09   2/13/17         Normal   \n",
       "4         102400          16  2017-11-30  11/21/17         Normal   \n",
       "\n",
       "         TransactionType RevenueAccount  RevenueAccountDesc  \\\n",
       "0  Invoiced/Voided Order            NaN                 NaN   \n",
       "1  Invoiced/Voided Order            NaN                 NaN   \n",
       "2  Invoiced/Voided Order            NaN                 NaN   \n",
       "3  Invoiced/Voided Order            NaN                 NaN   \n",
       "4  Invoiced/Voided Order            NaN                 NaN   \n",
       "\n",
       "   RevenueAccountType  RevenueAccountTerm  ...  ItemClass  LastCostPaid  \\\n",
       "0                 NaN                 NaN  ...     5199         0.00000   \n",
       "1                 NaN                 NaN  ...     5199         0.00000   \n",
       "2                 NaN                 NaN  ...     5100        20.71780   \n",
       "3                 NaN                 NaN  ...     5100        15.30572   \n",
       "4                 NaN                 NaN  ...     5142        40.66792   \n",
       "\n",
       "  AverageCost  StandardCost  \\\n",
       "0     0.00000          0.00   \n",
       "1     0.00000          0.00   \n",
       "2    22.81510         14.42   \n",
       "3    15.98697          0.00   \n",
       "4     2.54175          0.00   \n",
       "\n",
       "                                    ClassDescription  \\\n",
       "0  FG Pallet Sales                               ...   \n",
       "1  FG Pallet Sales                               ...   \n",
       "2  FG Latex Adhesive                             ...   \n",
       "3  FG Latex Adhesive                             ...   \n",
       "4  FG Meta-Tec Adhesives                         ...   \n",
       "\n",
       "                                 CommCodeDescription  \\\n",
       "0                              No Comm Code Assigned   \n",
       "1                              No Comm Code Assigned   \n",
       "2  Steadfast - Clear Thin Spread VCT Adhesive    ...   \n",
       "3  900 - Contract Grade Flooring Adhesive        ...   \n",
       "4  Pinnacle - Hard-Set Transitional PSA          ...   \n",
       "\n",
       "                                 ProdLineDescription  MonthsUntilExpired  \\\n",
       "0  Pallet Sales                                  ...                 0.0   \n",
       "1  Pallet Sales                                  ...                 0.0   \n",
       "2  Latex Distributor Sales                       ...               365.0   \n",
       "3  Latex Distributor Sales                       ...               365.0   \n",
       "4  Meta-Tec Adhesives                            ...               365.0   \n",
       "\n",
       "   BusinessUnit StockUoM  \n",
       "0      Flooring   EA      \n",
       "1      Flooring   EA      \n",
       "2      Flooring   CTN-1   \n",
       "3      Flooring   EA-4    \n",
       "4      Flooring   CTN-1   \n",
       "\n",
       "[5 rows x 61 columns]"
      ]
     },
     "execution_count": 458,
     "metadata": {},
     "output_type": "execute_result"
    }
   ],
   "source": [
    "df1_item.head()"
   ]
  },
  {
   "cell_type": "code",
   "execution_count": 460,
   "id": "1bb41cc4-21dd-4159-b804-fc7d80e97c37",
   "metadata": {},
   "outputs": [],
   "source": [
    "\n",
    "def add_time_features(df1_item, lags=5, rolling_window=3, include_seasonality=False):\n",
    "    \"\"\"\n",
    "    Adds lag, rolling window, and optional seasonal features to the df1_item DataFrame.\n",
    "\n",
    "    Parameters:\n",
    "    - df1_item (pd.DataFrame): DataFrame with 'RevenueAmount' and datetime index.\n",
    "    - lags (int): Number of lagged features to create.\n",
    "    - rolling_window (int): Window size for rolling statistics.\n",
    "    - include_seasonality (bool): Whether to add seasonal dummy variables.\n",
    "\n",
    "    Returns:\n",
    "    - pd.DataFrame: DataFrame with added features.\n",
    "    \"\"\"\n",
    "    # Validate input DataFrame\n",
    "    required_columns = ['RevenueAmount']\n",
    "    for col in required_columns:\n",
    "        if col not in df1_item.columns:\n",
    "            raise ValueError(f\"Missing required column: '{col}'\")\n",
    "\n",
    "    # Ensure the index is a datetime index\n",
    "    if not isinstance(df1_item.index, pd.DatetimeIndex):\n",
    "        raise TypeError(\"DataFrame index must be a pandas DatetimeIndex.\")\n",
    "\n",
    "    # Sort the DataFrame by index to ensure chronological order\n",
    "    df1_item = df1_item.sort_index()\n",
    "\n",
    "    # Add lag features\n",
    "    for lag in range(1, lags + 1):\n",
    "        lag_col = f'lag_{lag}'\n",
    "        df1_item[lag_col] = df1_item['RevenueAmount'].shift(lag)\n",
    "        #print(f\"Added lag feature: {lag_col}\")\n",
    "\n",
    "    # Add rolling window features\n",
    "    df1_item[f'rolling_mean_{rolling_window}'] = df1_item['RevenueAmount'].rolling(window=rolling_window).mean()\n",
    "    df1_item[f'rolling_std_{rolling_window}'] = df1_item['RevenueAmount'].rolling(window=rolling_window).std()\n",
    "    #print(f\"Added rolling_mean_{rolling_window} and rolling_std_{rolling_window}\")\n",
    "\n",
    "    # Add date-based features\n",
    "    df1_item['day_of_week'] = df1_item.index.dayofweek       # Monday=0, Sunday=6\n",
    "    df1_item['month'] = df1_item.index.month                 # 1 to 12\n",
    "    df1_item['quarter'] = df1_item.index.quarter             # 1 to 4\n",
    "    #print(\"Added day_of_week, month, and quarter features\")\n",
    "\n",
    "    # Optionally add seasonal dummy variables\n",
    "    if include_seasonality:\n",
    "        # Example: Add monthly dummy variables\n",
    "        month_dummies = pd.get_dummies(df1_item.index.month, prefix='month', drop_first=True)\n",
    "        df1_item = pd.concat([df1_item, month_dummies], axis=1)\n",
    "        #print(\"Added monthly seasonal dummy variables\")\n",
    "\n",
    "    # Drop rows with NaN values resulting from lagging and rolling\n",
    "    initial_shape = df1_item.shape\n",
    "    df1_item.dropna(inplace=True)\n",
    "    final_shape = df1_item.shape\n",
    "    #print(f\"Dropped rows with NaN values: {initial_shape[0] - final_shape[0]} rows removed\")\n",
    "\n",
    "    return df1_item\n"
   ]
  },
  {
   "cell_type": "code",
   "execution_count": 462,
   "id": "e1efb8e9-51f3-4b3f-9eed-f995ded5ebd7",
   "metadata": {},
   "outputs": [],
   "source": [
    "# ============================\n",
    "# Forecasting Models\n",
    "# ============================\n",
    "\n",
    "def create_lagged_features(data, lags=5):\n",
    "    \"\"\"Create lag features for time series data.\"\"\"\n",
    "    df = pd.DataFrame(data, columns=['demand'])\n",
    "    for lag in range(1, lags + 1):\n",
    "        df[f'lag_{lag}'] = df['demand'].shift(lag)\n",
    "    df.dropna(inplace=True)\n",
    "    if df.empty:\n",
    "        raise ValueError(\"Not enough data after creating lagged features.\")\n",
    "    return df\n",
    "\n",
    "def forecast_random_forest(train, steps=30, lags=5):\n",
    "    \"\"\"Forecast using Random Forest model.\"\"\"\n",
    "    # Create lagged features\n",
    "    train_lagged = create_lagged_features(train, lags)\n",
    "    \n",
    "    # Split into features (X) and target (y)\n",
    "    X_train = train_lagged.drop(columns=['demand'])\n",
    "    y_train = train_lagged['demand']\n",
    "    \n",
    "    # Check if there's enough data\n",
    "    if X_train.shape[0] == 0:\n",
    "        raise ValueError(\"Training data has 0 samples after processing.\")\n",
    "    \n",
    "    # Initialize the Random Forest model\n",
    "    model = RandomForestRegressor(n_estimators=100, random_state=42)\n",
    "    \n",
    "    # Train the model\n",
    "    model.fit(X_train, y_train)\n",
    "    \n",
    "    # Forecast future values\n",
    "    forecast = []\n",
    "    last_values = train[-lags:].tolist()  # Get the last `lags` values to start forecasting\n",
    "    \n",
    "    for step in range(steps):\n",
    "        # Create the feature vector for the current step forecast\n",
    "        X_step = np.array(last_values[-lags:]).reshape(1, -1)\n",
    "        next_value = model.predict(X_step)[0]\n",
    "        forecast.append(next_value)\n",
    "        \n",
    "        # Update the last_values list with the predicted value\n",
    "        last_values.append(next_value)\n",
    "    \n",
    "    return np.array(forecast)\n",
    "\n",
    "def forecast_xgboost_model(train, steps=30, lags=5):\n",
    "    \"\"\"Forecast using XGBoost model.\"\"\"\n",
    "    # Create lagged features\n",
    "    train_lagged = create_lagged_features(train, lags)\n",
    "    \n",
    "    # Split into features (X) and target (y)\n",
    "    X_train = train_lagged.drop(columns=['demand'])\n",
    "    y_train = train_lagged['demand']\n",
    "    \n",
    "    # Check if there's enough data\n",
    "    if X_train.shape[0] == 0:\n",
    "        raise ValueError(\"Training data has 0 samples after processing.\")\n",
    "    \n",
    "    # Initialize the XGBoost Regressor\n",
    "    model = xgb.XGBRegressor(objective='reg:squarederror', n_estimators=100, learning_rate=0.1, random_state=42)\n",
    "    \n",
    "    # Train the model\n",
    "    model.fit(X_train, y_train)\n",
    "    \n",
    "    # Forecast future values\n",
    "    forecast = []\n",
    "    last_values = train[-lags:].tolist()  # Get the last `lags` values to start forecasting\n",
    "    \n",
    "    for step in range(steps):\n",
    "        # Create the feature vector for the current step forecast\n",
    "        X_step = np.array(last_values[-lags:]).reshape(1, -1)\n",
    "        next_value = model.predict(X_step)[0]\n",
    "        forecast.append(next_value)\n",
    "        \n",
    "        # Update the last_values list with the predicted value\n",
    "        last_values.append(next_value)\n",
    "    \n",
    "    return np.array(forecast)\n",
    "'''\n",
    "def forecast_moving_average(data, window=3, steps=18):\n",
    "    \"\"\"\n",
    "    Moving average forecast for a dataset with at least 5 data points.\n",
    "    Returns forecast values based on moving average if data suffices.\n",
    "    \"\"\"\n",
    "    if len(data) < 5:\n",
    "        # Not enough data to generate a forecast; skip this forecast\n",
    "        return None\n",
    "    else:\n",
    "        # Use the last available moving average as the forecast\n",
    "        forecast_value = data['RevenueAmount'].rolling(window=window).mean().iloc[-1]\n",
    "        forecast = [forecast_value] * steps\n",
    "        return forecast\n",
    "'''\n",
    "\n",
    "def forecast_exponential_smoothing(train, steps=30):\n",
    "    \"\"\"Forecast using Exponential Smoothing.\"\"\"\n",
    "    model = ExponentialSmoothing(train, seasonal=None)\n",
    "    model_fit = model.fit()\n",
    "    forecast = model_fit.forecast(steps)\n",
    "    return np.array(forecast)\n",
    "\n",
    "\n",
    "        \n",
    "def forecast_arima_model(train, steps=30, order=(5,1,0)):\n",
    "    \"\"\"Forecast using ARIMA model.\"\"\"\n",
    "    model = ARIMA(train, order=order)\n",
    "    model_fit = model.fit()\n",
    "    forecast = model_fit.forecast(steps)\n",
    "    return np.array(forecast)\n",
    "\n",
    "def forecast_linear_regression(train, steps=30, lags=5):\n",
    "    \"\"\"Forecast using Linear Regression.\"\"\"\n",
    "    # Create lagged features\n",
    "    train_lagged = create_lagged_features(train, lags)\n",
    "    \n",
    "    # Split into features (X) and target (y)\n",
    "    X_train = train_lagged.drop(columns=['demand'])\n",
    "    y_train = train_lagged['demand']\n",
    "    \n",
    "    # Initialize the Linear Regression model\n",
    "    model = LinearRegression()\n",
    "    \n",
    "    # Train the model\n",
    "    model.fit(X_train, y_train)\n",
    "    \n",
    "    # Forecast future values\n",
    "    forecast = []\n",
    "    last_values = train[-lags:].tolist()\n",
    "    \n",
    "    for step in range(steps):\n",
    "        X_step = np.array(last_values[-lags:]).reshape(1, -1)\n",
    "        next_value = model.predict(X_step)[0]\n",
    "        forecast.append(next_value)\n",
    "        last_values.append(next_value)\n",
    "    \n",
    "    return np.array(forecast)\n",
    "\n",
    "def forecast_xgboost_model(train, steps=30, lags=5):\n",
    "    \"\"\"Forecast using XGBoost model.\"\"\"\n",
    "    # Create lagged features\n",
    "    train_lagged = create_lagged_features(train, lags)\n",
    "    \n",
    "    # Split into features (X) and target (y)\n",
    "    X_train = train_lagged.drop(columns=['demand'])\n",
    "    y_train = train_lagged['demand']\n",
    "    \n",
    "    # Check if there's enough data\n",
    "    if X_train.shape[0] == 0:\n",
    "        raise ValueError(\"Training data has 0 samples after processing.\")\n",
    "    \n",
    "    # Initialize the XGBoost Regressor\n",
    "    model = xgb.XGBRegressor(objective='reg:squarederror', n_estimators=100, learning_rate=0.1, random_state=42)\n",
    "    \n",
    "    # Train the model\n",
    "    model.fit(X_train, y_train)\n",
    "    \n",
    "    # Forecast future values\n",
    "    forecast = []\n",
    "    last_values = train[-lags:].tolist()  # Get the last `lags` values to start forecasting\n",
    "    \n",
    "    for step in range(steps):\n",
    "        # Create the feature vector for the current step forecast\n",
    "        X_step = np.array(last_values[-lags:]).reshape(1, -1)\n",
    "        next_value = model.predict(X_step)[0]\n",
    "        forecast.append(next_value)\n",
    "        \n",
    "        # Update the last_values list with the predicted value\n",
    "        last_values.append(next_value)\n",
    "    \n",
    "    return np.array(forecast)\n"
   ]
  },
  {
   "cell_type": "code",
   "execution_count": 464,
   "id": "ac2042de-9fdc-4f79-8dd5-11de42ca7f34",
   "metadata": {},
   "outputs": [],
   "source": [
    "# ============================\n",
    "# Evaluation Metrics\n",
    "# ============================\n",
    "\n",
    "def evaluate_forecasts(y_true, y_pred):\n",
    "    # Check for shape alignment\n",
    "    if len(y_true) != len(y_pred):\n",
    "        print(f\"Shape mismatch: y_true ({len(y_true)}) vs y_pred ({len(y_pred)})\")\n",
    "        return np.nan, np.nan\n",
    "\n",
    "    try:\n",
    "        mae = mean_absolute_error(y_true, y_pred)\n",
    "        rmse = np.sqrt(mean_squared_error(y_true, y_pred))\n",
    "    except Exception as e:\n",
    "        print(f\"Error in evaluate_forecasts: {e}\")\n",
    "        return np.nan, np.nan  # Return NaN if an error occurs\n",
    "\n",
    "    return mae, rmse"
   ]
  },
  {
   "cell_type": "code",
   "execution_count": 466,
   "id": "e288aa6c-66ee-4881-bccf-592d295d3df8",
   "metadata": {},
   "outputs": [],
   "source": [
    "def aggregate_data(df1_item, forecast_by):\n",
    "    \"\"\"\n",
    "    Aggregates revenue data by the selected dimension.\n",
    "\n",
    "    Parameters:\n",
    "    - df1_item (DataFrame): The input DataFrame containing sales data.\n",
    "    - forecast_by (str): The column to group by ('ItemId' or 'ProdLineDescription').\n",
    "\n",
    "    Returns:\n",
    "    - DataFrame: Aggregated DataFrame.\n",
    "    \"\"\"\n",
    "    if forecast_by not in ['ItemId', 'ProdLineDescription']:\n",
    "        raise ValueError(\"forecast_by must be either 'ItemId' or 'ProdLineDescription'\")\n",
    "    \n",
    "    # Group by the selected dimension and aggregate revenue\n",
    "    aggregated = df1_item.groupby([forecast_by, 'InvoiceDate'])['RevenueAmount'].sum().reset_index()\n",
    "    \n",
    "    return aggregated"
   ]
  },
  {
   "cell_type": "code",
   "execution_count": 468,
   "id": "0cafaf7c-fff4-478a-87b5-3c998e96ae80",
   "metadata": {},
   "outputs": [],
   "source": [
    "from sklearn.linear_model import LinearRegression\n",
    "from statsmodels.tsa.arima.model import ARIMA\n",
    "import numpy as np\n",
    "import pandas as pd\n",
    "from xgboost import XGBRegressor\n",
    "import matplotlib.pyplot as plt\n",
    "\n",
    "def forecasting_pipeline(group_df, steps=30):\n",
    "    \"\"\"\n",
    "    Forecasting pipeline for a single group, including multiple models.\n",
    "\n",
    "    Parameters:\n",
    "    - group_df (pd.DataFrame): DataFrame filtered for a specific ItemId or ProdLineDescription.\n",
    "    - steps (int): Number of periods to forecast.\n",
    "\n",
    "    Returns:\n",
    "    - best_model (str): Name of the best-performing model based on MAE.\n",
    "    - final_forecast (np.array): Forecasted values from the best model.\n",
    "    - metrics (dict): Evaluation metrics for all models.\n",
    "    \"\"\"\n",
    "    # Prepare data\n",
    "    group_df = group_df.sort_values('InvoiceDate')\n",
    "    group_df['InvoiceDate'] = pd.to_datetime(group_df['InvoiceDate'])\n",
    "    group_df = group_df[~group_df.index.duplicated(keep='first')]\n",
    "    group_df.set_index('InvoiceDate', inplace=True)\n",
    "    inferred_freq = pd.infer_freq(group_df.index) or 'D'\n",
    "    group_df = group_df.asfreq(inferred_freq)\n",
    "    group_df.ffill(inplace=True)  # Fill missing values with forward fill\n",
    "    group_df.dropna(inplace=True)\n",
    "\n",
    "    try:\n",
    "        group_df = add_time_features(group_df, lags=5, rolling_window=3)\n",
    "    except Exception as e:\n",
    "        print(f\"Error in adding time features: {e}\")\n",
    "        return None, None, {}\n",
    "\n",
    "    if len(group_df) < steps + 1:\n",
    "        print(\"Not enough data to split into train and test.\")\n",
    "        return None, None, {}\n",
    "\n",
    "    train = group_df.iloc[:-steps]\n",
    "    test = group_df.iloc[-steps:]\n",
    "    feature_cols = [col for col in group_df.columns if col != 'RevenueAmount']\n",
    "    X_train, y_train = train[feature_cols], train['RevenueAmount']\n",
    "    X_test, y_test = test[feature_cols], test['RevenueAmount']\n",
    "\n",
    "    forecasts = {}\n",
    "    metrics = {}\n",
    "\n",
    "    # Moving Average Model\n",
    "    print(\"Evaluating Moving Average model...\")\n",
    "    if len(train) >= 5:\n",
    "        try:\n",
    "            ma_forecast = forecast_moving_average(train, window=3, steps=steps)\n",
    "            ma_mae, ma_rmse = evaluate_forecasts(y_test, ma_forecast)\n",
    "            forecasts['MovingAverage'] = ma_forecast\n",
    "            metrics['MovingAverage'] = {'MAE': ma_mae, 'RMSE': ma_rmse}\n",
    "            print(f\"Moving Average MAE: {ma_mae}, RMSE: {ma_rmse}\")\n",
    "        except Exception as e:\n",
    "            print(f\"Moving Average Error: {e}\")\n",
    "\n",
    "    # Exponential Smoothing Model\n",
    "    try:\n",
    "        print(\"Evaluating Exponential Smoothing model...\")\n",
    "        exp_model = ExponentialSmoothing(y_train, seasonal='additive', seasonal_periods=12)\n",
    "        exp_fit = exp_model.fit()\n",
    "        exp_forecast = exp_fit.forecast(steps=len(y_test))\n",
    "        exp_mae, exp_rmse = evaluate_forecasts(y_test, exp_forecast)\n",
    "        forecasts['ExponentialSmoothing'] = exp_forecast\n",
    "        metrics['ExponentialSmoothing'] = {'MAE': exp_mae, 'RMSE': exp_rmse}\n",
    "        print(f\"Exponential Smoothing MAE: {exp_mae}, RMSE: {exp_rmse}\")\n",
    "    except Exception as e:\n",
    "        print(f\"Exponential Smoothing Error: {e}\")\n",
    "\n",
    "    # XGBoost Model\n",
    "    try:\n",
    "        print(\"Evaluating XGBoost model...\")\n",
    "        xgb_model = XGBRegressor(objective='reg:squarederror', seed=42)\n",
    "        xgb_model.fit(X_train, y_train)\n",
    "        xgb_forecast = xgb_model.predict(X_test)\n",
    "        xgb_mae, xgb_rmse = evaluate_forecasts(y_test, xgb_forecast)\n",
    "        forecasts['XGBoost'] = xgb_forecast\n",
    "        metrics['XGBoost'] = {'MAE': xgb_mae, 'RMSE': xgb_rmse}\n",
    "        print(f\"XGBoost MAE: {xgb_mae}, RMSE: {xgb_rmse}\")\n",
    "    except Exception as e:\n",
    "        print(f\"XGBoost Error: {e}\")\n",
    "\n",
    "    # ARIMA Model\n",
    "    try:\n",
    "        print(\"Evaluating ARIMA model...\")\n",
    "        model_arima = ARIMA(train['RevenueAmount'], order=(5, 1, 0))\n",
    "        model_arima_fit = model_arima.fit()\n",
    "        arima_forecast = model_arima_fit.forecast(steps).values\n",
    "        arima_mae, arima_rmse = evaluate_forecasts(y_test, arima_forecast)\n",
    "        forecasts['ARIMA'] = arima_forecast\n",
    "        metrics['ARIMA'] = {'MAE': arima_mae, 'RMSE': arima_rmse}\n",
    "        print(f\"ARIMA MAE: {arima_mae}, RMSE: {arima_rmse}\")\n",
    "    except Exception as e:\n",
    "        print(f\"ARIMA Error: {e}\")\n",
    "\n",
    "    # Linear Regression Model\n",
    "    try:\n",
    "        print(\"Evaluating Linear Regression model...\")\n",
    "        lr_model = LinearRegression()\n",
    "        lr_model.fit(X_train, y_train)\n",
    "        lr_forecast = lr_model.predict(X_test)\n",
    "        lr_mae, lr_rmse = evaluate_forecasts(y_test, lr_forecast)\n",
    "        forecasts['LinearRegression'] = lr_forecast\n",
    "        metrics['LinearRegression'] = {'MAE': lr_mae, 'RMSE': lr_rmse}\n",
    "        print(f\"Linear Regression MAE: {lr_mae}, RMSE: {lr_rmse}\")\n",
    "    except Exception as e:\n",
    "        print(f\"Linear Regression Error: {e}\")\n",
    "\n",
    "    # Determine best model based on lowest MAE\n",
    "    valid_metrics = {k: v for k, v in metrics.items() if not np.isnan(v['MAE'])}\n",
    "\n",
    "    if not valid_metrics:\n",
    "        print(\"No valid models were generated.\")\n",
    "        return None, None, metrics\n",
    "\n",
    "    # Select the model with the lowest MAE\n",
    "    best_model = min(valid_metrics, key=lambda x: valid_metrics[x]['MAE'])\n",
    "    final_forecast = forecasts[best_model]\n",
    "    print(f\"Best model selected: {best_model}\")\n",
    "\n",
    "    return best_model, final_forecast, metrics\n"
   ]
  },
  {
   "cell_type": "code",
   "execution_count": 470,
   "id": "5e61ffb3-b8f3-4b25-973d-fba91859ef13",
   "metadata": {},
   "outputs": [],
   "source": [
    "# ============================\n",
    "# Running Forecasting for All Groups\n",
    "# ============================\n",
    "\n",
    "import numpy as np\n",
    "import pandas as pd\n",
    "from sklearn.ensemble import RandomForestRegressor\n",
    "from sklearn.metrics import mean_absolute_error, mean_squared_error\n",
    "\n",
    "def run_forecasting(df1_item, forecast_by, steps=30, selected_model=None):\n",
    "    \"\"\"\n",
    "    Runs forecasting for all groups based on the selected dimension.\n",
    "    \n",
    "    Parameters:\n",
    "    - df1_item (DataFrame): The input dataframe.\n",
    "    - forecast_by (str): The column name to forecast by ('ItemId' or 'ProdLineDescription').\n",
    "    - steps (int): Number of periods to forecast.\n",
    "    - selected_model (str or None): Specific model to run or None for Best Fit.\n",
    "    \n",
    "    Returns:\n",
    "    - dict: Forecasts for each group.\n",
    "    - dict: Selected models for each group.\n",
    "    - dict: Metrics for each group.\n",
    "    \"\"\"\n",
    "    aggregated_df = aggregate_data(df1_item, forecast_by)\n",
    "    groups = aggregated_df[forecast_by].unique()\n",
    "    \n",
    "    all_forecasts = {}\n",
    "    selected_models = {}\n",
    "    all_metrics = {}\n",
    "    \n",
    "    for group in groups:\n",
    "        group_df = aggregated_df[aggregated_df[forecast_by] == group]\n",
    "        if len(group_df) < steps + 1:\n",
    "            print(f\"\\nGroup '{group}' has insufficient data for forecasting. Skipping.\")\n",
    "            continue\n",
    "        \n",
    "        if selected_model == 'Best Fit' or selected_model is None:\n",
    "            print(f\"\\nRunning Best Fit model for {forecast_by}: {group}\")\n",
    "            best_model, forecast, metrics = forecasting_pipeline(group_df, steps)\n",
    "        else:\n",
    "            print(f\"\\nRunning {selected_model} model for {forecast_by}: {group}\")\n",
    "            best_model, forecast, metrics = run_specific_model(group_df, steps, selected_model)\n",
    "        \n",
    "        if best_model is not None:\n",
    "            all_forecasts[group] = forecast\n",
    "            selected_models[group] = best_model\n",
    "            all_metrics[group] = metrics\n",
    "    \n",
    "    return all_forecasts, selected_models, all_metrics\n",
    "\n",
    "def run_specific_model(group_df, steps, model_name):\n",
    "    \"\"\"\n",
    "    Runs a specific forecasting model for a single group.\n",
    "    \"\"\"\n",
    "    # Sort by date\n",
    "    group_df = group_df.sort_values('InvoiceDate')\n",
    "    \n",
    "    # Prepare data for training and testing\n",
    "    if len(group_df) < steps + 1:\n",
    "        print(\"Not enough data to split into train and test.\")\n",
    "        return None, None, {}\n",
    "    \n",
    "    group_df['date_num'] = (group_df['InvoiceDate'] - group_df['InvoiceDate'].min()).dt.days  # Convert date to numerical\n",
    "    X = group_df[['date_num']]  # Features: date as numerical\n",
    "    y = group_df['RevenueAmount']  # Target: revenue amount\n",
    "\n",
    "    # Initialize dictionaries to store forecasts and metrics\n",
    "    forecasts = {}\n",
    "    metrics = {}\n",
    "    \n",
    "    # Select and run the chosen model\n",
    "    if model_name == 'RandomForest': \n",
    "        try:\n",
    "            # Train Random Forest model\n",
    "            model = RandomForestRegressor(n_estimators=100)\n",
    "            model.fit(X[:-steps], y[:-steps])  # Fit on training data\n",
    "\n",
    "            # Prepare future dates for forecasting\n",
    "            future_dates = pd.date_range(start=group_df['InvoiceDate'].max() + pd.Timedelta(days=1), \n",
    "                                          periods=steps)\n",
    "            future_date_nums = (future_dates - group_df['InvoiceDate'].min()).days.values.reshape(-1, 1)  # Convert to numerical\n",
    "\n",
    "            # Make predictions\n",
    "            forecast = model.predict(future_date_nums)\n",
    "            \n",
    "            # Evaluate the forecast against the actual values (if available)\n",
    "            test = y[-steps:]\n",
    "            mae = mean_absolute_error(test, forecast) if len(test) > 0 else np.nan\n",
    "            rmse = mean_squared_error(test, forecast, squared=False) if len(test) > 0 else np.nan\n",
    "\n",
    "            forecasts['RandomForest'] = forecast\n",
    "            metrics['RandomForest'] = {'MAE': mae, 'RMSE': rmse}\n",
    "            best_model = 'RandomForest'\n",
    "\n",
    "        except Exception as e:\n",
    "            forecasts['RandomForest'] = np.array([np.nan] * steps)\n",
    "            metrics['RandomForest'] = {'MAE': np.nan, 'RMSE': np.nan}\n",
    "            print(f\"Random Forest Error: {e}\")\n",
    "            best_model = None\n",
    "            \n",
    "    else:\n",
    "        best_model = None\n",
    "        forecast = np.array([np.nan] * steps)\n",
    "        metrics = {}\n",
    "    \n",
    "    return best_model, forecast, metrics\n"
   ]
  },
  {
   "cell_type": "code",
   "execution_count": 472,
   "id": "f293d850-e43f-4962-9191-671a9be635df",
   "metadata": {},
   "outputs": [],
   "source": [
    "# ============================\n",
    "# Visualization Function\n",
    "# ============================\n",
    "\n",
    "import matplotlib.pyplot as plt\n",
    "import pandas as pd\n",
    "\n",
    "def plot_forecast(group_df, forecast_df, forecast_periods, group_name, forecast_col):\n",
    "    \"\"\"\n",
    "    Plots the actual vs forecasted values for a group.\n",
    "\n",
    "    Parameters:\n",
    "    - group_df (DataFrame): Historical data for the group (before forecast).\n",
    "    - forecast_df (DataFrame): DataFrame containing the forecast values.\n",
    "    - forecast_periods (int): Number of periods that were forecasted.\n",
    "    - group_name (str): The name of the group being plotted (e.g., product_id).\n",
    "    - forecast_col (str): The column name that was forecasted (e.g., 'sales', 'revenue').\n",
    "    \"\"\"\n",
    "    # Extract historical and forecast data\n",
    "    actual_values = group_df[forecast_col]\n",
    "    forecast_values = forecast_df['forecast'][-forecast_periods:]  # Get only forecasted values for plotting\n",
    "    \n",
    "    # Create a figure for plotting\n",
    "    plt.figure(figsize=(12, 6))\n",
    "    \n",
    "    # Plot historical data\n",
    "    plt.plot(group_df.index, actual_values, label='Historical', color='blue', marker='o', linestyle='-')\n",
    "    \n",
    "    # Plot forecasted data (continuing from the last historical date)\n",
    "    forecast_dates = pd.date_range(start=group_df.index[-1], periods=forecast_periods + 1, freq='M')[1:]\n",
    "    plt.plot(forecast_dates, forecast_values, label='Forecasted', color='orange', marker='o', linestyle='--')\n",
    "    \n",
    "    # Set plot title and labels\n",
    "    plt.title(f'Actual vs Forecasted {forecast_col.capitalize()} for {group_name}')\n",
    "    plt.xlabel('Date')\n",
    "    plt.ylabel(f'{forecast_col.capitalize()}')\n",
    "    \n",
    "    # Add a legend\n",
    "    plt.legend()\n",
    "    \n",
    "    # Add grid lines\n",
    "    plt.grid(True)\n",
    "    \n",
    "    # Show plot with tight layout\n",
    "    plt.tight_layout()\n",
    "    plt.show()\n",
    "\n",
    "# Example call for plotting (assuming you have a forecast result for 'group_1'):\n",
    "# group_df: Historical data for the group\n",
    "# forecast_results['group_1']: Contains both historical and forecast data for 'group_1'\n",
    "# plot_forecast(group_df, forecast_results['group_1'], forecast_periods, 'group_1', forecast_column)\n"
   ]
  },
  {
   "cell_type": "code",
   "execution_count": 474,
   "id": "c303eeb9-de54-4a90-86f5-0156320d6b2b",
   "metadata": {},
   "outputs": [],
   "source": [
    "def filter_data(df1_item):\n",
    "    \"\"\"Function to filter data based on user inputs.\"\"\"\n",
    "    \n",
    "    # Ask whether to filter by CustomerId\n",
    "    filter_customer = input(\"Would you like to filter by 'CustomerId'? Type 'no' for no filtering or 'yes' to select a customer: \").strip().lower()\n",
    "    \n",
    "    if filter_customer == 'yes':\n",
    "        # List available CustomerIds and allow the user to select one\n",
    "        unique_customers = df1_item['CustomerId'].unique()\n",
    "        print(\"\\nAvailable Customers:\")\n",
    "        for idx, customer in enumerate(unique_customers, start=1):\n",
    "            print(f\"{idx}. {customer}\")\n",
    "        \n",
    "        customer_choice = int(input(\"\\nSelect the number corresponding to the CustomerId you want to filter by: \")) - 1\n",
    "        selected_customer = unique_customers[customer_choice]\n",
    "        df1_item = df1_item[df1_item['CustomerId'] == selected_customer]\n",
    "        print(f\"Filtering by CustomerId: {selected_customer}\")\n",
    "    else:\n",
    "        print(\"No filtering by CustomerId.\")\n",
    "\n",
    "    # Ask whether to filter by CurrentSalesPersonId\n",
    "    filter_salesperson = input(\"Would you like to filter by 'CurrentSalesPersonId'? Type 'no' for no filtering or 'yes' to select a salesperson: \").strip().lower()\n",
    "    \n",
    "    if filter_salesperson == 'yes':\n",
    "        # List available SalesPersonIds and allow the user to select one\n",
    "        unique_salespersons = df1_item['CurrentSalesPersonId'].unique()\n",
    "        print(\"\\nAvailable SalesPersons:\")\n",
    "        for idx, salesperson in enumerate(unique_salespersons, start=1):\n",
    "            print(f\"{idx}. {salesperson}\")\n",
    "        \n",
    "        salesperson_choice = int(input(\"\\nSelect the number corresponding to the SalesPersonId you want to filter by: \")) - 1\n",
    "        selected_salesperson = unique_salespersons[salesperson_choice]\n",
    "        df1_item = df1_item[df1_item['CurrentSalesPersonId'] == selected_salesperson]\n",
    "        print(f\"Filtering by SalesPersonId: {selected_salesperson}\")\n",
    "    else:\n",
    "        print(\"No filtering by CurrentSalesPersonId.\")\n",
    "\n",
    "    # Ask whether to filter by LocationId\n",
    "    filter_location = input(\"Would you like to filter by 'LocationId'? Type 'no' for no filtering or 'yes' to select a location: \").strip().lower()\n",
    "    \n",
    "    if filter_location == 'yes':\n",
    "        # List available LocationIds and allow the user to select one\n",
    "        unique_locations = df1_item['LocationId'].unique()\n",
    "        print(\"\\nAvailable Locations:\")\n",
    "        for idx, location in enumerate(unique_locations, start=1):\n",
    "            print(f\"{idx}. {location}\")\n",
    "        \n",
    "        location_choice = int(input(\"\\nSelect the number corresponding to the LocationId you want to filter by: \")) - 1\n",
    "        selected_location = unique_locations[location_choice]\n",
    "        df1_item = df1_item[df1_item['LocationId'] == selected_location]\n",
    "        print(f\"Filtering by LocationId: {selected_location}\")\n",
    "    else:\n",
    "        print(\"No filtering by LocationId.\")\n",
    "    \n",
    "    return df1_item\n"
   ]
  },
  {
   "cell_type": "code",
   "execution_count": 476,
   "id": "6f1b4b6b-06af-4eee-812a-963830367b0a",
   "metadata": {},
   "outputs": [
    {
     "data": {
      "text/html": [
       "<div>\n",
       "<style scoped>\n",
       "    .dataframe tbody tr th:only-of-type {\n",
       "        vertical-align: middle;\n",
       "    }\n",
       "\n",
       "    .dataframe tbody tr th {\n",
       "        vertical-align: top;\n",
       "    }\n",
       "\n",
       "    .dataframe thead th {\n",
       "        text-align: right;\n",
       "    }\n",
       "</style>\n",
       "<table border=\"1\" class=\"dataframe\">\n",
       "  <thead>\n",
       "    <tr style=\"text-align: right;\">\n",
       "      <th></th>\n",
       "      <th>InvoiceNumber</th>\n",
       "      <th>LineNumber</th>\n",
       "      <th>InvoiceDate</th>\n",
       "      <th>ReqDate</th>\n",
       "      <th>SalesOrderType</th>\n",
       "      <th>TransactionType</th>\n",
       "      <th>RevenueAccount</th>\n",
       "      <th>RevenueAccountDesc</th>\n",
       "      <th>RevenueAccountType</th>\n",
       "      <th>RevenueAccountTerm</th>\n",
       "      <th>...</th>\n",
       "      <th>ItemClass</th>\n",
       "      <th>LastCostPaid</th>\n",
       "      <th>AverageCost</th>\n",
       "      <th>StandardCost</th>\n",
       "      <th>ClassDescription</th>\n",
       "      <th>CommCodeDescription</th>\n",
       "      <th>ProdLineDescription</th>\n",
       "      <th>MonthsUntilExpired</th>\n",
       "      <th>BusinessUnit</th>\n",
       "      <th>StockUoM</th>\n",
       "    </tr>\n",
       "  </thead>\n",
       "  <tbody>\n",
       "    <tr>\n",
       "      <th>0</th>\n",
       "      <td>85757</td>\n",
       "      <td>16</td>\n",
       "      <td>2016-07-01</td>\n",
       "      <td>NaN</td>\n",
       "      <td>NaN</td>\n",
       "      <td>Invoiced/Voided Order</td>\n",
       "      <td>NaN</td>\n",
       "      <td>NaN</td>\n",
       "      <td>NaN</td>\n",
       "      <td>NaN</td>\n",
       "      <td>...</td>\n",
       "      <td>5199</td>\n",
       "      <td>0.00000</td>\n",
       "      <td>0.00000</td>\n",
       "      <td>0.00</td>\n",
       "      <td>FG Pallet Sales                               ...</td>\n",
       "      <td>No Comm Code Assigned</td>\n",
       "      <td>Pallet Sales                                  ...</td>\n",
       "      <td>0.0</td>\n",
       "      <td>Flooring</td>\n",
       "      <td>EA</td>\n",
       "    </tr>\n",
       "    <tr>\n",
       "      <th>1</th>\n",
       "      <td>90912</td>\n",
       "      <td>28</td>\n",
       "      <td>2016-12-16</td>\n",
       "      <td>NaN</td>\n",
       "      <td>NaN</td>\n",
       "      <td>Invoiced/Voided Order</td>\n",
       "      <td>NaN</td>\n",
       "      <td>NaN</td>\n",
       "      <td>NaN</td>\n",
       "      <td>NaN</td>\n",
       "      <td>...</td>\n",
       "      <td>5199</td>\n",
       "      <td>0.00000</td>\n",
       "      <td>0.00000</td>\n",
       "      <td>0.00</td>\n",
       "      <td>FG Pallet Sales                               ...</td>\n",
       "      <td>No Comm Code Assigned</td>\n",
       "      <td>Pallet Sales                                  ...</td>\n",
       "      <td>0.0</td>\n",
       "      <td>Flooring</td>\n",
       "      <td>EA</td>\n",
       "    </tr>\n",
       "    <tr>\n",
       "      <th>2</th>\n",
       "      <td>92476</td>\n",
       "      <td>16</td>\n",
       "      <td>2017-02-09</td>\n",
       "      <td>2/13/17</td>\n",
       "      <td>Normal</td>\n",
       "      <td>Invoiced/Voided Order</td>\n",
       "      <td>NaN</td>\n",
       "      <td>NaN</td>\n",
       "      <td>NaN</td>\n",
       "      <td>NaN</td>\n",
       "      <td>...</td>\n",
       "      <td>5100</td>\n",
       "      <td>20.71780</td>\n",
       "      <td>22.81510</td>\n",
       "      <td>14.42</td>\n",
       "      <td>FG Latex Adhesive                             ...</td>\n",
       "      <td>Steadfast - Clear Thin Spread VCT Adhesive    ...</td>\n",
       "      <td>Latex Distributor Sales                       ...</td>\n",
       "      <td>365.0</td>\n",
       "      <td>Flooring</td>\n",
       "      <td>CTN-1</td>\n",
       "    </tr>\n",
       "    <tr>\n",
       "      <th>3</th>\n",
       "      <td>92476</td>\n",
       "      <td>28</td>\n",
       "      <td>2017-02-09</td>\n",
       "      <td>2/13/17</td>\n",
       "      <td>Normal</td>\n",
       "      <td>Invoiced/Voided Order</td>\n",
       "      <td>NaN</td>\n",
       "      <td>NaN</td>\n",
       "      <td>NaN</td>\n",
       "      <td>NaN</td>\n",
       "      <td>...</td>\n",
       "      <td>5100</td>\n",
       "      <td>15.30572</td>\n",
       "      <td>15.98697</td>\n",
       "      <td>0.00</td>\n",
       "      <td>FG Latex Adhesive                             ...</td>\n",
       "      <td>900 - Contract Grade Flooring Adhesive        ...</td>\n",
       "      <td>Latex Distributor Sales                       ...</td>\n",
       "      <td>365.0</td>\n",
       "      <td>Flooring</td>\n",
       "      <td>EA-4</td>\n",
       "    </tr>\n",
       "    <tr>\n",
       "      <th>4</th>\n",
       "      <td>102400</td>\n",
       "      <td>16</td>\n",
       "      <td>2017-11-30</td>\n",
       "      <td>11/21/17</td>\n",
       "      <td>Normal</td>\n",
       "      <td>Invoiced/Voided Order</td>\n",
       "      <td>NaN</td>\n",
       "      <td>NaN</td>\n",
       "      <td>NaN</td>\n",
       "      <td>NaN</td>\n",
       "      <td>...</td>\n",
       "      <td>5142</td>\n",
       "      <td>40.66792</td>\n",
       "      <td>2.54175</td>\n",
       "      <td>0.00</td>\n",
       "      <td>FG Meta-Tec Adhesives                         ...</td>\n",
       "      <td>Pinnacle - Hard-Set Transitional PSA          ...</td>\n",
       "      <td>Meta-Tec Adhesives                            ...</td>\n",
       "      <td>365.0</td>\n",
       "      <td>Flooring</td>\n",
       "      <td>CTN-1</td>\n",
       "    </tr>\n",
       "  </tbody>\n",
       "</table>\n",
       "<p>5 rows × 61 columns</p>\n",
       "</div>"
      ],
      "text/plain": [
       "   InvoiceNumber  LineNumber InvoiceDate   ReqDate SalesOrderType  \\\n",
       "0          85757          16  2016-07-01       NaN            NaN   \n",
       "1          90912          28  2016-12-16       NaN            NaN   \n",
       "2          92476          16  2017-02-09   2/13/17         Normal   \n",
       "3          92476          28  2017-02-09   2/13/17         Normal   \n",
       "4         102400          16  2017-11-30  11/21/17         Normal   \n",
       "\n",
       "         TransactionType RevenueAccount  RevenueAccountDesc  \\\n",
       "0  Invoiced/Voided Order            NaN                 NaN   \n",
       "1  Invoiced/Voided Order            NaN                 NaN   \n",
       "2  Invoiced/Voided Order            NaN                 NaN   \n",
       "3  Invoiced/Voided Order            NaN                 NaN   \n",
       "4  Invoiced/Voided Order            NaN                 NaN   \n",
       "\n",
       "   RevenueAccountType  RevenueAccountTerm  ...  ItemClass  LastCostPaid  \\\n",
       "0                 NaN                 NaN  ...     5199         0.00000   \n",
       "1                 NaN                 NaN  ...     5199         0.00000   \n",
       "2                 NaN                 NaN  ...     5100        20.71780   \n",
       "3                 NaN                 NaN  ...     5100        15.30572   \n",
       "4                 NaN                 NaN  ...     5142        40.66792   \n",
       "\n",
       "  AverageCost  StandardCost  \\\n",
       "0     0.00000          0.00   \n",
       "1     0.00000          0.00   \n",
       "2    22.81510         14.42   \n",
       "3    15.98697          0.00   \n",
       "4     2.54175          0.00   \n",
       "\n",
       "                                    ClassDescription  \\\n",
       "0  FG Pallet Sales                               ...   \n",
       "1  FG Pallet Sales                               ...   \n",
       "2  FG Latex Adhesive                             ...   \n",
       "3  FG Latex Adhesive                             ...   \n",
       "4  FG Meta-Tec Adhesives                         ...   \n",
       "\n",
       "                                 CommCodeDescription  \\\n",
       "0                              No Comm Code Assigned   \n",
       "1                              No Comm Code Assigned   \n",
       "2  Steadfast - Clear Thin Spread VCT Adhesive    ...   \n",
       "3  900 - Contract Grade Flooring Adhesive        ...   \n",
       "4  Pinnacle - Hard-Set Transitional PSA          ...   \n",
       "\n",
       "                                 ProdLineDescription  MonthsUntilExpired  \\\n",
       "0  Pallet Sales                                  ...                 0.0   \n",
       "1  Pallet Sales                                  ...                 0.0   \n",
       "2  Latex Distributor Sales                       ...               365.0   \n",
       "3  Latex Distributor Sales                       ...               365.0   \n",
       "4  Meta-Tec Adhesives                            ...               365.0   \n",
       "\n",
       "   BusinessUnit StockUoM  \n",
       "0      Flooring   EA      \n",
       "1      Flooring   EA      \n",
       "2      Flooring   CTN-1   \n",
       "3      Flooring   EA-4    \n",
       "4      Flooring   CTN-1   \n",
       "\n",
       "[5 rows x 61 columns]"
      ]
     },
     "execution_count": 476,
     "metadata": {},
     "output_type": "execute_result"
    }
   ],
   "source": [
    "df1_item.head()"
   ]
  },
  {
   "cell_type": "code",
   "execution_count": 478,
   "id": "830c71c6-c8b8-44da-b66b-03f93e54d14f",
   "metadata": {},
   "outputs": [
    {
     "name": "stdout",
     "output_type": "stream",
     "text": [
      "Index(['InvoiceNumber', 'LineNumber', 'InvoiceDate', 'ReqDate',\n",
      "       'SalesOrderType', 'TransactionType', 'RevenueAccount',\n",
      "       'RevenueAccountDesc', 'RevenueAccountType', 'RevenueAccountTerm',\n",
      "       'RevenueAccountCategory', 'RevenueAccountTypeCode', 'COGSAccount',\n",
      "       'CostAccountDesc', 'CostAccountType', 'CostAccountTerm',\n",
      "       'CostAccountCategory', 'CostAccountTypeCode', 'EntityCode',\n",
      "       'CustomerId', 'CustomerShipToKey', 'SalesPersonId',\n",
      "       'CurrentSalesPersonId', 'DealerNumber', 'LocationId', 'ItemId',\n",
      "       'DiscountPercent', 'DiscountAmount', 'glsale', 'glasst',\n",
      "       'UnitOfMeasure', 'arstat', 'QuantityShipped', 'price', 'RevenueAmount',\n",
      "       'UnitCost', 'CostAmount', 'PricePerGallon', 'CostPerGallon',\n",
      "       'WeightPerUnit', 'PricePerLB', 'CostPerLB', 'QtyInGallons',\n",
      "       'MaterialMargin', 'MaterialMarginPercent', 'TAMId', 'IsInFull',\n",
      "       'IsOnTime', 'InvMonth', 'InvYear', 'ItemDescription', 'ItemClass',\n",
      "       'LastCostPaid', 'AverageCost', 'StandardCost', 'ClassDescription',\n",
      "       'CommCodeDescription', 'ProdLineDescription', 'MonthsUntilExpired',\n",
      "       'BusinessUnit', 'StockUoM'],\n",
      "      dtype='object')\n"
     ]
    }
   ],
   "source": [
    "print(df1_item.columns)"
   ]
  },
  {
   "cell_type": "code",
   "execution_count": 480,
   "id": "8dc3abfd-a749-430e-a08d-0ca9fe55849b",
   "metadata": {},
   "outputs": [],
   "source": [
    "def main(df1_item):\n",
    "    \"\"\"Main function to run the forecasting and save to Excel with metadata.\"\"\"\n",
    "    \n",
    "    # Ask user if they want the full 18-month forecast or a single forecast\n",
    "    forecast_option = input(\"Would you like to generate the 'full' 18-month forecast or a 'single' forecast? (Enter 'full' or 'single'): \").strip().lower()\n",
    "\n",
    "    if forecast_option == 'full':\n",
    "        try:\n",
    "            unique_combinations = df1_item[['ItemId', 'LocationId']].drop_duplicates()\n",
    "            wb = Workbook()\n",
    "            ws = wb.active\n",
    "            ws.title = \"Forecast Data\"\n",
    "            \n",
    "            headers = [\"Part Number\", \"Location\", \"Type\", \"Model\", \"Month\", \"Value\"]\n",
    "            ws.append(headers)\n",
    "\n",
    "            for _, row in unique_combinations.iterrows():\n",
    "                item_id = row['ItemId']\n",
    "                location_id = row['LocationId']\n",
    "                data_subset = df1_item[(df1_item['ItemId'] == item_id) & (df1_item['LocationId'] == location_id)]\n",
    "                \n",
    "                if data_subset.empty:\n",
    "                    print(f\"No data available for Part Number {item_id} at Location {location_id}. Skipping.\")\n",
    "                    continue\n",
    "\n",
    "                data_subset = data_subset.drop_duplicates(subset=['InvoiceDate'])\n",
    "                for _, actual_row in data_subset.iterrows():\n",
    "                    if pd.notnull(actual_row['InvoiceDate']):\n",
    "                        month_value = actual_row['InvoiceDate'].strftime('%Y-%m')\n",
    "                    else:\n",
    "                        month_value = \"Unknown Date\"\n",
    "                    \n",
    "                    ws.append([item_id, location_id, \"Actuals\", \"\", month_value, actual_row['RevenueAmount']])\n",
    "\n",
    "                steps = 18\n",
    "                if len(data_subset) < 3:\n",
    "                    forecast = forecast_moving_average(data_subset, steps=steps)\n",
    "                    model_name = \"Moving Average\"\n",
    "                else:\n",
    "                    best_model, forecast, metrics = forecasting_pipeline(data_subset, steps=steps)\n",
    "                    model_name = best_model if best_model else \"Moving Average\"\n",
    "                    \n",
    "                    if forecast is None:\n",
    "                        forecast = forecast_moving_average(data_subset, steps=steps)\n",
    "                        model_name = \"Moving Average\"\n",
    "                        if forecast is None:\n",
    "                            print(f\"Insufficient data to forecast for Part Number {item_id} at Location {location_id}. Skipping.\")\n",
    "                            continue\n",
    "\n",
    "                # Verify that forecast is not None before proceeding\n",
    "                if forecast is not None:\n",
    "                    for month, value in enumerate(forecast, start=1):\n",
    "                        ws.append([item_id, location_id, \"Forecast\", model_name, f\"Month_{month}\", value])\n",
    "\n",
    "            output_file = './part_numbers_18_month_forecast.xlsx'\n",
    "            wb.save(output_file)\n",
    "            print(f\"Full 18-month forecast Excel spreadsheet created successfully: {output_file}\")\n",
    "\n",
    "        except Exception as e:\n",
    "            print(f\"An error occurred while creating the Excel spreadsheet for the full forecast: {e}\")\n",
    "        return\n",
    "           \n",
    "    elif forecast_option == 'single':\n",
    "        # The existing single forecast implementation remains unchanged\n",
    "        forecast_by = input(\"Would you like to forecast by 'ItemId' or 'ProdLineDescription'? \").strip()\n",
    "\n",
    "        if forecast_by not in ['ItemId', 'ProdLineDescription']:\n",
    "            print(\"Invalid input. Please choose 'ItemId' or 'ProdLineDescription'.\")\n",
    "            return\n",
    "\n",
    "        df1_item['InvoiceDate'] = pd.to_datetime(df1_item['InvoiceDate'])\n",
    "\n",
    "        # Filter options\n",
    "        filter_by_customer = input(\"Would you like to filter by 'CustomerId'? (yes/no): \").strip().lower()\n",
    "        if filter_by_customer == 'yes':\n",
    "            customer_ids = df1_item['CustomerId'].unique()\n",
    "            print(\"Available Customers:\")\n",
    "            for idx, customer in enumerate(customer_ids, start=1):\n",
    "                print(f\"{idx}. {customer}\")\n",
    "            customer_choice = int(input(\"Select the number corresponding to the Customer: \")) - 1\n",
    "            if customer_choice < 0 or customer_choice >= len(customer_ids):\n",
    "                print(\"Invalid selection.\")\n",
    "                return\n",
    "            selected_customer = customer_ids[customer_choice]\n",
    "            df1_item = df1_item[df1_item['CustomerId'] == selected_customer]\n",
    "        else:\n",
    "            selected_customer = 'None'\n",
    "\n",
    "        filter_by_salesperson = input(\"Would you like to filter by 'CurrentSalesPersonId'? (yes/no): \").strip().lower()\n",
    "        if filter_by_salesperson == 'yes':\n",
    "            salesperson_ids = df1_item['CurrentSalesPersonId'].unique()\n",
    "            print(\"Available Salespersons:\")\n",
    "            for idx, salesperson in enumerate(salesperson_ids, start=1):\n",
    "                print(f\"{idx}. {salesperson}\")\n",
    "            salesperson_choice = int(input(\"Select the number corresponding to the Salesperson: \")) - 1\n",
    "            if salesperson_choice < 0 or salesperson_choice >= len(salesperson_ids):\n",
    "                print(\"Invalid selection.\")\n",
    "                return\n",
    "            selected_salesperson = salesperson_ids[salesperson_choice]\n",
    "            df1_item = df1_item[df1_item['CurrentSalesPersonId'] == selected_salesperson]\n",
    "        else:\n",
    "            selected_salesperson = 'None'\n",
    "\n",
    "        filter_by_location = input(\"Would you like to filter by 'LocationId'? (yes/no): \").strip().lower()\n",
    "        if filter_by_location == 'yes':\n",
    "            location_ids = df1_item['LocationId'].unique()\n",
    "            print(\"Available Locations:\")\n",
    "            for idx, location in enumerate(location_ids, start=1):\n",
    "                print(f\"{idx}. {location}\")\n",
    "            location_choice = int(input(\"Select the number corresponding to the Location: \")) - 1\n",
    "            if location_choice < 0 or location_choice >= len(location_ids):\n",
    "                print(\"Invalid selection.\")\n",
    "                return\n",
    "            selected_location = location_ids[location_choice]\n",
    "            df1_item = df1_item[df1_item['LocationId'] == selected_location]\n",
    "        else:\n",
    "            selected_location = 'None'\n",
    "\n",
    "        aggregated_data = aggregate_data(df1_item, forecast_by)\n",
    "        unique_items = aggregated_data[forecast_by].unique()\n",
    "\n",
    "        print(f\"\\nAvailable {forecast_by}s:\")\n",
    "        for idx, item in enumerate(unique_items, start=1):\n",
    "            print(f\"{idx}. {item}\")\n",
    "\n",
    "        item_choice = int(input(f\"\\nSelect the number corresponding to the {forecast_by} you want to forecast: \")) - 1\n",
    "        if item_choice < 0 or item_choice >= len(unique_items):\n",
    "            print(\"Invalid selection.\")\n",
    "            return\n",
    "\n",
    "        selected_item = unique_items[item_choice]\n",
    "        print(f\"\\nYou selected: {selected_item}\")\n",
    "\n",
    "        steps = int(input(\"Enter the number of periods (days/weeks/months) to forecast (e.g., 30, 60, 90): \"))\n",
    "        freq = input(\"Enter the frequency of the forecast ('D' for days, 'W' for weeks, 'M' for months): \").strip().upper()\n",
    "        group_data = aggregated_data[aggregated_data[forecast_by] == selected_item]\n",
    "\n",
    "        if group_data.empty:\n",
    "            print(f\"No data found for {selected_item}.\")\n",
    "            return\n",
    "\n",
    "        print(f\"\\nForecasting for {forecast_by}: {selected_item}\")\n",
    "\n",
    "        most_recent_date = group_data['InvoiceDate'].max()\n",
    "        forecast_index = pd.date_range(start=most_recent_date + pd.Timedelta(days=1), periods=steps, freq=freq)\n",
    "        best_model, final_forecast, metrics = forecasting_pipeline(group_data, steps=steps)\n",
    "\n",
    "        if best_model:\n",
    "            print(f\"Best Model: {best_model}\")\n",
    "            print(\"Metrics:\", metrics)\n",
    "\n",
    "            forecast_df = pd.DataFrame({'Forecasted Revenue': final_forecast}, index=forecast_index)\n",
    "            existing_data = group_data[['InvoiceDate', 'RevenueAmount']].rename(columns={'RevenueAmount': 'Actual Revenue'})\n",
    "            combined_df = pd.concat([existing_data.set_index('InvoiceDate'), forecast_df])\n",
    "\n",
    "            metadata_string = (\n",
    "                f\"Selected Item: {selected_item} | \"\n",
    "                f\"Customer Filter: {selected_customer} | \"\n",
    "                f\"SalesPerson Filter: {selected_salesperson} | \"\n",
    "                f\"Location Filter: {selected_location}\"\n",
    "            )\n",
    "\n",
    "            metadata_df = pd.DataFrame({0: [metadata_string]})\n",
    "            combined_df_with_metadata = pd.concat([metadata_df, combined_df])\n",
    "\n",
    "            download_excel = input(\"Would you like to download the forecast data as an Excel file? (yes/no): \").strip().lower()\n",
    "            if download_excel == 'yes':\n",
    "                excel_filename = f\"{selected_item}_forecast.xlsx\"\n",
    "                with pd.ExcelWriter(excel_filename, engine='openpyxl') as writer:\n",
    "                    metadata_df.to_excel(writer, index=False, header=False, startrow=0, startcol=0)\n",
    "                    combined_df.to_excel(writer, startrow=1)\n",
    "                print(f\"Data saved to {excel_filename}.\")\n",
    "            else:\n",
    "                print(\"Excel download skipped.\")\n",
    "                \n",
    "        try:\n",
    "            print(\"Plotting forecast results...\")\n",
    "            print(\"Actual dates range:\", group_data['InvoiceDate'].min(), \"-\", group_data['InvoiceDate'].max())\n",
    "            print(\"Forecast dates range:\", forecast_index.min(), \"-\", forecast_index.max())\n",
    "            print(\"Actual data length:\", len(group_data['RevenueAmount']))\n",
    "            print(\"Forecast data length:\", len(final_forecast))\n",
    "\n",
    "            plt.figure(figsize=(12, 6))\n",
    "            plt.plot(group_data['InvoiceDate'], group_data['RevenueAmount'], label='Actual Revenue', color='blue')\n",
    "            plt.plot(forecast_index, final_forecast, label='Forecasted Revenue', color='orange')\n",
    "            plt.title(f\"Forecasting Revenue for {selected_item}\")\n",
    "            plt.xlabel('Date')\n",
    "            plt.ylabel('Revenue Amount')\n",
    "            plt.xticks(rotation=45)\n",
    "            plt.legend()\n",
    "            plt.tight_layout()\n",
    "            plt.show()\n",
    "\n",
    "        except Exception as e:\n",
    "            print(f\"Error while plotting: {e}\")\n",
    "\n",
    "        if best_model:\n",
    "            print(f\"Best Model: {best_model}\")\n",
    "        else:\n",
    "            print(\"No valid model was generated.\")\n"
   ]
  },
  {
   "cell_type": "code",
   "execution_count": null,
   "id": "052e05c2-0ac0-4fb9-84f5-0bb68e6fd25a",
   "metadata": {},
   "outputs": [
    {
     "name": "stdin",
     "output_type": "stream",
     "text": [
      "Would you like to generate the 'full' 18-month forecast or a 'single' forecast? (Enter 'full' or 'single'):  full\n"
     ]
    },
    {
     "name": "stdout",
     "output_type": "stream",
     "text": [
      "Not enough data to split into train and test.\n",
      "Not enough data to split into train and test.\n",
      "Not enough data to split into train and test.\n",
      "Not enough data to split into train and test.\n",
      "Not enough data to split into train and test.\n",
      "Not enough data to split into train and test.\n",
      "Not enough data to split into train and test.\n",
      "Not enough data to split into train and test.\n",
      "Not enough data to split into train and test.\n",
      "Not enough data to split into train and test.\n",
      "Not enough data to split into train and test.\n",
      "Not enough data to split into train and test.\n",
      "Not enough data to split into train and test.\n",
      "Not enough data to split into train and test.\n",
      "Not enough data to split into train and test.\n",
      "Not enough data to split into train and test.\n",
      "Not enough data to split into train and test.\n",
      "Not enough data to split into train and test.\n",
      "Not enough data to split into train and test.\n",
      "Not enough data to split into train and test.\n",
      "Not enough data to split into train and test.\n",
      "Not enough data to split into train and test.\n",
      "Not enough data to split into train and test.\n",
      "Not enough data to split into train and test.\n",
      "Not enough data to split into train and test.\n",
      "Not enough data to split into train and test.\n",
      "Not enough data to split into train and test.\n",
      "Not enough data to split into train and test.\n",
      "Not enough data to split into train and test.\n",
      "Not enough data to split into train and test.\n",
      "Not enough data to split into train and test.\n",
      "Not enough data to split into train and test.\n",
      "Not enough data to split into train and test.\n",
      "Not enough data to split into train and test.\n",
      "Not enough data to split into train and test.\n",
      "Not enough data to split into train and test.\n",
      "Not enough data to split into train and test.\n",
      "Not enough data to split into train and test.\n",
      "Not enough data to split into train and test.\n",
      "Not enough data to split into train and test.\n",
      "Not enough data to split into train and test.\n",
      "Not enough data to split into train and test.\n",
      "Not enough data to split into train and test.\n",
      "Not enough data to split into train and test.\n",
      "Not enough data to split into train and test.\n",
      "Not enough data to split into train and test.\n",
      "Not enough data to split into train and test.\n",
      "Not enough data to split into train and test.\n",
      "Not enough data to split into train and test.\n",
      "Not enough data to split into train and test.\n",
      "Not enough data to split into train and test.\n",
      "Not enough data to split into train and test.\n",
      "Not enough data to split into train and test.\n",
      "Not enough data to split into train and test.\n",
      "Not enough data to split into train and test.\n",
      "Not enough data to split into train and test.\n",
      "Not enough data to split into train and test.\n",
      "Not enough data to split into train and test.\n",
      "Not enough data to split into train and test.\n",
      "Not enough data to split into train and test.\n",
      "Not enough data to split into train and test.\n",
      "Not enough data to split into train and test.\n",
      "Not enough data to split into train and test.\n",
      "Not enough data to split into train and test.\n",
      "Not enough data to split into train and test.\n",
      "Not enough data to split into train and test.\n",
      "Not enough data to split into train and test.\n",
      "Not enough data to split into train and test.\n",
      "Not enough data to split into train and test.\n",
      "Not enough data to split into train and test.\n",
      "Not enough data to split into train and test.\n",
      "Not enough data to split into train and test.\n",
      "Not enough data to split into train and test.\n",
      "Not enough data to split into train and test.\n",
      "Not enough data to split into train and test.\n",
      "Not enough data to split into train and test.\n",
      "Not enough data to split into train and test.\n",
      "Not enough data to split into train and test.\n",
      "Not enough data to split into train and test.\n",
      "Not enough data to split into train and test.\n",
      "Not enough data to split into train and test.\n",
      "Not enough data to split into train and test.\n",
      "Not enough data to split into train and test.\n",
      "Not enough data to split into train and test.\n",
      "Not enough data to split into train and test.\n",
      "Not enough data to split into train and test.\n",
      "Not enough data to split into train and test.\n",
      "Not enough data to split into train and test.\n",
      "Not enough data to split into train and test.\n",
      "Not enough data to split into train and test.\n",
      "Not enough data to split into train and test.\n",
      "Not enough data to split into train and test.\n",
      "Not enough data to split into train and test.\n",
      "Not enough data to split into train and test.\n",
      "Not enough data to split into train and test.\n",
      "Not enough data to split into train and test.\n",
      "Not enough data to split into train and test.\n",
      "Not enough data to split into train and test.\n",
      "Not enough data to split into train and test.\n",
      "Not enough data to split into train and test.\n",
      "Not enough data to split into train and test.\n",
      "Not enough data to split into train and test.\n",
      "Not enough data to split into train and test.\n",
      "Not enough data to split into train and test.\n",
      "Not enough data to split into train and test.\n",
      "Not enough data to split into train and test.\n",
      "Not enough data to split into train and test.\n",
      "Not enough data to split into train and test.\n",
      "Not enough data to split into train and test.\n",
      "Not enough data to split into train and test.\n",
      "Not enough data to split into train and test.\n",
      "Not enough data to split into train and test.\n",
      "Not enough data to split into train and test.\n",
      "Not enough data to split into train and test.\n",
      "Not enough data to split into train and test.\n",
      "Not enough data to split into train and test.\n",
      "Not enough data to split into train and test.\n",
      "Not enough data to split into train and test.\n",
      "Not enough data to split into train and test.\n",
      "Not enough data to split into train and test.\n",
      "Not enough data to split into train and test.\n",
      "Not enough data to split into train and test.\n",
      "Not enough data to split into train and test.\n",
      "Not enough data to split into train and test.\n",
      "Not enough data to split into train and test.\n",
      "Not enough data to split into train and test.\n",
      "Not enough data to split into train and test.\n",
      "Not enough data to split into train and test.\n",
      "Not enough data to split into train and test.\n",
      "Not enough data to split into train and test.\n",
      "Not enough data to split into train and test.\n",
      "Not enough data to split into train and test.\n",
      "Not enough data to split into train and test.\n",
      "Not enough data to split into train and test.\n",
      "Not enough data to split into train and test.\n",
      "Not enough data to split into train and test.\n",
      "Not enough data to split into train and test.\n",
      "Not enough data to split into train and test.\n",
      "Not enough data to split into train and test.\n",
      "Not enough data to split into train and test.\n",
      "Insufficient data to forecast for Part Number JGUARD-100|7 at Location 010|7. Skipping.\n",
      "Not enough data to split into train and test.\n",
      "Not enough data to split into train and test.\n",
      "Not enough data to split into train and test.\n",
      "Not enough data to split into train and test.\n",
      "Not enough data to split into train and test.\n",
      "Not enough data to split into train and test.\n",
      "Not enough data to split into train and test.\n",
      "Not enough data to split into train and test.\n",
      "Not enough data to split into train and test.\n",
      "Not enough data to split into train and test.\n",
      "Not enough data to split into train and test.\n",
      "Not enough data to split into train and test.\n",
      "Not enough data to split into train and test.\n",
      "Not enough data to split into train and test.\n",
      "Not enough data to split into train and test.\n",
      "Not enough data to split into train and test.\n",
      "Not enough data to split into train and test.\n",
      "Not enough data to split into train and test.\n",
      "Not enough data to split into train and test.\n",
      "Not enough data to split into train and test.\n",
      "Not enough data to split into train and test.\n",
      "Not enough data to split into train and test.\n",
      "Not enough data to split into train and test.\n",
      "Not enough data to split into train and test.\n",
      "Not enough data to split into train and test.\n",
      "Not enough data to split into train and test.\n",
      "Not enough data to split into train and test.\n",
      "Not enough data to split into train and test.\n",
      "Not enough data to split into train and test.\n",
      "Not enough data to split into train and test.\n",
      "Not enough data to split into train and test.\n",
      "Not enough data to split into train and test.\n",
      "Not enough data to split into train and test.\n",
      "Not enough data to split into train and test.\n",
      "Not enough data to split into train and test.\n",
      "Not enough data to split into train and test.\n"
     ]
    },
    {
     "name": "stderr",
     "output_type": "stream",
     "text": [
      "/var/folders/8l/psd7bpq137j_d5v8d7ntz0200000gn/T/ipykernel_27318/2411138453.py:28: FutureWarning: Downcasting object dtype arrays on .fillna, .ffill, .bfill is deprecated and will change in a future version. Call result.infer_objects(copy=False) instead. To opt-in to the future behavior, set `pd.set_option('future.no_silent_downcasting', True)`\n",
      "  group_df.ffill(inplace=True)  # Fill missing values with forward fill\n"
     ]
    },
    {
     "name": "stdout",
     "output_type": "stream",
     "text": [
      "Not enough data to split into train and test.\n",
      "Not enough data to split into train and test.\n",
      "Not enough data to split into train and test.\n",
      "Not enough data to split into train and test.\n"
     ]
    },
    {
     "name": "stderr",
     "output_type": "stream",
     "text": [
      "/var/folders/8l/psd7bpq137j_d5v8d7ntz0200000gn/T/ipykernel_27318/2411138453.py:28: FutureWarning: Downcasting object dtype arrays on .fillna, .ffill, .bfill is deprecated and will change in a future version. Call result.infer_objects(copy=False) instead. To opt-in to the future behavior, set `pd.set_option('future.no_silent_downcasting', True)`\n",
      "  group_df.ffill(inplace=True)  # Fill missing values with forward fill\n"
     ]
    },
    {
     "name": "stdout",
     "output_type": "stream",
     "text": [
      "Not enough data to split into train and test.\n",
      "Not enough data to split into train and test.\n",
      "Not enough data to split into train and test.\n",
      "Not enough data to split into train and test.\n",
      "Not enough data to split into train and test.\n",
      "Not enough data to split into train and test.\n",
      "Not enough data to split into train and test.\n",
      "Not enough data to split into train and test.\n",
      "Not enough data to split into train and test.\n",
      "Not enough data to split into train and test.\n",
      "Not enough data to split into train and test.\n",
      "Not enough data to split into train and test.\n",
      "Not enough data to split into train and test.\n"
     ]
    },
    {
     "name": "stderr",
     "output_type": "stream",
     "text": [
      "/var/folders/8l/psd7bpq137j_d5v8d7ntz0200000gn/T/ipykernel_27318/2411138453.py:28: FutureWarning: Downcasting object dtype arrays on .fillna, .ffill, .bfill is deprecated and will change in a future version. Call result.infer_objects(copy=False) instead. To opt-in to the future behavior, set `pd.set_option('future.no_silent_downcasting', True)`\n",
      "  group_df.ffill(inplace=True)  # Fill missing values with forward fill\n"
     ]
    },
    {
     "name": "stdout",
     "output_type": "stream",
     "text": [
      "Not enough data to split into train and test.\n",
      "Not enough data to split into train and test.\n",
      "Not enough data to split into train and test.\n",
      "Not enough data to split into train and test.\n",
      "Not enough data to split into train and test.\n",
      "Not enough data to split into train and test.\n",
      "Not enough data to split into train and test.\n",
      "Not enough data to split into train and test.\n",
      "Not enough data to split into train and test.\n",
      "Not enough data to split into train and test.\n",
      "Not enough data to split into train and test.\n",
      "Not enough data to split into train and test.\n",
      "Not enough data to split into train and test.\n",
      "Not enough data to split into train and test.\n",
      "Not enough data to split into train and test.\n",
      "Not enough data to split into train and test.\n",
      "Not enough data to split into train and test.\n",
      "Not enough data to split into train and test.\n",
      "Not enough data to split into train and test.\n",
      "Not enough data to split into train and test.\n",
      "Not enough data to split into train and test.\n",
      "Not enough data to split into train and test.\n",
      "Not enough data to split into train and test.\n",
      "Not enough data to split into train and test.\n",
      "Not enough data to split into train and test.\n",
      "Not enough data to split into train and test.\n",
      "Not enough data to split into train and test.\n",
      "Not enough data to split into train and test.\n",
      "Not enough data to split into train and test.\n",
      "Not enough data to split into train and test.\n",
      "Not enough data to split into train and test.\n",
      "Not enough data to split into train and test.\n",
      "Not enough data to split into train and test.\n",
      "Not enough data to split into train and test.\n"
     ]
    },
    {
     "name": "stderr",
     "output_type": "stream",
     "text": [
      "/var/folders/8l/psd7bpq137j_d5v8d7ntz0200000gn/T/ipykernel_27318/2411138453.py:28: FutureWarning: Downcasting object dtype arrays on .fillna, .ffill, .bfill is deprecated and will change in a future version. Call result.infer_objects(copy=False) instead. To opt-in to the future behavior, set `pd.set_option('future.no_silent_downcasting', True)`\n",
      "  group_df.ffill(inplace=True)  # Fill missing values with forward fill\n",
      "/var/folders/8l/psd7bpq137j_d5v8d7ntz0200000gn/T/ipykernel_27318/2411138453.py:28: FutureWarning: Downcasting object dtype arrays on .fillna, .ffill, .bfill is deprecated and will change in a future version. Call result.infer_objects(copy=False) instead. To opt-in to the future behavior, set `pd.set_option('future.no_silent_downcasting', True)`\n",
      "  group_df.ffill(inplace=True)  # Fill missing values with forward fill\n"
     ]
    },
    {
     "name": "stdout",
     "output_type": "stream",
     "text": [
      "Not enough data to split into train and test.\n",
      "Insufficient data to forecast for Part Number BB12X1-08|7 at Location 010|7. Skipping.\n",
      "Not enough data to split into train and test.\n",
      "Not enough data to split into train and test.\n",
      "Not enough data to split into train and test.\n",
      "Not enough data to split into train and test.\n",
      "Not enough data to split into train and test.\n",
      "Not enough data to split into train and test.\n",
      "Not enough data to split into train and test.\n"
     ]
    },
    {
     "name": "stderr",
     "output_type": "stream",
     "text": [
      "/var/folders/8l/psd7bpq137j_d5v8d7ntz0200000gn/T/ipykernel_27318/2411138453.py:28: FutureWarning: Downcasting object dtype arrays on .fillna, .ffill, .bfill is deprecated and will change in a future version. Call result.infer_objects(copy=False) instead. To opt-in to the future behavior, set `pd.set_option('future.no_silent_downcasting', True)`\n",
      "  group_df.ffill(inplace=True)  # Fill missing values with forward fill\n"
     ]
    },
    {
     "name": "stdout",
     "output_type": "stream",
     "text": [
      "Not enough data to split into train and test.\n",
      "Not enough data to split into train and test.\n",
      "Not enough data to split into train and test.\n",
      "Not enough data to split into train and test.\n",
      "Not enough data to split into train and test.\n",
      "Not enough data to split into train and test.\n",
      "Not enough data to split into train and test.\n",
      "Not enough data to split into train and test.\n",
      "Not enough data to split into train and test.\n",
      "Not enough data to split into train and test.\n",
      "Not enough data to split into train and test.\n",
      "Not enough data to split into train and test.\n",
      "Not enough data to split into train and test.\n",
      "Not enough data to split into train and test.\n",
      "Not enough data to split into train and test.\n",
      "Not enough data to split into train and test.\n",
      "Not enough data to split into train and test.\n",
      "Not enough data to split into train and test.\n",
      "Not enough data to split into train and test.\n",
      "Not enough data to split into train and test.\n",
      "Not enough data to split into train and test.\n"
     ]
    },
    {
     "name": "stderr",
     "output_type": "stream",
     "text": [
      "/var/folders/8l/psd7bpq137j_d5v8d7ntz0200000gn/T/ipykernel_27318/2411138453.py:28: FutureWarning: Downcasting object dtype arrays on .fillna, .ffill, .bfill is deprecated and will change in a future version. Call result.infer_objects(copy=False) instead. To opt-in to the future behavior, set `pd.set_option('future.no_silent_downcasting', True)`\n",
      "  group_df.ffill(inplace=True)  # Fill missing values with forward fill\n"
     ]
    },
    {
     "name": "stdout",
     "output_type": "stream",
     "text": [
      "Not enough data to split into train and test.\n",
      "Not enough data to split into train and test.\n",
      "Not enough data to split into train and test.\n",
      "Not enough data to split into train and test.\n",
      "Not enough data to split into train and test.\n"
     ]
    },
    {
     "name": "stderr",
     "output_type": "stream",
     "text": [
      "/var/folders/8l/psd7bpq137j_d5v8d7ntz0200000gn/T/ipykernel_27318/2411138453.py:28: FutureWarning: Downcasting object dtype arrays on .fillna, .ffill, .bfill is deprecated and will change in a future version. Call result.infer_objects(copy=False) instead. To opt-in to the future behavior, set `pd.set_option('future.no_silent_downcasting', True)`\n",
      "  group_df.ffill(inplace=True)  # Fill missing values with forward fill\n",
      "/var/folders/8l/psd7bpq137j_d5v8d7ntz0200000gn/T/ipykernel_27318/2411138453.py:28: FutureWarning: Downcasting object dtype arrays on .fillna, .ffill, .bfill is deprecated and will change in a future version. Call result.infer_objects(copy=False) instead. To opt-in to the future behavior, set `pd.set_option('future.no_silent_downcasting', True)`\n",
      "  group_df.ffill(inplace=True)  # Fill missing values with forward fill\n"
     ]
    },
    {
     "name": "stdout",
     "output_type": "stream",
     "text": [
      "Not enough data to split into train and test.\n",
      "Not enough data to split into train and test.\n",
      "Not enough data to split into train and test.\n",
      "Not enough data to split into train and test.\n",
      "Not enough data to split into train and test.\n",
      "Not enough data to split into train and test.\n"
     ]
    },
    {
     "name": "stderr",
     "output_type": "stream",
     "text": [
      "/var/folders/8l/psd7bpq137j_d5v8d7ntz0200000gn/T/ipykernel_27318/2411138453.py:28: FutureWarning: Downcasting object dtype arrays on .fillna, .ffill, .bfill is deprecated and will change in a future version. Call result.infer_objects(copy=False) instead. To opt-in to the future behavior, set `pd.set_option('future.no_silent_downcasting', True)`\n",
      "  group_df.ffill(inplace=True)  # Fill missing values with forward fill\n"
     ]
    },
    {
     "name": "stdout",
     "output_type": "stream",
     "text": [
      "Not enough data to split into train and test.\n",
      "Not enough data to split into train and test.\n",
      "Not enough data to split into train and test.\n",
      "Not enough data to split into train and test.\n",
      "Not enough data to split into train and test.\n",
      "Not enough data to split into train and test.\n",
      "Not enough data to split into train and test.\n",
      "Not enough data to split into train and test.\n",
      "Not enough data to split into train and test.\n",
      "Not enough data to split into train and test.\n",
      "Not enough data to split into train and test.\n",
      "Not enough data to split into train and test.\n",
      "Not enough data to split into train and test.\n",
      "Not enough data to split into train and test.\n",
      "Not enough data to split into train and test.\n"
     ]
    },
    {
     "name": "stderr",
     "output_type": "stream",
     "text": [
      "/var/folders/8l/psd7bpq137j_d5v8d7ntz0200000gn/T/ipykernel_27318/2411138453.py:28: FutureWarning: Downcasting object dtype arrays on .fillna, .ffill, .bfill is deprecated and will change in a future version. Call result.infer_objects(copy=False) instead. To opt-in to the future behavior, set `pd.set_option('future.no_silent_downcasting', True)`\n",
      "  group_df.ffill(inplace=True)  # Fill missing values with forward fill\n"
     ]
    },
    {
     "name": "stdout",
     "output_type": "stream",
     "text": [
      "Not enough data to split into train and test.\n",
      "Not enough data to split into train and test.\n",
      "Not enough data to split into train and test.\n",
      "Not enough data to split into train and test.\n",
      "Not enough data to split into train and test.\n",
      "Not enough data to split into train and test.\n"
     ]
    },
    {
     "name": "stderr",
     "output_type": "stream",
     "text": [
      "/var/folders/8l/psd7bpq137j_d5v8d7ntz0200000gn/T/ipykernel_27318/2411138453.py:28: FutureWarning: Downcasting object dtype arrays on .fillna, .ffill, .bfill is deprecated and will change in a future version. Call result.infer_objects(copy=False) instead. To opt-in to the future behavior, set `pd.set_option('future.no_silent_downcasting', True)`\n",
      "  group_df.ffill(inplace=True)  # Fill missing values with forward fill\n"
     ]
    },
    {
     "name": "stdout",
     "output_type": "stream",
     "text": [
      "Not enough data to split into train and test.\n",
      "Not enough data to split into train and test.\n",
      "Not enough data to split into train and test.\n",
      "Not enough data to split into train and test.\n"
     ]
    },
    {
     "name": "stderr",
     "output_type": "stream",
     "text": [
      "/var/folders/8l/psd7bpq137j_d5v8d7ntz0200000gn/T/ipykernel_27318/2411138453.py:28: FutureWarning: Downcasting object dtype arrays on .fillna, .ffill, .bfill is deprecated and will change in a future version. Call result.infer_objects(copy=False) instead. To opt-in to the future behavior, set `pd.set_option('future.no_silent_downcasting', True)`\n",
      "  group_df.ffill(inplace=True)  # Fill missing values with forward fill\n",
      "/var/folders/8l/psd7bpq137j_d5v8d7ntz0200000gn/T/ipykernel_27318/2411138453.py:28: FutureWarning: Downcasting object dtype arrays on .fillna, .ffill, .bfill is deprecated and will change in a future version. Call result.infer_objects(copy=False) instead. To opt-in to the future behavior, set `pd.set_option('future.no_silent_downcasting', True)`\n",
      "  group_df.ffill(inplace=True)  # Fill missing values with forward fill\n"
     ]
    },
    {
     "name": "stdout",
     "output_type": "stream",
     "text": [
      "Not enough data to split into train and test.\n",
      "Not enough data to split into train and test.\n",
      "Not enough data to split into train and test.\n",
      "Not enough data to split into train and test.\n",
      "Not enough data to split into train and test.\n"
     ]
    },
    {
     "name": "stderr",
     "output_type": "stream",
     "text": [
      "/var/folders/8l/psd7bpq137j_d5v8d7ntz0200000gn/T/ipykernel_27318/2411138453.py:28: FutureWarning: Downcasting object dtype arrays on .fillna, .ffill, .bfill is deprecated and will change in a future version. Call result.infer_objects(copy=False) instead. To opt-in to the future behavior, set `pd.set_option('future.no_silent_downcasting', True)`\n",
      "  group_df.ffill(inplace=True)  # Fill missing values with forward fill\n",
      "/var/folders/8l/psd7bpq137j_d5v8d7ntz0200000gn/T/ipykernel_27318/2411138453.py:28: FutureWarning: Downcasting object dtype arrays on .fillna, .ffill, .bfill is deprecated and will change in a future version. Call result.infer_objects(copy=False) instead. To opt-in to the future behavior, set `pd.set_option('future.no_silent_downcasting', True)`\n",
      "  group_df.ffill(inplace=True)  # Fill missing values with forward fill\n"
     ]
    },
    {
     "name": "stdout",
     "output_type": "stream",
     "text": [
      "Not enough data to split into train and test.\n",
      "Not enough data to split into train and test.\n",
      "Not enough data to split into train and test.\n",
      "Not enough data to split into train and test.\n",
      "Not enough data to split into train and test.\n",
      "Not enough data to split into train and test.\n",
      "Not enough data to split into train and test.\n",
      "Not enough data to split into train and test.\n",
      "Not enough data to split into train and test.\n",
      "Not enough data to split into train and test.\n",
      "Not enough data to split into train and test.\n",
      "Not enough data to split into train and test.\n",
      "Not enough data to split into train and test.\n",
      "Not enough data to split into train and test.\n",
      "Not enough data to split into train and test.\n",
      "Not enough data to split into train and test.\n",
      "Insufficient data to forecast for Part Number ASUR-4|7 at Location 020|7. Skipping.\n",
      "Not enough data to split into train and test.\n",
      "Not enough data to split into train and test.\n"
     ]
    },
    {
     "name": "stderr",
     "output_type": "stream",
     "text": [
      "/var/folders/8l/psd7bpq137j_d5v8d7ntz0200000gn/T/ipykernel_27318/2411138453.py:28: FutureWarning: Downcasting object dtype arrays on .fillna, .ffill, .bfill is deprecated and will change in a future version. Call result.infer_objects(copy=False) instead. To opt-in to the future behavior, set `pd.set_option('future.no_silent_downcasting', True)`\n",
      "  group_df.ffill(inplace=True)  # Fill missing values with forward fill\n",
      "/var/folders/8l/psd7bpq137j_d5v8d7ntz0200000gn/T/ipykernel_27318/2411138453.py:28: FutureWarning: Downcasting object dtype arrays on .fillna, .ffill, .bfill is deprecated and will change in a future version. Call result.infer_objects(copy=False) instead. To opt-in to the future behavior, set `pd.set_option('future.no_silent_downcasting', True)`\n",
      "  group_df.ffill(inplace=True)  # Fill missing values with forward fill\n"
     ]
    },
    {
     "name": "stdout",
     "output_type": "stream",
     "text": [
      "Not enough data to split into train and test.\n",
      "Not enough data to split into train and test.\n",
      "Not enough data to split into train and test.\n",
      "Not enough data to split into train and test.\n",
      "Not enough data to split into train and test.\n",
      "Not enough data to split into train and test.\n",
      "Not enough data to split into train and test.\n",
      "Not enough data to split into train and test.\n",
      "Not enough data to split into train and test.\n"
     ]
    },
    {
     "name": "stderr",
     "output_type": "stream",
     "text": [
      "/var/folders/8l/psd7bpq137j_d5v8d7ntz0200000gn/T/ipykernel_27318/2411138453.py:28: FutureWarning: Downcasting object dtype arrays on .fillna, .ffill, .bfill is deprecated and will change in a future version. Call result.infer_objects(copy=False) instead. To opt-in to the future behavior, set `pd.set_option('future.no_silent_downcasting', True)`\n",
      "  group_df.ffill(inplace=True)  # Fill missing values with forward fill\n"
     ]
    },
    {
     "name": "stdout",
     "output_type": "stream",
     "text": [
      "Not enough data to split into train and test.\n",
      "Not enough data to split into train and test.\n",
      "Not enough data to split into train and test.\n",
      "Not enough data to split into train and test.\n",
      "Not enough data to split into train and test.\n"
     ]
    },
    {
     "name": "stderr",
     "output_type": "stream",
     "text": [
      "/var/folders/8l/psd7bpq137j_d5v8d7ntz0200000gn/T/ipykernel_27318/2411138453.py:28: FutureWarning: Downcasting object dtype arrays on .fillna, .ffill, .bfill is deprecated and will change in a future version. Call result.infer_objects(copy=False) instead. To opt-in to the future behavior, set `pd.set_option('future.no_silent_downcasting', True)`\n",
      "  group_df.ffill(inplace=True)  # Fill missing values with forward fill\n"
     ]
    },
    {
     "name": "stdout",
     "output_type": "stream",
     "text": [
      "Not enough data to split into train and test.\n",
      "Not enough data to split into train and test.\n",
      "Not enough data to split into train and test.\n",
      "Not enough data to split into train and test.\n",
      "Not enough data to split into train and test.\n"
     ]
    },
    {
     "name": "stderr",
     "output_type": "stream",
     "text": [
      "/var/folders/8l/psd7bpq137j_d5v8d7ntz0200000gn/T/ipykernel_27318/2411138453.py:28: FutureWarning: Downcasting object dtype arrays on .fillna, .ffill, .bfill is deprecated and will change in a future version. Call result.infer_objects(copy=False) instead. To opt-in to the future behavior, set `pd.set_option('future.no_silent_downcasting', True)`\n",
      "  group_df.ffill(inplace=True)  # Fill missing values with forward fill\n",
      "/var/folders/8l/psd7bpq137j_d5v8d7ntz0200000gn/T/ipykernel_27318/2411138453.py:28: FutureWarning: Downcasting object dtype arrays on .fillna, .ffill, .bfill is deprecated and will change in a future version. Call result.infer_objects(copy=False) instead. To opt-in to the future behavior, set `pd.set_option('future.no_silent_downcasting', True)`\n",
      "  group_df.ffill(inplace=True)  # Fill missing values with forward fill\n"
     ]
    },
    {
     "name": "stdout",
     "output_type": "stream",
     "text": [
      "Not enough data to split into train and test.\n",
      "Not enough data to split into train and test.\n",
      "Not enough data to split into train and test.\n",
      "Not enough data to split into train and test.\n",
      "Not enough data to split into train and test.\n",
      "Not enough data to split into train and test.\n",
      "Not enough data to split into train and test.\n",
      "Not enough data to split into train and test.\n",
      "Not enough data to split into train and test.\n",
      "Not enough data to split into train and test.\n",
      "Not enough data to split into train and test.\n",
      "Not enough data to split into train and test.\n",
      "Not enough data to split into train and test.\n",
      "Not enough data to split into train and test.\n",
      "Not enough data to split into train and test.\n",
      "Not enough data to split into train and test.\n",
      "Not enough data to split into train and test.\n",
      "Not enough data to split into train and test.\n",
      "Not enough data to split into train and test.\n",
      "Not enough data to split into train and test.\n",
      "Not enough data to split into train and test.\n",
      "Not enough data to split into train and test.\n",
      "Not enough data to split into train and test.\n",
      "Not enough data to split into train and test.\n",
      "Not enough data to split into train and test.\n",
      "Not enough data to split into train and test.\n",
      "Not enough data to split into train and test.\n"
     ]
    },
    {
     "name": "stderr",
     "output_type": "stream",
     "text": [
      "/var/folders/8l/psd7bpq137j_d5v8d7ntz0200000gn/T/ipykernel_27318/2411138453.py:28: FutureWarning: Downcasting object dtype arrays on .fillna, .ffill, .bfill is deprecated and will change in a future version. Call result.infer_objects(copy=False) instead. To opt-in to the future behavior, set `pd.set_option('future.no_silent_downcasting', True)`\n",
      "  group_df.ffill(inplace=True)  # Fill missing values with forward fill\n"
     ]
    },
    {
     "name": "stdout",
     "output_type": "stream",
     "text": [
      "Not enough data to split into train and test.\n",
      "Not enough data to split into train and test.\n",
      "Not enough data to split into train and test.\n",
      "Not enough data to split into train and test.\n",
      "Not enough data to split into train and test.\n",
      "Insufficient data to forecast for Part Number 2078-4-PS|7 at Location 020|7. Skipping.\n",
      "Not enough data to split into train and test.\n",
      "Not enough data to split into train and test.\n"
     ]
    },
    {
     "name": "stderr",
     "output_type": "stream",
     "text": [
      "/var/folders/8l/psd7bpq137j_d5v8d7ntz0200000gn/T/ipykernel_27318/2411138453.py:28: FutureWarning: Downcasting object dtype arrays on .fillna, .ffill, .bfill is deprecated and will change in a future version. Call result.infer_objects(copy=False) instead. To opt-in to the future behavior, set `pd.set_option('future.no_silent_downcasting', True)`\n",
      "  group_df.ffill(inplace=True)  # Fill missing values with forward fill\n"
     ]
    },
    {
     "name": "stdout",
     "output_type": "stream",
     "text": [
      "Not enough data to split into train and test.\n",
      "Not enough data to split into train and test.\n",
      "Insufficient data to forecast for Part Number 901-3-OP|7 at Location 010|7. Skipping.\n",
      "Not enough data to split into train and test.\n",
      "Not enough data to split into train and test.\n",
      "Not enough data to split into train and test.\n"
     ]
    },
    {
     "name": "stderr",
     "output_type": "stream",
     "text": [
      "/var/folders/8l/psd7bpq137j_d5v8d7ntz0200000gn/T/ipykernel_27318/2411138453.py:28: FutureWarning: Downcasting object dtype arrays on .fillna, .ffill, .bfill is deprecated and will change in a future version. Call result.infer_objects(copy=False) instead. To opt-in to the future behavior, set `pd.set_option('future.no_silent_downcasting', True)`\n",
      "  group_df.ffill(inplace=True)  # Fill missing values with forward fill\n",
      "/var/folders/8l/psd7bpq137j_d5v8d7ntz0200000gn/T/ipykernel_27318/2411138453.py:28: FutureWarning: Downcasting object dtype arrays on .fillna, .ffill, .bfill is deprecated and will change in a future version. Call result.infer_objects(copy=False) instead. To opt-in to the future behavior, set `pd.set_option('future.no_silent_downcasting', True)`\n",
      "  group_df.ffill(inplace=True)  # Fill missing values with forward fill\n"
     ]
    },
    {
     "name": "stdout",
     "output_type": "stream",
     "text": [
      "Not enough data to split into train and test.\n",
      "Not enough data to split into train and test.\n",
      "Not enough data to split into train and test.\n",
      "Not enough data to split into train and test.\n"
     ]
    },
    {
     "name": "stderr",
     "output_type": "stream",
     "text": [
      "/var/folders/8l/psd7bpq137j_d5v8d7ntz0200000gn/T/ipykernel_27318/2411138453.py:28: FutureWarning: Downcasting object dtype arrays on .fillna, .ffill, .bfill is deprecated and will change in a future version. Call result.infer_objects(copy=False) instead. To opt-in to the future behavior, set `pd.set_option('future.no_silent_downcasting', True)`\n",
      "  group_df.ffill(inplace=True)  # Fill missing values with forward fill\n",
      "/var/folders/8l/psd7bpq137j_d5v8d7ntz0200000gn/T/ipykernel_27318/2411138453.py:28: FutureWarning: Downcasting object dtype arrays on .fillna, .ffill, .bfill is deprecated and will change in a future version. Call result.infer_objects(copy=False) instead. To opt-in to the future behavior, set `pd.set_option('future.no_silent_downcasting', True)`\n",
      "  group_df.ffill(inplace=True)  # Fill missing values with forward fill\n",
      "/var/folders/8l/psd7bpq137j_d5v8d7ntz0200000gn/T/ipykernel_27318/2411138453.py:28: FutureWarning: Downcasting object dtype arrays on .fillna, .ffill, .bfill is deprecated and will change in a future version. Call result.infer_objects(copy=False) instead. To opt-in to the future behavior, set `pd.set_option('future.no_silent_downcasting', True)`\n",
      "  group_df.ffill(inplace=True)  # Fill missing values with forward fill\n",
      "/var/folders/8l/psd7bpq137j_d5v8d7ntz0200000gn/T/ipykernel_27318/2411138453.py:28: FutureWarning: Downcasting object dtype arrays on .fillna, .ffill, .bfill is deprecated and will change in a future version. Call result.infer_objects(copy=False) instead. To opt-in to the future behavior, set `pd.set_option('future.no_silent_downcasting', True)`\n",
      "  group_df.ffill(inplace=True)  # Fill missing values with forward fill\n"
     ]
    },
    {
     "name": "stdout",
     "output_type": "stream",
     "text": [
      "Not enough data to split into train and test.\n",
      "Not enough data to split into train and test.\n",
      "Not enough data to split into train and test.\n",
      "Not enough data to split into train and test.\n",
      "Not enough data to split into train and test.\n",
      "Not enough data to split into train and test.\n",
      "Not enough data to split into train and test.\n",
      "Not enough data to split into train and test.\n",
      "Not enough data to split into train and test.\n"
     ]
    },
    {
     "name": "stderr",
     "output_type": "stream",
     "text": [
      "/var/folders/8l/psd7bpq137j_d5v8d7ntz0200000gn/T/ipykernel_27318/2411138453.py:28: FutureWarning: Downcasting object dtype arrays on .fillna, .ffill, .bfill is deprecated and will change in a future version. Call result.infer_objects(copy=False) instead. To opt-in to the future behavior, set `pd.set_option('future.no_silent_downcasting', True)`\n",
      "  group_df.ffill(inplace=True)  # Fill missing values with forward fill\n",
      "/var/folders/8l/psd7bpq137j_d5v8d7ntz0200000gn/T/ipykernel_27318/2411138453.py:28: FutureWarning: Downcasting object dtype arrays on .fillna, .ffill, .bfill is deprecated and will change in a future version. Call result.infer_objects(copy=False) instead. To opt-in to the future behavior, set `pd.set_option('future.no_silent_downcasting', True)`\n",
      "  group_df.ffill(inplace=True)  # Fill missing values with forward fill\n",
      "/var/folders/8l/psd7bpq137j_d5v8d7ntz0200000gn/T/ipykernel_27318/2411138453.py:28: FutureWarning: Downcasting object dtype arrays on .fillna, .ffill, .bfill is deprecated and will change in a future version. Call result.infer_objects(copy=False) instead. To opt-in to the future behavior, set `pd.set_option('future.no_silent_downcasting', True)`\n",
      "  group_df.ffill(inplace=True)  # Fill missing values with forward fill\n"
     ]
    },
    {
     "name": "stdout",
     "output_type": "stream",
     "text": [
      "Not enough data to split into train and test.\n",
      "Not enough data to split into train and test.\n",
      "Not enough data to split into train and test.\n"
     ]
    },
    {
     "name": "stderr",
     "output_type": "stream",
     "text": [
      "/var/folders/8l/psd7bpq137j_d5v8d7ntz0200000gn/T/ipykernel_27318/2411138453.py:28: FutureWarning: Downcasting object dtype arrays on .fillna, .ffill, .bfill is deprecated and will change in a future version. Call result.infer_objects(copy=False) instead. To opt-in to the future behavior, set `pd.set_option('future.no_silent_downcasting', True)`\n",
      "  group_df.ffill(inplace=True)  # Fill missing values with forward fill\n"
     ]
    },
    {
     "name": "stdout",
     "output_type": "stream",
     "text": [
      "Not enough data to split into train and test.\n",
      "Not enough data to split into train and test.\n",
      "Not enough data to split into train and test.\n",
      "Not enough data to split into train and test.\n",
      "Insufficient data to forecast for Part Number 2056-4|7 at Location 020|7. Skipping.\n",
      "Not enough data to split into train and test.\n",
      "Not enough data to split into train and test.\n",
      "Not enough data to split into train and test.\n"
     ]
    },
    {
     "name": "stderr",
     "output_type": "stream",
     "text": [
      "/var/folders/8l/psd7bpq137j_d5v8d7ntz0200000gn/T/ipykernel_27318/2411138453.py:28: FutureWarning: Downcasting object dtype arrays on .fillna, .ffill, .bfill is deprecated and will change in a future version. Call result.infer_objects(copy=False) instead. To opt-in to the future behavior, set `pd.set_option('future.no_silent_downcasting', True)`\n",
      "  group_df.ffill(inplace=True)  # Fill missing values with forward fill\n",
      "/var/folders/8l/psd7bpq137j_d5v8d7ntz0200000gn/T/ipykernel_27318/2411138453.py:28: FutureWarning: Downcasting object dtype arrays on .fillna, .ffill, .bfill is deprecated and will change in a future version. Call result.infer_objects(copy=False) instead. To opt-in to the future behavior, set `pd.set_option('future.no_silent_downcasting', True)`\n",
      "  group_df.ffill(inplace=True)  # Fill missing values with forward fill\n",
      "/var/folders/8l/psd7bpq137j_d5v8d7ntz0200000gn/T/ipykernel_27318/2411138453.py:28: FutureWarning: Downcasting object dtype arrays on .fillna, .ffill, .bfill is deprecated and will change in a future version. Call result.infer_objects(copy=False) instead. To opt-in to the future behavior, set `pd.set_option('future.no_silent_downcasting', True)`\n",
      "  group_df.ffill(inplace=True)  # Fill missing values with forward fill\n"
     ]
    },
    {
     "name": "stdout",
     "output_type": "stream",
     "text": [
      "Not enough data to split into train and test.\n",
      "Not enough data to split into train and test.\n",
      "Not enough data to split into train and test.\n",
      "Not enough data to split into train and test.\n",
      "Insufficient data to forecast for Part Number CDSMELZ|7 at Location 010|7. Skipping.\n",
      "Not enough data to split into train and test.\n",
      "Not enough data to split into train and test.\n",
      "Not enough data to split into train and test.\n"
     ]
    },
    {
     "name": "stderr",
     "output_type": "stream",
     "text": [
      "/var/folders/8l/psd7bpq137j_d5v8d7ntz0200000gn/T/ipykernel_27318/2411138453.py:28: FutureWarning: Downcasting object dtype arrays on .fillna, .ffill, .bfill is deprecated and will change in a future version. Call result.infer_objects(copy=False) instead. To opt-in to the future behavior, set `pd.set_option('future.no_silent_downcasting', True)`\n",
      "  group_df.ffill(inplace=True)  # Fill missing values with forward fill\n"
     ]
    },
    {
     "name": "stdout",
     "output_type": "stream",
     "text": [
      "Not enough data to split into train and test.\n",
      "Not enough data to split into train and test.\n",
      "Not enough data to split into train and test.\n"
     ]
    },
    {
     "name": "stderr",
     "output_type": "stream",
     "text": [
      "/var/folders/8l/psd7bpq137j_d5v8d7ntz0200000gn/T/ipykernel_27318/2411138453.py:28: FutureWarning: Downcasting object dtype arrays on .fillna, .ffill, .bfill is deprecated and will change in a future version. Call result.infer_objects(copy=False) instead. To opt-in to the future behavior, set `pd.set_option('future.no_silent_downcasting', True)`\n",
      "  group_df.ffill(inplace=True)  # Fill missing values with forward fill\n"
     ]
    },
    {
     "name": "stdout",
     "output_type": "stream",
     "text": [
      "Not enough data to split into train and test.\n",
      "Not enough data to split into train and test.\n",
      "Not enough data to split into train and test.\n",
      "Not enough data to split into train and test.\n",
      "Not enough data to split into train and test.\n",
      "Not enough data to split into train and test.\n",
      "Not enough data to split into train and test.\n",
      "Not enough data to split into train and test.\n"
     ]
    },
    {
     "name": "stderr",
     "output_type": "stream",
     "text": [
      "/var/folders/8l/psd7bpq137j_d5v8d7ntz0200000gn/T/ipykernel_27318/2411138453.py:28: FutureWarning: Downcasting object dtype arrays on .fillna, .ffill, .bfill is deprecated and will change in a future version. Call result.infer_objects(copy=False) instead. To opt-in to the future behavior, set `pd.set_option('future.no_silent_downcasting', True)`\n",
      "  group_df.ffill(inplace=True)  # Fill missing values with forward fill\n",
      "/var/folders/8l/psd7bpq137j_d5v8d7ntz0200000gn/T/ipykernel_27318/2411138453.py:28: FutureWarning: Downcasting object dtype arrays on .fillna, .ffill, .bfill is deprecated and will change in a future version. Call result.infer_objects(copy=False) instead. To opt-in to the future behavior, set `pd.set_option('future.no_silent_downcasting', True)`\n",
      "  group_df.ffill(inplace=True)  # Fill missing values with forward fill\n"
     ]
    },
    {
     "name": "stdout",
     "output_type": "stream",
     "text": [
      "Not enough data to split into train and test.\n",
      "Not enough data to split into train and test.\n",
      "Not enough data to split into train and test.\n",
      "Not enough data to split into train and test.\n",
      "Not enough data to split into train and test.\n"
     ]
    },
    {
     "name": "stderr",
     "output_type": "stream",
     "text": [
      "/var/folders/8l/psd7bpq137j_d5v8d7ntz0200000gn/T/ipykernel_27318/2411138453.py:28: FutureWarning: Downcasting object dtype arrays on .fillna, .ffill, .bfill is deprecated and will change in a future version. Call result.infer_objects(copy=False) instead. To opt-in to the future behavior, set `pd.set_option('future.no_silent_downcasting', True)`\n",
      "  group_df.ffill(inplace=True)  # Fill missing values with forward fill\n",
      "/var/folders/8l/psd7bpq137j_d5v8d7ntz0200000gn/T/ipykernel_27318/2411138453.py:28: FutureWarning: Downcasting object dtype arrays on .fillna, .ffill, .bfill is deprecated and will change in a future version. Call result.infer_objects(copy=False) instead. To opt-in to the future behavior, set `pd.set_option('future.no_silent_downcasting', True)`\n",
      "  group_df.ffill(inplace=True)  # Fill missing values with forward fill\n",
      "/var/folders/8l/psd7bpq137j_d5v8d7ntz0200000gn/T/ipykernel_27318/2411138453.py:28: FutureWarning: Downcasting object dtype arrays on .fillna, .ffill, .bfill is deprecated and will change in a future version. Call result.infer_objects(copy=False) instead. To opt-in to the future behavior, set `pd.set_option('future.no_silent_downcasting', True)`\n",
      "  group_df.ffill(inplace=True)  # Fill missing values with forward fill\n",
      "/var/folders/8l/psd7bpq137j_d5v8d7ntz0200000gn/T/ipykernel_27318/2411138453.py:28: FutureWarning: Downcasting object dtype arrays on .fillna, .ffill, .bfill is deprecated and will change in a future version. Call result.infer_objects(copy=False) instead. To opt-in to the future behavior, set `pd.set_option('future.no_silent_downcasting', True)`\n",
      "  group_df.ffill(inplace=True)  # Fill missing values with forward fill\n"
     ]
    },
    {
     "name": "stdout",
     "output_type": "stream",
     "text": [
      "Not enough data to split into train and test.\n",
      "Not enough data to split into train and test.\n",
      "Not enough data to split into train and test.\n",
      "Not enough data to split into train and test.\n",
      "Not enough data to split into train and test.\n"
     ]
    },
    {
     "name": "stderr",
     "output_type": "stream",
     "text": [
      "/var/folders/8l/psd7bpq137j_d5v8d7ntz0200000gn/T/ipykernel_27318/2411138453.py:28: FutureWarning: Downcasting object dtype arrays on .fillna, .ffill, .bfill is deprecated and will change in a future version. Call result.infer_objects(copy=False) instead. To opt-in to the future behavior, set `pd.set_option('future.no_silent_downcasting', True)`\n",
      "  group_df.ffill(inplace=True)  # Fill missing values with forward fill\n"
     ]
    },
    {
     "name": "stdout",
     "output_type": "stream",
     "text": [
      "Not enough data to split into train and test.\n",
      "Not enough data to split into train and test.\n",
      "Not enough data to split into train and test.\n",
      "Insufficient data to forecast for Part Number 7038|7 at Location 020|7. Skipping.\n",
      "Not enough data to split into train and test.\n",
      "Not enough data to split into train and test.\n"
     ]
    },
    {
     "name": "stderr",
     "output_type": "stream",
     "text": [
      "/var/folders/8l/psd7bpq137j_d5v8d7ntz0200000gn/T/ipykernel_27318/2411138453.py:28: FutureWarning: Downcasting object dtype arrays on .fillna, .ffill, .bfill is deprecated and will change in a future version. Call result.infer_objects(copy=False) instead. To opt-in to the future behavior, set `pd.set_option('future.no_silent_downcasting', True)`\n",
      "  group_df.ffill(inplace=True)  # Fill missing values with forward fill\n",
      "/var/folders/8l/psd7bpq137j_d5v8d7ntz0200000gn/T/ipykernel_27318/2411138453.py:28: FutureWarning: Downcasting object dtype arrays on .fillna, .ffill, .bfill is deprecated and will change in a future version. Call result.infer_objects(copy=False) instead. To opt-in to the future behavior, set `pd.set_option('future.no_silent_downcasting', True)`\n",
      "  group_df.ffill(inplace=True)  # Fill missing values with forward fill\n"
     ]
    },
    {
     "name": "stdout",
     "output_type": "stream",
     "text": [
      "Not enough data to split into train and test.\n",
      "Not enough data to split into train and test.\n",
      "Insufficient data to forecast for Part Number PS300-4|7 at Location 020|7. Skipping.\n",
      "Not enough data to split into train and test.\n",
      "Not enough data to split into train and test.\n"
     ]
    },
    {
     "name": "stderr",
     "output_type": "stream",
     "text": [
      "/var/folders/8l/psd7bpq137j_d5v8d7ntz0200000gn/T/ipykernel_27318/2411138453.py:28: FutureWarning: Downcasting object dtype arrays on .fillna, .ffill, .bfill is deprecated and will change in a future version. Call result.infer_objects(copy=False) instead. To opt-in to the future behavior, set `pd.set_option('future.no_silent_downcasting', True)`\n",
      "  group_df.ffill(inplace=True)  # Fill missing values with forward fill\n",
      "/var/folders/8l/psd7bpq137j_d5v8d7ntz0200000gn/T/ipykernel_27318/2411138453.py:28: FutureWarning: Downcasting object dtype arrays on .fillna, .ffill, .bfill is deprecated and will change in a future version. Call result.infer_objects(copy=False) instead. To opt-in to the future behavior, set `pd.set_option('future.no_silent_downcasting', True)`\n",
      "  group_df.ffill(inplace=True)  # Fill missing values with forward fill\n"
     ]
    },
    {
     "name": "stdout",
     "output_type": "stream",
     "text": [
      "Not enough data to split into train and test.\n",
      "Not enough data to split into train and test.\n",
      "Not enough data to split into train and test.\n",
      "Not enough data to split into train and test.\n"
     ]
    },
    {
     "name": "stderr",
     "output_type": "stream",
     "text": [
      "/var/folders/8l/psd7bpq137j_d5v8d7ntz0200000gn/T/ipykernel_27318/2411138453.py:28: FutureWarning: Downcasting object dtype arrays on .fillna, .ffill, .bfill is deprecated and will change in a future version. Call result.infer_objects(copy=False) instead. To opt-in to the future behavior, set `pd.set_option('future.no_silent_downcasting', True)`\n",
      "  group_df.ffill(inplace=True)  # Fill missing values with forward fill\n",
      "/var/folders/8l/psd7bpq137j_d5v8d7ntz0200000gn/T/ipykernel_27318/2411138453.py:28: FutureWarning: Downcasting object dtype arrays on .fillna, .ffill, .bfill is deprecated and will change in a future version. Call result.infer_objects(copy=False) instead. To opt-in to the future behavior, set `pd.set_option('future.no_silent_downcasting', True)`\n",
      "  group_df.ffill(inplace=True)  # Fill missing values with forward fill\n"
     ]
    },
    {
     "name": "stdout",
     "output_type": "stream",
     "text": [
      "Not enough data to split into train and test.\n",
      "Not enough data to split into train and test.\n",
      "Not enough data to split into train and test.\n",
      "Not enough data to split into train and test.\n",
      "Not enough data to split into train and test.\n",
      "Insufficient data to forecast for Part Number PH1500-4|7 at Location 010|7. Skipping.\n"
     ]
    },
    {
     "name": "stderr",
     "output_type": "stream",
     "text": [
      "/var/folders/8l/psd7bpq137j_d5v8d7ntz0200000gn/T/ipykernel_27318/2411138453.py:28: FutureWarning: Downcasting object dtype arrays on .fillna, .ffill, .bfill is deprecated and will change in a future version. Call result.infer_objects(copy=False) instead. To opt-in to the future behavior, set `pd.set_option('future.no_silent_downcasting', True)`\n",
      "  group_df.ffill(inplace=True)  # Fill missing values with forward fill\n",
      "/var/folders/8l/psd7bpq137j_d5v8d7ntz0200000gn/T/ipykernel_27318/2411138453.py:28: FutureWarning: Downcasting object dtype arrays on .fillna, .ffill, .bfill is deprecated and will change in a future version. Call result.infer_objects(copy=False) instead. To opt-in to the future behavior, set `pd.set_option('future.no_silent_downcasting', True)`\n",
      "  group_df.ffill(inplace=True)  # Fill missing values with forward fill\n",
      "/var/folders/8l/psd7bpq137j_d5v8d7ntz0200000gn/T/ipykernel_27318/2411138453.py:28: FutureWarning: Downcasting object dtype arrays on .fillna, .ffill, .bfill is deprecated and will change in a future version. Call result.infer_objects(copy=False) instead. To opt-in to the future behavior, set `pd.set_option('future.no_silent_downcasting', True)`\n",
      "  group_df.ffill(inplace=True)  # Fill missing values with forward fill\n"
     ]
    },
    {
     "name": "stdout",
     "output_type": "stream",
     "text": [
      "Not enough data to split into train and test.\n",
      "Not enough data to split into train and test.\n",
      "Insufficient data to forecast for Part Number 901-1-OP|7 at Location 010|7. Skipping.\n",
      "Not enough data to split into train and test.\n",
      "Not enough data to split into train and test.\n",
      "Not enough data to split into train and test.\n"
     ]
    },
    {
     "name": "stderr",
     "output_type": "stream",
     "text": [
      "/var/folders/8l/psd7bpq137j_d5v8d7ntz0200000gn/T/ipykernel_27318/2411138453.py:28: FutureWarning: Downcasting object dtype arrays on .fillna, .ffill, .bfill is deprecated and will change in a future version. Call result.infer_objects(copy=False) instead. To opt-in to the future behavior, set `pd.set_option('future.no_silent_downcasting', True)`\n",
      "  group_df.ffill(inplace=True)  # Fill missing values with forward fill\n"
     ]
    },
    {
     "name": "stdout",
     "output_type": "stream",
     "text": [
      "Not enough data to split into train and test.\n",
      "Not enough data to split into train and test.\n",
      "Not enough data to split into train and test.\n",
      "Not enough data to split into train and test.\n",
      "Not enough data to split into train and test.\n"
     ]
    },
    {
     "name": "stderr",
     "output_type": "stream",
     "text": [
      "/var/folders/8l/psd7bpq137j_d5v8d7ntz0200000gn/T/ipykernel_27318/2411138453.py:28: FutureWarning: Downcasting object dtype arrays on .fillna, .ffill, .bfill is deprecated and will change in a future version. Call result.infer_objects(copy=False) instead. To opt-in to the future behavior, set `pd.set_option('future.no_silent_downcasting', True)`\n",
      "  group_df.ffill(inplace=True)  # Fill missing values with forward fill\n",
      "/var/folders/8l/psd7bpq137j_d5v8d7ntz0200000gn/T/ipykernel_27318/2411138453.py:28: FutureWarning: Downcasting object dtype arrays on .fillna, .ffill, .bfill is deprecated and will change in a future version. Call result.infer_objects(copy=False) instead. To opt-in to the future behavior, set `pd.set_option('future.no_silent_downcasting', True)`\n",
      "  group_df.ffill(inplace=True)  # Fill missing values with forward fill\n",
      "/var/folders/8l/psd7bpq137j_d5v8d7ntz0200000gn/T/ipykernel_27318/2411138453.py:28: FutureWarning: Downcasting object dtype arrays on .fillna, .ffill, .bfill is deprecated and will change in a future version. Call result.infer_objects(copy=False) instead. To opt-in to the future behavior, set `pd.set_option('future.no_silent_downcasting', True)`\n",
      "  group_df.ffill(inplace=True)  # Fill missing values with forward fill\n"
     ]
    },
    {
     "name": "stdout",
     "output_type": "stream",
     "text": [
      "Not enough data to split into train and test.\n",
      "Not enough data to split into train and test.\n",
      "Not enough data to split into train and test.\n",
      "Not enough data to split into train and test.\n",
      "Not enough data to split into train and test.\n"
     ]
    },
    {
     "name": "stderr",
     "output_type": "stream",
     "text": [
      "/var/folders/8l/psd7bpq137j_d5v8d7ntz0200000gn/T/ipykernel_27318/2411138453.py:28: FutureWarning: Downcasting object dtype arrays on .fillna, .ffill, .bfill is deprecated and will change in a future version. Call result.infer_objects(copy=False) instead. To opt-in to the future behavior, set `pd.set_option('future.no_silent_downcasting', True)`\n",
      "  group_df.ffill(inplace=True)  # Fill missing values with forward fill\n",
      "/var/folders/8l/psd7bpq137j_d5v8d7ntz0200000gn/T/ipykernel_27318/2411138453.py:28: FutureWarning: Downcasting object dtype arrays on .fillna, .ffill, .bfill is deprecated and will change in a future version. Call result.infer_objects(copy=False) instead. To opt-in to the future behavior, set `pd.set_option('future.no_silent_downcasting', True)`\n",
      "  group_df.ffill(inplace=True)  # Fill missing values with forward fill\n"
     ]
    },
    {
     "name": "stdout",
     "output_type": "stream",
     "text": [
      "Not enough data to split into train and test.\n",
      "Insufficient data to forecast for Part Number ASPEN-4-F|7 at Location 010|7. Skipping.\n",
      "Not enough data to split into train and test.\n",
      "Not enough data to split into train and test.\n",
      "Not enough data to split into train and test.\n"
     ]
    },
    {
     "name": "stderr",
     "output_type": "stream",
     "text": [
      "/var/folders/8l/psd7bpq137j_d5v8d7ntz0200000gn/T/ipykernel_27318/2411138453.py:28: FutureWarning: Downcasting object dtype arrays on .fillna, .ffill, .bfill is deprecated and will change in a future version. Call result.infer_objects(copy=False) instead. To opt-in to the future behavior, set `pd.set_option('future.no_silent_downcasting', True)`\n",
      "  group_df.ffill(inplace=True)  # Fill missing values with forward fill\n",
      "/var/folders/8l/psd7bpq137j_d5v8d7ntz0200000gn/T/ipykernel_27318/2411138453.py:28: FutureWarning: Downcasting object dtype arrays on .fillna, .ffill, .bfill is deprecated and will change in a future version. Call result.infer_objects(copy=False) instead. To opt-in to the future behavior, set `pd.set_option('future.no_silent_downcasting', True)`\n",
      "  group_df.ffill(inplace=True)  # Fill missing values with forward fill\n"
     ]
    },
    {
     "name": "stdout",
     "output_type": "stream",
     "text": [
      "Not enough data to split into train and test.\n",
      "Not enough data to split into train and test.\n",
      "Not enough data to split into train and test.\n",
      "Not enough data to split into train and test.\n",
      "Not enough data to split into train and test.\n"
     ]
    },
    {
     "name": "stderr",
     "output_type": "stream",
     "text": [
      "/var/folders/8l/psd7bpq137j_d5v8d7ntz0200000gn/T/ipykernel_27318/2411138453.py:28: FutureWarning: Downcasting object dtype arrays on .fillna, .ffill, .bfill is deprecated and will change in a future version. Call result.infer_objects(copy=False) instead. To opt-in to the future behavior, set `pd.set_option('future.no_silent_downcasting', True)`\n",
      "  group_df.ffill(inplace=True)  # Fill missing values with forward fill\n",
      "/var/folders/8l/psd7bpq137j_d5v8d7ntz0200000gn/T/ipykernel_27318/2411138453.py:28: FutureWarning: Downcasting object dtype arrays on .fillna, .ffill, .bfill is deprecated and will change in a future version. Call result.infer_objects(copy=False) instead. To opt-in to the future behavior, set `pd.set_option('future.no_silent_downcasting', True)`\n",
      "  group_df.ffill(inplace=True)  # Fill missing values with forward fill\n"
     ]
    },
    {
     "name": "stdout",
     "output_type": "stream",
     "text": [
      "Not enough data to split into train and test.\n",
      "Not enough data to split into train and test.\n",
      "Not enough data to split into train and test.\n"
     ]
    },
    {
     "name": "stderr",
     "output_type": "stream",
     "text": [
      "/var/folders/8l/psd7bpq137j_d5v8d7ntz0200000gn/T/ipykernel_27318/2411138453.py:28: FutureWarning: Downcasting object dtype arrays on .fillna, .ffill, .bfill is deprecated and will change in a future version. Call result.infer_objects(copy=False) instead. To opt-in to the future behavior, set `pd.set_option('future.no_silent_downcasting', True)`\n",
      "  group_df.ffill(inplace=True)  # Fill missing values with forward fill\n",
      "/var/folders/8l/psd7bpq137j_d5v8d7ntz0200000gn/T/ipykernel_27318/2411138453.py:28: FutureWarning: Downcasting object dtype arrays on .fillna, .ffill, .bfill is deprecated and will change in a future version. Call result.infer_objects(copy=False) instead. To opt-in to the future behavior, set `pd.set_option('future.no_silent_downcasting', True)`\n",
      "  group_df.ffill(inplace=True)  # Fill missing values with forward fill\n",
      "/var/folders/8l/psd7bpq137j_d5v8d7ntz0200000gn/T/ipykernel_27318/2411138453.py:28: FutureWarning: Downcasting object dtype arrays on .fillna, .ffill, .bfill is deprecated and will change in a future version. Call result.infer_objects(copy=False) instead. To opt-in to the future behavior, set `pd.set_option('future.no_silent_downcasting', True)`\n",
      "  group_df.ffill(inplace=True)  # Fill missing values with forward fill\n"
     ]
    },
    {
     "name": "stdout",
     "output_type": "stream",
     "text": [
      "Not enough data to split into train and test.\n",
      "Not enough data to split into train and test.\n",
      "Not enough data to split into train and test.\n",
      "Not enough data to split into train and test.\n",
      "Not enough data to split into train and test.\n"
     ]
    },
    {
     "name": "stderr",
     "output_type": "stream",
     "text": [
      "/var/folders/8l/psd7bpq137j_d5v8d7ntz0200000gn/T/ipykernel_27318/2411138453.py:28: FutureWarning: Downcasting object dtype arrays on .fillna, .ffill, .bfill is deprecated and will change in a future version. Call result.infer_objects(copy=False) instead. To opt-in to the future behavior, set `pd.set_option('future.no_silent_downcasting', True)`\n",
      "  group_df.ffill(inplace=True)  # Fill missing values with forward fill\n",
      "/var/folders/8l/psd7bpq137j_d5v8d7ntz0200000gn/T/ipykernel_27318/2411138453.py:28: FutureWarning: Downcasting object dtype arrays on .fillna, .ffill, .bfill is deprecated and will change in a future version. Call result.infer_objects(copy=False) instead. To opt-in to the future behavior, set `pd.set_option('future.no_silent_downcasting', True)`\n",
      "  group_df.ffill(inplace=True)  # Fill missing values with forward fill\n"
     ]
    },
    {
     "name": "stdout",
     "output_type": "stream",
     "text": [
      "Not enough data to split into train and test.\n",
      "Not enough data to split into train and test.\n",
      "Not enough data to split into train and test.\n",
      "Not enough data to split into train and test.\n",
      "Not enough data to split into train and test.\n",
      "Not enough data to split into train and test.\n",
      "Not enough data to split into train and test.\n",
      "Not enough data to split into train and test.\n",
      "Not enough data to split into train and test.\n"
     ]
    },
    {
     "name": "stderr",
     "output_type": "stream",
     "text": [
      "/var/folders/8l/psd7bpq137j_d5v8d7ntz0200000gn/T/ipykernel_27318/2411138453.py:28: FutureWarning: Downcasting object dtype arrays on .fillna, .ffill, .bfill is deprecated and will change in a future version. Call result.infer_objects(copy=False) instead. To opt-in to the future behavior, set `pd.set_option('future.no_silent_downcasting', True)`\n",
      "  group_df.ffill(inplace=True)  # Fill missing values with forward fill\n",
      "/var/folders/8l/psd7bpq137j_d5v8d7ntz0200000gn/T/ipykernel_27318/2411138453.py:28: FutureWarning: Downcasting object dtype arrays on .fillna, .ffill, .bfill is deprecated and will change in a future version. Call result.infer_objects(copy=False) instead. To opt-in to the future behavior, set `pd.set_option('future.no_silent_downcasting', True)`\n",
      "  group_df.ffill(inplace=True)  # Fill missing values with forward fill\n",
      "/var/folders/8l/psd7bpq137j_d5v8d7ntz0200000gn/T/ipykernel_27318/2411138453.py:28: FutureWarning: Downcasting object dtype arrays on .fillna, .ffill, .bfill is deprecated and will change in a future version. Call result.infer_objects(copy=False) instead. To opt-in to the future behavior, set `pd.set_option('future.no_silent_downcasting', True)`\n",
      "  group_df.ffill(inplace=True)  # Fill missing values with forward fill\n"
     ]
    },
    {
     "name": "stdout",
     "output_type": "stream",
     "text": [
      "Not enough data to split into train and test.\n",
      "Not enough data to split into train and test.\n",
      "Not enough data to split into train and test.\n",
      "Insufficient data to forecast for Part Number GST|7 at Location 010|7. Skipping.\n",
      "Not enough data to split into train and test.\n",
      "Not enough data to split into train and test.\n"
     ]
    },
    {
     "name": "stderr",
     "output_type": "stream",
     "text": [
      "/var/folders/8l/psd7bpq137j_d5v8d7ntz0200000gn/T/ipykernel_27318/2411138453.py:28: FutureWarning: Downcasting object dtype arrays on .fillna, .ffill, .bfill is deprecated and will change in a future version. Call result.infer_objects(copy=False) instead. To opt-in to the future behavior, set `pd.set_option('future.no_silent_downcasting', True)`\n",
      "  group_df.ffill(inplace=True)  # Fill missing values with forward fill\n",
      "/var/folders/8l/psd7bpq137j_d5v8d7ntz0200000gn/T/ipykernel_27318/2411138453.py:28: FutureWarning: Downcasting object dtype arrays on .fillna, .ffill, .bfill is deprecated and will change in a future version. Call result.infer_objects(copy=False) instead. To opt-in to the future behavior, set `pd.set_option('future.no_silent_downcasting', True)`\n",
      "  group_df.ffill(inplace=True)  # Fill missing values with forward fill\n",
      "/var/folders/8l/psd7bpq137j_d5v8d7ntz0200000gn/T/ipykernel_27318/2411138453.py:28: FutureWarning: Downcasting object dtype arrays on .fillna, .ffill, .bfill is deprecated and will change in a future version. Call result.infer_objects(copy=False) instead. To opt-in to the future behavior, set `pd.set_option('future.no_silent_downcasting', True)`\n",
      "  group_df.ffill(inplace=True)  # Fill missing values with forward fill\n",
      "/var/folders/8l/psd7bpq137j_d5v8d7ntz0200000gn/T/ipykernel_27318/2411138453.py:28: FutureWarning: Downcasting object dtype arrays on .fillna, .ffill, .bfill is deprecated and will change in a future version. Call result.infer_objects(copy=False) instead. To opt-in to the future behavior, set `pd.set_option('future.no_silent_downcasting', True)`\n",
      "  group_df.ffill(inplace=True)  # Fill missing values with forward fill\n",
      "/var/folders/8l/psd7bpq137j_d5v8d7ntz0200000gn/T/ipykernel_27318/2411138453.py:28: FutureWarning: Downcasting object dtype arrays on .fillna, .ffill, .bfill is deprecated and will change in a future version. Call result.infer_objects(copy=False) instead. To opt-in to the future behavior, set `pd.set_option('future.no_silent_downcasting', True)`\n",
      "  group_df.ffill(inplace=True)  # Fill missing values with forward fill\n"
     ]
    },
    {
     "name": "stdout",
     "output_type": "stream",
     "text": [
      "Not enough data to split into train and test.\n",
      "Not enough data to split into train and test.\n",
      "Not enough data to split into train and test.\n",
      "Not enough data to split into train and test.\n"
     ]
    },
    {
     "name": "stderr",
     "output_type": "stream",
     "text": [
      "/var/folders/8l/psd7bpq137j_d5v8d7ntz0200000gn/T/ipykernel_27318/2411138453.py:28: FutureWarning: Downcasting object dtype arrays on .fillna, .ffill, .bfill is deprecated and will change in a future version. Call result.infer_objects(copy=False) instead. To opt-in to the future behavior, set `pd.set_option('future.no_silent_downcasting', True)`\n",
      "  group_df.ffill(inplace=True)  # Fill missing values with forward fill\n",
      "/var/folders/8l/psd7bpq137j_d5v8d7ntz0200000gn/T/ipykernel_27318/2411138453.py:28: FutureWarning: Downcasting object dtype arrays on .fillna, .ffill, .bfill is deprecated and will change in a future version. Call result.infer_objects(copy=False) instead. To opt-in to the future behavior, set `pd.set_option('future.no_silent_downcasting', True)`\n",
      "  group_df.ffill(inplace=True)  # Fill missing values with forward fill\n",
      "/var/folders/8l/psd7bpq137j_d5v8d7ntz0200000gn/T/ipykernel_27318/2411138453.py:28: FutureWarning: Downcasting object dtype arrays on .fillna, .ffill, .bfill is deprecated and will change in a future version. Call result.infer_objects(copy=False) instead. To opt-in to the future behavior, set `pd.set_option('future.no_silent_downcasting', True)`\n",
      "  group_df.ffill(inplace=True)  # Fill missing values with forward fill\n"
     ]
    },
    {
     "name": "stdout",
     "output_type": "stream",
     "text": [
      "Not enough data to split into train and test.\n",
      "Not enough data to split into train and test.\n",
      "Not enough data to split into train and test.\n",
      "Insufficient data to forecast for Part Number SOUNDLEVEL-2|7 at Location 010|7. Skipping.\n",
      "Not enough data to split into train and test.\n",
      "Not enough data to split into train and test.\n"
     ]
    },
    {
     "name": "stderr",
     "output_type": "stream",
     "text": [
      "/var/folders/8l/psd7bpq137j_d5v8d7ntz0200000gn/T/ipykernel_27318/2411138453.py:28: FutureWarning: Downcasting object dtype arrays on .fillna, .ffill, .bfill is deprecated and will change in a future version. Call result.infer_objects(copy=False) instead. To opt-in to the future behavior, set `pd.set_option('future.no_silent_downcasting', True)`\n",
      "  group_df.ffill(inplace=True)  # Fill missing values with forward fill\n",
      "/var/folders/8l/psd7bpq137j_d5v8d7ntz0200000gn/T/ipykernel_27318/2411138453.py:28: FutureWarning: Downcasting object dtype arrays on .fillna, .ffill, .bfill is deprecated and will change in a future version. Call result.infer_objects(copy=False) instead. To opt-in to the future behavior, set `pd.set_option('future.no_silent_downcasting', True)`\n",
      "  group_df.ffill(inplace=True)  # Fill missing values with forward fill\n"
     ]
    },
    {
     "name": "stdout",
     "output_type": "stream",
     "text": [
      "Not enough data to split into train and test.\n",
      "Not enough data to split into train and test.\n",
      "Insufficient data to forecast for Part Number 2091-1-TD|7 at Location 020|7. Skipping.\n",
      "Not enough data to split into train and test.\n",
      "Not enough data to split into train and test.\n"
     ]
    },
    {
     "name": "stderr",
     "output_type": "stream",
     "text": [
      "/var/folders/8l/psd7bpq137j_d5v8d7ntz0200000gn/T/ipykernel_27318/2411138453.py:28: FutureWarning: Downcasting object dtype arrays on .fillna, .ffill, .bfill is deprecated and will change in a future version. Call result.infer_objects(copy=False) instead. To opt-in to the future behavior, set `pd.set_option('future.no_silent_downcasting', True)`\n",
      "  group_df.ffill(inplace=True)  # Fill missing values with forward fill\n"
     ]
    },
    {
     "name": "stdout",
     "output_type": "stream",
     "text": [
      "Not enough data to split into train and test.\n",
      "Not enough data to split into train and test.\n",
      "Not enough data to split into train and test.\n",
      "Not enough data to split into train and test.\n",
      "Not enough data to split into train and test.\n"
     ]
    },
    {
     "name": "stderr",
     "output_type": "stream",
     "text": [
      "/var/folders/8l/psd7bpq137j_d5v8d7ntz0200000gn/T/ipykernel_27318/2411138453.py:28: FutureWarning: Downcasting object dtype arrays on .fillna, .ffill, .bfill is deprecated and will change in a future version. Call result.infer_objects(copy=False) instead. To opt-in to the future behavior, set `pd.set_option('future.no_silent_downcasting', True)`\n",
      "  group_df.ffill(inplace=True)  # Fill missing values with forward fill\n",
      "/var/folders/8l/psd7bpq137j_d5v8d7ntz0200000gn/T/ipykernel_27318/2411138453.py:28: FutureWarning: Downcasting object dtype arrays on .fillna, .ffill, .bfill is deprecated and will change in a future version. Call result.infer_objects(copy=False) instead. To opt-in to the future behavior, set `pd.set_option('future.no_silent_downcasting', True)`\n",
      "  group_df.ffill(inplace=True)  # Fill missing values with forward fill\n",
      "/var/folders/8l/psd7bpq137j_d5v8d7ntz0200000gn/T/ipykernel_27318/2411138453.py:28: FutureWarning: Downcasting object dtype arrays on .fillna, .ffill, .bfill is deprecated and will change in a future version. Call result.infer_objects(copy=False) instead. To opt-in to the future behavior, set `pd.set_option('future.no_silent_downcasting', True)`\n",
      "  group_df.ffill(inplace=True)  # Fill missing values with forward fill\n"
     ]
    },
    {
     "name": "stdout",
     "output_type": "stream",
     "text": [
      "Not enough data to split into train and test.\n",
      "Insufficient data to forecast for Part Number RIDGELINE-4|7 at Location 081|7. Skipping.\n",
      "Not enough data to split into train and test.\n",
      "Insufficient data to forecast for Part Number PH6100-4|7 at Location 020|7. Skipping.\n",
      "Not enough data to split into train and test.\n",
      "Not enough data to split into train and test.\n",
      "Not enough data to split into train and test.\n"
     ]
    },
    {
     "name": "stderr",
     "output_type": "stream",
     "text": [
      "/var/folders/8l/psd7bpq137j_d5v8d7ntz0200000gn/T/ipykernel_27318/2411138453.py:28: FutureWarning: Downcasting object dtype arrays on .fillna, .ffill, .bfill is deprecated and will change in a future version. Call result.infer_objects(copy=False) instead. To opt-in to the future behavior, set `pd.set_option('future.no_silent_downcasting', True)`\n",
      "  group_df.ffill(inplace=True)  # Fill missing values with forward fill\n",
      "/var/folders/8l/psd7bpq137j_d5v8d7ntz0200000gn/T/ipykernel_27318/2411138453.py:28: FutureWarning: Downcasting object dtype arrays on .fillna, .ffill, .bfill is deprecated and will change in a future version. Call result.infer_objects(copy=False) instead. To opt-in to the future behavior, set `pd.set_option('future.no_silent_downcasting', True)`\n",
      "  group_df.ffill(inplace=True)  # Fill missing values with forward fill\n",
      "/var/folders/8l/psd7bpq137j_d5v8d7ntz0200000gn/T/ipykernel_27318/2411138453.py:28: FutureWarning: Downcasting object dtype arrays on .fillna, .ffill, .bfill is deprecated and will change in a future version. Call result.infer_objects(copy=False) instead. To opt-in to the future behavior, set `pd.set_option('future.no_silent_downcasting', True)`\n",
      "  group_df.ffill(inplace=True)  # Fill missing values with forward fill\n"
     ]
    },
    {
     "name": "stdout",
     "output_type": "stream",
     "text": [
      "Not enough data to split into train and test.\n",
      "Not enough data to split into train and test.\n",
      "Not enough data to split into train and test.\n",
      "Not enough data to split into train and test.\n",
      "Insufficient data to forecast for Part Number GC-4|7 at Location 020|7. Skipping.\n"
     ]
    },
    {
     "name": "stderr",
     "output_type": "stream",
     "text": [
      "/var/folders/8l/psd7bpq137j_d5v8d7ntz0200000gn/T/ipykernel_27318/2411138453.py:28: FutureWarning: Downcasting object dtype arrays on .fillna, .ffill, .bfill is deprecated and will change in a future version. Call result.infer_objects(copy=False) instead. To opt-in to the future behavior, set `pd.set_option('future.no_silent_downcasting', True)`\n",
      "  group_df.ffill(inplace=True)  # Fill missing values with forward fill\n",
      "/var/folders/8l/psd7bpq137j_d5v8d7ntz0200000gn/T/ipykernel_27318/2411138453.py:28: FutureWarning: Downcasting object dtype arrays on .fillna, .ffill, .bfill is deprecated and will change in a future version. Call result.infer_objects(copy=False) instead. To opt-in to the future behavior, set `pd.set_option('future.no_silent_downcasting', True)`\n",
      "  group_df.ffill(inplace=True)  # Fill missing values with forward fill\n"
     ]
    },
    {
     "name": "stdout",
     "output_type": "stream",
     "text": [
      "Not enough data to split into train and test.\n",
      "Insufficient data to forecast for Part Number PH3000-1|7 at Location 081|7. Skipping.\n",
      "Not enough data to split into train and test.\n",
      "Not enough data to split into train and test.\n",
      "Not enough data to split into train and test.\n",
      "Not enough data to split into train and test.\n",
      "Insufficient data to forecast for Part Number FINALE-010|7 at Location 020|7. Skipping.\n"
     ]
    },
    {
     "name": "stderr",
     "output_type": "stream",
     "text": [
      "/var/folders/8l/psd7bpq137j_d5v8d7ntz0200000gn/T/ipykernel_27318/2411138453.py:28: FutureWarning: Downcasting object dtype arrays on .fillna, .ffill, .bfill is deprecated and will change in a future version. Call result.infer_objects(copy=False) instead. To opt-in to the future behavior, set `pd.set_option('future.no_silent_downcasting', True)`\n",
      "  group_df.ffill(inplace=True)  # Fill missing values with forward fill\n",
      "/var/folders/8l/psd7bpq137j_d5v8d7ntz0200000gn/T/ipykernel_27318/2411138453.py:28: FutureWarning: Downcasting object dtype arrays on .fillna, .ffill, .bfill is deprecated and will change in a future version. Call result.infer_objects(copy=False) instead. To opt-in to the future behavior, set `pd.set_option('future.no_silent_downcasting', True)`\n",
      "  group_df.ffill(inplace=True)  # Fill missing values with forward fill\n",
      "/var/folders/8l/psd7bpq137j_d5v8d7ntz0200000gn/T/ipykernel_27318/2411138453.py:28: FutureWarning: Downcasting object dtype arrays on .fillna, .ffill, .bfill is deprecated and will change in a future version. Call result.infer_objects(copy=False) instead. To opt-in to the future behavior, set `pd.set_option('future.no_silent_downcasting', True)`\n",
      "  group_df.ffill(inplace=True)  # Fill missing values with forward fill\n",
      "/var/folders/8l/psd7bpq137j_d5v8d7ntz0200000gn/T/ipykernel_27318/2411138453.py:28: FutureWarning: Downcasting object dtype arrays on .fillna, .ffill, .bfill is deprecated and will change in a future version. Call result.infer_objects(copy=False) instead. To opt-in to the future behavior, set `pd.set_option('future.no_silent_downcasting', True)`\n",
      "  group_df.ffill(inplace=True)  # Fill missing values with forward fill\n",
      "/var/folders/8l/psd7bpq137j_d5v8d7ntz0200000gn/T/ipykernel_27318/2411138453.py:28: FutureWarning: Downcasting object dtype arrays on .fillna, .ffill, .bfill is deprecated and will change in a future version. Call result.infer_objects(copy=False) instead. To opt-in to the future behavior, set `pd.set_option('future.no_silent_downcasting', True)`\n",
      "  group_df.ffill(inplace=True)  # Fill missing values with forward fill\n"
     ]
    },
    {
     "name": "stdout",
     "output_type": "stream",
     "text": [
      "Not enough data to split into train and test.\n",
      "Not enough data to split into train and test.\n",
      "Not enough data to split into train and test.\n",
      "Not enough data to split into train and test.\n",
      "Not enough data to split into train and test.\n"
     ]
    },
    {
     "name": "stderr",
     "output_type": "stream",
     "text": [
      "/var/folders/8l/psd7bpq137j_d5v8d7ntz0200000gn/T/ipykernel_27318/2411138453.py:28: FutureWarning: Downcasting object dtype arrays on .fillna, .ffill, .bfill is deprecated and will change in a future version. Call result.infer_objects(copy=False) instead. To opt-in to the future behavior, set `pd.set_option('future.no_silent_downcasting', True)`\n",
      "  group_df.ffill(inplace=True)  # Fill missing values with forward fill\n",
      "/var/folders/8l/psd7bpq137j_d5v8d7ntz0200000gn/T/ipykernel_27318/2411138453.py:28: FutureWarning: Downcasting object dtype arrays on .fillna, .ffill, .bfill is deprecated and will change in a future version. Call result.infer_objects(copy=False) instead. To opt-in to the future behavior, set `pd.set_option('future.no_silent_downcasting', True)`\n",
      "  group_df.ffill(inplace=True)  # Fill missing values with forward fill\n",
      "/var/folders/8l/psd7bpq137j_d5v8d7ntz0200000gn/T/ipykernel_27318/2411138453.py:28: FutureWarning: Downcasting object dtype arrays on .fillna, .ffill, .bfill is deprecated and will change in a future version. Call result.infer_objects(copy=False) instead. To opt-in to the future behavior, set `pd.set_option('future.no_silent_downcasting', True)`\n",
      "  group_df.ffill(inplace=True)  # Fill missing values with forward fill\n"
     ]
    },
    {
     "name": "stdout",
     "output_type": "stream",
     "text": [
      "Not enough data to split into train and test.\n",
      "Not enough data to split into train and test.\n",
      "Not enough data to split into train and test.\n",
      "Not enough data to split into train and test.\n",
      "Not enough data to split into train and test.\n",
      "Not enough data to split into train and test.\n",
      "Not enough data to split into train and test.\n",
      "Not enough data to split into train and test.\n",
      "Not enough data to split into train and test.\n",
      "Not enough data to split into train and test.\n"
     ]
    },
    {
     "name": "stderr",
     "output_type": "stream",
     "text": [
      "/var/folders/8l/psd7bpq137j_d5v8d7ntz0200000gn/T/ipykernel_27318/2411138453.py:28: FutureWarning: Downcasting object dtype arrays on .fillna, .ffill, .bfill is deprecated and will change in a future version. Call result.infer_objects(copy=False) instead. To opt-in to the future behavior, set `pd.set_option('future.no_silent_downcasting', True)`\n",
      "  group_df.ffill(inplace=True)  # Fill missing values with forward fill\n",
      "/var/folders/8l/psd7bpq137j_d5v8d7ntz0200000gn/T/ipykernel_27318/2411138453.py:28: FutureWarning: Downcasting object dtype arrays on .fillna, .ffill, .bfill is deprecated and will change in a future version. Call result.infer_objects(copy=False) instead. To opt-in to the future behavior, set `pd.set_option('future.no_silent_downcasting', True)`\n",
      "  group_df.ffill(inplace=True)  # Fill missing values with forward fill\n",
      "/var/folders/8l/psd7bpq137j_d5v8d7ntz0200000gn/T/ipykernel_27318/2411138453.py:28: FutureWarning: Downcasting object dtype arrays on .fillna, .ffill, .bfill is deprecated and will change in a future version. Call result.infer_objects(copy=False) instead. To opt-in to the future behavior, set `pd.set_option('future.no_silent_downcasting', True)`\n",
      "  group_df.ffill(inplace=True)  # Fill missing values with forward fill\n"
     ]
    },
    {
     "name": "stdout",
     "output_type": "stream",
     "text": [
      "Not enough data to split into train and test.\n",
      "Not enough data to split into train and test.\n",
      "Not enough data to split into train and test.\n",
      "Not enough data to split into train and test.\n",
      "Not enough data to split into train and test.\n"
     ]
    },
    {
     "name": "stderr",
     "output_type": "stream",
     "text": [
      "/var/folders/8l/psd7bpq137j_d5v8d7ntz0200000gn/T/ipykernel_27318/2411138453.py:28: FutureWarning: Downcasting object dtype arrays on .fillna, .ffill, .bfill is deprecated and will change in a future version. Call result.infer_objects(copy=False) instead. To opt-in to the future behavior, set `pd.set_option('future.no_silent_downcasting', True)`\n",
      "  group_df.ffill(inplace=True)  # Fill missing values with forward fill\n",
      "/var/folders/8l/psd7bpq137j_d5v8d7ntz0200000gn/T/ipykernel_27318/2411138453.py:28: FutureWarning: Downcasting object dtype arrays on .fillna, .ffill, .bfill is deprecated and will change in a future version. Call result.infer_objects(copy=False) instead. To opt-in to the future behavior, set `pd.set_option('future.no_silent_downcasting', True)`\n",
      "  group_df.ffill(inplace=True)  # Fill missing values with forward fill\n",
      "/var/folders/8l/psd7bpq137j_d5v8d7ntz0200000gn/T/ipykernel_27318/2411138453.py:28: FutureWarning: Downcasting object dtype arrays on .fillna, .ffill, .bfill is deprecated and will change in a future version. Call result.infer_objects(copy=False) instead. To opt-in to the future behavior, set `pd.set_option('future.no_silent_downcasting', True)`\n",
      "  group_df.ffill(inplace=True)  # Fill missing values with forward fill\n",
      "/var/folders/8l/psd7bpq137j_d5v8d7ntz0200000gn/T/ipykernel_27318/2411138453.py:28: FutureWarning: Downcasting object dtype arrays on .fillna, .ffill, .bfill is deprecated and will change in a future version. Call result.infer_objects(copy=False) instead. To opt-in to the future behavior, set `pd.set_option('future.no_silent_downcasting', True)`\n",
      "  group_df.ffill(inplace=True)  # Fill missing values with forward fill\n"
     ]
    },
    {
     "name": "stdout",
     "output_type": "stream",
     "text": [
      "Not enough data to split into train and test.\n",
      "Not enough data to split into train and test.\n",
      "Not enough data to split into train and test.\n",
      "Not enough data to split into train and test.\n",
      "Not enough data to split into train and test.\n"
     ]
    },
    {
     "name": "stderr",
     "output_type": "stream",
     "text": [
      "/var/folders/8l/psd7bpq137j_d5v8d7ntz0200000gn/T/ipykernel_27318/2411138453.py:28: FutureWarning: Downcasting object dtype arrays on .fillna, .ffill, .bfill is deprecated and will change in a future version. Call result.infer_objects(copy=False) instead. To opt-in to the future behavior, set `pd.set_option('future.no_silent_downcasting', True)`\n",
      "  group_df.ffill(inplace=True)  # Fill missing values with forward fill\n",
      "/var/folders/8l/psd7bpq137j_d5v8d7ntz0200000gn/T/ipykernel_27318/2411138453.py:28: FutureWarning: Downcasting object dtype arrays on .fillna, .ffill, .bfill is deprecated and will change in a future version. Call result.infer_objects(copy=False) instead. To opt-in to the future behavior, set `pd.set_option('future.no_silent_downcasting', True)`\n",
      "  group_df.ffill(inplace=True)  # Fill missing values with forward fill\n",
      "/var/folders/8l/psd7bpq137j_d5v8d7ntz0200000gn/T/ipykernel_27318/2411138453.py:28: FutureWarning: Downcasting object dtype arrays on .fillna, .ffill, .bfill is deprecated and will change in a future version. Call result.infer_objects(copy=False) instead. To opt-in to the future behavior, set `pd.set_option('future.no_silent_downcasting', True)`\n",
      "  group_df.ffill(inplace=True)  # Fill missing values with forward fill\n"
     ]
    },
    {
     "name": "stdout",
     "output_type": "stream",
     "text": [
      "Not enough data to split into train and test.\n",
      "Not enough data to split into train and test.\n",
      "Not enough data to split into train and test.\n",
      "Not enough data to split into train and test.\n",
      "Not enough data to split into train and test.\n",
      "Insufficient data to forecast for Part Number BRUCE-EQPRO-3.5|7 at Location 010|7. Skipping.\n"
     ]
    },
    {
     "name": "stderr",
     "output_type": "stream",
     "text": [
      "/var/folders/8l/psd7bpq137j_d5v8d7ntz0200000gn/T/ipykernel_27318/2411138453.py:28: FutureWarning: Downcasting object dtype arrays on .fillna, .ffill, .bfill is deprecated and will change in a future version. Call result.infer_objects(copy=False) instead. To opt-in to the future behavior, set `pd.set_option('future.no_silent_downcasting', True)`\n",
      "  group_df.ffill(inplace=True)  # Fill missing values with forward fill\n",
      "/var/folders/8l/psd7bpq137j_d5v8d7ntz0200000gn/T/ipykernel_27318/2411138453.py:28: FutureWarning: Downcasting object dtype arrays on .fillna, .ffill, .bfill is deprecated and will change in a future version. Call result.infer_objects(copy=False) instead. To opt-in to the future behavior, set `pd.set_option('future.no_silent_downcasting', True)`\n",
      "  group_df.ffill(inplace=True)  # Fill missing values with forward fill\n",
      "/var/folders/8l/psd7bpq137j_d5v8d7ntz0200000gn/T/ipykernel_27318/2411138453.py:28: FutureWarning: Downcasting object dtype arrays on .fillna, .ffill, .bfill is deprecated and will change in a future version. Call result.infer_objects(copy=False) instead. To opt-in to the future behavior, set `pd.set_option('future.no_silent_downcasting', True)`\n",
      "  group_df.ffill(inplace=True)  # Fill missing values with forward fill\n"
     ]
    },
    {
     "name": "stdout",
     "output_type": "stream",
     "text": [
      "Not enough data to split into train and test.\n",
      "Insufficient data to forecast for Part Number BRUCE-W165|7 at Location 010|7. Skipping.\n",
      "Not enough data to split into train and test.\n",
      "Not enough data to split into train and test.\n",
      "Not enough data to split into train and test.\n",
      "Not enough data to split into train and test.\n"
     ]
    },
    {
     "name": "stderr",
     "output_type": "stream",
     "text": [
      "/var/folders/8l/psd7bpq137j_d5v8d7ntz0200000gn/T/ipykernel_27318/2411138453.py:28: FutureWarning: Downcasting object dtype arrays on .fillna, .ffill, .bfill is deprecated and will change in a future version. Call result.infer_objects(copy=False) instead. To opt-in to the future behavior, set `pd.set_option('future.no_silent_downcasting', True)`\n",
      "  group_df.ffill(inplace=True)  # Fill missing values with forward fill\n",
      "/var/folders/8l/psd7bpq137j_d5v8d7ntz0200000gn/T/ipykernel_27318/2411138453.py:28: FutureWarning: Downcasting object dtype arrays on .fillna, .ffill, .bfill is deprecated and will change in a future version. Call result.infer_objects(copy=False) instead. To opt-in to the future behavior, set `pd.set_option('future.no_silent_downcasting', True)`\n",
      "  group_df.ffill(inplace=True)  # Fill missing values with forward fill\n",
      "/var/folders/8l/psd7bpq137j_d5v8d7ntz0200000gn/T/ipykernel_27318/2411138453.py:28: FutureWarning: Downcasting object dtype arrays on .fillna, .ffill, .bfill is deprecated and will change in a future version. Call result.infer_objects(copy=False) instead. To opt-in to the future behavior, set `pd.set_option('future.no_silent_downcasting', True)`\n",
      "  group_df.ffill(inplace=True)  # Fill missing values with forward fill\n"
     ]
    },
    {
     "name": "stdout",
     "output_type": "stream",
     "text": [
      "Not enough data to split into train and test.\n",
      "Not enough data to split into train and test.\n",
      "Not enough data to split into train and test.\n",
      "Not enough data to split into train and test.\n",
      "Not enough data to split into train and test.\n",
      "Not enough data to split into train and test.\n",
      "Not enough data to split into train and test.\n",
      "Not enough data to split into train and test.\n",
      "Not enough data to split into train and test.\n",
      "Not enough data to split into train and test.\n"
     ]
    },
    {
     "name": "stderr",
     "output_type": "stream",
     "text": [
      "/var/folders/8l/psd7bpq137j_d5v8d7ntz0200000gn/T/ipykernel_27318/2411138453.py:28: FutureWarning: Downcasting object dtype arrays on .fillna, .ffill, .bfill is deprecated and will change in a future version. Call result.infer_objects(copy=False) instead. To opt-in to the future behavior, set `pd.set_option('future.no_silent_downcasting', True)`\n",
      "  group_df.ffill(inplace=True)  # Fill missing values with forward fill\n",
      "/var/folders/8l/psd7bpq137j_d5v8d7ntz0200000gn/T/ipykernel_27318/2411138453.py:28: FutureWarning: Downcasting object dtype arrays on .fillna, .ffill, .bfill is deprecated and will change in a future version. Call result.infer_objects(copy=False) instead. To opt-in to the future behavior, set `pd.set_option('future.no_silent_downcasting', True)`\n",
      "  group_df.ffill(inplace=True)  # Fill missing values with forward fill\n"
     ]
    },
    {
     "name": "stdout",
     "output_type": "stream",
     "text": [
      "Not enough data to split into train and test.\n",
      "Not enough data to split into train and test.\n",
      "Not enough data to split into train and test.\n",
      "Not enough data to split into train and test.\n",
      "Not enough data to split into train and test.\n",
      "Not enough data to split into train and test.\n",
      "Not enough data to split into train and test.\n",
      "Not enough data to split into train and test.\n",
      "Not enough data to split into train and test.\n",
      "Not enough data to split into train and test.\n",
      "Insufficient data to forecast for Part Number IRONWOOD-4|7 at Location 082|7. Skipping.\n"
     ]
    },
    {
     "name": "stderr",
     "output_type": "stream",
     "text": [
      "/var/folders/8l/psd7bpq137j_d5v8d7ntz0200000gn/T/ipykernel_27318/2411138453.py:28: FutureWarning: Downcasting object dtype arrays on .fillna, .ffill, .bfill is deprecated and will change in a future version. Call result.infer_objects(copy=False) instead. To opt-in to the future behavior, set `pd.set_option('future.no_silent_downcasting', True)`\n",
      "  group_df.ffill(inplace=True)  # Fill missing values with forward fill\n",
      "/var/folders/8l/psd7bpq137j_d5v8d7ntz0200000gn/T/ipykernel_27318/2411138453.py:28: FutureWarning: Downcasting object dtype arrays on .fillna, .ffill, .bfill is deprecated and will change in a future version. Call result.infer_objects(copy=False) instead. To opt-in to the future behavior, set `pd.set_option('future.no_silent_downcasting', True)`\n",
      "  group_df.ffill(inplace=True)  # Fill missing values with forward fill\n",
      "/var/folders/8l/psd7bpq137j_d5v8d7ntz0200000gn/T/ipykernel_27318/2411138453.py:28: FutureWarning: Downcasting object dtype arrays on .fillna, .ffill, .bfill is deprecated and will change in a future version. Call result.infer_objects(copy=False) instead. To opt-in to the future behavior, set `pd.set_option('future.no_silent_downcasting', True)`\n",
      "  group_df.ffill(inplace=True)  # Fill missing values with forward fill\n",
      "/var/folders/8l/psd7bpq137j_d5v8d7ntz0200000gn/T/ipykernel_27318/2411138453.py:28: FutureWarning: Downcasting object dtype arrays on .fillna, .ffill, .bfill is deprecated and will change in a future version. Call result.infer_objects(copy=False) instead. To opt-in to the future behavior, set `pd.set_option('future.no_silent_downcasting', True)`\n",
      "  group_df.ffill(inplace=True)  # Fill missing values with forward fill\n",
      "/var/folders/8l/psd7bpq137j_d5v8d7ntz0200000gn/T/ipykernel_27318/2411138453.py:28: FutureWarning: Downcasting object dtype arrays on .fillna, .ffill, .bfill is deprecated and will change in a future version. Call result.infer_objects(copy=False) instead. To opt-in to the future behavior, set `pd.set_option('future.no_silent_downcasting', True)`\n",
      "  group_df.ffill(inplace=True)  # Fill missing values with forward fill\n"
     ]
    },
    {
     "name": "stdout",
     "output_type": "stream",
     "text": [
      "Not enough data to split into train and test.\n",
      "Not enough data to split into train and test.\n",
      "Not enough data to split into train and test.\n",
      "Not enough data to split into train and test.\n",
      "Not enough data to split into train and test.\n"
     ]
    },
    {
     "name": "stderr",
     "output_type": "stream",
     "text": [
      "/var/folders/8l/psd7bpq137j_d5v8d7ntz0200000gn/T/ipykernel_27318/2411138453.py:28: FutureWarning: Downcasting object dtype arrays on .fillna, .ffill, .bfill is deprecated and will change in a future version. Call result.infer_objects(copy=False) instead. To opt-in to the future behavior, set `pd.set_option('future.no_silent_downcasting', True)`\n",
      "  group_df.ffill(inplace=True)  # Fill missing values with forward fill\n",
      "/var/folders/8l/psd7bpq137j_d5v8d7ntz0200000gn/T/ipykernel_27318/2411138453.py:28: FutureWarning: Downcasting object dtype arrays on .fillna, .ffill, .bfill is deprecated and will change in a future version. Call result.infer_objects(copy=False) instead. To opt-in to the future behavior, set `pd.set_option('future.no_silent_downcasting', True)`\n",
      "  group_df.ffill(inplace=True)  # Fill missing values with forward fill\n",
      "/var/folders/8l/psd7bpq137j_d5v8d7ntz0200000gn/T/ipykernel_27318/2411138453.py:28: FutureWarning: Downcasting object dtype arrays on .fillna, .ffill, .bfill is deprecated and will change in a future version. Call result.infer_objects(copy=False) instead. To opt-in to the future behavior, set `pd.set_option('future.no_silent_downcasting', True)`\n",
      "  group_df.ffill(inplace=True)  # Fill missing values with forward fill\n"
     ]
    },
    {
     "name": "stdout",
     "output_type": "stream",
     "text": [
      "Not enough data to split into train and test.\n",
      "Not enough data to split into train and test.\n",
      "Not enough data to split into train and test.\n",
      "Not enough data to split into train and test.\n",
      "Not enough data to split into train and test.\n",
      "Not enough data to split into train and test.\n",
      "Not enough data to split into train and test.\n",
      "Not enough data to split into train and test.\n",
      "Not enough data to split into train and test.\n",
      "Insufficient data to forecast for Part Number FREIGHT|7 at Location 041|7. Skipping.\n",
      "Not enough data to split into train and test.\n"
     ]
    },
    {
     "name": "stderr",
     "output_type": "stream",
     "text": [
      "/var/folders/8l/psd7bpq137j_d5v8d7ntz0200000gn/T/ipykernel_27318/2411138453.py:28: FutureWarning: Downcasting object dtype arrays on .fillna, .ffill, .bfill is deprecated and will change in a future version. Call result.infer_objects(copy=False) instead. To opt-in to the future behavior, set `pd.set_option('future.no_silent_downcasting', True)`\n",
      "  group_df.ffill(inplace=True)  # Fill missing values with forward fill\n",
      "/var/folders/8l/psd7bpq137j_d5v8d7ntz0200000gn/T/ipykernel_27318/2411138453.py:28: FutureWarning: Downcasting object dtype arrays on .fillna, .ffill, .bfill is deprecated and will change in a future version. Call result.infer_objects(copy=False) instead. To opt-in to the future behavior, set `pd.set_option('future.no_silent_downcasting', True)`\n",
      "  group_df.ffill(inplace=True)  # Fill missing values with forward fill\n",
      "/var/folders/8l/psd7bpq137j_d5v8d7ntz0200000gn/T/ipykernel_27318/2411138453.py:28: FutureWarning: Downcasting object dtype arrays on .fillna, .ffill, .bfill is deprecated and will change in a future version. Call result.infer_objects(copy=False) instead. To opt-in to the future behavior, set `pd.set_option('future.no_silent_downcasting', True)`\n",
      "  group_df.ffill(inplace=True)  # Fill missing values with forward fill\n"
     ]
    },
    {
     "name": "stdout",
     "output_type": "stream",
     "text": [
      "Not enough data to split into train and test.\n",
      "Not enough data to split into train and test.\n",
      "Not enough data to split into train and test.\n",
      "Not enough data to split into train and test.\n",
      "Not enough data to split into train and test.\n"
     ]
    },
    {
     "name": "stderr",
     "output_type": "stream",
     "text": [
      "/var/folders/8l/psd7bpq137j_d5v8d7ntz0200000gn/T/ipykernel_27318/2411138453.py:28: FutureWarning: Downcasting object dtype arrays on .fillna, .ffill, .bfill is deprecated and will change in a future version. Call result.infer_objects(copy=False) instead. To opt-in to the future behavior, set `pd.set_option('future.no_silent_downcasting', True)`\n",
      "  group_df.ffill(inplace=True)  # Fill missing values with forward fill\n",
      "/var/folders/8l/psd7bpq137j_d5v8d7ntz0200000gn/T/ipykernel_27318/2411138453.py:28: FutureWarning: Downcasting object dtype arrays on .fillna, .ffill, .bfill is deprecated and will change in a future version. Call result.infer_objects(copy=False) instead. To opt-in to the future behavior, set `pd.set_option('future.no_silent_downcasting', True)`\n",
      "  group_df.ffill(inplace=True)  # Fill missing values with forward fill\n",
      "/var/folders/8l/psd7bpq137j_d5v8d7ntz0200000gn/T/ipykernel_27318/2411138453.py:28: FutureWarning: Downcasting object dtype arrays on .fillna, .ffill, .bfill is deprecated and will change in a future version. Call result.infer_objects(copy=False) instead. To opt-in to the future behavior, set `pd.set_option('future.no_silent_downcasting', True)`\n",
      "  group_df.ffill(inplace=True)  # Fill missing values with forward fill\n",
      "/var/folders/8l/psd7bpq137j_d5v8d7ntz0200000gn/T/ipykernel_27318/2411138453.py:28: FutureWarning: Downcasting object dtype arrays on .fillna, .ffill, .bfill is deprecated and will change in a future version. Call result.infer_objects(copy=False) instead. To opt-in to the future behavior, set `pd.set_option('future.no_silent_downcasting', True)`\n",
      "  group_df.ffill(inplace=True)  # Fill missing values with forward fill\n"
     ]
    },
    {
     "name": "stdout",
     "output_type": "stream",
     "text": [
      "Not enough data to split into train and test.\n",
      "Not enough data to split into train and test.\n",
      "Not enough data to split into train and test.\n",
      "Not enough data to split into train and test.\n",
      "Not enough data to split into train and test.\n"
     ]
    },
    {
     "name": "stderr",
     "output_type": "stream",
     "text": [
      "/var/folders/8l/psd7bpq137j_d5v8d7ntz0200000gn/T/ipykernel_27318/2411138453.py:28: FutureWarning: Downcasting object dtype arrays on .fillna, .ffill, .bfill is deprecated and will change in a future version. Call result.infer_objects(copy=False) instead. To opt-in to the future behavior, set `pd.set_option('future.no_silent_downcasting', True)`\n",
      "  group_df.ffill(inplace=True)  # Fill missing values with forward fill\n",
      "/var/folders/8l/psd7bpq137j_d5v8d7ntz0200000gn/T/ipykernel_27318/2411138453.py:28: FutureWarning: Downcasting object dtype arrays on .fillna, .ffill, .bfill is deprecated and will change in a future version. Call result.infer_objects(copy=False) instead. To opt-in to the future behavior, set `pd.set_option('future.no_silent_downcasting', True)`\n",
      "  group_df.ffill(inplace=True)  # Fill missing values with forward fill\n",
      "/var/folders/8l/psd7bpq137j_d5v8d7ntz0200000gn/T/ipykernel_27318/2411138453.py:28: FutureWarning: Downcasting object dtype arrays on .fillna, .ffill, .bfill is deprecated and will change in a future version. Call result.infer_objects(copy=False) instead. To opt-in to the future behavior, set `pd.set_option('future.no_silent_downcasting', True)`\n",
      "  group_df.ffill(inplace=True)  # Fill missing values with forward fill\n",
      "/var/folders/8l/psd7bpq137j_d5v8d7ntz0200000gn/T/ipykernel_27318/2411138453.py:28: FutureWarning: Downcasting object dtype arrays on .fillna, .ffill, .bfill is deprecated and will change in a future version. Call result.infer_objects(copy=False) instead. To opt-in to the future behavior, set `pd.set_option('future.no_silent_downcasting', True)`\n",
      "  group_df.ffill(inplace=True)  # Fill missing values with forward fill\n"
     ]
    },
    {
     "name": "stdout",
     "output_type": "stream",
     "text": [
      "Not enough data to split into train and test.\n",
      "Not enough data to split into train and test.\n",
      "Not enough data to split into train and test.\n",
      "Insufficient data to forecast for Part Number DYNAMIC-1-DVN|7 at Location 010|7. Skipping.\n",
      "Not enough data to split into train and test.\n",
      "Not enough data to split into train and test.\n"
     ]
    },
    {
     "name": "stderr",
     "output_type": "stream",
     "text": [
      "/var/folders/8l/psd7bpq137j_d5v8d7ntz0200000gn/T/ipykernel_27318/2411138453.py:28: FutureWarning: Downcasting object dtype arrays on .fillna, .ffill, .bfill is deprecated and will change in a future version. Call result.infer_objects(copy=False) instead. To opt-in to the future behavior, set `pd.set_option('future.no_silent_downcasting', True)`\n",
      "  group_df.ffill(inplace=True)  # Fill missing values with forward fill\n",
      "/var/folders/8l/psd7bpq137j_d5v8d7ntz0200000gn/T/ipykernel_27318/2411138453.py:28: FutureWarning: Downcasting object dtype arrays on .fillna, .ffill, .bfill is deprecated and will change in a future version. Call result.infer_objects(copy=False) instead. To opt-in to the future behavior, set `pd.set_option('future.no_silent_downcasting', True)`\n",
      "  group_df.ffill(inplace=True)  # Fill missing values with forward fill\n",
      "/var/folders/8l/psd7bpq137j_d5v8d7ntz0200000gn/T/ipykernel_27318/2411138453.py:28: FutureWarning: Downcasting object dtype arrays on .fillna, .ffill, .bfill is deprecated and will change in a future version. Call result.infer_objects(copy=False) instead. To opt-in to the future behavior, set `pd.set_option('future.no_silent_downcasting', True)`\n",
      "  group_df.ffill(inplace=True)  # Fill missing values with forward fill\n",
      "/var/folders/8l/psd7bpq137j_d5v8d7ntz0200000gn/T/ipykernel_27318/2411138453.py:28: FutureWarning: Downcasting object dtype arrays on .fillna, .ffill, .bfill is deprecated and will change in a future version. Call result.infer_objects(copy=False) instead. To opt-in to the future behavior, set `pd.set_option('future.no_silent_downcasting', True)`\n",
      "  group_df.ffill(inplace=True)  # Fill missing values with forward fill\n",
      "/var/folders/8l/psd7bpq137j_d5v8d7ntz0200000gn/T/ipykernel_27318/2411138453.py:28: FutureWarning: Downcasting object dtype arrays on .fillna, .ffill, .bfill is deprecated and will change in a future version. Call result.infer_objects(copy=False) instead. To opt-in to the future behavior, set `pd.set_option('future.no_silent_downcasting', True)`\n",
      "  group_df.ffill(inplace=True)  # Fill missing values with forward fill\n"
     ]
    },
    {
     "name": "stdout",
     "output_type": "stream",
     "text": [
      "Not enough data to split into train and test.\n",
      "Not enough data to split into train and test.\n",
      "Not enough data to split into train and test.\n",
      "Not enough data to split into train and test.\n",
      "Not enough data to split into train and test.\n",
      "Not enough data to split into train and test.\n",
      "Not enough data to split into train and test.\n",
      "Not enough data to split into train and test.\n",
      "Not enough data to split into train and test.\n"
     ]
    },
    {
     "name": "stderr",
     "output_type": "stream",
     "text": [
      "/var/folders/8l/psd7bpq137j_d5v8d7ntz0200000gn/T/ipykernel_27318/2411138453.py:28: FutureWarning: Downcasting object dtype arrays on .fillna, .ffill, .bfill is deprecated and will change in a future version. Call result.infer_objects(copy=False) instead. To opt-in to the future behavior, set `pd.set_option('future.no_silent_downcasting', True)`\n",
      "  group_df.ffill(inplace=True)  # Fill missing values with forward fill\n",
      "/var/folders/8l/psd7bpq137j_d5v8d7ntz0200000gn/T/ipykernel_27318/2411138453.py:28: FutureWarning: Downcasting object dtype arrays on .fillna, .ffill, .bfill is deprecated and will change in a future version. Call result.infer_objects(copy=False) instead. To opt-in to the future behavior, set `pd.set_option('future.no_silent_downcasting', True)`\n",
      "  group_df.ffill(inplace=True)  # Fill missing values with forward fill\n",
      "/var/folders/8l/psd7bpq137j_d5v8d7ntz0200000gn/T/ipykernel_27318/2411138453.py:28: FutureWarning: Downcasting object dtype arrays on .fillna, .ffill, .bfill is deprecated and will change in a future version. Call result.infer_objects(copy=False) instead. To opt-in to the future behavior, set `pd.set_option('future.no_silent_downcasting', True)`\n",
      "  group_df.ffill(inplace=True)  # Fill missing values with forward fill\n",
      "/var/folders/8l/psd7bpq137j_d5v8d7ntz0200000gn/T/ipykernel_27318/2411138453.py:28: FutureWarning: Downcasting object dtype arrays on .fillna, .ffill, .bfill is deprecated and will change in a future version. Call result.infer_objects(copy=False) instead. To opt-in to the future behavior, set `pd.set_option('future.no_silent_downcasting', True)`\n",
      "  group_df.ffill(inplace=True)  # Fill missing values with forward fill\n",
      "/var/folders/8l/psd7bpq137j_d5v8d7ntz0200000gn/T/ipykernel_27318/2411138453.py:28: FutureWarning: Downcasting object dtype arrays on .fillna, .ffill, .bfill is deprecated and will change in a future version. Call result.infer_objects(copy=False) instead. To opt-in to the future behavior, set `pd.set_option('future.no_silent_downcasting', True)`\n",
      "  group_df.ffill(inplace=True)  # Fill missing values with forward fill\n"
     ]
    },
    {
     "name": "stdout",
     "output_type": "stream",
     "text": [
      "Not enough data to split into train and test.\n",
      "Not enough data to split into train and test.\n",
      "Insufficient data to forecast for Part Number FTU15-5-CX|7 at Location 035|7. Skipping.\n",
      "Not enough data to split into train and test.\n",
      "Not enough data to split into train and test.\n",
      "Not enough data to split into train and test.\n",
      "Not enough data to split into train and test.\n"
     ]
    },
    {
     "name": "stderr",
     "output_type": "stream",
     "text": [
      "/var/folders/8l/psd7bpq137j_d5v8d7ntz0200000gn/T/ipykernel_27318/2411138453.py:28: FutureWarning: Downcasting object dtype arrays on .fillna, .ffill, .bfill is deprecated and will change in a future version. Call result.infer_objects(copy=False) instead. To opt-in to the future behavior, set `pd.set_option('future.no_silent_downcasting', True)`\n",
      "  group_df.ffill(inplace=True)  # Fill missing values with forward fill\n",
      "/var/folders/8l/psd7bpq137j_d5v8d7ntz0200000gn/T/ipykernel_27318/2411138453.py:28: FutureWarning: Downcasting object dtype arrays on .fillna, .ffill, .bfill is deprecated and will change in a future version. Call result.infer_objects(copy=False) instead. To opt-in to the future behavior, set `pd.set_option('future.no_silent_downcasting', True)`\n",
      "  group_df.ffill(inplace=True)  # Fill missing values with forward fill\n",
      "/var/folders/8l/psd7bpq137j_d5v8d7ntz0200000gn/T/ipykernel_27318/2411138453.py:28: FutureWarning: Downcasting object dtype arrays on .fillna, .ffill, .bfill is deprecated and will change in a future version. Call result.infer_objects(copy=False) instead. To opt-in to the future behavior, set `pd.set_option('future.no_silent_downcasting', True)`\n",
      "  group_df.ffill(inplace=True)  # Fill missing values with forward fill\n",
      "/var/folders/8l/psd7bpq137j_d5v8d7ntz0200000gn/T/ipykernel_27318/2411138453.py:28: FutureWarning: Downcasting object dtype arrays on .fillna, .ffill, .bfill is deprecated and will change in a future version. Call result.infer_objects(copy=False) instead. To opt-in to the future behavior, set `pd.set_option('future.no_silent_downcasting', True)`\n",
      "  group_df.ffill(inplace=True)  # Fill missing values with forward fill\n"
     ]
    },
    {
     "name": "stdout",
     "output_type": "stream",
     "text": [
      "Not enough data to split into train and test.\n",
      "Not enough data to split into train and test.\n",
      "Not enough data to split into train and test.\n",
      "Not enough data to split into train and test.\n",
      "Not enough data to split into train and test.\n"
     ]
    },
    {
     "name": "stderr",
     "output_type": "stream",
     "text": [
      "/var/folders/8l/psd7bpq137j_d5v8d7ntz0200000gn/T/ipykernel_27318/2411138453.py:28: FutureWarning: Downcasting object dtype arrays on .fillna, .ffill, .bfill is deprecated and will change in a future version. Call result.infer_objects(copy=False) instead. To opt-in to the future behavior, set `pd.set_option('future.no_silent_downcasting', True)`\n",
      "  group_df.ffill(inplace=True)  # Fill missing values with forward fill\n",
      "/var/folders/8l/psd7bpq137j_d5v8d7ntz0200000gn/T/ipykernel_27318/2411138453.py:28: FutureWarning: Downcasting object dtype arrays on .fillna, .ffill, .bfill is deprecated and will change in a future version. Call result.infer_objects(copy=False) instead. To opt-in to the future behavior, set `pd.set_option('future.no_silent_downcasting', True)`\n",
      "  group_df.ffill(inplace=True)  # Fill missing values with forward fill\n",
      "/var/folders/8l/psd7bpq137j_d5v8d7ntz0200000gn/T/ipykernel_27318/2411138453.py:28: FutureWarning: Downcasting object dtype arrays on .fillna, .ffill, .bfill is deprecated and will change in a future version. Call result.infer_objects(copy=False) instead. To opt-in to the future behavior, set `pd.set_option('future.no_silent_downcasting', True)`\n",
      "  group_df.ffill(inplace=True)  # Fill missing values with forward fill\n"
     ]
    },
    {
     "name": "stdout",
     "output_type": "stream",
     "text": [
      "Not enough data to split into train and test.\n",
      "Not enough data to split into train and test.\n",
      "Not enough data to split into train and test.\n",
      "Not enough data to split into train and test.\n",
      "Not enough data to split into train and test.\n",
      "Not enough data to split into train and test.\n",
      "Not enough data to split into train and test.\n",
      "Not enough data to split into train and test.\n",
      "Not enough data to split into train and test.\n",
      "Not enough data to split into train and test.\n",
      "Not enough data to split into train and test.\n"
     ]
    },
    {
     "name": "stderr",
     "output_type": "stream",
     "text": [
      "/var/folders/8l/psd7bpq137j_d5v8d7ntz0200000gn/T/ipykernel_27318/2411138453.py:28: FutureWarning: Downcasting object dtype arrays on .fillna, .ffill, .bfill is deprecated and will change in a future version. Call result.infer_objects(copy=False) instead. To opt-in to the future behavior, set `pd.set_option('future.no_silent_downcasting', True)`\n",
      "  group_df.ffill(inplace=True)  # Fill missing values with forward fill\n",
      "/var/folders/8l/psd7bpq137j_d5v8d7ntz0200000gn/T/ipykernel_27318/2411138453.py:28: FutureWarning: Downcasting object dtype arrays on .fillna, .ffill, .bfill is deprecated and will change in a future version. Call result.infer_objects(copy=False) instead. To opt-in to the future behavior, set `pd.set_option('future.no_silent_downcasting', True)`\n",
      "  group_df.ffill(inplace=True)  # Fill missing values with forward fill\n",
      "/var/folders/8l/psd7bpq137j_d5v8d7ntz0200000gn/T/ipykernel_27318/2411138453.py:28: FutureWarning: Downcasting object dtype arrays on .fillna, .ffill, .bfill is deprecated and will change in a future version. Call result.infer_objects(copy=False) instead. To opt-in to the future behavior, set `pd.set_option('future.no_silent_downcasting', True)`\n",
      "  group_df.ffill(inplace=True)  # Fill missing values with forward fill\n",
      "/var/folders/8l/psd7bpq137j_d5v8d7ntz0200000gn/T/ipykernel_27318/2411138453.py:28: FutureWarning: Downcasting object dtype arrays on .fillna, .ffill, .bfill is deprecated and will change in a future version. Call result.infer_objects(copy=False) instead. To opt-in to the future behavior, set `pd.set_option('future.no_silent_downcasting', True)`\n",
      "  group_df.ffill(inplace=True)  # Fill missing values with forward fill\n",
      "/var/folders/8l/psd7bpq137j_d5v8d7ntz0200000gn/T/ipykernel_27318/2411138453.py:28: FutureWarning: Downcasting object dtype arrays on .fillna, .ffill, .bfill is deprecated and will change in a future version. Call result.infer_objects(copy=False) instead. To opt-in to the future behavior, set `pd.set_option('future.no_silent_downcasting', True)`\n",
      "  group_df.ffill(inplace=True)  # Fill missing values with forward fill\n"
     ]
    },
    {
     "name": "stdout",
     "output_type": "stream",
     "text": [
      "Not enough data to split into train and test.\n",
      "Not enough data to split into train and test.\n",
      "Not enough data to split into train and test.\n",
      "Not enough data to split into train and test.\n",
      "Insufficient data to forecast for Part Number PH3000-4F|7 at Location 081|7. Skipping.\n",
      "Not enough data to split into train and test.\n"
     ]
    },
    {
     "name": "stderr",
     "output_type": "stream",
     "text": [
      "/var/folders/8l/psd7bpq137j_d5v8d7ntz0200000gn/T/ipykernel_27318/2411138453.py:28: FutureWarning: Downcasting object dtype arrays on .fillna, .ffill, .bfill is deprecated and will change in a future version. Call result.infer_objects(copy=False) instead. To opt-in to the future behavior, set `pd.set_option('future.no_silent_downcasting', True)`\n",
      "  group_df.ffill(inplace=True)  # Fill missing values with forward fill\n",
      "/var/folders/8l/psd7bpq137j_d5v8d7ntz0200000gn/T/ipykernel_27318/2411138453.py:28: FutureWarning: Downcasting object dtype arrays on .fillna, .ffill, .bfill is deprecated and will change in a future version. Call result.infer_objects(copy=False) instead. To opt-in to the future behavior, set `pd.set_option('future.no_silent_downcasting', True)`\n",
      "  group_df.ffill(inplace=True)  # Fill missing values with forward fill\n"
     ]
    },
    {
     "name": "stdout",
     "output_type": "stream",
     "text": [
      "Not enough data to split into train and test.\n",
      "Not enough data to split into train and test.\n",
      "Not enough data to split into train and test.\n",
      "Not enough data to split into train and test.\n",
      "Not enough data to split into train and test.\n",
      "Not enough data to split into train and test.\n",
      "Not enough data to split into train and test.\n",
      "Insufficient data to forecast for Part Number FTPS500-1|7 at Location 035|7. Skipping.\n",
      "Not enough data to split into train and test.\n",
      "Not enough data to split into train and test.\n",
      "Not enough data to split into train and test.\n"
     ]
    },
    {
     "name": "stderr",
     "output_type": "stream",
     "text": [
      "/var/folders/8l/psd7bpq137j_d5v8d7ntz0200000gn/T/ipykernel_27318/2411138453.py:28: FutureWarning: Downcasting object dtype arrays on .fillna, .ffill, .bfill is deprecated and will change in a future version. Call result.infer_objects(copy=False) instead. To opt-in to the future behavior, set `pd.set_option('future.no_silent_downcasting', True)`\n",
      "  group_df.ffill(inplace=True)  # Fill missing values with forward fill\n",
      "/var/folders/8l/psd7bpq137j_d5v8d7ntz0200000gn/T/ipykernel_27318/2411138453.py:28: FutureWarning: Downcasting object dtype arrays on .fillna, .ffill, .bfill is deprecated and will change in a future version. Call result.infer_objects(copy=False) instead. To opt-in to the future behavior, set `pd.set_option('future.no_silent_downcasting', True)`\n",
      "  group_df.ffill(inplace=True)  # Fill missing values with forward fill\n",
      "/var/folders/8l/psd7bpq137j_d5v8d7ntz0200000gn/T/ipykernel_27318/2411138453.py:28: FutureWarning: Downcasting object dtype arrays on .fillna, .ffill, .bfill is deprecated and will change in a future version. Call result.infer_objects(copy=False) instead. To opt-in to the future behavior, set `pd.set_option('future.no_silent_downcasting', True)`\n",
      "  group_df.ffill(inplace=True)  # Fill missing values with forward fill\n",
      "/var/folders/8l/psd7bpq137j_d5v8d7ntz0200000gn/T/ipykernel_27318/2411138453.py:28: FutureWarning: Downcasting object dtype arrays on .fillna, .ffill, .bfill is deprecated and will change in a future version. Call result.infer_objects(copy=False) instead. To opt-in to the future behavior, set `pd.set_option('future.no_silent_downcasting', True)`\n",
      "  group_df.ffill(inplace=True)  # Fill missing values with forward fill\n",
      "/var/folders/8l/psd7bpq137j_d5v8d7ntz0200000gn/T/ipykernel_27318/2411138453.py:28: FutureWarning: Downcasting object dtype arrays on .fillna, .ffill, .bfill is deprecated and will change in a future version. Call result.infer_objects(copy=False) instead. To opt-in to the future behavior, set `pd.set_option('future.no_silent_downcasting', True)`\n",
      "  group_df.ffill(inplace=True)  # Fill missing values with forward fill\n",
      "/var/folders/8l/psd7bpq137j_d5v8d7ntz0200000gn/T/ipykernel_27318/2411138453.py:28: FutureWarning: Downcasting object dtype arrays on .fillna, .ffill, .bfill is deprecated and will change in a future version. Call result.infer_objects(copy=False) instead. To opt-in to the future behavior, set `pd.set_option('future.no_silent_downcasting', True)`\n",
      "  group_df.ffill(inplace=True)  # Fill missing values with forward fill\n",
      "/var/folders/8l/psd7bpq137j_d5v8d7ntz0200000gn/T/ipykernel_27318/2411138453.py:28: FutureWarning: Downcasting object dtype arrays on .fillna, .ffill, .bfill is deprecated and will change in a future version. Call result.infer_objects(copy=False) instead. To opt-in to the future behavior, set `pd.set_option('future.no_silent_downcasting', True)`\n",
      "  group_df.ffill(inplace=True)  # Fill missing values with forward fill\n",
      "/var/folders/8l/psd7bpq137j_d5v8d7ntz0200000gn/T/ipykernel_27318/2411138453.py:28: FutureWarning: Downcasting object dtype arrays on .fillna, .ffill, .bfill is deprecated and will change in a future version. Call result.infer_objects(copy=False) instead. To opt-in to the future behavior, set `pd.set_option('future.no_silent_downcasting', True)`\n",
      "  group_df.ffill(inplace=True)  # Fill missing values with forward fill\n"
     ]
    },
    {
     "name": "stdout",
     "output_type": "stream",
     "text": [
      "Not enough data to split into train and test.\n",
      "Not enough data to split into train and test.\n",
      "Not enough data to split into train and test.\n",
      "Not enough data to split into train and test.\n",
      "Not enough data to split into train and test.\n",
      "Insufficient data to forecast for Part Number SL400-1|7 at Location 020|7. Skipping.\n"
     ]
    },
    {
     "name": "stderr",
     "output_type": "stream",
     "text": [
      "/var/folders/8l/psd7bpq137j_d5v8d7ntz0200000gn/T/ipykernel_27318/2411138453.py:28: FutureWarning: Downcasting object dtype arrays on .fillna, .ffill, .bfill is deprecated and will change in a future version. Call result.infer_objects(copy=False) instead. To opt-in to the future behavior, set `pd.set_option('future.no_silent_downcasting', True)`\n",
      "  group_df.ffill(inplace=True)  # Fill missing values with forward fill\n",
      "/var/folders/8l/psd7bpq137j_d5v8d7ntz0200000gn/T/ipykernel_27318/2411138453.py:28: FutureWarning: Downcasting object dtype arrays on .fillna, .ffill, .bfill is deprecated and will change in a future version. Call result.infer_objects(copy=False) instead. To opt-in to the future behavior, set `pd.set_option('future.no_silent_downcasting', True)`\n",
      "  group_df.ffill(inplace=True)  # Fill missing values with forward fill\n",
      "/var/folders/8l/psd7bpq137j_d5v8d7ntz0200000gn/T/ipykernel_27318/2411138453.py:28: FutureWarning: Downcasting object dtype arrays on .fillna, .ffill, .bfill is deprecated and will change in a future version. Call result.infer_objects(copy=False) instead. To opt-in to the future behavior, set `pd.set_option('future.no_silent_downcasting', True)`\n",
      "  group_df.ffill(inplace=True)  # Fill missing values with forward fill\n",
      "/var/folders/8l/psd7bpq137j_d5v8d7ntz0200000gn/T/ipykernel_27318/2411138453.py:28: FutureWarning: Downcasting object dtype arrays on .fillna, .ffill, .bfill is deprecated and will change in a future version. Call result.infer_objects(copy=False) instead. To opt-in to the future behavior, set `pd.set_option('future.no_silent_downcasting', True)`\n",
      "  group_df.ffill(inplace=True)  # Fill missing values with forward fill\n"
     ]
    },
    {
     "name": "stdout",
     "output_type": "stream",
     "text": [
      "Not enough data to split into train and test.\n",
      "Insufficient data to forecast for Part Number RESOLUTE-2-SAR|7 at Location 020|7. Skipping.\n",
      "Not enough data to split into train and test.\n",
      "Not enough data to split into train and test.\n",
      "Insufficient data to forecast for Part Number PH050-08|7 at Location 020|7. Skipping.\n",
      "Not enough data to split into train and test.\n",
      "Not enough data to split into train and test.\n",
      "Not enough data to split into train and test.\n",
      "Not enough data to split into train and test.\n",
      "Not enough data to split into train and test.\n",
      "Insufficient data to forecast for Part Number TIMBERLINE-5-OM|7 at Location 010|7. Skipping.\n",
      "Not enough data to split into train and test.\n",
      "Insufficient data to forecast for Part Number FTU5-4-FUZ|7 at Location 035|7. Skipping.\n",
      "Not enough data to split into train and test.\n",
      "Not enough data to split into train and test.\n"
     ]
    },
    {
     "name": "stderr",
     "output_type": "stream",
     "text": [
      "/var/folders/8l/psd7bpq137j_d5v8d7ntz0200000gn/T/ipykernel_27318/2411138453.py:28: FutureWarning: Downcasting object dtype arrays on .fillna, .ffill, .bfill is deprecated and will change in a future version. Call result.infer_objects(copy=False) instead. To opt-in to the future behavior, set `pd.set_option('future.no_silent_downcasting', True)`\n",
      "  group_df.ffill(inplace=True)  # Fill missing values with forward fill\n"
     ]
    },
    {
     "name": "stdout",
     "output_type": "stream",
     "text": [
      "Not enough data to split into train and test.\n",
      "Not enough data to split into train and test.\n",
      "Not enough data to split into train and test.\n",
      "Not enough data to split into train and test.\n",
      "Not enough data to split into train and test.\n"
     ]
    },
    {
     "name": "stderr",
     "output_type": "stream",
     "text": [
      "/var/folders/8l/psd7bpq137j_d5v8d7ntz0200000gn/T/ipykernel_27318/2411138453.py:28: FutureWarning: Downcasting object dtype arrays on .fillna, .ffill, .bfill is deprecated and will change in a future version. Call result.infer_objects(copy=False) instead. To opt-in to the future behavior, set `pd.set_option('future.no_silent_downcasting', True)`\n",
      "  group_df.ffill(inplace=True)  # Fill missing values with forward fill\n",
      "/var/folders/8l/psd7bpq137j_d5v8d7ntz0200000gn/T/ipykernel_27318/2411138453.py:28: FutureWarning: Downcasting object dtype arrays on .fillna, .ffill, .bfill is deprecated and will change in a future version. Call result.infer_objects(copy=False) instead. To opt-in to the future behavior, set `pd.set_option('future.no_silent_downcasting', True)`\n",
      "  group_df.ffill(inplace=True)  # Fill missing values with forward fill\n"
     ]
    },
    {
     "name": "stdout",
     "output_type": "stream",
     "text": [
      "Not enough data to split into train and test.\n",
      "Not enough data to split into train and test.\n",
      "Not enough data to split into train and test.\n",
      "Insufficient data to forecast for Part Number FTU25-4-MHC|7 at Location 010|7. Skipping.\n",
      "Not enough data to split into train and test.\n",
      "Not enough data to split into train and test.\n",
      "Insufficient data to forecast for Part Number FTU25-4-FUZ|7 at Location 035|7. Skipping.\n",
      "Not enough data to split into train and test.\n",
      "Not enough data to split into train and test.\n",
      "Not enough data to split into train and test.\n",
      "Not enough data to split into train and test.\n",
      "Not enough data to split into train and test.\n"
     ]
    },
    {
     "name": "stderr",
     "output_type": "stream",
     "text": [
      "/var/folders/8l/psd7bpq137j_d5v8d7ntz0200000gn/T/ipykernel_27318/2411138453.py:28: FutureWarning: Downcasting object dtype arrays on .fillna, .ffill, .bfill is deprecated and will change in a future version. Call result.infer_objects(copy=False) instead. To opt-in to the future behavior, set `pd.set_option('future.no_silent_downcasting', True)`\n",
      "  group_df.ffill(inplace=True)  # Fill missing values with forward fill\n"
     ]
    },
    {
     "name": "stdout",
     "output_type": "stream",
     "text": [
      "Not enough data to split into train and test.\n",
      "Not enough data to split into train and test.\n",
      "Not enough data to split into train and test.\n",
      "Not enough data to split into train and test.\n",
      "Not enough data to split into train and test.\n"
     ]
    },
    {
     "name": "stderr",
     "output_type": "stream",
     "text": [
      "/var/folders/8l/psd7bpq137j_d5v8d7ntz0200000gn/T/ipykernel_27318/2411138453.py:28: FutureWarning: Downcasting object dtype arrays on .fillna, .ffill, .bfill is deprecated and will change in a future version. Call result.infer_objects(copy=False) instead. To opt-in to the future behavior, set `pd.set_option('future.no_silent_downcasting', True)`\n",
      "  group_df.ffill(inplace=True)  # Fill missing values with forward fill\n",
      "/var/folders/8l/psd7bpq137j_d5v8d7ntz0200000gn/T/ipykernel_27318/2411138453.py:28: FutureWarning: Downcasting object dtype arrays on .fillna, .ffill, .bfill is deprecated and will change in a future version. Call result.infer_objects(copy=False) instead. To opt-in to the future behavior, set `pd.set_option('future.no_silent_downcasting', True)`\n",
      "  group_df.ffill(inplace=True)  # Fill missing values with forward fill\n"
     ]
    },
    {
     "name": "stdout",
     "output_type": "stream",
     "text": [
      "Not enough data to split into train and test.\n",
      "Not enough data to split into train and test.\n",
      "Not enough data to split into train and test.\n",
      "Not enough data to split into train and test.\n",
      "Not enough data to split into train and test.\n",
      "Not enough data to split into train and test.\n"
     ]
    },
    {
     "name": "stderr",
     "output_type": "stream",
     "text": [
      "/var/folders/8l/psd7bpq137j_d5v8d7ntz0200000gn/T/ipykernel_27318/2411138453.py:28: FutureWarning: Downcasting object dtype arrays on .fillna, .ffill, .bfill is deprecated and will change in a future version. Call result.infer_objects(copy=False) instead. To opt-in to the future behavior, set `pd.set_option('future.no_silent_downcasting', True)`\n",
      "  group_df.ffill(inplace=True)  # Fill missing values with forward fill\n",
      "/var/folders/8l/psd7bpq137j_d5v8d7ntz0200000gn/T/ipykernel_27318/2411138453.py:28: FutureWarning: Downcasting object dtype arrays on .fillna, .ffill, .bfill is deprecated and will change in a future version. Call result.infer_objects(copy=False) instead. To opt-in to the future behavior, set `pd.set_option('future.no_silent_downcasting', True)`\n",
      "  group_df.ffill(inplace=True)  # Fill missing values with forward fill\n",
      "/var/folders/8l/psd7bpq137j_d5v8d7ntz0200000gn/T/ipykernel_27318/2411138453.py:28: FutureWarning: Downcasting object dtype arrays on .fillna, .ffill, .bfill is deprecated and will change in a future version. Call result.infer_objects(copy=False) instead. To opt-in to the future behavior, set `pd.set_option('future.no_silent_downcasting', True)`\n",
      "  group_df.ffill(inplace=True)  # Fill missing values with forward fill\n",
      "/var/folders/8l/psd7bpq137j_d5v8d7ntz0200000gn/T/ipykernel_27318/2411138453.py:28: FutureWarning: Downcasting object dtype arrays on .fillna, .ffill, .bfill is deprecated and will change in a future version. Call result.infer_objects(copy=False) instead. To opt-in to the future behavior, set `pd.set_option('future.no_silent_downcasting', True)`\n",
      "  group_df.ffill(inplace=True)  # Fill missing values with forward fill\n"
     ]
    },
    {
     "name": "stdout",
     "output_type": "stream",
     "text": [
      "Not enough data to split into train and test.\n",
      "Insufficient data to forecast for Part Number MSPLUS-4|7 at Location 080|7. Skipping.\n",
      "Not enough data to split into train and test.\n",
      "Not enough data to split into train and test.\n",
      "Not enough data to split into train and test.\n",
      "Not enough data to split into train and test.\n",
      "Not enough data to split into train and test.\n"
     ]
    },
    {
     "name": "stderr",
     "output_type": "stream",
     "text": [
      "/var/folders/8l/psd7bpq137j_d5v8d7ntz0200000gn/T/ipykernel_27318/2411138453.py:28: FutureWarning: Downcasting object dtype arrays on .fillna, .ffill, .bfill is deprecated and will change in a future version. Call result.infer_objects(copy=False) instead. To opt-in to the future behavior, set `pd.set_option('future.no_silent_downcasting', True)`\n",
      "  group_df.ffill(inplace=True)  # Fill missing values with forward fill\n"
     ]
    },
    {
     "name": "stdout",
     "output_type": "stream",
     "text": [
      "Not enough data to split into train and test.\n",
      "Not enough data to split into train and test.\n",
      "Not enough data to split into train and test.\n",
      "Not enough data to split into train and test.\n",
      "Not enough data to split into train and test.\n"
     ]
    },
    {
     "name": "stderr",
     "output_type": "stream",
     "text": [
      "/var/folders/8l/psd7bpq137j_d5v8d7ntz0200000gn/T/ipykernel_27318/2411138453.py:28: FutureWarning: Downcasting object dtype arrays on .fillna, .ffill, .bfill is deprecated and will change in a future version. Call result.infer_objects(copy=False) instead. To opt-in to the future behavior, set `pd.set_option('future.no_silent_downcasting', True)`\n",
      "  group_df.ffill(inplace=True)  # Fill missing values with forward fill\n",
      "/var/folders/8l/psd7bpq137j_d5v8d7ntz0200000gn/T/ipykernel_27318/2411138453.py:28: FutureWarning: Downcasting object dtype arrays on .fillna, .ffill, .bfill is deprecated and will change in a future version. Call result.infer_objects(copy=False) instead. To opt-in to the future behavior, set `pd.set_option('future.no_silent_downcasting', True)`\n",
      "  group_df.ffill(inplace=True)  # Fill missing values with forward fill\n",
      "/var/folders/8l/psd7bpq137j_d5v8d7ntz0200000gn/T/ipykernel_27318/2411138453.py:28: FutureWarning: Downcasting object dtype arrays on .fillna, .ffill, .bfill is deprecated and will change in a future version. Call result.infer_objects(copy=False) instead. To opt-in to the future behavior, set `pd.set_option('future.no_silent_downcasting', True)`\n",
      "  group_df.ffill(inplace=True)  # Fill missing values with forward fill\n"
     ]
    },
    {
     "name": "stdout",
     "output_type": "stream",
     "text": [
      "Not enough data to split into train and test.\n",
      "Not enough data to split into train and test.\n",
      "Not enough data to split into train and test.\n",
      "Not enough data to split into train and test.\n",
      "Not enough data to split into train and test.\n",
      "Not enough data to split into train and test.\n",
      "Insufficient data to forecast for Part Number FTWRA-1|7 at Location 035|7. Skipping.\n",
      "Not enough data to split into train and test.\n",
      "Not enough data to split into train and test.\n",
      "Not enough data to split into train and test.\n",
      "Insufficient data to forecast for Part Number MSPLUSRES-4-EG|7 at Location 010|7. Skipping.\n",
      "Not enough data to split into train and test.\n",
      "Not enough data to split into train and test.\n"
     ]
    },
    {
     "name": "stderr",
     "output_type": "stream",
     "text": [
      "/var/folders/8l/psd7bpq137j_d5v8d7ntz0200000gn/T/ipykernel_27318/2411138453.py:28: FutureWarning: Downcasting object dtype arrays on .fillna, .ffill, .bfill is deprecated and will change in a future version. Call result.infer_objects(copy=False) instead. To opt-in to the future behavior, set `pd.set_option('future.no_silent_downcasting', True)`\n",
      "  group_df.ffill(inplace=True)  # Fill missing values with forward fill\n",
      "/var/folders/8l/psd7bpq137j_d5v8d7ntz0200000gn/T/ipykernel_27318/2411138453.py:28: FutureWarning: Downcasting object dtype arrays on .fillna, .ffill, .bfill is deprecated and will change in a future version. Call result.infer_objects(copy=False) instead. To opt-in to the future behavior, set `pd.set_option('future.no_silent_downcasting', True)`\n",
      "  group_df.ffill(inplace=True)  # Fill missing values with forward fill\n",
      "/var/folders/8l/psd7bpq137j_d5v8d7ntz0200000gn/T/ipykernel_27318/2411138453.py:28: FutureWarning: Downcasting object dtype arrays on .fillna, .ffill, .bfill is deprecated and will change in a future version. Call result.infer_objects(copy=False) instead. To opt-in to the future behavior, set `pd.set_option('future.no_silent_downcasting', True)`\n",
      "  group_df.ffill(inplace=True)  # Fill missing values with forward fill\n"
     ]
    },
    {
     "name": "stdout",
     "output_type": "stream",
     "text": [
      "Not enough data to split into train and test.\n",
      "Not enough data to split into train and test.\n",
      "Not enough data to split into train and test.\n"
     ]
    },
    {
     "name": "stderr",
     "output_type": "stream",
     "text": [
      "/var/folders/8l/psd7bpq137j_d5v8d7ntz0200000gn/T/ipykernel_27318/2411138453.py:28: FutureWarning: Downcasting object dtype arrays on .fillna, .ffill, .bfill is deprecated and will change in a future version. Call result.infer_objects(copy=False) instead. To opt-in to the future behavior, set `pd.set_option('future.no_silent_downcasting', True)`\n",
      "  group_df.ffill(inplace=True)  # Fill missing values with forward fill\n",
      "/var/folders/8l/psd7bpq137j_d5v8d7ntz0200000gn/T/ipykernel_27318/2411138453.py:28: FutureWarning: Downcasting object dtype arrays on .fillna, .ffill, .bfill is deprecated and will change in a future version. Call result.infer_objects(copy=False) instead. To opt-in to the future behavior, set `pd.set_option('future.no_silent_downcasting', True)`\n",
      "  group_df.ffill(inplace=True)  # Fill missing values with forward fill\n"
     ]
    },
    {
     "name": "stdout",
     "output_type": "stream",
     "text": [
      "Not enough data to split into train and test.\n",
      "Not enough data to split into train and test.\n",
      "Not enough data to split into train and test.\n",
      "Not enough data to split into train and test.\n",
      "Not enough data to split into train and test.\n",
      "Not enough data to split into train and test.\n"
     ]
    },
    {
     "name": "stderr",
     "output_type": "stream",
     "text": [
      "/var/folders/8l/psd7bpq137j_d5v8d7ntz0200000gn/T/ipykernel_27318/2411138453.py:28: FutureWarning: Downcasting object dtype arrays on .fillna, .ffill, .bfill is deprecated and will change in a future version. Call result.infer_objects(copy=False) instead. To opt-in to the future behavior, set `pd.set_option('future.no_silent_downcasting', True)`\n",
      "  group_df.ffill(inplace=True)  # Fill missing values with forward fill\n",
      "/var/folders/8l/psd7bpq137j_d5v8d7ntz0200000gn/T/ipykernel_27318/2411138453.py:28: FutureWarning: Downcasting object dtype arrays on .fillna, .ffill, .bfill is deprecated and will change in a future version. Call result.infer_objects(copy=False) instead. To opt-in to the future behavior, set `pd.set_option('future.no_silent_downcasting', True)`\n",
      "  group_df.ffill(inplace=True)  # Fill missing values with forward fill\n",
      "/var/folders/8l/psd7bpq137j_d5v8d7ntz0200000gn/T/ipykernel_27318/2411138453.py:28: FutureWarning: Downcasting object dtype arrays on .fillna, .ffill, .bfill is deprecated and will change in a future version. Call result.infer_objects(copy=False) instead. To opt-in to the future behavior, set `pd.set_option('future.no_silent_downcasting', True)`\n",
      "  group_df.ffill(inplace=True)  # Fill missing values with forward fill\n"
     ]
    },
    {
     "name": "stdout",
     "output_type": "stream",
     "text": [
      "Not enough data to split into train and test.\n",
      "Not enough data to split into train and test.\n",
      "Not enough data to split into train and test.\n",
      "Not enough data to split into train and test.\n",
      "Not enough data to split into train and test.\n"
     ]
    },
    {
     "name": "stderr",
     "output_type": "stream",
     "text": [
      "/var/folders/8l/psd7bpq137j_d5v8d7ntz0200000gn/T/ipykernel_27318/2411138453.py:28: FutureWarning: Downcasting object dtype arrays on .fillna, .ffill, .bfill is deprecated and will change in a future version. Call result.infer_objects(copy=False) instead. To opt-in to the future behavior, set `pd.set_option('future.no_silent_downcasting', True)`\n",
      "  group_df.ffill(inplace=True)  # Fill missing values with forward fill\n",
      "/var/folders/8l/psd7bpq137j_d5v8d7ntz0200000gn/T/ipykernel_27318/2411138453.py:28: FutureWarning: Downcasting object dtype arrays on .fillna, .ffill, .bfill is deprecated and will change in a future version. Call result.infer_objects(copy=False) instead. To opt-in to the future behavior, set `pd.set_option('future.no_silent_downcasting', True)`\n",
      "  group_df.ffill(inplace=True)  # Fill missing values with forward fill\n",
      "/var/folders/8l/psd7bpq137j_d5v8d7ntz0200000gn/T/ipykernel_27318/2411138453.py:28: FutureWarning: Downcasting object dtype arrays on .fillna, .ffill, .bfill is deprecated and will change in a future version. Call result.infer_objects(copy=False) instead. To opt-in to the future behavior, set `pd.set_option('future.no_silent_downcasting', True)`\n",
      "  group_df.ffill(inplace=True)  # Fill missing values with forward fill\n",
      "/var/folders/8l/psd7bpq137j_d5v8d7ntz0200000gn/T/ipykernel_27318/2411138453.py:28: FutureWarning: Downcasting object dtype arrays on .fillna, .ffill, .bfill is deprecated and will change in a future version. Call result.infer_objects(copy=False) instead. To opt-in to the future behavior, set `pd.set_option('future.no_silent_downcasting', True)`\n",
      "  group_df.ffill(inplace=True)  # Fill missing values with forward fill\n"
     ]
    },
    {
     "name": "stdout",
     "output_type": "stream",
     "text": [
      "Not enough data to split into train and test.\n",
      "Not enough data to split into train and test.\n",
      "Not enough data to split into train and test.\n",
      "Not enough data to split into train and test.\n",
      "Not enough data to split into train and test.\n",
      "Insufficient data to forecast for Part Number STEADFAST-4-F|7 at Location 080|7. Skipping.\n",
      "Not enough data to split into train and test.\n"
     ]
    },
    {
     "name": "stderr",
     "output_type": "stream",
     "text": [
      "/var/folders/8l/psd7bpq137j_d5v8d7ntz0200000gn/T/ipykernel_27318/2411138453.py:28: FutureWarning: Downcasting object dtype arrays on .fillna, .ffill, .bfill is deprecated and will change in a future version. Call result.infer_objects(copy=False) instead. To opt-in to the future behavior, set `pd.set_option('future.no_silent_downcasting', True)`\n",
      "  group_df.ffill(inplace=True)  # Fill missing values with forward fill\n",
      "/var/folders/8l/psd7bpq137j_d5v8d7ntz0200000gn/T/ipykernel_27318/2411138453.py:28: FutureWarning: Downcasting object dtype arrays on .fillna, .ffill, .bfill is deprecated and will change in a future version. Call result.infer_objects(copy=False) instead. To opt-in to the future behavior, set `pd.set_option('future.no_silent_downcasting', True)`\n",
      "  group_df.ffill(inplace=True)  # Fill missing values with forward fill\n",
      "/var/folders/8l/psd7bpq137j_d5v8d7ntz0200000gn/T/ipykernel_27318/2411138453.py:28: FutureWarning: Downcasting object dtype arrays on .fillna, .ffill, .bfill is deprecated and will change in a future version. Call result.infer_objects(copy=False) instead. To opt-in to the future behavior, set `pd.set_option('future.no_silent_downcasting', True)`\n",
      "  group_df.ffill(inplace=True)  # Fill missing values with forward fill\n"
     ]
    },
    {
     "name": "stdout",
     "output_type": "stream",
     "text": [
      "Not enough data to split into train and test.\n",
      "Not enough data to split into train and test.\n",
      "Not enough data to split into train and test.\n",
      "Not enough data to split into train and test.\n",
      "Not enough data to split into train and test.\n",
      "Not enough data to split into train and test.\n",
      "Not enough data to split into train and test.\n",
      "Not enough data to split into train and test.\n"
     ]
    },
    {
     "name": "stderr",
     "output_type": "stream",
     "text": [
      "/var/folders/8l/psd7bpq137j_d5v8d7ntz0200000gn/T/ipykernel_27318/2411138453.py:28: FutureWarning: Downcasting object dtype arrays on .fillna, .ffill, .bfill is deprecated and will change in a future version. Call result.infer_objects(copy=False) instead. To opt-in to the future behavior, set `pd.set_option('future.no_silent_downcasting', True)`\n",
      "  group_df.ffill(inplace=True)  # Fill missing values with forward fill\n",
      "/var/folders/8l/psd7bpq137j_d5v8d7ntz0200000gn/T/ipykernel_27318/2411138453.py:28: FutureWarning: Downcasting object dtype arrays on .fillna, .ffill, .bfill is deprecated and will change in a future version. Call result.infer_objects(copy=False) instead. To opt-in to the future behavior, set `pd.set_option('future.no_silent_downcasting', True)`\n",
      "  group_df.ffill(inplace=True)  # Fill missing values with forward fill\n"
     ]
    },
    {
     "name": "stdout",
     "output_type": "stream",
     "text": [
      "Not enough data to split into train and test.\n",
      "Not enough data to split into train and test.\n",
      "Not enough data to split into train and test.\n",
      "Not enough data to split into train and test.\n",
      "Not enough data to split into train and test.\n"
     ]
    },
    {
     "name": "stderr",
     "output_type": "stream",
     "text": [
      "/var/folders/8l/psd7bpq137j_d5v8d7ntz0200000gn/T/ipykernel_27318/2411138453.py:28: FutureWarning: Downcasting object dtype arrays on .fillna, .ffill, .bfill is deprecated and will change in a future version. Call result.infer_objects(copy=False) instead. To opt-in to the future behavior, set `pd.set_option('future.no_silent_downcasting', True)`\n",
      "  group_df.ffill(inplace=True)  # Fill missing values with forward fill\n",
      "/var/folders/8l/psd7bpq137j_d5v8d7ntz0200000gn/T/ipykernel_27318/2411138453.py:28: FutureWarning: Downcasting object dtype arrays on .fillna, .ffill, .bfill is deprecated and will change in a future version. Call result.infer_objects(copy=False) instead. To opt-in to the future behavior, set `pd.set_option('future.no_silent_downcasting', True)`\n",
      "  group_df.ffill(inplace=True)  # Fill missing values with forward fill\n",
      "/var/folders/8l/psd7bpq137j_d5v8d7ntz0200000gn/T/ipykernel_27318/2411138453.py:28: FutureWarning: Downcasting object dtype arrays on .fillna, .ffill, .bfill is deprecated and will change in a future version. Call result.infer_objects(copy=False) instead. To opt-in to the future behavior, set `pd.set_option('future.no_silent_downcasting', True)`\n",
      "  group_df.ffill(inplace=True)  # Fill missing values with forward fill\n"
     ]
    },
    {
     "name": "stdout",
     "output_type": "stream",
     "text": [
      "Not enough data to split into train and test.\n",
      "Not enough data to split into train and test.\n",
      "Not enough data to split into train and test.\n",
      "Insufficient data to forecast for Part Number TIMBERLINE-4-BT|7 at Location 010|7. Skipping.\n",
      "Not enough data to split into train and test.\n"
     ]
    },
    {
     "name": "stderr",
     "output_type": "stream",
     "text": [
      "/var/folders/8l/psd7bpq137j_d5v8d7ntz0200000gn/T/ipykernel_27318/2411138453.py:28: FutureWarning: Downcasting object dtype arrays on .fillna, .ffill, .bfill is deprecated and will change in a future version. Call result.infer_objects(copy=False) instead. To opt-in to the future behavior, set `pd.set_option('future.no_silent_downcasting', True)`\n",
      "  group_df.ffill(inplace=True)  # Fill missing values with forward fill\n",
      "/var/folders/8l/psd7bpq137j_d5v8d7ntz0200000gn/T/ipykernel_27318/2411138453.py:28: FutureWarning: Downcasting object dtype arrays on .fillna, .ffill, .bfill is deprecated and will change in a future version. Call result.infer_objects(copy=False) instead. To opt-in to the future behavior, set `pd.set_option('future.no_silent_downcasting', True)`\n",
      "  group_df.ffill(inplace=True)  # Fill missing values with forward fill\n"
     ]
    },
    {
     "name": "stdout",
     "output_type": "stream",
     "text": [
      "Not enough data to split into train and test.\n",
      "Not enough data to split into train and test.\n",
      "Not enough data to split into train and test.\n",
      "Not enough data to split into train and test.\n",
      "Not enough data to split into train and test.\n",
      "Not enough data to split into train and test.\n",
      "Insufficient data to forecast for Part Number ALPINE-4-BT|7 at Location 010|7. Skipping.\n",
      "Not enough data to split into train and test.\n",
      "Not enough data to split into train and test.\n",
      "Not enough data to split into train and test.\n",
      "Insufficient data to forecast for Part Number UZCB2-1|7 at Location 020|7. Skipping.\n",
      "Not enough data to split into train and test.\n",
      "Not enough data to split into train and test.\n",
      "Not enough data to split into train and test.\n",
      "Not enough data to split into train and test.\n",
      "Insufficient data to forecast for Part Number 2025-1-NFP|7 at Location 010|7. Skipping.\n",
      "Not enough data to split into train and test.\n"
     ]
    },
    {
     "name": "stderr",
     "output_type": "stream",
     "text": [
      "/var/folders/8l/psd7bpq137j_d5v8d7ntz0200000gn/T/ipykernel_27318/2411138453.py:28: FutureWarning: Downcasting object dtype arrays on .fillna, .ffill, .bfill is deprecated and will change in a future version. Call result.infer_objects(copy=False) instead. To opt-in to the future behavior, set `pd.set_option('future.no_silent_downcasting', True)`\n",
      "  group_df.ffill(inplace=True)  # Fill missing values with forward fill\n",
      "/var/folders/8l/psd7bpq137j_d5v8d7ntz0200000gn/T/ipykernel_27318/2411138453.py:28: FutureWarning: Downcasting object dtype arrays on .fillna, .ffill, .bfill is deprecated and will change in a future version. Call result.infer_objects(copy=False) instead. To opt-in to the future behavior, set `pd.set_option('future.no_silent_downcasting', True)`\n",
      "  group_df.ffill(inplace=True)  # Fill missing values with forward fill\n",
      "/var/folders/8l/psd7bpq137j_d5v8d7ntz0200000gn/T/ipykernel_27318/2411138453.py:28: FutureWarning: Downcasting object dtype arrays on .fillna, .ffill, .bfill is deprecated and will change in a future version. Call result.infer_objects(copy=False) instead. To opt-in to the future behavior, set `pd.set_option('future.no_silent_downcasting', True)`\n",
      "  group_df.ffill(inplace=True)  # Fill missing values with forward fill\n"
     ]
    },
    {
     "name": "stdout",
     "output_type": "stream",
     "text": [
      "Not enough data to split into train and test.\n",
      "Insufficient data to forecast for Part Number DP1030-02-12|7 at Location 010|7. Skipping.\n",
      "Not enough data to split into train and test.\n",
      "Not enough data to split into train and test.\n",
      "Insufficient data to forecast for Part Number DYNAMIC-1-NFP|7 at Location 010|7. Skipping.\n",
      "Not enough data to split into train and test.\n",
      "Insufficient data to forecast for Part Number FTU5-5-SW|7 at Location 035|7. Skipping.\n",
      "Not enough data to split into train and test.\n",
      "Insufficient data to forecast for Part Number RESOLUTE-2-RL|7 at Location 020|7. Skipping.\n"
     ]
    },
    {
     "name": "stderr",
     "output_type": "stream",
     "text": [
      "/var/folders/8l/psd7bpq137j_d5v8d7ntz0200000gn/T/ipykernel_27318/2411138453.py:28: FutureWarning: Downcasting object dtype arrays on .fillna, .ffill, .bfill is deprecated and will change in a future version. Call result.infer_objects(copy=False) instead. To opt-in to the future behavior, set `pd.set_option('future.no_silent_downcasting', True)`\n",
      "  group_df.ffill(inplace=True)  # Fill missing values with forward fill\n",
      "/var/folders/8l/psd7bpq137j_d5v8d7ntz0200000gn/T/ipykernel_27318/2411138453.py:28: FutureWarning: Downcasting object dtype arrays on .fillna, .ffill, .bfill is deprecated and will change in a future version. Call result.infer_objects(copy=False) instead. To opt-in to the future behavior, set `pd.set_option('future.no_silent_downcasting', True)`\n",
      "  group_df.ffill(inplace=True)  # Fill missing values with forward fill\n",
      "/var/folders/8l/psd7bpq137j_d5v8d7ntz0200000gn/T/ipykernel_27318/2411138453.py:28: FutureWarning: Downcasting object dtype arrays on .fillna, .ffill, .bfill is deprecated and will change in a future version. Call result.infer_objects(copy=False) instead. To opt-in to the future behavior, set `pd.set_option('future.no_silent_downcasting', True)`\n",
      "  group_df.ffill(inplace=True)  # Fill missing values with forward fill\n",
      "/var/folders/8l/psd7bpq137j_d5v8d7ntz0200000gn/T/ipykernel_27318/2411138453.py:28: FutureWarning: Downcasting object dtype arrays on .fillna, .ffill, .bfill is deprecated and will change in a future version. Call result.infer_objects(copy=False) instead. To opt-in to the future behavior, set `pd.set_option('future.no_silent_downcasting', True)`\n",
      "  group_df.ffill(inplace=True)  # Fill missing values with forward fill\n"
     ]
    },
    {
     "name": "stdout",
     "output_type": "stream",
     "text": [
      "Not enough data to split into train and test.\n",
      "Not enough data to split into train and test.\n",
      "Not enough data to split into train and test.\n",
      "Insufficient data to forecast for Part Number FTWRA-32|7 at Location 035|7. Skipping.\n",
      "Not enough data to split into train and test.\n"
     ]
    },
    {
     "name": "stderr",
     "output_type": "stream",
     "text": [
      "/var/folders/8l/psd7bpq137j_d5v8d7ntz0200000gn/T/ipykernel_27318/2411138453.py:28: FutureWarning: Downcasting object dtype arrays on .fillna, .ffill, .bfill is deprecated and will change in a future version. Call result.infer_objects(copy=False) instead. To opt-in to the future behavior, set `pd.set_option('future.no_silent_downcasting', True)`\n",
      "  group_df.ffill(inplace=True)  # Fill missing values with forward fill\n",
      "/var/folders/8l/psd7bpq137j_d5v8d7ntz0200000gn/T/ipykernel_27318/2411138453.py:28: FutureWarning: Downcasting object dtype arrays on .fillna, .ffill, .bfill is deprecated and will change in a future version. Call result.infer_objects(copy=False) instead. To opt-in to the future behavior, set `pd.set_option('future.no_silent_downcasting', True)`\n",
      "  group_df.ffill(inplace=True)  # Fill missing values with forward fill\n",
      "/var/folders/8l/psd7bpq137j_d5v8d7ntz0200000gn/T/ipykernel_27318/2411138453.py:28: FutureWarning: Downcasting object dtype arrays on .fillna, .ffill, .bfill is deprecated and will change in a future version. Call result.infer_objects(copy=False) instead. To opt-in to the future behavior, set `pd.set_option('future.no_silent_downcasting', True)`\n",
      "  group_df.ffill(inplace=True)  # Fill missing values with forward fill\n"
     ]
    },
    {
     "name": "stdout",
     "output_type": "stream",
     "text": [
      "Not enough data to split into train and test.\n",
      "Not enough data to split into train and test.\n",
      "Not enough data to split into train and test.\n",
      "Not enough data to split into train and test.\n",
      "Not enough data to split into train and test.\n"
     ]
    },
    {
     "name": "stderr",
     "output_type": "stream",
     "text": [
      "/var/folders/8l/psd7bpq137j_d5v8d7ntz0200000gn/T/ipykernel_27318/2411138453.py:28: FutureWarning: Downcasting object dtype arrays on .fillna, .ffill, .bfill is deprecated and will change in a future version. Call result.infer_objects(copy=False) instead. To opt-in to the future behavior, set `pd.set_option('future.no_silent_downcasting', True)`\n",
      "  group_df.ffill(inplace=True)  # Fill missing values with forward fill\n",
      "/var/folders/8l/psd7bpq137j_d5v8d7ntz0200000gn/T/ipykernel_27318/2411138453.py:28: FutureWarning: Downcasting object dtype arrays on .fillna, .ffill, .bfill is deprecated and will change in a future version. Call result.infer_objects(copy=False) instead. To opt-in to the future behavior, set `pd.set_option('future.no_silent_downcasting', True)`\n",
      "  group_df.ffill(inplace=True)  # Fill missing values with forward fill\n",
      "/var/folders/8l/psd7bpq137j_d5v8d7ntz0200000gn/T/ipykernel_27318/2411138453.py:28: FutureWarning: Downcasting object dtype arrays on .fillna, .ffill, .bfill is deprecated and will change in a future version. Call result.infer_objects(copy=False) instead. To opt-in to the future behavior, set `pd.set_option('future.no_silent_downcasting', True)`\n",
      "  group_df.ffill(inplace=True)  # Fill missing values with forward fill\n",
      "/var/folders/8l/psd7bpq137j_d5v8d7ntz0200000gn/T/ipykernel_27318/2411138453.py:28: FutureWarning: Downcasting object dtype arrays on .fillna, .ffill, .bfill is deprecated and will change in a future version. Call result.infer_objects(copy=False) instead. To opt-in to the future behavior, set `pd.set_option('future.no_silent_downcasting', True)`\n",
      "  group_df.ffill(inplace=True)  # Fill missing values with forward fill\n",
      "/var/folders/8l/psd7bpq137j_d5v8d7ntz0200000gn/T/ipykernel_27318/2411138453.py:28: FutureWarning: Downcasting object dtype arrays on .fillna, .ffill, .bfill is deprecated and will change in a future version. Call result.infer_objects(copy=False) instead. To opt-in to the future behavior, set `pd.set_option('future.no_silent_downcasting', True)`\n",
      "  group_df.ffill(inplace=True)  # Fill missing values with forward fill\n",
      "/var/folders/8l/psd7bpq137j_d5v8d7ntz0200000gn/T/ipykernel_27318/2411138453.py:28: FutureWarning: Downcasting object dtype arrays on .fillna, .ffill, .bfill is deprecated and will change in a future version. Call result.infer_objects(copy=False) instead. To opt-in to the future behavior, set `pd.set_option('future.no_silent_downcasting', True)`\n",
      "  group_df.ffill(inplace=True)  # Fill missing values with forward fill\n"
     ]
    },
    {
     "name": "stdout",
     "output_type": "stream",
     "text": [
      "Not enough data to split into train and test.\n",
      "Not enough data to split into train and test.\n",
      "Not enough data to split into train and test.\n",
      "Not enough data to split into train and test.\n",
      "Insufficient data to forecast for Part Number MSPLUS-4-24P|7 at Location 020|7. Skipping.\n",
      "Not enough data to split into train and test.\n",
      "Not enough data to split into train and test.\n",
      "Insufficient data to forecast for Part Number MSPLUS-4-24P|7 at Location 010|7. Skipping.\n"
     ]
    },
    {
     "name": "stderr",
     "output_type": "stream",
     "text": [
      "/var/folders/8l/psd7bpq137j_d5v8d7ntz0200000gn/T/ipykernel_27318/2411138453.py:28: FutureWarning: Downcasting object dtype arrays on .fillna, .ffill, .bfill is deprecated and will change in a future version. Call result.infer_objects(copy=False) instead. To opt-in to the future behavior, set `pd.set_option('future.no_silent_downcasting', True)`\n",
      "  group_df.ffill(inplace=True)  # Fill missing values with forward fill\n",
      "/var/folders/8l/psd7bpq137j_d5v8d7ntz0200000gn/T/ipykernel_27318/2411138453.py:28: FutureWarning: Downcasting object dtype arrays on .fillna, .ffill, .bfill is deprecated and will change in a future version. Call result.infer_objects(copy=False) instead. To opt-in to the future behavior, set `pd.set_option('future.no_silent_downcasting', True)`\n",
      "  group_df.ffill(inplace=True)  # Fill missing values with forward fill\n"
     ]
    },
    {
     "name": "stdout",
     "output_type": "stream",
     "text": [
      "Not enough data to split into train and test.\n",
      "Not enough data to split into train and test.\n",
      "Not enough data to split into train and test.\n"
     ]
    },
    {
     "name": "stderr",
     "output_type": "stream",
     "text": [
      "/var/folders/8l/psd7bpq137j_d5v8d7ntz0200000gn/T/ipykernel_27318/2411138453.py:28: FutureWarning: Downcasting object dtype arrays on .fillna, .ffill, .bfill is deprecated and will change in a future version. Call result.infer_objects(copy=False) instead. To opt-in to the future behavior, set `pd.set_option('future.no_silent_downcasting', True)`\n",
      "  group_df.ffill(inplace=True)  # Fill missing values with forward fill\n",
      "/var/folders/8l/psd7bpq137j_d5v8d7ntz0200000gn/T/ipykernel_27318/2411138453.py:28: FutureWarning: Downcasting object dtype arrays on .fillna, .ffill, .bfill is deprecated and will change in a future version. Call result.infer_objects(copy=False) instead. To opt-in to the future behavior, set `pd.set_option('future.no_silent_downcasting', True)`\n",
      "  group_df.ffill(inplace=True)  # Fill missing values with forward fill\n",
      "/var/folders/8l/psd7bpq137j_d5v8d7ntz0200000gn/T/ipykernel_27318/2411138453.py:28: FutureWarning: Downcasting object dtype arrays on .fillna, .ffill, .bfill is deprecated and will change in a future version. Call result.infer_objects(copy=False) instead. To opt-in to the future behavior, set `pd.set_option('future.no_silent_downcasting', True)`\n",
      "  group_df.ffill(inplace=True)  # Fill missing values with forward fill\n"
     ]
    },
    {
     "name": "stdout",
     "output_type": "stream",
     "text": [
      "Not enough data to split into train and test.\n",
      "Insufficient data to forecast for Part Number BRUCE-BMSFC102|7 at Location 010|7. Skipping.\n",
      "Not enough data to split into train and test.\n",
      "Not enough data to split into train and test.\n",
      "Not enough data to split into train and test.\n",
      "Insufficient data to forecast for Part Number 2060-4|7 at Location 010|7. Skipping.\n",
      "Not enough data to split into train and test.\n"
     ]
    },
    {
     "name": "stderr",
     "output_type": "stream",
     "text": [
      "/var/folders/8l/psd7bpq137j_d5v8d7ntz0200000gn/T/ipykernel_27318/2411138453.py:28: FutureWarning: Downcasting object dtype arrays on .fillna, .ffill, .bfill is deprecated and will change in a future version. Call result.infer_objects(copy=False) instead. To opt-in to the future behavior, set `pd.set_option('future.no_silent_downcasting', True)`\n",
      "  group_df.ffill(inplace=True)  # Fill missing values with forward fill\n",
      "/var/folders/8l/psd7bpq137j_d5v8d7ntz0200000gn/T/ipykernel_27318/2411138453.py:28: FutureWarning: Downcasting object dtype arrays on .fillna, .ffill, .bfill is deprecated and will change in a future version. Call result.infer_objects(copy=False) instead. To opt-in to the future behavior, set `pd.set_option('future.no_silent_downcasting', True)`\n",
      "  group_df.ffill(inplace=True)  # Fill missing values with forward fill\n",
      "/var/folders/8l/psd7bpq137j_d5v8d7ntz0200000gn/T/ipykernel_27318/2411138453.py:28: FutureWarning: Downcasting object dtype arrays on .fillna, .ffill, .bfill is deprecated and will change in a future version. Call result.infer_objects(copy=False) instead. To opt-in to the future behavior, set `pd.set_option('future.no_silent_downcasting', True)`\n",
      "  group_df.ffill(inplace=True)  # Fill missing values with forward fill\n"
     ]
    },
    {
     "name": "stdout",
     "output_type": "stream",
     "text": [
      "Not enough data to split into train and test.\n",
      "Insufficient data to forecast for Part Number FTU5-5-CX|7 at Location 035|7. Skipping.\n",
      "Not enough data to split into train and test.\n",
      "Not enough data to split into train and test.\n",
      "Not enough data to split into train and test.\n",
      "Insufficient data to forecast for Part Number VERSATILE-04-F|7 at Location 010|7. Skipping.\n"
     ]
    },
    {
     "name": "stderr",
     "output_type": "stream",
     "text": [
      "/var/folders/8l/psd7bpq137j_d5v8d7ntz0200000gn/T/ipykernel_27318/2411138453.py:28: FutureWarning: Downcasting object dtype arrays on .fillna, .ffill, .bfill is deprecated and will change in a future version. Call result.infer_objects(copy=False) instead. To opt-in to the future behavior, set `pd.set_option('future.no_silent_downcasting', True)`\n",
      "  group_df.ffill(inplace=True)  # Fill missing values with forward fill\n",
      "/var/folders/8l/psd7bpq137j_d5v8d7ntz0200000gn/T/ipykernel_27318/2411138453.py:28: FutureWarning: Downcasting object dtype arrays on .fillna, .ffill, .bfill is deprecated and will change in a future version. Call result.infer_objects(copy=False) instead. To opt-in to the future behavior, set `pd.set_option('future.no_silent_downcasting', True)`\n",
      "  group_df.ffill(inplace=True)  # Fill missing values with forward fill\n",
      "/var/folders/8l/psd7bpq137j_d5v8d7ntz0200000gn/T/ipykernel_27318/2411138453.py:28: FutureWarning: Downcasting object dtype arrays on .fillna, .ffill, .bfill is deprecated and will change in a future version. Call result.infer_objects(copy=False) instead. To opt-in to the future behavior, set `pd.set_option('future.no_silent_downcasting', True)`\n",
      "  group_df.ffill(inplace=True)  # Fill missing values with forward fill\n"
     ]
    },
    {
     "name": "stdout",
     "output_type": "stream",
     "text": [
      "Not enough data to split into train and test.\n",
      "Not enough data to split into train and test.\n",
      "Insufficient data to forecast for Part Number PH2000-1|7 at Location 010|7. Skipping.\n",
      "Not enough data to split into train and test.\n",
      "Insufficient data to forecast for Part Number RESOLUTE-4|7 at Location 010|7. Skipping.\n"
     ]
    },
    {
     "name": "stderr",
     "output_type": "stream",
     "text": [
      "/var/folders/8l/psd7bpq137j_d5v8d7ntz0200000gn/T/ipykernel_27318/2411138453.py:28: FutureWarning: Downcasting object dtype arrays on .fillna, .ffill, .bfill is deprecated and will change in a future version. Call result.infer_objects(copy=False) instead. To opt-in to the future behavior, set `pd.set_option('future.no_silent_downcasting', True)`\n",
      "  group_df.ffill(inplace=True)  # Fill missing values with forward fill\n",
      "/var/folders/8l/psd7bpq137j_d5v8d7ntz0200000gn/T/ipykernel_27318/2411138453.py:28: FutureWarning: Downcasting object dtype arrays on .fillna, .ffill, .bfill is deprecated and will change in a future version. Call result.infer_objects(copy=False) instead. To opt-in to the future behavior, set `pd.set_option('future.no_silent_downcasting', True)`\n",
      "  group_df.ffill(inplace=True)  # Fill missing values with forward fill\n",
      "/var/folders/8l/psd7bpq137j_d5v8d7ntz0200000gn/T/ipykernel_27318/2411138453.py:28: FutureWarning: Downcasting object dtype arrays on .fillna, .ffill, .bfill is deprecated and will change in a future version. Call result.infer_objects(copy=False) instead. To opt-in to the future behavior, set `pd.set_option('future.no_silent_downcasting', True)`\n",
      "  group_df.ffill(inplace=True)  # Fill missing values with forward fill\n"
     ]
    },
    {
     "name": "stdout",
     "output_type": "stream",
     "text": [
      "Not enough data to split into train and test.\n",
      "Insufficient data to forecast for Part Number 2091-1-PS|7 at Location 010|7. Skipping.\n",
      "Not enough data to split into train and test.\n",
      "Not enough data to split into train and test.\n"
     ]
    },
    {
     "name": "stderr",
     "output_type": "stream",
     "text": [
      "/var/folders/8l/psd7bpq137j_d5v8d7ntz0200000gn/T/ipykernel_27318/2411138453.py:28: FutureWarning: Downcasting object dtype arrays on .fillna, .ffill, .bfill is deprecated and will change in a future version. Call result.infer_objects(copy=False) instead. To opt-in to the future behavior, set `pd.set_option('future.no_silent_downcasting', True)`\n",
      "  group_df.ffill(inplace=True)  # Fill missing values with forward fill\n",
      "/var/folders/8l/psd7bpq137j_d5v8d7ntz0200000gn/T/ipykernel_27318/2411138453.py:28: FutureWarning: Downcasting object dtype arrays on .fillna, .ffill, .bfill is deprecated and will change in a future version. Call result.infer_objects(copy=False) instead. To opt-in to the future behavior, set `pd.set_option('future.no_silent_downcasting', True)`\n",
      "  group_df.ffill(inplace=True)  # Fill missing values with forward fill\n",
      "/var/folders/8l/psd7bpq137j_d5v8d7ntz0200000gn/T/ipykernel_27318/2411138453.py:28: FutureWarning: Downcasting object dtype arrays on .fillna, .ffill, .bfill is deprecated and will change in a future version. Call result.infer_objects(copy=False) instead. To opt-in to the future behavior, set `pd.set_option('future.no_silent_downcasting', True)`\n",
      "  group_df.ffill(inplace=True)  # Fill missing values with forward fill\n"
     ]
    },
    {
     "name": "stdout",
     "output_type": "stream",
     "text": [
      "Not enough data to split into train and test.\n",
      "Insufficient data to forecast for Part Number HST|7 at Location 020|7. Skipping.\n",
      "Not enough data to split into train and test.\n",
      "Insufficient data to forecast for Part Number WF-91809|7 at Location 020|7. Skipping.\n",
      "Not enough data to split into train and test.\n",
      "Not enough data to split into train and test.\n",
      "Not enough data to split into train and test.\n"
     ]
    },
    {
     "name": "stderr",
     "output_type": "stream",
     "text": [
      "/var/folders/8l/psd7bpq137j_d5v8d7ntz0200000gn/T/ipykernel_27318/2411138453.py:28: FutureWarning: Downcasting object dtype arrays on .fillna, .ffill, .bfill is deprecated and will change in a future version. Call result.infer_objects(copy=False) instead. To opt-in to the future behavior, set `pd.set_option('future.no_silent_downcasting', True)`\n",
      "  group_df.ffill(inplace=True)  # Fill missing values with forward fill\n",
      "/var/folders/8l/psd7bpq137j_d5v8d7ntz0200000gn/T/ipykernel_27318/2411138453.py:28: FutureWarning: Downcasting object dtype arrays on .fillna, .ffill, .bfill is deprecated and will change in a future version. Call result.infer_objects(copy=False) instead. To opt-in to the future behavior, set `pd.set_option('future.no_silent_downcasting', True)`\n",
      "  group_df.ffill(inplace=True)  # Fill missing values with forward fill\n",
      "/var/folders/8l/psd7bpq137j_d5v8d7ntz0200000gn/T/ipykernel_27318/2411138453.py:28: FutureWarning: Downcasting object dtype arrays on .fillna, .ffill, .bfill is deprecated and will change in a future version. Call result.infer_objects(copy=False) instead. To opt-in to the future behavior, set `pd.set_option('future.no_silent_downcasting', True)`\n",
      "  group_df.ffill(inplace=True)  # Fill missing values with forward fill\n"
     ]
    },
    {
     "name": "stdout",
     "output_type": "stream",
     "text": [
      "Not enough data to split into train and test.\n",
      "Insufficient data to forecast for Part Number 900-4-F|7 at Location 081|7. Skipping.\n",
      "Not enough data to split into train and test.\n",
      "Insufficient data to forecast for Part Number PH700-4|7 at Location 020|7. Skipping.\n",
      "Not enough data to split into train and test.\n"
     ]
    },
    {
     "name": "stderr",
     "output_type": "stream",
     "text": [
      "/var/folders/8l/psd7bpq137j_d5v8d7ntz0200000gn/T/ipykernel_27318/2411138453.py:28: FutureWarning: Downcasting object dtype arrays on .fillna, .ffill, .bfill is deprecated and will change in a future version. Call result.infer_objects(copy=False) instead. To opt-in to the future behavior, set `pd.set_option('future.no_silent_downcasting', True)`\n",
      "  group_df.ffill(inplace=True)  # Fill missing values with forward fill\n",
      "/var/folders/8l/psd7bpq137j_d5v8d7ntz0200000gn/T/ipykernel_27318/2411138453.py:28: FutureWarning: Downcasting object dtype arrays on .fillna, .ffill, .bfill is deprecated and will change in a future version. Call result.infer_objects(copy=False) instead. To opt-in to the future behavior, set `pd.set_option('future.no_silent_downcasting', True)`\n",
      "  group_df.ffill(inplace=True)  # Fill missing values with forward fill\n"
     ]
    },
    {
     "name": "stdout",
     "output_type": "stream",
     "text": [
      "Not enough data to split into train and test.\n",
      "Not enough data to split into train and test.\n",
      "Insufficient data to forecast for Part Number DP1010-02-54|7 at Location 010|7. Skipping.\n",
      "Not enough data to split into train and test.\n",
      "Not enough data to split into train and test.\n"
     ]
    },
    {
     "name": "stderr",
     "output_type": "stream",
     "text": [
      "/var/folders/8l/psd7bpq137j_d5v8d7ntz0200000gn/T/ipykernel_27318/2411138453.py:28: FutureWarning: Downcasting object dtype arrays on .fillna, .ffill, .bfill is deprecated and will change in a future version. Call result.infer_objects(copy=False) instead. To opt-in to the future behavior, set `pd.set_option('future.no_silent_downcasting', True)`\n",
      "  group_df.ffill(inplace=True)  # Fill missing values with forward fill\n",
      "/var/folders/8l/psd7bpq137j_d5v8d7ntz0200000gn/T/ipykernel_27318/2411138453.py:28: FutureWarning: Downcasting object dtype arrays on .fillna, .ffill, .bfill is deprecated and will change in a future version. Call result.infer_objects(copy=False) instead. To opt-in to the future behavior, set `pd.set_option('future.no_silent_downcasting', True)`\n",
      "  group_df.ffill(inplace=True)  # Fill missing values with forward fill\n",
      "/var/folders/8l/psd7bpq137j_d5v8d7ntz0200000gn/T/ipykernel_27318/2411138453.py:28: FutureWarning: Downcasting object dtype arrays on .fillna, .ffill, .bfill is deprecated and will change in a future version. Call result.infer_objects(copy=False) instead. To opt-in to the future behavior, set `pd.set_option('future.no_silent_downcasting', True)`\n",
      "  group_df.ffill(inplace=True)  # Fill missing values with forward fill\n",
      "/var/folders/8l/psd7bpq137j_d5v8d7ntz0200000gn/T/ipykernel_27318/2411138453.py:28: FutureWarning: Downcasting object dtype arrays on .fillna, .ffill, .bfill is deprecated and will change in a future version. Call result.infer_objects(copy=False) instead. To opt-in to the future behavior, set `pd.set_option('future.no_silent_downcasting', True)`\n",
      "  group_df.ffill(inplace=True)  # Fill missing values with forward fill\n"
     ]
    },
    {
     "name": "stdout",
     "output_type": "stream",
     "text": [
      "Not enough data to split into train and test.\n",
      "Not enough data to split into train and test.\n",
      "Insufficient data to forecast for Part Number PC1011|7 at Location 025|7. Skipping.\n",
      "Not enough data to split into train and test.\n",
      "Not enough data to split into train and test.\n",
      "Not enough data to split into train and test.\n",
      "Not enough data to split into train and test.\n",
      "Not enough data to split into train and test.\n",
      "Not enough data to split into train and test.\n",
      "Insufficient data to forecast for Part Number PC1121|7 at Location 025|7. Skipping.\n"
     ]
    },
    {
     "name": "stderr",
     "output_type": "stream",
     "text": [
      "/var/folders/8l/psd7bpq137j_d5v8d7ntz0200000gn/T/ipykernel_27318/2411138453.py:28: FutureWarning: Downcasting object dtype arrays on .fillna, .ffill, .bfill is deprecated and will change in a future version. Call result.infer_objects(copy=False) instead. To opt-in to the future behavior, set `pd.set_option('future.no_silent_downcasting', True)`\n",
      "  group_df.ffill(inplace=True)  # Fill missing values with forward fill\n",
      "/var/folders/8l/psd7bpq137j_d5v8d7ntz0200000gn/T/ipykernel_27318/2411138453.py:28: FutureWarning: Downcasting object dtype arrays on .fillna, .ffill, .bfill is deprecated and will change in a future version. Call result.infer_objects(copy=False) instead. To opt-in to the future behavior, set `pd.set_option('future.no_silent_downcasting', True)`\n",
      "  group_df.ffill(inplace=True)  # Fill missing values with forward fill\n"
     ]
    },
    {
     "name": "stdout",
     "output_type": "stream",
     "text": [
      "Not enough data to split into train and test.\n",
      "Not enough data to split into train and test.\n",
      "Not enough data to split into train and test.\n",
      "Not enough data to split into train and test.\n",
      "Not enough data to split into train and test.\n"
     ]
    },
    {
     "name": "stderr",
     "output_type": "stream",
     "text": [
      "/var/folders/8l/psd7bpq137j_d5v8d7ntz0200000gn/T/ipykernel_27318/2411138453.py:28: FutureWarning: Downcasting object dtype arrays on .fillna, .ffill, .bfill is deprecated and will change in a future version. Call result.infer_objects(copy=False) instead. To opt-in to the future behavior, set `pd.set_option('future.no_silent_downcasting', True)`\n",
      "  group_df.ffill(inplace=True)  # Fill missing values with forward fill\n",
      "/var/folders/8l/psd7bpq137j_d5v8d7ntz0200000gn/T/ipykernel_27318/2411138453.py:28: FutureWarning: Downcasting object dtype arrays on .fillna, .ffill, .bfill is deprecated and will change in a future version. Call result.infer_objects(copy=False) instead. To opt-in to the future behavior, set `pd.set_option('future.no_silent_downcasting', True)`\n",
      "  group_df.ffill(inplace=True)  # Fill missing values with forward fill\n",
      "/var/folders/8l/psd7bpq137j_d5v8d7ntz0200000gn/T/ipykernel_27318/2411138453.py:28: FutureWarning: Downcasting object dtype arrays on .fillna, .ffill, .bfill is deprecated and will change in a future version. Call result.infer_objects(copy=False) instead. To opt-in to the future behavior, set `pd.set_option('future.no_silent_downcasting', True)`\n",
      "  group_df.ffill(inplace=True)  # Fill missing values with forward fill\n",
      "/var/folders/8l/psd7bpq137j_d5v8d7ntz0200000gn/T/ipykernel_27318/2411138453.py:28: FutureWarning: Downcasting object dtype arrays on .fillna, .ffill, .bfill is deprecated and will change in a future version. Call result.infer_objects(copy=False) instead. To opt-in to the future behavior, set `pd.set_option('future.no_silent_downcasting', True)`\n",
      "  group_df.ffill(inplace=True)  # Fill missing values with forward fill\n"
     ]
    },
    {
     "name": "stdout",
     "output_type": "stream",
     "text": [
      "Not enough data to split into train and test.\n",
      "Not enough data to split into train and test.\n",
      "Not enough data to split into train and test.\n",
      "Not enough data to split into train and test.\n",
      "Not enough data to split into train and test.\n",
      "Not enough data to split into train and test.\n"
     ]
    },
    {
     "name": "stderr",
     "output_type": "stream",
     "text": [
      "/var/folders/8l/psd7bpq137j_d5v8d7ntz0200000gn/T/ipykernel_27318/2411138453.py:28: FutureWarning: Downcasting object dtype arrays on .fillna, .ffill, .bfill is deprecated and will change in a future version. Call result.infer_objects(copy=False) instead. To opt-in to the future behavior, set `pd.set_option('future.no_silent_downcasting', True)`\n",
      "  group_df.ffill(inplace=True)  # Fill missing values with forward fill\n",
      "/var/folders/8l/psd7bpq137j_d5v8d7ntz0200000gn/T/ipykernel_27318/2411138453.py:28: FutureWarning: Downcasting object dtype arrays on .fillna, .ffill, .bfill is deprecated and will change in a future version. Call result.infer_objects(copy=False) instead. To opt-in to the future behavior, set `pd.set_option('future.no_silent_downcasting', True)`\n",
      "  group_df.ffill(inplace=True)  # Fill missing values with forward fill\n"
     ]
    },
    {
     "name": "stdout",
     "output_type": "stream",
     "text": [
      "Not enough data to split into train and test.\n",
      "Not enough data to split into train and test.\n",
      "Insufficient data to forecast for Part Number 4108|7 at Location 020|7. Skipping.\n",
      "Not enough data to split into train and test.\n",
      "Insufficient data to forecast for Part Number S240-1-F|7 at Location 020|7. Skipping.\n",
      "Not enough data to split into train and test.\n",
      "Not enough data to split into train and test.\n",
      "Not enough data to split into train and test.\n",
      "Insufficient data to forecast for Part Number GST|7 at Location 080|7. Skipping.\n"
     ]
    },
    {
     "name": "stderr",
     "output_type": "stream",
     "text": [
      "/var/folders/8l/psd7bpq137j_d5v8d7ntz0200000gn/T/ipykernel_27318/2411138453.py:28: FutureWarning: Downcasting object dtype arrays on .fillna, .ffill, .bfill is deprecated and will change in a future version. Call result.infer_objects(copy=False) instead. To opt-in to the future behavior, set `pd.set_option('future.no_silent_downcasting', True)`\n",
      "  group_df.ffill(inplace=True)  # Fill missing values with forward fill\n",
      "/var/folders/8l/psd7bpq137j_d5v8d7ntz0200000gn/T/ipykernel_27318/2411138453.py:28: FutureWarning: Downcasting object dtype arrays on .fillna, .ffill, .bfill is deprecated and will change in a future version. Call result.infer_objects(copy=False) instead. To opt-in to the future behavior, set `pd.set_option('future.no_silent_downcasting', True)`\n",
      "  group_df.ffill(inplace=True)  # Fill missing values with forward fill\n",
      "/var/folders/8l/psd7bpq137j_d5v8d7ntz0200000gn/T/ipykernel_27318/2411138453.py:28: FutureWarning: Downcasting object dtype arrays on .fillna, .ffill, .bfill is deprecated and will change in a future version. Call result.infer_objects(copy=False) instead. To opt-in to the future behavior, set `pd.set_option('future.no_silent_downcasting', True)`\n",
      "  group_df.ffill(inplace=True)  # Fill missing values with forward fill\n",
      "/var/folders/8l/psd7bpq137j_d5v8d7ntz0200000gn/T/ipykernel_27318/2411138453.py:28: FutureWarning: Downcasting object dtype arrays on .fillna, .ffill, .bfill is deprecated and will change in a future version. Call result.infer_objects(copy=False) instead. To opt-in to the future behavior, set `pd.set_option('future.no_silent_downcasting', True)`\n",
      "  group_df.ffill(inplace=True)  # Fill missing values with forward fill\n"
     ]
    },
    {
     "name": "stdout",
     "output_type": "stream",
     "text": [
      "Not enough data to split into train and test.\n",
      "Not enough data to split into train and test.\n",
      "Not enough data to split into train and test.\n",
      "Not enough data to split into train and test.\n",
      "Insufficient data to forecast for Part Number 1149|7 at Location 020|7. Skipping.\n",
      "Not enough data to split into train and test.\n",
      "Not enough data to split into train and test.\n",
      "Insufficient data to forecast for Part Number FTU25-4-TLI|7 at Location 035|7. Skipping.\n"
     ]
    },
    {
     "name": "stderr",
     "output_type": "stream",
     "text": [
      "/var/folders/8l/psd7bpq137j_d5v8d7ntz0200000gn/T/ipykernel_27318/2411138453.py:28: FutureWarning: Downcasting object dtype arrays on .fillna, .ffill, .bfill is deprecated and will change in a future version. Call result.infer_objects(copy=False) instead. To opt-in to the future behavior, set `pd.set_option('future.no_silent_downcasting', True)`\n",
      "  group_df.ffill(inplace=True)  # Fill missing values with forward fill\n",
      "/var/folders/8l/psd7bpq137j_d5v8d7ntz0200000gn/T/ipykernel_27318/2411138453.py:28: FutureWarning: Downcasting object dtype arrays on .fillna, .ffill, .bfill is deprecated and will change in a future version. Call result.infer_objects(copy=False) instead. To opt-in to the future behavior, set `pd.set_option('future.no_silent_downcasting', True)`\n",
      "  group_df.ffill(inplace=True)  # Fill missing values with forward fill\n"
     ]
    },
    {
     "name": "stdout",
     "output_type": "stream",
     "text": [
      "Not enough data to split into train and test.\n",
      "Not enough data to split into train and test.\n",
      "Insufficient data to forecast for Part Number PH050-04|7 at Location 010|7. Skipping.\n",
      "Not enough data to split into train and test.\n",
      "Not enough data to split into train and test.\n",
      "Insufficient data to forecast for Part Number BB12X1-08|7 at Location 020|7. Skipping.\n",
      "Not enough data to split into train and test.\n"
     ]
    },
    {
     "name": "stderr",
     "output_type": "stream",
     "text": [
      "/var/folders/8l/psd7bpq137j_d5v8d7ntz0200000gn/T/ipykernel_27318/2411138453.py:28: FutureWarning: Downcasting object dtype arrays on .fillna, .ffill, .bfill is deprecated and will change in a future version. Call result.infer_objects(copy=False) instead. To opt-in to the future behavior, set `pd.set_option('future.no_silent_downcasting', True)`\n",
      "  group_df.ffill(inplace=True)  # Fill missing values with forward fill\n",
      "/var/folders/8l/psd7bpq137j_d5v8d7ntz0200000gn/T/ipykernel_27318/2411138453.py:28: FutureWarning: Downcasting object dtype arrays on .fillna, .ffill, .bfill is deprecated and will change in a future version. Call result.infer_objects(copy=False) instead. To opt-in to the future behavior, set `pd.set_option('future.no_silent_downcasting', True)`\n",
      "  group_df.ffill(inplace=True)  # Fill missing values with forward fill\n",
      "/var/folders/8l/psd7bpq137j_d5v8d7ntz0200000gn/T/ipykernel_27318/2411138453.py:28: FutureWarning: Downcasting object dtype arrays on .fillna, .ffill, .bfill is deprecated and will change in a future version. Call result.infer_objects(copy=False) instead. To opt-in to the future behavior, set `pd.set_option('future.no_silent_downcasting', True)`\n",
      "  group_df.ffill(inplace=True)  # Fill missing values with forward fill\n",
      "/var/folders/8l/psd7bpq137j_d5v8d7ntz0200000gn/T/ipykernel_27318/2411138453.py:28: FutureWarning: Downcasting object dtype arrays on .fillna, .ffill, .bfill is deprecated and will change in a future version. Call result.infer_objects(copy=False) instead. To opt-in to the future behavior, set `pd.set_option('future.no_silent_downcasting', True)`\n",
      "  group_df.ffill(inplace=True)  # Fill missing values with forward fill\n"
     ]
    },
    {
     "name": "stdout",
     "output_type": "stream",
     "text": [
      "Not enough data to split into train and test.\n",
      "Not enough data to split into train and test.\n",
      "Not enough data to split into train and test.\n",
      "Not enough data to split into train and test.\n",
      "Not enough data to split into train and test.\n"
     ]
    },
    {
     "name": "stderr",
     "output_type": "stream",
     "text": [
      "/var/folders/8l/psd7bpq137j_d5v8d7ntz0200000gn/T/ipykernel_27318/2411138453.py:28: FutureWarning: Downcasting object dtype arrays on .fillna, .ffill, .bfill is deprecated and will change in a future version. Call result.infer_objects(copy=False) instead. To opt-in to the future behavior, set `pd.set_option('future.no_silent_downcasting', True)`\n",
      "  group_df.ffill(inplace=True)  # Fill missing values with forward fill\n",
      "/var/folders/8l/psd7bpq137j_d5v8d7ntz0200000gn/T/ipykernel_27318/2411138453.py:28: FutureWarning: Downcasting object dtype arrays on .fillna, .ffill, .bfill is deprecated and will change in a future version. Call result.infer_objects(copy=False) instead. To opt-in to the future behavior, set `pd.set_option('future.no_silent_downcasting', True)`\n",
      "  group_df.ffill(inplace=True)  # Fill missing values with forward fill\n",
      "/var/folders/8l/psd7bpq137j_d5v8d7ntz0200000gn/T/ipykernel_27318/2411138453.py:28: FutureWarning: Downcasting object dtype arrays on .fillna, .ffill, .bfill is deprecated and will change in a future version. Call result.infer_objects(copy=False) instead. To opt-in to the future behavior, set `pd.set_option('future.no_silent_downcasting', True)`\n",
      "  group_df.ffill(inplace=True)  # Fill missing values with forward fill\n"
     ]
    },
    {
     "name": "stdout",
     "output_type": "stream",
     "text": [
      "Not enough data to split into train and test.\n",
      "Not enough data to split into train and test.\n",
      "Insufficient data to forecast for Part Number UNIVERSAL-1|7 at Location 010|7. Skipping.\n",
      "Not enough data to split into train and test.\n",
      "Not enough data to split into train and test.\n",
      "Insufficient data to forecast for Part Number 350-1-HS|7 at Location 010|7. Skipping.\n",
      "Not enough data to split into train and test.\n",
      "Not enough data to split into train and test.\n"
     ]
    },
    {
     "name": "stderr",
     "output_type": "stream",
     "text": [
      "/var/folders/8l/psd7bpq137j_d5v8d7ntz0200000gn/T/ipykernel_27318/2411138453.py:28: FutureWarning: Downcasting object dtype arrays on .fillna, .ffill, .bfill is deprecated and will change in a future version. Call result.infer_objects(copy=False) instead. To opt-in to the future behavior, set `pd.set_option('future.no_silent_downcasting', True)`\n",
      "  group_df.ffill(inplace=True)  # Fill missing values with forward fill\n",
      "/var/folders/8l/psd7bpq137j_d5v8d7ntz0200000gn/T/ipykernel_27318/2411138453.py:28: FutureWarning: Downcasting object dtype arrays on .fillna, .ffill, .bfill is deprecated and will change in a future version. Call result.infer_objects(copy=False) instead. To opt-in to the future behavior, set `pd.set_option('future.no_silent_downcasting', True)`\n",
      "  group_df.ffill(inplace=True)  # Fill missing values with forward fill\n",
      "/var/folders/8l/psd7bpq137j_d5v8d7ntz0200000gn/T/ipykernel_27318/2411138453.py:28: FutureWarning: Downcasting object dtype arrays on .fillna, .ffill, .bfill is deprecated and will change in a future version. Call result.infer_objects(copy=False) instead. To opt-in to the future behavior, set `pd.set_option('future.no_silent_downcasting', True)`\n",
      "  group_df.ffill(inplace=True)  # Fill missing values with forward fill\n"
     ]
    },
    {
     "name": "stdout",
     "output_type": "stream",
     "text": [
      "Not enough data to split into train and test.\n",
      "Not enough data to split into train and test.\n",
      "Insufficient data to forecast for Part Number BOSS101-1|7 at Location 020|7. Skipping.\n",
      "Not enough data to split into train and test.\n",
      "Insufficient data to forecast for Part Number DYNAMIC-1|7 at Location 081|7. Skipping.\n",
      "Not enough data to split into train and test.\n",
      "Not enough data to split into train and test.\n",
      "Insufficient data to forecast for Part Number BRUCE-GAPRO-30|7 at Location 010|7. Skipping.\n"
     ]
    },
    {
     "name": "stderr",
     "output_type": "stream",
     "text": [
      "/var/folders/8l/psd7bpq137j_d5v8d7ntz0200000gn/T/ipykernel_27318/2411138453.py:28: FutureWarning: Downcasting object dtype arrays on .fillna, .ffill, .bfill is deprecated and will change in a future version. Call result.infer_objects(copy=False) instead. To opt-in to the future behavior, set `pd.set_option('future.no_silent_downcasting', True)`\n",
      "  group_df.ffill(inplace=True)  # Fill missing values with forward fill\n",
      "/var/folders/8l/psd7bpq137j_d5v8d7ntz0200000gn/T/ipykernel_27318/2411138453.py:28: FutureWarning: Downcasting object dtype arrays on .fillna, .ffill, .bfill is deprecated and will change in a future version. Call result.infer_objects(copy=False) instead. To opt-in to the future behavior, set `pd.set_option('future.no_silent_downcasting', True)`\n",
      "  group_df.ffill(inplace=True)  # Fill missing values with forward fill\n",
      "/var/folders/8l/psd7bpq137j_d5v8d7ntz0200000gn/T/ipykernel_27318/2411138453.py:28: FutureWarning: Downcasting object dtype arrays on .fillna, .ffill, .bfill is deprecated and will change in a future version. Call result.infer_objects(copy=False) instead. To opt-in to the future behavior, set `pd.set_option('future.no_silent_downcasting', True)`\n",
      "  group_df.ffill(inplace=True)  # Fill missing values with forward fill\n",
      "/var/folders/8l/psd7bpq137j_d5v8d7ntz0200000gn/T/ipykernel_27318/2411138453.py:28: FutureWarning: Downcasting object dtype arrays on .fillna, .ffill, .bfill is deprecated and will change in a future version. Call result.infer_objects(copy=False) instead. To opt-in to the future behavior, set `pd.set_option('future.no_silent_downcasting', True)`\n",
      "  group_df.ffill(inplace=True)  # Fill missing values with forward fill\n"
     ]
    },
    {
     "name": "stdout",
     "output_type": "stream",
     "text": [
      "Not enough data to split into train and test.\n",
      "Not enough data to split into train and test.\n",
      "Not enough data to split into train and test.\n",
      "Not enough data to split into train and test.\n",
      "Insufficient data to forecast for Part Number FTU15-5-UF|7 at Location 035|7. Skipping.\n"
     ]
    },
    {
     "name": "stderr",
     "output_type": "stream",
     "text": [
      "/var/folders/8l/psd7bpq137j_d5v8d7ntz0200000gn/T/ipykernel_27318/2411138453.py:28: FutureWarning: Downcasting object dtype arrays on .fillna, .ffill, .bfill is deprecated and will change in a future version. Call result.infer_objects(copy=False) instead. To opt-in to the future behavior, set `pd.set_option('future.no_silent_downcasting', True)`\n",
      "  group_df.ffill(inplace=True)  # Fill missing values with forward fill\n",
      "/var/folders/8l/psd7bpq137j_d5v8d7ntz0200000gn/T/ipykernel_27318/2411138453.py:28: FutureWarning: Downcasting object dtype arrays on .fillna, .ffill, .bfill is deprecated and will change in a future version. Call result.infer_objects(copy=False) instead. To opt-in to the future behavior, set `pd.set_option('future.no_silent_downcasting', True)`\n",
      "  group_df.ffill(inplace=True)  # Fill missing values with forward fill\n",
      "/var/folders/8l/psd7bpq137j_d5v8d7ntz0200000gn/T/ipykernel_27318/2411138453.py:28: FutureWarning: Downcasting object dtype arrays on .fillna, .ffill, .bfill is deprecated and will change in a future version. Call result.infer_objects(copy=False) instead. To opt-in to the future behavior, set `pd.set_option('future.no_silent_downcasting', True)`\n",
      "  group_df.ffill(inplace=True)  # Fill missing values with forward fill\n",
      "/var/folders/8l/psd7bpq137j_d5v8d7ntz0200000gn/T/ipykernel_27318/2411138453.py:28: FutureWarning: Downcasting object dtype arrays on .fillna, .ffill, .bfill is deprecated and will change in a future version. Call result.infer_objects(copy=False) instead. To opt-in to the future behavior, set `pd.set_option('future.no_silent_downcasting', True)`\n",
      "  group_df.ffill(inplace=True)  # Fill missing values with forward fill\n"
     ]
    },
    {
     "name": "stdout",
     "output_type": "stream",
     "text": [
      "Not enough data to split into train and test.\n",
      "Not enough data to split into train and test.\n",
      "Insufficient data to forecast for Part Number DYNAMIC-4-F|7 at Location 010|7. Skipping.\n",
      "Not enough data to split into train and test.\n",
      "Insufficient data to forecast for Part Number 7066|7 at Location 010|7. Skipping.\n",
      "Not enough data to split into train and test.\n",
      "Insufficient data to forecast for Part Number 2091-1-ASF|7 at Location 020|7. Skipping.\n",
      "Not enough data to split into train and test.\n"
     ]
    },
    {
     "name": "stderr",
     "output_type": "stream",
     "text": [
      "/var/folders/8l/psd7bpq137j_d5v8d7ntz0200000gn/T/ipykernel_27318/2411138453.py:28: FutureWarning: Downcasting object dtype arrays on .fillna, .ffill, .bfill is deprecated and will change in a future version. Call result.infer_objects(copy=False) instead. To opt-in to the future behavior, set `pd.set_option('future.no_silent_downcasting', True)`\n",
      "  group_df.ffill(inplace=True)  # Fill missing values with forward fill\n",
      "/var/folders/8l/psd7bpq137j_d5v8d7ntz0200000gn/T/ipykernel_27318/2411138453.py:28: FutureWarning: Downcasting object dtype arrays on .fillna, .ffill, .bfill is deprecated and will change in a future version. Call result.infer_objects(copy=False) instead. To opt-in to the future behavior, set `pd.set_option('future.no_silent_downcasting', True)`\n",
      "  group_df.ffill(inplace=True)  # Fill missing values with forward fill\n",
      "/var/folders/8l/psd7bpq137j_d5v8d7ntz0200000gn/T/ipykernel_27318/2411138453.py:28: FutureWarning: Downcasting object dtype arrays on .fillna, .ffill, .bfill is deprecated and will change in a future version. Call result.infer_objects(copy=False) instead. To opt-in to the future behavior, set `pd.set_option('future.no_silent_downcasting', True)`\n",
      "  group_df.ffill(inplace=True)  # Fill missing values with forward fill\n"
     ]
    },
    {
     "name": "stdout",
     "output_type": "stream",
     "text": [
      "Not enough data to split into train and test.\n",
      "Insufficient data to forecast for Part Number VERSATILE-04-F|7 at Location 080|7. Skipping.\n",
      "Not enough data to split into train and test.\n",
      "Not enough data to split into train and test.\n",
      "Not enough data to split into train and test.\n",
      "Insufficient data to forecast for Part Number MISC_INCOME|7 at Location 020|7. Skipping.\n"
     ]
    },
    {
     "name": "stderr",
     "output_type": "stream",
     "text": [
      "/var/folders/8l/psd7bpq137j_d5v8d7ntz0200000gn/T/ipykernel_27318/2411138453.py:28: FutureWarning: Downcasting object dtype arrays on .fillna, .ffill, .bfill is deprecated and will change in a future version. Call result.infer_objects(copy=False) instead. To opt-in to the future behavior, set `pd.set_option('future.no_silent_downcasting', True)`\n",
      "  group_df.ffill(inplace=True)  # Fill missing values with forward fill\n",
      "/var/folders/8l/psd7bpq137j_d5v8d7ntz0200000gn/T/ipykernel_27318/2411138453.py:28: FutureWarning: Downcasting object dtype arrays on .fillna, .ffill, .bfill is deprecated and will change in a future version. Call result.infer_objects(copy=False) instead. To opt-in to the future behavior, set `pd.set_option('future.no_silent_downcasting', True)`\n",
      "  group_df.ffill(inplace=True)  # Fill missing values with forward fill\n",
      "/var/folders/8l/psd7bpq137j_d5v8d7ntz0200000gn/T/ipykernel_27318/2411138453.py:28: FutureWarning: Downcasting object dtype arrays on .fillna, .ffill, .bfill is deprecated and will change in a future version. Call result.infer_objects(copy=False) instead. To opt-in to the future behavior, set `pd.set_option('future.no_silent_downcasting', True)`\n",
      "  group_df.ffill(inplace=True)  # Fill missing values with forward fill\n",
      "/var/folders/8l/psd7bpq137j_d5v8d7ntz0200000gn/T/ipykernel_27318/2411138453.py:28: FutureWarning: Downcasting object dtype arrays on .fillna, .ffill, .bfill is deprecated and will change in a future version. Call result.infer_objects(copy=False) instead. To opt-in to the future behavior, set `pd.set_option('future.no_silent_downcasting', True)`\n",
      "  group_df.ffill(inplace=True)  # Fill missing values with forward fill\n"
     ]
    },
    {
     "name": "stdout",
     "output_type": "stream",
     "text": [
      "Not enough data to split into train and test.\n",
      "Not enough data to split into train and test.\n",
      "Not enough data to split into train and test.\n",
      "Insufficient data to forecast for Part Number FTECHULTRA-4|7 at Location 010|7. Skipping.\n",
      "Not enough data to split into train and test.\n"
     ]
    },
    {
     "name": "stderr",
     "output_type": "stream",
     "text": [
      "/var/folders/8l/psd7bpq137j_d5v8d7ntz0200000gn/T/ipykernel_27318/2411138453.py:28: FutureWarning: Downcasting object dtype arrays on .fillna, .ffill, .bfill is deprecated and will change in a future version. Call result.infer_objects(copy=False) instead. To opt-in to the future behavior, set `pd.set_option('future.no_silent_downcasting', True)`\n",
      "  group_df.ffill(inplace=True)  # Fill missing values with forward fill\n",
      "/var/folders/8l/psd7bpq137j_d5v8d7ntz0200000gn/T/ipykernel_27318/2411138453.py:28: FutureWarning: Downcasting object dtype arrays on .fillna, .ffill, .bfill is deprecated and will change in a future version. Call result.infer_objects(copy=False) instead. To opt-in to the future behavior, set `pd.set_option('future.no_silent_downcasting', True)`\n",
      "  group_df.ffill(inplace=True)  # Fill missing values with forward fill\n",
      "/var/folders/8l/psd7bpq137j_d5v8d7ntz0200000gn/T/ipykernel_27318/2411138453.py:28: FutureWarning: Downcasting object dtype arrays on .fillna, .ffill, .bfill is deprecated and will change in a future version. Call result.infer_objects(copy=False) instead. To opt-in to the future behavior, set `pd.set_option('future.no_silent_downcasting', True)`\n",
      "  group_df.ffill(inplace=True)  # Fill missing values with forward fill\n"
     ]
    },
    {
     "name": "stdout",
     "output_type": "stream",
     "text": [
      "Not enough data to split into train and test.\n",
      "Insufficient data to forecast for Part Number AGILE-4|7 at Location 081|7. Skipping.\n",
      "Not enough data to split into train and test.\n",
      "Not enough data to split into train and test.\n",
      "Insufficient data to forecast for Part Number 2071-4|7 at Location 082|7. Skipping.\n",
      "Not enough data to split into train and test.\n",
      "Insufficient data to forecast for Part Number PC6050|7 at Location 025|7. Skipping.\n"
     ]
    },
    {
     "name": "stderr",
     "output_type": "stream",
     "text": [
      "/var/folders/8l/psd7bpq137j_d5v8d7ntz0200000gn/T/ipykernel_27318/2411138453.py:28: FutureWarning: Downcasting object dtype arrays on .fillna, .ffill, .bfill is deprecated and will change in a future version. Call result.infer_objects(copy=False) instead. To opt-in to the future behavior, set `pd.set_option('future.no_silent_downcasting', True)`\n",
      "  group_df.ffill(inplace=True)  # Fill missing values with forward fill\n",
      "/var/folders/8l/psd7bpq137j_d5v8d7ntz0200000gn/T/ipykernel_27318/2411138453.py:28: FutureWarning: Downcasting object dtype arrays on .fillna, .ffill, .bfill is deprecated and will change in a future version. Call result.infer_objects(copy=False) instead. To opt-in to the future behavior, set `pd.set_option('future.no_silent_downcasting', True)`\n",
      "  group_df.ffill(inplace=True)  # Fill missing values with forward fill\n"
     ]
    },
    {
     "name": "stdout",
     "output_type": "stream",
     "text": [
      "Not enough data to split into train and test.\n",
      "Insufficient data to forecast for Part Number PINNACLE-4|7 at Location 082|7. Skipping.\n",
      "Not enough data to split into train and test.\n",
      "Not enough data to split into train and test.\n",
      "Not enough data to split into train and test.\n",
      "Not enough data to split into train and test.\n",
      "Not enough data to split into train and test.\n",
      "Not enough data to split into train and test.\n",
      "Insufficient data to forecast for Part Number DP1010-02-01|7 at Location 020|7. Skipping.\n"
     ]
    },
    {
     "name": "stderr",
     "output_type": "stream",
     "text": [
      "/var/folders/8l/psd7bpq137j_d5v8d7ntz0200000gn/T/ipykernel_27318/2411138453.py:28: FutureWarning: Downcasting object dtype arrays on .fillna, .ffill, .bfill is deprecated and will change in a future version. Call result.infer_objects(copy=False) instead. To opt-in to the future behavior, set `pd.set_option('future.no_silent_downcasting', True)`\n",
      "  group_df.ffill(inplace=True)  # Fill missing values with forward fill\n",
      "/var/folders/8l/psd7bpq137j_d5v8d7ntz0200000gn/T/ipykernel_27318/2411138453.py:28: FutureWarning: Downcasting object dtype arrays on .fillna, .ffill, .bfill is deprecated and will change in a future version. Call result.infer_objects(copy=False) instead. To opt-in to the future behavior, set `pd.set_option('future.no_silent_downcasting', True)`\n",
      "  group_df.ffill(inplace=True)  # Fill missing values with forward fill\n",
      "/var/folders/8l/psd7bpq137j_d5v8d7ntz0200000gn/T/ipykernel_27318/2411138453.py:28: FutureWarning: Downcasting object dtype arrays on .fillna, .ffill, .bfill is deprecated and will change in a future version. Call result.infer_objects(copy=False) instead. To opt-in to the future behavior, set `pd.set_option('future.no_silent_downcasting', True)`\n",
      "  group_df.ffill(inplace=True)  # Fill missing values with forward fill\n",
      "/var/folders/8l/psd7bpq137j_d5v8d7ntz0200000gn/T/ipykernel_27318/2411138453.py:28: FutureWarning: Downcasting object dtype arrays on .fillna, .ffill, .bfill is deprecated and will change in a future version. Call result.infer_objects(copy=False) instead. To opt-in to the future behavior, set `pd.set_option('future.no_silent_downcasting', True)`\n",
      "  group_df.ffill(inplace=True)  # Fill missing values with forward fill\n"
     ]
    },
    {
     "name": "stdout",
     "output_type": "stream",
     "text": [
      "Not enough data to split into train and test.\n",
      "Not enough data to split into train and test.\n",
      "Not enough data to split into train and test.\n",
      "Not enough data to split into train and test.\n"
     ]
    },
    {
     "name": "stderr",
     "output_type": "stream",
     "text": [
      "/var/folders/8l/psd7bpq137j_d5v8d7ntz0200000gn/T/ipykernel_27318/2411138453.py:28: FutureWarning: Downcasting object dtype arrays on .fillna, .ffill, .bfill is deprecated and will change in a future version. Call result.infer_objects(copy=False) instead. To opt-in to the future behavior, set `pd.set_option('future.no_silent_downcasting', True)`\n",
      "  group_df.ffill(inplace=True)  # Fill missing values with forward fill\n",
      "/var/folders/8l/psd7bpq137j_d5v8d7ntz0200000gn/T/ipykernel_27318/2411138453.py:28: FutureWarning: Downcasting object dtype arrays on .fillna, .ffill, .bfill is deprecated and will change in a future version. Call result.infer_objects(copy=False) instead. To opt-in to the future behavior, set `pd.set_option('future.no_silent_downcasting', True)`\n",
      "  group_df.ffill(inplace=True)  # Fill missing values with forward fill\n",
      "/var/folders/8l/psd7bpq137j_d5v8d7ntz0200000gn/T/ipykernel_27318/2411138453.py:28: FutureWarning: Downcasting object dtype arrays on .fillna, .ffill, .bfill is deprecated and will change in a future version. Call result.infer_objects(copy=False) instead. To opt-in to the future behavior, set `pd.set_option('future.no_silent_downcasting', True)`\n",
      "  group_df.ffill(inplace=True)  # Fill missing values with forward fill\n"
     ]
    },
    {
     "name": "stdout",
     "output_type": "stream",
     "text": [
      "Not enough data to split into train and test.\n",
      "Not enough data to split into train and test.\n",
      "Insufficient data to forecast for Part Number FINALE-030-F|7 at Location 080|7. Skipping.\n"
     ]
    },
    {
     "name": "stderr",
     "output_type": "stream",
     "text": [
      "/var/folders/8l/psd7bpq137j_d5v8d7ntz0200000gn/T/ipykernel_27318/2411138453.py:28: FutureWarning: Downcasting object dtype arrays on .fillna, .ffill, .bfill is deprecated and will change in a future version. Call result.infer_objects(copy=False) instead. To opt-in to the future behavior, set `pd.set_option('future.no_silent_downcasting', True)`\n",
      "  group_df.ffill(inplace=True)  # Fill missing values with forward fill\n",
      "/var/folders/8l/psd7bpq137j_d5v8d7ntz0200000gn/T/ipykernel_27318/2411138453.py:28: FutureWarning: Downcasting object dtype arrays on .fillna, .ffill, .bfill is deprecated and will change in a future version. Call result.infer_objects(copy=False) instead. To opt-in to the future behavior, set `pd.set_option('future.no_silent_downcasting', True)`\n",
      "  group_df.ffill(inplace=True)  # Fill missing values with forward fill\n"
     ]
    },
    {
     "name": "stdout",
     "output_type": "stream",
     "text": [
      "Not enough data to split into train and test.\n",
      "Insufficient data to forecast for Part Number FTPS500-4-EM|7 at Location 035|7. Skipping.\n",
      "Not enough data to split into train and test.\n",
      "Insufficient data to forecast for Part Number FTPS75-1-PF|7 at Location 020|7. Skipping.\n",
      "Not enough data to split into train and test.\n"
     ]
    },
    {
     "name": "stderr",
     "output_type": "stream",
     "text": [
      "/var/folders/8l/psd7bpq137j_d5v8d7ntz0200000gn/T/ipykernel_27318/2411138453.py:28: FutureWarning: Downcasting object dtype arrays on .fillna, .ffill, .bfill is deprecated and will change in a future version. Call result.infer_objects(copy=False) instead. To opt-in to the future behavior, set `pd.set_option('future.no_silent_downcasting', True)`\n",
      "  group_df.ffill(inplace=True)  # Fill missing values with forward fill\n",
      "/var/folders/8l/psd7bpq137j_d5v8d7ntz0200000gn/T/ipykernel_27318/2411138453.py:28: FutureWarning: Downcasting object dtype arrays on .fillna, .ffill, .bfill is deprecated and will change in a future version. Call result.infer_objects(copy=False) instead. To opt-in to the future behavior, set `pd.set_option('future.no_silent_downcasting', True)`\n",
      "  group_df.ffill(inplace=True)  # Fill missing values with forward fill\n",
      "/var/folders/8l/psd7bpq137j_d5v8d7ntz0200000gn/T/ipykernel_27318/2411138453.py:28: FutureWarning: Downcasting object dtype arrays on .fillna, .ffill, .bfill is deprecated and will change in a future version. Call result.infer_objects(copy=False) instead. To opt-in to the future behavior, set `pd.set_option('future.no_silent_downcasting', True)`\n",
      "  group_df.ffill(inplace=True)  # Fill missing values with forward fill\n",
      "/var/folders/8l/psd7bpq137j_d5v8d7ntz0200000gn/T/ipykernel_27318/2411138453.py:28: FutureWarning: Downcasting object dtype arrays on .fillna, .ffill, .bfill is deprecated and will change in a future version. Call result.infer_objects(copy=False) instead. To opt-in to the future behavior, set `pd.set_option('future.no_silent_downcasting', True)`\n",
      "  group_df.ffill(inplace=True)  # Fill missing values with forward fill\n"
     ]
    },
    {
     "name": "stdout",
     "output_type": "stream",
     "text": [
      "Not enough data to split into train and test.\n",
      "Not enough data to split into train and test.\n",
      "Not enough data to split into train and test.\n",
      "Insufficient data to forecast for Part Number FTUR-32-TH|7 at Location 035|7. Skipping.\n",
      "Not enough data to split into train and test.\n"
     ]
    },
    {
     "name": "stderr",
     "output_type": "stream",
     "text": [
      "/var/folders/8l/psd7bpq137j_d5v8d7ntz0200000gn/T/ipykernel_27318/2411138453.py:28: FutureWarning: Downcasting object dtype arrays on .fillna, .ffill, .bfill is deprecated and will change in a future version. Call result.infer_objects(copy=False) instead. To opt-in to the future behavior, set `pd.set_option('future.no_silent_downcasting', True)`\n",
      "  group_df.ffill(inplace=True)  # Fill missing values with forward fill\n",
      "/var/folders/8l/psd7bpq137j_d5v8d7ntz0200000gn/T/ipykernel_27318/2411138453.py:28: FutureWarning: Downcasting object dtype arrays on .fillna, .ffill, .bfill is deprecated and will change in a future version. Call result.infer_objects(copy=False) instead. To opt-in to the future behavior, set `pd.set_option('future.no_silent_downcasting', True)`\n",
      "  group_df.ffill(inplace=True)  # Fill missing values with forward fill\n"
     ]
    },
    {
     "name": "stdout",
     "output_type": "stream",
     "text": [
      "Not enough data to split into train and test.\n",
      "Not enough data to split into train and test.\n",
      "Insufficient data to forecast for Part Number FTTPS-4|7 at Location 035|7. Skipping.\n",
      "Not enough data to split into train and test.\n",
      "Not enough data to split into train and test.\n"
     ]
    },
    {
     "name": "stderr",
     "output_type": "stream",
     "text": [
      "/var/folders/8l/psd7bpq137j_d5v8d7ntz0200000gn/T/ipykernel_27318/2411138453.py:28: FutureWarning: Downcasting object dtype arrays on .fillna, .ffill, .bfill is deprecated and will change in a future version. Call result.infer_objects(copy=False) instead. To opt-in to the future behavior, set `pd.set_option('future.no_silent_downcasting', True)`\n",
      "  group_df.ffill(inplace=True)  # Fill missing values with forward fill\n",
      "/var/folders/8l/psd7bpq137j_d5v8d7ntz0200000gn/T/ipykernel_27318/2411138453.py:28: FutureWarning: Downcasting object dtype arrays on .fillna, .ffill, .bfill is deprecated and will change in a future version. Call result.infer_objects(copy=False) instead. To opt-in to the future behavior, set `pd.set_option('future.no_silent_downcasting', True)`\n",
      "  group_df.ffill(inplace=True)  # Fill missing values with forward fill\n",
      "/var/folders/8l/psd7bpq137j_d5v8d7ntz0200000gn/T/ipykernel_27318/2411138453.py:28: FutureWarning: Downcasting object dtype arrays on .fillna, .ffill, .bfill is deprecated and will change in a future version. Call result.infer_objects(copy=False) instead. To opt-in to the future behavior, set `pd.set_option('future.no_silent_downcasting', True)`\n",
      "  group_df.ffill(inplace=True)  # Fill missing values with forward fill\n"
     ]
    },
    {
     "name": "stdout",
     "output_type": "stream",
     "text": [
      "Not enough data to split into train and test.\n",
      "Insufficient data to forecast for Part Number 2033-4-DB21|7 at Location 020|7. Skipping.\n",
      "Not enough data to split into train and test.\n",
      "Not enough data to split into train and test.\n",
      "Not enough data to split into train and test.\n",
      "Insufficient data to forecast for Part Number 2300-4-BT|7 at Location 047|7. Skipping.\n"
     ]
    },
    {
     "name": "stderr",
     "output_type": "stream",
     "text": [
      "/var/folders/8l/psd7bpq137j_d5v8d7ntz0200000gn/T/ipykernel_27318/2411138453.py:28: FutureWarning: Downcasting object dtype arrays on .fillna, .ffill, .bfill is deprecated and will change in a future version. Call result.infer_objects(copy=False) instead. To opt-in to the future behavior, set `pd.set_option('future.no_silent_downcasting', True)`\n",
      "  group_df.ffill(inplace=True)  # Fill missing values with forward fill\n",
      "/var/folders/8l/psd7bpq137j_d5v8d7ntz0200000gn/T/ipykernel_27318/2411138453.py:28: FutureWarning: Downcasting object dtype arrays on .fillna, .ffill, .bfill is deprecated and will change in a future version. Call result.infer_objects(copy=False) instead. To opt-in to the future behavior, set `pd.set_option('future.no_silent_downcasting', True)`\n",
      "  group_df.ffill(inplace=True)  # Fill missing values with forward fill\n"
     ]
    },
    {
     "name": "stdout",
     "output_type": "stream",
     "text": [
      "Not enough data to split into train and test.\n",
      "Insufficient data to forecast for Part Number 2300-4-BT|7 at Location 041|7. Skipping.\n",
      "Not enough data to split into train and test.\n",
      "Not enough data to split into train and test.\n",
      "Insufficient data to forecast for Part Number DYNAMIC-04|7 at Location 020|7. Skipping.\n"
     ]
    },
    {
     "name": "stderr",
     "output_type": "stream",
     "text": [
      "/var/folders/8l/psd7bpq137j_d5v8d7ntz0200000gn/T/ipykernel_27318/2411138453.py:28: FutureWarning: Downcasting object dtype arrays on .fillna, .ffill, .bfill is deprecated and will change in a future version. Call result.infer_objects(copy=False) instead. To opt-in to the future behavior, set `pd.set_option('future.no_silent_downcasting', True)`\n",
      "  group_df.ffill(inplace=True)  # Fill missing values with forward fill\n",
      "/var/folders/8l/psd7bpq137j_d5v8d7ntz0200000gn/T/ipykernel_27318/2411138453.py:28: FutureWarning: Downcasting object dtype arrays on .fillna, .ffill, .bfill is deprecated and will change in a future version. Call result.infer_objects(copy=False) instead. To opt-in to the future behavior, set `pd.set_option('future.no_silent_downcasting', True)`\n",
      "  group_df.ffill(inplace=True)  # Fill missing values with forward fill\n"
     ]
    },
    {
     "name": "stdout",
     "output_type": "stream",
     "text": [
      "Not enough data to split into train and test.\n",
      "Not enough data to split into train and test.\n",
      "Not enough data to split into train and test.\n"
     ]
    },
    {
     "name": "stderr",
     "output_type": "stream",
     "text": [
      "/var/folders/8l/psd7bpq137j_d5v8d7ntz0200000gn/T/ipykernel_27318/2411138453.py:28: FutureWarning: Downcasting object dtype arrays on .fillna, .ffill, .bfill is deprecated and will change in a future version. Call result.infer_objects(copy=False) instead. To opt-in to the future behavior, set `pd.set_option('future.no_silent_downcasting', True)`\n",
      "  group_df.ffill(inplace=True)  # Fill missing values with forward fill\n",
      "/var/folders/8l/psd7bpq137j_d5v8d7ntz0200000gn/T/ipykernel_27318/2411138453.py:28: FutureWarning: Downcasting object dtype arrays on .fillna, .ffill, .bfill is deprecated and will change in a future version. Call result.infer_objects(copy=False) instead. To opt-in to the future behavior, set `pd.set_option('future.no_silent_downcasting', True)`\n",
      "  group_df.ffill(inplace=True)  # Fill missing values with forward fill\n",
      "/var/folders/8l/psd7bpq137j_d5v8d7ntz0200000gn/T/ipykernel_27318/2411138453.py:28: FutureWarning: Downcasting object dtype arrays on .fillna, .ffill, .bfill is deprecated and will change in a future version. Call result.infer_objects(copy=False) instead. To opt-in to the future behavior, set `pd.set_option('future.no_silent_downcasting', True)`\n",
      "  group_df.ffill(inplace=True)  # Fill missing values with forward fill\n",
      "/var/folders/8l/psd7bpq137j_d5v8d7ntz0200000gn/T/ipykernel_27318/2411138453.py:28: FutureWarning: Downcasting object dtype arrays on .fillna, .ffill, .bfill is deprecated and will change in a future version. Call result.infer_objects(copy=False) instead. To opt-in to the future behavior, set `pd.set_option('future.no_silent_downcasting', True)`\n",
      "  group_df.ffill(inplace=True)  # Fill missing values with forward fill\n"
     ]
    },
    {
     "name": "stdout",
     "output_type": "stream",
     "text": [
      "Not enough data to split into train and test.\n",
      "Not enough data to split into train and test.\n",
      "Not enough data to split into train and test.\n",
      "Not enough data to split into train and test.\n",
      "Insufficient data to forecast for Part Number S740-1-S|7 at Location 020|7. Skipping.\n",
      "Not enough data to split into train and test.\n",
      "Insufficient data to forecast for Part Number 2040-01|7 at Location 010|7. Skipping.\n"
     ]
    },
    {
     "name": "stderr",
     "output_type": "stream",
     "text": [
      "/var/folders/8l/psd7bpq137j_d5v8d7ntz0200000gn/T/ipykernel_27318/2411138453.py:28: FutureWarning: Downcasting object dtype arrays on .fillna, .ffill, .bfill is deprecated and will change in a future version. Call result.infer_objects(copy=False) instead. To opt-in to the future behavior, set `pd.set_option('future.no_silent_downcasting', True)`\n",
      "  group_df.ffill(inplace=True)  # Fill missing values with forward fill\n",
      "/var/folders/8l/psd7bpq137j_d5v8d7ntz0200000gn/T/ipykernel_27318/2411138453.py:28: FutureWarning: Downcasting object dtype arrays on .fillna, .ffill, .bfill is deprecated and will change in a future version. Call result.infer_objects(copy=False) instead. To opt-in to the future behavior, set `pd.set_option('future.no_silent_downcasting', True)`\n",
      "  group_df.ffill(inplace=True)  # Fill missing values with forward fill\n"
     ]
    },
    {
     "name": "stdout",
     "output_type": "stream",
     "text": [
      "Not enough data to split into train and test.\n",
      "Insufficient data to forecast for Part Number DYNAMIC-04-F|7 at Location 010|7. Skipping.\n",
      "Not enough data to split into train and test.\n"
     ]
    },
    {
     "name": "stderr",
     "output_type": "stream",
     "text": [
      "/var/folders/8l/psd7bpq137j_d5v8d7ntz0200000gn/T/ipykernel_27318/2411138453.py:28: FutureWarning: Downcasting object dtype arrays on .fillna, .ffill, .bfill is deprecated and will change in a future version. Call result.infer_objects(copy=False) instead. To opt-in to the future behavior, set `pd.set_option('future.no_silent_downcasting', True)`\n",
      "  group_df.ffill(inplace=True)  # Fill missing values with forward fill\n"
     ]
    },
    {
     "name": "stdout",
     "output_type": "stream",
     "text": [
      "Not enough data to split into train and test.\n",
      "Not enough data to split into train and test.\n",
      "Not enough data to split into train and test.\n",
      "Not enough data to split into train and test.\n"
     ]
    },
    {
     "name": "stderr",
     "output_type": "stream",
     "text": [
      "/var/folders/8l/psd7bpq137j_d5v8d7ntz0200000gn/T/ipykernel_27318/2411138453.py:28: FutureWarning: Downcasting object dtype arrays on .fillna, .ffill, .bfill is deprecated and will change in a future version. Call result.infer_objects(copy=False) instead. To opt-in to the future behavior, set `pd.set_option('future.no_silent_downcasting', True)`\n",
      "  group_df.ffill(inplace=True)  # Fill missing values with forward fill\n",
      "/var/folders/8l/psd7bpq137j_d5v8d7ntz0200000gn/T/ipykernel_27318/2411138453.py:28: FutureWarning: Downcasting object dtype arrays on .fillna, .ffill, .bfill is deprecated and will change in a future version. Call result.infer_objects(copy=False) instead. To opt-in to the future behavior, set `pd.set_option('future.no_silent_downcasting', True)`\n",
      "  group_df.ffill(inplace=True)  # Fill missing values with forward fill\n",
      "/var/folders/8l/psd7bpq137j_d5v8d7ntz0200000gn/T/ipykernel_27318/2411138453.py:28: FutureWarning: Downcasting object dtype arrays on .fillna, .ffill, .bfill is deprecated and will change in a future version. Call result.infer_objects(copy=False) instead. To opt-in to the future behavior, set `pd.set_option('future.no_silent_downcasting', True)`\n",
      "  group_df.ffill(inplace=True)  # Fill missing values with forward fill\n"
     ]
    },
    {
     "name": "stdout",
     "output_type": "stream",
     "text": [
      "Not enough data to split into train and test.\n",
      "Insufficient data to forecast for Part Number WF-92114|7 at Location 020|7. Skipping.\n",
      "Not enough data to split into train and test.\n",
      "Insufficient data to forecast for Part Number 2071-01|7 at Location 010|7. Skipping.\n",
      "Not enough data to split into train and test.\n",
      "Insufficient data to forecast for Part Number 2033-4-NB|7 at Location 020|7. Skipping.\n"
     ]
    },
    {
     "name": "stderr",
     "output_type": "stream",
     "text": [
      "/var/folders/8l/psd7bpq137j_d5v8d7ntz0200000gn/T/ipykernel_27318/2411138453.py:28: FutureWarning: Downcasting object dtype arrays on .fillna, .ffill, .bfill is deprecated and will change in a future version. Call result.infer_objects(copy=False) instead. To opt-in to the future behavior, set `pd.set_option('future.no_silent_downcasting', True)`\n",
      "  group_df.ffill(inplace=True)  # Fill missing values with forward fill\n",
      "/var/folders/8l/psd7bpq137j_d5v8d7ntz0200000gn/T/ipykernel_27318/2411138453.py:28: FutureWarning: Downcasting object dtype arrays on .fillna, .ffill, .bfill is deprecated and will change in a future version. Call result.infer_objects(copy=False) instead. To opt-in to the future behavior, set `pd.set_option('future.no_silent_downcasting', True)`\n",
      "  group_df.ffill(inplace=True)  # Fill missing values with forward fill\n"
     ]
    },
    {
     "name": "stdout",
     "output_type": "stream",
     "text": [
      "Not enough data to split into train and test.\n",
      "Not enough data to split into train and test.\n",
      "Not enough data to split into train and test.\n",
      "Not enough data to split into train and test.\n",
      "Not enough data to split into train and test.\n"
     ]
    },
    {
     "name": "stderr",
     "output_type": "stream",
     "text": [
      "/var/folders/8l/psd7bpq137j_d5v8d7ntz0200000gn/T/ipykernel_27318/2411138453.py:28: FutureWarning: Downcasting object dtype arrays on .fillna, .ffill, .bfill is deprecated and will change in a future version. Call result.infer_objects(copy=False) instead. To opt-in to the future behavior, set `pd.set_option('future.no_silent_downcasting', True)`\n",
      "  group_df.ffill(inplace=True)  # Fill missing values with forward fill\n",
      "/var/folders/8l/psd7bpq137j_d5v8d7ntz0200000gn/T/ipykernel_27318/2411138453.py:28: FutureWarning: Downcasting object dtype arrays on .fillna, .ffill, .bfill is deprecated and will change in a future version. Call result.infer_objects(copy=False) instead. To opt-in to the future behavior, set `pd.set_option('future.no_silent_downcasting', True)`\n",
      "  group_df.ffill(inplace=True)  # Fill missing values with forward fill\n"
     ]
    },
    {
     "name": "stdout",
     "output_type": "stream",
     "text": [
      "Not enough data to split into train and test.\n",
      "Not enough data to split into train and test.\n",
      "Not enough data to split into train and test.\n",
      "Insufficient data to forecast for Part Number PC212|7 at Location 025|7. Skipping.\n",
      "Not enough data to split into train and test.\n"
     ]
    },
    {
     "name": "stderr",
     "output_type": "stream",
     "text": [
      "/var/folders/8l/psd7bpq137j_d5v8d7ntz0200000gn/T/ipykernel_27318/2411138453.py:28: FutureWarning: Downcasting object dtype arrays on .fillna, .ffill, .bfill is deprecated and will change in a future version. Call result.infer_objects(copy=False) instead. To opt-in to the future behavior, set `pd.set_option('future.no_silent_downcasting', True)`\n",
      "  group_df.ffill(inplace=True)  # Fill missing values with forward fill\n",
      "/var/folders/8l/psd7bpq137j_d5v8d7ntz0200000gn/T/ipykernel_27318/2411138453.py:28: FutureWarning: Downcasting object dtype arrays on .fillna, .ffill, .bfill is deprecated and will change in a future version. Call result.infer_objects(copy=False) instead. To opt-in to the future behavior, set `pd.set_option('future.no_silent_downcasting', True)`\n",
      "  group_df.ffill(inplace=True)  # Fill missing values with forward fill\n",
      "/var/folders/8l/psd7bpq137j_d5v8d7ntz0200000gn/T/ipykernel_27318/2411138453.py:28: FutureWarning: Downcasting object dtype arrays on .fillna, .ffill, .bfill is deprecated and will change in a future version. Call result.infer_objects(copy=False) instead. To opt-in to the future behavior, set `pd.set_option('future.no_silent_downcasting', True)`\n",
      "  group_df.ffill(inplace=True)  # Fill missing values with forward fill\n"
     ]
    },
    {
     "name": "stdout",
     "output_type": "stream",
     "text": [
      "Not enough data to split into train and test.\n",
      "Not enough data to split into train and test.\n",
      "Not enough data to split into train and test.\n",
      "Not enough data to split into train and test.\n",
      "Not enough data to split into train and test.\n"
     ]
    },
    {
     "name": "stderr",
     "output_type": "stream",
     "text": [
      "/var/folders/8l/psd7bpq137j_d5v8d7ntz0200000gn/T/ipykernel_27318/2411138453.py:28: FutureWarning: Downcasting object dtype arrays on .fillna, .ffill, .bfill is deprecated and will change in a future version. Call result.infer_objects(copy=False) instead. To opt-in to the future behavior, set `pd.set_option('future.no_silent_downcasting', True)`\n",
      "  group_df.ffill(inplace=True)  # Fill missing values with forward fill\n",
      "/var/folders/8l/psd7bpq137j_d5v8d7ntz0200000gn/T/ipykernel_27318/2411138453.py:28: FutureWarning: Downcasting object dtype arrays on .fillna, .ffill, .bfill is deprecated and will change in a future version. Call result.infer_objects(copy=False) instead. To opt-in to the future behavior, set `pd.set_option('future.no_silent_downcasting', True)`\n",
      "  group_df.ffill(inplace=True)  # Fill missing values with forward fill\n",
      "/var/folders/8l/psd7bpq137j_d5v8d7ntz0200000gn/T/ipykernel_27318/2411138453.py:28: FutureWarning: Downcasting object dtype arrays on .fillna, .ffill, .bfill is deprecated and will change in a future version. Call result.infer_objects(copy=False) instead. To opt-in to the future behavior, set `pd.set_option('future.no_silent_downcasting', True)`\n",
      "  group_df.ffill(inplace=True)  # Fill missing values with forward fill\n"
     ]
    },
    {
     "name": "stdout",
     "output_type": "stream",
     "text": [
      "Not enough data to split into train and test.\n",
      "Not enough data to split into train and test.\n",
      "Not enough data to split into train and test.\n",
      "Not enough data to split into train and test.\n",
      "Insufficient data to forecast for Part Number PC4015|7 at Location 025|7. Skipping.\n",
      "Not enough data to split into train and test.\n"
     ]
    },
    {
     "name": "stderr",
     "output_type": "stream",
     "text": [
      "/var/folders/8l/psd7bpq137j_d5v8d7ntz0200000gn/T/ipykernel_27318/2411138453.py:28: FutureWarning: Downcasting object dtype arrays on .fillna, .ffill, .bfill is deprecated and will change in a future version. Call result.infer_objects(copy=False) instead. To opt-in to the future behavior, set `pd.set_option('future.no_silent_downcasting', True)`\n",
      "  group_df.ffill(inplace=True)  # Fill missing values with forward fill\n",
      "/var/folders/8l/psd7bpq137j_d5v8d7ntz0200000gn/T/ipykernel_27318/2411138453.py:28: FutureWarning: Downcasting object dtype arrays on .fillna, .ffill, .bfill is deprecated and will change in a future version. Call result.infer_objects(copy=False) instead. To opt-in to the future behavior, set `pd.set_option('future.no_silent_downcasting', True)`\n",
      "  group_df.ffill(inplace=True)  # Fill missing values with forward fill\n",
      "/var/folders/8l/psd7bpq137j_d5v8d7ntz0200000gn/T/ipykernel_27318/2411138453.py:28: FutureWarning: Downcasting object dtype arrays on .fillna, .ffill, .bfill is deprecated and will change in a future version. Call result.infer_objects(copy=False) instead. To opt-in to the future behavior, set `pd.set_option('future.no_silent_downcasting', True)`\n",
      "  group_df.ffill(inplace=True)  # Fill missing values with forward fill\n",
      "/var/folders/8l/psd7bpq137j_d5v8d7ntz0200000gn/T/ipykernel_27318/2411138453.py:28: FutureWarning: Downcasting object dtype arrays on .fillna, .ffill, .bfill is deprecated and will change in a future version. Call result.infer_objects(copy=False) instead. To opt-in to the future behavior, set `pd.set_option('future.no_silent_downcasting', True)`\n",
      "  group_df.ffill(inplace=True)  # Fill missing values with forward fill\n"
     ]
    },
    {
     "name": "stdout",
     "output_type": "stream",
     "text": [
      "Not enough data to split into train and test.\n",
      "Not enough data to split into train and test.\n",
      "Insufficient data to forecast for Part Number FINALE-030-F|7 at Location 010|7. Skipping.\n",
      "Not enough data to split into train and test.\n",
      "Insufficient data to forecast for Part Number TAJ1095-4|7 at Location 010|7. Skipping.\n",
      "Not enough data to split into train and test.\n",
      "Insufficient data to forecast for Part Number DYNAMIC-1-F|7 at Location 010|7. Skipping.\n"
     ]
    },
    {
     "name": "stderr",
     "output_type": "stream",
     "text": [
      "/var/folders/8l/psd7bpq137j_d5v8d7ntz0200000gn/T/ipykernel_27318/2411138453.py:28: FutureWarning: Downcasting object dtype arrays on .fillna, .ffill, .bfill is deprecated and will change in a future version. Call result.infer_objects(copy=False) instead. To opt-in to the future behavior, set `pd.set_option('future.no_silent_downcasting', True)`\n",
      "  group_df.ffill(inplace=True)  # Fill missing values with forward fill\n",
      "/var/folders/8l/psd7bpq137j_d5v8d7ntz0200000gn/T/ipykernel_27318/2411138453.py:28: FutureWarning: Downcasting object dtype arrays on .fillna, .ffill, .bfill is deprecated and will change in a future version. Call result.infer_objects(copy=False) instead. To opt-in to the future behavior, set `pd.set_option('future.no_silent_downcasting', True)`\n",
      "  group_df.ffill(inplace=True)  # Fill missing values with forward fill\n",
      "/var/folders/8l/psd7bpq137j_d5v8d7ntz0200000gn/T/ipykernel_27318/2411138453.py:28: FutureWarning: Downcasting object dtype arrays on .fillna, .ffill, .bfill is deprecated and will change in a future version. Call result.infer_objects(copy=False) instead. To opt-in to the future behavior, set `pd.set_option('future.no_silent_downcasting', True)`\n",
      "  group_df.ffill(inplace=True)  # Fill missing values with forward fill\n",
      "/var/folders/8l/psd7bpq137j_d5v8d7ntz0200000gn/T/ipykernel_27318/2411138453.py:28: FutureWarning: Downcasting object dtype arrays on .fillna, .ffill, .bfill is deprecated and will change in a future version. Call result.infer_objects(copy=False) instead. To opt-in to the future behavior, set `pd.set_option('future.no_silent_downcasting', True)`\n",
      "  group_df.ffill(inplace=True)  # Fill missing values with forward fill\n"
     ]
    },
    {
     "name": "stdout",
     "output_type": "stream",
     "text": [
      "Not enough data to split into train and test.\n",
      "Not enough data to split into train and test.\n",
      "Not enough data to split into train and test.\n",
      "Not enough data to split into train and test.\n",
      "Not enough data to split into train and test.\n",
      "Not enough data to split into train and test.\n",
      "Not enough data to split into train and test.\n",
      "Insufficient data to forecast for Part Number 2089-4|7 at Location 082|7. Skipping.\n",
      "Not enough data to split into train and test.\n"
     ]
    },
    {
     "name": "stderr",
     "output_type": "stream",
     "text": [
      "/var/folders/8l/psd7bpq137j_d5v8d7ntz0200000gn/T/ipykernel_27318/2411138453.py:28: FutureWarning: Downcasting object dtype arrays on .fillna, .ffill, .bfill is deprecated and will change in a future version. Call result.infer_objects(copy=False) instead. To opt-in to the future behavior, set `pd.set_option('future.no_silent_downcasting', True)`\n",
      "  group_df.ffill(inplace=True)  # Fill missing values with forward fill\n",
      "/var/folders/8l/psd7bpq137j_d5v8d7ntz0200000gn/T/ipykernel_27318/2411138453.py:28: FutureWarning: Downcasting object dtype arrays on .fillna, .ffill, .bfill is deprecated and will change in a future version. Call result.infer_objects(copy=False) instead. To opt-in to the future behavior, set `pd.set_option('future.no_silent_downcasting', True)`\n",
      "  group_df.ffill(inplace=True)  # Fill missing values with forward fill\n",
      "/var/folders/8l/psd7bpq137j_d5v8d7ntz0200000gn/T/ipykernel_27318/2411138453.py:28: FutureWarning: Downcasting object dtype arrays on .fillna, .ffill, .bfill is deprecated and will change in a future version. Call result.infer_objects(copy=False) instead. To opt-in to the future behavior, set `pd.set_option('future.no_silent_downcasting', True)`\n",
      "  group_df.ffill(inplace=True)  # Fill missing values with forward fill\n",
      "/var/folders/8l/psd7bpq137j_d5v8d7ntz0200000gn/T/ipykernel_27318/2411138453.py:28: FutureWarning: Downcasting object dtype arrays on .fillna, .ffill, .bfill is deprecated and will change in a future version. Call result.infer_objects(copy=False) instead. To opt-in to the future behavior, set `pd.set_option('future.no_silent_downcasting', True)`\n",
      "  group_df.ffill(inplace=True)  # Fill missing values with forward fill\n",
      "/var/folders/8l/psd7bpq137j_d5v8d7ntz0200000gn/T/ipykernel_27318/2411138453.py:28: FutureWarning: Downcasting object dtype arrays on .fillna, .ffill, .bfill is deprecated and will change in a future version. Call result.infer_objects(copy=False) instead. To opt-in to the future behavior, set `pd.set_option('future.no_silent_downcasting', True)`\n",
      "  group_df.ffill(inplace=True)  # Fill missing values with forward fill\n"
     ]
    },
    {
     "name": "stdout",
     "output_type": "stream",
     "text": [
      "Not enough data to split into train and test.\n",
      "Insufficient data to forecast for Part Number PC1016|7 at Location 025|7. Skipping.\n",
      "Not enough data to split into train and test.\n"
     ]
    },
    {
     "name": "stderr",
     "output_type": "stream",
     "text": [
      "/var/folders/8l/psd7bpq137j_d5v8d7ntz0200000gn/T/ipykernel_27318/2411138453.py:28: FutureWarning: Downcasting object dtype arrays on .fillna, .ffill, .bfill is deprecated and will change in a future version. Call result.infer_objects(copy=False) instead. To opt-in to the future behavior, set `pd.set_option('future.no_silent_downcasting', True)`\n",
      "  group_df.ffill(inplace=True)  # Fill missing values with forward fill\n",
      "/var/folders/8l/psd7bpq137j_d5v8d7ntz0200000gn/T/ipykernel_27318/2411138453.py:28: FutureWarning: Downcasting object dtype arrays on .fillna, .ffill, .bfill is deprecated and will change in a future version. Call result.infer_objects(copy=False) instead. To opt-in to the future behavior, set `pd.set_option('future.no_silent_downcasting', True)`\n",
      "  group_df.ffill(inplace=True)  # Fill missing values with forward fill\n"
     ]
    },
    {
     "name": "stdout",
     "output_type": "stream",
     "text": [
      "Not enough data to split into train and test.\n",
      "Not enough data to split into train and test.\n",
      "Insufficient data to forecast for Part Number PC4090|7 at Location 025|7. Skipping.\n",
      "Not enough data to split into train and test.\n"
     ]
    },
    {
     "name": "stderr",
     "output_type": "stream",
     "text": [
      "/var/folders/8l/psd7bpq137j_d5v8d7ntz0200000gn/T/ipykernel_27318/2411138453.py:28: FutureWarning: Downcasting object dtype arrays on .fillna, .ffill, .bfill is deprecated and will change in a future version. Call result.infer_objects(copy=False) instead. To opt-in to the future behavior, set `pd.set_option('future.no_silent_downcasting', True)`\n",
      "  group_df.ffill(inplace=True)  # Fill missing values with forward fill\n"
     ]
    },
    {
     "name": "stdout",
     "output_type": "stream",
     "text": [
      "Not enough data to split into train and test.\n",
      "Not enough data to split into train and test.\n",
      "Insufficient data to forecast for Part Number BRUCE-CKRC01|7 at Location 010|7. Skipping.\n",
      "Not enough data to split into train and test.\n",
      "Insufficient data to forecast for Part Number VERSATILE-4-F|7 at Location 080|7. Skipping.\n",
      "Not enough data to split into train and test.\n",
      "Insufficient data to forecast for Part Number PCA713|7 at Location 025|7. Skipping.\n"
     ]
    },
    {
     "name": "stderr",
     "output_type": "stream",
     "text": [
      "/var/folders/8l/psd7bpq137j_d5v8d7ntz0200000gn/T/ipykernel_27318/2411138453.py:28: FutureWarning: Downcasting object dtype arrays on .fillna, .ffill, .bfill is deprecated and will change in a future version. Call result.infer_objects(copy=False) instead. To opt-in to the future behavior, set `pd.set_option('future.no_silent_downcasting', True)`\n",
      "  group_df.ffill(inplace=True)  # Fill missing values with forward fill\n"
     ]
    },
    {
     "name": "stdout",
     "output_type": "stream",
     "text": [
      "Not enough data to split into train and test.\n",
      "Insufficient data to forecast for Part Number PC1102|7 at Location 025|7. Skipping.\n",
      "Not enough data to split into train and test.\n",
      "Not enough data to split into train and test.\n",
      "Insufficient data to forecast for Part Number 7040|7 at Location 010|7. Skipping.\n",
      "Not enough data to split into train and test.\n",
      "Insufficient data to forecast for Part Number PC5030|7 at Location 025|7. Skipping.\n"
     ]
    },
    {
     "name": "stderr",
     "output_type": "stream",
     "text": [
      "/var/folders/8l/psd7bpq137j_d5v8d7ntz0200000gn/T/ipykernel_27318/2411138453.py:28: FutureWarning: Downcasting object dtype arrays on .fillna, .ffill, .bfill is deprecated and will change in a future version. Call result.infer_objects(copy=False) instead. To opt-in to the future behavior, set `pd.set_option('future.no_silent_downcasting', True)`\n",
      "  group_df.ffill(inplace=True)  # Fill missing values with forward fill\n"
     ]
    },
    {
     "name": "stdout",
     "output_type": "stream",
     "text": [
      "Not enough data to split into train and test.\n",
      "Insufficient data to forecast for Part Number PC2002|7 at Location 025|7. Skipping.\n",
      "Not enough data to split into train and test.\n",
      "Not enough data to split into train and test.\n",
      "Insufficient data to forecast for Part Number PC7050|7 at Location 025|7. Skipping.\n"
     ]
    },
    {
     "name": "stderr",
     "output_type": "stream",
     "text": [
      "/var/folders/8l/psd7bpq137j_d5v8d7ntz0200000gn/T/ipykernel_27318/2411138453.py:28: FutureWarning: Downcasting object dtype arrays on .fillna, .ffill, .bfill is deprecated and will change in a future version. Call result.infer_objects(copy=False) instead. To opt-in to the future behavior, set `pd.set_option('future.no_silent_downcasting', True)`\n",
      "  group_df.ffill(inplace=True)  # Fill missing values with forward fill\n",
      "/var/folders/8l/psd7bpq137j_d5v8d7ntz0200000gn/T/ipykernel_27318/2411138453.py:28: FutureWarning: Downcasting object dtype arrays on .fillna, .ffill, .bfill is deprecated and will change in a future version. Call result.infer_objects(copy=False) instead. To opt-in to the future behavior, set `pd.set_option('future.no_silent_downcasting', True)`\n",
      "  group_df.ffill(inplace=True)  # Fill missing values with forward fill\n",
      "/var/folders/8l/psd7bpq137j_d5v8d7ntz0200000gn/T/ipykernel_27318/2411138453.py:28: FutureWarning: Downcasting object dtype arrays on .fillna, .ffill, .bfill is deprecated and will change in a future version. Call result.infer_objects(copy=False) instead. To opt-in to the future behavior, set `pd.set_option('future.no_silent_downcasting', True)`\n",
      "  group_df.ffill(inplace=True)  # Fill missing values with forward fill\n"
     ]
    },
    {
     "name": "stdout",
     "output_type": "stream",
     "text": [
      "Not enough data to split into train and test.\n",
      "Not enough data to split into train and test.\n",
      "Not enough data to split into train and test.\n",
      "Insufficient data to forecast for Part Number PC1190|7 at Location 025|7. Skipping.\n",
      "Not enough data to split into train and test.\n",
      "Insufficient data to forecast for Part Number JGUARD-100|7 at Location 081|7. Skipping.\n"
     ]
    },
    {
     "name": "stderr",
     "output_type": "stream",
     "text": [
      "/var/folders/8l/psd7bpq137j_d5v8d7ntz0200000gn/T/ipykernel_27318/2411138453.py:28: FutureWarning: Downcasting object dtype arrays on .fillna, .ffill, .bfill is deprecated and will change in a future version. Call result.infer_objects(copy=False) instead. To opt-in to the future behavior, set `pd.set_option('future.no_silent_downcasting', True)`\n",
      "  group_df.ffill(inplace=True)  # Fill missing values with forward fill\n",
      "/var/folders/8l/psd7bpq137j_d5v8d7ntz0200000gn/T/ipykernel_27318/2411138453.py:28: FutureWarning: Downcasting object dtype arrays on .fillna, .ffill, .bfill is deprecated and will change in a future version. Call result.infer_objects(copy=False) instead. To opt-in to the future behavior, set `pd.set_option('future.no_silent_downcasting', True)`\n",
      "  group_df.ffill(inplace=True)  # Fill missing values with forward fill\n",
      "/var/folders/8l/psd7bpq137j_d5v8d7ntz0200000gn/T/ipykernel_27318/2411138453.py:28: FutureWarning: Downcasting object dtype arrays on .fillna, .ffill, .bfill is deprecated and will change in a future version. Call result.infer_objects(copy=False) instead. To opt-in to the future behavior, set `pd.set_option('future.no_silent_downcasting', True)`\n",
      "  group_df.ffill(inplace=True)  # Fill missing values with forward fill\n",
      "/var/folders/8l/psd7bpq137j_d5v8d7ntz0200000gn/T/ipykernel_27318/2411138453.py:28: FutureWarning: Downcasting object dtype arrays on .fillna, .ffill, .bfill is deprecated and will change in a future version. Call result.infer_objects(copy=False) instead. To opt-in to the future behavior, set `pd.set_option('future.no_silent_downcasting', True)`\n",
      "  group_df.ffill(inplace=True)  # Fill missing values with forward fill\n"
     ]
    },
    {
     "name": "stdout",
     "output_type": "stream",
     "text": [
      "Not enough data to split into train and test.\n",
      "Insufficient data to forecast for Part Number DYNAMIC-1|7 at Location 082|7. Skipping.\n",
      "Not enough data to split into train and test.\n",
      "Not enough data to split into train and test.\n",
      "Not enough data to split into train and test.\n",
      "Insufficient data to forecast for Part Number 2089-1|7 at Location 082|7. Skipping.\n"
     ]
    },
    {
     "name": "stderr",
     "output_type": "stream",
     "text": [
      "/var/folders/8l/psd7bpq137j_d5v8d7ntz0200000gn/T/ipykernel_27318/2411138453.py:28: FutureWarning: Downcasting object dtype arrays on .fillna, .ffill, .bfill is deprecated and will change in a future version. Call result.infer_objects(copy=False) instead. To opt-in to the future behavior, set `pd.set_option('future.no_silent_downcasting', True)`\n",
      "  group_df.ffill(inplace=True)  # Fill missing values with forward fill\n"
     ]
    },
    {
     "name": "stdout",
     "output_type": "stream",
     "text": [
      "Not enough data to split into train and test.\n",
      "Not enough data to split into train and test.\n"
     ]
    },
    {
     "name": "stderr",
     "output_type": "stream",
     "text": [
      "/var/folders/8l/psd7bpq137j_d5v8d7ntz0200000gn/T/ipykernel_27318/2411138453.py:28: FutureWarning: Downcasting object dtype arrays on .fillna, .ffill, .bfill is deprecated and will change in a future version. Call result.infer_objects(copy=False) instead. To opt-in to the future behavior, set `pd.set_option('future.no_silent_downcasting', True)`\n",
      "  group_df.ffill(inplace=True)  # Fill missing values with forward fill\n",
      "/var/folders/8l/psd7bpq137j_d5v8d7ntz0200000gn/T/ipykernel_27318/2411138453.py:28: FutureWarning: Downcasting object dtype arrays on .fillna, .ffill, .bfill is deprecated and will change in a future version. Call result.infer_objects(copy=False) instead. To opt-in to the future behavior, set `pd.set_option('future.no_silent_downcasting', True)`\n",
      "  group_df.ffill(inplace=True)  # Fill missing values with forward fill\n"
     ]
    },
    {
     "name": "stdout",
     "output_type": "stream",
     "text": [
      "Not enough data to split into train and test.\n",
      "Insufficient data to forecast for Part Number PINNACLE-4-F|7 at Location 080|7. Skipping.\n",
      "Not enough data to split into train and test.\n",
      "Insufficient data to forecast for Part Number IRONWOOD-010-V|7 at Location 020|7. Skipping.\n",
      "Not enough data to split into train and test.\n"
     ]
    },
    {
     "name": "stderr",
     "output_type": "stream",
     "text": [
      "/var/folders/8l/psd7bpq137j_d5v8d7ntz0200000gn/T/ipykernel_27318/2411138453.py:28: FutureWarning: Downcasting object dtype arrays on .fillna, .ffill, .bfill is deprecated and will change in a future version. Call result.infer_objects(copy=False) instead. To opt-in to the future behavior, set `pd.set_option('future.no_silent_downcasting', True)`\n",
      "  group_df.ffill(inplace=True)  # Fill missing values with forward fill\n",
      "/var/folders/8l/psd7bpq137j_d5v8d7ntz0200000gn/T/ipykernel_27318/2411138453.py:28: FutureWarning: Downcasting object dtype arrays on .fillna, .ffill, .bfill is deprecated and will change in a future version. Call result.infer_objects(copy=False) instead. To opt-in to the future behavior, set `pd.set_option('future.no_silent_downcasting', True)`\n",
      "  group_df.ffill(inplace=True)  # Fill missing values with forward fill\n",
      "/var/folders/8l/psd7bpq137j_d5v8d7ntz0200000gn/T/ipykernel_27318/2411138453.py:28: FutureWarning: Downcasting object dtype arrays on .fillna, .ffill, .bfill is deprecated and will change in a future version. Call result.infer_objects(copy=False) instead. To opt-in to the future behavior, set `pd.set_option('future.no_silent_downcasting', True)`\n",
      "  group_df.ffill(inplace=True)  # Fill missing values with forward fill\n"
     ]
    },
    {
     "name": "stdout",
     "output_type": "stream",
     "text": [
      "Not enough data to split into train and test.\n",
      "Not enough data to split into train and test.\n",
      "Not enough data to split into train and test.\n"
     ]
    }
   ],
   "source": [
    "if __name__ == \"__main__\":\n",
    "    main(df1_item)"
   ]
  },
  {
   "cell_type": "code",
   "execution_count": null,
   "id": "6f090941-2d3e-4561-972e-a95abe16a51d",
   "metadata": {},
   "outputs": [],
   "source": []
  }
 ],
 "metadata": {
  "kernelspec": {
   "display_name": "Python 3 (ipykernel)",
   "language": "python",
   "name": "python3"
  },
  "language_info": {
   "codemirror_mode": {
    "name": "ipython",
    "version": 3
   },
   "file_extension": ".py",
   "mimetype": "text/x-python",
   "name": "python",
   "nbconvert_exporter": "python",
   "pygments_lexer": "ipython3",
   "version": "3.9.15"
  }
 },
 "nbformat": 4,
 "nbformat_minor": 5
}
