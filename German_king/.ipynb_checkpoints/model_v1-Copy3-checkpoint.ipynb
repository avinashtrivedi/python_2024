{
 "cells": [
  {
   "cell_type": "code",
   "execution_count": 1,
   "id": "08fdeb2c",
   "metadata": {},
   "outputs": [],
   "source": [
    "import numpy as np\n",
    "import pandas as pd\n",
    "from sklearn.model_selection import train_test_split\n",
    "from sklearn.multioutput import MultiOutputClassifier\n",
    "from sklearn.ensemble import RandomForestClassifier\n",
    "from sklearn.metrics import classification_report, accuracy_score, f1_score,precision_score\n",
    "\n",
    "import warnings\n",
    "warnings.filterwarnings(\"ignore\")"
   ]
  },
  {
   "cell_type": "code",
   "execution_count": 2,
   "id": "bbbaab18",
   "metadata": {},
   "outputs": [],
   "source": [
    "df = pd.read_excel('Data_08_02_2024.xlsx')\n",
    "print(df.isna().mean())\n",
    "print('Old shape',df.shape)\n",
    "\n",
    "threshold = len(df) * 0.20 # Calculate 20% of the total number of rows\n",
    "dropped_columns = list(df.columns[df.isna().sum() > threshold])\n",
    "df = df.dropna(thresh=threshold, axis=1)\n",
    "print(\"Columns deleted:\", dropped_columns)\n",
    "\n",
    "print('New shape',df.shape)\n",
    "df.drop(columns='business_id',inplace=True)\n",
    "\n",
    "y = df[['hard_closure' ,'soft_closure']]\n",
    "X = df.drop(columns=['hard_closure' ,'soft_closure'])"
   ]
  },
  {
   "cell_type": "code",
   "execution_count": 13,
   "id": "4e4938d5",
   "metadata": {},
   "outputs": [],
   "source": [
    "from sklearn.compose import ColumnTransformer\n",
    "from sklearn.pipeline import Pipeline\n",
    "from sklearn.impute import SimpleImputer\n",
    "from sklearn.preprocessing import OneHotEncoder, MinMaxScaler\n",
    "import pandas as pd\n",
    "\n",
    "numeric_features = X.select_dtypes(include=['int64', 'float64']).columns\n",
    "categorical_features = X.select_dtypes(include=['object']).columns\n",
    "\n",
    "numeric_transformer = Pipeline([\n",
    "    ('imputer', SimpleImputer(strategy='mean')),\n",
    "    ('scaler', MinMaxScaler())\n",
    "])\n",
    "\n",
    "categorical_transformer = Pipeline([\n",
    "    ('imputer', SimpleImputer(strategy='most_frequent')),\n",
    "    ('onehot', OneHotEncoder(handle_unknown='ignore'))\n",
    "])\n",
    "\n",
    "\n",
    "preprocessor = ColumnTransformer(\n",
    "    transformers=[\n",
    "        ('num', numeric_transformer, numeric_features),\n",
    "        ('cat', categorical_transformer, categorical_features)\n",
    "    ])\n",
    "\n",
    "preprocessor.fit(X)\n",
    "processed_data = preprocessor.transform(X)\n",
    "\n",
    "X = pd.DataFrame(processed_data)"
   ]
  },
  {
   "cell_type": "code",
   "execution_count": 14,
   "id": "c8ee51d1",
   "metadata": {},
   "outputs": [],
   "source": [
    "X_train, X_test, y_train, y_test = train_test_split(X, y, test_size=0.20, random_state=42)\n",
    "print(y['hard_closure'].value_counts(normalize=True)*100)\n",
    "print(y['soft_closure'].value_counts(normalize=True)*100)"
   ]
  },
  {
   "cell_type": "code",
   "execution_count": 31,
   "id": "87aea06b",
   "metadata": {},
   "outputs": [],
   "source": [
    "from sklearn.metrics import classification_report,accuracy_score\n",
    "from sklearn import ensemble,neighbors,tree\n",
    "\n",
    "from tqdm.notebook import tqdm\n",
    "from sklearn.metrics import confusion_matrix, ConfusionMatrixDisplay\n",
    "\n",
    "# https://scikit-learn.org/stable/modules/multiclass.html\n",
    "MLA = [\n",
    "    ensemble.RandomForestClassifier(random_state = 1,n_jobs=-1),\n",
    "    ensemble.ExtraTreesClassifier(n_jobs=-1),\n",
    "    tree.DecisionTreeClassifier(),\n",
    "    tree.ExtraTreeClassifier(),\n",
    "]\n",
    "\n",
    "MLA_columns = ['MLA_names', 'Hard_Test_Accuracy','Hard_Test_F1','Hard_Test_Precision',\n",
    "                            'Soft_Test_Accuracy','Soft_Test_F1','Soft_Test_Precision']\n",
    "\n",
    "classifiers = {}\n",
    "def apply_models(X_train,y_train,X_test,y_test):\n",
    "    MLA_compare = pd.DataFrame(columns = MLA_columns)\n",
    "\n",
    "    row_index = 0\n",
    "    for alg in tqdm(MLA):\n",
    "        try:\n",
    "            MLA_name = alg.__class__.__name__\n",
    "            MLA_compare.loc[row_index, 'MLA_names'] = MLA_name\n",
    "\n",
    "            multi_target_forest = MultiOutputClassifier(alg, n_jobs=-1)\n",
    "            multi_target_forest.fit(X_train, y_train)\n",
    "            \n",
    "            y_pred = multi_target_forest.predict(X_test)\n",
    "           \n",
    "            classifiers[MLA_name] = multi_target_forest\n",
    "            ############## Hard closure results ###########\n",
    "            acc = accuracy_score(y_test['hard_closure'],y_pred[:,0])\n",
    "            f1 = f1_score(y_test['hard_closure'],y_pred[:,0])\n",
    "            precision = precision_score(y_test['hard_closure'],y_pred[:,0])\n",
    "            \n",
    "            MLA_compare.loc[row_index, 'Hard_Test_Accuracy'] = acc\n",
    "            MLA_compare.loc[row_index, 'Hard_Test_F1'] = f1\n",
    "            MLA_compare.loc[row_index, 'Hard_Test_Precision'] = precision\n",
    "            \n",
    "            ########## Soft closure results ############\n",
    "            acc = accuracy_score(y_test['soft_closure'],y_pred[:,1])\n",
    "            f1 = f1_score(y_test['soft_closure'],y_pred[:,1])\n",
    "            precision = precision_score(y_test['soft_closure'],y_pred[:,1])\n",
    "            \n",
    "            MLA_compare.loc[row_index, 'Soft_Test_Accuracy'] = acc\n",
    "            MLA_compare.loc[row_index, 'Soft_Test_F1'] = f1\n",
    "            MLA_compare.loc[row_index, 'Soft_Test_Precision'] = precision\n",
    "            \n",
    "            row_index += 1\n",
    "        except:\n",
    "            print(type(alg).__name__)\n",
    "    return MLA_compare"
   ]
  },
  {
   "cell_type": "code",
   "execution_count": 32,
   "id": "2d20727c",
   "metadata": {},
   "outputs": [
    {
     "data": {
      "application/vnd.jupyter.widget-view+json": {
       "model_id": "17fd556fabda42ee8360cd37bd63eaf4",
       "version_major": 2,
       "version_minor": 0
      },
      "text/plain": [
       "  0%|          | 0/4 [00:00<?, ?it/s]"
      ]
     },
     "metadata": {},
     "output_type": "display_data"
    },
    {
     "data": {
      "text/html": [
       "<div>\n",
       "<style scoped>\n",
       "    .dataframe tbody tr th:only-of-type {\n",
       "        vertical-align: middle;\n",
       "    }\n",
       "\n",
       "    .dataframe tbody tr th {\n",
       "        vertical-align: top;\n",
       "    }\n",
       "\n",
       "    .dataframe thead th {\n",
       "        text-align: right;\n",
       "    }\n",
       "</style>\n",
       "<table border=\"1\" class=\"dataframe\">\n",
       "  <thead>\n",
       "    <tr style=\"text-align: right;\">\n",
       "      <th></th>\n",
       "      <th>MLA_names</th>\n",
       "      <th>Hard_Test_Accuracy</th>\n",
       "      <th>Hard_Test_F1</th>\n",
       "      <th>Hard_Test_Precision</th>\n",
       "      <th>Soft_Test_Accuracy</th>\n",
       "      <th>Soft_Test_F1</th>\n",
       "      <th>Soft_Test_Precision</th>\n",
       "    </tr>\n",
       "  </thead>\n",
       "  <tbody>\n",
       "    <tr>\n",
       "      <th>0</th>\n",
       "      <td>RandomForestClassifier</td>\n",
       "      <td>0.906023</td>\n",
       "      <td>0.268551</td>\n",
       "      <td>0.640449</td>\n",
       "      <td>0.999849</td>\n",
       "      <td>0.999878</td>\n",
       "      <td>0.999755</td>\n",
       "    </tr>\n",
       "    <tr>\n",
       "      <th>1</th>\n",
       "      <td>ExtraTreesClassifier</td>\n",
       "      <td>0.900424</td>\n",
       "      <td>0.212919</td>\n",
       "      <td>0.539394</td>\n",
       "      <td>0.972609</td>\n",
       "      <td>0.977959</td>\n",
       "      <td>0.973219</td>\n",
       "    </tr>\n",
       "    <tr>\n",
       "      <th>2</th>\n",
       "      <td>DecisionTreeClassifier</td>\n",
       "      <td>0.859791</td>\n",
       "      <td>0.331771</td>\n",
       "      <td>0.321454</td>\n",
       "      <td>1.0</td>\n",
       "      <td>1.0</td>\n",
       "      <td>1.0</td>\n",
       "    </tr>\n",
       "    <tr>\n",
       "      <th>3</th>\n",
       "      <td>ExtraTreeClassifier</td>\n",
       "      <td>0.852149</td>\n",
       "      <td>0.271982</td>\n",
       "      <td>0.271982</td>\n",
       "      <td>0.88915</td>\n",
       "      <td>0.910469</td>\n",
       "      <td>0.909413</td>\n",
       "    </tr>\n",
       "  </tbody>\n",
       "</table>\n",
       "</div>"
      ],
      "text/plain": [
       "                MLA_names Hard_Test_Accuracy Hard_Test_F1 Hard_Test_Precision  \\\n",
       "0  RandomForestClassifier           0.906023     0.268551            0.640449   \n",
       "1    ExtraTreesClassifier           0.900424     0.212919            0.539394   \n",
       "2  DecisionTreeClassifier           0.859791     0.331771            0.321454   \n",
       "3     ExtraTreeClassifier           0.852149     0.271982            0.271982   \n",
       "\n",
       "  Soft_Test_Accuracy Soft_Test_F1 Soft_Test_Precision  \n",
       "0           0.999849     0.999878            0.999755  \n",
       "1           0.972609     0.977959            0.973219  \n",
       "2                1.0          1.0                 1.0  \n",
       "3            0.88915     0.910469            0.909413  "
      ]
     },
     "execution_count": 32,
     "metadata": {},
     "output_type": "execute_result"
    }
   ],
   "source": [
    "print(apply_models(X_train,y_train,X_test,y_test))"
   ]
  },
  {
   "cell_type": "markdown",
   "id": "319193e1",
   "metadata": {},
   "source": [
    "# Prediction"
   ]
  },
  {
   "cell_type": "code",
   "execution_count": 33,
   "id": "f44f8102",
   "metadata": {},
   "outputs": [
    {
     "data": {
      "text/plain": [
       "dict_keys(['RandomForestClassifier', 'ExtraTreesClassifier', 'DecisionTreeClassifier', 'ExtraTreeClassifier'])"
      ]
     },
     "execution_count": 33,
     "metadata": {},
     "output_type": "execute_result"
    }
   ],
   "source": [
    "print(classifiers.keys())\n",
    "\n",
    "test_data = df.sample(10)\n",
    "\n",
    "y_test_data = test_data[['hard_closure' ,'soft_closure']]\n",
    "X_test_data = test_data.drop(columns=['hard_closure' ,'soft_closure'])\n",
    "\n",
    "X_test_data_processed = preprocessor.transform(X_test_data)\n",
    "X_test_data_processed = pd.DataFrame(X_test_data_processed)\n",
    "\n",
    "clf = classifiers['DecisionTreeClassifier']\n",
    "pred = clf.predict(X_test_data_processed)\n",
    "newdf = pd.DataFrame(pred,columns=['hard_closure' ,'soft_closure'])\n",
    "print(newdf)"
   ]
  },
  {
   "cell_type": "code",
   "execution_count": null,
   "id": "a3b35b42",
   "metadata": {},
   "outputs": [],
   "source": []
  }
 ],
 "metadata": {
  "kernelspec": {
   "display_name": "Python (myNEWenv)",
   "language": "python",
   "name": "mynewenv"
  },
  "language_info": {
   "codemirror_mode": {
    "name": "ipython",
    "version": 3
   },
   "file_extension": ".py",
   "mimetype": "text/x-python",
   "name": "python",
   "nbconvert_exporter": "python",
   "pygments_lexer": "ipython3",
   "version": "3.10.12"
  }
 },
 "nbformat": 4,
 "nbformat_minor": 5
}
