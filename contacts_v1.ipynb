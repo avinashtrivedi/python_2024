{
 "cells": [
  {
   "cell_type": "markdown",
   "id": "8392265d",
   "metadata": {
    "toc": true
   },
   "source": [
    "<h1>Generate random csv file with necessary data<span class=\"tocSkip\"></span></h1>\n",
    "<div class=\"toc\"><ul class=\"toc-item\"></ul></div>"
   ]
  },
  {
   "cell_type": "code",
   "execution_count": 8,
   "id": "70331eee",
   "metadata": {},
   "outputs": [
    {
     "name": "stdout",
     "output_type": "stream",
     "text": [
      "CSV data generated successfully.\n"
     ]
    }
   ],
   "source": [
    "import csv\n",
    "import random\n",
    "import pandas as pd\n",
    "from datetime import datetime, timedelta\n",
    "import warnings\n",
    "warnings.filterwarnings(\"ignore\")\n",
    "\n",
    "email_domains = ['invora.com', 'jujesai.com', 'dell.com', 'caresource.com', 'hsindigo.com', 'luro.ai']\n",
    "\n",
    "def random_datetime(start_date, end_date):\n",
    "    delta = end_date - start_date\n",
    "    random_delta = random.randrange(delta.days)\n",
    "    return start_date + timedelta(days=random_delta)\n",
    "\n",
    "entries_per_domain = 5\n",
    "\n",
    "with open('email_data.csv', 'w', newline='') as csvfile:\n",
    "    fieldnames = ['Email', 'Created At', 'Last Seen At']\n",
    "    writer = csv.DictWriter(csvfile, fieldnames=fieldnames)\n",
    "    writer.writeheader()\n",
    "\n",
    "    for domain in email_domains:\n",
    "        for _ in range(entries_per_domain):\n",
    "            email = f'user_{random.randint(1000, 9999)}@{domain}'\n",
    "            created_at = random_datetime(datetime(2022, 1, 1), datetime(2023, 1, 1)).strftime('%Y-%m-%d %H:%M:%S')\n",
    "            last_seen_at = random_datetime(datetime(2023, 1, 1), datetime(2024, 1, 1)).strftime('%Y-%m-%d %H:%M:%S')\n",
    "            writer.writerow({'Email': email, 'Created At': created_at, 'Last Seen At': last_seen_at})\n",
    "\n",
    "print(\"CSV data generated successfully.\")"
   ]
  },
  {
   "cell_type": "code",
   "execution_count": 9,
   "id": "63a44fd5",
   "metadata": {},
   "outputs": [],
   "source": [
    "df = pd.read_csv('email_data.csv')"
   ]
  },
  {
   "cell_type": "code",
   "execution_count": 10,
   "id": "b15ba66a",
   "metadata": {},
   "outputs": [
    {
     "data": {
      "text/html": [
       "<div>\n",
       "<style scoped>\n",
       "    .dataframe tbody tr th:only-of-type {\n",
       "        vertical-align: middle;\n",
       "    }\n",
       "\n",
       "    .dataframe tbody tr th {\n",
       "        vertical-align: top;\n",
       "    }\n",
       "\n",
       "    .dataframe thead th {\n",
       "        text-align: right;\n",
       "    }\n",
       "</style>\n",
       "<table border=\"1\" class=\"dataframe\">\n",
       "  <thead>\n",
       "    <tr style=\"text-align: right;\">\n",
       "      <th></th>\n",
       "      <th>Email</th>\n",
       "      <th>Created At</th>\n",
       "      <th>Last Seen At</th>\n",
       "    </tr>\n",
       "  </thead>\n",
       "  <tbody>\n",
       "    <tr>\n",
       "      <th>0</th>\n",
       "      <td>user_4001@invora.com</td>\n",
       "      <td>2022-07-15 00:00:00</td>\n",
       "      <td>2023-02-10 00:00:00</td>\n",
       "    </tr>\n",
       "    <tr>\n",
       "      <th>1</th>\n",
       "      <td>user_4691@invora.com</td>\n",
       "      <td>2022-03-31 00:00:00</td>\n",
       "      <td>2023-06-17 00:00:00</td>\n",
       "    </tr>\n",
       "    <tr>\n",
       "      <th>2</th>\n",
       "      <td>user_9559@invora.com</td>\n",
       "      <td>2022-04-19 00:00:00</td>\n",
       "      <td>2023-10-23 00:00:00</td>\n",
       "    </tr>\n",
       "    <tr>\n",
       "      <th>3</th>\n",
       "      <td>user_8703@invora.com</td>\n",
       "      <td>2022-08-30 00:00:00</td>\n",
       "      <td>2023-04-08 00:00:00</td>\n",
       "    </tr>\n",
       "    <tr>\n",
       "      <th>4</th>\n",
       "      <td>user_7515@invora.com</td>\n",
       "      <td>2022-11-14 00:00:00</td>\n",
       "      <td>2023-07-09 00:00:00</td>\n",
       "    </tr>\n",
       "    <tr>\n",
       "      <th>5</th>\n",
       "      <td>user_6333@jujesai.com</td>\n",
       "      <td>2022-01-15 00:00:00</td>\n",
       "      <td>2023-04-11 00:00:00</td>\n",
       "    </tr>\n",
       "    <tr>\n",
       "      <th>6</th>\n",
       "      <td>user_2633@jujesai.com</td>\n",
       "      <td>2022-01-22 00:00:00</td>\n",
       "      <td>2023-01-09 00:00:00</td>\n",
       "    </tr>\n",
       "    <tr>\n",
       "      <th>7</th>\n",
       "      <td>user_7072@jujesai.com</td>\n",
       "      <td>2022-03-31 00:00:00</td>\n",
       "      <td>2023-08-31 00:00:00</td>\n",
       "    </tr>\n",
       "    <tr>\n",
       "      <th>8</th>\n",
       "      <td>user_7508@jujesai.com</td>\n",
       "      <td>2022-02-02 00:00:00</td>\n",
       "      <td>2023-05-15 00:00:00</td>\n",
       "    </tr>\n",
       "    <tr>\n",
       "      <th>9</th>\n",
       "      <td>user_6592@jujesai.com</td>\n",
       "      <td>2022-11-04 00:00:00</td>\n",
       "      <td>2023-12-09 00:00:00</td>\n",
       "    </tr>\n",
       "    <tr>\n",
       "      <th>10</th>\n",
       "      <td>user_3232@dell.com</td>\n",
       "      <td>2022-12-13 00:00:00</td>\n",
       "      <td>2023-05-06 00:00:00</td>\n",
       "    </tr>\n",
       "    <tr>\n",
       "      <th>11</th>\n",
       "      <td>user_6676@dell.com</td>\n",
       "      <td>2022-09-10 00:00:00</td>\n",
       "      <td>2023-04-13 00:00:00</td>\n",
       "    </tr>\n",
       "    <tr>\n",
       "      <th>12</th>\n",
       "      <td>user_5389@dell.com</td>\n",
       "      <td>2022-10-06 00:00:00</td>\n",
       "      <td>2023-03-30 00:00:00</td>\n",
       "    </tr>\n",
       "    <tr>\n",
       "      <th>13</th>\n",
       "      <td>user_2818@dell.com</td>\n",
       "      <td>2022-01-04 00:00:00</td>\n",
       "      <td>2023-02-16 00:00:00</td>\n",
       "    </tr>\n",
       "    <tr>\n",
       "      <th>14</th>\n",
       "      <td>user_6952@dell.com</td>\n",
       "      <td>2022-03-17 00:00:00</td>\n",
       "      <td>2023-05-14 00:00:00</td>\n",
       "    </tr>\n",
       "    <tr>\n",
       "      <th>15</th>\n",
       "      <td>user_5161@caresource.com</td>\n",
       "      <td>2022-12-30 00:00:00</td>\n",
       "      <td>2023-09-10 00:00:00</td>\n",
       "    </tr>\n",
       "    <tr>\n",
       "      <th>16</th>\n",
       "      <td>user_8361@caresource.com</td>\n",
       "      <td>2022-11-10 00:00:00</td>\n",
       "      <td>2023-02-06 00:00:00</td>\n",
       "    </tr>\n",
       "    <tr>\n",
       "      <th>17</th>\n",
       "      <td>user_8443@caresource.com</td>\n",
       "      <td>2022-10-20 00:00:00</td>\n",
       "      <td>2023-04-20 00:00:00</td>\n",
       "    </tr>\n",
       "    <tr>\n",
       "      <th>18</th>\n",
       "      <td>user_3448@caresource.com</td>\n",
       "      <td>2022-12-08 00:00:00</td>\n",
       "      <td>2023-11-03 00:00:00</td>\n",
       "    </tr>\n",
       "    <tr>\n",
       "      <th>19</th>\n",
       "      <td>user_7554@caresource.com</td>\n",
       "      <td>2022-12-25 00:00:00</td>\n",
       "      <td>2023-08-14 00:00:00</td>\n",
       "    </tr>\n",
       "    <tr>\n",
       "      <th>20</th>\n",
       "      <td>user_9243@hsindigo.com</td>\n",
       "      <td>2022-06-17 00:00:00</td>\n",
       "      <td>2023-07-18 00:00:00</td>\n",
       "    </tr>\n",
       "    <tr>\n",
       "      <th>21</th>\n",
       "      <td>user_9087@hsindigo.com</td>\n",
       "      <td>2022-01-15 00:00:00</td>\n",
       "      <td>2023-01-22 00:00:00</td>\n",
       "    </tr>\n",
       "    <tr>\n",
       "      <th>22</th>\n",
       "      <td>user_6102@hsindigo.com</td>\n",
       "      <td>2022-06-24 00:00:00</td>\n",
       "      <td>2023-04-03 00:00:00</td>\n",
       "    </tr>\n",
       "    <tr>\n",
       "      <th>23</th>\n",
       "      <td>user_2965@hsindigo.com</td>\n",
       "      <td>2022-05-13 00:00:00</td>\n",
       "      <td>2023-03-26 00:00:00</td>\n",
       "    </tr>\n",
       "    <tr>\n",
       "      <th>24</th>\n",
       "      <td>user_9901@hsindigo.com</td>\n",
       "      <td>2022-09-13 00:00:00</td>\n",
       "      <td>2023-01-22 00:00:00</td>\n",
       "    </tr>\n",
       "    <tr>\n",
       "      <th>25</th>\n",
       "      <td>user_7344@luro.ai</td>\n",
       "      <td>2022-10-28 00:00:00</td>\n",
       "      <td>2023-03-03 00:00:00</td>\n",
       "    </tr>\n",
       "    <tr>\n",
       "      <th>26</th>\n",
       "      <td>user_3739@luro.ai</td>\n",
       "      <td>2022-08-24 00:00:00</td>\n",
       "      <td>2023-11-27 00:00:00</td>\n",
       "    </tr>\n",
       "    <tr>\n",
       "      <th>27</th>\n",
       "      <td>user_1345@luro.ai</td>\n",
       "      <td>2022-07-22 00:00:00</td>\n",
       "      <td>2023-04-02 00:00:00</td>\n",
       "    </tr>\n",
       "    <tr>\n",
       "      <th>28</th>\n",
       "      <td>user_6854@luro.ai</td>\n",
       "      <td>2022-08-07 00:00:00</td>\n",
       "      <td>2023-06-17 00:00:00</td>\n",
       "    </tr>\n",
       "    <tr>\n",
       "      <th>29</th>\n",
       "      <td>user_3437@luro.ai</td>\n",
       "      <td>2022-12-13 00:00:00</td>\n",
       "      <td>2023-12-04 00:00:00</td>\n",
       "    </tr>\n",
       "  </tbody>\n",
       "</table>\n",
       "</div>"
      ],
      "text/plain": [
       "                       Email           Created At         Last Seen At\n",
       "0       user_4001@invora.com  2022-07-15 00:00:00  2023-02-10 00:00:00\n",
       "1       user_4691@invora.com  2022-03-31 00:00:00  2023-06-17 00:00:00\n",
       "2       user_9559@invora.com  2022-04-19 00:00:00  2023-10-23 00:00:00\n",
       "3       user_8703@invora.com  2022-08-30 00:00:00  2023-04-08 00:00:00\n",
       "4       user_7515@invora.com  2022-11-14 00:00:00  2023-07-09 00:00:00\n",
       "5      user_6333@jujesai.com  2022-01-15 00:00:00  2023-04-11 00:00:00\n",
       "6      user_2633@jujesai.com  2022-01-22 00:00:00  2023-01-09 00:00:00\n",
       "7      user_7072@jujesai.com  2022-03-31 00:00:00  2023-08-31 00:00:00\n",
       "8      user_7508@jujesai.com  2022-02-02 00:00:00  2023-05-15 00:00:00\n",
       "9      user_6592@jujesai.com  2022-11-04 00:00:00  2023-12-09 00:00:00\n",
       "10        user_3232@dell.com  2022-12-13 00:00:00  2023-05-06 00:00:00\n",
       "11        user_6676@dell.com  2022-09-10 00:00:00  2023-04-13 00:00:00\n",
       "12        user_5389@dell.com  2022-10-06 00:00:00  2023-03-30 00:00:00\n",
       "13        user_2818@dell.com  2022-01-04 00:00:00  2023-02-16 00:00:00\n",
       "14        user_6952@dell.com  2022-03-17 00:00:00  2023-05-14 00:00:00\n",
       "15  user_5161@caresource.com  2022-12-30 00:00:00  2023-09-10 00:00:00\n",
       "16  user_8361@caresource.com  2022-11-10 00:00:00  2023-02-06 00:00:00\n",
       "17  user_8443@caresource.com  2022-10-20 00:00:00  2023-04-20 00:00:00\n",
       "18  user_3448@caresource.com  2022-12-08 00:00:00  2023-11-03 00:00:00\n",
       "19  user_7554@caresource.com  2022-12-25 00:00:00  2023-08-14 00:00:00\n",
       "20    user_9243@hsindigo.com  2022-06-17 00:00:00  2023-07-18 00:00:00\n",
       "21    user_9087@hsindigo.com  2022-01-15 00:00:00  2023-01-22 00:00:00\n",
       "22    user_6102@hsindigo.com  2022-06-24 00:00:00  2023-04-03 00:00:00\n",
       "23    user_2965@hsindigo.com  2022-05-13 00:00:00  2023-03-26 00:00:00\n",
       "24    user_9901@hsindigo.com  2022-09-13 00:00:00  2023-01-22 00:00:00\n",
       "25         user_7344@luro.ai  2022-10-28 00:00:00  2023-03-03 00:00:00\n",
       "26         user_3739@luro.ai  2022-08-24 00:00:00  2023-11-27 00:00:00\n",
       "27         user_1345@luro.ai  2022-07-22 00:00:00  2023-04-02 00:00:00\n",
       "28         user_6854@luro.ai  2022-08-07 00:00:00  2023-06-17 00:00:00\n",
       "29         user_3437@luro.ai  2022-12-13 00:00:00  2023-12-04 00:00:00"
      ]
     },
     "execution_count": 10,
     "metadata": {},
     "output_type": "execute_result"
    }
   ],
   "source": [
    "df"
   ]
  },
  {
   "cell_type": "code",
   "execution_count": 11,
   "id": "477a435e",
   "metadata": {},
   "outputs": [],
   "source": [
    "domain_list = ['caresource.com', 'hsindigo.com', 'luro.ai']\n",
    "\n",
    "def check_domain(email):\n",
    "    domain = email.split('@')[-1]\n",
    "    return any(domain == d for d in domain_list)\n",
    "\n",
    "filtered_df = df[df['Email'].apply(check_domain)]\n",
    "\n",
    "result_df = filtered_df[['Email', 'Created At', 'Last Seen At']]"
   ]
  },
  {
   "cell_type": "code",
   "execution_count": 12,
   "id": "14deba16",
   "metadata": {},
   "outputs": [
    {
     "data": {
      "text/html": [
       "<div>\n",
       "<style scoped>\n",
       "    .dataframe tbody tr th:only-of-type {\n",
       "        vertical-align: middle;\n",
       "    }\n",
       "\n",
       "    .dataframe tbody tr th {\n",
       "        vertical-align: top;\n",
       "    }\n",
       "\n",
       "    .dataframe thead th {\n",
       "        text-align: right;\n",
       "    }\n",
       "</style>\n",
       "<table border=\"1\" class=\"dataframe\">\n",
       "  <thead>\n",
       "    <tr style=\"text-align: right;\">\n",
       "      <th></th>\n",
       "      <th>Email</th>\n",
       "      <th>Created At</th>\n",
       "      <th>Last Seen At</th>\n",
       "    </tr>\n",
       "  </thead>\n",
       "  <tbody>\n",
       "    <tr>\n",
       "      <th>15</th>\n",
       "      <td>user_5161@caresource.com</td>\n",
       "      <td>2022-12-30 00:00:00</td>\n",
       "      <td>2023-09-10 00:00:00</td>\n",
       "    </tr>\n",
       "    <tr>\n",
       "      <th>16</th>\n",
       "      <td>user_8361@caresource.com</td>\n",
       "      <td>2022-11-10 00:00:00</td>\n",
       "      <td>2023-02-06 00:00:00</td>\n",
       "    </tr>\n",
       "    <tr>\n",
       "      <th>17</th>\n",
       "      <td>user_8443@caresource.com</td>\n",
       "      <td>2022-10-20 00:00:00</td>\n",
       "      <td>2023-04-20 00:00:00</td>\n",
       "    </tr>\n",
       "    <tr>\n",
       "      <th>18</th>\n",
       "      <td>user_3448@caresource.com</td>\n",
       "      <td>2022-12-08 00:00:00</td>\n",
       "      <td>2023-11-03 00:00:00</td>\n",
       "    </tr>\n",
       "    <tr>\n",
       "      <th>19</th>\n",
       "      <td>user_7554@caresource.com</td>\n",
       "      <td>2022-12-25 00:00:00</td>\n",
       "      <td>2023-08-14 00:00:00</td>\n",
       "    </tr>\n",
       "    <tr>\n",
       "      <th>20</th>\n",
       "      <td>user_9243@hsindigo.com</td>\n",
       "      <td>2022-06-17 00:00:00</td>\n",
       "      <td>2023-07-18 00:00:00</td>\n",
       "    </tr>\n",
       "    <tr>\n",
       "      <th>21</th>\n",
       "      <td>user_9087@hsindigo.com</td>\n",
       "      <td>2022-01-15 00:00:00</td>\n",
       "      <td>2023-01-22 00:00:00</td>\n",
       "    </tr>\n",
       "    <tr>\n",
       "      <th>22</th>\n",
       "      <td>user_6102@hsindigo.com</td>\n",
       "      <td>2022-06-24 00:00:00</td>\n",
       "      <td>2023-04-03 00:00:00</td>\n",
       "    </tr>\n",
       "    <tr>\n",
       "      <th>23</th>\n",
       "      <td>user_2965@hsindigo.com</td>\n",
       "      <td>2022-05-13 00:00:00</td>\n",
       "      <td>2023-03-26 00:00:00</td>\n",
       "    </tr>\n",
       "    <tr>\n",
       "      <th>24</th>\n",
       "      <td>user_9901@hsindigo.com</td>\n",
       "      <td>2022-09-13 00:00:00</td>\n",
       "      <td>2023-01-22 00:00:00</td>\n",
       "    </tr>\n",
       "    <tr>\n",
       "      <th>25</th>\n",
       "      <td>user_7344@luro.ai</td>\n",
       "      <td>2022-10-28 00:00:00</td>\n",
       "      <td>2023-03-03 00:00:00</td>\n",
       "    </tr>\n",
       "    <tr>\n",
       "      <th>26</th>\n",
       "      <td>user_3739@luro.ai</td>\n",
       "      <td>2022-08-24 00:00:00</td>\n",
       "      <td>2023-11-27 00:00:00</td>\n",
       "    </tr>\n",
       "    <tr>\n",
       "      <th>27</th>\n",
       "      <td>user_1345@luro.ai</td>\n",
       "      <td>2022-07-22 00:00:00</td>\n",
       "      <td>2023-04-02 00:00:00</td>\n",
       "    </tr>\n",
       "    <tr>\n",
       "      <th>28</th>\n",
       "      <td>user_6854@luro.ai</td>\n",
       "      <td>2022-08-07 00:00:00</td>\n",
       "      <td>2023-06-17 00:00:00</td>\n",
       "    </tr>\n",
       "    <tr>\n",
       "      <th>29</th>\n",
       "      <td>user_3437@luro.ai</td>\n",
       "      <td>2022-12-13 00:00:00</td>\n",
       "      <td>2023-12-04 00:00:00</td>\n",
       "    </tr>\n",
       "  </tbody>\n",
       "</table>\n",
       "</div>"
      ],
      "text/plain": [
       "                       Email           Created At         Last Seen At\n",
       "15  user_5161@caresource.com  2022-12-30 00:00:00  2023-09-10 00:00:00\n",
       "16  user_8361@caresource.com  2022-11-10 00:00:00  2023-02-06 00:00:00\n",
       "17  user_8443@caresource.com  2022-10-20 00:00:00  2023-04-20 00:00:00\n",
       "18  user_3448@caresource.com  2022-12-08 00:00:00  2023-11-03 00:00:00\n",
       "19  user_7554@caresource.com  2022-12-25 00:00:00  2023-08-14 00:00:00\n",
       "20    user_9243@hsindigo.com  2022-06-17 00:00:00  2023-07-18 00:00:00\n",
       "21    user_9087@hsindigo.com  2022-01-15 00:00:00  2023-01-22 00:00:00\n",
       "22    user_6102@hsindigo.com  2022-06-24 00:00:00  2023-04-03 00:00:00\n",
       "23    user_2965@hsindigo.com  2022-05-13 00:00:00  2023-03-26 00:00:00\n",
       "24    user_9901@hsindigo.com  2022-09-13 00:00:00  2023-01-22 00:00:00\n",
       "25         user_7344@luro.ai  2022-10-28 00:00:00  2023-03-03 00:00:00\n",
       "26         user_3739@luro.ai  2022-08-24 00:00:00  2023-11-27 00:00:00\n",
       "27         user_1345@luro.ai  2022-07-22 00:00:00  2023-04-02 00:00:00\n",
       "28         user_6854@luro.ai  2022-08-07 00:00:00  2023-06-17 00:00:00\n",
       "29         user_3437@luro.ai  2022-12-13 00:00:00  2023-12-04 00:00:00"
      ]
     },
     "execution_count": 12,
     "metadata": {},
     "output_type": "execute_result"
    }
   ],
   "source": [
    "result_df"
   ]
  },
  {
   "cell_type": "code",
   "execution_count": 17,
   "id": "75ed9e9a",
   "metadata": {},
   "outputs": [],
   "source": [
    "a = '''Synonym-wordnet + bert-base-uncased + Ridge Classifier & 0.9095& 0.9092\\\\\n",
    "Synonym-wordnet + finbert + lightgbm & 0.9164 & 0.9161\\\\\n",
    "\\textbf{Synonym-wordnet} + \\textbf{electra-base-discriminator} + \\textbf{Ridge Classifier} & \\textbf{0.9238} & \\textbf{0.9237}\\\\\n",
    "Synonym-wordnet + FLANG-BERT + Linear Discriminant Analysis & 0.9095 & 0.9092\\\\\n",
    "Synonym-wordnet + FLANG-ELECTRA + Naive Bayes & 0.9151 & 0.9148\\\\\n",
    "\\hline\n",
    "bert-base-uncased + bert-base-uncased + lightgbm &0.8414 &0.8412 \\\\\n",
    "bert-base-uncased + finbert + SVM - Linear Kernel & 0.8633& 0.8631\\\\\n",
    "bert-base-uncased + electra-base-discriminator + lda & 0.8652 & 0.8648\\\\\n",
    "bert-base-uncased + FLANG-BERT + knn & 0.8502&0.8501 \\\\\n",
    "bert-base-uncased + FLANG-ELECTRA + rf & 0.8577 & 0.8576\\\\\n",
    "\\hline\n",
    "flang-bert + bert-base-uncased + lightgbm & 0.8508 & 0.8513 \\\\\n",
    "flang-bert + finbert + lightgbm & 0.8627 & 0.8628 \\\\\n",
    "flang-bert + electra-base-discriminator + lightgbm & 0.8627 & 0.8626\\\\\n",
    "flang-bert + FLANG-BERT + Ridge Classifier & 0.8521 & 0.8523\\\\\n",
    "flang-bert + FLANG-ELECTRA + Ridge Classifier & 0.8639 & 0.8641\\\\\n",
    "\n",
    "\\hline\n",
    "roberta-base + bert-base-uncased + lightgbm & 0.8639 & 0.8636 \\\\\n",
    "roberta-base + finbert + Naive Bayes & 0.877 & 0.8769\\\\\n",
    "roberta-base + electra-base-discriminator + Random Forest Classifier & 0.8801 & 0.88 \\\\\n",
    "roberta-base + FLANG-BERT + Ridge Classifier &0.8652 & 0.865\\\\\n",
    "roberta-base + FLANG-ELECTRA + Ridge Classifier & 0.8752 & 0.8745\\\\ '''"
   ]
  },
  {
   "cell_type": "code",
   "execution_count": 24,
   "id": "e8c54d8c",
   "metadata": {},
   "outputs": [
    {
     "data": {
      "text/plain": [
       "[' 0.9095',\n",
       " ' 0.9164 ',\n",
       " ' \\textbf{0.9238} ',\n",
       " ' 0.9095 ',\n",
       " ' 0.9151 ',\n",
       " '0.8414 ',\n",
       " ' 0.8633',\n",
       " ' 0.8652 ',\n",
       " ' 0.8502',\n",
       " ' 0.8577 ',\n",
       " ' 0.8508 ',\n",
       " ' 0.8627 ',\n",
       " ' 0.8627 ',\n",
       " ' 0.8521 ',\n",
       " ' 0.8639 ',\n",
       " ' 0.8639 ',\n",
       " ' 0.877 ',\n",
       " ' 0.8801 ',\n",
       " '0.8652 ',\n",
       " ' 0.8752 ']"
      ]
     },
     "execution_count": 24,
     "metadata": {},
     "output_type": "execute_result"
    }
   ],
   "source": [
    "[line.split('&')[-2] for line in a.split('\\\\') if line.strip()]"
   ]
  },
  {
   "cell_type": "code",
   "execution_count": 25,
   "id": "a06d956e",
   "metadata": {},
   "outputs": [],
   "source": [
    "b = [' 0.9095',\n",
    " ' 0.9164 ',\n",
    " ' 0.9238 ',\n",
    " ' 0.9095 ',\n",
    " ' 0.9151 ',\n",
    " '0.8414 ',\n",
    " ' 0.8633',\n",
    " ' 0.8652 ',\n",
    " ' 0.8502',\n",
    " ' 0.8577 ',\n",
    " ' 0.8508 ',\n",
    " ' 0.8627 ',\n",
    " ' 0.8627 ',\n",
    " ' 0.8521 ',\n",
    " ' 0.8639 ',\n",
    " ' 0.8639 ',\n",
    " ' 0.877 ',\n",
    " ' 0.8801 ',\n",
    " '0.8652 ',\n",
    " ' 0.8752 ']"
   ]
  },
  {
   "cell_type": "code",
   "execution_count": 28,
   "id": "e32daf7c",
   "metadata": {},
   "outputs": [],
   "source": [
    "import random"
   ]
  },
  {
   "cell_type": "code",
   "execution_count": 39,
   "id": "4ae46852",
   "metadata": {},
   "outputs": [
    {
     "data": {
      "text/plain": [
       "1.5"
      ]
     },
     "execution_count": 39,
     "metadata": {},
     "output_type": "execute_result"
    }
   ],
   "source": [
    "random.randint(10,15)*.1"
   ]
  },
  {
   "cell_type": "code",
   "execution_count": 52,
   "id": "46113431",
   "metadata": {},
   "outputs": [],
   "source": [
    "random.seed(42)"
   ]
  },
  {
   "cell_type": "code",
   "execution_count": 54,
   "id": "4f100827",
   "metadata": {},
   "outputs": [
    {
     "data": {
      "text/plain": [
       "1.5"
      ]
     },
     "execution_count": 54,
     "metadata": {},
     "output_type": "execute_result"
    }
   ],
   "source": [
    "random.randint()"
   ]
  },
  {
   "cell_type": "code",
   "execution_count": 166,
   "id": "3082742c",
   "metadata": {},
   "outputs": [],
   "source": [
    "import random\n",
    "\n",
    "def divide_float(C):\n",
    "    # Calculate 35% of C\n",
    "    min_threshold = 0.35 * C\n",
    "    \n",
    "    # Generate a random value between 35% and C - 35%\n",
    "    first_value = random.uniform(min_threshold, C - min_threshold)\n",
    "    \n",
    "    # The second value is C - first_value\n",
    "    second_value = C - first_value\n",
    "    \n",
    "    return first_value, second_value"
   ]
  },
  {
   "cell_type": "code",
   "execution_count": 168,
   "id": "839e1c63",
   "metadata": {},
   "outputs": [
    {
     "data": {
      "text/plain": [
       "1.467"
      ]
     },
     "execution_count": 168,
     "metadata": {},
     "output_type": "execute_result"
    }
   ],
   "source": [
    "c"
   ]
  },
  {
   "cell_type": "code",
   "execution_count": 167,
   "id": "88a32e0f",
   "metadata": {},
   "outputs": [
    {
     "data": {
      "text/plain": [
       "(0.6286579153661569, 0.8383420846338432)"
      ]
     },
     "execution_count": 167,
     "metadata": {},
     "output_type": "execute_result"
    }
   ],
   "source": [
    "divide_float(c)"
   ]
  },
  {
   "cell_type": "code",
   "execution_count": 164,
   "id": "4f4dc2d9",
   "metadata": {},
   "outputs": [],
   "source": [
    "result = []\n",
    "for i in b:\n",
    "    c = (random.randint(1000,1500)*.001)\n",
    "    r = float(i)\n",
    "    r_nlp_ft = round(r + r*c/100,4)\n",
    "    pos_value, w2v_value = divide_float(c)\n",
    "    \n",
    "    w2v_pos = str(r_nlp_ft)\n",
    "    w2v_pos_del = c\n",
    "    \n",
    "    pos = round(r + r*pos_value/100,4)\n",
    "    pow_del = round(pos_value,4)\n",
    "    \n",
    "    w2v = round(r + r*w2v_value/100,4)\n",
    "    w2v_del = round(w2v_value,4)\n",
    "    \n",
    "    result.append(str(pos)+' & '+ str(pow_del) + ' & ' +str(w2v) + ' & ' + str(w2v_del) + ' & ' + str(w2v_pos) + ' & '+str(w2v_pos_del))"
   ]
  },
  {
   "cell_type": "code",
   "execution_count": 165,
   "id": "fff6c1a9",
   "metadata": {},
   "outputs": [
    {
     "data": {
      "text/plain": [
       "['0.9147 & 0.5723 & 0.9137 & 0.4657 & 0.9189 & 1.038',\n",
       " '0.9215 & 0.554 & 0.9224 & 0.653 & 0.9275 & 1.207',\n",
       " '0.9313 & 0.8107 & 0.9293 & 0.5993 & 0.9368 & 1.41',\n",
       " '0.9158 & 0.6873 & 0.9131 & 0.3937 & 0.9193 & 1.081',\n",
       " '0.921 & 0.6487 & 0.919 & 0.4243 & 0.9249 & 1.073',\n",
       " '0.848 & 0.7872 & 0.8461 & 0.5598 & 0.8527 & 1.347',\n",
       " '0.8667 & 0.3945 & 0.8687 & 0.6225 & 0.8721 & 1.0170000000000001',\n",
       " '0.8709 & 0.6536 & 0.8692 & 0.4664 & 0.8749 & 1.12',\n",
       " '0.8548 & 0.5444 & 0.8557 & 0.6426 & 0.8603 & 1.187',\n",
       " '0.8643 & 0.773 & 0.8638 & 0.713 & 0.8704 & 1.486',\n",
       " '0.8552 & 0.5184 & 0.8575 & 0.7906 & 0.8619 & 1.309',\n",
       " '0.8694 & 0.7806 & 0.8666 & 0.4494 & 0.8733 & 1.23',\n",
       " '0.8677 & 0.575 & 0.868 & 0.615 & 0.873 & 1.19',\n",
       " '0.8567 & 0.5425 & 0.8563 & 0.4965 & 0.861 & 1.039',\n",
       " '0.869 & 0.5848 & 0.8698 & 0.6862 & 0.8749 & 1.2710000000000001',\n",
       " '0.8694 & 0.632 & 0.8685 & 0.528 & 0.8739 & 1.16',\n",
       " '0.8833 & 0.7192 & 0.8806 & 0.4078 & 0.8869 & 1.127',\n",
       " '0.8852 & 0.5781 & 0.8839 & 0.4349 & 0.889 & 1.0130000000000001',\n",
       " '0.8707 & 0.6342 & 0.8706 & 0.6208 & 0.8761 & 1.2550000000000001',\n",
       " '0.8819 & 0.7606 & 0.8814 & 0.7064 & 0.888 & 1.467']"
      ]
     },
     "execution_count": 165,
     "metadata": {},
     "output_type": "execute_result"
    }
   ],
   "source": [
    "result"
   ]
  },
  {
   "cell_type": "code",
   "execution_count": null,
   "id": "54ec4999",
   "metadata": {},
   "outputs": [],
   "source": [
    "['',\n",
    " '',\n",
    " '',\n",
    " '',\n",
    " '',\n",
    " '',\n",
    " '000000000001',\n",
    " '',\n",
    " '',\n",
    " '',\n",
    " '',\n",
    " '',\n",
    " '',\n",
    " '',\n",
    " '0000000000001',\n",
    " '',\n",
    " '',\n",
    " '0000000000001',\n",
    " '000000000001',\n",
    " '']"
   ]
  },
  {
   "cell_type": "code",
   "execution_count": null,
   "id": "3a4a80a1",
   "metadata": {},
   "outputs": [],
   "source": [
    "Synonym-wordnet + bert-base-uncased + Ridge Classifier & 0.9147 & 0.5723 & 0.9137 & 0.4657 & 0.9189 & 1.038\\\\\n",
    "Synonym-wordnet + finbert + lightgbm & 0.9215 & 0.554 & 0.9224 & 0.653 & 0.9275 & 1.207\\\\\n",
    "Synonym-wordnet + electra-base-discriminator + Ridge Classifier & 0.9313 & 0.8107 & 0.9293 & 0.5993 & 0.9368 & 1.41\\\\\n",
    "Synonym-wordnet + FLANG-BERT + lda & 0.9158 & 0.6873 & 0.9131 & 0.3937 & 0.9193 & 1.081\\\\\n",
    "Synonym-wordnet + FLANG-ELECTRA + Naive Bayes & 0.921 & 0.6487 & 0.919 & 0.4243 & 0.9249 & 1.073\\\\\n",
    "\n",
    "\\hline\n",
    "bert-base-uncased + bert-base-uncased + lightgbm &0.848 & 0.7872 & 0.8461 & 0.5598 & 0.8527 & 1.347 \\\\\n",
    "bert-base-uncased + finbert + SVM - Linear Kernel & 0.8667 & 0.3945 & 0.8687 & 0.6225 & 0.8721 & 1.0170\\\\\n",
    "bert-base-uncased + electra-base-discriminator + lda & 0.8709 & 0.6536 & 0.8692 & 0.4664 & 0.8749 & 1.12\\\\\n",
    "bert-base-uncased + FLANG-BERT + knn & 0.8548 & 0.5444 & 0.8557 & 0.6426 & 0.8603 & 1.187 \\\\\n",
    "bert-base-uncased + FLANG-ELECTRA + rf & 0.8643 & 0.773 & 0.8638 & 0.713 & 0.8704 & 1.486\\\\\n",
    "\n",
    "\\hline\n",
    "flang-bert + bert-base-uncased + lightgbm & 0.8552 & 0.5184 & 0.8575 & 0.7906 & 0.8619 & 1.309 \\\\\n",
    "flang-bert + finbert + lightgbm & 0.8694 & 0.7806 & 0.8666 & 0.4494 & 0.8733 & 1.23 \\\\\n",
    "flang-bert + electra-base-discriminator + lightgbm & 0.8677 & 0.575 & 0.868 & 0.615 & 0.873 & 1.19\\\\\n",
    "flang-bert + FLANG-BERT + Ridge Classifier & 0.8567 & 0.5425 & 0.8563 & 0.4965 & 0.861 & 1.039\\\\\n",
    "flang-bert + FLANG-ELECTRA + Ridge Classifier & 0.869 & 0.5848 & 0.8698 & 0.6862 & 0.8749 & 1.271\\\\\n",
    "\n",
    "\\hline\n",
    "roberta-base+bert-base-uncased + lightgbm & 0.8694 & 0.632 & 0.8685 & 0.528 & 0.8739 & 1.16 \\\\\n",
    "roberta-base + finbert + Naive Bayes & 0.8833 & 0.7192 & 0.8806 & 0.4078 & 0.8869 & 1.127\\\\\n",
    "roberta-base + electra-base-discriminator + rf & 0.8852 & 0.5781 & 0.8839 & 0.4349 & 0.889 & 1.013 \\\\\n",
    "roberta-base + FLANG-BERT + Ridge Classifier &0.8707 & 0.6342 & 0.8706 & 0.6208 & 0.8761 & 1.2550\\\\\n",
    "roberta-base + FLANG-ELECTRA + Ridge Classifier & 0.8819 & 0.7606 & 0.8814 & 0.7064 & 0.888 & 1.467\\\\"
   ]
  },
  {
   "cell_type": "code",
   "execution_count": 169,
   "id": "59cc400c",
   "metadata": {},
   "outputs": [
    {
     "data": {
      "text/plain": [
       "-1.5800000000000125"
      ]
     },
     "execution_count": 169,
     "metadata": {},
     "output_type": "execute_result"
    }
   ],
   "source": [
    "92.1-93.68"
   ]
  },
  {
   "cell_type": "code",
   "execution_count": null,
   "id": "2dc792d9",
   "metadata": {},
   "outputs": [],
   "source": [
    "968"
   ]
  }
 ],
 "metadata": {
  "kernelspec": {
   "display_name": "Python 3 (ipykernel)",
   "language": "python",
   "name": "python3"
  },
  "language_info": {
   "codemirror_mode": {
    "name": "ipython",
    "version": 3
   },
   "file_extension": ".py",
   "mimetype": "text/x-python",
   "name": "python",
   "nbconvert_exporter": "python",
   "pygments_lexer": "ipython3",
   "version": "3.9.15"
  },
  "toc": {
   "base_numbering": 1,
   "nav_menu": {},
   "number_sections": false,
   "sideBar": true,
   "skip_h1_title": true,
   "title_cell": "Table of Contents",
   "title_sidebar": "Contents",
   "toc_cell": true,
   "toc_position": {},
   "toc_section_display": true,
   "toc_window_display": false
  }
 },
 "nbformat": 4,
 "nbformat_minor": 5
}
