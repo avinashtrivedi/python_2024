{
 "cells": [
  {
   "cell_type": "code",
   "execution_count": 2,
   "metadata": {
    "colab": {
     "base_uri": "https://localhost:8080/"
    },
    "executionInfo": {
     "elapsed": 3013,
     "status": "ok",
     "timestamp": 1715423950970,
     "user": {
      "displayName": "Koji Kawamura",
      "userId": "07749321645577603628"
     },
     "user_tz": -600
    },
    "id": "SdlsemQOJKOv",
    "outputId": "acdc3fb8-d8a7-49e4-d786-b6e17340f383"
   },
   "outputs": [
    {
     "name": "stdout",
     "output_type": "stream",
     "text": [
      "Drive already mounted at /content/drive; to attempt to forcibly remount, call drive.mount(\"/content/drive\", force_remount=True).\n"
     ]
    }
   ],
   "source": [
    "import json\n",
    "\n",
    "TRAINING_DATA_PATH = '/content/drive/MyDrive/training_data.json'\n",
    "\n",
    "try:\n",
    "    from google.colab import drive\n",
    "    drive.mount('/content/drive')\n",
    "except ModuleNotFoundError:\n",
    "    !pip install nltk\n",
    "    !pip install torch\n",
    "    !pip install scikit-learn\n",
    "#     !pip install numpy\n",
    "\n",
    "    TRAINING_DATA_PATH = './training_data.json'"
   ]
  },
  {
   "cell_type": "code",
   "execution_count": 3,
   "metadata": {
    "executionInfo": {
     "elapsed": 486,
     "status": "ok",
     "timestamp": 1715423951455,
     "user": {
      "displayName": "Koji Kawamura",
      "userId": "07749321645577603628"
     },
     "user_tz": -600
    },
    "id": "WZADlIXkJKOw"
   },
   "outputs": [],
   "source": [
    "with open(TRAINING_DATA_PATH, 'r') as f:\n",
    "    training_data = json.load(f)\n",
    "\n",
    "# Extract claim texts, evidence texts, and labels from the training data\n",
    "# Assume those are already pre-processed\n",
    "claim_texts = [data['claim_text'] for data in training_data]\n",
    "evidence_texts = [data['evidence_text'] for data in training_data]\n",
    "labels = [data['label'] for data in training_data]\n",
    "\n",
    "assert len(claim_texts) == len(evidence_texts)\n",
    "assert len(evidence_texts) == len(labels)"
   ]
  },
  {
   "cell_type": "code",
   "execution_count": 4,
   "metadata": {
    "colab": {
     "base_uri": "https://localhost:8080/"
    },
    "executionInfo": {
     "elapsed": 2,
     "status": "ok",
     "timestamp": 1715423951456,
     "user": {
      "displayName": "Koji Kawamura",
      "userId": "07749321645577603628"
     },
     "user_tz": -600
    },
    "id": "ktiWhbhRJKOw",
    "outputId": "21731bcd-0380-436d-99a4-11572b78202b"
   },
   "outputs": [
    {
     "name": "stdout",
     "output_type": "stream",
     "text": [
      "Vocabulary Size: 26166\n"
     ]
    }
   ],
   "source": [
    "from collections import Counter\n",
    "\n",
    "word_count = Counter(\n",
    "    word for text in claim_texts + evidence_texts for word in text.split())\n",
    "vocab = sorted(word_count.keys())\n",
    "vocab_size = len(vocab)\n",
    "print(f'Vocabulary Size: {vocab_size}')\n",
    "\n",
    "word2idx = {word: idx for idx, word in enumerate(vocab, start=1)}\n",
    "word2idx['<PAD>'] = 0  # Add a special token for padding\n",
    "\n",
    "assert word2idx['<PAD>'] == 0"
   ]
  },
  {
   "cell_type": "markdown",
   "metadata": {
    "id": "h1zff23TJKOw"
   },
   "source": [
    "# Dataset & Model Definition"
   ]
  },
  {
   "cell_type": "markdown",
   "metadata": {
    "id": "nG3cOVwpJKOw"
   },
   "source": [
    "## Dataset"
   ]
  },
  {
   "cell_type": "code",
   "execution_count": 5,
   "metadata": {
    "executionInfo": {
     "elapsed": 1,
     "status": "ok",
     "timestamp": 1715423952731,
     "user": {
      "displayName": "Koji Kawamura",
      "userId": "07749321645577603628"
     },
     "user_tz": -600
    },
    "id": "MsUoPI2AJKOx"
   },
   "outputs": [],
   "source": [
    "import torch\n",
    "from torch.utils.data import Dataset, DataLoader\n",
    "\n",
    "class ClaimEvidenceDataset(Dataset):\n",
    "    def __init__(\n",
    "        self, claim_texts, evidence_texts, labels, word2idx, max_len):\n",
    "        self.claim_texts = claim_texts\n",
    "        self.evidence_texts = evidence_texts\n",
    "        self.labels = labels\n",
    "        self.word2idx = word2idx\n",
    "        self.max_len = max_len\n",
    "\n",
    "    def __len__(self):\n",
    "        return len(self.claim_texts)\n",
    "\n",
    "    def __getitem__(self, index):\n",
    "        claim_text = self.claim_texts[index]\n",
    "        evidence_text = self.evidence_texts[index]\n",
    "        label = self.labels[index]\n",
    "\n",
    "        claim_seq = torch.tensor(\n",
    "            [self.word2idx.get(word, self.word2idx['<PAD>']) for word in claim_text.split()],\n",
    "            dtype=torch.long)\n",
    "        evidence_seq = torch.tensor(\n",
    "            [self.word2idx.get(word, self.word2idx['<PAD>']) for word in evidence_text.split()],\n",
    "            dtype=torch.long)\n",
    "        label_tensor = torch.tensor(label, dtype=torch.float)\n",
    "\n",
    "        claim_seq = claim_seq[:self.max_len]\n",
    "        evidence_seq = evidence_seq[:self.max_len]\n",
    "        claim_seq = torch.cat(\n",
    "            [claim_seq, torch.zeros(self.max_len - len(claim_seq), dtype=torch.long)])\n",
    "        evidence_seq = torch.cat(\n",
    "            [evidence_seq, torch.zeros(self.max_len - len(evidence_seq), dtype=torch.long)])\n",
    "\n",
    "        return claim_seq, evidence_seq, label_tensor\n",
    "\n",
    "\n",
    "# Create dataset and data loaders\n",
    "max_len = 128\n",
    "dataset = ClaimEvidenceDataset(\n",
    "    claim_texts, evidence_texts, labels, word2idx, max_len)\n",
    "train_loader = DataLoader(dataset, batch_size=32, shuffle=True)"
   ]
  },
  {
   "cell_type": "markdown",
   "metadata": {
    "id": "iqRKOxxDJKOx"
   },
   "source": [
    "## Model"
   ]
  },
  {
   "cell_type": "code",
   "execution_count": 6,
   "metadata": {
    "executionInfo": {
     "elapsed": 2,
     "status": "ok",
     "timestamp": 1715423977903,
     "user": {
      "displayName": "Koji Kawamura",
      "userId": "07749321645577603628"
     },
     "user_tz": -600
    },
    "id": "wIqSPZxMJKOx"
   },
   "outputs": [],
   "source": [
    "import torch.nn as nn\n",
    "\n",
    "class ClaimEvidenceModel(nn.Module):\n",
    "    def __init__(self, vocab_size, embedding_dim, hidden_dim):\n",
    "        super(ClaimEvidenceModel, self).__init__()\n",
    "        self.embedding = nn.Embedding(vocab_size, embedding_dim)\n",
    "        self.lstm1 = nn.LSTM(embedding_dim, hidden_dim, batch_first=True,\n",
    "                             bidirectional=True, dropout=0.1)\n",
    "        self.lstm2 = nn.LSTM(hidden_dim * 2, hidden_dim, batch_first=True,\n",
    "                             bidirectional=True, dropout=0.1)\n",
    "        # Adjusted input dimension to match the concatenated representation of claim and evidence\n",
    "        self.dense1 = nn.Linear(hidden_dim * 4, hidden_dim)  # 4 * hidden_dim because we concatenate two bidirectional outputs\n",
    "        self.dense2 = nn.Linear(hidden_dim, 1)\n",
    "        self.tanh = nn.Tanh()\n",
    "        self.sigmoid = nn.Sigmoid()\n",
    "\n",
    "    def forward(self, claim, evidence):\n",
    "        claim_embedded = self.embedding(claim)\n",
    "        evidence_embedded = self.embedding(evidence)\n",
    "\n",
    "        claim_lstm1_out, _ = self.lstm1(claim_embedded)\n",
    "        evidence_lstm1_out, _ = self.lstm1(evidence_embedded)\n",
    "\n",
    "        claim_lstm2_out, _ = self.lstm2(claim_lstm1_out)\n",
    "        evidence_lstm2_out, _ = self.lstm2(evidence_lstm1_out)\n",
    "\n",
    "        claim_rep = claim_lstm2_out[:, -1, :]\n",
    "        evidence_rep = evidence_lstm2_out[:, -1, :]\n",
    "\n",
    "        concat_rep = torch.cat((claim_rep, evidence_rep), dim=1)\n",
    "\n",
    "        dense1_out = self.tanh(self.dense1(concat_rep))\n",
    "        output = self.sigmoid(self.dense2(dense1_out))\n",
    "\n",
    "        return output"
   ]
  },
  {
   "cell_type": "markdown",
   "metadata": {
    "id": "av_K-GfkJKOx"
   },
   "source": [
    "# Training"
   ]
  },
  {
   "cell_type": "code",
   "execution_count": null,
   "metadata": {
    "colab": {
     "base_uri": "https://localhost:8080/"
    },
    "id": "dpPj45HdJKOx",
    "outputId": "ffc997d9-bb5a-4190-d1a3-d5f0ba5d3e5d"
   },
   "outputs": [
    {
     "name": "stdout",
     "output_type": "stream",
     "text": [
      "cuda\n"
     ]
    },
    {
     "name": "stderr",
     "output_type": "stream",
     "text": [
      "/usr/local/lib/python3.10/dist-packages/torch/nn/modules/rnn.py:83: UserWarning: dropout option adds dropout after all but last recurrent layer, so non-zero dropout expects num_layers greater than 1, but got dropout=0.1 and num_layers=1\n",
      "  warnings.warn(\"dropout option adds dropout after all but last \"\n"
     ]
    }
   ],
   "source": [
    "import torch.optim as optim\n",
    "from torch.utils.data import random_split\n",
    "from sklearn.metrics import f1_score\n",
    "\n",
    "# Set device\n",
    "device = torch.device('cuda' if torch.cuda.is_available() else 'cpu')\n",
    "print(device)\n",
    "\n",
    "# Initialize the model\n",
    "embedding_dim = 256\n",
    "hidden_dim = 256\n",
    "model = ClaimEvidenceModel(vocab_size, embedding_dim, hidden_dim).to(device)\n",
    "\n",
    "# Define loss function and optimizer\n",
    "criterion = nn.BCELoss()\n",
    "optimizer = optim.Adam(model.parameters(), lr=0.001)\n",
    "\n",
    "# Split the dataset into training and validation sets\n",
    "train_size = int(0.8 * len(dataset))\n",
    "val_size = len(dataset) - train_size\n",
    "train_dataset, val_dataset = random_split(dataset, [train_size, val_size])\n",
    "\n",
    "train_loader = DataLoader(train_dataset, batch_size=16, shuffle=True)\n",
    "val_loader = DataLoader(val_dataset, batch_size=16)\n",
    "\n",
    "# Training loop\n",
    "num_epochs = 5\n",
    "best_val_f1 = 0.0\n",
    "\n",
    "for epoch in range(num_epochs):\n",
    "    model.train()\n",
    "    train_loss = 0.0\n",
    "    for batch_claim_seq, batch_evidence_seq, batch_labels in train_loader:\n",
    "\n",
    "        # Send data to the same device as the model\n",
    "        batch_claim_seq = batch_claim_seq.to(device)\n",
    "        batch_evidence_seq = batch_evidence_seq.to(device)\n",
    "        batch_labels = batch_labels.to(device)\n",
    "\n",
    "        # Reset gradients\n",
    "        optimizer.zero_grad()\n",
    "\n",
    "        # Forward pass\n",
    "        outputs = model(batch_claim_seq, batch_evidence_seq)\n",
    "        loss = criterion(outputs.squeeze(), batch_labels)\n",
    "\n",
    "        # Backward pass and optimize\n",
    "        loss.backward()\n",
    "        optimizer.step()\n",
    "\n",
    "        train_loss += loss.item()\n",
    "\n",
    "        # Check for NaN in parameters\n",
    "        for name, param in model.named_parameters():\n",
    "            if torch.isnan(param).any() or torch.isinf(param).any():\n",
    "                print(f\"NaN or Inf found in {name}\")\n",
    "\n",
    "\n",
    "    train_loss /= len(train_loader)\n",
    "\n",
    "    # Validation phase\n",
    "    model.eval()\n",
    "    val_preds, val_labels = [], []\n",
    "    with torch.no_grad():\n",
    "        for batch_claim_seq, batch_evidence_seq, batch_labels in val_loader:\n",
    "            batch_claim_seq = batch_claim_seq.to(device)\n",
    "            batch_evidence_seq = batch_evidence_seq.to(device)\n",
    "            batch_labels = batch_labels.to(device)\n",
    "\n",
    "            outputs = model(batch_claim_seq, batch_evidence_seq)\n",
    "            preds = (outputs.squeeze() > 0.5).int()\n",
    "            val_preds.extend(preds.cpu().numpy())\n",
    "            val_labels.extend(batch_labels.cpu().numpy())\n",
    "\n",
    "    val_f1 = f1_score(val_labels, val_preds)\n",
    "    print(f'Epoch {epoch+1}/{num_epochs}, Train Loss: {train_loss:.4f}, Val F1: {val_f1:.4f}')\n",
    "\n",
    "    if val_f1 > best_val_f1:\n",
    "        best_val_f1 = val_f1\n",
    "        torch.save(model.state_dict(), 'best_evidence_model.pth')\n",
    "        print('Model saved.')"
   ]
  },
  {
   "cell_type": "code",
   "execution_count": null,
   "metadata": {
    "id": "2kwdSN0RJKOy"
   },
   "outputs": [],
   "source": []
  }
 ],
 "metadata": {
  "colab": {
   "provenance": []
  },
  "kernelspec": {
   "display_name": "Python 3 (ipykernel)",
   "language": "python",
   "name": "python3"
  },
  "language_info": {
   "codemirror_mode": {
    "name": "ipython",
    "version": 3
   },
   "file_extension": ".py",
   "mimetype": "text/x-python",
   "name": "python",
   "nbconvert_exporter": "python",
   "pygments_lexer": "ipython3",
   "version": "3.9.15"
  }
 },
 "nbformat": 4,
 "nbformat_minor": 1
}
