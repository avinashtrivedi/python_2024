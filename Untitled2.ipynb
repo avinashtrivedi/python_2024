{
 "cells": [
  {
   "cell_type": "code",
   "execution_count": 1,
   "id": "82eef8eb",
   "metadata": {},
   "outputs": [],
   "source": [
    "x = [1,2,3,4,5]"
   ]
  },
  {
   "cell_type": "code",
   "execution_count": 2,
   "id": "dd47b787",
   "metadata": {},
   "outputs": [],
   "source": [
    "def sq(t):\n",
    "    return t*t"
   ]
  },
  {
   "cell_type": "code",
   "execution_count": 3,
   "id": "a8982983",
   "metadata": {},
   "outputs": [
    {
     "data": {
      "text/plain": [
       "16"
      ]
     },
     "execution_count": 3,
     "metadata": {},
     "output_type": "execute_result"
    }
   ],
   "source": [
    "sq(4)"
   ]
  },
  {
   "cell_type": "code",
   "execution_count": 4,
   "id": "79b05aee",
   "metadata": {},
   "outputs": [
    {
     "name": "stdout",
     "output_type": "stream",
     "text": [
      "1\n",
      "4\n",
      "9\n",
      "16\n",
      "25\n"
     ]
    }
   ],
   "source": [
    "for  i in x:\n",
    "    print(sq(i))"
   ]
  },
  {
   "cell_type": "code",
   "execution_count": 8,
   "id": "2b4e73dc",
   "metadata": {},
   "outputs": [],
   "source": [
    "a,b = map(sq,[3,4])"
   ]
  },
  {
   "cell_type": "code",
   "execution_count": 9,
   "id": "785d9e0d",
   "metadata": {},
   "outputs": [
    {
     "data": {
      "text/plain": [
       "9"
      ]
     },
     "execution_count": 9,
     "metadata": {},
     "output_type": "execute_result"
    }
   ],
   "source": [
    "a"
   ]
  },
  {
   "cell_type": "code",
   "execution_count": 19,
   "id": "ab37ccd9",
   "metadata": {},
   "outputs": [],
   "source": [
    "import torch.nn as nn"
   ]
  },
  {
   "cell_type": "code",
   "execution_count": 26,
   "id": "0cd2baa9",
   "metadata": {},
   "outputs": [],
   "source": [
    "class Mymodel(nn.Module):\n",
    "    def __init__(self):\n",
    "        super(Mymodel, self).__init__()\n",
    "        print('in cons')\n",
    "        \n",
    "    def forward(self,a,b):\n",
    "        return a+b"
   ]
  },
  {
   "cell_type": "code",
   "execution_count": 27,
   "id": "52dc7bfb",
   "metadata": {},
   "outputs": [
    {
     "name": "stdout",
     "output_type": "stream",
     "text": [
      "in cons\n"
     ]
    }
   ],
   "source": [
    "fn  = Mymodel()"
   ]
  },
  {
   "cell_type": "code",
   "execution_count": 29,
   "id": "cfc55248",
   "metadata": {},
   "outputs": [
    {
     "data": {
      "text/plain": [
       "23"
      ]
     },
     "execution_count": 29,
     "metadata": {},
     "output_type": "execute_result"
    }
   ],
   "source": [
    "fn(11,12)"
   ]
  },
  {
   "cell_type": "code",
   "execution_count": 30,
   "id": "64dfdcdb",
   "metadata": {},
   "outputs": [
    {
     "data": {
      "text/plain": [
       "<torch._C.Generator at 0x174d6880730>"
      ]
     },
     "execution_count": 30,
     "metadata": {},
     "output_type": "execute_result"
    }
   ],
   "source": [
    "import numpy as np\n",
    "import math\n",
    "import matplotlib.pyplot as plt\n",
    "import matplotlib.colors\n",
    "import pandas as pd\n",
    "from sklearn.model_selection import train_test_split\n",
    "from sklearn.metrics import accuracy_score, mean_squared_error, log_loss\n",
    "from tqdm import tqdm_notebook\n",
    "import seaborn as sns\n",
    "import time\n",
    "from IPython.display import HTML\n",
    "import warnings\n",
    "warnings.filterwarnings('ignore')\n",
    "\n",
    "sns.set()\n",
    "\n",
    "from sklearn.preprocessing import OneHotEncoder\n",
    "from sklearn.datasets import make_blobs\n",
    "\n",
    "import torch\n",
    "my_cmap = 'nipy_spectral'\n",
    "torch.manual_seed(0)\n",
    "\n",
    "\n",
    "# https://www.kaggle.com/datasets/akram24/social-network-ads?select=Social_Network_Ads.csv\n",
    "\n",
    "# from google.colab import drive\n",
    "# drive.mount('/gdrive',force_remount=True)\n",
    "# %cd /gdrive/MyDrive/ERIN_LEE/\n",
    "\n",
    "# data = pd.read_csv('all-data.csv',\n",
    "#                    encoding='unicode_escape',\n",
    "#                    names=['Sentiment', 'Text'])\n",
    "\n",
    "# # Displaying the first few rows of the DataFrame to check its structure and content\n",
    "# data.head()\n",
    "\n",
    "# # Convert sentiment labels from textual to numerical format for easier processing\n",
    "# label_dict = {'negative': 0, 'neutral': 1, 'positive': 2}  # Mapping labels to numerical values\n",
    "# data['Sentiment'] = data['Sentiment'].replace(label_dict)  # Replacing text labels with corresponding numerical values\n",
    "\n",
    "# train_data, test_data = train_test_split(data, test_size=0.1, random_state=42)  # 80% for training, 20% for validation\n",
    "# train_data, val_data = train_test_split(train_data, test_size=0.1, random_state=42)"
   ]
  },
  {
   "cell_type": "code",
   "execution_count": 31,
   "id": "c873944b",
   "metadata": {},
   "outputs": [
    {
     "name": "stdout",
     "output_type": "stream",
     "text": [
      "(1000, 2) (1000,)\n"
     ]
    }
   ],
   "source": [
    "data, labels = make_blobs(n_samples=1000, centers=4, n_features=2, random_state=0)\n",
    "print(data.shape, labels.shape)"
   ]
  },
  {
   "cell_type": "code",
   "execution_count": 32,
   "id": "52181dc6",
   "metadata": {},
   "outputs": [
    {
     "name": "stdout",
     "output_type": "stream",
     "text": [
      "(750, 2) (250, 2) (1000,)\n"
     ]
    }
   ],
   "source": [
    "from sklearn.model_selection import train_test_split\n",
    "X_train, X_val, Y_train, Y_val = train_test_split(data, labels, stratify=labels, random_state=0)\n",
    "print(X_train.shape, X_val.shape, labels.shape)"
   ]
  },
  {
   "cell_type": "code",
   "execution_count": 33,
   "id": "21b3d178",
   "metadata": {},
   "outputs": [],
   "source": [
    "dd =  (X_train, Y_train, X_val, Y_val)\n",
    "X_train, Y_train, X_val, Y_val = map(torch.tensor,dd)"
   ]
  },
  {
   "cell_type": "code",
   "execution_count": 34,
   "id": "8bb16cd5",
   "metadata": {},
   "outputs": [],
   "source": [
    "X_train = X_train.float()\n",
    "Y_train = Y_train.long()\n",
    "\n",
    "X_val = X_val.float()\n",
    "Y_val = Y_val.long()"
   ]
  },
  {
   "cell_type": "code",
   "execution_count": 35,
   "id": "89a5bfa6",
   "metadata": {},
   "outputs": [],
   "source": [
    "import torch.nn as nn\n",
    "import torch.nn.functional as F\n",
    "from torch import optim\n",
    "\n"
   ]
  },
  {
   "cell_type": "code",
   "execution_count": 89,
   "id": "045019cf",
   "metadata": {},
   "outputs": [],
   "source": [
    "class FirstNetwork(nn.Module):\n",
    "    def __init__(self):\n",
    "        super().__init__()\n",
    "        # torch.manual_seed(0)\n",
    "        self.lin1 = nn.Linear(2, 2)\n",
    "        self.lin2 = nn.Linear(2, 4)\n",
    "\n",
    "    def forward(self, X):\n",
    "        a1 = self.lin1(X)\n",
    "        h1 =  nn.Sigmoid()(a1)\n",
    "        a2 = self.lin2(h1)\n",
    "        h2 =  nn.Softmax()(a2)\n",
    "        return h2"
   ]
  },
  {
   "cell_type": "code",
   "execution_count": 38,
   "id": "230d99cb",
   "metadata": {},
   "outputs": [],
   "source": [
    "lin1 = nn.Linear(2, 2)"
   ]
  },
  {
   "cell_type": "code",
   "execution_count": 40,
   "id": "06b7eb57",
   "metadata": {},
   "outputs": [
    {
     "data": {
      "text/plain": [
       "Linear(in_features=2, out_features=2, bias=True)"
      ]
     },
     "execution_count": 40,
     "metadata": {},
     "output_type": "execute_result"
    }
   ],
   "source": [
    "lin1"
   ]
  },
  {
   "cell_type": "code",
   "execution_count": 44,
   "id": "58cf6d43",
   "metadata": {},
   "outputs": [],
   "source": [
    "a1 = lin1(X_train)"
   ]
  },
  {
   "cell_type": "code",
   "execution_count": 45,
   "id": "856718a8",
   "metadata": {},
   "outputs": [],
   "source": [
    "h1 =  nn.Sigmoid()(a1)"
   ]
  },
  {
   "cell_type": "code",
   "execution_count": 49,
   "id": "ccc0e28f",
   "metadata": {},
   "outputs": [],
   "source": [
    "lin2 = nn.Linear(2, 4)\n",
    "a2 = lin2(h1)"
   ]
  },
  {
   "cell_type": "code",
   "execution_count": 50,
   "id": "4c8b4ceb",
   "metadata": {},
   "outputs": [
    {
     "data": {
      "text/plain": [
       "tensor([[-0.2860, -0.0192,  0.1017, -0.1389],\n",
       "        [-0.2960, -0.0302,  0.0756, -0.2207],\n",
       "        [-0.2943, -0.0306,  0.0716, -0.2336],\n",
       "        ...,\n",
       "        [ 0.0477,  0.1032,  0.0601, -0.2872],\n",
       "        [-0.2113,  0.0006,  0.0638, -0.2625],\n",
       "        [-0.2777, -0.0175,  0.0956, -0.1586]], grad_fn=<AddmmBackward0>)"
      ]
     },
     "execution_count": 50,
     "metadata": {},
     "output_type": "execute_result"
    }
   ],
   "source": [
    "a2"
   ]
  },
  {
   "cell_type": "code",
   "execution_count": 42,
   "id": "219737d9",
   "metadata": {},
   "outputs": [
    {
     "data": {
      "text/plain": [
       "torch.Size([750, 2])"
      ]
     },
     "execution_count": 42,
     "metadata": {},
     "output_type": "execute_result"
    }
   ],
   "source": [
    "X_train.shape"
   ]
  },
  {
   "cell_type": "code",
   "execution_count": 43,
   "id": "b711651d",
   "metadata": {},
   "outputs": [
    {
     "data": {
      "text/plain": [
       "Parameter containing:\n",
       "tensor([[-0.0053,  0.3793],\n",
       "        [-0.5820, -0.5204]], requires_grad=True)"
      ]
     },
     "execution_count": 43,
     "metadata": {},
     "output_type": "execute_result"
    }
   ],
   "source": [
    "lin1.weight"
   ]
  },
  {
   "cell_type": "code",
   "execution_count": 55,
   "id": "6147820b",
   "metadata": {},
   "outputs": [],
   "source": [
    "from sklearn.metrics import confusion_matrix,plot_confusion_matrix,ConfusionMatrixDisplay"
   ]
  },
  {
   "cell_type": "code",
   "execution_count": 56,
   "id": "13d79009",
   "metadata": {},
   "outputs": [
    {
     "name": "stdout",
     "output_type": "stream",
     "text": [
      "Help on class ConfusionMatrixDisplay in module sklearn.metrics._plot.confusion_matrix:\n",
      "\n",
      "class ConfusionMatrixDisplay(builtins.object)\n",
      " |  ConfusionMatrixDisplay(confusion_matrix, *, display_labels=None)\n",
      " |  \n",
      " |  Confusion Matrix visualization.\n",
      " |  \n",
      " |  It is recommend to use\n",
      " |  :func:`~sklearn.metrics.ConfusionMatrixDisplay.from_estimator` or\n",
      " |  :func:`~sklearn.metrics.ConfusionMatrixDisplay.from_predictions` to\n",
      " |  create a :class:`ConfusionMatrixDisplay`. All parameters are stored as\n",
      " |  attributes.\n",
      " |  \n",
      " |  Read more in the :ref:`User Guide <visualizations>`.\n",
      " |  \n",
      " |  Parameters\n",
      " |  ----------\n",
      " |  confusion_matrix : ndarray of shape (n_classes, n_classes)\n",
      " |      Confusion matrix.\n",
      " |  \n",
      " |  display_labels : ndarray of shape (n_classes,), default=None\n",
      " |      Display labels for plot. If None, display labels are set from 0 to\n",
      " |      `n_classes - 1`.\n",
      " |  \n",
      " |  Attributes\n",
      " |  ----------\n",
      " |  im_ : matplotlib AxesImage\n",
      " |      Image representing the confusion matrix.\n",
      " |  \n",
      " |  text_ : ndarray of shape (n_classes, n_classes), dtype=matplotlib Text,             or None\n",
      " |      Array of matplotlib axes. `None` if `include_values` is false.\n",
      " |  \n",
      " |  ax_ : matplotlib Axes\n",
      " |      Axes with confusion matrix.\n",
      " |  \n",
      " |  figure_ : matplotlib Figure\n",
      " |      Figure containing the confusion matrix.\n",
      " |  \n",
      " |  See Also\n",
      " |  --------\n",
      " |  confusion_matrix : Compute Confusion Matrix to evaluate the accuracy of a\n",
      " |      classification.\n",
      " |  ConfusionMatrixDisplay.from_estimator : Plot the confusion matrix\n",
      " |      given an estimator, the data, and the label.\n",
      " |  ConfusionMatrixDisplay.from_predictions : Plot the confusion matrix\n",
      " |      given the true and predicted labels.\n",
      " |  \n",
      " |  Examples\n",
      " |  --------\n",
      " |  >>> import matplotlib.pyplot as plt\n",
      " |  >>> from sklearn.datasets import make_classification\n",
      " |  >>> from sklearn.metrics import confusion_matrix, ConfusionMatrixDisplay\n",
      " |  >>> from sklearn.model_selection import train_test_split\n",
      " |  >>> from sklearn.svm import SVC\n",
      " |  >>> X, y = make_classification(random_state=0)\n",
      " |  >>> X_train, X_test, y_train, y_test = train_test_split(X, y,\n",
      " |  ...                                                     random_state=0)\n",
      " |  >>> clf = SVC(random_state=0)\n",
      " |  >>> clf.fit(X_train, y_train)\n",
      " |  SVC(random_state=0)\n",
      " |  >>> predictions = clf.predict(X_test)\n",
      " |  >>> cm = confusion_matrix(y_test, predictions, labels=clf.classes_)\n",
      " |  >>> disp = ConfusionMatrixDisplay(confusion_matrix=cm,\n",
      " |  ...                               display_labels=clf.classes_)\n",
      " |  >>> disp.plot()\n",
      " |  <...>\n",
      " |  >>> plt.show()\n",
      " |  \n",
      " |  Methods defined here:\n",
      " |  \n",
      " |  __init__(self, confusion_matrix, *, display_labels=None)\n",
      " |      Initialize self.  See help(type(self)) for accurate signature.\n",
      " |  \n",
      " |  plot(self, *, include_values=True, cmap='viridis', xticks_rotation='horizontal', values_format=None, ax=None, colorbar=True, im_kw=None)\n",
      " |      Plot visualization.\n",
      " |      \n",
      " |      Parameters\n",
      " |      ----------\n",
      " |      include_values : bool, default=True\n",
      " |          Includes values in confusion matrix.\n",
      " |      \n",
      " |      cmap : str or matplotlib Colormap, default='viridis'\n",
      " |          Colormap recognized by matplotlib.\n",
      " |      \n",
      " |      xticks_rotation : {'vertical', 'horizontal'} or float,                          default='horizontal'\n",
      " |          Rotation of xtick labels.\n",
      " |      \n",
      " |      values_format : str, default=None\n",
      " |          Format specification for values in confusion matrix. If `None`,\n",
      " |          the format specification is 'd' or '.2g' whichever is shorter.\n",
      " |      \n",
      " |      ax : matplotlib axes, default=None\n",
      " |          Axes object to plot on. If `None`, a new figure and axes is\n",
      " |          created.\n",
      " |      \n",
      " |      colorbar : bool, default=True\n",
      " |          Whether or not to add a colorbar to the plot.\n",
      " |      \n",
      " |      im_kw : dict, default=None\n",
      " |          Dict with keywords passed to `matplotlib.pyplot.imshow` call.\n",
      " |      \n",
      " |      Returns\n",
      " |      -------\n",
      " |      display : :class:`~sklearn.metrics.ConfusionMatrixDisplay`\n",
      " |  \n",
      " |  ----------------------------------------------------------------------\n",
      " |  Class methods defined here:\n",
      " |  \n",
      " |  from_estimator(estimator, X, y, *, labels=None, sample_weight=None, normalize=None, display_labels=None, include_values=True, xticks_rotation='horizontal', values_format=None, cmap='viridis', ax=None, colorbar=True, im_kw=None) from builtins.type\n",
      " |      Plot Confusion Matrix given an estimator and some data.\n",
      " |      \n",
      " |      Read more in the :ref:`User Guide <confusion_matrix>`.\n",
      " |      \n",
      " |      .. versionadded:: 1.0\n",
      " |      \n",
      " |      Parameters\n",
      " |      ----------\n",
      " |      estimator : estimator instance\n",
      " |          Fitted classifier or a fitted :class:`~sklearn.pipeline.Pipeline`\n",
      " |          in which the last estimator is a classifier.\n",
      " |      \n",
      " |      X : {array-like, sparse matrix} of shape (n_samples, n_features)\n",
      " |          Input values.\n",
      " |      \n",
      " |      y : array-like of shape (n_samples,)\n",
      " |          Target values.\n",
      " |      \n",
      " |      labels : array-like of shape (n_classes,), default=None\n",
      " |          List of labels to index the confusion matrix. This may be used to\n",
      " |          reorder or select a subset of labels. If `None` is given, those\n",
      " |          that appear at least once in `y_true` or `y_pred` are used in\n",
      " |          sorted order.\n",
      " |      \n",
      " |      sample_weight : array-like of shape (n_samples,), default=None\n",
      " |          Sample weights.\n",
      " |      \n",
      " |      normalize : {'true', 'pred', 'all'}, default=None\n",
      " |          Either to normalize the counts display in the matrix:\n",
      " |      \n",
      " |          - if `'true'`, the confusion matrix is normalized over the true\n",
      " |            conditions (e.g. rows);\n",
      " |          - if `'pred'`, the confusion matrix is normalized over the\n",
      " |            predicted conditions (e.g. columns);\n",
      " |          - if `'all'`, the confusion matrix is normalized by the total\n",
      " |            number of samples;\n",
      " |          - if `None` (default), the confusion matrix will not be normalized.\n",
      " |      \n",
      " |      display_labels : array-like of shape (n_classes,), default=None\n",
      " |          Target names used for plotting. By default, `labels` will be used\n",
      " |          if it is defined, otherwise the unique labels of `y_true` and\n",
      " |          `y_pred` will be used.\n",
      " |      \n",
      " |      include_values : bool, default=True\n",
      " |          Includes values in confusion matrix.\n",
      " |      \n",
      " |      xticks_rotation : {'vertical', 'horizontal'} or float,                 default='horizontal'\n",
      " |          Rotation of xtick labels.\n",
      " |      \n",
      " |      values_format : str, default=None\n",
      " |          Format specification for values in confusion matrix. If `None`, the\n",
      " |          format specification is 'd' or '.2g' whichever is shorter.\n",
      " |      \n",
      " |      cmap : str or matplotlib Colormap, default='viridis'\n",
      " |          Colormap recognized by matplotlib.\n",
      " |      \n",
      " |      ax : matplotlib Axes, default=None\n",
      " |          Axes object to plot on. If `None`, a new figure and axes is\n",
      " |          created.\n",
      " |      \n",
      " |      colorbar : bool, default=True\n",
      " |          Whether or not to add a colorbar to the plot.\n",
      " |      \n",
      " |      im_kw : dict, default=None\n",
      " |          Dict with keywords passed to `matplotlib.pyplot.imshow` call.\n",
      " |      \n",
      " |      Returns\n",
      " |      -------\n",
      " |      display : :class:`~sklearn.metrics.ConfusionMatrixDisplay`\n",
      " |      \n",
      " |      See Also\n",
      " |      --------\n",
      " |      ConfusionMatrixDisplay.from_predictions : Plot the confusion matrix\n",
      " |          given the true and predicted labels.\n",
      " |      \n",
      " |      Examples\n",
      " |      --------\n",
      " |      >>> import matplotlib.pyplot as plt\n",
      " |      >>> from sklearn.datasets import make_classification\n",
      " |      >>> from sklearn.metrics import ConfusionMatrixDisplay\n",
      " |      >>> from sklearn.model_selection import train_test_split\n",
      " |      >>> from sklearn.svm import SVC\n",
      " |      >>> X, y = make_classification(random_state=0)\n",
      " |      >>> X_train, X_test, y_train, y_test = train_test_split(\n",
      " |      ...         X, y, random_state=0)\n",
      " |      >>> clf = SVC(random_state=0)\n",
      " |      >>> clf.fit(X_train, y_train)\n",
      " |      SVC(random_state=0)\n",
      " |      >>> ConfusionMatrixDisplay.from_estimator(\n",
      " |      ...     clf, X_test, y_test)\n",
      " |      <...>\n",
      " |      >>> plt.show()\n",
      " |  \n",
      " |  from_predictions(y_true, y_pred, *, labels=None, sample_weight=None, normalize=None, display_labels=None, include_values=True, xticks_rotation='horizontal', values_format=None, cmap='viridis', ax=None, colorbar=True, im_kw=None) from builtins.type\n",
      " |      Plot Confusion Matrix given true and predicted labels.\n",
      " |      \n",
      " |      Read more in the :ref:`User Guide <confusion_matrix>`.\n",
      " |      \n",
      " |      .. versionadded:: 1.0\n",
      " |      \n",
      " |      Parameters\n",
      " |      ----------\n",
      " |      y_true : array-like of shape (n_samples,)\n",
      " |          True labels.\n",
      " |      \n",
      " |      y_pred : array-like of shape (n_samples,)\n",
      " |          The predicted labels given by the method `predict` of an\n",
      " |          classifier.\n",
      " |      \n",
      " |      labels : array-like of shape (n_classes,), default=None\n",
      " |          List of labels to index the confusion matrix. This may be used to\n",
      " |          reorder or select a subset of labels. If `None` is given, those\n",
      " |          that appear at least once in `y_true` or `y_pred` are used in\n",
      " |          sorted order.\n",
      " |      \n",
      " |      sample_weight : array-like of shape (n_samples,), default=None\n",
      " |          Sample weights.\n",
      " |      \n",
      " |      normalize : {'true', 'pred', 'all'}, default=None\n",
      " |          Either to normalize the counts display in the matrix:\n",
      " |      \n",
      " |          - if `'true'`, the confusion matrix is normalized over the true\n",
      " |            conditions (e.g. rows);\n",
      " |          - if `'pred'`, the confusion matrix is normalized over the\n",
      " |            predicted conditions (e.g. columns);\n",
      " |          - if `'all'`, the confusion matrix is normalized by the total\n",
      " |            number of samples;\n",
      " |          - if `None` (default), the confusion matrix will not be normalized.\n",
      " |      \n",
      " |      display_labels : array-like of shape (n_classes,), default=None\n",
      " |          Target names used for plotting. By default, `labels` will be used\n",
      " |          if it is defined, otherwise the unique labels of `y_true` and\n",
      " |          `y_pred` will be used.\n",
      " |      \n",
      " |      include_values : bool, default=True\n",
      " |          Includes values in confusion matrix.\n",
      " |      \n",
      " |      xticks_rotation : {'vertical', 'horizontal'} or float,                 default='horizontal'\n",
      " |          Rotation of xtick labels.\n",
      " |      \n",
      " |      values_format : str, default=None\n",
      " |          Format specification for values in confusion matrix. If `None`, the\n",
      " |          format specification is 'd' or '.2g' whichever is shorter.\n",
      " |      \n",
      " |      cmap : str or matplotlib Colormap, default='viridis'\n",
      " |          Colormap recognized by matplotlib.\n",
      " |      \n",
      " |      ax : matplotlib Axes, default=None\n",
      " |          Axes object to plot on. If `None`, a new figure and axes is\n",
      " |          created.\n",
      " |      \n",
      " |      colorbar : bool, default=True\n",
      " |          Whether or not to add a colorbar to the plot.\n",
      " |      \n",
      " |      im_kw : dict, default=None\n",
      " |          Dict with keywords passed to `matplotlib.pyplot.imshow` call.\n",
      " |      \n",
      " |      Returns\n",
      " |      -------\n",
      " |      display : :class:`~sklearn.metrics.ConfusionMatrixDisplay`\n",
      " |      \n",
      " |      See Also\n",
      " |      --------\n",
      " |      ConfusionMatrixDisplay.from_estimator : Plot the confusion matrix\n",
      " |          given an estimator, the data, and the label.\n",
      " |      \n",
      " |      Examples\n",
      " |      --------\n",
      " |      >>> import matplotlib.pyplot as plt\n",
      " |      >>> from sklearn.datasets import make_classification\n",
      " |      >>> from sklearn.metrics import ConfusionMatrixDisplay\n",
      " |      >>> from sklearn.model_selection import train_test_split\n",
      " |      >>> from sklearn.svm import SVC\n",
      " |      >>> X, y = make_classification(random_state=0)\n",
      " |      >>> X_train, X_test, y_train, y_test = train_test_split(\n",
      " |      ...         X, y, random_state=0)\n",
      " |      >>> clf = SVC(random_state=0)\n",
      " |      >>> clf.fit(X_train, y_train)\n",
      " |      SVC(random_state=0)\n",
      " |      >>> y_pred = clf.predict(X_test)\n",
      " |      >>> ConfusionMatrixDisplay.from_predictions(\n",
      " |      ...    y_test, y_pred)\n",
      " |      <...>\n",
      " |      >>> plt.show()\n",
      " |  \n",
      " |  ----------------------------------------------------------------------\n",
      " |  Data descriptors defined here:\n",
      " |  \n",
      " |  __dict__\n",
      " |      dictionary for instance variables (if defined)\n",
      " |  \n",
      " |  __weakref__\n",
      " |      list of weak references to the object (if defined)\n",
      "\n"
     ]
    }
   ],
   "source": [
    "help(ConfusionMatrixDisplay)"
   ]
  },
  {
   "cell_type": "code",
   "execution_count": 62,
   "id": "ae106e8f",
   "metadata": {},
   "outputs": [],
   "source": [
    "a = nn.Conv2d(3,10,(3,5))"
   ]
  },
  {
   "cell_type": "code",
   "execution_count": 63,
   "id": "bb7a4a3c",
   "metadata": {},
   "outputs": [
    {
     "data": {
      "text/plain": [
       "Conv2d(3, 10, kernel_size=(3, 5), stride=(1, 1))"
      ]
     },
     "execution_count": 63,
     "metadata": {},
     "output_type": "execute_result"
    }
   ],
   "source": [
    "a()"
   ]
  },
  {
   "cell_type": "code",
   "execution_count": null,
   "id": "573167e9",
   "metadata": {},
   "outputs": [],
   "source": [
    "(3,32,32)"
   ]
  },
  {
   "cell_type": "code",
   "execution_count": 84,
   "id": "a13c70bd",
   "metadata": {},
   "outputs": [],
   "source": [
    "m = nn.Conv2d(3,10,3)\n",
    "input1 = torch.randn(3, 32, 32)\n",
    "output = m(input1)"
   ]
  },
  {
   "cell_type": "code",
   "execution_count": 88,
   "id": "61b2ce51",
   "metadata": {},
   "outputs": [
    {
     "data": {
      "text/plain": [
       "tensor([[-4.9662e-02, -6.9996e-01, -3.5872e-01,  6.1020e-01,  3.0505e-01,\n",
       "         -2.9783e-01, -9.2845e-01, -8.0180e-01, -1.9837e-01, -6.8619e-02,\n",
       "         -9.6738e-01,  9.1598e-01,  2.3214e-01,  8.2442e-01,  4.8252e-01,\n",
       "          8.2377e-02,  2.1057e-01,  6.0824e-01, -1.9949e-01, -3.9982e-01,\n",
       "         -1.8241e-01,  2.1382e-01,  4.4947e-02, -1.1498e-02, -1.0580e+00,\n",
       "          6.3427e-02, -1.7267e-01,  1.6907e-01, -1.6211e-02,  3.0224e-01],\n",
       "        [-7.5821e-02,  1.5493e-01, -6.8171e-02,  1.8653e-01,  4.9456e-01,\n",
       "         -3.8096e-01,  1.1851e+00,  8.3835e-01,  3.4268e-01,  5.1635e-01,\n",
       "         -1.7621e-01,  1.2722e-01, -6.3997e-02, -8.6505e-01,  6.2125e-01,\n",
       "         -1.8582e-01,  5.5324e-01, -1.1461e-01, -1.4582e-01, -4.3552e-01,\n",
       "          1.3399e+00,  8.3787e-01,  6.5025e-01,  5.7215e-01,  1.0389e-01,\n",
       "          6.6976e-02, -7.0129e-02, -2.1794e-01, -5.9408e-01, -8.1584e-02],\n",
       "        [ 2.0228e-04,  1.6355e+00, -3.7585e-01,  1.1025e+00,  2.7242e-02,\n",
       "          2.1535e-01,  4.3374e-01, -4.9106e-01, -1.6616e-01,  2.9781e-01,\n",
       "         -7.0309e-01, -7.6803e-01, -3.5404e-01,  2.5802e-01, -6.8493e-02,\n",
       "         -8.4342e-01, -2.0726e-01, -7.3303e-01,  1.0139e+00,  1.8804e-01,\n",
       "         -8.9193e-01, -5.3286e-01, -1.0764e+00, -8.9456e-02,  2.4242e-01,\n",
       "          1.7719e-01,  6.6145e-01, -6.2167e-03, -1.7108e-01,  4.6432e-01],\n",
       "        [ 1.2714e-01, -3.1763e-01,  2.9515e-01,  8.6699e-01, -1.1322e+00,\n",
       "         -1.0322e+00, -6.6165e-01, -8.2973e-01, -1.6197e-02,  3.1766e-01,\n",
       "         -3.7050e-01, -8.6963e-01, -8.3100e-01, -5.3375e-01, -4.7324e-02,\n",
       "          8.1043e-01, -2.6097e-01, -5.1716e-01,  1.8578e-01, -6.6599e-01,\n",
       "          2.7499e-01, -5.8719e-01, -1.3971e-01,  8.6864e-01, -3.4662e-01,\n",
       "         -3.2236e-01, -1.2795e-01,  1.0304e+00,  1.9065e-01,  3.0990e-01],\n",
       "        [-2.1947e-01,  1.0483e-01,  4.3216e-01,  6.1103e-01,  8.0182e-01,\n",
       "         -2.6247e-01,  3.9216e-01, -4.2136e-01,  3.1124e-01, -3.3398e-02,\n",
       "          2.5814e-01,  5.2668e-01, -2.9860e-01,  6.4822e-01,  8.3091e-01,\n",
       "         -9.9937e-03,  3.6525e-01,  1.1942e-01,  3.7655e-02, -1.7837e-01,\n",
       "         -8.4259e-01, -1.9592e-01,  5.7226e-01, -2.0900e+00,  4.4412e-01,\n",
       "          1.9895e-01,  1.2369e+00, -4.8060e-01, -4.3828e-01, -1.6606e-02],\n",
       "        [ 7.5761e-01,  1.9074e-01, -1.9592e-01, -1.9993e-01, -3.6617e-01,\n",
       "         -6.4794e-01,  7.4414e-01, -6.9813e-01, -4.9017e-01,  1.0090e+00,\n",
       "         -6.0599e-01,  5.1359e-01,  7.4805e-01,  2.9821e-01, -1.5163e+00,\n",
       "         -8.1345e-02,  7.3274e-01, -1.1551e-01,  6.9100e-01,  1.0656e+00,\n",
       "          1.0392e+00, -3.2763e-01, -9.8849e-02,  1.3877e+00,  1.3431e+00,\n",
       "         -3.5518e-01, -6.1007e-01,  7.0344e-01,  2.1968e-01, -1.8394e-01],\n",
       "        [ 2.4549e-01,  2.4342e-01,  1.5832e+00,  6.3042e-01,  4.0922e-01,\n",
       "          3.6103e-01, -3.8061e-01,  7.3360e-01,  9.3967e-01, -1.3032e-01,\n",
       "         -1.6161e+00,  3.1349e-01, -1.4846e-01,  4.7455e-01,  1.4262e-01,\n",
       "          5.0338e-01, -7.4213e-01, -5.6668e-01, -2.1478e-01, -2.1331e-01,\n",
       "          2.3443e-01,  5.4849e-01,  2.2347e-01, -1.5347e+00, -6.3851e-01,\n",
       "          1.7201e-01, -8.3332e-01,  3.6686e-01,  1.6841e-01,  1.0462e-01],\n",
       "        [ 5.3839e-01, -6.0735e-01, -6.0319e-01,  5.4338e-01,  3.9804e-01,\n",
       "          7.5886e-01, -3.3973e-01, -3.4212e-01, -1.2262e-01,  2.5821e-01,\n",
       "          4.8359e-01,  4.2702e-01, -1.0579e-01,  1.6602e-01,  3.3395e-01,\n",
       "          1.6707e-02,  2.9086e-02,  3.7898e-01, -1.4930e-01,  1.3767e-01,\n",
       "         -8.8460e-01, -3.9692e-01,  1.0692e+00, -3.2923e-01, -7.0803e-02,\n",
       "          3.2485e-01, -6.6789e-02, -1.2089e-01, -1.9045e-01, -4.0504e-01],\n",
       "        [-3.3445e-01,  2.0521e-01, -3.1007e-01, -4.7437e-01, -4.8284e-01,\n",
       "         -6.2694e-01,  2.5175e-01, -5.7084e-02,  9.5103e-01,  2.1706e-01,\n",
       "         -4.7430e-01,  5.9876e-02, -1.5103e-01,  2.7520e-01, -6.4772e-02,\n",
       "          8.0306e-02,  9.1737e-02, -1.5954e-01,  9.8926e-01,  1.4138e-01,\n",
       "          2.9910e-01,  2.1027e-01, -4.1459e-01, -1.4908e+00,  2.9279e-01,\n",
       "         -2.5109e-01,  2.8421e-01,  2.3150e-01, -5.8270e-02,  5.6808e-01],\n",
       "        [-5.3959e-01,  4.0307e-02,  3.9322e-01,  7.6708e-01, -3.4442e-01,\n",
       "          2.2358e-01, -6.5984e-01,  2.4654e-01,  1.8364e-02, -1.8888e+00,\n",
       "          9.4209e-01,  9.6448e-01,  2.1730e-01,  7.0158e-01,  1.3524e-02,\n",
       "         -2.7227e-01, -1.4167e-02, -5.7170e-01, -1.1952e-01, -9.6047e-01,\n",
       "          4.4684e-01, -8.5763e-01,  2.4894e-01, -2.7422e-01,  1.5954e-01,\n",
       "         -1.8262e-01, -7.8828e-01, -3.6831e-01, -2.7409e-01,  9.0349e-01],\n",
       "        [-7.1237e-01, -2.9454e-01,  5.8956e-01, -3.6485e-01, -9.8756e-01,\n",
       "          7.5951e-02, -5.3306e-01, -6.3870e-01,  7.7905e-03,  1.0330e+00,\n",
       "         -1.3628e-01, -3.0262e-01,  4.7778e-02,  1.1062e+00,  3.6606e-01,\n",
       "         -3.7892e-03,  7.1510e-01,  1.7195e-02,  1.1515e-01, -2.8634e-01,\n",
       "         -8.5161e-01,  1.3853e-01,  1.7427e-01, -3.9477e-01, -1.2490e-01,\n",
       "          4.6766e-01,  9.9568e-01,  1.2556e+00,  2.0568e-01, -9.4176e-02],\n",
       "        [ 5.0269e-01, -9.8500e-01, -4.0870e-02,  3.3045e-01, -2.9803e-01,\n",
       "         -3.1370e-01,  4.4453e-01, -9.5128e-01,  1.0076e-01, -1.0338e-01,\n",
       "         -9.2284e-02,  1.1092e+00, -3.4141e-01, -9.7659e-02, -1.0341e+00,\n",
       "          7.3299e-01, -5.2278e-01, -9.9667e-01, -2.6061e-01,  1.5263e-01,\n",
       "         -2.4878e-01, -2.0375e-01,  2.0744e-02,  5.0610e-01,  1.8743e-02,\n",
       "         -1.6913e-01, -4.2395e-02,  5.7348e-01,  2.2975e-01, -1.4101e+00],\n",
       "        [ 4.9231e-01,  8.3010e-01,  2.8243e-01, -9.3270e-02, -3.0477e-01,\n",
       "          1.2403e-01, -3.1018e-01,  1.8454e-01,  2.2863e-01,  2.9368e-01,\n",
       "         -7.1933e-01, -3.2470e-01, -1.5328e-01,  8.8813e-01,  1.4453e-01,\n",
       "         -3.0916e-01,  1.9571e-01,  6.8515e-01,  2.4969e-02, -4.6142e-01,\n",
       "         -7.7559e-01,  3.1434e-01,  2.6326e-02,  2.3705e-01, -4.0060e-01,\n",
       "         -5.2042e-01,  1.7687e-01,  7.7403e-02, -3.2025e-02,  5.3211e-01],\n",
       "        [ 8.2171e-01,  7.5488e-01, -9.8758e-02,  2.5052e-02,  2.4906e-01,\n",
       "         -1.4877e+00, -4.3734e-01,  1.3270e+00, -4.2377e-02, -3.2870e-01,\n",
       "          2.1659e-01,  1.4343e+00, -4.2673e-01, -9.8212e-02, -4.4304e-01,\n",
       "         -4.6642e-01, -9.4571e-01, -4.6763e-01,  4.0166e-01, -3.2517e-02,\n",
       "          4.3361e-01,  2.7943e-01,  9.4028e-01,  7.7153e-01, -8.2185e-01,\n",
       "         -5.1737e-01, -2.8721e-01, -5.5112e-02,  8.9714e-02, -3.4845e-01],\n",
       "        [-3.6575e-01,  1.4427e+00, -1.7004e-02, -8.7097e-01, -3.4258e-01,\n",
       "          3.6896e-01,  1.2169e-01,  4.8607e-01, -6.2890e-01,  9.0925e-01,\n",
       "          4.4975e-01, -1.5110e-01, -6.5258e-01,  2.9364e-01, -3.4048e-01,\n",
       "          6.2426e-01,  3.3165e-01, -1.4771e+00,  9.6318e-01,  7.6742e-01,\n",
       "         -3.6085e-01, -2.2545e-01, -2.6588e-01,  7.3379e-01,  1.7703e+00,\n",
       "          1.1716e-02, -2.5658e-01, -6.9551e-01, -4.0826e-01,  4.2668e-01],\n",
       "        [-5.6365e-01,  9.2893e-02, -4.0184e-03,  6.9022e-01, -7.6521e-02,\n",
       "          7.0798e-01, -2.6941e-01,  7.3975e-01, -8.3017e-01,  3.9150e-01,\n",
       "         -3.8023e-01,  3.4638e-01, -1.3061e-01,  3.3749e-01,  2.5459e-02,\n",
       "         -2.8735e-01,  3.1823e-01,  3.6129e-01, -1.2646e+00,  1.6251e-01,\n",
       "         -2.3784e-01, -5.1403e-01, -1.0274e+00, -1.3124e+00, -9.7447e-01,\n",
       "          4.1808e-01,  1.2049e+00,  2.8233e-01,  4.9143e-01, -1.5658e-01],\n",
       "        [-3.1067e-01,  2.4747e-01,  2.6039e-02,  1.0172e+00,  1.4658e-01,\n",
       "         -1.6196e-01,  1.1411e-02, -1.0897e+00, -9.5197e-02, -2.6083e-02,\n",
       "         -1.7293e-01, -2.7552e-01,  1.8477e-01,  4.0386e-01, -6.1920e-02,\n",
       "          8.1428e-01,  2.1971e-01,  4.6467e-02, -3.6594e-01, -2.8679e-01,\n",
       "         -2.0946e-01,  3.5073e-01, -1.6535e-01, -5.4992e-01,  7.4253e-01,\n",
       "         -6.0043e-01, -1.4573e+00, -3.2956e-02,  9.0233e-02, -7.9103e-01],\n",
       "        [-1.8091e-01,  8.7308e-01, -3.7346e-01, -5.6825e-01,  6.2319e-01,\n",
       "         -2.0350e-02,  3.4607e-01,  5.7837e-01, -7.6301e-01, -1.1982e+00,\n",
       "          3.8067e-01,  6.0115e-01,  3.7338e-01, -6.4660e-01, -3.1793e-01,\n",
       "         -8.5665e-01, -2.7541e-03,  1.2571e-01,  1.4385e-01, -2.7949e-01,\n",
       "          7.4982e-01,  2.9351e-01,  4.7105e-01, -1.7649e-01, -3.5090e-01,\n",
       "          1.7054e-01, -1.1462e-01, -4.9846e-01,  1.0505e+00, -4.0238e-01],\n",
       "        [ 2.9565e-01, -7.5035e-01,  8.5303e-01,  1.4370e-01,  9.3731e-01,\n",
       "         -2.9414e-01,  4.6372e-02,  6.0382e-01, -3.1444e-01,  8.0244e-01,\n",
       "          3.1106e-01, -1.1932e+00,  1.7605e-02, -3.6281e-01, -1.2920e-01,\n",
       "          1.3075e-01,  1.4779e-01,  6.8642e-01,  6.2370e-01, -6.2970e-01,\n",
       "         -6.2582e-01, -5.5126e-01,  2.6633e-02, -1.2555e-01, -1.1697e-01,\n",
       "          8.6444e-01,  9.7397e-01,  7.1456e-02,  7.2678e-01, -8.3550e-01],\n",
       "        [ 7.3885e-01,  1.5582e-01,  5.5648e-01, -1.4909e+00, -4.5197e-01,\n",
       "          3.1085e-01, -6.1873e-02,  4.5311e-01,  1.1375e+00,  8.3304e-02,\n",
       "          5.2806e-01,  1.2441e+00,  9.1289e-01, -1.2117e-01,  6.4384e-01,\n",
       "         -8.3152e-03, -5.0077e-01, -3.6922e-01,  4.4783e-01,  5.1438e-01,\n",
       "          3.8609e-01,  9.6968e-03,  5.7167e-01,  7.9117e-02,  1.0110e+00,\n",
       "         -5.2806e-01, -1.1495e+00, -1.2213e+00,  1.2443e-01,  1.3458e-01],\n",
       "        [ 5.6293e-01, -3.7198e-01, -1.0158e+00,  8.3600e-02,  3.0797e-01,\n",
       "         -6.8405e-01, -1.9606e-01, -2.0667e-01,  5.6652e-02,  4.1082e-01,\n",
       "          1.3069e+00, -1.2918e-01, -1.2222e+00,  9.6937e-02, -2.1806e-01,\n",
       "          2.8775e-01, -2.3758e-01, -1.1201e-01,  7.2363e-01,  4.4054e-01,\n",
       "          6.3840e-01, -2.9573e-03, -6.5630e-01,  4.8129e-02, -1.9516e-02,\n",
       "          3.3308e-01,  4.0264e-01,  3.6708e-01,  1.1559e-01, -2.6125e-01],\n",
       "        [-7.2744e-01, -1.0355e-01, -7.3856e-02,  1.1668e-01, -1.4058e+00,\n",
       "          5.7267e-01,  6.5763e-01,  6.5115e-01,  4.1163e-01, -1.6128e-01,\n",
       "         -9.2972e-01,  1.2754e+00,  6.3038e-01, -1.3610e-01, -2.4974e-01,\n",
       "          5.5446e-01,  4.9001e-01,  2.0011e-01, -1.9446e-01, -2.4780e-01,\n",
       "         -1.3947e-01,  4.6109e-01,  4.2478e-01,  7.4684e-01, -7.9820e-01,\n",
       "          1.3914e-01, -4.2547e-01, -3.2100e-01,  4.1625e-01, -4.7064e-01],\n",
       "        [ 2.0481e-02, -7.9603e-01, -3.5638e-01, -2.4592e-01, -8.1049e-02,\n",
       "         -3.8748e-03, -7.8101e-01, -6.7681e-01, -6.7759e-01,  3.6529e-01,\n",
       "          3.8614e-02,  1.1054e-01, -8.0729e-01, -7.0928e-02,  8.3059e-01,\n",
       "         -2.8167e-01,  2.9146e-01, -6.1359e-01,  3.0783e-01,  2.6450e-01,\n",
       "         -2.0885e-01,  1.2398e-01, -6.9206e-01, -1.0687e+00, -5.6789e-01,\n",
       "          2.2832e-01, -6.6769e-02,  2.4144e-02,  6.7637e-02, -5.9777e-01],\n",
       "        [ 2.9048e-01, -2.5306e-01,  1.4642e+00,  4.7373e-01,  5.2582e-01,\n",
       "         -4.6543e-01, -7.5530e-02,  1.4716e-01, -6.7815e-02, -7.8645e-04,\n",
       "          6.3300e-01,  1.0367e-01,  3.2287e-01,  1.4650e-01, -1.8141e-01,\n",
       "         -5.7885e-01,  7.3038e-01,  6.7115e-01,  5.2057e-01, -4.5800e-01,\n",
       "          5.0131e-02, -1.8870e-01, -1.4006e-01,  6.6400e-01,  2.2768e-02,\n",
       "         -1.3823e-01,  4.6992e-01,  1.8502e-02,  5.7379e-01,  5.5754e-01],\n",
       "        [ 8.8083e-03,  7.2151e-01,  9.3634e-02, -5.7250e-01, -5.3625e-01,\n",
       "          9.8725e-01,  7.4183e-01, -2.3458e-01,  1.1703e+00, -4.7064e-01,\n",
       "         -2.9824e-01, -1.0995e+00, -2.2892e-01,  5.7249e-01,  1.2041e+00,\n",
       "          5.6193e-01,  9.5700e-01,  5.2785e-01, -5.1921e-02,  1.1799e+00,\n",
       "         -3.6554e-01, -3.1169e-01,  5.0084e-02,  1.7118e-01,  3.3030e-01,\n",
       "          4.1710e-01,  1.9574e-01,  1.3580e-01,  7.6110e-02, -2.3157e-01],\n",
       "        [-2.7154e-01, -2.8065e-01,  9.5087e-01,  3.6073e-01, -1.3027e+00,\n",
       "          1.4265e-01, -8.4138e-03,  3.5312e-01, -2.3252e-01, -4.0312e-01,\n",
       "          4.8658e-01,  9.3870e-01, -1.4704e-01,  2.2685e-01,  6.2596e-01,\n",
       "          9.2076e-01, -3.1066e-01,  4.5715e-01,  3.8697e-02,  3.9457e-01,\n",
       "         -1.3424e-01,  8.9088e-01,  3.7863e-01,  1.0686e+00, -4.1382e-01,\n",
       "         -1.0802e+00, -6.7900e-01, -3.9231e-01,  3.9083e-02,  3.6221e-01],\n",
       "        [-1.2328e+00,  1.0169e+00,  2.3219e-01,  4.7385e-01, -3.9904e-01,\n",
       "          1.5514e+00,  8.2718e-02,  1.3092e-01, -4.4163e-01,  4.2770e-01,\n",
       "          2.0473e-02, -1.9147e-01,  3.9133e-01,  2.9804e-02, -6.7295e-01,\n",
       "         -2.4088e-01, -4.8776e-01,  7.8134e-01, -7.8665e-01, -9.8339e-01,\n",
       "          2.3381e-01, -3.5790e-01, -3.4390e-02,  3.3789e-02, -5.3618e-02,\n",
       "          1.1230e+00,  9.6461e-01,  1.0658e+00, -2.0086e-02, -1.2799e+00],\n",
       "        [-4.6552e-01,  2.8651e-01, -5.8758e-01,  7.1330e-01, -1.4794e-01,\n",
       "          7.4443e-01,  3.0663e-01,  7.8107e-01,  8.8810e-01, -2.2132e-01,\n",
       "         -1.1448e-01,  5.5384e-01, -6.6650e-01, -7.7740e-01,  1.0333e-01,\n",
       "          7.7277e-02, -6.9870e-01, -4.4239e-01,  7.2384e-01,  4.7134e-01,\n",
       "         -5.5553e-01,  2.3999e-02, -8.2042e-01,  1.2921e+00, -4.5569e-01,\n",
       "         -3.9120e-01, -4.2276e-01, -3.2227e-02,  2.9881e-01,  9.7140e-01],\n",
       "        [ 6.5732e-01,  8.0754e-01, -6.3798e-01, -4.7286e-01,  3.6772e-01,\n",
       "         -9.7773e-01, -3.1264e-01, -8.7572e-01, -1.3858e-01,  5.0103e-01,\n",
       "         -3.0834e-01,  6.7041e-01,  1.8151e-01,  7.2788e-01,  3.5339e-01,\n",
       "          8.0795e-02, -6.0961e-01, -2.6466e-01, -3.2765e-02, -6.1875e-01,\n",
       "         -2.0588e-01,  7.2053e-01, -5.4624e-01, -3.2657e-01,  3.6073e-01,\n",
       "          1.0614e+00,  3.5096e-01,  8.9801e-01, -6.9696e-01, -8.0243e-01],\n",
       "        [-9.1271e-01,  3.7527e-01,  5.0230e-01, -1.9105e-01,  3.7308e-01,\n",
       "          2.4721e-01, -7.9779e-02, -3.0543e-01, -1.9434e-01, -6.4289e-01,\n",
       "          1.0698e-01, -8.0498e-01,  3.0116e-02, -4.5484e-01,  3.1067e-01,\n",
       "          9.9837e-01,  1.3374e-01,  9.4250e-01, -8.4004e-02,  4.3760e-01,\n",
       "         -7.8389e-01, -2.5814e-02,  6.1680e-01,  5.7475e-01, -7.5851e-01,\n",
       "         -1.1221e-01,  1.4833e+00, -3.0721e-02,  5.4948e-01,  5.8765e-01]],\n",
       "       grad_fn=<SelectBackward0>)"
      ]
     },
     "execution_count": 88,
     "metadata": {},
     "output_type": "execute_result"
    }
   ],
   "source": [
    "output[0]"
   ]
  },
  {
   "cell_type": "code",
   "execution_count": null,
   "id": "6e78f1bd",
   "metadata": {},
   "outputs": [],
   "source": []
  },
  {
   "cell_type": "code",
   "execution_count": null,
   "id": "60aec90b",
   "metadata": {},
   "outputs": [],
   "source": []
  },
  {
   "cell_type": "code",
   "execution_count": 75,
   "id": "ee5e5c71",
   "metadata": {},
   "outputs": [
    {
     "data": {
      "text/plain": [
       "torch.Size([3, 32, 32])"
      ]
     },
     "execution_count": 75,
     "metadata": {},
     "output_type": "execute_result"
    }
   ],
   "source": [
    "input1.shape"
   ]
  },
  {
   "cell_type": "code",
   "execution_count": null,
   "id": "128bfeb6",
   "metadata": {},
   "outputs": [],
   "source": [
    "nn."
   ]
  }
 ],
 "metadata": {
  "kernelspec": {
   "display_name": "Python (myNEWenv)",
   "language": "python",
   "name": "mynewenv"
  },
  "language_info": {
   "codemirror_mode": {
    "name": "ipython",
    "version": 3
   },
   "file_extension": ".py",
   "mimetype": "text/x-python",
   "name": "python",
   "nbconvert_exporter": "python",
   "pygments_lexer": "ipython3",
   "version": "3.10.12"
  }
 },
 "nbformat": 4,
 "nbformat_minor": 5
}
