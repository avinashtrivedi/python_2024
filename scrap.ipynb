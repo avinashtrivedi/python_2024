{
 "cells": [
  {
   "cell_type": "code",
   "execution_count": 1,
   "id": "96a8b71f",
   "metadata": {},
   "outputs": [],
   "source": [
    "from bs4 import BeautifulSoup\n",
    "import urllib3\n",
    "import re\n",
    "import json\n",
    "import pandas as pd\n",
    "import time\n",
    "from tqdm.notebook import tqdm"
   ]
  },
  {
   "cell_type": "code",
   "execution_count": 2,
   "id": "ab3494d8",
   "metadata": {},
   "outputs": [],
   "source": [
    "month = 1\n",
    "page = 1\n",
    "topic = 'politik' # politic, wirtschaft, sport, wissen,kultur\n",
    "year = 2023"
   ]
  },
  {
   "cell_type": "code",
   "execution_count": 3,
   "id": "19ec90e0",
   "metadata": {},
   "outputs": [],
   "source": [
    "url = f\"https://www.sueddeutsche.de/archiv/{topic}/{year}/{month}/page/{page}\""
   ]
  },
  {
   "cell_type": "code",
   "execution_count": 4,
   "id": "eb1329da",
   "metadata": {},
   "outputs": [],
   "source": [
    "def get_html(url):\n",
    "    http = urllib3.PoolManager()\n",
    "    response = http.request('GET', url,headers = {'User-agent': 'your bot 0.1'})\n",
    "    soup = BeautifulSoup(response.data)\n",
    "    return soup,response.status"
   ]
  },
  {
   "cell_type": "code",
   "execution_count": 5,
   "id": "700f8a1c",
   "metadata": {},
   "outputs": [],
   "source": [
    "soup,status = get_html(url)\n",
    "all_links = []\n",
    "if status==200:\n",
    "    # Find all <a> tags with class=\"entrylist__link\"\n",
    "    links = soup.find_all('a', class_='entrylist__link')\n",
    "\n",
    "    # Extract and print the href attribute from each <a> tag\n",
    "    for link in links:\n",
    "        href = link.get('href')\n",
    "        all_links.append(href)\n",
    "else:\n",
    "    print('failed')"
   ]
  },
  {
   "cell_type": "code",
   "execution_count": 6,
   "id": "c526d415",
   "metadata": {},
   "outputs": [
    {
     "data": {
      "application/vnd.jupyter.widget-view+json": {
       "model_id": "5816d54ef7034979a0eed6fcd9edaee2",
       "version_major": 2,
       "version_minor": 0
      },
      "text/plain": [
       "  0%|          | 0/50 [00:00<?, ?it/s]"
      ]
     },
     "metadata": {},
     "output_type": "display_data"
    },
    {
     "name": "stdout",
     "output_type": "stream",
     "text": [
      "Paid news https://www.sueddeutsche.de/politik/meinungsfreiheit-iran-will-gesetze-verschaerfen-1.5742167\n",
      "Paid news https://www.sueddeutsche.de/politik/schule-wieder-mehr-sitzenbleiber-1.5741752\n",
      "Paid news https://www.sueddeutsche.de/politik/cdu-ultimatum-an-maassen-1.5741748\n",
      "Paid news https://www.sueddeutsche.de/politik/verfassungsgericht-entscheidung-zur-berlin-wahl-1.5741750\n",
      "Paid news https://www.sueddeutsche.de/politik/ukraine-scholz-kampfjet-1.5742078\n",
      "Paid news https://www.sueddeutsche.de/politik/glosse-das-streiflicht-1.5741856\n",
      "Paid news https://www.sueddeutsche.de/politik/japan-toyota-elektroautos-1.5741800\n",
      "Paid news https://www.sueddeutsche.de/politik/pakistan-peschawar-moschee-explosion-anschlag-pakistanische-taliban-1.5741635\n",
      "Paid news https://www.sueddeutsche.de/politik/news-nachrichten-ukraine-soli-scholz-tuerkei-1.5742176\n",
      "Paid news https://www.sueddeutsche.de/politik/usa-israel-blinken-besuch-1.5742181\n",
      "Paid news https://www.sueddeutsche.de/politik/faeser-hessen-spitzenkandidatin-1.5742089\n",
      "Paid news https://www.sueddeutsche.de/politik/podcast-nachrichten-vermittler-und-verhinderer-die-seltsame-rolle-der-tuerkei-1.5742126\n",
      "Paid news https://www.sueddeutsche.de/projekte/artikel/politik/it-sicherheit-hacker-loesegeld-virus-ludwigshafen-e398956/\n",
      "Paid news https://www.sueddeutsche.de/politik/iran-drohnen-revolutionsgarden-1.5742000\n",
      "Paid news https://www.sueddeutsche.de/politik/suedamerika-lithium-deutschland-1.5742026\n",
      "Paid news https://www.sueddeutsche.de/politik/tuerkei-wahl-2023-sechs-parteien-erdogan-1.5741946\n",
      "Paid news https://www.sueddeutsche.de/politik/maassen-parteiaustritt-cdu-ultimatum-1.5741727\n",
      "Paid news https://www.sueddeutsche.de/politik/oezdemir-landwirtschaft-klimaschutz-tierwohl-konflikt-1.5741931\n"
     ]
    }
   ],
   "source": [
    "df = pd.DataFrame([],columns=['Url','Topic','Publish Date','Author','Title','Teaser','News'])\n",
    "for link in tqdm(all_links):\n",
    "    soup, status = get_html(link)\n",
    "    if status==200:\n",
    "        # Find all <p> tags with data-manual=\"paragraph\"\n",
    "        paragraphs = soup.find_all('p', {'data-manual': 'paragraph'})\n",
    "\n",
    "        # Extract and print the text from each paragraph\n",
    "        news = ''\n",
    "        for paragraph in paragraphs:\n",
    "            news = news + '\\n' +paragraph.get_text(strip=True)\n",
    "            \n",
    "        news = news.strip()\n",
    "        element = soup.find('div', {'id': 'taboola-feed-below-article', 'data-paycategory': 'free'})\n",
    "        \n",
    "        # Check if the element is found\n",
    "        if element:\n",
    "            # Extract the required attributes\n",
    "            data_authors = element.get('data-authors')\n",
    "            data_teaser = element.get('data-teaser')\n",
    "            data_title = element.get('data-title')\n",
    "            data_publishdate = element.get('data-publishdate')\n",
    "            \n",
    "            df.loc[len(df)] = [link,topic,data_publishdate,data_authors,data_title,data_teaser,news]\n",
    "        else:\n",
    "            print(\"Paid news\",link)       \n",
    "    else:\n",
    "        print('Failed->',status,link)"
   ]
  },
  {
   "cell_type": "code",
   "execution_count": null,
   "id": "558a7a91",
   "metadata": {},
   "outputs": [],
   "source": []
  }
 ],
 "metadata": {
  "kernelspec": {
   "display_name": "Python (myNEWenv)",
   "language": "python",
   "name": "mynewenv"
  },
  "language_info": {
   "codemirror_mode": {
    "name": "ipython",
    "version": 3
   },
   "file_extension": ".py",
   "mimetype": "text/x-python",
   "name": "python",
   "nbconvert_exporter": "python",
   "pygments_lexer": "ipython3",
   "version": "3.10.12"
  }
 },
 "nbformat": 4,
 "nbformat_minor": 5
}
