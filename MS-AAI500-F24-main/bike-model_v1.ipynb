{
 "cells": [
  {
   "cell_type": "code",
   "execution_count": 1,
   "metadata": {},
   "outputs": [],
   "source": [
    "import pandas as pd\n",
    "import matplotlib.pyplot as plt\n",
    "import numpy as np\n",
    "\n",
    "from sklearn import datasets, linear_model\n",
    "from sklearn.metrics import mean_squared_error, r2_score"
   ]
  },
  {
   "cell_type": "code",
   "execution_count": 2,
   "metadata": {},
   "outputs": [
    {
     "name": "stdout",
     "output_type": "stream",
     "text": [
      "8760\n",
      "         Rented Bike Count  Temperature(C)\n",
      "Seasons                                   \n",
      "Autumn          924.110480       13.821683\n",
      "Spring          746.254167       13.021759\n",
      "Summer         1034.073370       26.582790\n",
      "Winter          225.541204       -2.540463\n",
      "Rented Bike Count           1.000000\n",
      "Hour                        0.384390\n",
      "Temperature(C)              0.623219\n",
      "Humidity(%)                -0.143500\n",
      "Wind speed (m/s)            0.133041\n",
      "Visibility (10m)            0.143130\n",
      "Dew point temperature(C)    0.473146\n",
      "Solar Radiation (MJ/m2)     0.317750\n",
      "Rainfall(mm)               -0.112400\n",
      "Snowfall (cm)              -0.162114\n",
      "Seasons_Autumn                   NaN\n",
      "Seasons_Spring              0.115846\n",
      "Seasons_Summer              0.418837\n",
      "Seasons_Winter             -0.502582\n",
      "Holiday_Holiday            -0.099087\n",
      "Holiday_No Holiday          0.099087\n",
      "Functioning Day_Yes              NaN\n",
      "Name: Rented Bike Count, dtype: float64\n"
     ]
    }
   ],
   "source": [
    "# Read Seoul bike sharing information, replacing non UTF-8 chars with �\n",
    "df = pd.read_csv('SeoulBikeData.csv', encoding_errors='replace')\n",
    "print(len(df))\n",
    "\n",
    "# Remove the � from any column name\n",
    "for col_name in list(df):\n",
    "    if '�' in col_name:\n",
    "        df.rename(columns={col_name : col_name.replace('�','')}, inplace=True)\n",
    "\n",
    "# Convert holiday to binary 1 for Yes, 0 for anythng else\n",
    "# df['Holiday'] = np.where(df['Holiday'] == 'Holiday',1,0)\n",
    "\n",
    "# Remove lines where rentals not available\n",
    "df = df[df['Functioning Day'] == \"Yes\"]\n",
    "df['dt_index'] = df['Date'] + ' ' + df['Hour'].astype(str)\n",
    "df['dt_index'] = pd.to_datetime(df['dt_index'], format='%d/%m/%Y %H')\n",
    "\n",
    "####### Chris ##########\n",
    "# remove unwanted columns, having no contribution in model prediction\n",
    "df = df.drop(['Date','dt_index'],axis=1)\n",
    "\n",
    "df_copy = df.copy()\n",
    "\n",
    "####### Chris ##########\n",
    "# perform ohe hot encoding to convert categorical columns to numerical\n",
    "df = pd.get_dummies(df)\n",
    "\n",
    "# Use the last 30% for testing\n",
    "train_test_split = int(np.floor(len(df) * 0.7))\n",
    "df_train = df.iloc[:train_test_split].copy()\n",
    "df_test = df.iloc[train_test_split:].copy()\n",
    "\n",
    "# Show data by season\n",
    "grouped = df_copy[['Seasons', 'Rented Bike Count', 'Temperature(C)']].groupby('Seasons').mean()\n",
    "print(grouped)\n",
    "\n",
    "# Show correlation between \"Rented Bike Count\" and the other numeric features\n",
    "print(df_train.corr(method='pearson', numeric_only=True).iloc[0])"
   ]
  },
  {
   "cell_type": "code",
   "execution_count": 3,
   "metadata": {},
   "outputs": [
    {
     "data": {
      "text/plain": [
       "['Rented Bike Count',\n",
       " 'Hour',\n",
       " 'Temperature(C)',\n",
       " 'Humidity(%)',\n",
       " 'Wind speed (m/s)',\n",
       " 'Visibility (10m)',\n",
       " 'Dew point temperature(C)',\n",
       " 'Solar Radiation (MJ/m2)',\n",
       " 'Rainfall(mm)',\n",
       " 'Snowfall (cm)',\n",
       " 'Seasons_Autumn',\n",
       " 'Seasons_Spring',\n",
       " 'Seasons_Summer',\n",
       " 'Seasons_Winter',\n",
       " 'Holiday_Holiday',\n",
       " 'Holiday_No Holiday',\n",
       " 'Functioning Day_Yes']"
      ]
     },
     "execution_count": 3,
     "metadata": {},
     "output_type": "execute_result"
    }
   ],
   "source": [
    "list(df_train)"
   ]
  },
  {
   "cell_type": "code",
   "execution_count": 4,
   "metadata": {},
   "outputs": [],
   "source": [
    "####### Chris ##########\n",
    "# dataframe to store results\n",
    "result = pd.DataFrame([],columns=['Model','MSE'])"
   ]
  },
  {
   "cell_type": "code",
   "execution_count": 5,
   "metadata": {},
   "outputs": [
    {
     "name": "stdout",
     "output_type": "stream",
     "text": [
      "Coefficients: \n",
      " [ 4.49628357e+01  5.93971511e+01  3.53487945e-02  2.91322522e-13\n",
      "  9.56907303e+01 -3.55271368e-14 -8.52389585e+00  7.13809681e+00\n",
      "  2.49937786e+01 -5.97390327e+01  5.43938549e+01 -4.49628357e+01\n",
      " -1.55087881e+02  2.02293767e+01  2.60672580e+01 -6.01328332e+01]\n",
      "Mean squared error: 247239.20026\n",
      "Coefficient of determination: 0.34222\n"
     ]
    }
   ],
   "source": [
    "y_feature_name = 'Rented Bike Count'\n",
    "\n",
    "# X_feature_list = ['Temperature(C)']\n",
    "\n",
    "# Uncomment to set X and Y to the same thing to verify model working\n",
    "# Model should have MSE of 0 and R2 score of 1\n",
    "\n",
    "# ####### Chris ##########\n",
    "# get features except target column i.e y_feature_name\n",
    "\n",
    "X_feature_list = [\n",
    " 'Holiday_No Holiday',\n",
    " 'Seasons_Spring',\n",
    " 'Visibility (10m)',\n",
    " 'Functioning Day_Yes',\n",
    " 'Seasons_Summer',\n",
    " 'Seasons_Autumn',\n",
    " 'Humidity(%)',\n",
    " 'Dew point temperature(C)',\n",
    " 'Hour',\n",
    " 'Rainfall(mm)',\n",
    " 'Snowfall (cm)',\n",
    " 'Holiday_Holiday',\n",
    " 'Seasons_Winter',\n",
    " 'Temperature(C)',\n",
    " 'Wind speed (m/s)',\n",
    " 'Solar Radiation (MJ/m2)']\n",
    "\n",
    "# X_feature_list = list(set(list(df_train))- set(y_feature_name))\n",
    "\n",
    "# https://scikit-learn.org/stable/auto_examples/linear_model/plot_ols.html\n",
    "X_train = np.array(df_train[X_feature_list])\n",
    "y_train = np.array(df_train[y_feature_name])\n",
    "X_test = np.array(df_test[X_feature_list])\n",
    "y_test = np.array(df_test[y_feature_name])\n",
    "\n",
    "# Create linear regression object\n",
    "regr = linear_model.LinearRegression()\n",
    "\n",
    "# Train the model using the training sets\n",
    "regr.fit(X_train, y_train)\n",
    "\n",
    "# Make predictions using the testing set\n",
    "y_pred = regr.predict(X_test)\n",
    "\n",
    "# The coefficients\n",
    "print(\"Coefficients: \\n\", regr.coef_)\n",
    "mse = mean_squared_error(y_test, y_pred)\n",
    "# The mean squared error\n",
    "print(\"Mean squared error: %.5f\" % mean_squared_error(y_test, y_pred))\n",
    "# The coefficient of determination: 1 is perfect prediction\n",
    "print(\"Coefficient of determination: %.5f\" % r2_score(y_test, y_pred))\n",
    "\n",
    "####### Chris ##########\n",
    "# store result to result dataframe\n",
    "result.loc[len(result)] = ['LinearRegression',mse]\n",
    "\n",
    "# X_feature_list.append('y_test')\n",
    "# X_feature_list.append('y_predict')\n",
    "# y_results = pd.DataFrame(np.column_stack((X_test, y_test, y_pred)), columns=X_feature_list)\n",
    "# print(np.shape(y_results))\n",
    "# print(y_results.iloc[-5:,:])\n",
    "\n",
    "# num_points = -20\n",
    "# # Plot outputs\n",
    "# plt.scatter(df_X_test[num_points:], df_y_test[num_points:], color=\"black\")\n",
    "# plt.plot(df_X_test[num_points:], df_y_test[num_points:], color=\"blue\", linewidth=3)\n",
    "\n",
    "# plt.xticks(())\n",
    "# plt.yticks(())\n",
    "\n",
    "# plt.show()\n",
    "\n",
    "#exploratory data anlysis\n",
    "# Is there a strong correlation between bike rental count by season, temperature, humidity, rainfall, snowfall, etc.\n",
    "# Metrics to engineer, revenue from bike rentals (using an estimate)\n",
    "# Question to understand, if Rain, Temperature, Hunidity etc. increase what increase in bike rentals/revenue could we forecast?\n",
    "# What if those values decreased? What decrease in revenue/bike rentals could we forecast?\n"
   ]
  },
  {
   "cell_type": "code",
   "execution_count": 6,
   "metadata": {},
   "outputs": [],
   "source": [
    "####### Chris ##########\n",
    "from sklearn.ensemble import RandomForestRegressor\n",
    "from sklearn.tree import DecisionTreeRegressor"
   ]
  },
  {
   "cell_type": "code",
   "execution_count": 7,
   "metadata": {},
   "outputs": [
    {
     "name": "stdout",
     "output_type": "stream",
     "text": [
      "Mean squared error: 129886.954\n"
     ]
    }
   ],
   "source": [
    "####### Chris ##########\n",
    "# apply RandomForestRegressor model\n",
    "reg = RandomForestRegressor()\n",
    "reg.fit(X_train, y_train)\n",
    "y_pred = reg.predict(X_test)\n",
    "mse = mean_squared_error(y_test, y_pred)\n",
    "print(\"Mean squared error: %.3f\" % mse)\n",
    "result.loc[len(result)] = ['RandomForestRegressor',mse]"
   ]
  },
  {
   "cell_type": "code",
   "execution_count": 8,
   "metadata": {},
   "outputs": [
    {
     "name": "stdout",
     "output_type": "stream",
     "text": [
      "Mean squared error: 210423.408\n"
     ]
    }
   ],
   "source": [
    "####### Chris ##########\n",
    "# apply DecisionTreeRegressor model\n",
    "reg = DecisionTreeRegressor()\n",
    "reg.fit(X_train, y_train)\n",
    "y_pred = reg.predict(X_test)\n",
    "mse = mean_squared_error(y_test, y_pred)\n",
    "print(\"Mean squared error: %.3f\" % mse)\n",
    "result.loc[len(result)] = ['DecisionTreeRegressor',mse]"
   ]
  },
  {
   "cell_type": "code",
   "execution_count": 9,
   "metadata": {},
   "outputs": [
    {
     "data": {
      "text/html": [
       "<div>\n",
       "<style scoped>\n",
       "    .dataframe tbody tr th:only-of-type {\n",
       "        vertical-align: middle;\n",
       "    }\n",
       "\n",
       "    .dataframe tbody tr th {\n",
       "        vertical-align: top;\n",
       "    }\n",
       "\n",
       "    .dataframe thead th {\n",
       "        text-align: right;\n",
       "    }\n",
       "</style>\n",
       "<table border=\"1\" class=\"dataframe\">\n",
       "  <thead>\n",
       "    <tr style=\"text-align: right;\">\n",
       "      <th></th>\n",
       "      <th>Model</th>\n",
       "      <th>MSE</th>\n",
       "    </tr>\n",
       "  </thead>\n",
       "  <tbody>\n",
       "    <tr>\n",
       "      <th>0</th>\n",
       "      <td>LinearRegression</td>\n",
       "      <td>247239.200261</td>\n",
       "    </tr>\n",
       "    <tr>\n",
       "      <th>1</th>\n",
       "      <td>RandomForestRegressor</td>\n",
       "      <td>129886.953610</td>\n",
       "    </tr>\n",
       "    <tr>\n",
       "      <th>2</th>\n",
       "      <td>DecisionTreeRegressor</td>\n",
       "      <td>210423.408268</td>\n",
       "    </tr>\n",
       "  </tbody>\n",
       "</table>\n",
       "</div>"
      ],
      "text/plain": [
       "                   Model            MSE\n",
       "0       LinearRegression  247239.200261\n",
       "1  RandomForestRegressor  129886.953610\n",
       "2  DecisionTreeRegressor  210423.408268"
      ]
     },
     "execution_count": 9,
     "metadata": {},
     "output_type": "execute_result"
    }
   ],
   "source": [
    "result"
   ]
  }
 ],
 "metadata": {
  "kernelspec": {
   "display_name": "rag_llm",
   "language": "python",
   "name": "rag_llm"
  },
  "language_info": {
   "codemirror_mode": {
    "name": "ipython",
    "version": 3
   },
   "file_extension": ".py",
   "mimetype": "text/x-python",
   "name": "python",
   "nbconvert_exporter": "python",
   "pygments_lexer": "ipython3",
   "version": "3.12.4"
  }
 },
 "nbformat": 4,
 "nbformat_minor": 4
}
