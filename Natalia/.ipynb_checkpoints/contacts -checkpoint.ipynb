{
 "cells": [
  {
   "cell_type": "markdown",
   "id": "8392265d",
   "metadata": {
    "toc": true
   },
   "source": [
    "<h1>Table of Contents<span class=\"tocSkip\"></span></h1>\n",
    "<div class=\"toc\"><ul class=\"toc-item\"></ul></div>"
   ]
  },
  {
   "cell_type": "code",
   "execution_count": 2,
   "id": "f97ec526",
   "metadata": {},
   "outputs": [
    {
     "data": {
      "text/html": [
       "<div>\n",
       "<style scoped>\n",
       "    .dataframe tbody tr th:only-of-type {\n",
       "        vertical-align: middle;\n",
       "    }\n",
       "\n",
       "    .dataframe tbody tr th {\n",
       "        vertical-align: top;\n",
       "    }\n",
       "\n",
       "    .dataframe thead th {\n",
       "        text-align: right;\n",
       "    }\n",
       "</style>\n",
       "<table border=\"1\" class=\"dataframe\">\n",
       "  <thead>\n",
       "    <tr style=\"text-align: right;\">\n",
       "      <th></th>\n",
       "      <th>Email</th>\n",
       "      <th>domain</th>\n",
       "      <th>Email Verified</th>\n",
       "      <th>Name</th>\n",
       "    </tr>\n",
       "  </thead>\n",
       "  <tbody>\n",
       "    <tr>\n",
       "      <th>0</th>\n",
       "      <td>josh.cope@caresource.com</td>\n",
       "      <td>caresource.com</td>\n",
       "      <td>False</td>\n",
       "      <td>NaN</td>\n",
       "    </tr>\n",
       "    <tr>\n",
       "      <th>1</th>\n",
       "      <td>tist@gmail.co</td>\n",
       "      <td>gmail.co</td>\n",
       "      <td>False</td>\n",
       "      <td>NaN</td>\n",
       "    </tr>\n",
       "    <tr>\n",
       "      <th>2</th>\n",
       "      <td>udi.vaks@hpindigo.co</td>\n",
       "      <td>hpindigo.co</td>\n",
       "      <td>False</td>\n",
       "      <td>NaN</td>\n",
       "    </tr>\n",
       "    <tr>\n",
       "      <th>3</th>\n",
       "      <td>bschloss@nuro.ai</td>\n",
       "      <td>nuro.ai</td>\n",
       "      <td>False</td>\n",
       "      <td>NaN</td>\n",
       "    </tr>\n",
       "    <tr>\n",
       "      <th>4</th>\n",
       "      <td>bugsec@pussport.com</td>\n",
       "      <td>pussport.com</td>\n",
       "      <td>False</td>\n",
       "      <td>NaN</td>\n",
       "    </tr>\n",
       "  </tbody>\n",
       "</table>\n",
       "</div>"
      ],
      "text/plain": [
       "                     Email           domain  Email Verified Name\n",
       "0  josh.cope@caresource.com  caresource.com           False  NaN\n",
       "1             tist@gmail.co        gmail.co           False  NaN\n",
       "2      udi.vaks@hpindigo.co     hpindigo.co           False  NaN\n",
       "3          bschloss@nuro.ai         nuro.ai           False  NaN\n",
       "4       bugsec@pussport.com    pussport.com           False  NaN"
      ]
     },
     "execution_count": 2,
     "metadata": {},
     "output_type": "execute_result"
    }
   ],
   "source": [
    "import pandas as pd\n",
    "\n",
    "# List of company names\n",
    "company_names = ['invora.com', 'jujesai.com', 'ritulis.com', 'opeborder.com', 'dell.com']  # Update this list as needed\n",
    "\n",
    "# Read the email data\n",
    "emails_df = pd.read_excel('domain.xlsx')  # Replace 'emails.xlsx' with the actual filename\n",
    "\n",
    "emails_df.head()"
   ]
  },
  {
   "cell_type": "code",
   "execution_count": 9,
   "id": "aca62000",
   "metadata": {},
   "outputs": [],
   "source": [
    "def extract_domain(email):\n",
    "    try:\n",
    "        return email.split('@')[1]\n",
    "    except IndexError:\n",
    "        return None  # Return None or some default value if the email doesn't have a domain part\n"
   ]
  },
  {
   "cell_type": "code",
   "execution_count": 14,
   "id": "a284f534",
   "metadata": {},
   "outputs": [
    {
     "name": "stderr",
     "output_type": "stream",
     "text": [
      "/var/folders/5n/0f08qyqx3lz3dhj56hqhtlfc0000gn/T/ipykernel_16926/285072691.py:6: SettingWithCopyWarning: \n",
      "A value is trying to be set on a copy of a slice from a DataFrame.\n",
      "Try using .loc[row_indexer,col_indexer] = value instead\n",
      "\n",
      "See the caveats in the documentation: https://pandas.pydata.org/pandas-docs/stable/user_guide/indexing.html#returning-a-view-versus-a-copy\n",
      "  matched_emails['company'] = company\n",
      "/var/folders/5n/0f08qyqx3lz3dhj56hqhtlfc0000gn/T/ipykernel_16926/285072691.py:7: FutureWarning: The frame.append method is deprecated and will be removed from pandas in a future version. Use pandas.concat instead.\n",
      "  matched_emails_df = matched_emails_df.append(matched_emails, ignore_index=True)\n",
      "/var/folders/5n/0f08qyqx3lz3dhj56hqhtlfc0000gn/T/ipykernel_16926/285072691.py:7: FutureWarning: The frame.append method is deprecated and will be removed from pandas in a future version. Use pandas.concat instead.\n",
      "  matched_emails_df = matched_emails_df.append(matched_emails, ignore_index=True)\n",
      "/var/folders/5n/0f08qyqx3lz3dhj56hqhtlfc0000gn/T/ipykernel_16926/285072691.py:7: FutureWarning: In a future version, object-dtype columns with all-bool values will not be included in reductions with bool_only=True. Explicitly cast to bool dtype instead.\n",
      "  matched_emails_df = matched_emails_df.append(matched_emails, ignore_index=True)\n",
      "/var/folders/5n/0f08qyqx3lz3dhj56hqhtlfc0000gn/T/ipykernel_16926/285072691.py:6: SettingWithCopyWarning: \n",
      "A value is trying to be set on a copy of a slice from a DataFrame.\n",
      "Try using .loc[row_indexer,col_indexer] = value instead\n",
      "\n",
      "See the caveats in the documentation: https://pandas.pydata.org/pandas-docs/stable/user_guide/indexing.html#returning-a-view-versus-a-copy\n",
      "  matched_emails['company'] = company\n",
      "/var/folders/5n/0f08qyqx3lz3dhj56hqhtlfc0000gn/T/ipykernel_16926/285072691.py:7: FutureWarning: The frame.append method is deprecated and will be removed from pandas in a future version. Use pandas.concat instead.\n",
      "  matched_emails_df = matched_emails_df.append(matched_emails, ignore_index=True)\n",
      "/var/folders/5n/0f08qyqx3lz3dhj56hqhtlfc0000gn/T/ipykernel_16926/285072691.py:7: FutureWarning: In a future version, object-dtype columns with all-bool values will not be included in reductions with bool_only=True. Explicitly cast to bool dtype instead.\n",
      "  matched_emails_df = matched_emails_df.append(matched_emails, ignore_index=True)\n",
      "/var/folders/5n/0f08qyqx3lz3dhj56hqhtlfc0000gn/T/ipykernel_16926/285072691.py:6: SettingWithCopyWarning: \n",
      "A value is trying to be set on a copy of a slice from a DataFrame.\n",
      "Try using .loc[row_indexer,col_indexer] = value instead\n",
      "\n",
      "See the caveats in the documentation: https://pandas.pydata.org/pandas-docs/stable/user_guide/indexing.html#returning-a-view-versus-a-copy\n",
      "  matched_emails['company'] = company\n",
      "/var/folders/5n/0f08qyqx3lz3dhj56hqhtlfc0000gn/T/ipykernel_16926/285072691.py:7: FutureWarning: The frame.append method is deprecated and will be removed from pandas in a future version. Use pandas.concat instead.\n",
      "  matched_emails_df = matched_emails_df.append(matched_emails, ignore_index=True)\n",
      "/var/folders/5n/0f08qyqx3lz3dhj56hqhtlfc0000gn/T/ipykernel_16926/285072691.py:7: FutureWarning: In a future version, object-dtype columns with all-bool values will not be included in reductions with bool_only=True. Explicitly cast to bool dtype instead.\n",
      "  matched_emails_df = matched_emails_df.append(matched_emails, ignore_index=True)\n"
     ]
    }
   ],
   "source": [
    "\n",
    "# List of domains to filter by\n",
    "domain_list = ['caresource.com', 'hsindigo.com', 'luro.ai']  # Update this list as needed\n",
    "\n",
    "# Function to check if any of the domain_list items is in the email domain\n",
    "def check_domain(email):\n",
    "    domain = email.split('@')[-1]\n",
    "    return any(domain == d for d in domain_list)\n",
    "\n",
    "# Read the Excel file\n",
    "df = pd.read_excel('path_to_your_file.xlsx')  # Replace with the path to your Excel file\n",
    "\n",
    "# Apply the check_domain function to filter emails\n",
    "filtered_df = df[df['Email'].apply(check_domain)]\n",
    "\n",
    "# Select only the required columns\n",
    "result_df = filtered_df[['Email', 'Created At', 'Last Seen At']]\n",
    "\n",
    "# Write the result to a new Excel file\n",
    "result_df.to_excel('filtered_emails.xlsx', index=False)"
   ]
  },
  {
   "cell_type": "code",
   "execution_count": null,
   "id": "70331eee",
   "metadata": {},
   "outputs": [],
   "source": []
  }
 ],
 "metadata": {
  "kernelspec": {
   "display_name": "Python 3 (ipykernel)",
   "language": "python",
   "name": "python3"
  },
  "language_info": {
   "codemirror_mode": {
    "name": "ipython",
    "version": 3
   },
   "file_extension": ".py",
   "mimetype": "text/x-python",
   "name": "python",
   "nbconvert_exporter": "python",
   "pygments_lexer": "ipython3",
   "version": "3.9.15"
  },
  "toc": {
   "base_numbering": 1,
   "nav_menu": {},
   "number_sections": false,
   "sideBar": true,
   "skip_h1_title": true,
   "title_cell": "Table of Contents",
   "title_sidebar": "Contents",
   "toc_cell": true,
   "toc_position": {},
   "toc_section_display": true,
   "toc_window_display": false
  }
 },
 "nbformat": 4,
 "nbformat_minor": 5
}
