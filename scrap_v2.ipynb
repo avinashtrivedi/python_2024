{
 "cells": [
  {
   "cell_type": "code",
   "execution_count": 16,
   "id": "bfce3ad2",
   "metadata": {},
   "outputs": [],
   "source": [
    "from bs4 import BeautifulSoup\n",
    "import urllib3\n",
    "import pandas as pd\n",
    "from tqdm.notebook import tqdm"
   ]
  },
  {
   "cell_type": "code",
   "execution_count": 6,
   "id": "c0270d35",
   "metadata": {},
   "outputs": [],
   "source": [
    "def get_html(url):\n",
    "    http = urllib3.PoolManager()\n",
    "    \n",
    "    # request the url and get sucess/failure response\n",
    "    response = http.request('GET', url,headers = {'User-agent': 'your bot 0.1'})\n",
    "    \n",
    "    # get html data\n",
    "    soup = BeautifulSoup(response.data)\n",
    "    \n",
    "    # return html code and sucess/failure status\n",
    "    return soup,response.status"
   ]
  },
  {
   "cell_type": "code",
   "execution_count": 7,
   "id": "24fdfe7f",
   "metadata": {},
   "outputs": [],
   "source": [
    "# get the total number of pages\n",
    "def get_last_page_num(link):\n",
    "    soup, status = get_html(link)\n",
    "    \n",
    "    # find all <a> tag with data-page attribute\n",
    "    page_links = soup.find_all('a', {'data-page': True})\n",
    "\n",
    "    page_numbers = [int(link['data-page']) for link in page_links]\n",
    "    \n",
    "    # get Max page number \n",
    "    last_page_number = max(page_numbers) if page_numbers else None\n",
    "    return last_page_number"
   ]
  },
  {
   "cell_type": "code",
   "execution_count": 8,
   "id": "6baecb0f",
   "metadata": {},
   "outputs": [
    {
     "data": {
      "application/vnd.jupyter.widget-view+json": {
       "model_id": "c69f8ad0be3c4cf9b44ca40107eb8b4a",
       "version_major": 2,
       "version_minor": 0
      },
      "text/plain": [
       "  0%|          | 0/5 [00:00<?, ?it/s]"
      ]
     },
     "metadata": {},
     "output_type": "display_data"
    },
    {
     "name": "stdout",
     "output_type": "stream",
     "text": [
      "politik -> 50\n"
     ]
    },
    {
     "data": {
      "application/vnd.jupyter.widget-view+json": {
       "model_id": "e4d37a7f745e44cfacd17dc94bdcb6da",
       "version_major": 2,
       "version_minor": 0
      },
      "text/plain": [
       "  0%|          | 0/50 [00:00<?, ?it/s]"
      ]
     },
     "metadata": {},
     "output_type": "display_data"
    },
    {
     "name": "stdout",
     "output_type": "stream",
     "text": [
      "wirtschaft -> 52\n"
     ]
    },
    {
     "data": {
      "application/vnd.jupyter.widget-view+json": {
       "model_id": "c8a22caf07074a4fb947f8e0f88a3d5d",
       "version_major": 2,
       "version_minor": 0
      },
      "text/plain": [
       "  0%|          | 0/52 [00:00<?, ?it/s]"
      ]
     },
     "metadata": {},
     "output_type": "display_data"
    },
    {
     "name": "stdout",
     "output_type": "stream",
     "text": [
      "sport -> 69\n"
     ]
    },
    {
     "data": {
      "application/vnd.jupyter.widget-view+json": {
       "model_id": "a394b91256924c579e7b3f8e7992a1d7",
       "version_major": 2,
       "version_minor": 0
      },
      "text/plain": [
       "  0%|          | 0/69 [00:00<?, ?it/s]"
      ]
     },
     "metadata": {},
     "output_type": "display_data"
    },
    {
     "name": "stdout",
     "output_type": "stream",
     "text": [
      "wissen -> 11\n"
     ]
    },
    {
     "data": {
      "application/vnd.jupyter.widget-view+json": {
       "model_id": "4e545181cce048eea728b68db15bc455",
       "version_major": 2,
       "version_minor": 0
      },
      "text/plain": [
       "  0%|          | 0/11 [00:00<?, ?it/s]"
      ]
     },
     "metadata": {},
     "output_type": "display_data"
    },
    {
     "name": "stdout",
     "output_type": "stream",
     "text": [
      "kultur -> 14\n"
     ]
    },
    {
     "data": {
      "application/vnd.jupyter.widget-view+json": {
       "model_id": "40d7a2a27de84c21a4b297d6f4ac79f4",
       "version_major": 2,
       "version_minor": 0
      },
      "text/plain": [
       "  0%|          | 0/14 [00:00<?, ?it/s]"
      ]
     },
     "metadata": {},
     "output_type": "display_data"
    }
   ],
   "source": [
    "month = 1\n",
    "topics = ['politik', 'wirtschaft', 'sport', 'wissen','kultur']\n",
    "link_dict = {key: [] for key in topics}\n",
    "year = 2023\n",
    "\n",
    "for topic in tqdm(topics):\n",
    "    baseUrl = f'https://www.sueddeutsche.de/archiv/{topic}/{year}/{month}'\n",
    "    \n",
    "    # get last page number or total number of pages for a specific topic , year and month\n",
    "    last_page = get_last_page_num(baseUrl)\n",
    "    print(topic,'->',last_page)\n",
    "    \n",
    "    # tqdm is for progress bar to track for loop\n",
    "    # this loop will get all news link on all pages\n",
    "    for page in tqdm(range(1,last_page+1)):\n",
    "        url = f\"https://www.sueddeutsche.de/archiv/{topic}/{year}/{month}/page/{page}\"\n",
    "        soup,status = get_html(url)\n",
    "        if status==200:\n",
    "            \n",
    "            # check for <a> tag with class id entrylist__link, it refers to news link\n",
    "            links = soup.find_all('a', class_='entrylist__link')\n",
    "            for link in links:\n",
    "                \n",
    "                # get weblink\n",
    "                href = link.get('href')\n",
    "                \n",
    "                # store links in dictionary, where key is topic\n",
    "                link_dict[topic].append(href)\n",
    "        else:\n",
    "            print('failed')"
   ]
  },
  {
   "cell_type": "code",
   "execution_count": 11,
   "id": "dac1ec23",
   "metadata": {},
   "outputs": [
    {
     "name": "stderr",
     "output_type": "stream",
     "text": [
      " 88%|██████████████████████████████████████████████████████████████████▎        | 8413/9517 [14:28<02:33,  7.17it/s]"
     ]
    },
    {
     "name": "stdout",
     "output_type": "stream",
     "text": [
      "Failed-> 404 https://sz-magazin.de/gletscher\n"
     ]
    },
    {
     "name": "stderr",
     "output_type": "stream",
     "text": [
      "100%|███████████████████████████████████████████████████████████████████████████| 9517/9517 [16:28<00:00,  9.63it/s]\n"
     ]
    }
   ],
   "source": [
    "# dataframe to store all the information\n",
    "df = pd.DataFrame([],columns=['Url','Topic','Publish Date','Author','Title','Teaser','News'])\n",
    "\n",
    "# iterate through each topic\n",
    "for topic,all_links in tqdm(link_dict.items()):\n",
    "    \n",
    "    # iterate through each new link of specific topic\n",
    "    for link in tqdm(all_links):\n",
    "        soup, status = get_html(link)\n",
    "        if status==200:\n",
    "            \n",
    "            # get news, where <p> tag where data-manual attribute is paragraph\n",
    "            paragraphs = soup.find_all('p', {'data-manual': 'paragraph'})\n",
    "            \n",
    "            # concatenate all the paragraphs to get a complete news\n",
    "            news = ''\n",
    "            for paragraph in paragraphs:\n",
    "                news = news + '\\n' +paragraph.get_text(strip=True)\n",
    "\n",
    "            # strip will remove all trailing spaces/newline\n",
    "            news = news.strip()\n",
    "            \n",
    "            # get all free article\n",
    "            element = soup.find('div', {'id': 'taboola-feed-below-article', 'data-paycategory': 'free'})\n",
    "            \n",
    "            # store data only if article is free\n",
    "            if element:\n",
    "                \n",
    "                # get author, title, teaser and publishdate\n",
    "                data_authors = element.get('data-authors')\n",
    "                data_teaser = element.get('data-teaser')\n",
    "                data_title = element.get('data-title')\n",
    "                data_publishdate = element.get('data-publishdate')\n",
    "\n",
    "                df.loc[len(df)] = [link,topic,data_publishdate,data_authors,data_title,data_teaser,news]\n",
    "            else:\n",
    "                pass\n",
    "#                 print(\"Paid news\",link)       \n",
    "        else:\n",
    "            print('Failed->',status,link)"
   ]
  },
  {
   "cell_type": "code",
   "execution_count": 12,
   "id": "b335b013",
   "metadata": {},
   "outputs": [
    {
     "data": {
      "text/plain": [
       "(7425, 7)"
      ]
     },
     "execution_count": 12,
     "metadata": {},
     "output_type": "execute_result"
    }
   ],
   "source": [
    "df.shape"
   ]
  },
  {
   "cell_type": "code",
   "execution_count": 14,
   "id": "9dfc2a3b",
   "metadata": {},
   "outputs": [],
   "source": [
    "df.to_csv('all_news.csv',index=False)"
   ]
  },
  {
   "cell_type": "markdown",
   "id": "b66d0a61",
   "metadata": {},
   "source": [
    "# dont run the entire code in ur system, just use csv file"
   ]
  },
  {
   "cell_type": "code",
   "execution_count": 56,
   "id": "c93b96f5",
   "metadata": {},
   "outputs": [],
   "source": [
    "import pandas as pd\n",
    "from tqdm.notebook import tqdm\n",
    "tqdm.pandas()\n",
    "df = pd.read_csv('all_news.csv')"
   ]
  },
  {
   "cell_type": "code",
   "execution_count": 35,
   "id": "60075fe6",
   "metadata": {},
   "outputs": [
    {
     "data": {
      "text/html": [
       "<div>\n",
       "<style scoped>\n",
       "    .dataframe tbody tr th:only-of-type {\n",
       "        vertical-align: middle;\n",
       "    }\n",
       "\n",
       "    .dataframe tbody tr th {\n",
       "        vertical-align: top;\n",
       "    }\n",
       "\n",
       "    .dataframe thead th {\n",
       "        text-align: right;\n",
       "    }\n",
       "</style>\n",
       "<table border=\"1\" class=\"dataframe\">\n",
       "  <thead>\n",
       "    <tr style=\"text-align: right;\">\n",
       "      <th></th>\n",
       "      <th>Url</th>\n",
       "      <th>Topic</th>\n",
       "      <th>Publish Date</th>\n",
       "      <th>Author</th>\n",
       "      <th>Title</th>\n",
       "      <th>Teaser</th>\n",
       "      <th>News</th>\n",
       "    </tr>\n",
       "  </thead>\n",
       "  <tbody>\n",
       "    <tr>\n",
       "      <th>0</th>\n",
       "      <td>https://www.sueddeutsche.de/politik/wirtschaft...</td>\n",
       "      <td>politik</td>\n",
       "      <td>2023-01-30 18:59:16</td>\n",
       "      <td>Direkt aus dem dpa-Newskanal</td>\n",
       "      <td>Kampf um Industrie: Bedarf an 477-Milliarden p...</td>\n",
       "      <td>Um die Klimaziele in Europa einhalten zu könne...</td>\n",
       "      <td>Brüssel (dpa) - Im Wettbewerb um klimafreundli...</td>\n",
       "    </tr>\n",
       "    <tr>\n",
       "      <th>1</th>\n",
       "      <td>https://www.sueddeutsche.de/politik/steuern-fr...</td>\n",
       "      <td>politik</td>\n",
       "      <td>2023-01-30 18:21:11</td>\n",
       "      <td>Direkt aus dem dpa-Newskanal</td>\n",
       "      <td>Frist bei Grundsteuer läuft ab</td>\n",
       "      <td>Nur noch bis Dienstag haben Immobilienbesitzer...</td>\n",
       "      <td>Berlin (dpa) - Kurz vor dem Ende der Abgabefri...</td>\n",
       "    </tr>\n",
       "    <tr>\n",
       "      <th>2</th>\n",
       "      <td>https://www.sueddeutsche.de/politik/konflikte-...</td>\n",
       "      <td>politik</td>\n",
       "      <td>2023-01-30 20:32:11</td>\n",
       "      <td>Von Carsten Hoffmann und Michael Fischer, dpa</td>\n",
       "      <td>Scholz und Pistorius gegen Debatte um Kampfflu...</td>\n",
       "      <td>Sind Kampfflugzeuge der nächste Schritt nach d...</td>\n",
       "      <td>Schwielowsee/Santiago (dpa) - Bundeskanzler Ol...</td>\n",
       "    </tr>\n",
       "    <tr>\n",
       "      <th>3</th>\n",
       "      <td>https://www.sueddeutsche.de/politik/konflikte-...</td>\n",
       "      <td>politik</td>\n",
       "      <td>2023-01-30 19:53:51</td>\n",
       "      <td>Direkt aus dem dpa-Newskanal</td>\n",
       "      <td>Krieg gegen die Ukraine: So ist die Lage</td>\n",
       "      <td>In ungewöhnlich deutlicher Form macht China di...</td>\n",
       "      <td>Peking/Kiew/Santiago de Chile (dpa) -Chinahat ...</td>\n",
       "    </tr>\n",
       "    <tr>\n",
       "      <th>4</th>\n",
       "      <td>https://www.sueddeutsche.de/politik/politik-fa...</td>\n",
       "      <td>politik</td>\n",
       "      <td>2023-01-30 20:07:55</td>\n",
       "      <td>Direkt aus dem dpa-Newskanal</td>\n",
       "      <td>Faeser bleibt als hessische SPD-Spitzenkandida...</td>\n",
       "      <td>Am Freitag will sich Faeser erklären, ob sie a...</td>\n",
       "      <td>Berlin/Wiesbaden (dpa) -Nancy Faeserwird einem...</td>\n",
       "    </tr>\n",
       "    <tr>\n",
       "      <th>...</th>\n",
       "      <td>...</td>\n",
       "      <td>...</td>\n",
       "      <td>...</td>\n",
       "      <td>...</td>\n",
       "      <td>...</td>\n",
       "      <td>...</td>\n",
       "      <td>...</td>\n",
       "    </tr>\n",
       "    <tr>\n",
       "      <th>7420</th>\n",
       "      <td>https://www.sueddeutsche.de/kultur/musik-wien-...</td>\n",
       "      <td>kultur</td>\n",
       "      <td>2023-01-01 13:07:17</td>\n",
       "      <td>Direkt aus dem dpa-Newskanal</td>\n",
       "      <td>Thielemann dirigiert nächstes Wiener Neujahrsk...</td>\n",
       "      <td>NaN</td>\n",
       "      <td>Wien (dpa) - Christian Thielemann (63) soll im...</td>\n",
       "    </tr>\n",
       "    <tr>\n",
       "      <th>7421</th>\n",
       "      <td>https://www.sueddeutsche.de/kultur/musik-danie...</td>\n",
       "      <td>kultur</td>\n",
       "      <td>2023-01-01 11:32:44</td>\n",
       "      <td>Direkt aus dem dpa-Newskanal</td>\n",
       "      <td>Daniel Barenboin zurück am Dirigentenpult</td>\n",
       "      <td>Nach langer Krankheit hat die Staatsoper Unter...</td>\n",
       "      <td>Berlin(dpa) - Der lange Zeit erkrankte Daniel ...</td>\n",
       "    </tr>\n",
       "    <tr>\n",
       "      <th>7422</th>\n",
       "      <td>https://www.sueddeutsche.de/kultur/musik-berli...</td>\n",
       "      <td>kultur</td>\n",
       "      <td>2023-01-01 11:26:27</td>\n",
       "      <td>Direkt aus dem dpa-Newskanal</td>\n",
       "      <td>Anhaltende Ovationen für Barenboim</td>\n",
       "      <td>Nach langer Krankheit hat die Staatsoper Unter...</td>\n",
       "      <td>Berlin(dpa) - Der lange Zeit erkrankte Daniel ...</td>\n",
       "    </tr>\n",
       "    <tr>\n",
       "      <th>7423</th>\n",
       "      <td>https://www.sueddeutsche.de/kultur/denkmaeler-...</td>\n",
       "      <td>kultur</td>\n",
       "      <td>2023-01-01 11:07:53</td>\n",
       "      <td>Direkt aus dem dpa-Newskanal</td>\n",
       "      <td>Landrätin: Eine der ältesten Ahr-Brücken ans U...</td>\n",
       "      <td>Die Nepomuk-Brücke gilt als Sinnbild der tödli...</td>\n",
       "      <td>Rech (dpa/lrs) - Im Streit um den wohl besiege...</td>\n",
       "    </tr>\n",
       "    <tr>\n",
       "      <th>7424</th>\n",
       "      <td>https://www.sueddeutsche.de/kultur/kultur-grun...</td>\n",
       "      <td>kultur</td>\n",
       "      <td>2023-01-01 09:23:41</td>\n",
       "      <td>Von Mareike Graepel, dpa</td>\n",
       "      <td>Grundeinkommen für Irlands Künstler</td>\n",
       "      <td>Kunst und Kultur sind in Irland hoch angesehen...</td>\n",
       "      <td>Dublin (dpa) - Vereinzelt klimpern Münzen im H...</td>\n",
       "    </tr>\n",
       "  </tbody>\n",
       "</table>\n",
       "<p>7425 rows × 7 columns</p>\n",
       "</div>"
      ],
      "text/plain": [
       "                                                    Url    Topic  \\\n",
       "0     https://www.sueddeutsche.de/politik/wirtschaft...  politik   \n",
       "1     https://www.sueddeutsche.de/politik/steuern-fr...  politik   \n",
       "2     https://www.sueddeutsche.de/politik/konflikte-...  politik   \n",
       "3     https://www.sueddeutsche.de/politik/konflikte-...  politik   \n",
       "4     https://www.sueddeutsche.de/politik/politik-fa...  politik   \n",
       "...                                                 ...      ...   \n",
       "7420  https://www.sueddeutsche.de/kultur/musik-wien-...   kultur   \n",
       "7421  https://www.sueddeutsche.de/kultur/musik-danie...   kultur   \n",
       "7422  https://www.sueddeutsche.de/kultur/musik-berli...   kultur   \n",
       "7423  https://www.sueddeutsche.de/kultur/denkmaeler-...   kultur   \n",
       "7424  https://www.sueddeutsche.de/kultur/kultur-grun...   kultur   \n",
       "\n",
       "             Publish Date                                         Author  \\\n",
       "0     2023-01-30 18:59:16                   Direkt aus dem dpa-Newskanal   \n",
       "1     2023-01-30 18:21:11                   Direkt aus dem dpa-Newskanal   \n",
       "2     2023-01-30 20:32:11  Von Carsten Hoffmann und Michael Fischer, dpa   \n",
       "3     2023-01-30 19:53:51                   Direkt aus dem dpa-Newskanal   \n",
       "4     2023-01-30 20:07:55                   Direkt aus dem dpa-Newskanal   \n",
       "...                   ...                                            ...   \n",
       "7420  2023-01-01 13:07:17                   Direkt aus dem dpa-Newskanal   \n",
       "7421  2023-01-01 11:32:44                   Direkt aus dem dpa-Newskanal   \n",
       "7422  2023-01-01 11:26:27                   Direkt aus dem dpa-Newskanal   \n",
       "7423  2023-01-01 11:07:53                   Direkt aus dem dpa-Newskanal   \n",
       "7424  2023-01-01 09:23:41                       Von Mareike Graepel, dpa   \n",
       "\n",
       "                                                  Title  \\\n",
       "0     Kampf um Industrie: Bedarf an 477-Milliarden p...   \n",
       "1                       Frist bei Grundsteuer läuft ab    \n",
       "2     Scholz und Pistorius gegen Debatte um Kampfflu...   \n",
       "3              Krieg gegen die Ukraine: So ist die Lage   \n",
       "4     Faeser bleibt als hessische SPD-Spitzenkandida...   \n",
       "...                                                 ...   \n",
       "7420  Thielemann dirigiert nächstes Wiener Neujahrsk...   \n",
       "7421         Daniel Barenboin zurück am Dirigentenpult    \n",
       "7422                 Anhaltende Ovationen für Barenboim   \n",
       "7423  Landrätin: Eine der ältesten Ahr-Brücken ans U...   \n",
       "7424                Grundeinkommen für Irlands Künstler   \n",
       "\n",
       "                                                 Teaser  \\\n",
       "0     Um die Klimaziele in Europa einhalten zu könne...   \n",
       "1     Nur noch bis Dienstag haben Immobilienbesitzer...   \n",
       "2     Sind Kampfflugzeuge der nächste Schritt nach d...   \n",
       "3     In ungewöhnlich deutlicher Form macht China di...   \n",
       "4     Am Freitag will sich Faeser erklären, ob sie a...   \n",
       "...                                                 ...   \n",
       "7420                                                NaN   \n",
       "7421  Nach langer Krankheit hat die Staatsoper Unter...   \n",
       "7422  Nach langer Krankheit hat die Staatsoper Unter...   \n",
       "7423  Die Nepomuk-Brücke gilt als Sinnbild der tödli...   \n",
       "7424  Kunst und Kultur sind in Irland hoch angesehen...   \n",
       "\n",
       "                                                   News  \n",
       "0     Brüssel (dpa) - Im Wettbewerb um klimafreundli...  \n",
       "1     Berlin (dpa) - Kurz vor dem Ende der Abgabefri...  \n",
       "2     Schwielowsee/Santiago (dpa) - Bundeskanzler Ol...  \n",
       "3     Peking/Kiew/Santiago de Chile (dpa) -Chinahat ...  \n",
       "4     Berlin/Wiesbaden (dpa) -Nancy Faeserwird einem...  \n",
       "...                                                 ...  \n",
       "7420  Wien (dpa) - Christian Thielemann (63) soll im...  \n",
       "7421  Berlin(dpa) - Der lange Zeit erkrankte Daniel ...  \n",
       "7422  Berlin(dpa) - Der lange Zeit erkrankte Daniel ...  \n",
       "7423  Rech (dpa/lrs) - Im Streit um den wohl besiege...  \n",
       "7424  Dublin (dpa) - Vereinzelt klimpern Münzen im H...  \n",
       "\n",
       "[7425 rows x 7 columns]"
      ]
     },
     "execution_count": 35,
     "metadata": {},
     "output_type": "execute_result"
    }
   ],
   "source": [
    "df"
   ]
  },
  {
   "cell_type": "code",
   "execution_count": 36,
   "id": "74ce68aa",
   "metadata": {},
   "outputs": [
    {
     "data": {
      "text/html": [
       "<div>\n",
       "<style scoped>\n",
       "    .dataframe tbody tr th:only-of-type {\n",
       "        vertical-align: middle;\n",
       "    }\n",
       "\n",
       "    .dataframe tbody tr th {\n",
       "        vertical-align: top;\n",
       "    }\n",
       "\n",
       "    .dataframe thead th {\n",
       "        text-align: right;\n",
       "    }\n",
       "</style>\n",
       "<table border=\"1\" class=\"dataframe\">\n",
       "  <thead>\n",
       "    <tr style=\"text-align: right;\">\n",
       "      <th></th>\n",
       "      <th>Url</th>\n",
       "      <th>Topic</th>\n",
       "      <th>Publish Date</th>\n",
       "      <th>Author</th>\n",
       "      <th>Title</th>\n",
       "      <th>Teaser</th>\n",
       "      <th>News</th>\n",
       "    </tr>\n",
       "  </thead>\n",
       "  <tbody>\n",
       "    <tr>\n",
       "      <th>9</th>\n",
       "      <td>https://www.sueddeutsche.de/politik/parteien-h...</td>\n",
       "      <td>politik</td>\n",
       "      <td>2023-01-30 16:45:07</td>\n",
       "      <td>Direkt aus dem dpa-Newskanal</td>\n",
       "      <td>Bildungspolitik beschäftigt die Hamburger CDU</td>\n",
       "      <td>NaN</td>\n",
       "      <td>Hamburg(dpa/lno) - Die Bildungspolitik steht h...</td>\n",
       "    </tr>\n",
       "    <tr>\n",
       "      <th>12</th>\n",
       "      <td>https://www.sueddeutsche.de/politik/landtag-er...</td>\n",
       "      <td>politik</td>\n",
       "      <td>2023-01-30 17:01:33</td>\n",
       "      <td>Direkt aus dem dpa-Newskanal</td>\n",
       "      <td>Landesregierung: Landtag diskutiert Personalen...</td>\n",
       "      <td>NaN</td>\n",
       "      <td>Erfurt (dpa/th) - Der ThüringerLandtagdiskutie...</td>\n",
       "    </tr>\n",
       "    <tr>\n",
       "      <th>13</th>\n",
       "      <td>https://www.sueddeutsche.de/politik/statistik-...</td>\n",
       "      <td>politik</td>\n",
       "      <td>2023-01-30 17:07:01</td>\n",
       "      <td>Direkt aus dem dpa-Newskanal</td>\n",
       "      <td>Sachsen-Anhalt: Anteil von Wiederholern wieder...</td>\n",
       "      <td>NaN</td>\n",
       "      <td>Magdeburg/Wiesbaden (dpa/sa) - Der Anteil der ...</td>\n",
       "    </tr>\n",
       "    <tr>\n",
       "      <th>14</th>\n",
       "      <td>https://www.sueddeutsche.de/politik/steuern-po...</td>\n",
       "      <td>politik</td>\n",
       "      <td>2023-01-30 16:42:29</td>\n",
       "      <td>Direkt aus dem dpa-Newskanal</td>\n",
       "      <td>Frist für die Abgabe der Grundsteuer-Erklärung...</td>\n",
       "      <td>NaN</td>\n",
       "      <td>Berlin/Potsdam(dpa/bb) - Für die neue Grundste...</td>\n",
       "    </tr>\n",
       "    <tr>\n",
       "      <th>15</th>\n",
       "      <td>https://www.sueddeutsche.de/politik/landtag-sc...</td>\n",
       "      <td>politik</td>\n",
       "      <td>2023-01-30 16:37:34</td>\n",
       "      <td>Direkt aus dem dpa-Newskanal</td>\n",
       "      <td>SPD-Landtagsfraktion startet dreitägige Winter...</td>\n",
       "      <td>NaN</td>\n",
       "      <td>Schwerin/Rostock (dpa/mv) - Die Sicherung der ...</td>\n",
       "    </tr>\n",
       "    <tr>\n",
       "      <th>...</th>\n",
       "      <td>...</td>\n",
       "      <td>...</td>\n",
       "      <td>...</td>\n",
       "      <td>...</td>\n",
       "      <td>...</td>\n",
       "      <td>...</td>\n",
       "      <td>...</td>\n",
       "    </tr>\n",
       "    <tr>\n",
       "      <th>7413</th>\n",
       "      <td>https://www.sueddeutsche.de/kultur/musik-leipz...</td>\n",
       "      <td>kultur</td>\n",
       "      <td>2023-01-02 08:43:08</td>\n",
       "      <td>Direkt aus dem dpa-Newskanal</td>\n",
       "      <td>Bewerbung zum Jazznachwuchspreis in Leipzig be...</td>\n",
       "      <td>NaN</td>\n",
       "      <td>Leipzig (dpa/sn) - Die Stadt Leipzig will auch...</td>\n",
       "    </tr>\n",
       "    <tr>\n",
       "      <th>7415</th>\n",
       "      <td>https://www.sueddeutsche.de/kultur/film-berlin...</td>\n",
       "      <td>kultur</td>\n",
       "      <td>2023-01-02 05:41:54</td>\n",
       "      <td>Direkt aus dem dpa-Newskanal</td>\n",
       "      <td>Berlinale-Leitung: Nach Festival über Zukunft ...</td>\n",
       "      <td>NaN</td>\n",
       "      <td>Berlin(dpa) - Das Leitungsduo derBerlinalewill...</td>\n",
       "    </tr>\n",
       "    <tr>\n",
       "      <th>7416</th>\n",
       "      <td>https://www.sueddeutsche.de/kultur/fotografie-...</td>\n",
       "      <td>kultur</td>\n",
       "      <td>2023-01-01 21:08:35</td>\n",
       "      <td>Direkt aus dem dpa-Newskanal</td>\n",
       "      <td>Bilder des Tages</td>\n",
       "      <td>NaN</td>\n",
       "      <td>© dpa-infocom, dpa:221231-99-66299/18</td>\n",
       "    </tr>\n",
       "    <tr>\n",
       "      <th>7419</th>\n",
       "      <td>https://www.sueddeutsche.de/kultur/kultur-pots...</td>\n",
       "      <td>kultur</td>\n",
       "      <td>2023-01-01 13:00:43</td>\n",
       "      <td>Direkt aus dem dpa-Newskanal</td>\n",
       "      <td>14 neue Stipendiaten für Wiepersdorf</td>\n",
       "      <td>NaN</td>\n",
       "      <td>Potsdam (dpa/bb) - In der Künstlerresidenz Wie...</td>\n",
       "    </tr>\n",
       "    <tr>\n",
       "      <th>7420</th>\n",
       "      <td>https://www.sueddeutsche.de/kultur/musik-wien-...</td>\n",
       "      <td>kultur</td>\n",
       "      <td>2023-01-01 13:07:17</td>\n",
       "      <td>Direkt aus dem dpa-Newskanal</td>\n",
       "      <td>Thielemann dirigiert nächstes Wiener Neujahrsk...</td>\n",
       "      <td>NaN</td>\n",
       "      <td>Wien (dpa) - Christian Thielemann (63) soll im...</td>\n",
       "    </tr>\n",
       "  </tbody>\n",
       "</table>\n",
       "<p>4477 rows × 7 columns</p>\n",
       "</div>"
      ],
      "text/plain": [
       "                                                    Url    Topic  \\\n",
       "9     https://www.sueddeutsche.de/politik/parteien-h...  politik   \n",
       "12    https://www.sueddeutsche.de/politik/landtag-er...  politik   \n",
       "13    https://www.sueddeutsche.de/politik/statistik-...  politik   \n",
       "14    https://www.sueddeutsche.de/politik/steuern-po...  politik   \n",
       "15    https://www.sueddeutsche.de/politik/landtag-sc...  politik   \n",
       "...                                                 ...      ...   \n",
       "7413  https://www.sueddeutsche.de/kultur/musik-leipz...   kultur   \n",
       "7415  https://www.sueddeutsche.de/kultur/film-berlin...   kultur   \n",
       "7416  https://www.sueddeutsche.de/kultur/fotografie-...   kultur   \n",
       "7419  https://www.sueddeutsche.de/kultur/kultur-pots...   kultur   \n",
       "7420  https://www.sueddeutsche.de/kultur/musik-wien-...   kultur   \n",
       "\n",
       "             Publish Date                        Author  \\\n",
       "9     2023-01-30 16:45:07  Direkt aus dem dpa-Newskanal   \n",
       "12    2023-01-30 17:01:33  Direkt aus dem dpa-Newskanal   \n",
       "13    2023-01-30 17:07:01  Direkt aus dem dpa-Newskanal   \n",
       "14    2023-01-30 16:42:29  Direkt aus dem dpa-Newskanal   \n",
       "15    2023-01-30 16:37:34  Direkt aus dem dpa-Newskanal   \n",
       "...                   ...                           ...   \n",
       "7413  2023-01-02 08:43:08  Direkt aus dem dpa-Newskanal   \n",
       "7415  2023-01-02 05:41:54  Direkt aus dem dpa-Newskanal   \n",
       "7416  2023-01-01 21:08:35  Direkt aus dem dpa-Newskanal   \n",
       "7419  2023-01-01 13:00:43  Direkt aus dem dpa-Newskanal   \n",
       "7420  2023-01-01 13:07:17  Direkt aus dem dpa-Newskanal   \n",
       "\n",
       "                                                  Title Teaser  \\\n",
       "9         Bildungspolitik beschäftigt die Hamburger CDU    NaN   \n",
       "12    Landesregierung: Landtag diskutiert Personalen...    NaN   \n",
       "13    Sachsen-Anhalt: Anteil von Wiederholern wieder...    NaN   \n",
       "14    Frist für die Abgabe der Grundsteuer-Erklärung...    NaN   \n",
       "15    SPD-Landtagsfraktion startet dreitägige Winter...    NaN   \n",
       "...                                                 ...    ...   \n",
       "7413  Bewerbung zum Jazznachwuchspreis in Leipzig be...    NaN   \n",
       "7415  Berlinale-Leitung: Nach Festival über Zukunft ...    NaN   \n",
       "7416                                   Bilder des Tages    NaN   \n",
       "7419              14 neue Stipendiaten für Wiepersdorf     NaN   \n",
       "7420  Thielemann dirigiert nächstes Wiener Neujahrsk...    NaN   \n",
       "\n",
       "                                                   News  \n",
       "9     Hamburg(dpa/lno) - Die Bildungspolitik steht h...  \n",
       "12    Erfurt (dpa/th) - Der ThüringerLandtagdiskutie...  \n",
       "13    Magdeburg/Wiesbaden (dpa/sa) - Der Anteil der ...  \n",
       "14    Berlin/Potsdam(dpa/bb) - Für die neue Grundste...  \n",
       "15    Schwerin/Rostock (dpa/mv) - Die Sicherung der ...  \n",
       "...                                                 ...  \n",
       "7413  Leipzig (dpa/sn) - Die Stadt Leipzig will auch...  \n",
       "7415  Berlin(dpa) - Das Leitungsduo derBerlinalewill...  \n",
       "7416              © dpa-infocom, dpa:221231-99-66299/18  \n",
       "7419  Potsdam (dpa/bb) - In der Künstlerresidenz Wie...  \n",
       "7420  Wien (dpa) - Christian Thielemann (63) soll im...  \n",
       "\n",
       "[4477 rows x 7 columns]"
      ]
     },
     "execution_count": 36,
     "metadata": {},
     "output_type": "execute_result"
    }
   ],
   "source": [
    "# filter NaN for Teaser\n",
    "\n",
    "df[df['Teaser'].isna()]"
   ]
  },
  {
   "cell_type": "code",
   "execution_count": 37,
   "id": "f1e2b05a",
   "metadata": {},
   "outputs": [
    {
     "data": {
      "text/html": [
       "<div>\n",
       "<style scoped>\n",
       "    .dataframe tbody tr th:only-of-type {\n",
       "        vertical-align: middle;\n",
       "    }\n",
       "\n",
       "    .dataframe tbody tr th {\n",
       "        vertical-align: top;\n",
       "    }\n",
       "\n",
       "    .dataframe thead th {\n",
       "        text-align: right;\n",
       "    }\n",
       "</style>\n",
       "<table border=\"1\" class=\"dataframe\">\n",
       "  <thead>\n",
       "    <tr style=\"text-align: right;\">\n",
       "      <th></th>\n",
       "      <th>Url</th>\n",
       "      <th>Topic</th>\n",
       "      <th>Publish Date</th>\n",
       "      <th>Author</th>\n",
       "      <th>Title</th>\n",
       "      <th>Teaser</th>\n",
       "      <th>News</th>\n",
       "    </tr>\n",
       "  </thead>\n",
       "  <tbody>\n",
       "    <tr>\n",
       "      <th>149</th>\n",
       "      <td>https://www.sueddeutsche.de/politik/sz-oesterr...</td>\n",
       "      <td>politik</td>\n",
       "      <td>2023-01-27 15:47:37</td>\n",
       "      <td>NaN</td>\n",
       "      <td>Vielen Dank, dass Sie an der Abstimmung teilge...</td>\n",
       "      <td>NaN</td>\n",
       "      <td>Wir freuen uns, wenn Sie den Österreich-Newsle...</td>\n",
       "    </tr>\n",
       "    <tr>\n",
       "      <th>1254</th>\n",
       "      <td>https://www.sueddeutsche.de/politik/iran-hinri...</td>\n",
       "      <td>politik</td>\n",
       "      <td>2023-01-08 17:36:40</td>\n",
       "      <td>NaN</td>\n",
       "      <td>Kritik nach Hinrichtungen</td>\n",
       "      <td>Nach der Exekution zweier Männer am Samstag we...</td>\n",
       "      <td>Die Hinrichtung zweier weiterer Demonstranten ...</td>\n",
       "    </tr>\n",
       "    <tr>\n",
       "      <th>1341</th>\n",
       "      <td>https://www.sueddeutsche.de/politik/oesterreic...</td>\n",
       "      <td>politik</td>\n",
       "      <td>2023-01-06 11:32:30</td>\n",
       "      <td>NaN</td>\n",
       "      <td>Ruhiges Fahrwasser und Rechtsstaatlichkeit</td>\n",
       "      <td>Welche Wünsche, Erwartungen und Gedanken Leser...</td>\n",
       "      <td>ImÖsterreich-Newsletter vom 30. Dezember 2022s...</td>\n",
       "    </tr>\n",
       "    <tr>\n",
       "      <th>6715</th>\n",
       "      <td>https://www.sueddeutsche.de/wissen/hiv-impfsto...</td>\n",
       "      <td>wissen</td>\n",
       "      <td>2023-01-19 15:16:46</td>\n",
       "      <td>NaN</td>\n",
       "      <td>HIV-Impfstoff schützt nicht wie erhofft</td>\n",
       "      <td>Große Erwartungen lagen auf dem Impfstoffkandi...</td>\n",
       "      <td>Ein besonders aussichtsreicher Impfstoffkandid...</td>\n",
       "    </tr>\n",
       "    <tr>\n",
       "      <th>6830</th>\n",
       "      <td>https://www.sueddeutsche.de/wissen/klimakrise-...</td>\n",
       "      <td>wissen</td>\n",
       "      <td>2023-01-12 16:17:59</td>\n",
       "      <td>NaN</td>\n",
       "      <td>Die vergangenen acht Jahre waren die wärmsten ...</td>\n",
       "      <td>Das geht aus einer Auswertung der Weltwetteror...</td>\n",
       "      <td>Die vergangenen acht Jahre waren laut einer Au...</td>\n",
       "    </tr>\n",
       "    <tr>\n",
       "      <th>6832</th>\n",
       "      <td>https://www.sueddeutsche.de/wissen/erdgeschich...</td>\n",
       "      <td>wissen</td>\n",
       "      <td>2023-01-12 16:15:33</td>\n",
       "      <td>NaN</td>\n",
       "      <td>Blüte in Bernstein</td>\n",
       "      <td>Wie sah die Erde vor Millionen Jahren aus? Sel...</td>\n",
       "      <td>Millionen Jahre alt, sehr groß und mit mehrere...</td>\n",
       "    </tr>\n",
       "    <tr>\n",
       "      <th>6927</th>\n",
       "      <td>https://www.sueddeutsche.de/wissen/gletscher-s...</td>\n",
       "      <td>wissen</td>\n",
       "      <td>2023-01-05 20:10:31</td>\n",
       "      <td>NaN</td>\n",
       "      <td>Jeder zweite Gletscher könnte bis 2100 verlore...</td>\n",
       "      <td>Selbst in einem optimistischen Klimaszenario d...</td>\n",
       "      <td>Wasserknappheit, steigende Meeresspiegel, verä...</td>\n",
       "    </tr>\n",
       "  </tbody>\n",
       "</table>\n",
       "</div>"
      ],
      "text/plain": [
       "                                                    Url    Topic  \\\n",
       "149   https://www.sueddeutsche.de/politik/sz-oesterr...  politik   \n",
       "1254  https://www.sueddeutsche.de/politik/iran-hinri...  politik   \n",
       "1341  https://www.sueddeutsche.de/politik/oesterreic...  politik   \n",
       "6715  https://www.sueddeutsche.de/wissen/hiv-impfsto...   wissen   \n",
       "6830  https://www.sueddeutsche.de/wissen/klimakrise-...   wissen   \n",
       "6832  https://www.sueddeutsche.de/wissen/erdgeschich...   wissen   \n",
       "6927  https://www.sueddeutsche.de/wissen/gletscher-s...   wissen   \n",
       "\n",
       "             Publish Date Author  \\\n",
       "149   2023-01-27 15:47:37    NaN   \n",
       "1254  2023-01-08 17:36:40    NaN   \n",
       "1341  2023-01-06 11:32:30    NaN   \n",
       "6715  2023-01-19 15:16:46    NaN   \n",
       "6830  2023-01-12 16:17:59    NaN   \n",
       "6832  2023-01-12 16:15:33    NaN   \n",
       "6927  2023-01-05 20:10:31    NaN   \n",
       "\n",
       "                                                  Title  \\\n",
       "149   Vielen Dank, dass Sie an der Abstimmung teilge...   \n",
       "1254                          Kritik nach Hinrichtungen   \n",
       "1341         Ruhiges Fahrwasser und Rechtsstaatlichkeit   \n",
       "6715            HIV-Impfstoff schützt nicht wie erhofft   \n",
       "6830  Die vergangenen acht Jahre waren die wärmsten ...   \n",
       "6832                                 Blüte in Bernstein   \n",
       "6927  Jeder zweite Gletscher könnte bis 2100 verlore...   \n",
       "\n",
       "                                                 Teaser  \\\n",
       "149                                                 NaN   \n",
       "1254  Nach der Exekution zweier Männer am Samstag we...   \n",
       "1341  Welche Wünsche, Erwartungen und Gedanken Leser...   \n",
       "6715  Große Erwartungen lagen auf dem Impfstoffkandi...   \n",
       "6830  Das geht aus einer Auswertung der Weltwetteror...   \n",
       "6832  Wie sah die Erde vor Millionen Jahren aus? Sel...   \n",
       "6927  Selbst in einem optimistischen Klimaszenario d...   \n",
       "\n",
       "                                                   News  \n",
       "149   Wir freuen uns, wenn Sie den Österreich-Newsle...  \n",
       "1254  Die Hinrichtung zweier weiterer Demonstranten ...  \n",
       "1341  ImÖsterreich-Newsletter vom 30. Dezember 2022s...  \n",
       "6715  Ein besonders aussichtsreicher Impfstoffkandid...  \n",
       "6830  Die vergangenen acht Jahre waren laut einer Au...  \n",
       "6832  Millionen Jahre alt, sehr groß und mit mehrere...  \n",
       "6927  Wasserknappheit, steigende Meeresspiegel, verä...  "
      ]
     },
     "execution_count": 37,
     "metadata": {},
     "output_type": "execute_result"
    }
   ],
   "source": [
    "df[df['Author'].isna()] # filter NaN for Author"
   ]
  },
  {
   "cell_type": "code",
   "execution_count": 45,
   "id": "1554a614",
   "metadata": {},
   "outputs": [
    {
     "data": {
      "text/html": [
       "<div>\n",
       "<style scoped>\n",
       "    .dataframe tbody tr th:only-of-type {\n",
       "        vertical-align: middle;\n",
       "    }\n",
       "\n",
       "    .dataframe tbody tr th {\n",
       "        vertical-align: top;\n",
       "    }\n",
       "\n",
       "    .dataframe thead th {\n",
       "        text-align: right;\n",
       "    }\n",
       "</style>\n",
       "<table border=\"1\" class=\"dataframe\">\n",
       "  <thead>\n",
       "    <tr style=\"text-align: right;\">\n",
       "      <th></th>\n",
       "      <th>Url</th>\n",
       "      <th>Topic</th>\n",
       "      <th>Publish Date</th>\n",
       "      <th>Author</th>\n",
       "      <th>Title</th>\n",
       "      <th>Teaser</th>\n",
       "      <th>News</th>\n",
       "    </tr>\n",
       "  </thead>\n",
       "  <tbody>\n",
       "    <tr>\n",
       "      <th>149</th>\n",
       "      <td>https://www.sueddeutsche.de/politik/sz-oesterr...</td>\n",
       "      <td>politik</td>\n",
       "      <td>2023-01-27 15:47:37</td>\n",
       "      <td>NaN</td>\n",
       "      <td>Vielen Dank, dass Sie an der Abstimmung teilge...</td>\n",
       "      <td>NaN</td>\n",
       "      <td>Wir freuen uns, wenn Sie den Österreich-Newsle...</td>\n",
       "    </tr>\n",
       "  </tbody>\n",
       "</table>\n",
       "</div>"
      ],
      "text/plain": [
       "                                                   Url    Topic  \\\n",
       "149  https://www.sueddeutsche.de/politik/sz-oesterr...  politik   \n",
       "\n",
       "            Publish Date Author  \\\n",
       "149  2023-01-27 15:47:37    NaN   \n",
       "\n",
       "                                                 Title Teaser  \\\n",
       "149  Vielen Dank, dass Sie an der Abstimmung teilge...    NaN   \n",
       "\n",
       "                                                  News  \n",
       "149  Wir freuen uns, wenn Sie den Österreich-Newsle...  "
      ]
     },
     "execution_count": 45,
     "metadata": {},
     "output_type": "execute_result"
    }
   ],
   "source": [
    "df[df['Author'].isna() & df['Teaser'].isna()] # filter NaN for Author and Teaser"
   ]
  },
  {
   "cell_type": "code",
   "execution_count": 38,
   "id": "97772de7",
   "metadata": {},
   "outputs": [
    {
     "data": {
      "text/html": [
       "<div>\n",
       "<style scoped>\n",
       "    .dataframe tbody tr th:only-of-type {\n",
       "        vertical-align: middle;\n",
       "    }\n",
       "\n",
       "    .dataframe tbody tr th {\n",
       "        vertical-align: top;\n",
       "    }\n",
       "\n",
       "    .dataframe thead th {\n",
       "        text-align: right;\n",
       "    }\n",
       "</style>\n",
       "<table border=\"1\" class=\"dataframe\">\n",
       "  <thead>\n",
       "    <tr style=\"text-align: right;\">\n",
       "      <th></th>\n",
       "      <th>Url</th>\n",
       "      <th>Topic</th>\n",
       "      <th>Publish Date</th>\n",
       "      <th>Author</th>\n",
       "      <th>Title</th>\n",
       "      <th>Teaser</th>\n",
       "      <th>News</th>\n",
       "    </tr>\n",
       "  </thead>\n",
       "  <tbody>\n",
       "  </tbody>\n",
       "</table>\n",
       "</div>"
      ],
      "text/plain": [
       "Empty DataFrame\n",
       "Columns: [Url, Topic, Publish Date, Author, Title, Teaser, News]\n",
       "Index: []"
      ]
     },
     "execution_count": 38,
     "metadata": {},
     "output_type": "execute_result"
    }
   ],
   "source": [
    "# display duplicate\n",
    "df[df.duplicated()]"
   ]
  },
  {
   "cell_type": "code",
   "execution_count": 39,
   "id": "786d63a4",
   "metadata": {},
   "outputs": [],
   "source": [
    "# drop duplicate\n",
    "\n",
    "df = df.drop_duplicates()"
   ]
  },
  {
   "cell_type": "code",
   "execution_count": 40,
   "id": "77627d8c",
   "metadata": {},
   "outputs": [
    {
     "data": {
      "text/plain": [
       "(7425, 7)"
      ]
     },
     "execution_count": 40,
     "metadata": {},
     "output_type": "execute_result"
    }
   ],
   "source": [
    "df.shape"
   ]
  },
  {
   "cell_type": "markdown",
   "id": "aab7251b",
   "metadata": {},
   "source": [
    "https://www.sueddeutsche.de/politik/sz-oesterreich-vielen-dank-dass-sie-an-der-abstimmung-teilgenommen-haben-1.5739147\n",
    "\n",
    "Author is empty in this link"
   ]
  },
  {
   "attachments": {
    "image.png": {
     "image/png": "[encoded data removed]"
    }
   },
   "cell_type": "markdown",
   "id": "4352d793",
   "metadata": {},
   "source": [
    "![image.png](attachment:image.png)"
   ]
  },
  {
   "cell_type": "markdown",
   "id": "4d5c9ce3",
   "metadata": {},
   "source": [
    "# Stop words removal:\n",
    "    \n",
    "https://stackoverflow.com/questions/29523254/python-remove-stop-words-from-pandas-dataframe"
   ]
  },
  {
   "cell_type": "code",
   "execution_count": null,
   "id": "ceea1e44",
   "metadata": {},
   "outputs": [],
   "source": []
  }
 ],
 "metadata": {
  "kernelspec": {
   "display_name": "Python (myNEWenv)",
   "language": "python",
   "name": "mynewenv"
  },
  "language_info": {
   "codemirror_mode": {
    "name": "ipython",
    "version": 3
   },
   "file_extension": ".py",
   "mimetype": "text/x-python",
   "name": "python",
   "nbconvert_exporter": "python",
   "pygments_lexer": "ipython3",
   "version": "3.10.12"
  }
 },
 "nbformat": 4,
 "nbformat_minor": 5
}
