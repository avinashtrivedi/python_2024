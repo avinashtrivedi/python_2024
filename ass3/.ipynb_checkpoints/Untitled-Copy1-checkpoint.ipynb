{
 "cells": [
  {
   "cell_type": "code",
   "execution_count": 49,
   "id": "fae2cee5",
   "metadata": {},
   "outputs": [],
   "source": [
    "import pandas as pd\n",
    "import numpy as np\n",
    "import warnings\n",
    "warnings.filterwarnings(\"ignore\")\n",
    "\n",
    "from sklearn.tree import DecisionTreeClassifier\n",
    "from sklearn.model_selection import train_test_split, GridSearchCV, RandomizedSearchCV\n",
    "from sklearn.metrics import f1_score, mean_squared_error,make_scorer\n",
    "from sklearn.ensemble import GradientBoostingRegressor\n",
    "from sklearn.utils.class_weight import compute_class_weight\n",
    "\n",
    "from sklearn.preprocessing import StandardScaler, OneHotEncoder\n",
    "from sklearn.impute import SimpleImputer\n",
    "from sklearn.compose import ColumnTransformer\n",
    "from sklearn.pipeline import Pipeline"
   ]
  },
  {
   "cell_type": "code",
   "execution_count": null,
   "id": "7c41dbe3",
   "metadata": {},
   "outputs": [],
   "source": []
  },
  {
   "cell_type": "code",
   "execution_count": 50,
   "id": "391d40f4",
   "metadata": {},
   "outputs": [],
   "source": [
    "import random"
   ]
  },
  {
   "cell_type": "code",
   "execution_count": 51,
   "id": "09304703",
   "metadata": {},
   "outputs": [],
   "source": [
    "random.seed(42)"
   ]
  },
  {
   "cell_type": "code",
   "execution_count": 52,
   "id": "709b4ee9",
   "metadata": {},
   "outputs": [],
   "source": [
    "df_train = pd.read_csv('train.csv')\n",
    "df_test = pd.read_csv('test.csv')"
   ]
  },
  {
   "cell_type": "code",
   "execution_count": 53,
   "id": "16f92d51",
   "metadata": {},
   "outputs": [],
   "source": [
    "df_train.drop([\"fuel_type\",\"is_esc\",\"is_adjustable_steering\",\"is_tpms\",\n",
    "                       \"is_parking_sensors\",\"is_parking_camera\",\"rear_brakes_type\",\n",
    "                       \"steering_type\",'is_front_fog_lights','is_rear_window_wiper',\n",
    "                       'is_rear_window_washer','is_rear_window_defogger','is_brake_assist',\n",
    "                       'is_power_door_locks','is_central_locking', 'is_power_steering',\n",
    "                       'is_driver_seat_height_adjustable', 'is_day_night_rear_view_mirror',\n",
    "                       'is_ecw', 'is_speed_alert'],axis=1,inplace=True)\n",
    "\n",
    "\n",
    "df_test.drop([\"fuel_type\",\"is_esc\",\"is_adjustable_steering\",\"is_tpms\",\n",
    "                       \"is_parking_sensors\",\"is_parking_camera\",\"rear_brakes_type\",\n",
    "                       \"steering_type\",'is_front_fog_lights','is_rear_window_wiper',\n",
    "                       'is_rear_window_washer','is_rear_window_defogger','is_brake_assist',\n",
    "                       'is_power_door_locks','is_central_locking', 'is_power_steering',\n",
    "                       'is_driver_seat_height_adjustable', 'is_day_night_rear_view_mirror',\n",
    "                       'is_ecw', 'is_speed_alert'],axis=1,inplace=True)"
   ]
  },
  {
   "cell_type": "code",
   "execution_count": 54,
   "id": "391d05c2",
   "metadata": {},
   "outputs": [],
   "source": [
    "df_train['make'] = df_train['make'].astype('str')\n",
    "df_test['make'] = df_test['make'].astype('str')"
   ]
  },
  {
   "cell_type": "code",
   "execution_count": 55,
   "id": "41a5051d",
   "metadata": {},
   "outputs": [],
   "source": [
    "def get_months(x):\n",
    "    ym = x.split('and')\n",
    "    if len(ym) == 2:\n",
    "        years = int(ym[0].split()[0])\n",
    "        months = int(ym[1].split()[0])\n",
    "    elif len(ym) == 1 and 'month' in ym[0]:\n",
    "        months = int(ym[0].split()[0])\n",
    "        years = 0\n",
    "    elif len(ym) == 1 and 'year' in ym[0]:\n",
    "        years = int(ym[0].split()[0])\n",
    "        months = 0\n",
    "    return years*12 + months"
   ]
  },
  {
   "cell_type": "code",
   "execution_count": 56,
   "id": "aafd1bb4",
   "metadata": {},
   "outputs": [],
   "source": [
    "def preprocess(df):\n",
    "    df.drop(columns=['Unnamed: 0','policy_id'],axis=1,inplace=True)\n",
    "    df['age_of_car']  = df['age_of_car'].apply(get_months)\n",
    "    for col in df:\n",
    "        df[col] = df[col].replace({'Yes':1,'No':0})\n",
    "    return df"
   ]
  },
  {
   "cell_type": "code",
   "execution_count": 57,
   "id": "43a51a59",
   "metadata": {},
   "outputs": [],
   "source": [
    "df_train = preprocess(df_train)\n",
    "df_test = preprocess(df_test)"
   ]
  },
  {
   "cell_type": "code",
   "execution_count": 58,
   "id": "290e0b06",
   "metadata": {},
   "outputs": [],
   "source": [
    "df_train['area'] = df_train['length']*df_train['width']*df_train['height']\n",
    "df_train.drop(columns=['length','width','height'],inplace=True)\n",
    "\n",
    "df_test['area'] = df_test['length']*df_test['width']*df_test['height']\n",
    "df_test.drop(columns=['length','width','height'],inplace=True)\n",
    "\n",
    "df_train[['max_torque_Nm', 'max_torque_rpm']] = df_train['max_torque'].str.split('@', expand=True)\n",
    "df_train['max_torque_Nm'] = df_train['max_torque_Nm'].str.extract(r'(\\d+\\.?\\d*)').astype(float)\n",
    "df_train['max_torque_rpm'] = df_train['max_torque_rpm'].str.extract(r'(\\d+)').astype(int)\n",
    "df_train.drop(columns=['max_torque'], inplace=True)\n",
    "\n",
    "df_test[['max_torque_Nm', 'max_torque_rpm']] = df_test['max_torque'].str.split('@', expand=True)\n",
    "df_test['max_torque_Nm'] = df_test['max_torque_Nm'].str.extract(r'(\\d+\\.?\\d*)').astype(float)\n",
    "df_test['max_torque_rpm'] = df_test['max_torque_rpm'].str.extract(r'(\\d+)').astype(int)\n",
    "df_test.drop(columns=['max_torque'], inplace=True)\n",
    "\n",
    "df_train[['max_power_bhp', 'max_power_rpm']] = df_train['max_power'].str.split('@', expand=True)\n",
    "df_train['max_power_bhp'] = df_train['max_power_bhp'].str.extract(r'(\\d+\\.?\\d*)').astype(float)\n",
    "df_train['max_power_rpm'] = df_train['max_power_rpm'].str.extract(r'(\\d+)').astype(int)\n",
    "df_train.drop(columns=['max_power'], inplace=True)\n",
    "\n",
    "df_test[['max_power_bhp', 'max_power_rpm']] = df_test['max_power'].str.split('@', expand=True)\n",
    "df_test['max_power_bhp'] = df_test['max_power_bhp'].str.extract(r'(\\d+\\.?\\d*)').astype(float)\n",
    "df_test['max_power_rpm'] = df_test['max_power_rpm'].str.extract(r'(\\d+)').astype(int)\n",
    "df_test.drop(columns=['max_power'], inplace=True)"
   ]
  },
  {
   "cell_type": "code",
   "execution_count": 59,
   "id": "34f84c9d",
   "metadata": {},
   "outputs": [],
   "source": [
    "# Create correlation matrix\n",
    "corr_matrix = df_train.corr().abs()\n",
    "\n",
    "# Select upper triangle of correlation matrix\n",
    "upper = corr_matrix.where(np.triu(np.ones(corr_matrix.shape), k=1).astype(bool))\n",
    "\n",
    "# Find features with correlation greater than 0.95\n",
    "to_drop = [column for column in upper.columns if any(upper[column] > 0.97)] #96\n",
    "\n",
    "# Drop features \n",
    "df_train.drop(to_drop, axis=1, inplace=True)\n",
    "df_test.drop(to_drop, axis=1, inplace=True)"
   ]
  },
  {
   "cell_type": "code",
   "execution_count": 60,
   "id": "318bed2b",
   "metadata": {},
   "outputs": [
    {
     "data": {
      "text/plain": [
       "[]"
      ]
     },
     "execution_count": 60,
     "metadata": {},
     "output_type": "execute_result"
    }
   ],
   "source": [
    "to_drop\n",
    "\n",
    "# ['gear_box',\n",
    "#  'is_rear_window_wiper',\n",
    "#  'is_rear_window_washer',\n",
    "#  'is_central_locking',\n",
    "#  'is_driver_seat_height_adjustable',\n",
    "#  'is_ecw']"
   ]
  },
  {
   "cell_type": "code",
   "execution_count": 61,
   "id": "516aec2e",
   "metadata": {},
   "outputs": [],
   "source": [
    "# df_train = df_train.sample(frac=1,random_state=42)\n",
    "X_train = df_train.drop('is_claim',axis=1)\n",
    "y_train = df_train['is_claim']\n",
    "\n",
    "X_test = df_test.drop('is_claim',axis=1)\n",
    "y_test = df_test['is_claim']\n",
    "\n",
    "# Columns to apply StandardScaler and OneHotEncoder\n",
    "numeric_cols = list(set(X_train) - set(X_train.select_dtypes('O')))\n",
    "categorical_cols = list(set(X_train.select_dtypes('O')))\n",
    "\n",
    "# Define preprocessing steps for numeric and categorical columns\n",
    "numeric_transformer = Pipeline(steps=[\n",
    "    ('imputer', SimpleImputer(strategy='median')),  # Impute missing values\n",
    "    ('scaler', StandardScaler())  # Standard scaling\n",
    "])\n",
    "\n",
    "categorical_transformer = Pipeline(steps=[\n",
    "    ('imputer', SimpleImputer(strategy='most_frequent')),  # Impute missing values\n",
    "    ('onehot', OneHotEncoder(handle_unknown='ignore'))  # One-hot encoding\n",
    "])\n",
    "\n",
    "# Combine preprocessing steps using ColumnTransformer\n",
    "preprocessor = ColumnTransformer(\n",
    "    transformers=[\n",
    "        ('num', numeric_transformer, numeric_cols),\n",
    "        ('cat', categorical_transformer, categorical_cols)\n",
    "    ],\n",
    "    remainder='passthrough'\n",
    ")\n",
    "\n",
    "X_train = preprocessor.fit_transform(X_train)\n",
    "X_test = preprocessor.transform(X_test)\n",
    "\n",
    "from imblearn.over_sampling import RandomOverSampler,SMOTE\n",
    "from imblearn.combine import SMOTEENN \n",
    "sampler = SMOTEENN(random_state=42)\n",
    "X_train, y_train = sampler.fit_resample(X_train,y_train)"
   ]
  },
  {
   "cell_type": "code",
   "execution_count": 62,
   "id": "68595d61",
   "metadata": {},
   "outputs": [
    {
     "data": {
      "text/plain": [
       "1    30028\n",
       "0    24953\n",
       "Name: is_claim, dtype: int64"
      ]
     },
     "execution_count": 62,
     "metadata": {},
     "output_type": "execute_result"
    }
   ],
   "source": [
    "y_train.value_counts()"
   ]
  },
  {
   "cell_type": "code",
   "execution_count": 63,
   "id": "3e464e2c",
   "metadata": {},
   "outputs": [
    {
     "data": {
      "text/plain": [
       "array([[ 0.49733968, -1.29686695, -0.56861253, ...,  0.        ,\n",
       "         0.        ,  0.        ],\n",
       "       [-0.01049698, -1.29686695, -0.56861253, ...,  0.        ,\n",
       "         1.        ,  0.        ],\n",
       "       [-0.11206432,  0.77108912,  1.75866683, ...,  0.        ,\n",
       "         0.        ,  0.        ],\n",
       "       ...,\n",
       "       [-1.02617032, -1.29686695, -0.56861253, ...,  0.        ,\n",
       "         0.        ,  0.        ],\n",
       "       [-0.61372778, -1.29686695, -0.56861253, ...,  0.        ,\n",
       "         0.        ,  0.        ],\n",
       "       [ 0.3298558 ,  0.77108912,  1.75866683, ...,  0.        ,\n",
       "         0.        ,  0.        ]])"
      ]
     },
     "execution_count": 63,
     "metadata": {},
     "output_type": "execute_result"
    }
   ],
   "source": [
    "X_train"
   ]
  },
  {
   "cell_type": "code",
   "execution_count": null,
   "id": "0ffa412b",
   "metadata": {},
   "outputs": [],
   "source": []
  },
  {
   "cell_type": "code",
   "execution_count": null,
   "id": "9e4ae283",
   "metadata": {},
   "outputs": [],
   "source": []
  },
  {
   "cell_type": "code",
   "execution_count": null,
   "id": "c6d7b1de",
   "metadata": {},
   "outputs": [],
   "source": []
  },
  {
   "cell_type": "code",
   "execution_count": null,
   "id": "a6f5b15c",
   "metadata": {},
   "outputs": [],
   "source": []
  },
  {
   "cell_type": "code",
   "execution_count": null,
   "id": "c705aba1",
   "metadata": {},
   "outputs": [],
   "source": []
  },
  {
   "cell_type": "code",
   "execution_count": 13,
   "id": "edd63dd5",
   "metadata": {},
   "outputs": [],
   "source": [
    "param = {'criterion': 'gini',\n",
    " 'max_depth': 50,\n",
    " 'max_features': 70,\n",
    " 'min_samples_leaf': 1,\n",
    " 'min_samples_split': 6,\n",
    " 'splitter': 'best'}"
   ]
  },
  {
   "cell_type": "code",
   "execution_count": null,
   "id": "715844b4",
   "metadata": {},
   "outputs": [],
   "source": [
    "from xgboost import XGBClassifier\n",
    "\n",
    "parameters = {\n",
    "    'max_depth': range (2, 30, 1),\n",
    "    'n_estimators': range(60, 220, 40),\n",
    "    'learning_rate': [0.1, 0.01, 0.05]\n",
    "}\n",
    "\n",
    "tree_clas = XGBClassifier()\n",
    "grid_search = RandomizedSearchCV(estimator=tree_clas, \n",
    "                           n_jobs=-1,\n",
    "                           n_iter=100,\n",
    "                           scoring= 'f1_macro',\n",
    "                           param_distributions=parameters, \n",
    "                           cv=3, \n",
    "                           verbose=2)\n",
    "grid_search.fit(X_train, y_train)"
   ]
  },
  {
   "cell_type": "code",
   "execution_count": null,
   "id": "15a44ce2",
   "metadata": {},
   "outputs": [],
   "source": [
    "print(grid_search.best_params_)"
   ]
  },
  {
   "cell_type": "code",
   "execution_count": null,
   "id": "b17298b6",
   "metadata": {},
   "outputs": [],
   "source": []
  },
  {
   "cell_type": "code",
   "execution_count": 14,
   "id": "5dd12abb",
   "metadata": {},
   "outputs": [
    {
     "name": "stdout",
     "output_type": "stream",
     "text": [
      "0.5158039237360474\n"
     ]
    }
   ],
   "source": [
    "# tree_clas = cc\n",
    "\n",
    "# tree_clas.fit(X_train,y_train)\n",
    "\n",
    "# for i in range(1,100):\n",
    "clf = DecisionTreeClassifier(**param,random_state=32)\n",
    "clf.fit(X_train,y_train)\n",
    "# cc = grid_search.best_estimator_\n",
    "y_pred = clf.predict(X_test)\n",
    "\n",
    "score = f1_score(y_test, y_pred,average='macro')\n",
    "#     score # off and .97\n",
    "print(score) # 0.5233373470773133"
   ]
  },
  {
   "cell_type": "code",
   "execution_count": 18,
   "id": "67bd30ae",
   "metadata": {},
   "outputs": [
    {
     "data": {
      "text/plain": [
       "[0.4500699781382297,\n",
       " 0.20933005282763992,\n",
       " 0.12704637268113914,\n",
       " 0.024204852093385357,\n",
       " 0.019563896926441563,\n",
       " 0.017623230008568948,\n",
       " 0.011794098148857787,\n",
       " 0.010567842465936814,\n",
       " 0.010081798629274791,\n",
       " 0.007386750435196379,\n",
       " 0.007354462894808076,\n",
       " 0.005700491832982512,\n",
       " 0.005352141352001588,\n",
       " 0.004592926518501698,\n",
       " 0.004364565243539798,\n",
       " 0.004333482631536933,\n",
       " 0.003883127479751167,\n",
       " 0.0037488058673552415,\n",
       " 0.003608559287289421,\n",
       " 0.0035290564971458688,\n",
       " 0.0034635695464994426,\n",
       " 0.0033924853902637195,\n",
       " 0.0033630539743180993,\n",
       " 0.002997702788163998,\n",
       " 0.0028277007711316375,\n",
       " 0.0025725761532508673,\n",
       " 0.0024357387057887935,\n",
       " 0.002088312316872182,\n",
       " 0.002029283740486012,\n",
       " 0.002009731770422846,\n",
       " 0.0020056416718114986,\n",
       " 0.001998875395747162,\n",
       " 0.0019460106242110567,\n",
       " 0.0019433864063063849,\n",
       " 0.0018828538729185162,\n",
       " 0.001790995554049424,\n",
       " 0.0017469206987030601,\n",
       " 0.0016350667351590548,\n",
       " 0.0015478757217075821,\n",
       " 0.0014871398502040538,\n",
       " 0.0014856585924389431,\n",
       " 0.0012723242085027125,\n",
       " 0.0012218408014002795,\n",
       " 0.0011493479183901124,\n",
       " 0.0011378715272736685,\n",
       " 0.001135663825084785,\n",
       " 0.0010819229480065618,\n",
       " 0.001037985602355899,\n",
       " 0.0008244423087748551,\n",
       " 0.0007975877893600062,\n",
       " 0.0007926862986527434,\n",
       " 0.0007714051410698815,\n",
       " 0.0007215591873919863,\n",
       " 0.0007200626012838729,\n",
       " 0.0005767580446939109,\n",
       " 0.0005712278384485531,\n",
       " 0.0005186227786578419,\n",
       " 0.0005092694883723807,\n",
       " 0.00048738100938162487,\n",
       " 0.00048383036647310765,\n",
       " 0.0004537047163082425,\n",
       " 0.0003825625413041714,\n",
       " 0.00037766224790851844,\n",
       " 0.0003705823149738011,\n",
       " 0.0003245365550995019,\n",
       " 0.00031067572332180924,\n",
       " 0.00023747929786378092,\n",
       " 0.00021024856261966994,\n",
       " 0.00020263729319771625,\n",
       " 0.0002019728272768263,\n",
       " 0.0001518849280272498,\n",
       " 0.00010048580467586489,\n",
       " 7.670526381100203e-05]"
      ]
     },
     "execution_count": 18,
     "metadata": {},
     "output_type": "execute_result"
    }
   ],
   "source": [
    "sorted(clf.feature_importances_,reverse=True)"
   ]
  },
  {
   "cell_type": "code",
   "execution_count": null,
   "id": "86afc6a1",
   "metadata": {},
   "outputs": [],
   "source": [
    "0.5187280647171514\n",
    "0.514431616023947\n",
    "0.5204324957636333"
   ]
  },
  {
   "cell_type": "code",
   "execution_count": null,
   "id": "6271e2ba",
   "metadata": {},
   "outputs": [],
   "source": [
    "import pycaret\n",
    "from pycaret.classification import *\n",
    "from pycaret.classification import predict_model"
   ]
  },
  {
   "cell_type": "code",
   "execution_count": null,
   "id": "3fa3b463",
   "metadata": {},
   "outputs": [],
   "source": [
    "s"
   ]
  },
  {
   "cell_type": "code",
   "execution_count": null,
   "id": "ba9ae9fc",
   "metadata": {},
   "outputs": [],
   "source": [
    "s = setup(data, target = 'target', session_id = 42, fold=5,n_jobs=-1,\n",
    "          verbose=False)\n",
    "\n",
    "best = compare_models(verbose=1,n_select=15)\n",
    "# dt = create_model('dt')"
   ]
  },
  {
   "cell_type": "code",
   "execution_count": null,
   "id": "eef20d69",
   "metadata": {},
   "outputs": [],
   "source": [
    "for i in best:\n",
    "    s = predict_model(i,data=data_test)\n",
    "    score = f1_score(s['target'], s['prediction_label'],average='macro')\n",
    "    print(score)"
   ]
  },
  {
   "cell_type": "code",
   "execution_count": null,
   "id": "b33ed3a4",
   "metadata": {},
   "outputs": [],
   "source": [
    "tuned_dt = tune_model(best[2], search_library = 'scikit-optimize',early_stopping=True,\n",
    "                      n_iter=100)"
   ]
  },
  {
   "cell_type": "code",
   "execution_count": null,
   "id": "9f855dd4",
   "metadata": {},
   "outputs": [],
   "source": [
    "tuned_dt.get_params()"
   ]
  },
  {
   "cell_type": "code",
   "execution_count": null,
   "id": "2491a260",
   "metadata": {},
   "outputs": [],
   "source": [
    "s = predict_model(tuned_dt,data=data_test)\n",
    "score = f1_score(s['target'], s['prediction_label'],average='macro')\n",
    "score"
   ]
  },
  {
   "cell_type": "code",
   "execution_count": null,
   "id": "6f459b87",
   "metadata": {},
   "outputs": [],
   "source": []
  },
  {
   "cell_type": "code",
   "execution_count": null,
   "id": "15a7b16c",
   "metadata": {},
   "outputs": [],
   "source": [
    "data = pd.DataFrame(X_train)"
   ]
  },
  {
   "cell_type": "code",
   "execution_count": null,
   "id": "0f5350f5",
   "metadata": {},
   "outputs": [],
   "source": [
    "data['target'] = y_train"
   ]
  },
  {
   "cell_type": "code",
   "execution_count": null,
   "id": "e0f24dad",
   "metadata": {},
   "outputs": [],
   "source": [
    "data = data.sample(frac=1).reset_index(drop=True)"
   ]
  },
  {
   "cell_type": "code",
   "execution_count": null,
   "id": "91b4a746",
   "metadata": {},
   "outputs": [],
   "source": [
    "data_test = pd.DataFrame(X_test)\n",
    "data_test['target'] = y_test"
   ]
  },
  {
   "cell_type": "code",
   "execution_count": 23,
   "id": "84e3f027",
   "metadata": {},
   "outputs": [],
   "source": [
    "##############################"
   ]
  },
  {
   "cell_type": "code",
   "execution_count": 43,
   "id": "59de3d1c",
   "metadata": {},
   "outputs": [
    {
     "name": "stdout",
     "output_type": "stream",
     "text": [
      "['is_central_locking', 'is_driver_seat_height_adjustable', 'airbags', 'is_rear_window_washer', 'is_ecw', 'gear_box']\n",
      "MSE 90.798012\n",
      "F1_Score 0.5249026215625465\n"
     ]
    },
    {
     "data": {
      "image/png": "[encoded data removed]",
      "text/plain": [
       "<Figure size 640x480 with 1 Axes>"
      ]
     },
     "metadata": {},
     "output_type": "display_data"
    }
   ],
   "source": [
    "import warnings\n",
    "warnings.filterwarnings(\"ignore\")\n",
    "\n",
    "from sklearn.inspection import permutation_importance\n",
    "import argparse\n",
    "import numpy as np\n",
    "import matplotlib.pyplot as plt\n",
    "from imblearn.over_sampling import RandomOverSampler,SMOTE\n",
    "from imblearn.combine import SMOTEENN \n",
    "import pandas as pd\n",
    "from xgboost import XGBClassifier\n",
    "from sklearn.tree import DecisionTreeClassifier\n",
    "from sklearn.model_selection import train_test_split, GridSearchCV, RandomizedSearchCV\n",
    "from sklearn.metrics import f1_score, mean_squared_error,make_scorer\n",
    "from sklearn.ensemble import GradientBoostingRegressor\n",
    "from sklearn.utils.class_weight import compute_class_weight\n",
    "from sklearn.preprocessing import StandardScaler, OneHotEncoder\n",
    "from sklearn.impute import SimpleImputer\n",
    "from sklearn.compose import ColumnTransformer\n",
    "from sklearn.pipeline import Pipeline\n",
    "\n",
    "\n",
    "def encode_preprocessor(X_train):\n",
    "    # Columns to apply StandardScaler and OneHotEncoder\n",
    "    numeric_cols = list(set(X_train) - set(X_train.select_dtypes('O')))\n",
    "    categorical_cols = list(set(X_train.select_dtypes('O')))\n",
    "\n",
    "    # Define preprocessing steps for numeric and categorical columns\n",
    "    numeric_transformer = Pipeline(steps=[\n",
    "        ('imputer', SimpleImputer(strategy='median')),  # Impute missing values\n",
    "        ('scaler', StandardScaler())  # Standard scaling\n",
    "    ])\n",
    "\n",
    "    categorical_transformer = Pipeline(steps=[\n",
    "        ('imputer', SimpleImputer(strategy='most_frequent')),  # Impute missing values\n",
    "        ('onehot', OneHotEncoder(handle_unknown='ignore'))  # One-hot encoding\n",
    "    ])\n",
    "\n",
    "    # Combine preprocessing steps using ColumnTransformer\n",
    "    preprocessor = ColumnTransformer(\n",
    "        transformers=[\n",
    "            ('num', numeric_transformer, numeric_cols),\n",
    "            ('cat', categorical_transformer, categorical_cols)\n",
    "        ],\n",
    "        remainder='passthrough'\n",
    "    )\n",
    "    \n",
    "    return preprocessor\n",
    "\n",
    "def get_months(x):\n",
    "    ym = x.split('and')\n",
    "    if len(ym) == 2:\n",
    "        years = int(ym[0].split()[0])\n",
    "        months = int(ym[1].split()[0])\n",
    "    elif len(ym) == 1 and 'month' in ym[0]:\n",
    "        months = int(ym[0].split()[0])\n",
    "        years = 0\n",
    "    elif len(ym) == 1 and 'year' in ym[0]:\n",
    "        years = int(ym[0].split()[0])\n",
    "        months = 0\n",
    "    return years*12 + months\n",
    "\n",
    "def preprocess(df):\n",
    "    df.drop(columns=['Unnamed: 0','policy_id'],axis=1,inplace=True)\n",
    "    df['age_of_car']  = df['age_of_car'].apply(get_months)\n",
    "    for col in df:\n",
    "        df[col] = df[col].replace({'Yes':1,'No':0})\n",
    "    return df\n",
    "\n",
    "def main(train_file, test_file):\n",
    "    my_id = 123\n",
    "    # Load train and test data\n",
    "    df_train = pd.read_csv(train_file)\n",
    "    df_test = pd.read_csv(test_file)\n",
    "    \n",
    "    cols = [\n",
    "        'age_of_car',\n",
    "        'gross_weight',\n",
    "        'area',\n",
    "        'population_density',\n",
    "        'turning_radius',\n",
    "        'area_cluster',\n",
    "        'policy_tenure',\n",
    "        'engine_type',\n",
    "        'age_of_policyholder',\n",
    "        'ncap_rating',\n",
    "        'steering_type',\n",
    "        'segment',\n",
    "        'cylinder',\n",
    "        'is_parking_camera',\n",
    "        'is_brake_assist',\n",
    "        'is_day_night_rear_view_mirror',\n",
    "#         'is_rear_window_washer',\n",
    "        'is_rear_window_defogger',\n",
    "        'max_torque_rpm','max_power_bhp',\n",
    "        'displacement',\n",
    "        'transmission_type',\n",
    "#         'is_front_fog_lights',\n",
    "        'is_parking_sensors',\n",
    "        'is_adjustable_steering','is_claim',\n",
    "        'is_esc']\n",
    "    \n",
    "#     df_train = df_train[cols]\n",
    "#     df_test = df_test[cols]\n",
    "\n",
    "    policy_ids = df_test[\"policy_id\"]\n",
    "    \n",
    "    df_train['make'] = df_train['make'].astype('str')\n",
    "    df_test['make'] = df_test['make'].astype('str')\n",
    "\n",
    "    df_train = preprocess(df_train)\n",
    "    df_test = preprocess(df_test)\n",
    "    \n",
    "    \n",
    "    df_train['area'] = df_train['length']*df_train['width']*df_train['height']\n",
    "    df_train.drop(columns=['length','width','height'],inplace=True)\n",
    "\n",
    "    df_test['area'] = df_test['length']*df_test['width']*df_test['height']\n",
    "    df_test.drop(columns=['length','width','height'],inplace=True)\n",
    "\n",
    "    df_train[['max_torque_Nm', 'max_torque_rpm']] = df_train['max_torque'].str.split('@', expand=True)\n",
    "    df_train['max_torque_Nm'] = df_train['max_torque_Nm'].str.extract(r'(\\d+\\.?\\d*)').astype(float)\n",
    "    df_train['max_torque_rpm'] = df_train['max_torque_rpm'].str.extract(r'(\\d+)').astype(int)\n",
    "    df_train.drop(columns=['max_torque'], inplace=True)\n",
    "\n",
    "    df_test[['max_torque_Nm', 'max_torque_rpm']] = df_test['max_torque'].str.split('@', expand=True)\n",
    "    df_test['max_torque_Nm'] = df_test['max_torque_Nm'].str.extract(r'(\\d+\\.?\\d*)').astype(float)\n",
    "    df_test['max_torque_rpm'] = df_test['max_torque_rpm'].str.extract(r'(\\d+)').astype(int)\n",
    "    df_test.drop(columns=['max_torque'], inplace=True)\n",
    "\n",
    "    df_train[['max_power_bhp', 'max_power_rpm']] = df_train['max_power'].str.split('@', expand=True)\n",
    "    df_train['max_power_bhp'] = df_train['max_power_bhp'].str.extract(r'(\\d+\\.?\\d*)').astype(float)\n",
    "    df_train['max_power_rpm'] = df_train['max_power_rpm'].str.extract(r'(\\d+)').astype(int)\n",
    "    df_train.drop(columns=['max_power'], inplace=True)\n",
    "\n",
    "    df_test[['max_power_bhp', 'max_power_rpm']] = df_test['max_power'].str.split('@', expand=True)\n",
    "    df_test['max_power_bhp'] = df_test['max_power_bhp'].str.extract(r'(\\d+\\.?\\d*)').astype(float)\n",
    "    df_test['max_power_rpm'] = df_test['max_power_rpm'].str.extract(r'(\\d+)').astype(int)\n",
    "    df_test.drop(columns=['max_power'], inplace=True)\n",
    "    \n",
    "    num_cols = list(set(df_train) - set(df_train.select_dtypes('O')))\n",
    "    \n",
    "    # Create correlation matrix\n",
    "    corr_matrix = df_train[num_cols].corr().abs()\n",
    "\n",
    "    # Select upper triangle of correlation matrix\n",
    "    upper = corr_matrix.where(np.triu(np.ones(corr_matrix.shape), k=1).astype(bool))\n",
    "\n",
    "    # Find features with correlation greater than 0.95\n",
    "    to_drop = [column for column in upper.columns if any(upper[column] > 0.97)] #96\n",
    "\n",
    "    print(to_drop)\n",
    "    # Drop features \n",
    "    df_train.drop(to_drop, axis=1, inplace=True)\n",
    "    df_test.drop(to_drop, axis=1, inplace=True)\n",
    "\n",
    "    X_train = df_train.drop('age_of_policyholder',axis=1)\n",
    "    y_train = df_train['age_of_policyholder']\n",
    "    \n",
    "    encoder = encode_preprocessor(X_train)\n",
    "    X_train = encoder.fit_transform(X_train)\n",
    "    \n",
    "    gbr_param = {'n_estimators': 250, 'min_samples_split': 36, \n",
    "                 'min_samples_leaf': 39, 'max_features': 'sqrt',\n",
    "                 'max_depth': 3, 'learning_rate': 0.1}\n",
    "    \n",
    "    reg = GradientBoostingRegressor(random_state=42,**gbr_param)\n",
    "    reg.fit(X_train,y_train)\n",
    "    X_test = df_test.drop('age_of_policyholder',axis=1)\n",
    "    y_test = df_test['age_of_policyholder']\n",
    "\n",
    "    X_test = encoder.transform(X_test)\n",
    "    y_pred = np.round(reg.predict(X_test),1)\n",
    "    mse = mean_squared_error(y_test,y_pred)\n",
    "    print('MSE',mse)\n",
    "    \n",
    "    submission_df = pd.DataFrame({'policy_id': policy_ids, 'age': y_pred})\n",
    "    submission_df.to_csv(f'z{my_id}.PART1.output.csv', index=False)\n",
    "\n",
    "    #################  Classification ###############\n",
    "    \n",
    "    df_train = df_train[cols]\n",
    "    df_test = df_test[cols]\n",
    "    \n",
    "    X_train = df_train.drop('is_claim',axis=1)\n",
    "    y_train = df_train['is_claim']\n",
    "\n",
    "    X_test = df_test.drop('is_claim',axis=1)\n",
    "    y_test = df_test['is_claim']\n",
    "    \n",
    "    encoder = encode_preprocessor(X_train)\n",
    "    \n",
    "    X_train = encoder.fit_transform(X_train)\n",
    "    X_test = encoder.transform(X_test)\n",
    "    \n",
    "    sampler = SMOTEENN(random_state=42)\n",
    "    X_train, y_train = sampler.fit_resample(X_train,y_train)\n",
    "\n",
    "    aa = pd.DataFrame(y_train,columns=['is_claim'])\n",
    "    import seaborn as sns\n",
    "    sns.countplot(x='is_claim',data=aa)\n",
    "    \n",
    "    param = {'criterion': 'gini',\n",
    "     'max_depth': 50,\n",
    "     'max_features': 70,\n",
    "     'min_samples_leaf': 1,\n",
    "     'min_samples_split': 6,\n",
    "     'splitter': 'best'}\n",
    "    \n",
    "    param1 = {'splitter': 'best',\n",
    "     'min_samples_split': 4,\n",
    "     'min_samples_leaf': 1,\n",
    "     'max_features': 86,\n",
    "     'max_depth': 39,\n",
    "     'criterion': 'gini'}\n",
    "    \n",
    "    param2 = {'objective': 'binary:logistic',\n",
    "     'use_label_encoder': True,\n",
    "     'base_score': 0.5,\n",
    "     'booster': 'gbtree',\n",
    "     'colsample_bylevel': 1,\n",
    "     'colsample_bynode': 1,\n",
    "     'colsample_bytree': 0.8267970059231334,\n",
    "     'enable_categorical': False,\n",
    "     'gamma': 0,\n",
    "     'gpu_id': -1,\n",
    "     'importance_type': None,\n",
    "     'interaction_constraints': '',\n",
    "     'learning_rate': 0.15117171590296455,\n",
    "     'max_delta_step': 0,\n",
    "     'max_depth': 11,\n",
    "     'min_child_weight': 1,\n",
    "     'missing': float('nan'),\n",
    "     'monotone_constraints': '()',\n",
    "     'n_estimators': 300,\n",
    "     'n_jobs': -1,\n",
    "     'num_parallel_tree': 1,\n",
    "     'predictor': 'auto',\n",
    "     'random_state': 42,\n",
    "     'reg_alpha': 1e-10,\n",
    "     'reg_lambda': 0.3295926053124784,\n",
    "     'scale_pos_weight': 1.0,\n",
    "     'subsample': 1.0,\n",
    "     'tree_method': 'auto',\n",
    "     'validate_parameters': 1,\n",
    "     'verbosity': 0}\n",
    "    \n",
    "    xg_param = {'n_estimators': 180, 'max_depth': 22, 'learning_rate': 0.05}\n",
    "    \n",
    "#     f1score = 0\n",
    "#     for i in range(1,41):\n",
    "    clf = XGBClassifier(random_state=40,**xg_param,n_jobs=-1)\n",
    "    clf.fit(X_train,y_train,eval_metric='map')\n",
    "    pred = clf.predict(X_test)\n",
    "    score = f1_score(y_test, pred,average='macro')\n",
    "\n",
    "#     features = encoder.named_transformers_['num'].get_feature_names_out().tolist() + encoder.named_transformers_['cat'].get_feature_names_out().tolist()\n",
    "#     features = np.array(features)\n",
    "    \n",
    "#     perm_importance = permutation_importance(clf, X_test, y_test)\n",
    "#     sorted_idx = perm_importance.importances_mean.argsort()\n",
    "#     for i,j in zip(features[sorted_idx],perm_importance.importances_mean[sorted_idx]):\n",
    "#         print(i,j)\n",
    "#     plt.barh(features[sorted_idx], perm_importance.importances_mean[sorted_idx])\n",
    "#     plt.xlabel(\"Permutation Importance\")\n",
    "\n",
    "#         if score>f1score:\n",
    "#             f1score = score\n",
    "#             y_pred = pred\n",
    "            \n",
    "    print('F1_Score',score)\n",
    "    submission_df = pd.DataFrame({'policy_id': policy_ids, 'is_claim': pred})\n",
    "    submission_df.to_csv(f'z{my_id}.PART2.output.csv', index=False)\n",
    "    \n",
    "\n",
    "#     f1score = 0\n",
    "#     for i in range(1,41):\n",
    "#         clf = DecisionTreeClassifier(random_state=i,**param1)\n",
    "#         clf.fit(X_train,y_train)\n",
    "#         pred = clf.predict(X_test)\n",
    "#         score = f1_score(y_test, pred,average='macro')\n",
    "        \n",
    "#         if score>f1score:\n",
    "#             f1score = score\n",
    "#             y_pred = pred\n",
    "            \n",
    "#     print('F1_Score',f1score)    \n",
    "#     submission_df = pd.DataFrame({'policy_id': policy_ids, 'is_claim': y_pred})\n",
    "#     submission_df.to_csv(f'z{my_id}.PART2.output.csv', index=False)\n",
    "    \n",
    "if __name__ == \"__main__\":\n",
    "    # Create argument parser\n",
    "#     parser = argparse.ArgumentParser(description='Process train and test CSV files.')\n",
    "\n",
    "#     # Add arguments\n",
    "#     parser.add_argument('train_file', type=str, help='Path to train CSV file')\n",
    "#     parser.add_argument('test_file', type=str, help='Path to test CSV file')\n",
    "\n",
    "#     # Parse command-line arguments\n",
    "#     args = parser.parse_args()\n",
    "\n",
    "    # Call main function with provided file paths\n",
    "    main('train.csv','test.csv')\n",
    "\n",
    "# {'n_estimators': 250, 'min_samples_split': 36, 'min_samples_leaf': 39, 'max_features': 'sqrt', 'max_depth': 3, 'learning_rate': 0.1}\n",
    "\n",
    "# {'n_estimators': 180, 'max_depth': 22, 'learning_rate': 0.05}"
   ]
  },
  {
   "cell_type": "code",
   "execution_count": 48,
   "id": "734a3080",
   "metadata": {},
   "outputs": [
    {
     "data": {
      "text/plain": [
       "0        63\n",
       "1         8\n",
       "2         4\n",
       "3         0\n",
       "4        63\n",
       "         ..\n",
       "39995    12\n",
       "39996    37\n",
       "39997    96\n",
       "39998    25\n",
       "39999    33\n",
       "Name: age_of_car, Length: 40000, dtype: int64"
      ]
     },
     "execution_count": 48,
     "metadata": {},
     "output_type": "execute_result"
    }
   ],
   "source": [
    "df_train['age_of_car']"
   ]
  },
  {
   "cell_type": "code",
   "execution_count": 47,
   "id": "cefeda52",
   "metadata": {},
   "outputs": [],
   "source": [
    "df_train['age_of_car']  = df_train['age_of_car'].apply(get_months)"
   ]
  },
  {
   "cell_type": "code",
   "execution_count": null,
   "id": "fe5fb4e0",
   "metadata": {},
   "outputs": [],
   "source": []
  },
  {
   "cell_type": "code",
   "execution_count": null,
   "id": "709e879b",
   "metadata": {},
   "outputs": [],
   "source": []
  },
  {
   "cell_type": "code",
   "execution_count": null,
   "id": "4015d214",
   "metadata": {},
   "outputs": [],
   "source": []
  },
  {
   "cell_type": "code",
   "execution_count": null,
   "id": "a6ebcb3b",
   "metadata": {},
   "outputs": [],
   "source": []
  },
  {
   "cell_type": "code",
   "execution_count": null,
   "id": "e24d0fbf",
   "metadata": {},
   "outputs": [],
   "source": []
  },
  {
   "cell_type": "code",
   "execution_count": null,
   "id": "db285c23",
   "metadata": {},
   "outputs": [],
   "source": []
  },
  {
   "cell_type": "code",
   "execution_count": null,
   "id": "8854acaa",
   "metadata": {},
   "outputs": [],
   "source": []
  }
 ],
 "metadata": {
  "kernelspec": {
   "display_name": "Python (myNEWenv)",
   "language": "python",
   "name": "mynewenv"
  },
  "language_info": {
   "codemirror_mode": {
    "name": "ipython",
    "version": 3
   },
   "file_extension": ".py",
   "mimetype": "text/x-python",
   "name": "python",
   "nbconvert_exporter": "python",
   "pygments_lexer": "ipython3",
   "version": "3.10.12"
  }
 },
 "nbformat": 4,
 "nbformat_minor": 5
}
