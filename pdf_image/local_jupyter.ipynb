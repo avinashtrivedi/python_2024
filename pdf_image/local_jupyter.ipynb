{
 "cells": [
  {
   "cell_type": "code",
   "execution_count": 2,
   "id": "cfc28be9",
   "metadata": {},
   "outputs": [
    {
     "data": {
      "application/vnd.jupyter.widget-view+json": {
       "model_id": "c103878c9c2d49a585e68ce7c851ffeb",
       "version_major": 2,
       "version_minor": 0
      },
      "text/plain": [
       "  0%|          | 0/106 [00:00<?, ?it/s]"
      ]
     },
     "metadata": {},
     "output_type": "display_data"
    },
    {
     "name": "stdout",
     "output_type": "stream",
     "text": [
      "page1_image1.jpeg 0\n",
      "page2_image1.jpeg 0\n",
      "page2_image2.jpeg 0\n",
      "page3_image1.jpeg 61\n",
      "page5_image1.jpeg 77\n",
      "page16_image1.jpeg 26\n",
      "page19_image1.jpeg 27\n",
      "page24_image1.jpeg 28\n",
      "page29_image1.jpeg 34\n",
      "page33_image1.jpeg 34\n",
      "page39_image1.jpeg 0\n",
      "page45_image1.jpeg 41\n",
      "page50_image1.jpeg 28\n",
      "page56_image1.jpeg 21\n",
      "page63_image1.jpeg 39\n",
      "page70_image1.jpeg 28\n",
      "page76_image1.jpeg 33\n",
      "page86_image1.jpeg 50\n",
      "page101_image1.jpeg 60\n",
      "page105_image1.jpeg 0\n",
      "page106_image1.jpeg 183\n"
     ]
    }
   ],
   "source": [
    "# pip install PyMuPDF Pillow\n",
    "# pip install pytesseract and pip install tesseract\n",
    "# ref https://www.geeksforgeeks.org/reading-text-from-the-image-using-tesseract/\n",
    "# ref https://www.kaggle.com/code/dhorvay/pytesseract-multiple-languages\n",
    "# ref https://stackoverflow.com/questions/50951955/pytesseract-tesseractnotfound-error-tesseract-is-not-installed-or-its-not-i\n",
    "# code adjusted as per https://stackoverflow.com/questions/75321414/python-page-object-has-no-attribute-getimagelist-where-i-try-to-extract-im\n",
    "\n",
    " \n",
    "import io \n",
    "\n",
    "import cv2\n",
    "import fitz\n",
    "import os,argparse\n",
    "from PIL import Image \n",
    "from tqdm.notebook import tqdm\n",
    "\n",
    "# install pytesseract in windows : https://github.com/UB-Mannheim/tesseract/wiki\n",
    "import pytesseract\n",
    "pytesseract.pytesseract.tesseract_cmd = r'C:\\Program Files\\Tesseract-OCR\\tesseract.exe' \n",
    "# tessdata_dir_config = '--tessdata-dir \"C:\\Program Files\\Tesseract-OCR\\tessdata\"'\n",
    "\n",
    "    \n",
    "file = \"நெஞ்சை_உருக்கும்_நீதிக்கதைகள்.pdf\"\n",
    "\n",
    "pdf_file = fitz.open(file) \n",
    "\n",
    "for page_index in tqdm(range(len(pdf_file))): \n",
    "\n",
    "    page = pdf_file[page_index] \n",
    "    image_list = page.get_images() \n",
    "\n",
    "    for image_index, img in enumerate(page.get_images(), start=1): \n",
    "        xref = img[0] \n",
    "        base_image = pdf_file.extract_image(xref) \n",
    "        image_bytes = base_image[\"image\"] \n",
    "        image = Image.open(io.BytesIO(image_bytes)) \n",
    "        \n",
    "        text = pytesseract.image_to_string(image) \n",
    "        if 0 <= len(text) < 210: #'\\x0c'\n",
    "            image_ext = base_image[\"ext\"] \n",
    "            image_name = f\"page{page_index + 1}_image{image_index}.{image_ext}\"\n",
    "            image.save('IMG/'+image_name) \n",
    "            print(image_name,len(text))"
   ]
  },
  {
   "cell_type": "code",
   "execution_count": null,
   "id": "1bf10027",
   "metadata": {},
   "outputs": [],
   "source": []
  }
 ],
 "metadata": {
  "kernelspec": {
   "display_name": "Python (myNEWenv)",
   "language": "python",
   "name": "mynewenv"
  },
  "language_info": {
   "codemirror_mode": {
    "name": "ipython",
    "version": 3
   },
   "file_extension": ".py",
   "mimetype": "text/x-python",
   "name": "python",
   "nbconvert_exporter": "python",
   "pygments_lexer": "ipython3",
   "version": "3.10.12"
  }
 },
 "nbformat": 4,
 "nbformat_minor": 5
}
