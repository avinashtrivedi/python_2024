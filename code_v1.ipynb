{
 "cells": [
  {
   "cell_type": "markdown",
   "id": "0a8d35bc-f27e-4d0f-8ebb-afba7c712d4b",
   "metadata": {},
   "source": [
    "# LLMs"
   ]
  },
  {
   "cell_type": "code",
   "execution_count": 1,
   "id": "a9720a65-0622-469f-9199-3d6b42d24784",
   "metadata": {},
   "outputs": [
    {
     "name": "stdout",
     "output_type": "stream",
     "text": [
      "Note: you may need to restart the kernel to use updated packages.\n"
     ]
    }
   ],
   "source": [
    "pip install -q python-dotenv openpyxl"
   ]
  },
  {
   "cell_type": "code",
   "execution_count": 2,
   "id": "4ca04c53-5b88-4267-b4ca-7725ca4437eb",
   "metadata": {},
   "outputs": [],
   "source": [
    "import pandas as pd"
   ]
  },
  {
   "cell_type": "code",
   "execution_count": 3,
   "id": "6381a61b-65ff-4682-abad-5d92228448d4",
   "metadata": {},
   "outputs": [],
   "source": [
    "df = pd.read_excel('Raw Data.xlsx')"
   ]
  },
  {
   "cell_type": "code",
   "execution_count": 4,
   "id": "fa1ecbe4-f992-48b1-b749-cf08123c28c5",
   "metadata": {},
   "outputs": [],
   "source": [
    "from dotenv import load_dotenv\n",
    "import os\n",
    "load_dotenv('key.env')\n",
    "OAI_KEY = os.environ.get('OPENAI_API_KEY')\n",
    "GROQ_KEY = os.environ.get('GROQ_API_KEY')"
   ]
  },
  {
   "cell_type": "code",
   "execution_count": 5,
   "id": "0f3eaae9-d93d-4708-8bb9-f1088a89a8e5",
   "metadata": {},
   "outputs": [
    {
     "name": "stdin",
     "output_type": "stream",
     "text": [
      "Willing to use paid or free? free\n"
     ]
    }
   ],
   "source": [
    "import openai\n",
    "from openai import OpenAI\n",
    "# get client\n",
    "\n",
    "choice = input('Willing to use paid or free?')\n",
    "\n",
    "if choice=='paid':\n",
    "    # paid, get your key and add in key.env file\n",
    "    client = OpenAI(api_key=OAI_KEY)\n",
    "else:\n",
    "    # free, get your free key and add in key.env file\n",
    "    client = openai.OpenAI(\n",
    "    base_url=\"https://api.groq.com/openai/v1\",\n",
    "    # create your api key https://console.groq.com/keys\n",
    "    api_key=GROQ_KEY\n",
    "    )"
   ]
  },
  {
   "cell_type": "markdown",
   "id": "563e1cfa-5d68-4b41-a5fd-e4c6bb129f6a",
   "metadata": {},
   "source": [
    "# Few Shot inference using LLMs"
   ]
  },
  {
   "cell_type": "code",
   "execution_count": 6,
   "id": "560a8f4b-c4f1-42b3-916f-cc0d679ce45e",
   "metadata": {},
   "outputs": [],
   "source": [
    "def get_predicted_linker(heavy_chain,light_chain,payload):\n",
    "    completion = client.chat.completions.create(\n",
    "\n",
    "        # List of models\n",
    "        # Free:- https://console.groq.com/docs/models\n",
    "        # Paid:- https://openai.com/api/pricing/\n",
    "        model= 'llama-3.1-8b-instant',# chatgpt cheapest and efficient -> \"gpt-4o-mini\",\n",
    "        messages=[\n",
    "            {\"role\": \"system\", \"content\": \"\"\"\n",
    "            You are an AI assistant in Medical Domain specifically in Antibody-drug conjugate. Your task is to predict or suggest the Linker SMILES based on sequences such as Heavy Chain Sequences, Light Chain Sequences, and Payload SMILES.\n",
    "            \n",
    "            Here are some examples:\n",
    "            \n",
    "            Example 1:\n",
    "            Heavy Chain Sequences: QVQLVQSGAEVKKPGSSVKVSCKASGGTFSNYWMHWVRQAPGQGLEWMGATYRGHSDTYYNQKFKGRVTITADKSTSTAYMELSSLRSEDTAVYYCARGAIYDGYDVLDNWGQGTLVTVSSASTKGPSVFPLAPSSKSTSGGTAALGCLVKDYFPEPVTVSWNSGALTSGVHTFPAVLQSSGLYSLSSVVTVPSSSLGTQTYICNVNHKPSNTKVDKKVEPKSCDKTHTCPPCPAPELLGGPSVFLFPPKPKDTLMISRTPEVTCVVVDVSHEDPEVKFNWYVDGVEVHNAKTKPREEQYNSTYRVVSVLTVLHQDWLNGKEYKCKVSNKALPAPIEKTISKAKGQPREPQVYTLPPSRDELTKNQVSLTCLVKGFYPSDIAVEWESNGQPENNYKTTPPVLDSDGSFFLYSKLTVDKSRWQQGNVFSCSVMHEALHNHYTQKSLSLSPGK\n",
    "            Light Chain Sequences: DIQMTQSPSSLSASVGDRVTITCSASQDISNYLNWYQQKPGKAPKLLIYYTSNLHSGVPSRFSGSGSGTDFTLTISSLQPEDFATYYCQQYRKLPWTFGQGTKLEIKRTVAAPSVFIFPPSDEQLKSGTASVVCLLNNFYPREAKVQWKVDNALQSGNSQESVTEQDSKDSTYSLSSTLTLSKADYEKHKVYACEVTHQGLSSPVTKSFNRGEC\n",
    "            Payload SMILES: CC[C@H](C)[C@@H]([C@@H](CC(=O)N1CCC[C@H]1[C@@H]([C@@H](C)C(=O)N[C@@H](CC2=CC=CC=C2)C(=O)O)OC)OC)N(C)C(=O)[C@H](C(C)C)NC(=O)[C@H](C(C)C)NC\n",
    "            Linker SMILES: O=C(O)CCCCCN1C(=O)C=CC1=O\n",
    "            \n",
    "            Example 2:\n",
    "            Heavy Chain Sequences: EVQLVESGGGLVQPGGSLRLSCAASGYTFSSYWIEWVRQAPGKGLEWIGEILPGGGDTNYNEIFKGRATFSADTSKNTAYLQMNSLRAEDTAVYYCTRRVPIRLDYWGQGTLVTVSSASTKGPSVFPLAPSSKSTSGGTAALGCLVKDYFPEPVTVSWNSGALTSGVHTFPAVLQSSGLYSLSSVVTVPSSSLGTQTYICNVNHKPSNTKVDKKVEPKSCDKTHTCPPCPAPELLGGPSVFLFPPKPKDTLMISRTPEVTCVVVDVSHEDPEVKFNWYVDGVEVHNAKTKPREEQYNSTYRVVSVLTVLHQDWLNGKEYKCKVSNKALPAPIEKTISKAKGQPREPQVYTLPPSREEMTKNQVSLTCLVKGFYPSDIAVEWESNGQPENNYKTTPPVLDSDGSFFLYSKLTVDKSRWQQGNVFSCSVMHEALHNHYTQKSLSLSPGK\n",
    "            Light Chain Sequences: DIQLTQSPSSLSASVGDRVTITCKASQSVDYEGDSFLNWYQQKPGKAPKLLIYAASNLESGVPSRFSGSGSGTDFTLTISSLQPEDFATYYCQQSNEDPLTFGQGTKVEIKRTVAAPSVFIFPPSDEQLKSGTASVVCLLNNFYPREAKVQWKVDNALQSGNSQESVTEQDSKDSTYSLSSTLTLSKADYEKHKVYACEVTHQGLSSPVTKSFNRGEC\n",
    "            Payload SMILES: CC[C@H](C)[C@@H]([C@@H](CC(=O)N1CCC[C@H]1[C@@H]([C@@H](C)C(=O)N[C@H](C)[C@H](C2=CC=CC=C2)O)OC)OC)N(C)C(=O)[C@H](C(C)C)NC(=O)[C@H](C(C)C)NC\n",
    "            Linker SMILES: CC(C)[C@@H](C(=O)N[C@@H](CCCNC(=O)N)C(=O)NC1=CC=C(C=C1)CO)NC(=O)CCCCCN2C(=O)C=CC2=O\n",
    "    \n",
    "            Example 3:\n",
    "            Heavy Chain Sequences: EVQLLESGGGLVQPGGSLRLSCAASGFTFSNYAMSWVRQAPGKGLEWVSSISGSGDYTYYTDSVKGRFTISRDNSKNTLYLQMNSLRAEDTAVYYCARSPWGYYLDSWGQGTLVTVSSASTKGPSVFPLAPSSKSTSGGTAALGCLVKDYFPEPVTVSWNSGALTSGVHTFPAVLQSSGLYSLSSVVTVPSSSLGTQTYICNVNHKPSNTKVDKRVEPKSCDKTHTCPPCPAPELLGGPSVFLFPPKPKDTLMISRTPEVTCVVVDVSHEDPEVKFNWYVDGVEVHNAKTKPREEQYNSTYRVVSVLTVLHQDWLNGKEYKCKVSNKALPAPIEKTISKAKGQPREPQVYTLPPSREEMTKNQVSLTCLVKGFYPSDIAVEWESNGQPENNYKTTPPVLDSDGSFFLYSKLTVDKSRWQQGNVFSCSVMHEALHNHYTQKSLSLSPGK\n",
    "            Light Chain Sequences: DIQMTQSPPSLSASAGDRVTITCRASQGISSRLAWYQQKPEKAPKSLIYAASSLQSGVPSRFSGSGSGTDFTLTISSLQPEDFATYYCQQYNSYPYTFGQGTKLEIKRTVAAPSVFIFPPSDEQLKSGTASVVCLLNNFYPREAKVQWKVDNALQSGNSQESVTEQDSKDSTYSLSSTLTLSKADYEKHKVYACEVTHQGLSSPVTKSFNRGEC\n",
    "            Payload SMILES: CC[C@H](C)[C@@H]([C@@H](CC(=O)N1CCC[C@H]1[C@@H]([C@@H](C)C(=O)N[C@H](C)[C@H](C2=CC=CC=C2)O)OC)OC)N(C)C(=O)[C@H](C(C)C)NC(=O)[C@H](C(C)C)NC\n",
    "            Linker SMILES: CC(C)[C@@H](C(=O)N[C@@H](CCCNC(=O)N)C(=O)NC1=CC=C(C=C1)CO)NC(=O)CCCCCN2C(=O)C=CC2=O\n",
    "            \n",
    "            When given new sequences, respond with only the predicted Linker SMILES and nothing else.\n",
    "            \"\"\"},\n",
    "            {\"role\": \"user\", \"content\": f\"\"\"\n",
    "            Heavy Chain Sequences: {heavy_chain}\n",
    "            Light Chain Sequences: {light_chain}\n",
    "            Payload SMILES: {payload}\n",
    "            \"\"\"}\n",
    "        ]\n",
    "    )\n",
    "    return completion.choices[0].message.content"
   ]
  },
  {
   "cell_type": "code",
   "execution_count": 7,
   "id": "bfce7b4f-4682-4016-8c55-3ae6f0cece2b",
   "metadata": {},
   "outputs": [
    {
     "data": {
      "text/plain": [
       "'CC(C)[C@H](C(=O)N[C@@H](CCCNC(=O)N)C(=O)NC1=CC=C(C=C1)CO)NC(=O)CCCCCN2C(=O)C=CC2=C'"
      ]
     },
     "execution_count": 7,
     "metadata": {},
     "output_type": "execute_result"
    }
   ],
   "source": [
    "row_num = 10\n",
    "heavy = df['Heavy Chain Sequences'][row_num]\n",
    "light = df['Light Chain Sequences'][row_num]\n",
    "payload = df['Payload SMILES'][row_num]\n",
    "\n",
    "get_predicted_linker(heavy,light,payload)"
   ]
  },
  {
   "cell_type": "code",
   "execution_count": 8,
   "id": "3c045240-c768-4930-ae94-7bf25fae8a1d",
   "metadata": {},
   "outputs": [
    {
     "data": {
      "text/plain": [
       "'CC(C)[C@@H](C(=O)N[C@H](CCC1=C2C=CC(=C3)S(C=O)N(C3)C(=O)CC2)[C@@H]2CCC(=O)NC(C([C@H](C)O)O)O)NC(=O)CCCCCN4C(=O)C=CC4=O'"
      ]
     },
     "execution_count": 8,
     "metadata": {},
     "output_type": "execute_result"
    }
   ],
   "source": [
    "row_num = 12\n",
    "heavy = df['Heavy Chain Sequences'][row_num]\n",
    "light = df['Light Chain Sequences'][row_num]\n",
    "payload = df['Payload SMILES'][row_num]\n",
    "\n",
    "get_predicted_linker(heavy,light,payload)"
   ]
  },
  {
   "cell_type": "code",
   "execution_count": null,
   "id": "c0410238-f51b-4f28-ab65-406d3275c7b0",
   "metadata": {},
   "outputs": [],
   "source": []
  }
 ],
 "metadata": {
  "kernelspec": {
   "display_name": "Python 3 (ipykernel)",
   "language": "python",
   "name": "python3"
  },
  "language_info": {
   "codemirror_mode": {
    "name": "ipython",
    "version": 3
   },
   "file_extension": ".py",
   "mimetype": "text/x-python",
   "name": "python",
   "nbconvert_exporter": "python",
   "pygments_lexer": "ipython3",
   "version": "3.10.12"
  }
 },
 "nbformat": 4,
 "nbformat_minor": 5
}
