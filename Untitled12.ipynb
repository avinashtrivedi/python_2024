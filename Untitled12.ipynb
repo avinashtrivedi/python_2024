{
 "cells": [
  {
   "cell_type": "code",
   "execution_count": 3,
   "id": "f3693cd3",
   "metadata": {},
   "outputs": [
    {
     "name": "stderr",
     "output_type": "stream",
     "text": [
      "C:\\Users\\avitr\\anaconda3\\envs\\test_env\\lib\\site-packages\\pandas\\core\\arrays\\masked.py:60: UserWarning: Pandas requires version '1.3.6' or newer of 'bottleneck' (version '1.3.5' currently installed).\n",
      "  from pandas.core import (\n"
     ]
    }
   ],
   "source": [
    "from bs4 import BeautifulSoup\n",
    "import urllib3\n",
    "import re\n",
    "import json\n",
    "import pandas as pd\n",
    "import time\n",
    "from tqdm.notebook import tqdm"
   ]
  },
  {
   "cell_type": "code",
   "execution_count": 7,
   "id": "d5e4dd52",
   "metadata": {},
   "outputs": [],
   "source": [
    "month = 1\n",
    "topics = ['politik', 'wirtschaft', 'sport', 'wissen','kultur']\n",
    "link_dict = {key: [] for key in topics}\n",
    "year = 2023"
   ]
  },
  {
   "cell_type": "code",
   "execution_count": 10,
   "id": "86c3978f",
   "metadata": {},
   "outputs": [
    {
     "name": "stdout",
     "output_type": "stream",
     "text": [
      "https://www.sueddeutsche.de/archiv/politik/2023/1\n",
      "https://www.sueddeutsche.de/archiv/wirtschaft/2023/1\n",
      "https://www.sueddeutsche.de/archiv/sport/2023/1\n",
      "https://www.sueddeutsche.de/archiv/wissen/2023/1\n",
      "https://www.sueddeutsche.de/archiv/kultur/2023/1\n"
     ]
    }
   ],
   "source": [
    "for topic in topics:\n",
    "    baseUrl = f\"https://www.sueddeutsche.de/archiv/{topic}/{year}/{month}/page/{page}\"\n",
    "    print(baseUrl)"
   ]
  },
  {
   "cell_type": "code",
   "execution_count": 9,
   "id": "ab61bc31",
   "metadata": {},
   "outputs": [
    {
     "data": {
      "text/plain": [
       "'https://www.sueddeutsche.de/archiv/politik/2023/1'"
      ]
     },
     "execution_count": 9,
     "metadata": {},
     "output_type": "execute_result"
    }
   ],
   "source": [
    "baseUrl"
   ]
  },
  {
   "cell_type": "code",
   "execution_count": 12,
   "id": "cc859152",
   "metadata": {},
   "outputs": [],
   "source": [
    "url = 'https://www.sueddeutsche.de/archiv/politik/2023/1'"
   ]
  },
  {
   "cell_type": "code",
   "execution_count": 14,
   "id": "6bc8fd1d",
   "metadata": {},
   "outputs": [],
   "source": [
    "def get_html(url):\n",
    "    http = urllib3.PoolManager()\n",
    "    response = http.request('GET', url,headers = {'User-agent': 'your bot 0.1'})\n",
    "    soup = BeautifulSoup(response.data)\n",
    "    return soup,response.status"
   ]
  },
  {
   "cell_type": "code",
   "execution_count": 17,
   "id": "c357d1e6",
   "metadata": {},
   "outputs": [],
   "source": [
    "soup, status = get_html(url)"
   ]
  },
  {
   "cell_type": "code",
   "execution_count": 18,
   "id": "17314888",
   "metadata": {},
   "outputs": [
    {
     "data": {
      "text/plain": [
       "200"
      ]
     },
     "execution_count": 18,
     "metadata": {},
     "output_type": "execute_result"
    }
   ],
   "source": [
    "status"
   ]
  },
  {
   "cell_type": "code",
   "execution_count": null,
   "id": "049bc0bc",
   "metadata": {},
   "outputs": [],
   "source": []
  },
  {
   "cell_type": "code",
   "execution_count": 20,
   "id": "a744efdb",
   "metadata": {},
   "outputs": [],
   "source": [
    "links = soup.find_all('a', class_='entrylist__link')\n",
    "for link in links:\n",
    "    href = link.get('href')"
   ]
  },
  {
   "cell_type": "code",
   "execution_count": 25,
   "id": "6db0dd3b",
   "metadata": {},
   "outputs": [
    {
     "data": {
      "text/plain": [
       "'https://www.sueddeutsche.de/politik/konflikte-krieg-gegen-die-ukraine-so-ist-die-lage-dpa.urn-newsml-dpa-com-20090101-230130-99-406826'"
      ]
     },
     "execution_count": 25,
     "metadata": {},
     "output_type": "execute_result"
    }
   ],
   "source": [
    "links[2].get('href')"
   ]
  },
  {
   "cell_type": "code",
   "execution_count": 26,
   "id": "aae10c45",
   "metadata": {},
   "outputs": [],
   "source": [
    "soup, status = get_html(url)\n",
    "page_links = soup.find_all('a', {'data-page': True})\n",
    "page_numbers = [int(link['data-page']) for link in page_links]\n",
    "last_page_number = max(page_numbers) if page_numbers else None"
   ]
  },
  {
   "cell_type": "code",
   "execution_count": 30,
   "id": "1d718d09",
   "metadata": {},
   "outputs": [
    {
     "data": {
      "text/plain": [
       "2"
      ]
     },
     "execution_count": 30,
     "metadata": {},
     "output_type": "execute_result"
    }
   ],
   "source": [
    "int(page_links[0]['data-page'])"
   ]
  },
  {
   "cell_type": "code",
   "execution_count": 31,
   "id": "27681dbf",
   "metadata": {},
   "outputs": [
    {
     "data": {
      "text/plain": [
       "[2, 3, 5, 13, 25, 50, 2]"
      ]
     },
     "execution_count": 31,
     "metadata": {},
     "output_type": "execute_result"
    }
   ],
   "source": [
    "page_numbers"
   ]
  },
  {
   "cell_type": "code",
   "execution_count": null,
   "id": "b8b78772",
   "metadata": {},
   "outputs": [],
   "source": [
    "url = f\"https://www.sueddeutsche.de/archiv/{topic}/{year}/{month}/page/{page}\""
   ]
  }
 ],
 "metadata": {
  "kernelspec": {
   "display_name": "Python (myNEWenv)",
   "language": "python",
   "name": "mynewenv"
  },
  "language_info": {
   "codemirror_mode": {
    "name": "ipython",
    "version": 3
   },
   "file_extension": ".py",
   "mimetype": "text/x-python",
   "name": "python",
   "nbconvert_exporter": "python",
   "pygments_lexer": "ipython3",
   "version": "3.10.12"
  }
 },
 "nbformat": 4,
 "nbformat_minor": 5
}
