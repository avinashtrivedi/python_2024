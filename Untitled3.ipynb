{
 "cells": [
  {
   "cell_type": "code",
   "execution_count": null,
   "id": "1a3e0f2e",
   "metadata": {},
   "outputs": [],
   "source": [
    "for \n",
    "result = pd.DataFrame([],columns=['f1','precision','roc_auc','pr_auc','accuracy','f2_score','f0_5_score','g_mean'])\n",
    "fig1 = make_subplots(rows=5, cols=4,\n",
    "                     subplot_titles=tuple(class_weights_dict))\n",
    "r = 1\n",
    "c = 1\n",
    "downsampled_rf_class1_result = {}\n",
    "for industry,weights_indus in class_weights_dict.items():\n",
    "    # make a pipeline for random forest classifier\n",
    "    rf_pipeline = Pipeline(steps=[('classifier',\n",
    "                                   RandomForestClassifier(n_estimators=100,n_jobs=-1,\n",
    "                                                          random_state=42,\n",
    "                                                          class_weight=weights_indus))])\n",
    "    temp_result = evaluate_model(rf_pipeline, 'Random Forest',industry,X_train_upsampled, y_train_upsampled)\n",
    "    downsampled_rf_class1_result[industry] = temp_result[0]\n",
    "    # Plot the top 20 most important features\n",
    "    top_features = temp_result[-1].head(20)\n",
    "    fig = px.bar(top_features, x='importance', y='feature',\n",
    "                title=f'Top 20 Feature Importances Random Forest', orientation='h',\n",
    "                height=600)  # adjust the height to fit 20 bars\n",
    "    \n",
    "    fig.update_traces(marker=dict(color=top_features['importance'],\n",
    "                                colorscale='Viridis'))\n",
    "    fig.update_layout(yaxis={'categoryorder':'total ascending'})\n",
    "    \n",
    "    \n",
    "    for data in fig.data:\n",
    "        fig1.add_trace(data,row=r, col=c)\n",
    "    \n",
    "    if c==4:\n",
    "        r = r + 1\n",
    "        c = 0\n",
    "        \n",
    "    c = c + 1\n",
    "\n",
    "    result.loc[industry] = temp_result[1:-1]   \n",
    "fig1.update_layout(height=1000, width=1500)\n",
    "fig1.show()"
   ]
  }
 ],
 "metadata": {
  "kernelspec": {
   "display_name": "Python (myNEWenv)",
   "language": "python",
   "name": "mynewenv"
  },
  "language_info": {
   "codemirror_mode": {
    "name": "ipython",
    "version": 3
   },
   "file_extension": ".py",
   "mimetype": "text/x-python",
   "name": "python",
   "nbconvert_exporter": "python",
   "pygments_lexer": "ipython3",
   "version": "3.10.12"
  }
 },
 "nbformat": 4,
 "nbformat_minor": 5
}
