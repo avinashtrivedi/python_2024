{
 "cells": [
  {
   "cell_type": "code",
   "execution_count": 25,
   "id": "41d252b3",
   "metadata": {},
   "outputs": [
    {
     "data": {
      "text/plain": [
       "{'date': '2024-05',\n",
       " 'forecast': 11669278.422192512,\n",
       " 'history': 4898471.55,\n",
       " 'lastYearPlus10Percent': 7925008.25}"
      ]
     },
     "execution_count": 25,
     "metadata": {},
     "output_type": "execute_result"
    }
   ],
   "source": [
    "{\n",
    "'date': \"2024-05\",\n",
    "'forecast': 11669278.422192512,\n",
    "'history': 4898471.55,\n",
    "'lastYearPlus10Percent': 7925008.25\n",
    "}"
   ]
  },
  {
   "cell_type": "code",
   "execution_count": null,
   "id": "262a04f0",
   "metadata": {},
   "outputs": [],
   "source": []
  },
  {
   "cell_type": "code",
   "execution_count": 21,
   "id": "e6d6256f",
   "metadata": {
    "collapsed": true
   },
   "outputs": [
    {
     "ename": "NameError",
     "evalue": "name 'date' is not defined",
     "output_type": "error",
     "traceback": [
      "\u001b[1;31m---------------------------------------------------------------------------\u001b[0m",
      "\u001b[1;31mNameError\u001b[0m                                 Traceback (most recent call last)",
      "Cell \u001b[1;32mIn[21], line 3\u001b[0m\n\u001b[0;32m      1\u001b[0m data1 \u001b[38;5;241m=\u001b[39m [\n\u001b[0;32m      2\u001b[0m   {\n\u001b[1;32m----> 3\u001b[0m     date: \u001b[38;5;124m\"\u001b[39m\u001b[38;5;124m2024-05\u001b[39m\u001b[38;5;124m\"\u001b[39m,\n\u001b[0;32m      4\u001b[0m     forecast: \u001b[38;5;241m11669278.422192512\u001b[39m,\n\u001b[0;32m      5\u001b[0m     history: \u001b[38;5;241m4898471.55\u001b[39m,\n\u001b[0;32m      6\u001b[0m     lastYearPlus10Percent: \u001b[38;5;241m7925008.25\u001b[39m\n\u001b[0;32m      7\u001b[0m   },\n\u001b[0;32m      8\u001b[0m   {\n\u001b[0;32m      9\u001b[0m     date: \u001b[38;5;124m\"\u001b[39m\u001b[38;5;124m2024-06\u001b[39m\u001b[38;5;124m\"\u001b[39m,\n\u001b[0;32m     10\u001b[0m     forecast: \u001b[38;5;241m14249018.153101604\u001b[39m,\n\u001b[0;32m     11\u001b[0m     history: null,\n\u001b[0;32m     12\u001b[0m     lastYearPlus10Percent: \u001b[38;5;241m9276300.49\u001b[39m\n\u001b[0;32m     13\u001b[0m   },\n\u001b[0;32m     14\u001b[0m   {\n\u001b[0;32m     15\u001b[0m     date: \u001b[38;5;124m\"\u001b[39m\u001b[38;5;124m2024-07\u001b[39m\u001b[38;5;124m\"\u001b[39m,\n\u001b[0;32m     16\u001b[0m     forecast: \u001b[38;5;241m17770034.529218707\u001b[39m,\n\u001b[0;32m     17\u001b[0m     history: null,\n\u001b[0;32m     18\u001b[0m     lastYearPlus10Percent: \u001b[38;5;241m6671031.68\u001b[39m\n\u001b[0;32m     19\u001b[0m   },\n\u001b[0;32m     20\u001b[0m   {\n\u001b[0;32m     21\u001b[0m     date: \u001b[38;5;124m\"\u001b[39m\u001b[38;5;124m2024-08\u001b[39m\u001b[38;5;124m\"\u001b[39m,\n\u001b[0;32m     22\u001b[0m     forecast: \u001b[38;5;241m2549204.363101604\u001b[39m,\n\u001b[0;32m     23\u001b[0m     history: null,\n\u001b[0;32m     24\u001b[0m     lastYearPlus10Percent: \u001b[38;5;241m3147826.6\u001b[39m\n\u001b[0;32m     25\u001b[0m   },\n\u001b[0;32m     26\u001b[0m   {\n\u001b[0;32m     27\u001b[0m     date: \u001b[38;5;124m\"\u001b[39m\u001b[38;5;124m2024-09\u001b[39m\u001b[38;5;124m\"\u001b[39m,\n\u001b[0;32m     28\u001b[0m     forecast: \u001b[38;5;241m28126315.75764706\u001b[39m,\n\u001b[0;32m     29\u001b[0m     history: null,\n\u001b[0;32m     30\u001b[0m     lastYearPlus10Percent: \u001b[38;5;241m16545361.14\u001b[39m\n\u001b[0;32m     31\u001b[0m   },\n\u001b[0;32m     32\u001b[0m   {\n\u001b[0;32m     33\u001b[0m     date: \u001b[38;5;124m\"\u001b[39m\u001b[38;5;124m2024-10\u001b[39m\u001b[38;5;124m\"\u001b[39m,\n\u001b[0;32m     34\u001b[0m     forecast: \u001b[38;5;241m0.0\u001b[39m,\n\u001b[0;32m     35\u001b[0m     history: null,\n\u001b[0;32m     36\u001b[0m     lastYearPlus10Percent: \u001b[38;5;241m473570.79\u001b[39m\n\u001b[0;32m     37\u001b[0m   },\n\u001b[0;32m     38\u001b[0m   {\n\u001b[0;32m     39\u001b[0m     date: \u001b[38;5;124m\"\u001b[39m\u001b[38;5;124m2024-11\u001b[39m\u001b[38;5;124m\"\u001b[39m,\n\u001b[0;32m     40\u001b[0m     forecast: \u001b[38;5;241m0.0\u001b[39m,\n\u001b[0;32m     41\u001b[0m     history: null,\n\u001b[0;32m     42\u001b[0m     lastYearPlus10Percent: \u001b[38;5;241m398677.13\u001b[39m\n\u001b[0;32m     43\u001b[0m   },\n\u001b[0;32m     44\u001b[0m   {\n\u001b[0;32m     45\u001b[0m     date: \u001b[38;5;124m\"\u001b[39m\u001b[38;5;124m2024-12\u001b[39m\u001b[38;5;124m\"\u001b[39m,\n\u001b[0;32m     46\u001b[0m     forecast: \u001b[38;5;241m0.0\u001b[39m,\n\u001b[0;32m     47\u001b[0m     history: null,\n\u001b[0;32m     48\u001b[0m     lastYearPlus10Percent: \u001b[38;5;241m-\u001b[39m\u001b[38;5;241m134522.85\u001b[39m\n\u001b[0;32m     49\u001b[0m   }\n\u001b[0;32m     50\u001b[0m ]\n",
      "\u001b[1;31mNameError\u001b[0m: name 'date' is not defined"
     ]
    }
   ],
   "source": [
    "data1 = [\n",
    "  {\n",
    "    date: \"2024-05\",\n",
    "    forecast: 11669278.422192512,\n",
    "    history: 4898471.55,\n",
    "    lastYearPlus10Percent: 7925008.25\n",
    "  },\n",
    "  {\n",
    "    date: \"2024-06\",\n",
    "    forecast: 14249018.153101604,\n",
    "    history: null,\n",
    "    lastYearPlus10Percent: 9276300.49\n",
    "  },\n",
    "  {\n",
    "    date: \"2024-07\",\n",
    "    forecast: 17770034.529218707,\n",
    "    history: null,\n",
    "    lastYearPlus10Percent: 6671031.68\n",
    "  },\n",
    "  {\n",
    "    date: \"2024-08\",\n",
    "    forecast: 2549204.363101604,\n",
    "    history: null,\n",
    "    lastYearPlus10Percent: 3147826.6\n",
    "  },\n",
    "  {\n",
    "    date: \"2024-09\",\n",
    "    forecast: 28126315.75764706,\n",
    "    history: null,\n",
    "    lastYearPlus10Percent: 16545361.14\n",
    "  },\n",
    "  {\n",
    "    date: \"2024-10\",\n",
    "    forecast: 0.0,\n",
    "    history: null,\n",
    "    lastYearPlus10Percent: 473570.79\n",
    "  },\n",
    "  {\n",
    "    date: \"2024-11\",\n",
    "    forecast: 0.0,\n",
    "    history: null,\n",
    "    lastYearPlus10Percent: 398677.13\n",
    "  },\n",
    "  {\n",
    "    date: \"2024-12\",\n",
    "    forecast: 0.0,\n",
    "    history: null,\n",
    "    lastYearPlus10Percent: -134522.85\n",
    "  }\n",
    "];\n"
   ]
  },
  {
   "cell_type": "code",
   "execution_count": 26,
   "id": "29f6394a",
   "metadata": {},
   "outputs": [],
   "source": [
    "data = {\n",
    "    \"date\": [\n",
    "        \"2024-05\",\n",
    "        \"2024-06\",\n",
    "        \"2024-07\",\n",
    "        \"2024-08\",\n",
    "        \"2024-09\",\n",
    "        \"2024-10\",\n",
    "        \"2024-11\",\n",
    "        \"2024-12\"\n",
    "    ],\n",
    "    \"dimensions\": {\n",
    "        \"company_name\": {\n",
    "            \"Sodexo, Inc.\": [\n",
    "                11669278.422192512,\n",
    "                14249018.153101604,\n",
    "                17770034.529218707,\n",
    "                2549204.363101604,\n",
    "                28126315.75764706,\n",
    "                0.0,\n",
    "                0.0,\n",
    "                0.0\n",
    "            ],\n",
    "            \"Sodexo, Inc.\": [\n",
    "                11669278.422192512,\n",
    "                14249018.153101604,\n",
    "                17770034.529218707,\n",
    "                2549204.363101604,\n",
    "                28126315.75764706,\n",
    "                0.0,\n",
    "                0.0,\n",
    "                0.0\n",
    "            ]\n",
    "        }\n",
    "    },\n",
    "    \"history\": {\n",
    "        \"company_name\": {\n",
    "            \"Sodexo, Inc.\": {\n",
    "                \"dates\": [\n",
    "                    \"2022-12\",\n",
    "                    \"2023-01\",\n",
    "                    \"2023-02\",\n",
    "                    \"2023-03\",\n",
    "                    \"2023-04\",\n",
    "                    \"2023-05\",\n",
    "                    \"2023-06\",\n",
    "                    \"2023-07\",\n",
    "                    \"2023-08\",\n",
    "                    \"2023-09\",\n",
    "                    \"2023-10\",\n",
    "                    \"2023-11\",\n",
    "                    \"2023-12\",\n",
    "                    \"2024-01\",\n",
    "                    \"2024-02\",\n",
    "                    \"2024-03\",\n",
    "                    \"2024-04\",\n",
    "                    \"2024-05\"\n",
    "                ],\n",
    "                \"values\": [\n",
    "                    218309.7,\n",
    "                    360578.4,\n",
    "                    2844321.9,\n",
    "                    2686689.6,\n",
    "                    2070079.2,\n",
    "                    7204552.95,\n",
    "                    8433000.45,\n",
    "                    6064574.25,\n",
    "                    2861660.55,\n",
    "                    15041237.4,\n",
    "                    430518.9,\n",
    "                    362433.75,\n",
    "                    -122293.5,\n",
    "                    3573919.65,\n",
    "                    1467707.85,\n",
    "                    1305765.3,\n",
    "                    4021750.95,\n",
    "                    4898471.55\n",
    "                ]\n",
    "            }\n",
    "        }\n",
    "    },\n",
    "    \"last_year_plus_10_percent\": {\n",
    "        \"company_name\": {\n",
    "            \"Sodexo, Inc.\": {\n",
    "                \"dates\": [\n",
    "                    \"2023-12\",\n",
    "                    \"2024-01\",\n",
    "                    \"2024-02\",\n",
    "                    \"2024-03\",\n",
    "                    \"2024-04\",\n",
    "                    \"2024-05\",\n",
    "                    \"2024-06\",\n",
    "                    \"2024-07\",\n",
    "                    \"2024-08\",\n",
    "                    \"2024-09\",\n",
    "                    \"2024-10\",\n",
    "                    \"2024-11\",\n",
    "                    \"2024-12\",\n",
    "                    \"2025-01\",\n",
    "                    \"2025-02\",\n",
    "                    \"2025-03\",\n",
    "                    \"2025-04\",\n",
    "                    \"2025-05\"\n",
    "                ],\n",
    "                \"values\": [\n",
    "                    240140.67,\n",
    "                    396636.24,\n",
    "                    3128754.09,\n",
    "                    2955358.56,\n",
    "                    2277087.12,\n",
    "                    7925008.25,\n",
    "                    9276300.49,\n",
    "                    6671031.68,\n",
    "                    3147826.6,\n",
    "                    16545361.14,\n",
    "                    473570.79,\n",
    "                    398677.13,\n",
    "                    -134522.85,\n",
    "                    3931311.62,\n",
    "                    1614478.64,\n",
    "                    1436341.83,\n",
    "                    4423926.05,\n",
    "                    5388318.71\n",
    "                ]\n",
    "            }\n",
    "        }\n",
    "    },\n",
    "    \"strat_forecasting\": \"2024-05-01\",\n",
    "    \"target\": \"Sale Amount\"\n",
    "}"
   ]
  },
  {
   "cell_type": "code",
   "execution_count": 28,
   "id": "6c2b4703",
   "metadata": {},
   "outputs": [
    {
     "data": {
      "text/plain": [
       "dict_keys(['date', 'dimensions', 'history', 'last_year_plus_10_percent', 'strat_forecasting', 'target'])"
      ]
     },
     "execution_count": 28,
     "metadata": {},
     "output_type": "execute_result"
    }
   ],
   "source": [
    "data.keys()"
   ]
  },
  {
   "cell_type": "code",
   "execution_count": null,
   "id": "33f88ae3",
   "metadata": {},
   "outputs": [],
   "source": []
  },
  {
   "cell_type": "code",
   "execution_count": 48,
   "id": "08e3daf1",
   "metadata": {},
   "outputs": [],
   "source": [
    "dates_hist = [data['history']['company_name'][company_name]['dates'] for company_name in data['history']['company_name']]\n",
    "values_hist = [data['history']['company_name'][company_name]['values'] for company_name in data['history']['company_name']]"
   ]
  },
  {
   "cell_type": "code",
   "execution_count": 47,
   "id": "e4a8c04a",
   "metadata": {},
   "outputs": [
    {
     "data": {
      "text/plain": [
       "[['2023-12',\n",
       "  '2024-01',\n",
       "  '2024-02',\n",
       "  '2024-03',\n",
       "  '2024-04',\n",
       "  '2024-05',\n",
       "  '2024-06',\n",
       "  '2024-07',\n",
       "  '2024-08',\n",
       "  '2024-09',\n",
       "  '2024-10',\n",
       "  '2024-11',\n",
       "  '2024-12',\n",
       "  '2025-01',\n",
       "  '2025-02',\n",
       "  '2025-03',\n",
       "  '2025-04',\n",
       "  '2025-05']]"
      ]
     },
     "execution_count": 47,
     "metadata": {},
     "output_type": "execute_result"
    }
   ],
   "source": [
    "dates_hist = [data['last_year_plus_10_percent']['company_name'][company_name]['dates'] for company_name in data['last_year_plus_10_percent']['company_name']]"
   ]
  },
  {
   "cell_type": "code",
   "execution_count": null,
   "id": "d8c43b59",
   "metadata": {},
   "outputs": [],
   "source": []
  }
 ],
 "metadata": {
  "kernelspec": {
   "display_name": "llm-kernal",
   "language": "python",
   "name": "llm-kernal"
  },
  "language_info": {
   "codemirror_mode": {
    "name": "ipython",
    "version": 3
   },
   "file_extension": ".py",
   "mimetype": "text/x-python",
   "name": "python",
   "nbconvert_exporter": "python",
   "pygments_lexer": "ipython3",
   "version": "3.12.4"
  }
 },
 "nbformat": 4,
 "nbformat_minor": 5
}
