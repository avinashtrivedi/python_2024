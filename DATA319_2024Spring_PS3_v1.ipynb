{
 "cells": [
  {
   "cell_type": "markdown",
   "metadata": {
    "tags": []
   },
   "source": [
    "<h2> DATA 319: Model-based and Data-based Methods for Data Analytics. Spring 2024 </h2>\n",
    "<h3> Problem Set 3 </h3>\n",
    "<h3> Group <i> (Insert your group number here) </i></h3>\n",
    "<h3> Type students' names <i> (only those who contributed to the group work)</i> here</h3>"
   ]
  },
  {
   "cell_type": "markdown",
   "metadata": {},
   "source": [
    "#### 1. In your own words, explain the difference between two tests: ANOVA and MANOVA. How MANOVA is different from a multi-factor ANOVA?"
   ]
  },
  {
   "cell_type": "markdown",
   "metadata": {},
   "source": [
    "ANOVA compares means of two samples/populations, whereas MANOVA compares means of several samples/populations. MANOVA utilises the covariance-variance relationship to analyse several dependent variables simultaneously. The ANOVA test is used when there is just one dependent variable, and the number of independent factors may vary depending on the dataset. The MANOVA test is useful for analysing multiple dependent variables and assessing the influence of independent factors on these dependent variables in a dataset.\n",
    "\n",
    "MANOVA and multi-factor ANOVA are statistical methods utilised to analyse variations among groups or factors. Nevertheless, they vary in their methodology and the categories of data they examine.\n",
    "\n",
    "A. MANOVA (Multivariate Analysis of Variance)\n",
    "\n",
    "- MANOVA is an extension of ANOVA that enables the simultaneous analysis of multiple dependent variables.\n",
    "- It checks if there are statistically significant variations between groups or factors across several dependent variables.\n",
    "- MANOVA examines the association between dependent variables and assesses if the means of these variables are the same among different groups or factors.\n",
    "- MANOVA evaluates group differences and variations in particular combinations of dependent variables.\n",
    "- MANOVA is beneficial when the dependent variables exhibit correlations, and it takes these correlations into consideration throughout the analysis.\n",
    "\n",
    "B. Multi-Factor ANOVA (Analysis of Variance):\n",
    "\n",
    "- Multi-factor ANOVA, or factorial ANOVA, is employed to examine the impact of several independent variables (factors) on a single dependent variable.\n",
    "- The analysis evaluates the primary impacts of each independent variable and any potential interaction effects between them.\n",
    "- Multi-factor ANOVA can involve both categorical and continuous independent variables.\n",
    "- The analysis is conducted individually for each dependent variable and does not take into account the interrelationships among several dependent variables concurrently.\n"
   ]
  },
  {
   "cell_type": "markdown",
   "metadata": {},
   "source": [
    "#### 2. For the following two variables \n",
    "\n",
    "\\begin{bmatrix} X & Y\\\\ 2 & 2\\\\ 0 & 0\\\\ -1 & 3 \\\\ 0 & 1\\\\ 0 & 1\\\\ 0 & 1\\\\ 1 & -1\\\\ 1 & 0 \\end{bmatrix}\n",
    "\n",
    "##### (a) Perform a hypothesis test to check whether the population means of the two variables are the same at the α = .05 significance level (assume unequal variances).\n",
    "\n",
    "##### (b) Report the value of your test statistic and the critical value of the test. Report the p-value of the test and your test decision."
   ]
  },
  {
   "cell_type": "markdown",
   "metadata": {},
   "source": [
    "# a\n",
    "\n",
    "- Null Hypothesis (H0): The population means of variables X and Y are equal.\n",
    "- Alternative Hypothesis (H1): The population means of variables X and Y are not equal.\n",
    "    \n",
    "# b\n",
    "\n",
    "calculate the test statistic, critical value, and p-value using the t-test."
   ]
  },
  {
   "cell_type": "code",
   "execution_count": 1,
   "metadata": {},
   "outputs": [
    {
     "name": "stdout",
     "output_type": "stream",
     "text": [
      "*****************************************\n",
      "* Test Statistic: -0.9142324078276749\n",
      "* Critical Value: 2.1447866879169273\n",
      "* P-value: 0.3774246241131024\n",
      "************** Test Decision ************\n",
      "Fail to reject null hypothesis\n"
     ]
    }
   ],
   "source": [
    "import numpy as np\n",
    "from scipy import stats\n",
    "\n",
    "X = np.array([2, 0, -1, 0, 0, 0, 1, 1])\n",
    "Y = np.array([2, 0, 3, 1, 1, 1, -1, 0])\n",
    "\n",
    "t_stat, p_value = stats.ttest_ind(X, Y, equal_var=False)\n",
    "\n",
    "degrees_freedom = len(X) + len(Y) - 2\n",
    "\n",
    "alpha = 0.05\n",
    "critical_val = stats.t.ppf(1 - alpha/2, degrees_freedom)\n",
    "print(\"*****************************************\")\n",
    "print(\"* Test Statistic:\", t_stat)\n",
    "print(\"* Critical Value:\", critical_val)\n",
    "print(\"* P-value:\", p_value)\n",
    "print(\"************** Test Decision ************\")\n",
    "if np.abs(t_stat) > critical_val:\n",
    "    print(\"Reject null hypothesis\")\n",
    "else:\n",
    "    print(\"Fail to reject null hypothesis\")"
   ]
  },
  {
   "cell_type": "markdown",
   "metadata": {},
   "source": [
    "- Given the test results, with a p-value of 0.377 above the significance level of 0.05, we do not reject the null hypothesis. We lack adequate data to determine that the population means of variables X and Y vary significantly at the 0.05 significance level."
   ]
  },
  {
   "cell_type": "markdown",
   "metadata": {},
   "source": [
    "#### 3. This problem references the `baseball.csv` dataset, which has six variables (At Bats, Walks, Strikeouts, Hits, Home Runs) for 25 players from MLB 2021 season. \n",
    "\n",
    "##### (a) Report the sample means for each of these six variables.\n",
    "\n",
    "##### (b) Perform a hypothesis test against $\\mu = (570, 60, 130, 160, 30, 90)$ representing the prior year full-league averages at the α = .05 significance level. Report the value of your test statistic and the critical value of the test. Report the p-value of the test and your test decision.\n",
    "\n",
    "##### (c) Compute $T^2$ simultaneous confidence intervals to give coverage at the 95% confidence level.\n",
    "\n",
    "##### (d) Compute simultaneous confidence intervals using Bonferroni correction to give coverage at the 95% confidence level.\n",
    "\n",
    "##### (e) Use your intervals from parts (c) and (d) to determine which component(s) are causing the difference identified in your hypothesis test (if any)."
   ]
  },
  {
   "cell_type": "markdown",
   "metadata": {},
   "source": [
    "#### 4. Consider the following multivariate dataset\n",
    "\n",
    "#### $X = \\begin{bmatrix}2&2&3\\\\0&0&2\\\\-1&3&2\\\\0&1&1\\\\0&1&5\\\\0&1&3\\\\1&-1&3\\\\1&0&5\\end{bmatrix}$\n",
    "\n",
    "##### (a) Perform a hypothesis test with the null hypothesis $H_0 : (\\mu_1 - \\mu_2, \\mu_1 - \\mu_3) = (0, 0)$ at the α = .05 significance level. Obtain the differences using the contrast matrix. Report the value of your test statistic and the critical value of the test. Report the p-value of the test and your test decision.\n",
    "\n",
    "##### (b) Will your test decision change at α = .01? At α = .001?\n"
   ]
  },
  {
   "cell_type": "markdown",
   "metadata": {},
   "source": [
    "#### 5. This problem references the `anova.csv` dataset, which has three numerical columns: $X1$, $X2$, and $X3$ and a fourth categorical column that separates the observations into three classes: \"A\", \"B\", and \"C\".\n",
    "\n",
    "##### (a) Evaluate whether the data $(X_1, X_2, X_3)$ arises from a multivariate normal distribution using visual analysis tools. Construct univariate histograms, univariate probability plots, and pairwise scatterplots.\n",
    "\n",
    "##### (b) If you decided in part (a) that any of the columns were not normal, perform a suitable transformation to alleviate this problem.\n",
    "\n",
    "##### (c) Using your (potentially) transformed dataset from part (b) how would you test if the population means across all three groups are equal? State your null hypothesis.\n",
    "\n",
    "##### (d) Perform a hypothesis test at the α = .05 significance level. What is the test statistic used for this test? Report the p-value of the test and your test decision."
   ]
  }
 ],
 "metadata": {
  "kernelspec": {
   "display_name": "Python 3 (ipykernel)",
   "language": "python",
   "name": "python3"
  },
  "language_info": {
   "codemirror_mode": {
    "name": "ipython",
    "version": 3
   },
   "file_extension": ".py",
   "mimetype": "text/x-python",
   "name": "python",
   "nbconvert_exporter": "python",
   "pygments_lexer": "ipython3",
   "version": "3.9.15"
  }
 },
 "nbformat": 4,
 "nbformat_minor": 4
}
