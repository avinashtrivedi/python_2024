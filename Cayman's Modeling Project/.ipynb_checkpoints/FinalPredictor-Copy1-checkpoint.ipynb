{
 "cells": [
  {
   "cell_type": "code",
   "execution_count": 1,
   "id": "aa43e3bf-aee9-462d-85af-7df2af3a460c",
   "metadata": {},
   "outputs": [
    {
     "name": "stderr",
     "output_type": "stream",
     "text": [
      "C:\\Users\\avitr\\AppData\\Roaming\\Python\\Python39\\site-packages\\sklearn\\experimental\\enable_hist_gradient_boosting.py:16: UserWarning: Since version 1.0, it is not needed to import enable_hist_gradient_boosting anymore. HistGradientBoostingClassifier and HistGradientBoostingRegressor are now stable and can be normally imported from sklearn.ensemble.\n",
      "  warnings.warn(\n"
     ]
    }
   ],
   "source": [
    "import pandas as pd\n",
    "import datetime\n",
    "import matplotlib.pyplot as plt\n",
    "import seaborn as sns\n",
    "from scipy.stats import ttest_ind, chi2_contingency\n",
    "from sklearn.model_selection import train_test_split\n",
    "from sklearn.linear_model import LinearRegression\n",
    "from sklearn.ensemble import HistGradientBoostingClassifier, HistGradientBoostingRegressor\n",
    "import numpy as np\n",
    "from sklearn.metrics import mean_squared_error, r2_score, mean_absolute_error, mean_absolute_error, f1_score, roc_auc_score, confusion_matrix\n",
    "from sklearn.model_selection import GridSearchCV\n",
    "from sklearn.experimental import enable_hist_gradient_boosting\n",
    "from sklearn.ensemble import HistGradientBoostingRegressor\n",
    "import warnings\n",
    "warnings.filterwarnings(\"ignore\")\n",
    "from tqdm.notebook import tqdm"
   ]
  },
  {
   "cell_type": "code",
   "execution_count": 2,
   "id": "51f3dff0",
   "metadata": {},
   "outputs": [],
   "source": [
    "crm_df = pd.read_csv(\"CRM_DATA.csv\")\n",
    "ga4_df = pd.read_csv(\"GA4DATA.csv\")\n",
    "ga4_df.drop(columns=['user_id'],inplace=True)"
   ]
  },
  {
   "cell_type": "code",
   "execution_count": 3,
   "id": "39e2e97f",
   "metadata": {},
   "outputs": [],
   "source": [
    "mapping_df = ga4_df.copy()"
   ]
  },
  {
   "cell_type": "code",
   "execution_count": 4,
   "id": "7f518a21",
   "metadata": {},
   "outputs": [
    {
     "data": {
      "text/plain": [
       "(90323, 65)"
      ]
     },
     "execution_count": 4,
     "metadata": {},
     "output_type": "execute_result"
    }
   ],
   "source": [
    "ga4_df.shape"
   ]
  },
  {
   "cell_type": "code",
   "execution_count": 5,
   "id": "1a1c7198",
   "metadata": {},
   "outputs": [
    {
     "data": {
      "application/vnd.jupyter.widget-view+json": {
       "model_id": "6d18f6daf42f4b0b95f3bfd105df48d5",
       "version_major": 2,
       "version_minor": 0
      },
      "text/plain": [
       "0it [00:00, ?it/s]"
      ]
     },
     "metadata": {},
     "output_type": "display_data"
    }
   ],
   "source": [
    "# Find and assign ReferenceID values to instances of 'user_pseudo_id'\n",
    "for _, row in tqdm(mapping_df.iterrows()):\n",
    "    user_id = row['user_pseudo_id']\n",
    "    ref_id = row['ReferenceID']\n",
    "    ga4_df.loc[ga4_df['user_pseudo_id'] == user_id, 'ReferenceID'] = ref_id"
   ]
  },
  {
   "cell_type": "code",
   "execution_count": null,
   "id": "dc995c9d",
   "metadata": {},
   "outputs": [],
   "source": [
    "# leap_compain = name"
   ]
  },
  {
   "cell_type": "code",
   "execution_count": 18,
   "id": "c2ea3b68",
   "metadata": {},
   "outputs": [],
   "source": [
    "merged_df = pd.merge(left=crm_df,right=ga4_df,left_on='Leap_Reference_ID',right_on='ReferenceID')"
   ]
  },
  {
   "cell_type": "code",
   "execution_count": 19,
   "id": "daf7d51f",
   "metadata": {},
   "outputs": [
    {
     "data": {
      "text/plain": [
       "(24496, 81)"
      ]
     },
     "execution_count": 19,
     "metadata": {},
     "output_type": "execute_result"
    }
   ],
   "source": [
    "merged_df.shape"
   ]
  },
  {
   "cell_type": "code",
   "execution_count": 20,
   "id": "fa881fc5",
   "metadata": {},
   "outputs": [],
   "source": [
    "merged_df.drop(columns=['Leap_Campaign','Leap_Source','Leap_Medium','ReferenceID'],inplace=True)"
   ]
  },
  {
   "cell_type": "code",
   "execution_count": 21,
   "id": "72894cd2",
   "metadata": {},
   "outputs": [],
   "source": [
    "null_val = ['(not set)','(none)']"
   ]
  },
  {
   "cell_type": "code",
   "execution_count": 245,
   "id": "bf728061",
   "metadata": {},
   "outputs": [],
   "source": [
    "merged_df_backup = merged_df.copy()"
   ]
  },
  {
   "cell_type": "code",
   "execution_count": 246,
   "id": "1724a9cb",
   "metadata": {},
   "outputs": [],
   "source": [
    "# merged_df = merged_df_backup.copy()"
   ]
  },
  {
   "cell_type": "code",
   "execution_count": 247,
   "id": "af1c0eec",
   "metadata": {},
   "outputs": [],
   "source": [
    "cols = ['PageElement','LeadManager_CustomerNote','LinkElement','PageElement','LinkURL','LinkSelector','GoogleClickIdentifier',\n",
    "'mobile_os_hardware_model','mobile_os_hardware_model',\n",
    "'vendor_id',\n",
    "'advertising_id',\n",
    "'time_zone_offset_seconds',\n",
    "'browser',\n",
    "'browser_version',\n",
    "'hostname_1',\n",
    "# 'manual_c',\n",
    "'dclid',\n",
    "'srsltid',]"
   ]
  },
  {
   "cell_type": "code",
   "execution_count": 248,
   "id": "eb1d5b20",
   "metadata": {},
   "outputs": [],
   "source": [
    "merged_df_backup.drop(cols,axis=1, inplace=True)"
   ]
  },
  {
   "cell_type": "code",
   "execution_count": 249,
   "id": "54f72d9d",
   "metadata": {},
   "outputs": [],
   "source": [
    "# drop_cols = ['AAAMember',\n",
    "#  'BatchOrderingID',\n",
    "#  'BatchPageID',\n",
    "#  'EngagementTime_msec',\n",
    "#  'GASessionNumber',\n",
    "#  'IgnoreReferrer',\n",
    "# #  'IsShipmentBooked',\n",
    "#  'LeadManager_DestinationCountry',\n",
    "#  'LeadManager_DestinationState',\n",
    "# #  'Leap_Reference_ID',\n",
    "#  'LinkClasses',\n",
    "#  'LinkText',\n",
    "#  'SessionEngaged',\n",
    "#  'UniqueSearchTerm',\n",
    "#  'browser_1',\n",
    "#  'continent',\n",
    "#  'country',\n",
    "#  'gclid',\n",
    "#  'language',\n",
    "#  'medium',\n",
    "#  'metro',\n",
    "#  'mobile_brand_name',\n",
    "#  'mobile_marketing_name',\n",
    "#  'mobile_model_name',\n",
    "#  'name',\n",
    "#  'operating_system',\n",
    "#  'operating_system_version',\n",
    "#  'region',\n",
    "#  'source',\n",
    "#  'sub_continent']"
   ]
  },
  {
   "cell_type": "code",
   "execution_count": 250,
   "id": "c4e4db9d",
   "metadata": {},
   "outputs": [],
   "source": [
    "# col_drop = ['LeadManager_OriginCity',        \n",
    "# 'LeadManager_OriginCounty',           \n",
    "# 'LeadManager_OriginState',             \n",
    "# 'LeadManager_DestinationCity',     \n",
    "# 'LeadManager_DestinationCounty',   \n",
    "# 'city','stream_id','hostname','browser_version_1','user_first_touch_timestamp','GASessionID','PageReferrer','PageTitle','LeadManager_OriginZip','event_timestamp','event_date',\n",
    "# 'PageLocation','LeadManager_DestinationZip','ReferenceID','user_pseudo_id','LeadManager_OriginCountry','platform' ,'is_limited_ad_tracking','EngagedSessionEvent','LeadManager_OriginCountry']         \n"
   ]
  },
  {
   "cell_type": "code",
   "execution_count": 251,
   "id": "98cbd300",
   "metadata": {},
   "outputs": [],
   "source": [
    "# merged_df.drop(drop_cols,axis=1, inplace=True)"
   ]
  },
  {
   "cell_type": "code",
   "execution_count": 252,
   "id": "e0cf0803",
   "metadata": {},
   "outputs": [],
   "source": [
    "# cols = ['event_date', 'stream_id', 'browser_version_1' ,'GASessionID', 'PageLocation' ,'event_timestamp' ,'event_date']"
   ]
  },
  {
   "cell_type": "code",
   "execution_count": 253,
   "id": "99a64247",
   "metadata": {},
   "outputs": [],
   "source": [
    "# merged_df.drop(cols,axis=1,inplace=True)"
   ]
  },
  {
   "cell_type": "code",
   "execution_count": 254,
   "id": "33392ca6",
   "metadata": {},
   "outputs": [],
   "source": [
    "def get_fill_data(df,userID,col):\n",
    "    \n",
    "    val = [i for i in df.groupby('user_pseudo_id')[col].unique()[userID] if not pd.isna(i)]\n",
    "    \n",
    "    if len(val):\n",
    "        return val[0]\n",
    "    else:\n",
    "        return np.nan"
   ]
  },
  {
   "cell_type": "code",
   "execution_count": 255,
   "id": "f3a283dd",
   "metadata": {},
   "outputs": [],
   "source": [
    "cols = set(merged_df_backup) - {'IsShipmentBooked', 'Leap_Reference_ID', 'user_pseudo_id'}"
   ]
  },
  {
   "cell_type": "code",
   "execution_count": 256,
   "id": "89bbf6c3",
   "metadata": {},
   "outputs": [
    {
     "data": {
      "application/vnd.jupyter.widget-view+json": {
       "model_id": "df922bb1ee974ef9ace605badf6bf564",
       "version_major": 2,
       "version_minor": 0
      },
      "text/plain": [
       "  0%|          | 0/59 [00:00<?, ?it/s]"
      ]
     },
     "metadata": {},
     "output_type": "display_data"
    }
   ],
   "source": [
    "# https://devskrol.com/2020/08/09/best-way-to-impute-nan-within-groups-mean-mode/\n",
    "for col in tqdm(cols):\n",
    "    merged_df_backup[col] = merged_df_backup.groupby(['user_pseudo_id'], sort=False)[col].apply(lambda x: x.fillna(x.mode().iloc[0] if len(x.mode()) else np.nan))"
   ]
  },
  {
   "cell_type": "code",
   "execution_count": 257,
   "id": "e028e03e",
   "metadata": {},
   "outputs": [],
   "source": [
    "# for indx, row in tqdm(merged_df.iterrows()):\n",
    "#     for col_name in cols:\n",
    "#         val = row[col_name]\n",
    "#         user_id = row['user_pseudo_id']\n",
    "#         if pd.isna(val):\n",
    "#             rplace = get_fill_data(merged_df_backup,user_id,col_name)\n",
    "#             merged_df_backup.at[indx, col_name] = rplace"
   ]
  },
  {
   "cell_type": "code",
   "execution_count": 258,
   "id": "10f1b891",
   "metadata": {},
   "outputs": [],
   "source": [
    "na = merged_df_backup.isna().sum()*100/len(merged_df)"
   ]
  },
  {
   "cell_type": "code",
   "execution_count": 259,
   "id": "bcae028a",
   "metadata": {},
   "outputs": [
    {
     "name": "stdout",
     "output_type": "stream",
     "text": [
      "********* Columns to be dropped ****************\n",
      "\n",
      "55.776453298497714 -->> AAAMember\n",
      "40.443337687785764 -->> IgnoreReferrer\n",
      "41.516982364467665 -->> LinkClasses\n",
      "38.63079686479425 -->> LinkText\n",
      "39.50849118223383 -->> SearchTerm\n",
      "66.14957544088831 -->> BatchOrderingID\n",
      "66.14957544088831 -->> BatchPageID\n",
      "39.50849118223383 -->> UniqueSearchTerm\n",
      "88.52057478772045 -->> mobile_marketing_name\n",
      "100.0 -->> manual_campaign_id\n",
      "90.16165904637492 -->> manual_content\n",
      "49.79180274330503 -->> gclid\n"
     ]
    }
   ],
   "source": [
    "drop_col = []\n",
    "print('********* Columns to be dropped ****************\\n')\n",
    "for i,col in zip(na,na.index):\n",
    "    if i >=30:\n",
    "        print(i,'-->>',col)\n",
    "        drop_col.append(col)"
   ]
  },
  {
   "cell_type": "code",
   "execution_count": 260,
   "id": "85d8683d",
   "metadata": {},
   "outputs": [],
   "source": [
    "merged_df_backup.drop(drop_col,axis=1,inplace=True)"
   ]
  },
  {
   "cell_type": "code",
   "execution_count": 261,
   "id": "34e7088b",
   "metadata": {},
   "outputs": [
    {
     "data": {
      "text/plain": [
       "(24496, 50)"
      ]
     },
     "execution_count": 261,
     "metadata": {},
     "output_type": "execute_result"
    }
   ],
   "source": [
    "merged_df_backup.shape"
   ]
  },
  {
   "cell_type": "code",
   "execution_count": 264,
   "id": "5e9fda35",
   "metadata": {},
   "outputs": [],
   "source": [
    "merged_df_backup.dropna(inplace=True)"
   ]
  },
  {
   "cell_type": "code",
   "execution_count": 265,
   "id": "6fcfef00",
   "metadata": {},
   "outputs": [
    {
     "data": {
      "text/plain": [
       "(18905, 50)"
      ]
     },
     "execution_count": 265,
     "metadata": {},
     "output_type": "execute_result"
    }
   ],
   "source": [
    "merged_df_backup.shape"
   ]
  },
  {
   "cell_type": "code",
   "execution_count": null,
   "id": "b4e632ca",
   "metadata": {},
   "outputs": [],
   "source": [
    "drop_col = ['stream_id','hostname','browser_version_1','user_first_touch_timestamp','GASessionID','PageReferrer','PageTitle','LeadManager_OriginZip','event_timestamp','event_date',\n",
    "'PageLocation','LeadManager_DestinationZip','ReferenceID','user_pseudo_id']"
   ]
  },
  {
   "cell_type": "code",
   "execution_count": null,
   "id": "57bd3d3d",
   "metadata": {},
   "outputs": [],
   "source": [
    "merged_df.drop(drop_col,axis=1,inplace=True)"
   ]
  },
  {
   "cell_type": "code",
   "execution_count": null,
   "id": "50482949",
   "metadata": {},
   "outputs": [],
   "source": [
    "merged_df.nunique()"
   ]
  },
  {
   "cell_type": "code",
   "execution_count": null,
   "id": "ef4b4db9",
   "metadata": {},
   "outputs": [],
   "source": [
    "drop_col = ['LeadManager_OriginCountry','platform' ,'is_limited_ad_tracking','EngagedSessionEvent','LeadManager_OriginCountry']         "
   ]
  },
  {
   "cell_type": "code",
   "execution_count": null,
   "id": "65953982",
   "metadata": {},
   "outputs": [],
   "source": [
    "merged_df.drop(drop_col,axis=1,inplace=True)"
   ]
  },
  {
   "cell_type": "code",
   "execution_count": null,
   "id": "5990c16a",
   "metadata": {},
   "outputs": [],
   "source": [
    "merged_df.drop_duplicates(inplace=True)"
   ]
  },
  {
   "cell_type": "code",
   "execution_count": null,
   "id": "16ee4ab0",
   "metadata": {},
   "outputs": [],
   "source": [
    "merged_df.reset_index(drop=True,inplace=True)"
   ]
  },
  {
   "cell_type": "code",
   "execution_count": null,
   "id": "4b586d1f",
   "metadata": {},
   "outputs": [],
   "source": [
    "merged_df_copy = merged_df.copy()"
   ]
  },
  {
   "cell_type": "code",
   "execution_count": null,
   "id": "d3d323bb",
   "metadata": {},
   "outputs": [],
   "source": [
    "merged_df_copy.drop('Leap_Reference_ID',axis=1,inplace=True)"
   ]
  },
  {
   "cell_type": "code",
   "execution_count": null,
   "id": "89720eec",
   "metadata": {},
   "outputs": [],
   "source": [
    "col_drop = ['LeadManager_OriginCity',        \n",
    "'LeadManager_OriginCounty',           \n",
    "'LeadManager_OriginState',             \n",
    "'LeadManager_DestinationCity',     \n",
    "'LeadManager_DestinationCounty',   \n",
    "'city']"
   ]
  },
  {
   "cell_type": "code",
   "execution_count": null,
   "id": "e70f7e78",
   "metadata": {},
   "outputs": [],
   "source": [
    "merged_df_copy.drop(col_drop,axis=1,inplace=True)"
   ]
  },
  {
   "cell_type": "code",
   "execution_count": null,
   "id": "18f55fe3",
   "metadata": {},
   "outputs": [],
   "source": [
    "merged_df_copy.shape"
   ]
  },
  {
   "cell_type": "code",
   "execution_count": null,
   "id": "8a6f9a71",
   "metadata": {},
   "outputs": [],
   "source": [
    "merged_df['IsShipmentBooked'].value_counts(normalize=True)*100"
   ]
  },
  {
   "cell_type": "code",
   "execution_count": null,
   "id": "9a5c6b6c",
   "metadata": {},
   "outputs": [],
   "source": [
    "import matplotlib.pyplot as plt\n",
    "import seaborn as sns"
   ]
  },
  {
   "cell_type": "code",
   "execution_count": null,
   "id": "fbd29e8a",
   "metadata": {},
   "outputs": [],
   "source": [
    "sns.countplot(data=merged_df,x='IsShipmentBooked') # SMOTE"
   ]
  },
  {
   "cell_type": "code",
   "execution_count": null,
   "id": "d7fb2c78",
   "metadata": {},
   "outputs": [],
   "source": [
    "merged_df"
   ]
  },
  {
   "cell_type": "code",
   "execution_count": null,
   "id": "2345273b",
   "metadata": {},
   "outputs": [],
   "source": []
  },
  {
   "cell_type": "code",
   "execution_count": null,
   "id": "40dfd392",
   "metadata": {},
   "outputs": [],
   "source": []
  },
  {
   "cell_type": "code",
   "execution_count": null,
   "id": "aee9c218",
   "metadata": {},
   "outputs": [],
   "source": []
  },
  {
   "cell_type": "code",
   "execution_count": null,
   "id": "77cfccfb",
   "metadata": {},
   "outputs": [],
   "source": []
  },
  {
   "cell_type": "code",
   "execution_count": null,
   "id": "a0097524",
   "metadata": {},
   "outputs": [],
   "source": []
  },
  {
   "cell_type": "code",
   "execution_count": null,
   "id": "30ee0ac7",
   "metadata": {},
   "outputs": [],
   "source": [
    "for col in merged_df_copy:\n",
    "    merged_df_copy = merged_df_copy[~merged_df_copy[col].isin(null_val)]"
   ]
  },
  {
   "cell_type": "code",
   "execution_count": null,
   "id": "e40a8196",
   "metadata": {},
   "outputs": [],
   "source": [
    "merged_df_copy.shape"
   ]
  },
  {
   "cell_type": "code",
   "execution_count": null,
   "id": "6a56ce89",
   "metadata": {},
   "outputs": [],
   "source": [
    "from sklearn.preprocessing import StandardScaler\n",
    "scaler = StandardScaler()\n",
    "column_to_scale = merged_df_copy['EngagementTime_msec'].values.reshape(-1, 1)\n",
    "scaled_column = scaler.fit_transform(column_to_scale)\n",
    "merged_df_copy['EngagementTime_msec'] = scaled_column"
   ]
  },
  {
   "cell_type": "code",
   "execution_count": null,
   "id": "2b977090",
   "metadata": {},
   "outputs": [],
   "source": [
    "merged_df_copy.dropna(inplace=True)"
   ]
  },
  {
   "cell_type": "code",
   "execution_count": null,
   "id": "8ae52d45",
   "metadata": {},
   "outputs": [],
   "source": [
    "X = merged_df_copy.drop('IsShipmentBooked',axis=1)\n",
    "y = merged_df_copy['IsShipmentBooked']"
   ]
  },
  {
   "cell_type": "code",
   "execution_count": null,
   "id": "e3c4b97a",
   "metadata": {},
   "outputs": [],
   "source": [
    "X = pd.get_dummies(X)\n",
    "\n",
    "X_train, X_test, y_train, y_test = train_test_split(X, y, test_size=0.2, random_state=42)"
   ]
  },
  {
   "cell_type": "code",
   "execution_count": null,
   "id": "a18732bf",
   "metadata": {},
   "outputs": [],
   "source": [
    "from sklearn import tree\n",
    "from sklearn import ensemble\n",
    "from sklearn import linear_model\n",
    "from sklearn import gaussian_process\n",
    "from sklearn import naive_bayes\n",
    "from sklearn import neighbors\n",
    "from sklearn import svm\n",
    "from sklearn import model_selection\n",
    "from sklearn import discriminant_analysis\n",
    "from xgboost.sklearn import XGBClassifier"
   ]
  },
  {
   "cell_type": "code",
   "execution_count": null,
   "id": "96f53877",
   "metadata": {},
   "outputs": [],
   "source": [
    "MLA = [\n",
    "    ensemble.AdaBoostClassifier(),\n",
    "    ensemble.BaggingClassifier(),\n",
    "    ensemble.GradientBoostingClassifier(),\n",
    "    ensemble.ExtraTreesClassifier(),\n",
    "    ensemble.RandomForestClassifier(n_estimators = 100, random_state = 0),\n",
    "    \n",
    "    gaussian_process.GaussianProcessClassifier(),\n",
    "    \n",
    "    naive_bayes.BernoulliNB(),\n",
    "    naive_bayes.GaussianNB(),\n",
    "    \n",
    "    neighbors.KNeighborsClassifier(),\n",
    "    \n",
    "    svm.SVC(probability=True),\n",
    "    svm.NuSVC(probability = True),\n",
    "    svm.LinearSVC(),\n",
    "    \n",
    "    tree.DecisionTreeClassifier(),\n",
    "    tree.ExtraTreeClassifier(),\n",
    "    \n",
    "    discriminant_analysis.LinearDiscriminantAnalysis(),\n",
    "    discriminant_analysis.QuadraticDiscriminantAnalysis(),\n",
    "    \n",
    "    XGBClassifier(), \n",
    "    \n",
    "    linear_model.LogisticRegressionCV(),\n",
    "    linear_model.PassiveAggressiveClassifier(),\n",
    "    linear_model.RidgeClassifierCV(),\n",
    "    linear_model.SGDClassifier(),\n",
    "    linear_model.Perceptron()\n",
    "]"
   ]
  },
  {
   "cell_type": "code",
   "execution_count": null,
   "id": "0534978a",
   "metadata": {},
   "outputs": [],
   "source": [
    "MLA_columns = ['MLA_names', 'MLA_parameters', 'MLA_Train_Accuracy_Mean'\n",
    "               ,'MLA_Test_Accuracy_Mean', 'MLA_Test_Accuracy_3*STD', \n",
    "               'MLA_Time']\n",
    "\n",
    "MLA_compare = pd.DataFrame(columns = MLA_columns)"
   ]
  },
  {
   "cell_type": "code",
   "execution_count": null,
   "id": "bab9c037",
   "metadata": {},
   "outputs": [],
   "source": [
    "from tqdm.notebook import tqdm"
   ]
  },
  {
   "cell_type": "code",
   "execution_count": null,
   "id": "0d66abca",
   "metadata": {},
   "outputs": [],
   "source": [
    "MLA_Predict = y_test\n",
    "row_index = 0\n",
    "for alg in tqdm(MLA):\n",
    "    try:\n",
    "        MLA_name = alg.__class__.__name__\n",
    "        MLA_compare.loc[row_index, 'MLA_names'] = MLA_name\n",
    "        MLA_compare.loc[row_index, 'MLA_parameters'] = str(alg.get_params())\n",
    "        cv_results = model_selection.cross_validate(alg, X_train, y_train, cv=3, return_train_score = True)\n",
    "        MLA_compare.loc[row_index, 'MLA_Time'] = cv_results['fit_time'].mean()\n",
    "        MLA_compare.loc[row_index, 'MLA_Train_Accuracy_Mean'] = cv_results[\"train_score\"].mean()\n",
    "        MLA_compare.loc[row_index, 'MLA_Test_Accuracy_Mean'] = cv_results['test_score'].mean()\n",
    "        MLA_compare.loc[row_index, 'MLA_Test_Accuracy_3*STD'] = cv_results['test_score'].std()*3\n",
    "\n",
    "        alg.fit(X_train, y_train)\n",
    "        MLA_Predict[MLA_name] = alg.predict(X_test)\n",
    "        row_index += 1\n",
    "        print(\".\", end=\"\")\n",
    "    except:\n",
    "        print(type(alg).__name__)\n",
    "MLA_compare.sort_values(by = 'MLA_Test_Accuracy_Mean', ascending = False, inplace = True)\n",
    "MLA_compare"
   ]
  },
  {
   "cell_type": "code",
   "execution_count": null,
   "id": "ec1a3200",
   "metadata": {},
   "outputs": [],
   "source": [
    "clf =  tree.DecisionTreeClassifier()"
   ]
  },
  {
   "cell_type": "code",
   "execution_count": null,
   "id": "c1046b49",
   "metadata": {},
   "outputs": [],
   "source": [
    "clf.fit(X_train,y_train)"
   ]
  },
  {
   "cell_type": "code",
   "execution_count": null,
   "id": "dc4d6c8c",
   "metadata": {},
   "outputs": [],
   "source": [
    "merged_df.shape"
   ]
  },
  {
   "cell_type": "code",
   "execution_count": null,
   "id": "70c506eb",
   "metadata": {},
   "outputs": [],
   "source": [
    "merged_df_copy.shape"
   ]
  },
  {
   "cell_type": "code",
   "execution_count": null,
   "id": "4413bc5e",
   "metadata": {},
   "outputs": [],
   "source": []
  },
  {
   "cell_type": "code",
   "execution_count": null,
   "id": "e0e4794d",
   "metadata": {},
   "outputs": [],
   "source": [
    "y.value_counts()"
   ]
  },
  {
   "cell_type": "code",
   "execution_count": null,
   "id": "8c34cc04",
   "metadata": {},
   "outputs": [],
   "source": [
    "d = clf.predict_proba(X_test)"
   ]
  },
  {
   "cell_type": "code",
   "execution_count": null,
   "id": "80c8f319",
   "metadata": {},
   "outputs": [],
   "source": [
    "for i in d:\n",
    "    print(i)"
   ]
  },
  {
   "cell_type": "code",
   "execution_count": null,
   "id": "5fb8fa4e",
   "metadata": {},
   "outputs": [],
   "source": [
    "d[125]"
   ]
  },
  {
   "cell_type": "code",
   "execution_count": null,
   "id": "4cf48f27",
   "metadata": {},
   "outputs": [],
   "source": [
    "d[:,0]"
   ]
  },
  {
   "cell_type": "code",
   "execution_count": null,
   "id": "4847565d",
   "metadata": {},
   "outputs": [],
   "source": []
  },
  {
   "cell_type": "markdown",
   "id": "3adc4fb4-ec98-4c98-b1fe-a4998f94fbaa",
   "metadata": {},
   "source": [
    "# Get CRM Data"
   ]
  },
  {
   "cell_type": "code",
   "execution_count": null,
   "id": "1aa0710e-75a6-412b-9e04-5a23f085d615",
   "metadata": {},
   "outputs": [],
   "source": [
    "# Get CRM Data\n",
    "crm_df = pd.read_csv(\"MarketingData_01_16_2024.csv\")\n",
    "def convert_columns_to_int(dataframe, columns_to_convert):\n",
    "    for column in columns_to_convert:\n",
    "        dataframe[column] = pd.to_numeric(dataframe[column], errors='coerce')\n",
    "    return dataframe\n",
    "\n",
    "int_columns = ['LeadManager_LeadID', 'LeadManager_AgentPrimary', 'LeadManager_EmployerZip',\n",
    "               'LeadManager_AgentPrimary', 'LeadManager_AgentDestination', 'LeadManager_AgentOrigin',\n",
    "               'LeadManager_OriginZip', 'LeadManager_DestinationZip', 'LeadManager_WeightPerRoom',\n",
    "               'LeadManager_MoveTypeID', 'LeadManager_TotalRooms', 'LeadManager_Bedrooms', \n",
    "               'LeadManager_Appliances', 'LeadManager_Distance', 'LeadManager_Weight', \n",
    "               'LeadManager_Linehaul', 'LeadManager_StairFlights', 'LeadManager_StorageDuration',\n",
    "               'LeadManager_OpenLead', 'LeadManager_NumberOfAttempts', 'LeadManager_Vehicles',\n",
    "               'LeadManager_SmartMoveVaults', 'LeadManager_EstimatedTransitDays',\n",
    "               'LeadManager_OriginCountyID', 'ACM_CustomerID', 'Order_OrdBookingAgencyCode',\n",
    "               'Order_OrdPVO'\n",
    "]\n",
    "\n",
    "def convert_columns_to_date(dataframe, columns_to_convert):\n",
    "    for column in columns_to_convert:\n",
    "        dataframe[column] = pd.to_datetime(dataframe[column], errors='coerce')\n",
    "    return dataframe\n",
    "\n",
    "date_columns = ['Leap_LastUpdDateTime', 'LeadManager_EstimatedPackDate', 'LeadManager_EstimatedLoadDate',\n",
    "                'LeadManager_EstimatedDeliveryDate', 'LeadManager_DateEstimateScheduled', 'LeadManager_DateCreated',\n",
    "                'LeadManager_DateBooked', 'LeadManager_DateCSRAssigned', 'LeadManager_DatePrimaryAgentAssigned',\n",
    "                'LeadManager_DateOriginAgentAssigned', 'LeadManager_DateDestinationAgentAssigned',\n",
    "                'LeadManager_DateEstimatingAgentAssigned', 'LeadManager_DateSalesRepAssigned',\n",
    "                'LeadManager_NextContactDate', 'LeadManager_FollowUpDate', 'LeadManager_LastUpdDateTime', \n",
    "                'LeadManager_LeadStartDate', 'ACM_StartDate', 'ACM_SurveyDate', 'Order_OrdSurveyDate',\n",
    "                'Order_OrdRegistrationDate', 'Order_OrdHaulDecisionDate', 'Order_OrdStartDate',\n",
    "                'Order_OrdLoadDate', 'Order_OrdDeliveryDate', 'Order_OrdSITODate', 'Order_OrdSITDDate'\n",
    "]\n",
    "\n",
    "def convert_columns_to_bool(dataframe, columns_to_convert):\n",
    "    for column in columns_to_convert:\n",
    "        dataframe[column].replace({'TRUE': True, 'FALSE': False}, inplace=True)\n",
    "    return dataframe\n",
    "\n",
    "boolean_columns = ['LeadManager_DistanceVerified', 'LeadManager_EnteredHot', 'LeadManager_Elevator', \n",
    "                   'LeadManager_Storage', 'LeadManager_DuplicateLead', 'LeadManager_AgentOwned',\n",
    "                   'LeadManager_Locked', 'LeadManager_AgentFirstPricing', 'LeadManager_OriginAddressValidated',\n",
    "                   'LeadManager_DestinationAddressValidated', 'LeadManager_DuplicateLock', \n",
    "                   'LeadManager_BookMoveRequest', 'LeadManager_InactiveDuplicate'\n",
    "]\n",
    "\n",
    "def convert_columns_to_float(dataframe, columns_to_convert):\n",
    "    for column in columns_to_convert:\n",
    "        dataframe[column] = dataframe[column].apply(pd.to_numeric, errors='coerce', downcast='float')\n",
    "    return dataframe\n",
    "\n",
    "float_columns = ['LeadManager_DiscountPercent', 'LeadManager_LeadCost', 'LeadManager_LeadSourceCost',\n",
    "                 'Order_OrdRevValue']\n",
    "# Convert columns to correct data types\n",
    "crm_df['IsLeadFound'].replace({'Y': True, 'N': False}, inplace=True)\n",
    "crm_df['IsShipmentBooked'].replace({'Y': True, 'N': False}, inplace=True)\n",
    "crm_df['LeadManager_Appt'].replace({'Yes': True, 'No': False}, inplace=True)\n",
    "convert_columns_to_int(crm_df, int_columns)\n",
    "convert_columns_to_date(crm_df, date_columns)\n",
    "convert_columns_to_bool(crm_df, boolean_columns)\n",
    "convert_columns_to_float(crm_df, float_columns)\n",
    "crm_df['ResidenceType'] = crm_df['LeadManager_CustomerNote'].str.extract(r'Residence Type:\\s(.*?);', expand=False)\n",
    "\n",
    "bin_edges = [x for x in range(0,5001,250)]\n",
    "bin_labels = [f'{x} to {x+250}' for x in range(0,5000,250)]\n",
    "crm_df['DistanceBin'] = pd.cut(crm_df['LeadManager_Distance'], bins=bin_edges, labels=bin_labels, right=False)"
   ]
  },
  {
   "cell_type": "code",
   "execution_count": null,
   "id": "99a91b14-5a31-455e-afa2-09fc6435f248",
   "metadata": {},
   "outputs": [],
   "source": [
    "# Get Website Behavior Data from GA4"
   ]
  },
  {
   "cell_type": "code",
   "execution_count": null,
   "id": "b8782548-f6b6-4e9b-bd88-6b5c36dcf8f6",
   "metadata": {},
   "outputs": [],
   "source": [
    "# Get GA4 data\n",
    "\n",
    "\n",
    "ga4_df = pd.concat([july_df, aug_df, sep_df, oct_df, nov_df, dec_df, jan_df], ignore_index=True)\n",
    "\n",
    "def convert_to_time(timestamp_microseconds):\n",
    "    timestamp_microseconds = int(timestamp_microseconds)\n",
    "    timestamp_seconds = timestamp_microseconds / 1000000\n",
    "    regular_time = datetime.datetime.fromtimestamp(timestamp_seconds)\n",
    "    return regular_time\n",
    "ga4_df['event_timestamp'] = ga4_df['event_timestamp'].apply(convert_to_time)\n",
    "\n",
    "# Create a mapping of 'ReferenceID' to 'user_pseudo_id'\n",
    "mapping_df = ga4_df.dropna(subset=['ReferenceID'])[['user_pseudo_id', 'ReferenceID']]\n",
    "# Find and assign ReferenceID values to instances of 'user_pseudo_id'\n",
    "for _, row in mapping_df.iterrows():\n",
    "    user_id = row['user_pseudo_id']\n",
    "    ref_id = row['ReferenceID']\n",
    "    ga4_df.loc[ga4_df['user_pseudo_id'] == user_id, 'ReferenceID'] = ref_id\n",
    "    \n",
    "booked_crm_df = crm_df[crm_df['IsShipmentBooked'] == True] # Find all booked rows\n",
    "ga4_df['isBooked'] = ga4_df['ReferenceID'].isin(booked_crm_df['Leap_Reference_ID']).astype(bool) # assign booked to reference ids now that theyve been correctly assigned\n",
    "    \n",
    "ga4_df.sort_values(by=['event_timestamp', 'ReferenceID'])\n",
    "print(\"DOPEr\")"
   ]
  },
  {
   "cell_type": "code",
   "execution_count": null,
   "id": "8f339660-4c67-4fa0-a6b8-c36afe15dec3",
   "metadata": {},
   "outputs": [],
   "source": [
    "ga4_df"
   ]
  },
  {
   "cell_type": "markdown",
   "id": "17a4eff0-dbbb-4457-8b09-2d16707b2e87",
   "metadata": {},
   "source": [
    "# Condense GA4 Data and combine with CRM Data\n",
    "## Not Ideal please do not Condense the data I could not figure out how to continue without condensing and it lead to an inaccurate model"
   ]
  },
  {
   "cell_type": "code",
   "execution_count": null,
   "id": "f7608790-0576-45c8-a29e-19b3b8044c54",
   "metadata": {},
   "outputs": [],
   "source": [
    "def condense_duplicate_rows(df):\n",
    "    pseudo_grouped = df.groupby('user_pseudo_id')\n",
    "    condensed_dfs = []\n",
    "\n",
    "    # Go through each group\n",
    "    for group_name, group_data in pseudo_grouped:\n",
    "        # Create dict to store values for condensed row\n",
    "        condensed_row = {}\n",
    "\n",
    "        # Go through each column in group\n",
    "        for col in df.columns:\n",
    "            # Find the mode or first non-null value\n",
    "            mode_or_non_null_value = group_data[col].mode().values[0] if group_data[col].count() > 0 else None\n",
    "            # Add the value to the condensed row dict\n",
    "            condensed_row[col] = mode_or_non_null_value\n",
    "            \n",
    "        # Sum EngagementTime_msec and store in TotalEngagementTime_msec col\n",
    "        condensed_row['TotalEngagementTime_msec'] = group_data['EngagementTime_msec'].sum()\n",
    "        condensed_dfs.append(pd.DataFrame([condensed_row]))\n",
    "    # Concatenate the list of condensed DataFrames into a single DataFrame\n",
    "    condensed_df = pd.concat(condensed_dfs, ignore_index=True)\n",
    "\n",
    "    return condensed_df\n",
    "\n",
    "condensed_ga4_df = condense_duplicate_rows(ga4_df)\n",
    "combined_df = pd.merge(crm_df, condensed_ga4_df, left_on='Leap_Reference_ID', right_on='ReferenceID', how='inner')"
   ]
  },
  {
   "cell_type": "code",
   "execution_count": null,
   "id": "70d89f4c-f4bd-4f27-a663-02ebe3cbae4e",
   "metadata": {},
   "outputs": [],
   "source": [
    "condensed_ga4_df"
   ]
  },
  {
   "cell_type": "code",
   "execution_count": null,
   "id": "c8dd2460",
   "metadata": {},
   "outputs": [],
   "source": []
  },
  {
   "cell_type": "code",
   "execution_count": null,
   "id": "d5798d0b",
   "metadata": {},
   "outputs": [],
   "source": []
  },
  {
   "cell_type": "markdown",
   "id": "d64442e2-236f-4241-b16a-61afa8aa0869",
   "metadata": {},
   "source": [
    "## Assign Columns of interest"
   ]
  },
  {
   "cell_type": "code",
   "execution_count": null,
   "id": "f44afc85-774b-46c7-9199-31c7e93c0a15",
   "metadata": {},
   "outputs": [],
   "source": [
    "categorical_test_columns = [\n",
    "    \n",
    "    'ResidenceType',\n",
    "    'SessionEngaged','PageTitle',\n",
    "    'FormName','AAAMember','PageReferrer','SearchTerm',\n",
    "    'mobile_brand_name','mobile_model_name','operating_system','operating_system_version',\n",
    "    'language','browser_1','browser_version_1','hostname','city','country','continent','region','sub_continent','metro','name','medium','source',\n",
    "    'platform','manual_campaign_id','manual_campaign_name','manual_source','manual_medium','manual_term','manual_content'\n",
    "]"
   ]
  },
  {
   "cell_type": "code",
   "execution_count": null,
   "id": "b7d28626-ca93-48e6-8c91-a88a5e5fd113",
   "metadata": {},
   "outputs": [],
   "source": [
    "# X = pd.get_dummies(combined_df[categorical_test_columns], drop_first=True)\n",
    "# y = combined_df['IsShipmentBooked']\n",
    "\n",
    "# X_train, X_test, y_train, y_test = train_test_split(X, y, test_size=0.2, random_state=42)\n",
    "\n",
    "# # Define the hyperparameter search space\n",
    "# param_grid = {\n",
    "#     'learning_rate': [0.01, 0.1],\n",
    "#     'max_depth': [3, 4, 5],\n",
    "#     'max_iter': [100, 200, 300]\n",
    "# }\n",
    "\n",
    "# # Create the GridSearchCV object\n",
    "# grid_search = GridSearchCV(\n",
    "#     estimator=HistGradientBoostingRegressor(),\n",
    "#     param_grid=param_grid,\n",
    "#     scoring='neg_mean_squared_error',  # Use the appropriate scoring metric\n",
    "#     cv=5  # Number of cross-validation folds\n",
    "# )\n",
    "\n",
    "# # Perform the grid search\n",
    "# grid_search.fit(X_train, y_train)\n",
    "\n",
    "# # Get the best hyperparameters\n",
    "# best_params = grid_search.best_params_\n",
    "\n",
    "# # Train the final model with the best hyperparameters\n",
    "# final_model = HistGradientBoostingRegressor(**best_params)\n",
    "# final_model.fit(X_train, y_train)\n",
    "\n",
    "# # Make predictions with the final model\n",
    "# y_pred = final_model.predict(X_test)"
   ]
  },
  {
   "cell_type": "code",
   "execution_count": null,
   "id": "0a24a78c-023a-4db6-bf5e-71d0a5a5673b",
   "metadata": {},
   "outputs": [],
   "source": [
    "X = pd.get_dummies(combined_df[categorical_test_columns], drop_first=True)\n",
    "y = combined_df['IsShipmentBooked']\n",
    "\n",
    "# X.fillna(0, inplace=True)\n",
    "# X.fillna(X.mode().iloc[0], inplace=True)\n",
    "\n",
    "display(X)\n",
    "X_train, X_test, y_train, y_test = train_test_split(X, y, test_size=0.2, random_state=42)\n",
    "\n",
    "model = HistGradientBoostingRegressor()\n",
    "# model = LinearRegression()\n",
    "\n",
    "model.fit(X_train, y_train)\n",
    "\n",
    "y_pred = model.predict(X_test)"
   ]
  },
  {
   "cell_type": "code",
   "execution_count": null,
   "id": "9e22287e-a162-4d9e-977d-be87bed0c31c",
   "metadata": {},
   "outputs": [],
   "source": [
    "mse = mean_squared_error(y_test, y_pred)\n",
    "print('*(Ideal MSE == 0)*')\n",
    "print(f\"Mean Squared Error (MSE): {mse}\")\n",
    "print('\\n')\n",
    "\n",
    "rmse = np.sqrt(mse)\n",
    "print('*(Ideal RMSE between 0.2 and 0.5)*')\n",
    "print(f\"Root Mean Squared Error (RMSE): {rmse}\")\n",
    "print('\\n')\n",
    "\n",
    "r2 = r2_score(y_test, y_pred)\n",
    "print('*(Not really accurate but Ideally >=0.7)*')\n",
    "print(f\"R-squared (R²) Score: {r2}\")\n",
    "print('\\n')\n",
    "\n",
    "mae = mean_absolute_error(y_test, y_pred)\n",
    "print('*(Ideal mae == 0)*')\n",
    "print(f\"Mean Absolute Error (MAE): {mae}\")\n",
    "\n",
    "# f1_score = f1_score(y_test, y_pred)\n",
    "# print(f\"F1 Score: {f1_score}\")\n",
    "\n",
    "print('\\n')\n",
    "roc_auc = roc_auc_score(y_test, y_pred)\n",
    "print('*(Ideal ROC AUC == 1)*')\n",
    "print(f\"Area Under Receiver Operating Characteristics Score: {roc_auc}\")\n",
    "\n",
    "threshold = 0.5\n",
    "\n",
    "y_train_binary = (y_train > threshold).astype(int)\n",
    "y_test_binary = (y_test > threshold).astype(int)\n",
    "\n",
    "# Create and fit a classification model\n",
    "model = HistGradientBoostingClassifier()\n",
    "model.fit(X_train, y_train_binary)\n",
    "\n",
    "y_pred_binary = model.predict(X_test)\n",
    "\n",
    "conf_matrix = confusion_matrix(y_test_binary, y_pred_binary)\n",
    "\n",
    "print(\"Confusion Matrix:\")\n",
    "print(conf_matrix)\n",
    "print('[[True Negative  False Positive]')\n",
    "print('[False Negative  True Positive]]')"
   ]
  },
  {
   "cell_type": "code",
   "execution_count": null,
   "id": "dd6237d8-44ea-40ef-ba45-a1cd5d4e2fe2",
   "metadata": {},
   "outputs": [],
   "source": []
  },
  {
   "cell_type": "code",
   "execution_count": null,
   "id": "596914a9-1d3f-426b-8c84-686b3a0d450b",
   "metadata": {},
   "outputs": [],
   "source": [
    "combined_df"
   ]
  },
  {
   "cell_type": "code",
   "execution_count": null,
   "id": "52630c7a-057c-49a0-8311-f06a4a56392a",
   "metadata": {},
   "outputs": [],
   "source": [
    "combined_df['PredictionScore'] = model.predict(X)\n",
    "true_df = combined_df[combined_df['IsShipmentBooked'] == True]\n",
    "false_df = combined_df[combined_df['IsShipmentBooked'] != True]"
   ]
  },
  {
   "cell_type": "code",
   "execution_count": null,
   "id": "3f3b546d-bd2a-4d82-b09d-ec76ee586315",
   "metadata": {},
   "outputs": [],
   "source": [
    "true_df['PredictionScore'].describe()"
   ]
  },
  {
   "cell_type": "code",
   "execution_count": null,
   "id": "0f0df4e8-227f-48b2-8ffd-84ffc1770f7b",
   "metadata": {},
   "outputs": [],
   "source": [
    "false_df['PredictionScore'].describe()"
   ]
  }
 ],
 "metadata": {
  "kernelspec": {
   "display_name": "Python 3 (ipykernel)",
   "language": "python",
   "name": "python3"
  },
  "language_info": {
   "codemirror_mode": {
    "name": "ipython",
    "version": 3
   },
   "file_extension": ".py",
   "mimetype": "text/x-python",
   "name": "python",
   "nbconvert_exporter": "python",
   "pygments_lexer": "ipython3",
   "version": "3.9.15"
  }
 },
 "nbformat": 4,
 "nbformat_minor": 5
}
