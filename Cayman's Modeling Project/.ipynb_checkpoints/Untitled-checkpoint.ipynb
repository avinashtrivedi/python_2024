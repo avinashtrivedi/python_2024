{
 "cells": [
  {
   "cell_type": "code",
   "execution_count": null,
   "id": "573e1999",
   "metadata": {},
   "outputs": [],
   "source": [
    "def get_fill_data(df,refid,col):\n",
    "    \n",
    "    val = [i for i in df.groupby('Leap_Reference_ID')[col].unique()[refid] if not pd.isna(i)]\n",
    "    \n",
    "    if len(val):\n",
    "        return val[0]\n",
    "    else:\n",
    "        return np.nan\n",
    "    \n",
    "for indx, row in tqdm(bb.iterrows()):\n",
    "        val = row['LeadManager_OriginCity']\n",
    "        ref_id = row['Leap_Reference_ID']\n",
    "        if pd.isna(val):\n",
    "            rplace = get_fill_data(bb,ref_id,'LeadManager_OriginCity')\n",
    "            bb.at[indx, 'LeadManager_OriginCity'] = rplace"
   ]
  }
 ],
 "metadata": {
  "kernelspec": {
   "display_name": "Python 3 (ipykernel)",
   "language": "python",
   "name": "python3"
  },
  "language_info": {
   "codemirror_mode": {
    "name": "ipython",
    "version": 3
   },
   "file_extension": ".py",
   "mimetype": "text/x-python",
   "name": "python",
   "nbconvert_exporter": "python",
   "pygments_lexer": "ipython3",
   "version": "3.9.15"
  }
 },
 "nbformat": 4,
 "nbformat_minor": 5
}
