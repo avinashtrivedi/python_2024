{
 "cells": [
  {
   "cell_type": "markdown",
   "id": "5366b454-a678-48fc-a9a1-6c891bfcca06",
   "metadata": {},
   "source": [
    "#### Import all necessary libraries"
   ]
  },
  {
   "cell_type": "code",
   "execution_count": 1,
   "id": "43226cf8",
   "metadata": {},
   "outputs": [],
   "source": [
    "import pandas as pd\n",
    "import numpy as np\n",
    "from tensorflow.keras.preprocessing.text import Tokenizer\n",
    "from tensorflow.keras.preprocessing.sequence import pad_sequences\n",
    "from tensorflow.keras.models import Sequential\n",
    "from tensorflow.keras.layers import Embedding, LSTM, Dense, SpatialDropout1D"
   ]
  },
  {
   "cell_type": "markdown",
   "id": "695bddb8-6942-4f9c-8665-33e0b3cb04ee",
   "metadata": {},
   "source": [
    "##### Import the dataset"
   ]
  },
  {
   "cell_type": "code",
   "execution_count": 2,
   "id": "3131a32b",
   "metadata": {},
   "outputs": [],
   "source": [
    "# Load datasets\n",
    "train_data = pd.read_csv(\"MTS-Dialog-TrainingSet.csv\")\n",
    "validation_data = pd.read_csv(\"MTS-Dialog-ValidationSet.csv\")\n",
    "test_data1 = pd.read_csv(\"MTS-Dialog-TestSet-1-MEDIQA-Chat-2023.csv\")\n",
    "test_data2 = pd.read_csv(\"MTS-Dialog-TestSet-2-MEDIQA-Sum-2023.csv\")"
   ]
  },
  {
   "cell_type": "code",
   "execution_count": 3,
   "id": "b6077691",
   "metadata": {},
   "outputs": [],
   "source": [
    "# Extract dialogues and section texts\n",
    "train_dialogues = train_data['dialogue'].values\n",
    "train_section_texts = train_data['section_text'].values"
   ]
  },
  {
   "cell_type": "code",
   "execution_count": 4,
   "id": "8ddb56be",
   "metadata": {},
   "outputs": [],
   "source": [
    "validation_dialogues = validation_data['dialogue'].values\n",
    "validation_section_texts = validation_data['section_text'].values"
   ]
  },
  {
   "cell_type": "code",
   "execution_count": 5,
   "id": "bdcc691c",
   "metadata": {},
   "outputs": [],
   "source": [
    "# Tokenization\n",
    "tokenizer = Tokenizer()\n",
    "tokenizer.fit_on_texts(train_dialogues)\n",
    "vocab_size = len(tokenizer.word_index) + 1"
   ]
  },
  {
   "cell_type": "code",
   "execution_count": 6,
   "id": "0561be51",
   "metadata": {},
   "outputs": [],
   "source": [
    "# Convert text to sequences\n",
    "maxlen = 100  \n",
    "X_train = tokenizer.texts_to_sequences(train_dialogues)\n",
    "X_train = pad_sequences(X_train, padding='post', maxlen=maxlen)\n",
    "Y_train = tokenizer.texts_to_sequences(train_section_texts)\n",
    "Y_train = pad_sequences(Y_train, padding='post', maxlen=maxlen)\n",
    "X_val = tokenizer.texts_to_sequences(validation_dialogues)\n",
    "X_val = pad_sequences(X_val, padding='post', maxlen=maxlen)\n",
    "Y_val = tokenizer.texts_to_sequences(validation_section_texts)\n",
    "Y_val = pad_sequences(Y_val, padding='post', maxlen=maxlen)"
   ]
  },
  {
   "cell_type": "code",
   "execution_count": 8,
   "id": "e78314aa",
   "metadata": {},
   "outputs": [
    {
     "name": "stderr",
     "output_type": "stream",
     "text": [
      "C:\\Users\\Tech Assignment 02\\AppData\\Roaming\\Python\\Python311\\site-packages\\keras\\src\\layers\\core\\wrapper.py:27: UserWarning: Do not pass an `input_shape`/`input_dim` argument to a layer. When using Sequential models, prefer using an `Input(shape)` object as the first layer in the model instead.\n",
      "  super().__init__(**kwargs)\n"
     ]
    }
   ],
   "source": [
    "from tensorflow.keras.models import Sequential\n",
    "from tensorflow.keras.layers import Embedding, LSTM, Dense, Bidirectional  \n",
    "\n",
    "# Model architecture\n",
    "embedding_dim = 100\n",
    "model = Sequential()\n",
    "model.add(Embedding(vocab_size, embedding_dim))  # Remove input_length from here\n",
    "model.add(Bidirectional(LSTM(128, return_sequences=True), input_shape=(maxlen, embedding_dim)))  # Specify input_length here\n",
    "model.add(Dense(vocab_size, activation='softmax'))\n",
    "model.compile(loss='sparse_categorical_crossentropy', optimizer='adam', metrics=['accuracy'])"
   ]
  },
  {
   "cell_type": "code",
   "execution_count": 9,
   "id": "1db3b0bb",
   "metadata": {},
   "outputs": [
    {
     "name": "stdout",
     "output_type": "stream",
     "text": [
      "Epoch 1/10\n",
      "\u001b[1m19/19\u001b[0m \u001b[32m━━━━━━━━━━━━━━━━━━━━\u001b[0m\u001b[37m\u001b[0m \u001b[1m44s\u001b[0m 2s/step - accuracy: 0.5582 - loss: 7.7210 - val_accuracy: 0.7205 - val_loss: 2.5005\n",
      "Epoch 2/10\n",
      "\u001b[1m19/19\u001b[0m \u001b[32m━━━━━━━━━━━━━━━━━━━━\u001b[0m\u001b[37m\u001b[0m \u001b[1m31s\u001b[0m 2s/step - accuracy: 0.6949 - loss: 2.6231 - val_accuracy: 0.7205 - val_loss: 2.1851\n",
      "Epoch 3/10\n",
      "\u001b[1m19/19\u001b[0m \u001b[32m━━━━━━━━━━━━━━━━━━━━\u001b[0m\u001b[37m\u001b[0m \u001b[1m37s\u001b[0m 1s/step - accuracy: 0.6974 - loss: 2.4821 - val_accuracy: 0.7205 - val_loss: 2.1155\n",
      "Epoch 4/10\n",
      "\u001b[1m19/19\u001b[0m \u001b[32m━━━━━━━━━━━━━━━━━━━━\u001b[0m\u001b[37m\u001b[0m \u001b[1m34s\u001b[0m 2s/step - accuracy: 0.6930 - loss: 2.4374 - val_accuracy: 0.7205 - val_loss: 2.0738\n",
      "Epoch 5/10\n",
      "\u001b[1m19/19\u001b[0m \u001b[32m━━━━━━━━━━━━━━━━━━━━\u001b[0m\u001b[37m\u001b[0m \u001b[1m42s\u001b[0m 2s/step - accuracy: 0.7083 - loss: 2.2946 - val_accuracy: 0.7205 - val_loss: 2.0416\n",
      "Epoch 6/10\n",
      "\u001b[1m19/19\u001b[0m \u001b[32m━━━━━━━━━━━━━━━━━━━━\u001b[0m\u001b[37m\u001b[0m \u001b[1m42s\u001b[0m 2s/step - accuracy: 0.7025 - loss: 2.2964 - val_accuracy: 0.7205 - val_loss: 2.0140\n",
      "Epoch 7/10\n",
      "\u001b[1m19/19\u001b[0m \u001b[32m━━━━━━━━━━━━━━━━━━━━\u001b[0m\u001b[37m\u001b[0m \u001b[1m36s\u001b[0m 2s/step - accuracy: 0.6956 - loss: 2.3005 - val_accuracy: 0.7205 - val_loss: 1.9881\n",
      "Epoch 8/10\n",
      "\u001b[1m19/19\u001b[0m \u001b[32m━━━━━━━━━━━━━━━━━━━━\u001b[0m\u001b[37m\u001b[0m \u001b[1m40s\u001b[0m 2s/step - accuracy: 0.7146 - loss: 2.1572 - val_accuracy: 0.7208 - val_loss: 1.9667\n",
      "Epoch 9/10\n",
      "\u001b[1m19/19\u001b[0m \u001b[32m━━━━━━━━━━━━━━━━━━━━\u001b[0m\u001b[37m\u001b[0m \u001b[1m33s\u001b[0m 2s/step - accuracy: 0.7043 - loss: 2.2044 - val_accuracy: 0.7209 - val_loss: 1.9536\n",
      "Epoch 10/10\n",
      "\u001b[1m19/19\u001b[0m \u001b[32m━━━━━━━━━━━━━━━━━━━━\u001b[0m\u001b[37m\u001b[0m \u001b[1m28s\u001b[0m 1s/step - accuracy: 0.7030 - loss: 2.1911 - val_accuracy: 0.7210 - val_loss: 1.9375\n"
     ]
    }
   ],
   "source": [
    "# Model training\n",
    "epochs = 10\n",
    "batch_size = 64\n",
    "history = model.fit(X_train, Y_train, epochs=epochs, batch_size=batch_size, validation_data=(X_val, Y_val))"
   ]
  },
  {
   "cell_type": "code",
   "execution_count": 10,
   "id": "168b2a99",
   "metadata": {},
   "outputs": [],
   "source": [
    "# Evaluate the model on test set \n",
    "# Preprocess test data\n",
    "test_dialogues1 = test_data1['dialogue'].values\n",
    "test_section_texts1 = test_data1['section_text'].values\n",
    "test_dialogues2 = test_data2['dialogue'].values\n",
    "test_section_texts2 = test_data2['section_text'].values\n",
    "X_test1 = tokenizer.texts_to_sequences(test_dialogues1)\n",
    "X_test1 = pad_sequences(X_test1, padding='post', maxlen=maxlen)\n",
    "Y_test1 = tokenizer.texts_to_sequences(test_section_texts1)\n",
    "Y_test1 = pad_sequences(Y_test1, padding='post', maxlen=maxlen)\n",
    "X_test2 = tokenizer.texts_to_sequences(test_dialogues2)\n",
    "X_test2 = pad_sequences(X_test2, padding='post', maxlen=maxlen)\n",
    "Y_test2 = tokenizer.texts_to_sequences(test_section_texts2)\n",
    "Y_test2 = pad_sequences(Y_test2, padding='post', maxlen=maxlen)"
   ]
  },
  {
   "cell_type": "code",
   "execution_count": 11,
   "id": "7fec29a8",
   "metadata": {},
   "outputs": [
    {
     "name": "stdout",
     "output_type": "stream",
     "text": [
      "Test Set 1 - Loss: 2.142153263092041, Accuracy: 0.7084000110626221\n",
      "Test Set 2 - Loss: 1.9102681875228882, Accuracy: 0.7232499718666077\n"
     ]
    }
   ],
   "source": [
    "# Evaluate on Test Set 1\n",
    "loss_test1, accuracy_test1 = model.evaluate(X_test1, Y_test1, verbose=0)\n",
    "print(f\"Test Set 1 - Loss: {loss_test1}, Accuracy: {accuracy_test1}\")\n",
    "# Evaluate on Test Set 2\n",
    "loss_test2, accuracy_test2 = model.evaluate(X_test2, Y_test2, verbose=0)\n",
    "print(f\"Test Set 2 - Loss: {loss_test2}, Accuracy: {accuracy_test2}\")"
   ]
  },
  {
   "cell_type": "code",
   "execution_count": 12,
   "id": "dcc6fd2e",
   "metadata": {},
   "outputs": [
    {
     "name": "stdout",
     "output_type": "stream",
     "text": [
      "Dialogue: \n",
      "Doctor: When did your pain begin? \n",
      "Patient: I've had low back pain for about eight years now.\n",
      "Doctor: Is there any injury? \n",
      "Patient: Yeah, it started when I fell in an A B C store.\n",
      "Doctor: How old are you now?\n",
      "Patient: I'm twenty six.  \n",
      "Doctor: What kind of treatments have you had for this low back pain? \n",
      "Patient: Yeah, I got referred to P T, and I went, but only once or twice, um, and if I remember right, they only did the electrical stimulation, and heat. \n",
      "Doctor: I see, how has your pain progressed over the last eight years? \n",
      "Patient: It's been pretty continuous, but it's been at varying degrees, sometimes are better than others. \n",
      "Doctor: Do you have any children? \n",
      "Patient: Yes, I had my son in August of two thousand eight, and I've had back pain since giving birth. \n",
      "Doctor: Have you had any falls since the initial one? \n",
      "Patient: Yes, I fell four or five days ago while I was mopping the floor. \n",
      "Doctor: Did you land on your lower back again?\n",
      "Patient: Yes, right onto my tailbone. \n",
      "Doctor: Did that make the low back pain worse? \n",
      "Patient: Yes. \n",
      "Doctor: Have you seen any other doctors for this issue? \n",
      "Patient: Yes, I saw Doctor X on January tenth two thousand nine, and I have a follow up appointment scheduled for February tenth two thousand nine.\n",
      "\n",
      "\u001b[1m1/1\u001b[0m \u001b[32m━━━━━━━━━━━━━━━━━━━━\u001b[0m\u001b[37m\u001b[0m \u001b[1m1s\u001b[0m 765ms/step\n",
      "Predicted Clinical Notes: patient patient patient\n"
     ]
    }
   ],
   "source": [
    "# Define the generate_clinical_notes function\n",
    "def generate_clinical_notes(dialogue):\n",
    "    # Tokenize and pad the input dialogue\n",
    "    X_input = tokenizer.texts_to_sequences([dialogue])\n",
    "    X_input = pad_sequences(X_input, padding='post', maxlen=maxlen)\n",
    "    # Predict the section text\n",
    "    predicted_sequence = model.predict(X_input)\n",
    "    # Convert the predicted sequence back to text\n",
    "    predicted_text = ' '.join([tokenizer.index_word[idx] for idx in np.argmax(predicted_sequence, axis=-1)[0] if idx != 0])\n",
    "    \n",
    "    return predicted_text\n",
    "example_dialogue = '''\n",
    "Doctor: When did your pain begin? \n",
    "Patient: I've had low back pain for about eight years now.\n",
    "Doctor: Is there any injury? \n",
    "Patient: Yeah, it started when I fell in an A B C store.\n",
    "Doctor: How old are you now?\n",
    "Patient: I'm twenty six.  \n",
    "Doctor: What kind of treatments have you had for this low back pain? \n",
    "Patient: Yeah, I got referred to P T, and I went, but only once or twice, um, and if I remember right, they only did the electrical stimulation, and heat. \n",
    "Doctor: I see, how has your pain progressed over the last eight years? \n",
    "Patient: It's been pretty continuous, but it's been at varying degrees, sometimes are better than others. \n",
    "Doctor: Do you have any children? \n",
    "Patient: Yes, I had my son in August of two thousand eight, and I've had back pain since giving birth. \n",
    "Doctor: Have you had any falls since the initial one? \n",
    "Patient: Yes, I fell four or five days ago while I was mopping the floor. \n",
    "Doctor: Did you land on your lower back again?\n",
    "Patient: Yes, right onto my tailbone. \n",
    "Doctor: Did that make the low back pain worse? \n",
    "Patient: Yes. \n",
    "Doctor: Have you seen any other doctors for this issue? \n",
    "Patient: Yes, I saw Doctor X on January tenth two thousand nine, and I have a follow up appointment scheduled for February tenth two thousand nine.\n",
    "'''\n",
    "print(\"Dialogue:\", example_dialogue)\n",
    "\n",
    "predicted_notes = generate_clinical_notes(example_dialogue)\n",
    "print(\"Predicted Clinical Notes:\", predicted_notes)\n"
   ]
  }
 ],
 "metadata": {
  "kernelspec": {
   "display_name": "Python 3 (ipykernel)",
   "language": "python",
   "name": "python3"
  },
  "language_info": {
   "codemirror_mode": {
    "name": "ipython",
    "version": 3
   },
   "file_extension": ".py",
   "mimetype": "text/x-python",
   "name": "python",
   "nbconvert_exporter": "python",
   "pygments_lexer": "ipython3",
   "version": "3.9.15"
  }
 },
 "nbformat": 4,
 "nbformat_minor": 5
}
