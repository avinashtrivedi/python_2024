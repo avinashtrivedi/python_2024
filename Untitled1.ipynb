{
 "cells": [
  {
   "cell_type": "raw",
   "id": "f492774f",
   "metadata": {},
   "source": [
    "# Help my Python program that uses facial recognition, that recognizes faces, and help add ability to determine if an individual face, from one image is present in another image of a group of faces. will give you the two images"
   ]
  },
  {
   "cell_type": "code",
   "execution_count": null,
   "id": "1cd38d8d",
   "metadata": {},
   "outputs": [],
   "source": []
  }
 ],
 "metadata": {
  "kernelspec": {
   "display_name": "rag_llm",
   "language": "python",
   "name": "rag_llm"
  },
  "language_info": {
   "codemirror_mode": {
    "name": "ipython",
    "version": 3
   },
   "file_extension": ".py",
   "mimetype": "text/x-python",
   "name": "python",
   "nbconvert_exporter": "python",
   "pygments_lexer": "ipython3",
   "version": "3.12.4"
  }
 },
 "nbformat": 4,
 "nbformat_minor": 5
}
