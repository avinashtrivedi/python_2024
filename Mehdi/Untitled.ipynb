{
 "cells": [
  {
   "cell_type": "code",
   "execution_count": 7,
   "id": "cdb88b34",
   "metadata": {},
   "outputs": [
    {
     "name": "stderr",
     "output_type": "stream",
     "text": [
      "python: can't open file 'D:\\OneDrive - NITT\\CODE\\Python Scripts\\Code_2024\\Mehdi\\'url_classification_predict.py'': [Errno 2] No such file or directory\n"
     ]
    }
   ],
   "source": [
    "!python url_classification_predict.py"
   ]
  },
  {
   "cell_type": "code",
   "execution_count": 4,
   "id": "3cf79f81",
   "metadata": {},
   "outputs": [
    {
     "name": "stdout",
     "output_type": "stream",
     "text": [
      "^C\n"
     ]
    },
    {
     "name": "stderr",
     "output_type": "stream",
     "text": [
      "C:\\Users\\avitr\\anaconda3\\lib\\site-packages\\pandas\\core\\arrays\\masked.py:60: UserWarning: Pandas requires version '1.3.6' or newer of 'bottleneck' (version '1.3.5' currently installed).\n",
      "  from pandas.core import (\n",
      "2024-09-20 05:31:30.504344: W tensorflow/stream_executor/platform/default/dso_loader.cc:64] Could not load dynamic library 'cudart64_110.dll'; dlerror: cudart64_110.dll not found\n",
      "2024-09-20 05:31:30.504779: I tensorflow/stream_executor/cuda/cudart_stub.cc:29] Ignore above cudart dlerror if you do not have a GPU set up on your machine.\n",
      "Traceback (most recent call last):\n",
      "  File \"C:\\Users\\avitr\\anaconda3\\lib\\site-packages\\transformers\\utils\\import_utils.py\", line 1130, in _get_module\n",
      "    return importlib.import_module(\".\" + module_name, self.__name__)\n",
      "  File \"C:\\Users\\avitr\\anaconda3\\lib\\importlib\\__init__.py\", line 127, in import_module\n",
      "    return _bootstrap._gcd_import(name[level:], package, level)\n",
      "  File \"<frozen importlib._bootstrap>\", line 1030, in _gcd_import\n",
      "  File \"<frozen importlib._bootstrap>\", line 1007, in _find_and_load\n",
      "  File \"<frozen importlib._bootstrap>\", line 986, in _find_and_load_unlocked\n",
      "  File \"<frozen importlib._bootstrap>\", line 680, in _load_unlocked\n",
      "  File \"<frozen importlib._bootstrap_external>\", line 850, in exec_module\n",
      "  File \"<frozen importlib._bootstrap>\", line 228, in _call_with_frames_removed\n",
      "  File \"C:\\Users\\avitr\\anaconda3\\lib\\site-packages\\transformers\\trainer.py\", line 166, in <module>\n",
      "    import datasets\n",
      "  File \"C:\\Users\\avitr\\anaconda3\\lib\\site-packages\\datasets\\__init__.py\", line 43, in <module>\n",
      "    from .arrow_dataset import Dataset\n",
      "  File \"C:\\Users\\avitr\\anaconda3\\lib\\site-packages\\datasets\\arrow_dataset.py\", line 65, in <module>\n",
      "    from .arrow_reader import ArrowReader\n",
      "  File \"C:\\Users\\avitr\\anaconda3\\lib\\site-packages\\datasets\\arrow_reader.py\", line 30, in <module>\n",
      "    from .download.download_config import DownloadConfig\n",
      "  File \"C:\\Users\\avitr\\anaconda3\\lib\\site-packages\\datasets\\download\\__init__.py\", line 10, in <module>\n",
      "    from .streaming_download_manager import StreamingDownloadManager\n",
      "  File \"C:\\Users\\avitr\\anaconda3\\lib\\site-packages\\datasets\\download\\streaming_download_manager.py\", line 21, in <module>\n",
      "    from ..filesystems import COMPRESSION_FILESYSTEMS\n",
      "  File \"C:\\Users\\avitr\\anaconda3\\lib\\site-packages\\datasets\\filesystems\\__init__.py\", line 16, in <module>\n",
      "    from .s3filesystem import S3FileSystem  # noqa: F401\n",
      "  File \"C:\\Users\\avitr\\anaconda3\\lib\\site-packages\\datasets\\filesystems\\s3filesystem.py\", line 1, in <module>\n",
      "    import s3fs\n",
      "  File \"C:\\Users\\avitr\\anaconda3\\lib\\site-packages\\s3fs\\__init__.py\", line 1, in <module>\n",
      "    from .core import S3FileSystem, S3File\n",
      "  File \"C:\\Users\\avitr\\anaconda3\\lib\\site-packages\\s3fs\\core.py\", line 29, in <module>\n",
      "    import aiobotocore.session\n",
      "  File \"C:\\Users\\avitr\\anaconda3\\lib\\site-packages\\aiobotocore\\session.py\", line 1, in <module>\n",
      "    from botocore import UNSIGNED, translate\n",
      "  File \"C:\\Users\\avitr\\anaconda3\\lib\\site-packages\\botocore\\translate.py\", line 16, in <module>\n",
      "    from botocore.utils import merge_dicts\n",
      "  File \"C:\\Users\\avitr\\anaconda3\\lib\\site-packages\\botocore\\utils.py\", line 37, in <module>\n",
      "    import botocore.httpsession\n",
      "  File \"C:\\Users\\avitr\\anaconda3\\lib\\site-packages\\botocore\\httpsession.py\", line 22, in <module>\n",
      "    from urllib3.util.ssl_ import (\n",
      "ImportError: cannot import name 'DEFAULT_CIPHERS' from 'urllib3.util.ssl_' (C:\\Users\\avitr\\anaconda3\\lib\\site-packages\\urllib3\\util\\ssl_.py)\n",
      "\n",
      "The above exception was the direct cause of the following exception:\n",
      "\n",
      "Traceback (most recent call last):\n",
      "  File \"D:\\OneDrive - NITT\\CODE\\Python Scripts\\Code_2024\\Mehdi\\url_classification_utility.py\", line 29, in <module>\n",
      "    from transformers import BertTokenizer, BertForSequenceClassification, Trainer, TrainingArguments\n",
      "  File \"<frozen importlib._bootstrap>\", line 1055, in _handle_fromlist\n",
      "  File \"C:\\Users\\avitr\\anaconda3\\lib\\site-packages\\transformers\\utils\\import_utils.py\", line 1120, in __getattr__\n",
      "    module = self._get_module(self._class_to_module[name])\n",
      "  File \"C:\\Users\\avitr\\anaconda3\\lib\\site-packages\\transformers\\utils\\import_utils.py\", line 1132, in _get_module\n",
      "    raise RuntimeError(\n",
      "RuntimeError: Failed to import transformers.trainer because of the following error (look up to see its traceback):\n",
      "cannot import name 'DEFAULT_CIPHERS' from 'urllib3.util.ssl_' (C:\\Users\\avitr\\anaconda3\\lib\\site-packages\\urllib3\\util\\ssl_.py)\n"
     ]
    }
   ],
   "source": [
    "!python url_classification_utility.py"
   ]
  },
  {
   "cell_type": "code",
   "execution_count": null,
   "id": "1281a738",
   "metadata": {},
   "outputs": [],
   "source": [
    " 'ABC university' 'abc' 'NA' 'Random Forest' 'www'"
   ]
  }
 ],
 "metadata": {
  "kernelspec": {
   "display_name": "rag_llm",
   "language": "python",
   "name": "rag_llm"
  },
  "language_info": {
   "codemirror_mode": {
    "name": "ipython",
    "version": 3
   },
   "file_extension": ".py",
   "mimetype": "text/x-python",
   "name": "python",
   "nbconvert_exporter": "python",
   "pygments_lexer": "ipython3",
   "version": "3.12.4"
  }
 },
 "nbformat": 4,
 "nbformat_minor": 5
}
