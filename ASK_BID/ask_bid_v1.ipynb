{
 "cells": [
  {
   "cell_type": "code",
   "execution_count": 90,
   "id": "c38226c6",
   "metadata": {},
   "outputs": [],
   "source": [
    "import re\n",
    "import string\n",
    "\n",
    "text = \"\"\"TRADER: 20 million EURO GBP 12m\n",
    "BROKER: Outright?\n",
    "TRADER: yes.\n",
    "\"\"\"\n",
    "\n",
    "def get_digit(x):\n",
    "    matches1 = re.findall(r'\\b\\d+\\s*(?:million|millions)\\b', x)\n",
    "    matches2 = re.findall(r'\\b\\d+\\s*(?:m)\\b', x)\n",
    "    return matches1[0],matches2[0]"
   ]
  },
  {
   "cell_type": "code",
   "execution_count": 75,
   "id": "57cff5ed",
   "metadata": {},
   "outputs": [],
   "source": [
    "text_list = text.split('\\n')"
   ]
  },
  {
   "cell_type": "code",
   "execution_count": 76,
   "id": "e77a518e",
   "metadata": {},
   "outputs": [
    {
     "data": {
      "text/plain": [
       "1"
      ]
     },
     "execution_count": 76,
     "metadata": {},
     "output_type": "execute_result"
    }
   ],
   "source": [
    "index_outright = [indx for indx,msg in enumerate(text_list) if 'outright' in msg.lower()][0]\n",
    "index_outright"
   ]
  },
  {
   "cell_type": "code",
   "execution_count": 77,
   "id": "98da81d8",
   "metadata": {},
   "outputs": [
    {
     "data": {
      "text/plain": [
       "'yes'"
      ]
     },
     "execution_count": 77,
     "metadata": {},
     "output_type": "execute_result"
    }
   ],
   "source": [
    "a = text_list[index_outright+1].split('TRADER')[-1]\n",
    "new_a = ''\n",
    "for i in a:\n",
    "    if i not in string.punctuation:\n",
    "        new_a = new_a + i\n",
    "outright_resp = new_a.strip()\n",
    "outright_resp"
   ]
  },
  {
   "cell_type": "code",
   "execution_count": 91,
   "id": "5608c794",
   "metadata": {},
   "outputs": [],
   "source": [
    "mill,mnth = get_digit(text)"
   ]
  },
  {
   "cell_type": "code",
   "execution_count": 92,
   "id": "558f01f5",
   "metadata": {},
   "outputs": [
    {
     "data": {
      "text/plain": [
       "'20 million'"
      ]
     },
     "execution_count": 92,
     "metadata": {},
     "output_type": "execute_result"
    }
   ],
   "source": [
    "mill"
   ]
  },
  {
   "cell_type": "code",
   "execution_count": 93,
   "id": "ff8ab58c",
   "metadata": {},
   "outputs": [
    {
     "data": {
      "text/plain": [
       "'12m'"
      ]
     },
     "execution_count": 93,
     "metadata": {},
     "output_type": "execute_result"
    }
   ],
   "source": [
    "mnth"
   ]
  },
  {
   "cell_type": "code",
   "execution_count": 79,
   "id": "d58d5788",
   "metadata": {},
   "outputs": [],
   "source": []
  },
  {
   "cell_type": "code",
   "execution_count": 83,
   "id": "403c970d",
   "metadata": {},
   "outputs": [],
   "source": [
    "curr = ['EURO GBP','EUR USD' ,'SGD MYR']\n",
    "def get_cur(text):\n",
    "    for cur in curr:\n",
    "        if cur in text:\n",
    "            return cur"
   ]
  },
  {
   "cell_type": "code",
   "execution_count": 84,
   "id": "cf3b129a",
   "metadata": {},
   "outputs": [
    {
     "data": {
      "text/plain": [
       "'EURO GBP'"
      ]
     },
     "execution_count": 84,
     "metadata": {},
     "output_type": "execute_result"
    }
   ],
   "source": [
    "get_cur(text)"
   ]
  },
  {
   "cell_type": "code",
   "execution_count": 85,
   "id": "1d58283c",
   "metadata": {},
   "outputs": [],
   "source": [
    "import pandas as pd"
   ]
  },
  {
   "cell_type": "code",
   "execution_count": 86,
   "id": "42436dfd",
   "metadata": {},
   "outputs": [],
   "source": [
    "df = pd.DataFrame([],columns=['Currency','Months','Millions','Outright','Buy','Sell'])"
   ]
  },
  {
   "cell_type": "code",
   "execution_count": 94,
   "id": "4dd31856",
   "metadata": {},
   "outputs": [],
   "source": [
    "df.loc[len(df)] = [get_cur(text),\n",
    "                   mnth,\n",
    "                  mill,\n",
    "                   outright_resp,\n",
    "                   '-',\n",
    "                   '-'\n",
    "                  ]"
   ]
  },
  {
   "cell_type": "code",
   "execution_count": 95,
   "id": "11b6d452",
   "metadata": {},
   "outputs": [
    {
     "data": {
      "text/html": [
       "<div>\n",
       "<style scoped>\n",
       "    .dataframe tbody tr th:only-of-type {\n",
       "        vertical-align: middle;\n",
       "    }\n",
       "\n",
       "    .dataframe tbody tr th {\n",
       "        vertical-align: top;\n",
       "    }\n",
       "\n",
       "    .dataframe thead th {\n",
       "        text-align: right;\n",
       "    }\n",
       "</style>\n",
       "<table border=\"1\" class=\"dataframe\">\n",
       "  <thead>\n",
       "    <tr style=\"text-align: right;\">\n",
       "      <th></th>\n",
       "      <th>Currency</th>\n",
       "      <th>Months</th>\n",
       "      <th>Millions</th>\n",
       "      <th>Outright</th>\n",
       "      <th>Buy</th>\n",
       "      <th>Sell</th>\n",
       "    </tr>\n",
       "  </thead>\n",
       "  <tbody>\n",
       "    <tr>\n",
       "      <th>0</th>\n",
       "      <td>EURO GBP</td>\n",
       "      <td>12m</td>\n",
       "      <td>20 million</td>\n",
       "      <td>yes</td>\n",
       "      <td>-</td>\n",
       "      <td>-</td>\n",
       "    </tr>\n",
       "  </tbody>\n",
       "</table>\n",
       "</div>"
      ],
      "text/plain": [
       "   Currency Months    Millions Outright Buy Sell\n",
       "0  EURO GBP    12m  20 million      yes   -    -"
      ]
     },
     "execution_count": 95,
     "metadata": {},
     "output_type": "execute_result"
    }
   ],
   "source": [
    "df"
   ]
  },
  {
   "cell_type": "markdown",
   "id": "eacfff85",
   "metadata": {},
   "source": [
    "# Functions"
   ]
  },
  {
   "cell_type": "code",
   "execution_count": 192,
   "id": "fb6dfed9",
   "metadata": {},
   "outputs": [],
   "source": [
    "b = \"\"\"TRADER: SGDMYR in 50\n",
    "BROKER: Outright?\n",
    "TRADER: yes\n",
    "BROKER: 30/31 (1.3030/1.3031)\n",
    "TRADER: 30\"\"\""
   ]
  },
  {
   "cell_type": "code",
   "execution_count": 193,
   "id": "e6b566fa",
   "metadata": {},
   "outputs": [],
   "source": [
    "def get_ask_bid(text):\n",
    "    b_list = text.split('\\n')\n",
    "    ask_bid = [i for i in text.split() if r\"/\" in i][0]\n",
    "    ask_bid_indx = [indx for indx,msg in enumerate(b_list) if ask_bid in msg][0]\n",
    "    ask_bid_resp = re.findall(r'\\d+', b_list[ask_bid_indx+1])[0]\n",
    "\n",
    "    ask_bid_list = ask_bid.split('/')\n",
    "    if ask_bid_resp == ask_bid_list[0]:\n",
    "        trade = 'BID'\n",
    "    elif ask_bid_resp == ask_bid_list[1]:\n",
    "        trade = 'ASK'\n",
    "    else:\n",
    "        trade = 'UNK'\n",
    "    return trade"
   ]
  },
  {
   "cell_type": "code",
   "execution_count": 194,
   "id": "a1d921a3",
   "metadata": {},
   "outputs": [
    {
     "data": {
      "text/plain": [
       "'BID'"
      ]
     },
     "execution_count": 194,
     "metadata": {},
     "output_type": "execute_result"
    }
   ],
   "source": [
    "get_ask_bid(b)"
   ]
  },
  {
   "cell_type": "code",
   "execution_count": 196,
   "id": "5b55a8a3",
   "metadata": {},
   "outputs": [],
   "source": [
    "def get_outright(text):\n",
    "    text_list = text.split('\\n')\n",
    "    index_outright = [indx for indx,msg in enumerate(text_list) if 'outright' in msg.lower()][0]\n",
    "    a = text_list[index_outright+1].split('TRADER')[-1]\n",
    "    new_a = ''\n",
    "    for i in a:\n",
    "        if i not in string.punctuation:\n",
    "            new_a = new_a + i\n",
    "    outright_resp = new_a.strip()\n",
    "    return outright_resp"
   ]
  },
  {
   "cell_type": "code",
   "execution_count": 197,
   "id": "8a65ceb7",
   "metadata": {},
   "outputs": [
    {
     "data": {
      "text/plain": [
       "'yes'"
      ]
     },
     "execution_count": 197,
     "metadata": {},
     "output_type": "execute_result"
    }
   ],
   "source": [
    "get_outright(b)"
   ]
  },
  {
   "cell_type": "code",
   "execution_count": 198,
   "id": "6cb96a36",
   "metadata": {},
   "outputs": [],
   "source": [
    "curr = ['EURO GBP','EUR USD' ,'SGD MYR','SGDMYR']\n",
    "def get_cur(text):\n",
    "    for cur in curr:\n",
    "        if cur in text:\n",
    "            return cur"
   ]
  },
  {
   "cell_type": "code",
   "execution_count": 199,
   "id": "d8dd10b9",
   "metadata": {},
   "outputs": [
    {
     "data": {
      "text/plain": [
       "'SGDMYR'"
      ]
     },
     "execution_count": 199,
     "metadata": {},
     "output_type": "execute_result"
    }
   ],
   "source": [
    "get_cur(b)"
   ]
  },
  {
   "cell_type": "code",
   "execution_count": null,
   "id": "3ee5ccce",
   "metadata": {},
   "outputs": [],
   "source": []
  }
 ],
 "metadata": {
  "kernelspec": {
   "display_name": "Python (myNEWenv)",
   "language": "python",
   "name": "mynewenv"
  },
  "language_info": {
   "codemirror_mode": {
    "name": "ipython",
    "version": 3
   },
   "file_extension": ".py",
   "mimetype": "text/x-python",
   "name": "python",
   "nbconvert_exporter": "python",
   "pygments_lexer": "ipython3",
   "version": "3.10.12"
  }
 },
 "nbformat": 4,
 "nbformat_minor": 5
}
