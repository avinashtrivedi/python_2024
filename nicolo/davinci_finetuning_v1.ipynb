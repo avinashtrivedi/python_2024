{
 "cells": [
  {
   "cell_type": "code",
   "execution_count": 1,
   "id": "3f2c45fe",
   "metadata": {},
   "outputs": [],
   "source": [
    "import os\n",
    "import json\n",
    "import pandas as pd\n",
    "from sklearn.metrics import accuracy_score,classification_report\n",
    "from sklearn.model_selection import train_test_split\n",
    "from openai import OpenAI\n",
    "\n",
    "\n",
    "client = OpenAI(\n",
    "  api_key=api_key,\n",
    ")"
   ]
  },
  {
   "cell_type": "code",
   "execution_count": null,
   "id": "342e6159",
   "metadata": {},
   "outputs": [],
   "source": [
    "# https://platform.openai.com/docs/guides/fine-tuning/preparing-your-dataset"
   ]
  },
  {
   "cell_type": "code",
   "execution_count": 2,
   "id": "207eae99",
   "metadata": {},
   "outputs": [],
   "source": [
    "train = pd.read_csv('train.csv',encoding='utf-8').sample(100) # change here to use all data\n",
    "test = pd.read_csv('test.csv',encoding='utf-8')"
   ]
  },
  {
   "cell_type": "code",
   "execution_count": 3,
   "id": "187a8e71",
   "metadata": {},
   "outputs": [],
   "source": [
    "train,val = train_test_split(train, test_size=0.20, random_state=42)"
   ]
  },
  {
   "cell_type": "code",
   "execution_count": 4,
   "id": "d26cc440",
   "metadata": {},
   "outputs": [],
   "source": [
    "train['label_text'] = train['label'].apply(lambda x: 'canonical' if x==0 else 'noncanonical')\n",
    "val['label_text'] = val['label'].apply(lambda x: 'canonical' if x==0 else 'noncanonical')"
   ]
  },
  {
   "cell_type": "code",
   "execution_count": 5,
   "id": "f5ff0c01",
   "metadata": {},
   "outputs": [],
   "source": [
    "prepare_text = \"\"\"You are an Italian language expert. Analyze the following text and tell me whether it is canonical or noncanonical.\n",
    "TEXT: {text}\n",
    "\n",
    "Reply with either 'canonical' or 'noncanonical' as a single word.\n",
    "\"\"\".strip()\n"
   ]
  },
  {
   "cell_type": "code",
   "execution_count": 6,
   "id": "942105d6",
   "metadata": {},
   "outputs": [],
   "source": [
    "training_file_name = \"training_data.jsonl\"\n",
    "validation_file_name = \"validation_data.jsonl\"\n",
    "\n",
    "def prepare_data(df_data, final_file_name):\n",
    "    with open(final_file_name, 'w',encoding='utf-8') as outfile:\n",
    "        for _,line in df_data.iterrows():\n",
    "            temp = {'prompt': prepare_text.format(text=line['text']),\n",
    "                   'completion':line['label_text']}\n",
    "            json.dump(temp, outfile)\n",
    "            outfile.write('\\n')\n",
    "\n",
    "prepare_data(train, \"training_data.jsonl\")\n",
    "prepare_data(val, \"validation_data.jsonl\")"
   ]
  },
  {
   "cell_type": "code",
   "execution_count": 7,
   "id": "d5011cb7",
   "metadata": {},
   "outputs": [
    {
     "name": "stdout",
     "output_type": "stream",
     "text": [
      "Training File ID: FileObject(id='file-osyD8EMpiaX3UrfSzZrRdlim', bytes=33838, created_at=1723755249, filename='training_data.jsonl', object='file', purpose='fine-tune', status='processed', status_details=None)\n",
      "Validation File ID: FileObject(id='file-cbfzXN6JM2X2SxlRNJa0Fa46', bytes=7553, created_at=1723755250, filename='validation_data.jsonl', object='file', purpose='fine-tune', status='processed', status_details=None)\n"
     ]
    }
   ],
   "source": [
    "training_file_id = client.files.create(\n",
    "  file=open(training_file_name, \"rb\"),\n",
    "  purpose=\"fine-tune\"\n",
    ")\n",
    "\n",
    "validation_file_id = client.files.create(\n",
    "  file=open(validation_file_name, \"rb\"),\n",
    "  purpose=\"fine-tune\"\n",
    ")\n",
    "\n",
    "print(f\"Training File ID: {training_file_id}\")\n",
    "print(f\"Validation File ID: {validation_file_id}\")"
   ]
  },
  {
   "cell_type": "code",
   "execution_count": 19,
   "id": "6aa9a16c",
   "metadata": {},
   "outputs": [
    {
     "name": "stdout",
     "output_type": "stream",
     "text": [
      "Fine-tunning model with jobID: ftjob-BGVNvsB6VCzBGf95UJJ2eoK8.\n",
      "Training Response: FineTuningJob(id='ftjob-BGVNvsB6VCzBGf95UJJ2eoK8', created_at=1723756035, error=Error(code=None, message=None, param=None), fine_tuned_model=None, finished_at=None, hyperparameters=Hyperparameters(n_epochs='auto', batch_size='auto', learning_rate_multiplier='auto'), model='davinci-002', object='fine_tuning.job', organization_id='org-IHJydIZsYemK29w90Hh71BHX', result_files=[], seed=1582627931, status='validating_files', trained_tokens=None, training_file='file-osyD8EMpiaX3UrfSzZrRdlim', validation_file='file-cbfzXN6JM2X2SxlRNJa0Fa46', estimated_finish=None, integrations=[], user_provided_suffix=None)\n",
      "Training Status: validating_files\n"
     ]
    }
   ],
   "source": [
    "response = client.fine_tuning.jobs.create(\n",
    "    training_file=training_file_id.id, \n",
    "    validation_file=validation_file_id.id,\n",
    "    model=\"davinci-002\"\n",
    "#   hyperparameters={\n",
    "#     \"n_epochs\": 4,\n",
    "#     \"batch_size\": 5,\n",
    "#     \"learning_rate_multiplier\": 0.3\n",
    "#   }\n",
    ")\n",
    "job_id = response.id\n",
    "status = response.status\n",
    "\n",
    "print(f'Fine-tunning model with jobID: {job_id}.')\n",
    "print(f\"Training Response: {response}\")\n",
    "print(f\"Training Status: {status}\")"
   ]
  },
  {
   "cell_type": "code",
   "execution_count": 20,
   "id": "afb4dac5",
   "metadata": {},
   "outputs": [
    {
     "name": "stdout",
     "output_type": "stream",
     "text": [
      "Streaming events for the fine-tuning job: ftjob-BGVNvsB6VCzBGf95UJJ2eoK8\n",
      "2024-08-16 02:37:15 Validating training file: file-osyD8EMpiaX3UrfSzZrRdlim and validation file: file-cbfzXN6JM2X2SxlRNJa0Fa46\n",
      "2024-08-16 02:37:15 Created fine-tuning job: ftjob-BGVNvsB6VCzBGf95UJJ2eoK8\n"
     ]
    }
   ],
   "source": [
    "import signal\n",
    "import datetime\n",
    "\n",
    "def signal_handler(sig, frame):\n",
    "    status = client.fine_tuning.jobs.retrieve(job_id).status\n",
    "    print(f\"Stream interrupted. Job is still {status}.\")\n",
    "    return\n",
    "\n",
    "\n",
    "print(f\"Streaming events for the fine-tuning job: {job_id}\")\n",
    "\n",
    "signal.signal(signal.SIGINT, signal_handler)\n",
    "\n",
    "events = client.fine_tuning.jobs.list_events(fine_tuning_job_id=job_id)\n",
    "try:\n",
    "    for event in events:\n",
    "        print(\n",
    "            f'{datetime.datetime.fromtimestamp(event.created_at)} {event.message}'\n",
    "        )\n",
    "except Exception:\n",
    "    print(\"Stream interrupted (client disconnected).\")"
   ]
  },
  {
   "cell_type": "code",
   "execution_count": 21,
   "id": "7a811d7d",
   "metadata": {},
   "outputs": [
    {
     "name": "stdout",
     "output_type": "stream",
     "text": [
      "Job not in terminal status: validating_files. Waiting.\n",
      "Status: validating_files\n",
      "Status: validating_files\n",
      "Status: validating_files\n",
      "Status: validating_files\n",
      "Status: validating_files\n",
      "Status: validating_files\n",
      "Status: validating_files\n",
      "Status: running\n",
      "Status: running\n",
      "Status: running\n",
      "Status: running\n",
      "Status: running\n",
      "Status: running\n",
      "Status: running\n",
      "Status: running\n",
      "Status: running\n",
      "Status: running\n",
      "Status: running\n",
      "Status: running\n",
      "Status: running\n",
      "Status: running\n",
      "Status: running\n",
      "Status: running\n",
      "Status: running\n",
      "Status: running\n",
      "Status: running\n",
      "Status: running\n",
      "Status: running\n",
      "Status: running\n",
      "Status: running\n",
      "Status: running\n",
      "Status: running\n",
      "Status: running\n",
      "Status: running\n",
      "Status: running\n",
      "Status: running\n",
      "Status: running\n",
      "Status: running\n",
      "Status: running\n",
      "Status: running\n",
      "Status: running\n",
      "Status: running\n",
      "Status: running\n",
      "Status: running\n",
      "Status: running\n",
      "Status: running\n",
      "Status: running\n",
      "Status: running\n",
      "Status: running\n",
      "Status: running\n",
      "Status: running\n",
      "Status: running\n",
      "Status: running\n",
      "Status: running\n",
      "Status: running\n",
      "Status: running\n",
      "Status: running\n",
      "Status: running\n",
      "Status: running\n",
      "Status: running\n",
      "Status: running\n",
      "Status: running\n",
      "Status: running\n",
      "Status: running\n",
      "Status: running\n",
      "Status: running\n",
      "Status: running\n",
      "Status: running\n",
      "Status: running\n",
      "Status: running\n",
      "Status: running\n",
      "Status: running\n",
      "Status: running\n",
      "Status: running\n",
      "Status: running\n",
      "Status: running\n",
      "Status: running\n",
      "Status: running\n",
      "Status: running\n",
      "Status: running\n",
      "Status: running\n",
      "Status: running\n",
      "Status: running\n",
      "Status: running\n",
      "Status: running\n",
      "Status: running\n",
      "Status: running\n",
      "Status: running\n",
      "Status: running\n",
      "Status: running\n",
      "Status: running\n",
      "Status: running\n",
      "Status: running\n",
      "Status: running\n",
      "Status: running\n",
      "Status: running\n",
      "Status: running\n",
      "Status: running\n",
      "Status: running\n",
      "Status: running\n",
      "Status: running\n",
      "Status: running\n",
      "Status: running\n",
      "Status: running\n",
      "Status: running\n",
      "Status: running\n",
      "Status: running\n",
      "Status: succeeded\n",
      "Checking other finetune jobs in the subscription.\n",
      "Found 14 finetune jobs.\n"
     ]
    }
   ],
   "source": [
    "import time\n",
    "\n",
    "status = client.fine_tuning.jobs.retrieve(job_id).status\n",
    "if status not in [\"succeeded\", \"failed\"]:\n",
    "    print(f\"Job not in terminal status: {status}. Waiting.\")\n",
    "    while status not in [\"succeeded\", \"failed\"]:\n",
    "        time.sleep(2)\n",
    "        status = client.fine_tuning.jobs.retrieve(job_id).status\n",
    "        print(f\"Status: {status}\")\n",
    "else:\n",
    "    print(f\"Finetune job {job_id} finished with status: {status}\")\n",
    "print(\"Checking other finetune jobs in the subscription.\")\n",
    "result = client.fine_tuning.jobs.list()\n",
    "print(f\"Found {len(result.data)} finetune jobs.\")"
   ]
  },
  {
   "cell_type": "code",
   "execution_count": 22,
   "id": "91a9e98a",
   "metadata": {},
   "outputs": [
    {
     "name": "stdout",
     "output_type": "stream",
     "text": [
      "ft:davinci-002:personal::9wc2wRCT\n"
     ]
    }
   ],
   "source": [
    "# Retrieve the finetuned model\n",
    "fine_tuned_model = result.data[0].fine_tuned_model\n",
    "print(fine_tuned_model)"
   ]
  },
  {
   "cell_type": "markdown",
   "id": "4d507e14",
   "metadata": {},
   "source": [
    "# Test using finetuned model"
   ]
  },
  {
   "cell_type": "code",
   "execution_count": 23,
   "id": "4a1c2529",
   "metadata": {},
   "outputs": [],
   "source": [
    "def classify_text_with_context(tuned_model,text):\n",
    "    answer = client.completions.create(\n",
    "      model= tuned_model,\n",
    "      prompt=prepare_text.format(text=text)\n",
    "    )\n",
    "    return 'canonical' if answer.choices[0].text.startswith('canonical') else 'noncanonical'"
   ]
  },
  {
   "cell_type": "code",
   "execution_count": 24,
   "id": "327fae68",
   "metadata": {},
   "outputs": [
    {
     "data": {
      "text/plain": [
       "'canonical'"
      ]
     },
     "execution_count": 24,
     "metadata": {},
     "output_type": "execute_result"
    }
   ],
   "source": [
    "query = test['text'][14]\n",
    "classify_text_with_context(fine_tuned_model,query)"
   ]
  },
  {
   "cell_type": "markdown",
   "id": "9a66710c",
   "metadata": {},
   "source": [
    "# Test on 20 test data"
   ]
  },
  {
   "cell_type": "code",
   "execution_count": 25,
   "id": "c2230e1c",
   "metadata": {},
   "outputs": [],
   "source": [
    "from tqdm import tqdm"
   ]
  },
  {
   "cell_type": "code",
   "execution_count": 26,
   "id": "db48797f",
   "metadata": {},
   "outputs": [
    {
     "name": "stderr",
     "output_type": "stream",
     "text": [
      "100%|███████████████████████████████████████████████████████████████████████████████| 20/20 [00:20<00:00,  1.03s/it]\n"
     ]
    }
   ],
   "source": [
    "pred = []\n",
    "for query in tqdm(test['text'][:20]): # change here to use all test data\n",
    "    result = classify_text_with_context(fine_tuned_model,query)\n",
    "    pred.append(result)"
   ]
  },
  {
   "cell_type": "code",
   "execution_count": 27,
   "id": "4be42501",
   "metadata": {},
   "outputs": [],
   "source": [
    "pred = [0 if i=='canonical' else 1 for i in pred]"
   ]
  },
  {
   "cell_type": "code",
   "execution_count": 28,
   "id": "f68ce59b",
   "metadata": {},
   "outputs": [
    {
     "data": {
      "text/plain": [
       "[0, 0, 1, 1, 1, 0, 0, 0, 1, 1, 1, 0, 0, 0, 0, 0, 0, 1, 0, 0]"
      ]
     },
     "execution_count": 28,
     "metadata": {},
     "output_type": "execute_result"
    }
   ],
   "source": [
    "pred"
   ]
  },
  {
   "cell_type": "code",
   "execution_count": 29,
   "id": "37847283",
   "metadata": {},
   "outputs": [
    {
     "name": "stdout",
     "output_type": "stream",
     "text": [
      "              precision    recall  f1-score   support\n",
      "\n",
      "           0       0.69      0.69      0.69        13\n",
      "           1       0.43      0.43      0.43         7\n",
      "\n",
      "    accuracy                           0.60        20\n",
      "   macro avg       0.56      0.56      0.56        20\n",
      "weighted avg       0.60      0.60      0.60        20\n",
      "\n"
     ]
    }
   ],
   "source": [
    "print(classification_report(test['label'][:20],pred)) # change here to use all test data"
   ]
  },
  {
   "cell_type": "code",
   "execution_count": null,
   "id": "2ba6361c",
   "metadata": {},
   "outputs": [],
   "source": []
  }
 ],
 "metadata": {
  "kernelspec": {
   "display_name": "llm-kernal",
   "language": "python",
   "name": "llm-kernal"
  },
  "language_info": {
   "codemirror_mode": {
    "name": "ipython",
    "version": 3
   },
   "file_extension": ".py",
   "mimetype": "text/x-python",
   "name": "python",
   "nbconvert_exporter": "python",
   "pygments_lexer": "ipython3",
   "version": "3.12.4"
  }
 },
 "nbformat": 4,
 "nbformat_minor": 5
}
