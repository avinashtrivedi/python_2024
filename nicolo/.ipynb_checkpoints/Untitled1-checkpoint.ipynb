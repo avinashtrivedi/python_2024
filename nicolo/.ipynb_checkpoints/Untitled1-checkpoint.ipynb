{
 "cells": [
  {
   "cell_type": "code",
   "execution_count": 2,
   "id": "7cd74ca2",
   "metadata": {},
   "outputs": [],
   "source": [
    "import pandas as pd\n",
    "import numpy as np"
   ]
  },
  {
   "cell_type": "code",
   "execution_count": 3,
   "id": "98c9caf7",
   "metadata": {},
   "outputs": [],
   "source": [
    "with open(\"Mandalaall.txt\") as fp:\n",
    "    data = fp.readlines()"
   ]
  },
  {
   "cell_type": "code",
   "execution_count": 6,
   "id": "42f07d81",
   "metadata": {},
   "outputs": [
    {
     "data": {
      "text/plain": [
       "['\\n',\n",
       " ' I. In the Bus\\n',\n",
       " '\\n',\n",
       " '\"THERE\\'S MORE LIFE UP THIS END,\" MRS POULTER SAID.\\n',\n",
       " '\"Yairs,\" said Mrs Dun. Then, because never let it be hinted that she did not make her contribution, she added: \"Yairs.\"\\n',\n",
       " '\"It\\'s the shops that gives it life,\" Mrs Poulter said. \"There\\'s nothing like shops.\"\\n',\n",
       " '\"It\\'s the shops all right.\"\\n',\n",
       " '\"These days a woman could do the whole of \\'er shoppin\\' in Sarsaparilla. But it isn\\'t the same.\"\\n',\n",
       " '\"It isn\\'t the same.\"\\n',\n",
       " '\"Not like you catch the bus to Barranugli and spend the mornin\\' muckin\\' around. Mind you, it isn\\'t the ha\\'penny. There\\'s some women will spend a shillun to save the odd ha\\'penny.\"\\n',\n",
       " 'Mrs Dun sucked her teeth.\\n',\n",
       " '\"But it makes a change in a person\\'s life, muckin\\' around the big shops,\" said Mrs Poulter. \"With a friend,\" she said.\\n',\n",
       " '\"Yairs,\" agreed Mrs Dun. \"Yairs.\"\\n',\n",
       " \"She was looking straight ahead, past the mounds of hair. A young lady couldn't squeeze a hat on nowadays even if she wanted to. Mrs Dun was fascinated by the ha'penny. If what Mrs Poulter said was true, some women lost one-and-eleven on the round trip!\\n\",\n",
       " '\"You can muck around on your own, of course,\" Mrs Poulter was saying, \"but a friend is what makes the difference.\"\\n',\n",
       " '\"A friend,\" said Mrs Dun. \"Yairs.\"\\n',\n",
       " 'Each of the ladies sat rather careful, because they had not known each other all that long, and the situation had not been proved unbreakable.\\n',\n",
       " '\"If I hadn\\'t of spoke to you in the bus that morning,\" Mrs Poulter said, \"we mightn\\'t of got to know each other.\"\\n',\n",
       " 'Mrs Dun smiled, and blushed as far as her complexion allowed. Mrs Dun was the sallow sort.\\n',\n",
       " '\"Though living in Terminus Road,\" said Mrs Poulter.\\n',\n",
       " '\"Both down the same road.\"\\n',\n",
       " \"The bus became a comfort. Even when it jumped, which it did fairly frequently, all the young girls frowning, or giggling, the bolder of them knocking the ash off their cigarettes with their mother o' pearl finger nails, the two ladies were not unpleasantly thrown against each other. Mrs Dun perhaps benefited from it more, though Mrs Poulter, it could not be denied, enjoyed the involuntary contact with her small, dry, decent friend.\\n\",\n",
       " 'Mrs Poulter sighed. It was so important to be decent.\\n',\n",
       " '\"What, I wonder,\" she asked, \"made you,\" she coughed, \"come to live down Terminus Road?\"\\n',\n",
       " '\"Mr Dun took a fancy to the veranda.\"\\n',\n",
       " '\"You\\'ve got a nice veranda all right. I like a veranda. A good old-fashioned veranda.\"\\n',\n",
       " '\"I\\'ll say!\" said Mrs Dun.\\n',\n",
       " '\"Nowadays it\\'s all payshows. You can\\'t sit on a payshow.\"\\n',\n",
       " '\"Exposin\\' themselves!\" said Mrs Dun quite vehemently.\\n',\n",
       " '\"In all weathers.\"\\n',\n",
       " 'Everyone was too obsessed by the start of another day - no hope this side of the tea-break - to notice the in no way exposed ladies in the eight-thirteen from Sarsaparilla, though it was perhaps doubtful whether anyone would ever notice Mrs Poulter or Mrs Dun unless life took its cleaver to them. For the present, however, they had the protection of their hats.\\n',\n",
       " '\"Why did you?\" asked Mrs Dun.\\n',\n",
       " '\"Did I what?\"\\n',\n",
       " '\"Come to live down Terminus Road.\"\\n',\n",
       " '\"Well,\" said Mrs Poulter, peeping inside her plump glove to see if the ticket was still there, \"when we first come from up north - both my hubby and me was country people - we wanted it quiet like. We was young and shy. Oh, it was Bill\\'s nerves, too. Bill said: It\\'ll give us time to find our feet. It\\'ll always open up in time. Land is always an investment.\\'\"\\n',\n",
       " '\"Oh, yairs. Land is an investment.\"\\n',\n",
       " 'But a sadness was moistening Mrs Poulter.\\n',\n",
       " '\"In those days,\" she said from out of the distance, \"all the roads at Sarsaparilla were dead ends. Not only Terminus. You couldn\\'t go anywhere as the crow.\"\\n',\n",
       " '\"Eh?\" Mrs Dun asked.\\n',\n",
       " '\"As the crow flies,\" Mrs Poulter explained.\\n',\n",
       " '\"Oh, the crow,\" her friend murmured, seeming uneasy at the idea.\\n',\n",
       " '\"There was a Chinese woman lived on a hill up at the back. I never ever knew her. I seen her once. They were people of means, so people said. Growin\\' vegetables and things. They\\'d planted one of those what-they-call wheel-trees. Well, I seen her standing under it when it was in flower.\"\\n',\n",
       " 'Mrs Dun sucked her teeth.\\n',\n",
       " '\"You wouldn\\'t of said she was without refinement,\" Mrs Poulter remembered. \"But a Chinese is never the same.\"\\n',\n",
       " 'It was something Mrs Dun had not even contemplated.\\n',\n",
       " '\"And anyway, the Chinese person isn\\'t the point.\"\\n',\n",
       " 'Just then the bus nearly shook apart, and one of the young lady typists lost her balance. It was those stiletto heels.\\n',\n",
       " '\"These old buses!\" Mrs Poulter heaved, and laughed.\\n',\n",
       " 'Mrs Dun went a deeper yellow as she grasped the rail.\\n',\n",
       " '\"They\\'re a downright disgrace!\" Mrs Poulter laughed.\\n',\n",
       " 'The sadness had been shaken out of her. She was happy again.\\n',\n",
       " 'Presently she couldn\\'t resist: \"That veranda of yours must be a real luxury, dryin\\' laundries in the rain.\"\\n',\n",
       " '\"I\\'ll say it is!\" said Mrs Dun.\\n',\n",
       " \"She had a certain relentlessness of conviction. If it hadn't been for her gloves her knuckles would have shown up white on the chrome rail.\\n\",\n",
       " \"The bus was making slow progress, on account of the pay-as-you-enter, and queues at the shelters, and kiddies who had missed the special. Mrs Poulter looked out. She was proud of the glossier side of Sarsaparilla, of the picture windows and the texture brick. She brightened with the leaves of the evergreens which the sun was touching up. Then she saw Bill, and waved. But he did not respond. He went on sweeping the gutters for the Council. It was against Bill Poulter's principles to acknowledge his wife in public. Sometimes on her appearing he went so far as to take time off to roll himself a cigarette. But never wave. She accepted it. She was content enough to realize he was wearing the old fawn sweater, no longer presentable except for work, because the loose stitch she had been trying out had begun to stretch and sag.\\n\",\n",
       " '\"Mind you,\" she said to Mrs Dun, \"I wouldn\\'t want to live up here, though it\\'s nice and bright. You can live your own life down there.\"\\n',\n",
       " '\"It\\'s snug down Terminus Road.\" Mrs Dun wriggled on the lumpy seat.\\n',\n",
       " 'The eyes of the two women followed the tunnel which led inward, through the ragged greenery and sudden stench of crushed weeds. You could hide behind a bush if necessary.\\n',\n",
       " '\"It must have been a comfort, though, when Mr Dun retired from the railways.\"\\n',\n",
       " '\"Yairs,\" Mrs Dun admitted, and would have made it higher if some phlegm had allowed. When she was again free, she blurted: \"It took getting used to at the start. Then it was a comfort. Hearin\\' \\'is boots. Before that I used to think: they could come and murder you in broad daylight. Often do, too.\"\\n',\n",
       " 'It was long-winded for Mrs Dun. Mrs Poulter was surprised. She was surprised at the substance of it. But she did not comment. Her lips were slightly open, as when she listened to the dahlias and heard nothing except the thick green silence.\\n',\n",
       " 'When the bus jolted her back to the surface of her normally bright nature - you could always rely on the bus - she said: \"With us, there\\'s the neighbours. There\\'s the Mister Browns opposite.\"\\n',\n",
       " '\"Who?\"\\n',\n",
       " '\"The two brothers. Two twins.\"\\n',\n",
       " '\"Oh,\" said Mrs Dun, suspicious.\\n',\n",
       " '\"Two retired gentlemen. Like Mr Dun.\"\\n',\n",
       " '\"Never \\'eard of \\'em,\" said Mrs Dun, as though she were cranky, or a man.\\n',\n",
       " '\"But I told you. Or didn\\'t I?\" said Mrs Poulter.\\n',\n",
       " 'Mrs Dun might have got crankier if the easement of confidences had not stretched before them through the flannelly atmosphere of the bus. The private lives of other parties act as the cement of friendship. The Brothers Brown could be about to set the friendship of the friends.\\n',\n",
       " '\"You\\'ll see,\" said Mrs Poulter, \"when you come down to my place. Though their hedge has grown thick by now. That\\'s for privacy like.\"\\n',\n",
       " '\"A \\'edge is all very well,\" said Mrs Dun. \"You can\\'t be seen. But praps there are times when you\\'ll wanter be. When someone\\'s got you by the throat.\"\\n',\n",
       " 'Mrs Poulter decided not to bother.\\n',\n",
       " '\"The Mister Browns have got a veranda,\" she said, and sighed.\\n',\n",
       " '\"Only it\\'s sort of different.\"\\n',\n",
       " '\"How?\"\\n',\n",
       " '\"It sort of comes up to a peak.\"\\n',\n",
       " '\"Oh?\"\\n',\n",
       " 'Mrs Dun could not believe.\\n',\n",
       " '\"Mr Brown senior - that was the father, they was there before we come - Mr Brown told me the front was in the classical style.\"\\n',\n",
       " '\"Waddayaknow!\" said Mrs Dun.\\n',\n",
       " 'Words made her that nervous.\\n',\n",
       " '\"Of course I don\\'t know,\" Mrs Poulter said, \"but that\\'s what the father told me. He had their weatherboard home built with a veranda sort of rising to a peak. He was an educated man, they say. One of the white-collar workers,\" Mrs Poulter added, not without sucking in her lips.\\n',\n",
       " '\"A what collar?\"\\n',\n",
       " '\"He was at one of the banks, and read books in \\'is spare time.\"\\n',\n",
       " 'Mrs Dun shrivelled somewhat.\\n',\n",
       " '\"They come out from Home,\" Mrs Poulter said, \"when the boys were only bits of kids.\"\\n',\n",
       " 'Mrs Dun was partly pacified.\\n',\n",
       " '\"All these foreigners,\" she said, \"we are letting in nowadays. I admit the English is different.\"\\n',\n",
       " '\"Oh, Mr Brown senior was a gentleman,\" Mrs Poulter said.\\n',\n",
       " '\"But not any better than us.\"\\n',\n",
       " 'She came as close as she would ever come to tossing her head.\\n',\n",
       " '\"Once Mr Brown give me an old raincoat for Bill. Mr Brown was sick, and you couldn\\'t refuse, but Bill took the coat and threw it down the gully.\"\\n',\n",
       " 'Mrs Poulter could feel that Mrs Dun was vibrating approval.\\n',\n",
       " '\"But Mr Brown was a good man. Now Mrs Brown - that was the mother of the two boys - she was always doing a favour. Even to her own husband. She was good too, mind you, but she never stopped letting you see she had thrown herself away.\"\\n',\n",
       " '\"How?\"\\n',\n",
       " '\"I can\\'t tell you exactly how. She was the lady. You never saw such beautiful lace insertion. Some of it she dipped in tea, for variety like.\"\\n',\n",
       " '\"You don\\'t say!\" Mrs Dun was entranced.\\n',\n",
       " 'The bus was jolting only softly now, bowling along like your own thoughts. Because Mrs Poulter was growing misty with the past her friend felt it at last her duty to direct her.\\n',\n",
       " '\"What became of them?\" she asked. \"The parents of those two boys?\"\\n',\n",
       " '\"Passed on,\" said Mrs Poulter, mastering something. \"Mr Brown was the first. His wife took her time. The boys looked after her, and saw their mother was comfortable.\"\\n']"
      ]
     },
     "execution_count": 6,
     "metadata": {},
     "output_type": "execute_result"
    }
   ],
   "source": [
    "data[:100]"
   ]
  },
  {
   "cell_type": "code",
   "execution_count": null,
   "id": "169a31d4",
   "metadata": {},
   "outputs": [],
   "source": []
  }
 ],
 "metadata": {
  "kernelspec": {
   "display_name": "rag_llm",
   "language": "python",
   "name": "rag_llm"
  },
  "language_info": {
   "codemirror_mode": {
    "name": "ipython",
    "version": 3
   },
   "file_extension": ".py",
   "mimetype": "text/x-python",
   "name": "python",
   "nbconvert_exporter": "python",
   "pygments_lexer": "ipython3",
   "version": "3.12.4"
  }
 },
 "nbformat": 4,
 "nbformat_minor": 5
}
