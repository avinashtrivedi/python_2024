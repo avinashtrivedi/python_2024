{
 "cells": [
  {
   "cell_type": "code",
   "execution_count": 1,
   "metadata": {},
   "outputs": [
    {
     "name": "stderr",
     "output_type": "stream",
     "text": [
      "2024-11-12 02:50:15.776050: I tensorflow/core/util/port.cc:153] oneDNN custom operations are on. You may see slightly different numerical results due to floating-point round-off errors from different computation orders. To turn them off, set the environment variable `TF_ENABLE_ONEDNN_OPTS=0`.\n",
      "2024-11-12 02:50:15.789540: E external/local_xla/xla/stream_executor/cuda/cuda_fft.cc:477] Unable to register cuFFT factory: Attempting to register factory for plugin cuFFT when one has already been registered\n",
      "WARNING: All log messages before absl::InitializeLog() is called are written to STDERR\n",
      "E0000 00:00:1731360015.808290  702365 cuda_dnn.cc:8310] Unable to register cuDNN factory: Attempting to register factory for plugin cuDNN when one has already been registered\n",
      "E0000 00:00:1731360015.814167  702365 cuda_blas.cc:1418] Unable to register cuBLAS factory: Attempting to register factory for plugin cuBLAS when one has already been registered\n",
      "2024-11-12 02:50:15.834170: I tensorflow/core/platform/cpu_feature_guard.cc:210] This TensorFlow binary is optimized to use available CPU instructions in performance-critical operations.\n",
      "To enable the following instructions: AVX2 AVX_VNNI FMA, in other operations, rebuild TensorFlow with the appropriate compiler flags.\n",
      "/usr/lib/python3/dist-packages/scipy/__init__.py:146: UserWarning: A NumPy version >=1.17.3 and <1.25.0 is required for this version of SciPy (detected version 1.26.0\n",
      "  warnings.warn(f\"A NumPy version >={np_minversion} and <{np_maxversion}\"\n"
     ]
    }
   ],
   "source": [
    "# latest\n",
    "import pandas as pd\n",
    "import numpy as np\n",
    "from datasets import Dataset, DatasetDict\n",
    "from transformers import Trainer, TrainingArguments\n",
    "import torch\n",
    "from transformers import pipeline\n",
    "from sklearn.model_selection import train_test_split\n",
    "from transformers import AutoTokenizer, AutoModelForQuestionAnswering\n",
    "from sentence_transformers import SentenceTransformer, util"
   ]
  },
  {
   "cell_type": "code",
   "execution_count": 2,
   "metadata": {},
   "outputs": [],
   "source": [
    "def ExactMatch(predicted_answers, reference_answers):\n",
    "    return np.mean([1 if pred.lower().strip() == ref.lower().strip() else 0 for pred, ref in zip(predicted_answers, reference_answers)])"
   ]
  },
  {
   "cell_type": "code",
   "execution_count": 3,
   "metadata": {},
   "outputs": [],
   "source": [
    "m = \"sentence-transformers/paraphrase-multilingual-mpnet-base-v2\"\n",
    "st_model = SentenceTransformer(m)\n",
    "\n",
    "def SAS(predicted_answers, reference_answers):\n",
    "    predictions_embeddings = st_model.encode(predicted_answers, convert_to_tensor=True)\n",
    "    reference_embeddings = st_model.encode(reference_answers, convert_to_tensor=True)\n",
    "    similarity_scores = [util.cos_sim(p, l).cpu().numpy() for p, l in zip(predictions_embeddings, reference_embeddings)]\n",
    "    return np.mean(similarity_scores)"
   ]
  },
  {
   "cell_type": "code",
   "execution_count": 4,
   "metadata": {},
   "outputs": [
    {
     "name": "stdout",
     "output_type": "stream",
     "text": [
      "Using device: cuda\n"
     ]
    }
   ],
   "source": [
    "device = \"cuda\" if torch.cuda.is_available() else \"cpu\"\n",
    "print(f\"Using device: {device}\")"
   ]
  },
  {
   "cell_type": "code",
   "execution_count": 119,
   "metadata": {},
   "outputs": [],
   "source": [
    "df = pd.read_csv(\"training_data_en.csv\",sep=\";\",on_bad_lines='skip')"
   ]
  },
  {
   "cell_type": "code",
   "execution_count": 120,
   "metadata": {},
   "outputs": [],
   "source": [
    "df = df.sample(frac=1)"
   ]
  },
  {
   "cell_type": "code",
   "execution_count": 121,
   "metadata": {},
   "outputs": [],
   "source": [
    "# df['Text'][0].split()"
   ]
  },
  {
   "cell_type": "code",
   "execution_count": 122,
   "metadata": {},
   "outputs": [
    {
     "data": {
      "text/plain": [
       "['ID', 'Text', 'Question', 'Answer']"
      ]
     },
     "execution_count": 122,
     "metadata": {},
     "output_type": "execute_result"
    }
   ],
   "source": [
    "list(df)"
   ]
  },
  {
   "cell_type": "code",
   "execution_count": 123,
   "metadata": {},
   "outputs": [],
   "source": [
    "df['Text'] = df['Text'].apply(lambda x:x.lower())\n",
    "df['Question'] = df['Question'].apply(lambda x:x.lower())\n",
    "df['Answer'] = df['Answer'].apply(lambda x:x.lower())"
   ]
  },
  {
   "cell_type": "code",
   "execution_count": 124,
   "metadata": {},
   "outputs": [],
   "source": [
    "df['Text'] = df['Text'].apply(lambda x: ' '.join(x.split()))\n",
    "df['Question'] = df['Question'].apply(lambda x: ' '.join(x.split()))\n",
    "df['Answer'] = df['Answer'].apply(lambda x: ' '.join(x.split()))"
   ]
  },
  {
   "cell_type": "code",
   "execution_count": 125,
   "metadata": {},
   "outputs": [],
   "source": [
    "df = df[df.apply(lambda x:x.Answer.lower() in x.Text.lower(),axis=1)]"
   ]
  },
  {
   "cell_type": "code",
   "execution_count": 126,
   "metadata": {},
   "outputs": [],
   "source": [
    "def convert_to_squad_format(data):\n",
    "    squad_data = []\n",
    "    \n",
    "    for entry in data:\n",
    "        context = entry['Text']\n",
    "        question = entry['Question']\n",
    "        answer = entry['Answer']\n",
    "\n",
    "        \n",
    "        answer_start = context.find(answer)\n",
    "        if answer_start == -1:\n",
    "            print(f\"Answer '{answer}' not found in context.\")\n",
    "            continue\n",
    "\n",
    "        # Calculate the end index of the answer\n",
    "        answer_end = answer_start + len(answer)\n",
    "\n",
    "        # Add the entry in SQuAD format\n",
    "        squad_entry = {\n",
    "            'ID': entry['ID'],\n",
    "            'context': context,\n",
    "            'question': question,\n",
    "            'answer': answer,\n",
    "            'answer_start': answer_start,\n",
    "            'answer_end': answer_end\n",
    "        }\n",
    "        squad_data.append(squad_entry)\n",
    "    \n",
    "    return squad_data"
   ]
  },
  {
   "cell_type": "code",
   "execution_count": 127,
   "metadata": {},
   "outputs": [
    {
     "name": "stdout",
     "output_type": "stream",
     "text": [
      "(1986, 6)\n"
     ]
    }
   ],
   "source": [
    "df = Dataset.from_pandas(df)\n",
    "train_data = convert_to_squad_format(df)\n",
    "train_df = pd.DataFrame(train_data)\n",
    "print(train_df.shape)"
   ]
  },
  {
   "cell_type": "code",
   "execution_count": 128,
   "metadata": {},
   "outputs": [],
   "source": [
    "train_df = train_df.sample(frac=1)"
   ]
  },
  {
   "cell_type": "code",
   "execution_count": 129,
   "metadata": {},
   "outputs": [
    {
     "data": {
      "text/plain": [
       "(1986, 6)"
      ]
     },
     "execution_count": 129,
     "metadata": {},
     "output_type": "execute_result"
    }
   ],
   "source": [
    "train_df.shape"
   ]
  },
  {
   "cell_type": "code",
   "execution_count": 130,
   "metadata": {},
   "outputs": [
    {
     "name": "stdout",
     "output_type": "stream",
     "text": [
      "(1787, 6) (199, 6)\n"
     ]
    }
   ],
   "source": [
    "train_df, val_df = train_test_split(train_df, test_size=0.1, random_state=42)\n",
    "print(train_df.shape,val_df.shape)"
   ]
  },
  {
   "cell_type": "code",
   "execution_count": 131,
   "metadata": {},
   "outputs": [],
   "source": [
    "train_dataset = Dataset.from_pandas(train_df)\n",
    "val_dataset = Dataset.from_pandas(val_df)\n",
    "datasets = DatasetDict({\"train\": train_dataset, \"validation\": val_dataset})"
   ]
  },
  {
   "cell_type": "code",
   "execution_count": 132,
   "metadata": {},
   "outputs": [
    {
     "data": {
      "text/plain": [
       "{'ID': '3562.b',\n",
       " 'context': 'the group has continued to deliver further sustained improvements in working capital during the year which, together with the robust trading performance, has resulted in strong underlying cash generation. net debt has increased by £3.1 million as a result of £9.2 million of net capital',\n",
       " 'question': 'what led to net debt increasing by £3.1 million?',\n",
       " 'answer': '£9.2 million of net capital',\n",
       " 'answer_start': 259,\n",
       " 'answer_end': 286,\n",
       " '__index_level_0__': 606}"
      ]
     },
     "execution_count": 132,
     "metadata": {},
     "output_type": "execute_result"
    }
   ],
   "source": [
    "datasets['train'][0]"
   ]
  },
  {
   "cell_type": "code",
   "execution_count": 133,
   "metadata": {},
   "outputs": [
    {
     "data": {
      "text/plain": [
       "RobertaForQuestionAnswering(\n",
       "  (roberta): RobertaModel(\n",
       "    (embeddings): RobertaEmbeddings(\n",
       "      (word_embeddings): Embedding(50265, 768, padding_idx=1)\n",
       "      (position_embeddings): Embedding(514, 768, padding_idx=1)\n",
       "      (token_type_embeddings): Embedding(1, 768)\n",
       "      (LayerNorm): LayerNorm((768,), eps=1e-05, elementwise_affine=True)\n",
       "      (dropout): Dropout(p=0.1, inplace=False)\n",
       "    )\n",
       "    (encoder): RobertaEncoder(\n",
       "      (layer): ModuleList(\n",
       "        (0-11): 12 x RobertaLayer(\n",
       "          (attention): RobertaAttention(\n",
       "            (self): RobertaSdpaSelfAttention(\n",
       "              (query): Linear(in_features=768, out_features=768, bias=True)\n",
       "              (key): Linear(in_features=768, out_features=768, bias=True)\n",
       "              (value): Linear(in_features=768, out_features=768, bias=True)\n",
       "              (dropout): Dropout(p=0.1, inplace=False)\n",
       "            )\n",
       "            (output): RobertaSelfOutput(\n",
       "              (dense): Linear(in_features=768, out_features=768, bias=True)\n",
       "              (LayerNorm): LayerNorm((768,), eps=1e-05, elementwise_affine=True)\n",
       "              (dropout): Dropout(p=0.1, inplace=False)\n",
       "            )\n",
       "          )\n",
       "          (intermediate): RobertaIntermediate(\n",
       "            (dense): Linear(in_features=768, out_features=3072, bias=True)\n",
       "            (intermediate_act_fn): GELUActivation()\n",
       "          )\n",
       "          (output): RobertaOutput(\n",
       "            (dense): Linear(in_features=3072, out_features=768, bias=True)\n",
       "            (LayerNorm): LayerNorm((768,), eps=1e-05, elementwise_affine=True)\n",
       "            (dropout): Dropout(p=0.1, inplace=False)\n",
       "          )\n",
       "        )\n",
       "      )\n",
       "    )\n",
       "  )\n",
       "  (qa_outputs): Linear(in_features=768, out_features=2, bias=True)\n",
       ")"
      ]
     },
     "execution_count": 133,
     "metadata": {},
     "output_type": "execute_result"
    }
   ],
   "source": [
    "# Load the pretrained tokenizer and model\n",
    "model_name = \"consciousAI/question-answering-roberta-base-s\"\n",
    "tokenizer = AutoTokenizer.from_pretrained(model_name)\n",
    "model = AutoModelForQuestionAnswering.from_pretrained(model_name)\n",
    "model.to(device)"
   ]
  },
  {
   "cell_type": "code",
   "execution_count": 134,
   "metadata": {},
   "outputs": [],
   "source": [
    "def preprocess_function(examples):\n",
    "    inputs = tokenizer(\n",
    "        examples[\"question\"], \n",
    "        examples[\"context\"], \n",
    "        max_length=384, \n",
    "        truncation=\"only_second\", \n",
    "        padding=\"max_length\", \n",
    "        return_offsets_mapping=True\n",
    "    )\n",
    "    \n",
    "    start_positions = []\n",
    "    end_positions = []\n",
    "    \n",
    "    for i, offset_mapping in enumerate(inputs[\"offset_mapping\"]):\n",
    "        start_char = examples[\"answer_start\"][i]\n",
    "        end_char = start_char + len(examples[\"answer\"][i])\n",
    "\n",
    "        # Initialize token positions\n",
    "        token_start = token_end = None\n",
    "        for j, (start, end) in enumerate(offset_mapping):\n",
    "            if start <= start_char < end:\n",
    "                token_start = j\n",
    "            if start < end_char <= end:\n",
    "                token_end = j + 1\n",
    "                break\n",
    "         # Ensure token positions are not None\n",
    "        if token_start is not None and token_end is not None:\n",
    "            start_positions.append(token_start)\n",
    "            end_positions.append(token_end)\n",
    "        else:\n",
    "            # Skip example if positions are invalid\n",
    "            print(f\"Warning: Could not find answer positions in tokenized context for example {i}\")\n",
    "            start_positions.append(0)  # or any default index\n",
    "            end_positions.append(0) \n",
    "#         start_positions.append(token_start)\n",
    "#         end_positions.append(token_end)\n",
    "    \n",
    "    inputs[\"start_positions\"] = start_positions\n",
    "    inputs[\"end_positions\"] = end_positions\n",
    "    inputs.pop(\"offset_mapping\")  # Remove as it's not needed for training\n",
    "\n",
    "    return inputs"
   ]
  },
  {
   "cell_type": "code",
   "execution_count": 135,
   "metadata": {},
   "outputs": [
    {
     "data": {
      "application/vnd.jupyter.widget-view+json": {
       "model_id": "ab2ae26deae9439489c99bb7cb27ef5c",
       "version_major": 2,
       "version_minor": 0
      },
      "text/plain": [
       "Map:   0%|          | 0/1787 [00:00<?, ? examples/s]"
      ]
     },
     "metadata": {},
     "output_type": "display_data"
    },
    {
     "name": "stdout",
     "output_type": "stream",
     "text": [
      "Warning: Could not find answer positions in tokenized context for example 181\n",
      "Warning: Could not find answer positions in tokenized context for example 332\n",
      "Warning: Could not find answer positions in tokenized context for example 943\n",
      "Warning: Could not find answer positions in tokenized context for example 180\n",
      "Warning: Could not find answer positions in tokenized context for example 264\n",
      "Warning: Could not find answer positions in tokenized context for example 379\n",
      "Warning: Could not find answer positions in tokenized context for example 735\n",
      "Warning: Could not find answer positions in tokenized context for example 755\n"
     ]
    },
    {
     "data": {
      "application/vnd.jupyter.widget-view+json": {
       "model_id": "6c6c069bb53e458a86b0227766d1ac75",
       "version_major": 2,
       "version_minor": 0
      },
      "text/plain": [
       "Map:   0%|          | 0/199 [00:00<?, ? examples/s]"
      ]
     },
     "metadata": {},
     "output_type": "display_data"
    },
    {
     "name": "stdout",
     "output_type": "stream",
     "text": [
      "Warning: Could not find answer positions in tokenized context for example 80\n",
      "Warning: Could not find answer positions in tokenized context for example 81\n",
      "Warning: Could not find answer positions in tokenized context for example 84\n",
      "Warning: Could not find answer positions in tokenized context for example 179\n"
     ]
    }
   ],
   "source": [
    "tokenized_datasets = datasets.map(preprocess_function, batched=True)"
   ]
  },
  {
   "cell_type": "code",
   "execution_count": 139,
   "metadata": {},
   "outputs": [
    {
     "data": {
      "text/plain": [
       "DatasetDict({\n",
       "    train: Dataset({\n",
       "        features: ['ID', 'context', 'question', 'answer', 'answer_start', 'answer_end', '__index_level_0__', 'input_ids', 'attention_mask', 'start_positions', 'end_positions'],\n",
       "        num_rows: 1787\n",
       "    })\n",
       "    validation: Dataset({\n",
       "        features: ['ID', 'context', 'question', 'answer', 'answer_start', 'answer_end', '__index_level_0__', 'input_ids', 'attention_mask', 'start_positions', 'end_positions'],\n",
       "        num_rows: 199\n",
       "    })\n",
       "})"
      ]
     },
     "execution_count": 139,
     "metadata": {},
     "output_type": "execute_result"
    }
   ],
   "source": [
    "tokenized_datasets"
   ]
  },
  {
   "cell_type": "code",
   "execution_count": 140,
   "metadata": {},
   "outputs": [],
   "source": [
    "# t = pd.DataFrame(tokenized_datasets['train'])"
   ]
  },
  {
   "cell_type": "code",
   "execution_count": 141,
   "metadata": {},
   "outputs": [],
   "source": [
    "# t.shape"
   ]
  },
  {
   "cell_type": "code",
   "execution_count": 142,
   "metadata": {},
   "outputs": [],
   "source": [
    "# t = t[t.apply(lambda x: not (x.start_positions==0 and x.end_positions==0),axis=1)]"
   ]
  },
  {
   "cell_type": "code",
   "execution_count": 143,
   "metadata": {},
   "outputs": [],
   "source": [
    "# t.shape"
   ]
  },
  {
   "cell_type": "code",
   "execution_count": 144,
   "metadata": {},
   "outputs": [],
   "source": [
    "# d = pd.DataFrame(tokenized_datasets['validation'])\n",
    "# d = d[d.apply(lambda x: not (x.start_positions==0 and x.end_positions==0),axis=1)]"
   ]
  },
  {
   "cell_type": "code",
   "execution_count": 145,
   "metadata": {},
   "outputs": [],
   "source": [
    "# d.shape"
   ]
  },
  {
   "cell_type": "code",
   "execution_count": 146,
   "metadata": {},
   "outputs": [],
   "source": [
    "# from datasets import Dataset, DatasetDict\n",
    "# t.drop(columns='__index_level_0__',inplace=True)\n",
    "# d.drop(columns='__index_level_0__',inplace=True)"
   ]
  },
  {
   "cell_type": "code",
   "execution_count": 147,
   "metadata": {},
   "outputs": [],
   "source": [
    "# # Convert DataFrames to Hugging Face Datasets\n",
    "# train_dataset = Dataset.from_pandas(t)\n",
    "# val_dataset = Dataset.from_pandas(d)\n",
    "\n",
    "# # Create the DatasetDict\n",
    "# dataset_dict = DatasetDict({\n",
    "#     'train': train_dataset,\n",
    "#     'validation': val_dataset\n",
    "# })"
   ]
  },
  {
   "cell_type": "code",
   "execution_count": 148,
   "metadata": {},
   "outputs": [],
   "source": [
    "# tokenized_datasets = dataset_dict"
   ]
  },
  {
   "cell_type": "code",
   "execution_count": 149,
   "metadata": {},
   "outputs": [],
   "source": [
    "# tokenized_datasets"
   ]
  },
  {
   "cell_type": "code",
   "execution_count": 150,
   "metadata": {},
   "outputs": [],
   "source": [
    "from transformers import Trainer, TrainingArguments\n",
    "import numpy as np\n",
    "from sentence_transformers import SentenceTransformer, util"
   ]
  },
  {
   "cell_type": "code",
   "execution_count": 151,
   "metadata": {},
   "outputs": [
    {
     "name": "stderr",
     "output_type": "stream",
     "text": [
      "/home/sarang/.local/lib/python3.10/site-packages/transformers/training_args.py:1559: FutureWarning: `evaluation_strategy` is deprecated and will be removed in version 4.46 of 🤗 Transformers. Use `eval_strategy` instead\n",
      "  warnings.warn(\n"
     ]
    }
   ],
   "source": [
    "# training_args = TrainingArguments(\n",
    "#     output_dir=\"./results\",\n",
    "#     evaluation_strategy=\"epoch\",\n",
    "#     learning_rate=2e-5,\n",
    "#     per_device_train_batch_size=8,\n",
    "#     per_device_eval_batch_size=8,\n",
    "#     num_train_epochs=3,\n",
    "#     weight_decay=0.01,\n",
    "#     logging_dir='./logs',\n",
    "#     logging_steps=10,\n",
    "#     report_to=\"none\"\n",
    "# )\n",
    "\n",
    "\n",
    "training_args = TrainingArguments(\n",
    "    output_dir=\"./results\",\n",
    "    evaluation_strategy=\"epoch\",\n",
    "    learning_rate=2e-5,\n",
    "    per_device_train_batch_size=8,\n",
    "    per_device_eval_batch_size=8,\n",
    "    num_train_epochs=3,\n",
    "    weight_decay=0.01,\n",
    "    logging_dir='./logs',\n",
    "    logging_steps=10,\n",
    "    report_to=\"none\",\n",
    "    save_strategy=\"epoch\",  # Save model at the end of each epoch\n",
    "    load_best_model_at_end=True,  # Load the best model at the end\n",
    "    metric_for_best_model=\"eval_loss\",  # Metric to use for selecting the best model\n",
    ")\n",
    "\n",
    "\n",
    "# Effective Batch Size:   48 \n",
    "\n",
    "# Batch Size per GPU:     3 \n",
    "# No. of GPU:             8 \n",
    "# Update Freq.:           2\n",
    "\n",
    "# Max Epochs:             2\n",
    "# Total No. of Updates:   5430\n",
    "# Warmup ratio:           0.06\n",
    "# Warmup Updates:         326\n",
    "\n",
    "# Learning Rate:          1.5e-5 \n",
    "# Weight Decay:           0.01 \n",
    "# Learning Rate Decay:    Linear\n",
    "# Adam eps:               1e-6\n"
   ]
  },
  {
   "cell_type": "code",
   "execution_count": 152,
   "metadata": {},
   "outputs": [],
   "source": [
    "trainer = Trainer(\n",
    "    model=model,\n",
    "    args=training_args,\n",
    "    # compute_metrics=compute_metrics,\n",
    "    train_dataset=tokenized_datasets[\"train\"],\n",
    "    eval_dataset=tokenized_datasets[\"validation\"]\n",
    ")"
   ]
  },
  {
   "cell_type": "code",
   "execution_count": 153,
   "metadata": {},
   "outputs": [
    {
     "data": {
      "text/html": [
       "\n",
       "    <div>\n",
       "      \n",
       "      <progress value='672' max='672' style='width:300px; height:20px; vertical-align: middle;'></progress>\n",
       "      [672/672 01:57, Epoch 3/3]\n",
       "    </div>\n",
       "    <table border=\"1\" class=\"dataframe\">\n",
       "  <thead>\n",
       " <tr style=\"text-align: left;\">\n",
       "      <th>Epoch</th>\n",
       "      <th>Training Loss</th>\n",
       "      <th>Validation Loss</th>\n",
       "    </tr>\n",
       "  </thead>\n",
       "  <tbody>\n",
       "    <tr>\n",
       "      <td>1</td>\n",
       "      <td>0.829300</td>\n",
       "      <td>0.688917</td>\n",
       "    </tr>\n",
       "    <tr>\n",
       "      <td>2</td>\n",
       "      <td>0.410700</td>\n",
       "      <td>0.645484</td>\n",
       "    </tr>\n",
       "    <tr>\n",
       "      <td>3</td>\n",
       "      <td>0.244700</td>\n",
       "      <td>0.724772</td>\n",
       "    </tr>\n",
       "  </tbody>\n",
       "</table><p>"
      ],
      "text/plain": [
       "<IPython.core.display.HTML object>"
      ]
     },
     "metadata": {},
     "output_type": "display_data"
    },
    {
     "data": {
      "text/plain": [
       "TrainOutput(global_step=672, training_loss=0.6439378016761371, metrics={'train_runtime': 117.1764, 'train_samples_per_second': 45.752, 'train_steps_per_second': 5.735, 'total_flos': 1050608934646272.0, 'train_loss': 0.6439378016761371, 'epoch': 3.0})"
      ]
     },
     "execution_count": 153,
     "metadata": {},
     "output_type": "execute_result"
    }
   ],
   "source": [
    "trainer.train()"
   ]
  },
  {
   "cell_type": "code",
   "execution_count": 154,
   "metadata": {},
   "outputs": [
    {
     "data": {
      "text/plain": [
       "('final_model/tokenizer_config.json',\n",
       " 'final_model/special_tokens_map.json',\n",
       " 'final_model/vocab.json',\n",
       " 'final_model/merges.txt',\n",
       " 'final_model/added_tokens.json',\n",
       " 'final_model/tokenizer.json')"
      ]
     },
     "execution_count": 154,
     "metadata": {},
     "output_type": "execute_result"
    }
   ],
   "source": [
    "# Save the model after training\n",
    "trainer.save_model(\"final_model\")  # Save the model to the specified path\n",
    "tokenizer.save_pretrained(\"final_model\")  # Save the tokenizer"
   ]
  },
  {
   "cell_type": "code",
   "execution_count": 155,
   "metadata": {},
   "outputs": [],
   "source": [
    "import re\n",
    "\n",
    "def clean_answer(text):\n",
    "    \"\"\"Remove trailing punctuation from predictions.\"\"\"\n",
    "    return re.sub(r'[\\.,;]+$', '', text.strip())"
   ]
  },
  {
   "cell_type": "code",
   "execution_count": 156,
   "metadata": {},
   "outputs": [],
   "source": [
    "def postprocess_predictions(examples, features, raw_predictions):\n",
    "    all_start_logits, all_end_logits = raw_predictions\n",
    "    predictions = []\n",
    "    \n",
    "    for i, example in enumerate(examples):\n",
    "        start_logits = all_start_logits[i]\n",
    "        end_logits = all_end_logits[i]\n",
    "        \n",
    "        start_idx = torch.argmax(torch.tensor(start_logits)).item()\n",
    "        end_idx = torch.argmax(torch.tensor(end_logits)).item() + 1\n",
    "        \n",
    "        prediction = tokenizer.decode(features[i][\"input_ids\"][start_idx:end_idx],skip_special_tokens=True)\n",
    "        prediction = clean_answer(prediction)\n",
    "        predictions.append({\"id\": example[\"ID\"],\"Text\":example[\"context\"],\"Question\":example[\"question\"], \"Answer\": prediction})\n",
    "    \n",
    "    return predictions"
   ]
  },
  {
   "cell_type": "code",
   "execution_count": 157,
   "metadata": {},
   "outputs": [
    {
     "data": {
      "text/html": [],
      "text/plain": [
       "<IPython.core.display.HTML object>"
      ]
     },
     "metadata": {},
     "output_type": "display_data"
    },
    {
     "name": "stdout",
     "output_type": "stream",
     "text": [
      "CPU times: user 1.12 s, sys: 11.9 ms, total: 1.13 s\n",
      "Wall time: 1.13 s\n"
     ]
    }
   ],
   "source": [
    "%%time\n",
    "raw_predictions = trainer.predict(tokenized_datasets[\"validation\"])"
   ]
  },
  {
   "cell_type": "code",
   "execution_count": 158,
   "metadata": {},
   "outputs": [
    {
     "data": {
      "application/vnd.jupyter.widget-view+json": {
       "model_id": "3ba321d5b4574147b775e155055fe9f9",
       "version_major": 2,
       "version_minor": 0
      },
      "text/plain": [
       "Map:   0%|          | 0/199 [00:00<?, ? examples/s]"
      ]
     },
     "metadata": {},
     "output_type": "display_data"
    },
    {
     "name": "stdout",
     "output_type": "stream",
     "text": [
      "Warning: Could not find answer positions in tokenized context for example 80\n",
      "Warning: Could not find answer positions in tokenized context for example 81\n",
      "Warning: Could not find answer positions in tokenized context for example 84\n",
      "Warning: Could not find answer positions in tokenized context for example 179\n"
     ]
    }
   ],
   "source": [
    "# Post-process predictions\n",
    "# `examples` should be the original validation data (non-tokenized)\n",
    "# `features` are the tokenized inputs for the validation data\n",
    "examples = tokenized_datasets[\"validation\"]\n",
    "features = tokenized_datasets[\"validation\"].map(preprocess_function, batched=True)\n",
    "\n",
    "# Generate formatted predictions using the postprocessing function\n",
    "predictions = postprocess_predictions(examples, features, raw_predictions.predictions)"
   ]
  },
  {
   "cell_type": "code",
   "execution_count": 159,
   "metadata": {},
   "outputs": [
    {
     "name": "stdout",
     "output_type": "stream",
     "text": [
      "Exact Match on validation set: 72.36%\n"
     ]
    }
   ],
   "source": [
    "reference_answers = [ex[\"answer\"] for ex in examples]\n",
    "predicted_answers = [pred[\"Answer\"] for pred in predictions]\n",
    "em_score = ExactMatch(predicted_answers, reference_answers)\n",
    "\n",
    "print(f\"Exact Match on validation set: {em_score:.2%}\")"
   ]
  },
  {
   "cell_type": "code",
   "execution_count": 160,
   "metadata": {},
   "outputs": [
    {
     "data": {
      "text/plain": [
       "0.94819677"
      ]
     },
     "execution_count": 160,
     "metadata": {},
     "output_type": "execute_result"
    }
   ],
   "source": [
    "SAS(predicted_answers, reference_answers)"
   ]
  },
  {
   "cell_type": "code",
   "execution_count": 161,
   "metadata": {},
   "outputs": [
    {
     "data": {
      "text/plain": [
       "199"
      ]
     },
     "execution_count": 161,
     "metadata": {},
     "output_type": "execute_result"
    }
   ],
   "source": [
    "len(examples)"
   ]
  },
  {
   "cell_type": "code",
   "execution_count": null,
   "metadata": {},
   "outputs": [],
   "source": [
    "# for i,j in zip(reference_answers,predicted_answers):\n",
    "#     print(i)\n",
    "#     print(j)\n",
    "#     print(\"____________________________________________________________________\")"
   ]
  },
  {
   "cell_type": "code",
   "execution_count": 162,
   "metadata": {},
   "outputs": [],
   "source": [
    "def convert_to_squad_format(data, has_answers=False):\n",
    "    squad_data = []\n",
    "    \n",
    "    for entry in data:\n",
    "        context = entry['Text']\n",
    "        question = entry['Question']\n",
    "        \n",
    "        if has_answers:\n",
    "            answer = entry['Answer']\n",
    "            answer_start = context.find(answer)\n",
    "            if answer_start == -1:\n",
    "#                 print(f\"Answer '{answer}' not found in context.\")\n",
    "                continue\n",
    "            answer_end = answer_start + len(answer)\n",
    "        else:\n",
    "            # For test data, set default values for answer fields\n",
    "            answer = \"\"\n",
    "            answer_start = -1\n",
    "            answer_end = -1\n",
    "\n",
    "        squad_entry = {\n",
    "            'ID': entry['ID'],\n",
    "            'context': context,\n",
    "            'question': question,\n",
    "            'answer': answer,\n",
    "            'answer_start': answer_start,\n",
    "            'answer_end': answer_end\n",
    "        }\n",
    "        squad_data.append(squad_entry)\n",
    "    \n",
    "    return squad_data"
   ]
  },
  {
   "cell_type": "code",
   "execution_count": 163,
   "metadata": {
    "scrolled": true
   },
   "outputs": [
    {
     "data": {
      "application/vnd.jupyter.widget-view+json": {
       "model_id": "197b80a8511549f999f232f79fa80fef",
       "version_major": 2,
       "version_minor": 0
      },
      "text/plain": [
       "Map:   0%|          | 0/498 [00:00<?, ? examples/s]"
      ]
     },
     "metadata": {},
     "output_type": "display_data"
    },
    {
     "name": "stdout",
     "output_type": "stream",
     "text": [
      "Warning: Could not find answer positions in tokenized context for example 0\n",
      "Warning: Could not find answer positions in tokenized context for example 1\n",
      "Warning: Could not find answer positions in tokenized context for example 2\n",
      "Warning: Could not find answer positions in tokenized context for example 3\n",
      "Warning: Could not find answer positions in tokenized context for example 4\n",
      "Warning: Could not find answer positions in tokenized context for example 5\n",
      "Warning: Could not find answer positions in tokenized context for example 6\n",
      "Warning: Could not find answer positions in tokenized context for example 7\n",
      "Warning: Could not find answer positions in tokenized context for example 8\n",
      "Warning: Could not find answer positions in tokenized context for example 9\n",
      "Warning: Could not find answer positions in tokenized context for example 10\n",
      "Warning: Could not find answer positions in tokenized context for example 11\n",
      "Warning: Could not find answer positions in tokenized context for example 12\n",
      "Warning: Could not find answer positions in tokenized context for example 13\n",
      "Warning: Could not find answer positions in tokenized context for example 14\n",
      "Warning: Could not find answer positions in tokenized context for example 15\n",
      "Warning: Could not find answer positions in tokenized context for example 16\n",
      "Warning: Could not find answer positions in tokenized context for example 17\n",
      "Warning: Could not find answer positions in tokenized context for example 18\n",
      "Warning: Could not find answer positions in tokenized context for example 19\n",
      "Warning: Could not find answer positions in tokenized context for example 20\n",
      "Warning: Could not find answer positions in tokenized context for example 21\n",
      "Warning: Could not find answer positions in tokenized context for example 22\n",
      "Warning: Could not find answer positions in tokenized context for example 23\n",
      "Warning: Could not find answer positions in tokenized context for example 24\n",
      "Warning: Could not find answer positions in tokenized context for example 25\n",
      "Warning: Could not find answer positions in tokenized context for example 26\n",
      "Warning: Could not find answer positions in tokenized context for example 27\n",
      "Warning: Could not find answer positions in tokenized context for example 28\n",
      "Warning: Could not find answer positions in tokenized context for example 29\n",
      "Warning: Could not find answer positions in tokenized context for example 30\n",
      "Warning: Could not find answer positions in tokenized context for example 31\n",
      "Warning: Could not find answer positions in tokenized context for example 32\n",
      "Warning: Could not find answer positions in tokenized context for example 33\n",
      "Warning: Could not find answer positions in tokenized context for example 34\n",
      "Warning: Could not find answer positions in tokenized context for example 35\n",
      "Warning: Could not find answer positions in tokenized context for example 36\n",
      "Warning: Could not find answer positions in tokenized context for example 37\n",
      "Warning: Could not find answer positions in tokenized context for example 38\n",
      "Warning: Could not find answer positions in tokenized context for example 39\n",
      "Warning: Could not find answer positions in tokenized context for example 40\n",
      "Warning: Could not find answer positions in tokenized context for example 41\n",
      "Warning: Could not find answer positions in tokenized context for example 42\n",
      "Warning: Could not find answer positions in tokenized context for example 43\n",
      "Warning: Could not find answer positions in tokenized context for example 44\n",
      "Warning: Could not find answer positions in tokenized context for example 45\n",
      "Warning: Could not find answer positions in tokenized context for example 46\n",
      "Warning: Could not find answer positions in tokenized context for example 47\n",
      "Warning: Could not find answer positions in tokenized context for example 48\n",
      "Warning: Could not find answer positions in tokenized context for example 49\n",
      "Warning: Could not find answer positions in tokenized context for example 50\n",
      "Warning: Could not find answer positions in tokenized context for example 51\n",
      "Warning: Could not find answer positions in tokenized context for example 52\n",
      "Warning: Could not find answer positions in tokenized context for example 53\n",
      "Warning: Could not find answer positions in tokenized context for example 54\n",
      "Warning: Could not find answer positions in tokenized context for example 55\n",
      "Warning: Could not find answer positions in tokenized context for example 56\n",
      "Warning: Could not find answer positions in tokenized context for example 57\n",
      "Warning: Could not find answer positions in tokenized context for example 58\n",
      "Warning: Could not find answer positions in tokenized context for example 59\n",
      "Warning: Could not find answer positions in tokenized context for example 60\n",
      "Warning: Could not find answer positions in tokenized context for example 61\n",
      "Warning: Could not find answer positions in tokenized context for example 62\n",
      "Warning: Could not find answer positions in tokenized context for example 63\n",
      "Warning: Could not find answer positions in tokenized context for example 64\n",
      "Warning: Could not find answer positions in tokenized context for example 65\n",
      "Warning: Could not find answer positions in tokenized context for example 66\n",
      "Warning: Could not find answer positions in tokenized context for example 67\n",
      "Warning: Could not find answer positions in tokenized context for example 68\n",
      "Warning: Could not find answer positions in tokenized context for example 69\n",
      "Warning: Could not find answer positions in tokenized context for example 70\n",
      "Warning: Could not find answer positions in tokenized context for example 71\n",
      "Warning: Could not find answer positions in tokenized context for example 72\n",
      "Warning: Could not find answer positions in tokenized context for example 73\n",
      "Warning: Could not find answer positions in tokenized context for example 74\n",
      "Warning: Could not find answer positions in tokenized context for example 75\n",
      "Warning: Could not find answer positions in tokenized context for example 76\n",
      "Warning: Could not find answer positions in tokenized context for example 77\n",
      "Warning: Could not find answer positions in tokenized context for example 78\n",
      "Warning: Could not find answer positions in tokenized context for example 79\n",
      "Warning: Could not find answer positions in tokenized context for example 80\n",
      "Warning: Could not find answer positions in tokenized context for example 81\n",
      "Warning: Could not find answer positions in tokenized context for example 82\n",
      "Warning: Could not find answer positions in tokenized context for example 83\n",
      "Warning: Could not find answer positions in tokenized context for example 84\n",
      "Warning: Could not find answer positions in tokenized context for example 85\n",
      "Warning: Could not find answer positions in tokenized context for example 86\n",
      "Warning: Could not find answer positions in tokenized context for example 87\n",
      "Warning: Could not find answer positions in tokenized context for example 88\n",
      "Warning: Could not find answer positions in tokenized context for example 89\n",
      "Warning: Could not find answer positions in tokenized context for example 90\n",
      "Warning: Could not find answer positions in tokenized context for example 91\n",
      "Warning: Could not find answer positions in tokenized context for example 92\n",
      "Warning: Could not find answer positions in tokenized context for example 93\n",
      "Warning: Could not find answer positions in tokenized context for example 94\n",
      "Warning: Could not find answer positions in tokenized context for example 95\n",
      "Warning: Could not find answer positions in tokenized context for example 96\n",
      "Warning: Could not find answer positions in tokenized context for example 97\n",
      "Warning: Could not find answer positions in tokenized context for example 98\n",
      "Warning: Could not find answer positions in tokenized context for example 99\n",
      "Warning: Could not find answer positions in tokenized context for example 100\n",
      "Warning: Could not find answer positions in tokenized context for example 101\n",
      "Warning: Could not find answer positions in tokenized context for example 102\n",
      "Warning: Could not find answer positions in tokenized context for example 103\n",
      "Warning: Could not find answer positions in tokenized context for example 104\n",
      "Warning: Could not find answer positions in tokenized context for example 105\n",
      "Warning: Could not find answer positions in tokenized context for example 106\n",
      "Warning: Could not find answer positions in tokenized context for example 107\n",
      "Warning: Could not find answer positions in tokenized context for example 108\n",
      "Warning: Could not find answer positions in tokenized context for example 109\n",
      "Warning: Could not find answer positions in tokenized context for example 110\n",
      "Warning: Could not find answer positions in tokenized context for example 111\n",
      "Warning: Could not find answer positions in tokenized context for example 112\n",
      "Warning: Could not find answer positions in tokenized context for example 113\n",
      "Warning: Could not find answer positions in tokenized context for example 114\n",
      "Warning: Could not find answer positions in tokenized context for example 115\n",
      "Warning: Could not find answer positions in tokenized context for example 116\n",
      "Warning: Could not find answer positions in tokenized context for example 117\n",
      "Warning: Could not find answer positions in tokenized context for example 118\n",
      "Warning: Could not find answer positions in tokenized context for example 119\n",
      "Warning: Could not find answer positions in tokenized context for example 120\n",
      "Warning: Could not find answer positions in tokenized context for example 121\n",
      "Warning: Could not find answer positions in tokenized context for example 122\n",
      "Warning: Could not find answer positions in tokenized context for example 123\n",
      "Warning: Could not find answer positions in tokenized context for example 124\n",
      "Warning: Could not find answer positions in tokenized context for example 125\n",
      "Warning: Could not find answer positions in tokenized context for example 126\n",
      "Warning: Could not find answer positions in tokenized context for example 127\n",
      "Warning: Could not find answer positions in tokenized context for example 128\n",
      "Warning: Could not find answer positions in tokenized context for example 129\n",
      "Warning: Could not find answer positions in tokenized context for example 130\n",
      "Warning: Could not find answer positions in tokenized context for example 131\n",
      "Warning: Could not find answer positions in tokenized context for example 132\n",
      "Warning: Could not find answer positions in tokenized context for example 133\n",
      "Warning: Could not find answer positions in tokenized context for example 134\n",
      "Warning: Could not find answer positions in tokenized context for example 135\n",
      "Warning: Could not find answer positions in tokenized context for example 136\n",
      "Warning: Could not find answer positions in tokenized context for example 137\n",
      "Warning: Could not find answer positions in tokenized context for example 138\n",
      "Warning: Could not find answer positions in tokenized context for example 139\n",
      "Warning: Could not find answer positions in tokenized context for example 140\n",
      "Warning: Could not find answer positions in tokenized context for example 141\n",
      "Warning: Could not find answer positions in tokenized context for example 142\n",
      "Warning: Could not find answer positions in tokenized context for example 143\n",
      "Warning: Could not find answer positions in tokenized context for example 144\n",
      "Warning: Could not find answer positions in tokenized context for example 145\n",
      "Warning: Could not find answer positions in tokenized context for example 146\n",
      "Warning: Could not find answer positions in tokenized context for example 147\n",
      "Warning: Could not find answer positions in tokenized context for example 148\n",
      "Warning: Could not find answer positions in tokenized context for example 149\n",
      "Warning: Could not find answer positions in tokenized context for example 150\n",
      "Warning: Could not find answer positions in tokenized context for example 151\n",
      "Warning: Could not find answer positions in tokenized context for example 152\n",
      "Warning: Could not find answer positions in tokenized context for example 153\n",
      "Warning: Could not find answer positions in tokenized context for example 154\n",
      "Warning: Could not find answer positions in tokenized context for example 155\n",
      "Warning: Could not find answer positions in tokenized context for example 156\n",
      "Warning: Could not find answer positions in tokenized context for example 157\n",
      "Warning: Could not find answer positions in tokenized context for example 158\n",
      "Warning: Could not find answer positions in tokenized context for example 159\n",
      "Warning: Could not find answer positions in tokenized context for example 160\n",
      "Warning: Could not find answer positions in tokenized context for example 161\n",
      "Warning: Could not find answer positions in tokenized context for example 162\n",
      "Warning: Could not find answer positions in tokenized context for example 163\n",
      "Warning: Could not find answer positions in tokenized context for example 164\n",
      "Warning: Could not find answer positions in tokenized context for example 165\n",
      "Warning: Could not find answer positions in tokenized context for example 166\n",
      "Warning: Could not find answer positions in tokenized context for example 167\n",
      "Warning: Could not find answer positions in tokenized context for example 168\n",
      "Warning: Could not find answer positions in tokenized context for example 169\n",
      "Warning: Could not find answer positions in tokenized context for example 170\n",
      "Warning: Could not find answer positions in tokenized context for example 171\n",
      "Warning: Could not find answer positions in tokenized context for example 172\n",
      "Warning: Could not find answer positions in tokenized context for example 173\n",
      "Warning: Could not find answer positions in tokenized context for example 174\n",
      "Warning: Could not find answer positions in tokenized context for example 175\n",
      "Warning: Could not find answer positions in tokenized context for example 176\n",
      "Warning: Could not find answer positions in tokenized context for example 177\n",
      "Warning: Could not find answer positions in tokenized context for example 178\n",
      "Warning: Could not find answer positions in tokenized context for example 179\n",
      "Warning: Could not find answer positions in tokenized context for example 180\n",
      "Warning: Could not find answer positions in tokenized context for example 181\n",
      "Warning: Could not find answer positions in tokenized context for example 182\n",
      "Warning: Could not find answer positions in tokenized context for example 183\n",
      "Warning: Could not find answer positions in tokenized context for example 184\n",
      "Warning: Could not find answer positions in tokenized context for example 185\n",
      "Warning: Could not find answer positions in tokenized context for example 186\n",
      "Warning: Could not find answer positions in tokenized context for example 187\n",
      "Warning: Could not find answer positions in tokenized context for example 188\n",
      "Warning: Could not find answer positions in tokenized context for example 189\n",
      "Warning: Could not find answer positions in tokenized context for example 190\n",
      "Warning: Could not find answer positions in tokenized context for example 191\n",
      "Warning: Could not find answer positions in tokenized context for example 192\n",
      "Warning: Could not find answer positions in tokenized context for example 193\n",
      "Warning: Could not find answer positions in tokenized context for example 194\n",
      "Warning: Could not find answer positions in tokenized context for example 195\n",
      "Warning: Could not find answer positions in tokenized context for example 196\n",
      "Warning: Could not find answer positions in tokenized context for example 197\n",
      "Warning: Could not find answer positions in tokenized context for example 198\n",
      "Warning: Could not find answer positions in tokenized context for example 199\n",
      "Warning: Could not find answer positions in tokenized context for example 200\n",
      "Warning: Could not find answer positions in tokenized context for example 201\n",
      "Warning: Could not find answer positions in tokenized context for example 202\n",
      "Warning: Could not find answer positions in tokenized context for example 203\n",
      "Warning: Could not find answer positions in tokenized context for example 204\n",
      "Warning: Could not find answer positions in tokenized context for example 205\n",
      "Warning: Could not find answer positions in tokenized context for example 206\n",
      "Warning: Could not find answer positions in tokenized context for example 207\n",
      "Warning: Could not find answer positions in tokenized context for example 208\n",
      "Warning: Could not find answer positions in tokenized context for example 209\n",
      "Warning: Could not find answer positions in tokenized context for example 210\n",
      "Warning: Could not find answer positions in tokenized context for example 211\n",
      "Warning: Could not find answer positions in tokenized context for example 212\n",
      "Warning: Could not find answer positions in tokenized context for example 213\n",
      "Warning: Could not find answer positions in tokenized context for example 214\n",
      "Warning: Could not find answer positions in tokenized context for example 215\n",
      "Warning: Could not find answer positions in tokenized context for example 216\n",
      "Warning: Could not find answer positions in tokenized context for example 217\n",
      "Warning: Could not find answer positions in tokenized context for example 218\n",
      "Warning: Could not find answer positions in tokenized context for example 219\n",
      "Warning: Could not find answer positions in tokenized context for example 220\n",
      "Warning: Could not find answer positions in tokenized context for example 221\n",
      "Warning: Could not find answer positions in tokenized context for example 222\n",
      "Warning: Could not find answer positions in tokenized context for example 223\n",
      "Warning: Could not find answer positions in tokenized context for example 224\n",
      "Warning: Could not find answer positions in tokenized context for example 225\n",
      "Warning: Could not find answer positions in tokenized context for example 226\n",
      "Warning: Could not find answer positions in tokenized context for example 227\n",
      "Warning: Could not find answer positions in tokenized context for example 228\n",
      "Warning: Could not find answer positions in tokenized context for example 229\n",
      "Warning: Could not find answer positions in tokenized context for example 230\n",
      "Warning: Could not find answer positions in tokenized context for example 231\n",
      "Warning: Could not find answer positions in tokenized context for example 232\n",
      "Warning: Could not find answer positions in tokenized context for example 233\n",
      "Warning: Could not find answer positions in tokenized context for example 234\n",
      "Warning: Could not find answer positions in tokenized context for example 235\n",
      "Warning: Could not find answer positions in tokenized context for example 236\n",
      "Warning: Could not find answer positions in tokenized context for example 237\n",
      "Warning: Could not find answer positions in tokenized context for example 238\n",
      "Warning: Could not find answer positions in tokenized context for example 239\n",
      "Warning: Could not find answer positions in tokenized context for example 240\n",
      "Warning: Could not find answer positions in tokenized context for example 241\n",
      "Warning: Could not find answer positions in tokenized context for example 242\n",
      "Warning: Could not find answer positions in tokenized context for example 243\n",
      "Warning: Could not find answer positions in tokenized context for example 244\n",
      "Warning: Could not find answer positions in tokenized context for example 245\n",
      "Warning: Could not find answer positions in tokenized context for example 246\n",
      "Warning: Could not find answer positions in tokenized context for example 247\n",
      "Warning: Could not find answer positions in tokenized context for example 248\n",
      "Warning: Could not find answer positions in tokenized context for example 249\n",
      "Warning: Could not find answer positions in tokenized context for example 250\n",
      "Warning: Could not find answer positions in tokenized context for example 251\n",
      "Warning: Could not find answer positions in tokenized context for example 252\n",
      "Warning: Could not find answer positions in tokenized context for example 253\n",
      "Warning: Could not find answer positions in tokenized context for example 254\n",
      "Warning: Could not find answer positions in tokenized context for example 255\n",
      "Warning: Could not find answer positions in tokenized context for example 256\n",
      "Warning: Could not find answer positions in tokenized context for example 257\n",
      "Warning: Could not find answer positions in tokenized context for example 258\n",
      "Warning: Could not find answer positions in tokenized context for example 259\n",
      "Warning: Could not find answer positions in tokenized context for example 260\n",
      "Warning: Could not find answer positions in tokenized context for example 261\n",
      "Warning: Could not find answer positions in tokenized context for example 262\n",
      "Warning: Could not find answer positions in tokenized context for example 263\n",
      "Warning: Could not find answer positions in tokenized context for example 264\n",
      "Warning: Could not find answer positions in tokenized context for example 265\n",
      "Warning: Could not find answer positions in tokenized context for example 266\n",
      "Warning: Could not find answer positions in tokenized context for example 267\n",
      "Warning: Could not find answer positions in tokenized context for example 268\n",
      "Warning: Could not find answer positions in tokenized context for example 269\n",
      "Warning: Could not find answer positions in tokenized context for example 270\n",
      "Warning: Could not find answer positions in tokenized context for example 271\n",
      "Warning: Could not find answer positions in tokenized context for example 272\n",
      "Warning: Could not find answer positions in tokenized context for example 273\n",
      "Warning: Could not find answer positions in tokenized context for example 274\n",
      "Warning: Could not find answer positions in tokenized context for example 275\n",
      "Warning: Could not find answer positions in tokenized context for example 276\n",
      "Warning: Could not find answer positions in tokenized context for example 277\n",
      "Warning: Could not find answer positions in tokenized context for example 278\n",
      "Warning: Could not find answer positions in tokenized context for example 279\n",
      "Warning: Could not find answer positions in tokenized context for example 280\n",
      "Warning: Could not find answer positions in tokenized context for example 281\n",
      "Warning: Could not find answer positions in tokenized context for example 282\n",
      "Warning: Could not find answer positions in tokenized context for example 283\n",
      "Warning: Could not find answer positions in tokenized context for example 284\n",
      "Warning: Could not find answer positions in tokenized context for example 285\n",
      "Warning: Could not find answer positions in tokenized context for example 286\n",
      "Warning: Could not find answer positions in tokenized context for example 287\n",
      "Warning: Could not find answer positions in tokenized context for example 288\n",
      "Warning: Could not find answer positions in tokenized context for example 289\n",
      "Warning: Could not find answer positions in tokenized context for example 290\n",
      "Warning: Could not find answer positions in tokenized context for example 291\n",
      "Warning: Could not find answer positions in tokenized context for example 292\n",
      "Warning: Could not find answer positions in tokenized context for example 293\n",
      "Warning: Could not find answer positions in tokenized context for example 294\n",
      "Warning: Could not find answer positions in tokenized context for example 295\n",
      "Warning: Could not find answer positions in tokenized context for example 296\n",
      "Warning: Could not find answer positions in tokenized context for example 297\n",
      "Warning: Could not find answer positions in tokenized context for example 298\n",
      "Warning: Could not find answer positions in tokenized context for example 299\n",
      "Warning: Could not find answer positions in tokenized context for example 300\n",
      "Warning: Could not find answer positions in tokenized context for example 301\n",
      "Warning: Could not find answer positions in tokenized context for example 302\n",
      "Warning: Could not find answer positions in tokenized context for example 303\n",
      "Warning: Could not find answer positions in tokenized context for example 304\n",
      "Warning: Could not find answer positions in tokenized context for example 305\n",
      "Warning: Could not find answer positions in tokenized context for example 306\n",
      "Warning: Could not find answer positions in tokenized context for example 307\n",
      "Warning: Could not find answer positions in tokenized context for example 308\n",
      "Warning: Could not find answer positions in tokenized context for example 309\n",
      "Warning: Could not find answer positions in tokenized context for example 310\n",
      "Warning: Could not find answer positions in tokenized context for example 311\n",
      "Warning: Could not find answer positions in tokenized context for example 312\n",
      "Warning: Could not find answer positions in tokenized context for example 313\n",
      "Warning: Could not find answer positions in tokenized context for example 314\n",
      "Warning: Could not find answer positions in tokenized context for example 315\n",
      "Warning: Could not find answer positions in tokenized context for example 316\n",
      "Warning: Could not find answer positions in tokenized context for example 317\n",
      "Warning: Could not find answer positions in tokenized context for example 318\n",
      "Warning: Could not find answer positions in tokenized context for example 319\n",
      "Warning: Could not find answer positions in tokenized context for example 320\n",
      "Warning: Could not find answer positions in tokenized context for example 321\n",
      "Warning: Could not find answer positions in tokenized context for example 322\n",
      "Warning: Could not find answer positions in tokenized context for example 323\n",
      "Warning: Could not find answer positions in tokenized context for example 324\n",
      "Warning: Could not find answer positions in tokenized context for example 325\n",
      "Warning: Could not find answer positions in tokenized context for example 326\n",
      "Warning: Could not find answer positions in tokenized context for example 327\n",
      "Warning: Could not find answer positions in tokenized context for example 328\n",
      "Warning: Could not find answer positions in tokenized context for example 329\n",
      "Warning: Could not find answer positions in tokenized context for example 330\n",
      "Warning: Could not find answer positions in tokenized context for example 331\n",
      "Warning: Could not find answer positions in tokenized context for example 332\n",
      "Warning: Could not find answer positions in tokenized context for example 333\n",
      "Warning: Could not find answer positions in tokenized context for example 334\n",
      "Warning: Could not find answer positions in tokenized context for example 335\n",
      "Warning: Could not find answer positions in tokenized context for example 336\n",
      "Warning: Could not find answer positions in tokenized context for example 337\n",
      "Warning: Could not find answer positions in tokenized context for example 338\n",
      "Warning: Could not find answer positions in tokenized context for example 339\n",
      "Warning: Could not find answer positions in tokenized context for example 340\n",
      "Warning: Could not find answer positions in tokenized context for example 341\n",
      "Warning: Could not find answer positions in tokenized context for example 342\n",
      "Warning: Could not find answer positions in tokenized context for example 343\n",
      "Warning: Could not find answer positions in tokenized context for example 344\n",
      "Warning: Could not find answer positions in tokenized context for example 345\n",
      "Warning: Could not find answer positions in tokenized context for example 346\n",
      "Warning: Could not find answer positions in tokenized context for example 347\n",
      "Warning: Could not find answer positions in tokenized context for example 348\n",
      "Warning: Could not find answer positions in tokenized context for example 349\n",
      "Warning: Could not find answer positions in tokenized context for example 350\n",
      "Warning: Could not find answer positions in tokenized context for example 351\n",
      "Warning: Could not find answer positions in tokenized context for example 352\n",
      "Warning: Could not find answer positions in tokenized context for example 353\n",
      "Warning: Could not find answer positions in tokenized context for example 354\n",
      "Warning: Could not find answer positions in tokenized context for example 355\n",
      "Warning: Could not find answer positions in tokenized context for example 356\n",
      "Warning: Could not find answer positions in tokenized context for example 357\n",
      "Warning: Could not find answer positions in tokenized context for example 358\n",
      "Warning: Could not find answer positions in tokenized context for example 359\n",
      "Warning: Could not find answer positions in tokenized context for example 360\n",
      "Warning: Could not find answer positions in tokenized context for example 361\n",
      "Warning: Could not find answer positions in tokenized context for example 362\n",
      "Warning: Could not find answer positions in tokenized context for example 363\n",
      "Warning: Could not find answer positions in tokenized context for example 364\n",
      "Warning: Could not find answer positions in tokenized context for example 365\n",
      "Warning: Could not find answer positions in tokenized context for example 366\n",
      "Warning: Could not find answer positions in tokenized context for example 367\n",
      "Warning: Could not find answer positions in tokenized context for example 368\n",
      "Warning: Could not find answer positions in tokenized context for example 369\n",
      "Warning: Could not find answer positions in tokenized context for example 370\n",
      "Warning: Could not find answer positions in tokenized context for example 371\n",
      "Warning: Could not find answer positions in tokenized context for example 372\n",
      "Warning: Could not find answer positions in tokenized context for example 373\n",
      "Warning: Could not find answer positions in tokenized context for example 374\n",
      "Warning: Could not find answer positions in tokenized context for example 375\n",
      "Warning: Could not find answer positions in tokenized context for example 376\n",
      "Warning: Could not find answer positions in tokenized context for example 377\n",
      "Warning: Could not find answer positions in tokenized context for example 378\n",
      "Warning: Could not find answer positions in tokenized context for example 379\n",
      "Warning: Could not find answer positions in tokenized context for example 380\n",
      "Warning: Could not find answer positions in tokenized context for example 381\n",
      "Warning: Could not find answer positions in tokenized context for example 382\n",
      "Warning: Could not find answer positions in tokenized context for example 383\n",
      "Warning: Could not find answer positions in tokenized context for example 384\n",
      "Warning: Could not find answer positions in tokenized context for example 385\n",
      "Warning: Could not find answer positions in tokenized context for example 386\n",
      "Warning: Could not find answer positions in tokenized context for example 387\n",
      "Warning: Could not find answer positions in tokenized context for example 388\n",
      "Warning: Could not find answer positions in tokenized context for example 389\n",
      "Warning: Could not find answer positions in tokenized context for example 390\n",
      "Warning: Could not find answer positions in tokenized context for example 391\n",
      "Warning: Could not find answer positions in tokenized context for example 392\n",
      "Warning: Could not find answer positions in tokenized context for example 393\n",
      "Warning: Could not find answer positions in tokenized context for example 394\n",
      "Warning: Could not find answer positions in tokenized context for example 395\n",
      "Warning: Could not find answer positions in tokenized context for example 396\n",
      "Warning: Could not find answer positions in tokenized context for example 397\n",
      "Warning: Could not find answer positions in tokenized context for example 398\n",
      "Warning: Could not find answer positions in tokenized context for example 399\n",
      "Warning: Could not find answer positions in tokenized context for example 400\n",
      "Warning: Could not find answer positions in tokenized context for example 401\n",
      "Warning: Could not find answer positions in tokenized context for example 402\n",
      "Warning: Could not find answer positions in tokenized context for example 403\n",
      "Warning: Could not find answer positions in tokenized context for example 404\n",
      "Warning: Could not find answer positions in tokenized context for example 405\n",
      "Warning: Could not find answer positions in tokenized context for example 406\n",
      "Warning: Could not find answer positions in tokenized context for example 407\n",
      "Warning: Could not find answer positions in tokenized context for example 408\n",
      "Warning: Could not find answer positions in tokenized context for example 409\n",
      "Warning: Could not find answer positions in tokenized context for example 410\n",
      "Warning: Could not find answer positions in tokenized context for example 411\n",
      "Warning: Could not find answer positions in tokenized context for example 412\n",
      "Warning: Could not find answer positions in tokenized context for example 413\n",
      "Warning: Could not find answer positions in tokenized context for example 414\n",
      "Warning: Could not find answer positions in tokenized context for example 415\n",
      "Warning: Could not find answer positions in tokenized context for example 416\n",
      "Warning: Could not find answer positions in tokenized context for example 417\n",
      "Warning: Could not find answer positions in tokenized context for example 418\n",
      "Warning: Could not find answer positions in tokenized context for example 419\n",
      "Warning: Could not find answer positions in tokenized context for example 420\n",
      "Warning: Could not find answer positions in tokenized context for example 421\n",
      "Warning: Could not find answer positions in tokenized context for example 422\n",
      "Warning: Could not find answer positions in tokenized context for example 423\n",
      "Warning: Could not find answer positions in tokenized context for example 424\n",
      "Warning: Could not find answer positions in tokenized context for example 425\n",
      "Warning: Could not find answer positions in tokenized context for example 426\n",
      "Warning: Could not find answer positions in tokenized context for example 427\n",
      "Warning: Could not find answer positions in tokenized context for example 428\n",
      "Warning: Could not find answer positions in tokenized context for example 429\n",
      "Warning: Could not find answer positions in tokenized context for example 430\n",
      "Warning: Could not find answer positions in tokenized context for example 431\n",
      "Warning: Could not find answer positions in tokenized context for example 432\n",
      "Warning: Could not find answer positions in tokenized context for example 433\n",
      "Warning: Could not find answer positions in tokenized context for example 434\n",
      "Warning: Could not find answer positions in tokenized context for example 435\n",
      "Warning: Could not find answer positions in tokenized context for example 436\n",
      "Warning: Could not find answer positions in tokenized context for example 437\n",
      "Warning: Could not find answer positions in tokenized context for example 438\n",
      "Warning: Could not find answer positions in tokenized context for example 439\n",
      "Warning: Could not find answer positions in tokenized context for example 440\n",
      "Warning: Could not find answer positions in tokenized context for example 441\n",
      "Warning: Could not find answer positions in tokenized context for example 442\n",
      "Warning: Could not find answer positions in tokenized context for example 443\n",
      "Warning: Could not find answer positions in tokenized context for example 444\n",
      "Warning: Could not find answer positions in tokenized context for example 445\n",
      "Warning: Could not find answer positions in tokenized context for example 446\n",
      "Warning: Could not find answer positions in tokenized context for example 447\n",
      "Warning: Could not find answer positions in tokenized context for example 448\n",
      "Warning: Could not find answer positions in tokenized context for example 449\n",
      "Warning: Could not find answer positions in tokenized context for example 450\n",
      "Warning: Could not find answer positions in tokenized context for example 451\n",
      "Warning: Could not find answer positions in tokenized context for example 452\n",
      "Warning: Could not find answer positions in tokenized context for example 453\n",
      "Warning: Could not find answer positions in tokenized context for example 454\n",
      "Warning: Could not find answer positions in tokenized context for example 455\n",
      "Warning: Could not find answer positions in tokenized context for example 456\n",
      "Warning: Could not find answer positions in tokenized context for example 457\n",
      "Warning: Could not find answer positions in tokenized context for example 458\n",
      "Warning: Could not find answer positions in tokenized context for example 459\n",
      "Warning: Could not find answer positions in tokenized context for example 460\n",
      "Warning: Could not find answer positions in tokenized context for example 461\n",
      "Warning: Could not find answer positions in tokenized context for example 462\n",
      "Warning: Could not find answer positions in tokenized context for example 463\n",
      "Warning: Could not find answer positions in tokenized context for example 464\n",
      "Warning: Could not find answer positions in tokenized context for example 465\n",
      "Warning: Could not find answer positions in tokenized context for example 466\n",
      "Warning: Could not find answer positions in tokenized context for example 467\n",
      "Warning: Could not find answer positions in tokenized context for example 468\n",
      "Warning: Could not find answer positions in tokenized context for example 469\n",
      "Warning: Could not find answer positions in tokenized context for example 470\n",
      "Warning: Could not find answer positions in tokenized context for example 471\n",
      "Warning: Could not find answer positions in tokenized context for example 472\n",
      "Warning: Could not find answer positions in tokenized context for example 473\n",
      "Warning: Could not find answer positions in tokenized context for example 474\n",
      "Warning: Could not find answer positions in tokenized context for example 475\n",
      "Warning: Could not find answer positions in tokenized context for example 476\n",
      "Warning: Could not find answer positions in tokenized context for example 477\n",
      "Warning: Could not find answer positions in tokenized context for example 478\n",
      "Warning: Could not find answer positions in tokenized context for example 479\n",
      "Warning: Could not find answer positions in tokenized context for example 480\n",
      "Warning: Could not find answer positions in tokenized context for example 481\n",
      "Warning: Could not find answer positions in tokenized context for example 482\n",
      "Warning: Could not find answer positions in tokenized context for example 483\n",
      "Warning: Could not find answer positions in tokenized context for example 484\n",
      "Warning: Could not find answer positions in tokenized context for example 485\n",
      "Warning: Could not find answer positions in tokenized context for example 486\n",
      "Warning: Could not find answer positions in tokenized context for example 487\n",
      "Warning: Could not find answer positions in tokenized context for example 488\n",
      "Warning: Could not find answer positions in tokenized context for example 489\n",
      "Warning: Could not find answer positions in tokenized context for example 490\n",
      "Warning: Could not find answer positions in tokenized context for example 491\n",
      "Warning: Could not find answer positions in tokenized context for example 492\n",
      "Warning: Could not find answer positions in tokenized context for example 493\n",
      "Warning: Could not find answer positions in tokenized context for example 494\n",
      "Warning: Could not find answer positions in tokenized context for example 495\n",
      "Warning: Could not find answer positions in tokenized context for example 496\n",
      "Warning: Could not find answer positions in tokenized context for example 497\n"
     ]
    }
   ],
   "source": [
    "# Load the test data\n",
    "test_df = pd.read_csv(\"input_data_evaluation_en.csv\", sep=\";\")\n",
    "\n",
    "test_df = Dataset.from_pandas(test_df)\n",
    "test_data = convert_to_squad_format(test_df)\n",
    "test_dataset = Dataset.from_pandas(pd.DataFrame(test_data))\n",
    "tokenized_test_dataset = test_dataset.map(preprocess_function, batched=True)"
   ]
  },
  {
   "cell_type": "code",
   "execution_count": 164,
   "metadata": {},
   "outputs": [
    {
     "data": {
      "text/html": [],
      "text/plain": [
       "<IPython.core.display.HTML object>"
      ]
     },
     "metadata": {},
     "output_type": "display_data"
    },
    {
     "name": "stdout",
     "output_type": "stream",
     "text": [
      "CPU times: user 2.75 s, sys: 13.8 ms, total: 2.77 s\n",
      "Wall time: 2.76 s\n"
     ]
    }
   ],
   "source": [
    "%%time\n",
    "predictions = trainer.predict(tokenized_test_dataset)"
   ]
  },
  {
   "cell_type": "code",
   "execution_count": 165,
   "metadata": {},
   "outputs": [],
   "source": [
    "# Post-process and save test predictions\n",
    "test_predictions = postprocess_predictions(test_data, tokenized_test_dataset, predictions.predictions)\n",
    "test_predictions_df = pd.DataFrame(test_predictions)"
   ]
  },
  {
   "cell_type": "code",
   "execution_count": 166,
   "metadata": {},
   "outputs": [
    {
     "data": {
      "text/html": [
       "<div>\n",
       "<style scoped>\n",
       "    .dataframe tbody tr th:only-of-type {\n",
       "        vertical-align: middle;\n",
       "    }\n",
       "\n",
       "    .dataframe tbody tr th {\n",
       "        vertical-align: top;\n",
       "    }\n",
       "\n",
       "    .dataframe thead th {\n",
       "        text-align: right;\n",
       "    }\n",
       "</style>\n",
       "<table border=\"1\" class=\"dataframe\">\n",
       "  <thead>\n",
       "    <tr style=\"text-align: right;\">\n",
       "      <th></th>\n",
       "      <th>id</th>\n",
       "      <th>Text</th>\n",
       "      <th>Question</th>\n",
       "      <th>Answer</th>\n",
       "    </tr>\n",
       "  </thead>\n",
       "  <tbody>\n",
       "    <tr>\n",
       "      <th>0</th>\n",
       "      <td>2759</td>\n",
       "      <td>The fees of the non-executive directors and the Chairman were reviewed in 2017 and as a result no increase will be made in 2018.</td>\n",
       "      <td>What was the consequence of the 2017 review of the fees for non-executive directors and the Chairman?</td>\n",
       "      <td>no increase will be made in 2018</td>\n",
       "    </tr>\n",
       "    <tr>\n",
       "      <th>1</th>\n",
       "      <td>2259.a</td>\n",
       "      <td>The Directors believe that due to the size and nature of the Company it would be unnecessarily burdensome to establish a separate remuneration committee. Remuneration matters are therefore included in matters reserved for the Board.</td>\n",
       "      <td>What factors make the Directors believe it is unnecessary to establish a separate remuneration committee?</td>\n",
       "      <td>the size and nature of the Company it</td>\n",
       "    </tr>\n",
       "    <tr>\n",
       "      <th>2</th>\n",
       "      <td>2123.a</td>\n",
       "      <td>Owing to the Company's REIT status, income and capital gains from our property rental business are exempt from corporation tax, therefore, the tax charge for the year is nil.</td>\n",
       "      <td>What does the Company's REIT status result in?</td>\n",
       "      <td>income and capital gains from our property rental business are exempt from corporation tax</td>\n",
       "    </tr>\n",
       "    <tr>\n",
       "      <th>3</th>\n",
       "      <td>1882.b</td>\n",
       "      <td>Underlying Group EBITDA declined by 10.1% to £10.0m (2016: £11.2m). This decline has been driven by an increase in UK overheads of £1.0m (5.6%), due to investment in support of our strategic initiatives and well-publicised cost headwinds.</td>\n",
       "      <td>What has motivated the increase in UK overheads by £1.0 million, or 5.6%?</td>\n",
       "      <td>investment in support of our strategic initiatives and well-publicised cost headwinds</td>\n",
       "    </tr>\n",
       "    <tr>\n",
       "      <th>4</th>\n",
       "      <td>1117</td>\n",
       "      <td>No further disclosure is provided for deductions due to the materiality of the numbers.</td>\n",
       "      <td>What reason drives them not to provide disclosure for deductions?</td>\n",
       "      <td>the materiality of the numbers</td>\n",
       "    </tr>\n",
       "    <tr>\n",
       "      <th>...</th>\n",
       "      <td>...</td>\n",
       "      <td>...</td>\n",
       "      <td>...</td>\n",
       "      <td>...</td>\n",
       "    </tr>\n",
       "    <tr>\n",
       "      <th>493</th>\n",
       "      <td>5148</td>\n",
       "      <td>Following an extensive process, your Board reached agreement with the Board of Sibanye-Stillwater on the terms of the all-share offer for your Company which we announced on 14 December 2017. The full details of that offer are set out in that announcement and a Scheme Circular will be sent to each shareholder in due course. It is important that all shareholders read and consider the Scheme Circular in full. Your Board recommended the offer from Sibanye-Stillwater because we believe it to be in the best interests of Lonmin shareholders and all the other stakeholders in your Company.</td>\n",
       "      <td>What explains the Board recommending the offer from Sibanye-Stillwater?</td>\n",
       "      <td>we believe it to be in the best interests of Lonmin shareholders and all the other stakeholders in your Company</td>\n",
       "    </tr>\n",
       "    <tr>\n",
       "      <th>494</th>\n",
       "      <td>9084</td>\n",
       "      <td>Supporting the Company's current phase of development and strategy, remuneration is clearly biased towards performance-related elements that are aligned with continued delivery of improved levels of profitable growth and thus returns to our shareholders.</td>\n",
       "      <td>Why does the Company remain committed to delivering consistent returns to its shareholders?</td>\n",
       "      <td>Supporting the Company's current phase of development and strategy, remuneration is clearly biased towards performance-related elements that are aligned with continued delivery of improved levels of profitable growth and</td>\n",
       "    </tr>\n",
       "    <tr>\n",
       "      <th>495</th>\n",
       "      <td>9087</td>\n",
       "      <td>Finally, we pledged to enhance the alignment of interests of management and shareholders, and as such have increased shareholding requirements to 1,000% of salary for the CEO and 350% for the CFO.</td>\n",
       "      <td>What was the reason behind increasing the shareholding requirements to 1,000% of the CEO's salary and 350% for the CFO?</td>\n",
       "      <td>we pledged to enhance the alignment of interests of management and shareholders</td>\n",
       "    </tr>\n",
       "    <tr>\n",
       "      <th>496</th>\n",
       "      <td>9088.a</td>\n",
       "      <td>Following Savills Investment Management's record result in 2016, the expected decrease in disposal activity from the liquidating SEB German Open Ended Funds caused revenue to decrease by 8% (11% in constant currency) to £66.5m (2016: £72.0m). This generated an underlying profit of £13.3m (2016: £17.6m).</td>\n",
       "      <td>What factor drove the 8% decline in revenue to £66.5m, down from £72.0m in 2016?</td>\n",
       "      <td>the expected decrease in disposal activity from the liquidating SEB German Open Ended Funds caused</td>\n",
       "    </tr>\n",
       "    <tr>\n",
       "      <th>497</th>\n",
       "      <td>9088.b</td>\n",
       "      <td>Following Savills Investment Management's record result in 2016, the expected decrease in disposal activity from the liquidating SEB German Open Ended Funds caused revenue to decrease by 8% (11% in constant currency) to £66.5m (2016: £72.0m). This generated an underlying profit of £13.3m (2016: £17.6m).</td>\n",
       "      <td>What was the consequence of the 8% revenue decrease to £66.5m, compared to £72.0m in 2016?</td>\n",
       "      <td>generated an underlying profit of £13.3m (2016: £17.6m)</td>\n",
       "    </tr>\n",
       "  </tbody>\n",
       "</table>\n",
       "<p>498 rows × 4 columns</p>\n",
       "</div>"
      ],
      "text/plain": [
       "         id  \\\n",
       "0      2759   \n",
       "1    2259.a   \n",
       "2    2123.a   \n",
       "3    1882.b   \n",
       "4      1117   \n",
       "..      ...   \n",
       "493    5148   \n",
       "494    9084   \n",
       "495    9087   \n",
       "496  9088.a   \n",
       "497  9088.b   \n",
       "\n",
       "                                                                                                                                                                                                                                                                                                                                                                                                                                                                                                                                                                                                            Text  \\\n",
       "0                                                                                                                                                                                                                                                                                                                                                                                                                                                                               The fees of the non-executive directors and the Chairman were reviewed in 2017 and as a result no increase will be made in 2018.   \n",
       "1                                                                                                                                                                                                                                                                                                                                                                       The Directors believe that due to the size and nature of the Company it would be unnecessarily burdensome to establish a separate remuneration committee. Remuneration matters are therefore included in matters reserved for the Board.   \n",
       "2                                                                                                                                                                                                                                                                                                                                                                                                                                 Owing to the Company's REIT status, income and capital gains from our property rental business are exempt from corporation tax, therefore, the tax charge for the year is nil.   \n",
       "3                                                                                                                                                                                                                                                                                                                                                                 Underlying Group EBITDA declined by 10.1% to £10.0m (2016: £11.2m). This decline has been driven by an increase in UK overheads of £1.0m (5.6%), due to investment in support of our strategic initiatives and well-publicised cost headwinds.   \n",
       "4                                                                                                                                                                                                                                                                                                                                                                                                                                                                                                                        No further disclosure is provided for deductions due to the materiality of the numbers.   \n",
       "..                                                                                                                                                                                                                                                                                                                                                                                                                                                                                                                                                                                                           ...   \n",
       "493  Following an extensive process, your Board reached agreement with the Board of Sibanye-Stillwater on the terms of the all-share offer for your Company which we announced on 14 December 2017. The full details of that offer are set out in that announcement and a Scheme Circular will be sent to each shareholder in due course. It is important that all shareholders read and consider the Scheme Circular in full. Your Board recommended the offer from Sibanye-Stillwater because we believe it to be in the best interests of Lonmin shareholders and all the other stakeholders in your Company.   \n",
       "494                                                                                                                                                                                                                                                                                                                                               Supporting the Company's current phase of development and strategy, remuneration is clearly biased towards performance-related elements that are aligned with continued delivery of improved levels of profitable growth and thus returns to our shareholders.   \n",
       "495                                                                                                                                                                                                                                                                                                                                                                                                         Finally, we pledged to enhance the alignment of interests of management and shareholders, and as such have increased shareholding requirements to 1,000% of salary for the CEO and 350% for the CFO.   \n",
       "496                                                                                                                                                                                                                                                                                             Following Savills Investment Management's record result in 2016, the expected decrease in disposal activity from the liquidating SEB German Open Ended Funds caused revenue to decrease by 8% (11% in constant currency) to £66.5m (2016: £72.0m). This generated an underlying profit of £13.3m (2016: £17.6m).   \n",
       "497                                                                                                                                                                                                                                                                                             Following Savills Investment Management's record result in 2016, the expected decrease in disposal activity from the liquidating SEB German Open Ended Funds caused revenue to decrease by 8% (11% in constant currency) to £66.5m (2016: £72.0m). This generated an underlying profit of £13.3m (2016: £17.6m).   \n",
       "\n",
       "                                                                                                                    Question  \\\n",
       "0                      What was the consequence of the 2017 review of the fees for non-executive directors and the Chairman?   \n",
       "1                  What factors make the Directors believe it is unnecessary to establish a separate remuneration committee?   \n",
       "2                                                                             What does the Company's REIT status result in?   \n",
       "3                                                  What has motivated the increase in UK overheads by £1.0 million, or 5.6%?   \n",
       "4                                                          What reason drives them not to provide disclosure for deductions?   \n",
       "..                                                                                                                       ...   \n",
       "493                                                  What explains the Board recommending the offer from Sibanye-Stillwater?   \n",
       "494                              Why does the Company remain committed to delivering consistent returns to its shareholders?   \n",
       "495  What was the reason behind increasing the shareholding requirements to 1,000% of the CEO's salary and 350% for the CFO?   \n",
       "496                                         What factor drove the 8% decline in revenue to £66.5m, down from £72.0m in 2016?   \n",
       "497                               What was the consequence of the 8% revenue decrease to £66.5m, compared to £72.0m in 2016?   \n",
       "\n",
       "                                                                                                                                                                                                                           Answer  \n",
       "0                                                                                                                                                                                                no increase will be made in 2018  \n",
       "1                                                                                                                                                                                           the size and nature of the Company it  \n",
       "2                                                                                                                                      income and capital gains from our property rental business are exempt from corporation tax  \n",
       "3                                                                                                                                           investment in support of our strategic initiatives and well-publicised cost headwinds  \n",
       "4                                                                                                                                                                                                  the materiality of the numbers  \n",
       "..                                                                                                                                                                                                                            ...  \n",
       "493                                                                                                               we believe it to be in the best interests of Lonmin shareholders and all the other stakeholders in your Company  \n",
       "494  Supporting the Company's current phase of development and strategy, remuneration is clearly biased towards performance-related elements that are aligned with continued delivery of improved levels of profitable growth and  \n",
       "495                                                                                                                                               we pledged to enhance the alignment of interests of management and shareholders  \n",
       "496                                                                                                                            the expected decrease in disposal activity from the liquidating SEB German Open Ended Funds caused  \n",
       "497                                                                                                                                                                       generated an underlying profit of £13.3m (2016: £17.6m)  \n",
       "\n",
       "[498 rows x 4 columns]"
      ]
     },
     "execution_count": 166,
     "metadata": {},
     "output_type": "execute_result"
    }
   ],
   "source": [
    "pd.set_option('display.max_colwidth', None)\n",
    "test_predictions_df"
   ]
  },
  {
   "cell_type": "code",
   "execution_count": 170,
   "metadata": {},
   "outputs": [],
   "source": [
    "test_predictions_df.to_csv(\"results_en_final_v1.csv\", index=False, sep=\";\")"
   ]
  },
  {
   "cell_type": "markdown",
   "metadata": {},
   "source": [
    "# Load test_predictions_df"
   ]
  },
  {
   "cell_type": "code",
   "execution_count": 1,
   "metadata": {},
   "outputs": [],
   "source": [
    "import pandas as pd"
   ]
  },
  {
   "cell_type": "code",
   "execution_count": 14,
   "metadata": {},
   "outputs": [],
   "source": [
    "test_predictions_df = pd.read_csv('results_en_final_v1.csv',sep=\";\")"
   ]
  },
  {
   "cell_type": "code",
   "execution_count": 15,
   "metadata": {},
   "outputs": [
    {
     "data": {
      "text/plain": [
       "id          0\n",
       "Text        0\n",
       "Question    0\n",
       "Answer      9\n",
       "dtype: int64"
      ]
     },
     "execution_count": 15,
     "metadata": {},
     "output_type": "execute_result"
    }
   ],
   "source": [
    "test_predictions_df.isna().sum()"
   ]
  },
  {
   "cell_type": "code",
   "execution_count": 16,
   "metadata": {},
   "outputs": [],
   "source": [
    "test_predictions_df['Answer'] = test_predictions_df['Answer'].fillna('')"
   ]
  },
  {
   "cell_type": "code",
   "execution_count": 17,
   "metadata": {},
   "outputs": [],
   "source": [
    "# t_empty = test_predictions_df[test_predictions_df['Answer'].isna()]"
   ]
  },
  {
   "cell_type": "code",
   "execution_count": 18,
   "metadata": {
    "scrolled": true
   },
   "outputs": [],
   "source": [
    "t_empty = test_predictions_df[test_predictions_df['Answer'].apply(lambda x:len(x)==0)]"
   ]
  },
  {
   "cell_type": "code",
   "execution_count": 19,
   "metadata": {},
   "outputs": [
    {
     "data": {
      "text/plain": [
       "Index([58, 69, 117, 118, 164, 186, 290, 342, 481], dtype='int64')"
      ]
     },
     "execution_count": 19,
     "metadata": {},
     "output_type": "execute_result"
    }
   ],
   "source": [
    "t_empty.index"
   ]
  },
  {
   "cell_type": "code",
   "execution_count": 20,
   "metadata": {},
   "outputs": [],
   "source": [
    "t_generative = test_predictions_df[test_predictions_df.apply(lambda x:x.Answer.lower() not in x.Text.lower(),axis=1)]"
   ]
  },
  {
   "cell_type": "code",
   "execution_count": 21,
   "metadata": {},
   "outputs": [
    {
     "data": {
      "text/plain": [
       "Index([27, 42, 103, 126, 161, 223, 235, 323, 327, 424, 470], dtype='int64')"
      ]
     },
     "execution_count": 21,
     "metadata": {},
     "output_type": "execute_result"
    }
   ],
   "source": [
    "t_generative.index"
   ]
  },
  {
   "cell_type": "code",
   "execution_count": 50,
   "metadata": {},
   "outputs": [],
   "source": [
    "wrong_ans_index = t_generative.index.tolist() + t_empty.index.tolist()\n",
    "wrong_ans_index"
   ]
  },
  {
   "cell_type": "markdown",
   "metadata": {},
   "source": [
    "# LLM"
   ]
  },
  {
   "cell_type": "code",
   "execution_count": 23,
   "metadata": {},
   "outputs": [],
   "source": [
    "import pandas as pd\n",
    "import numpy as np\n",
    "\n",
    "import warnings\n",
    "warnings.filterwarnings('ignore')\n",
    "\n",
    "import os\n",
    "import openai\n",
    "from tqdm.notebook import tqdm\n",
    "from openai import OpenAI"
   ]
  },
  {
   "cell_type": "code",
   "execution_count": 24,
   "metadata": {},
   "outputs": [],
   "source": [
    "messages2 = lambda cntxt,qstn: [\n",
    "    {\n",
    "        \"role\": \"system\",\n",
    "        \"content\": \"\"\"\n",
    "        You are an AI assistant specialized in Finance Causal extraction. Your task is to identify and return either the cause or effect as requested, verbatim, from the provided financial text.\n",
    "        \n",
    "        Guidelines:\n",
    "        - Focus on extractive responses only—do not add or modify text outside the given context.No added words or rephrasing.\n",
    "        - Ensure responses follow the cause-and-effect relationship: a cause precedes an effect, and an effect follows a cause.\n",
    "\n",
    "        Examples:\n",
    "        \n",
    "        Example 1:\n",
    "        CONTEXT: Nationwide is in robust financial health, having achieved profits of over £1 billion for the third consecutive year. Profits allow us to maintain our financial strength, invest with confidence, and return value to members through pricing and service.\n",
    "        QUESTION: What is the effect of achieving profits of over £1 billion for the third consecutive year?\n",
    "        ANSWER: Nationwide is in robust financial health\n",
    "\n",
    "        Example 2:\n",
    "        CONTEXT: All the Directors are resident in the UK, bringing a wide range of skills to the Board. Given the Company's small size and that the Board is comprised of only five Directors, all are members of the Audit Committee and the Nomination and Remuneration Committee.\n",
    "        QUESTION: What is the impact of the Company's small size and having a Board comprised of only five independent Directors?\n",
    "        ANSWER: the Board considers it sensible for all the Directors to be members of the Audit Committee and of the Nomination and Remuneration Committee\n",
    "        \n",
    "        Example 3:\n",
    "        CONTEXT: Following a thorough and comprehensive review, we believe that our Remuneration Policy continues to be appropriate, and are therefore proposing the Policy remains broadly unchanged. In recognition of emerging best practice, we have updated our Policy to reduce the pension contribution for new Executive Director appointments to 15%.\n",
    "        QUESTION: What impact had the thorough and comprehensive review?\n",
    "        ANSWER: we believe that our Remuneration Policy continues to be appropriate\n",
    "\n",
    "        Example 4:\n",
    "        CONTEXT: As the Board consists entirely of non-executive directors it is considered appropriate that matters relating to remuneration are considered by the Board as a whole, rather than a separate remuneration committee. All directors are considered independent with the exception of Oliver Bedford who is an employee of Hargreave Hale Limited and is not therefore independent.\n",
    "        QUESTION: What is the reason Oliver Bedford is the only director not deemed as independent?\n",
    "        ANSWER: All directors are considered independent with the exception of Oliver Bedford who is an employee of Hargreave Hale Limited\n",
    "        \"\"\"\n",
    "    },\n",
    "    {\n",
    "        \"role\": \"user\",\n",
    "        \"content\": f\"\"\"\n",
    "        ### Instruction\n",
    "        You will be given a financial text in ### Context.\n",
    "        \n",
    "        ### Definitions\n",
    "        - Cause: The reason why an event occurs.\n",
    "        - Effect: The event that happens as a result of the cause.\n",
    "        \n",
    "        ### Context: {cntxt}\n",
    "        ### Question: {qstn}\n",
    "        ### Answer:\n",
    "        \"\"\"\n",
    "    }\n",
    "]\n"
   ]
  },
  {
   "cell_type": "code",
   "execution_count": 52,
   "metadata": {},
   "outputs": [],
   "source": [
    "def get_predicted_linker(cntxt,qstn):\n",
    "    completion = client.chat.completions.create(\n",
    "        model= 'gemma-2-9b-it', #'llama-3.1-8b-instant',# chatgpt cheapest and efficient -> \"gpt-4o-mini\",\n",
    "        # stop = [\"\\n\\n\", \"<|endoftext|>\", \"<end_of_turn>\"],\n",
    "        stop = [\"<start_of_turn>\",\"<end_of_turn>\"],\n",
    "        messages= messages2(cntxt,qstn),\n",
    "        temperature = 0\n",
    "    )\n",
    "\n",
    "    # print(messages2(temp_df,cntxt,qstn))\n",
    "    return completion.choices[0].message.content"
   ]
  },
  {
   "cell_type": "code",
   "execution_count": 53,
   "metadata": {},
   "outputs": [],
   "source": [
    "client = openai.OpenAI(\n",
    "\n",
    "    # base_url = 'https://api.groq.com/openai/v1',\n",
    "    base_url=\"http://127.0.0.1:1337/v1\",\n",
    "    # base_url=\"http://localhost:8080/v1\", # \"http://<Your api-server IP>:port\"\n",
    "    api_key = \"sk-no-key-required\"\n",
    ")"
   ]
  },
  {
   "cell_type": "code",
   "execution_count": 54,
   "metadata": {},
   "outputs": [
    {
     "data": {
      "text/plain": [
       "['gemma-1.1-2b-it',\n",
       " 'gemma-1.1-7b-it',\n",
       " 'gemma-2-27b-it',\n",
       " 'gemma-2-2b-it',\n",
       " 'gemma-2-9b-it',\n",
       " 'gemma-2-9b-it-Q5_K_M',\n",
       " 'gemma-7b-it',\n",
       " 'gemma_2b_it_QA_tuned_output_file']"
      ]
     },
     "execution_count": 54,
     "metadata": {},
     "output_type": "execute_result"
    }
   ],
   "source": [
    "models = client.models.list()\n",
    "[i.id for i in models.data if 'gemma' in i.id]"
   ]
  },
  {
   "cell_type": "code",
   "execution_count": 55,
   "metadata": {},
   "outputs": [],
   "source": [
    "df_temp = test_predictions_df.copy()"
   ]
  },
  {
   "cell_type": "code",
   "execution_count": 56,
   "metadata": {},
   "outputs": [
    {
     "data": {
      "application/vnd.jupyter.widget-view+json": {
       "model_id": "a7443e7a6536428caf00e999180d12b7",
       "version_major": 2,
       "version_minor": 0
      },
      "text/plain": [
       "0it [00:00, ?it/s]"
      ]
     },
     "metadata": {},
     "output_type": "display_data"
    },
    {
     "name": "stdout",
     "output_type": "stream",
     "text": [
      "27\n",
      "42\n",
      "58\n",
      "69\n",
      "103\n",
      "117\n",
      "118\n",
      "126\n",
      "161\n",
      "164\n",
      "186\n",
      "223\n",
      "235\n",
      "290\n",
      "323\n",
      "327\n",
      "342\n",
      "424\n",
      "470\n",
      "481\n"
     ]
    }
   ],
   "source": [
    "# df['Predicted_Answer'] = None\n",
    "for line,row in tqdm(df_temp.iterrows()):\n",
    "\n",
    "    if line in wrong_ans_index:\n",
    "        print(line)\n",
    "        context = row['Text']\n",
    "        qstn = row['Question']\n",
    "        a = get_predicted_linker(context,qstn)\n",
    "        df_temp.at[line, 'Answer'] = a"
   ]
  },
  {
   "cell_type": "code",
   "execution_count": 31,
   "metadata": {},
   "outputs": [],
   "source": [
    "pd.set_option('display.max_colwidth', None)"
   ]
  },
  {
   "cell_type": "code",
   "execution_count": 57,
   "metadata": {},
   "outputs": [
    {
     "data": {
      "text/html": [
       "<div>\n",
       "<style scoped>\n",
       "    .dataframe tbody tr th:only-of-type {\n",
       "        vertical-align: middle;\n",
       "    }\n",
       "\n",
       "    .dataframe tbody tr th {\n",
       "        vertical-align: top;\n",
       "    }\n",
       "\n",
       "    .dataframe thead th {\n",
       "        text-align: right;\n",
       "    }\n",
       "</style>\n",
       "<table border=\"1\" class=\"dataframe\">\n",
       "  <thead>\n",
       "    <tr style=\"text-align: right;\">\n",
       "      <th></th>\n",
       "      <th>id</th>\n",
       "      <th>Text</th>\n",
       "      <th>Question</th>\n",
       "      <th>Answer</th>\n",
       "    </tr>\n",
       "  </thead>\n",
       "  <tbody>\n",
       "    <tr>\n",
       "      <th>27</th>\n",
       "      <td>1635</td>\n",
       "      <td>The Company incurs significant costs as a result of intellectual property disputes – the Company's ability to compete depends in part, upon the successful protection of its intellectual property.</td>\n",
       "      <td>What do intellectual property disputes translate to?</td>\n",
       "      <td>significant costs  \\n</td>\n",
       "    </tr>\n",
       "    <tr>\n",
       "      <th>42</th>\n",
       "      <td>3030</td>\n",
       "      <td>The index grew by 8.6% on an annualised basis. Jupiter's annualised underlying EPS growth did not therefore exceed the index by 5%.</td>\n",
       "      <td>What reason led to Jupiter's annualized underlying EPS growth not exceeding the index by 5%?</td>\n",
       "      <td>The index grew by 8.6% on an annualised basis.  \\n</td>\n",
       "    </tr>\n",
       "    <tr>\n",
       "      <th>103</th>\n",
       "      <td>828</td>\n",
       "      <td>As noted in the Strategic Report, all of the Directors are non-executive and therefore there is no Chief Executive Officer (\"CEO\"). The Company does not have any employees. There is therefore no CEO or employee information to disclose.</td>\n",
       "      <td>Why is there no Chief Executive Officer?</td>\n",
       "      <td>As noted in the Strategic Report, all of the Directors are non-executive  \\n</td>\n",
       "    </tr>\n",
       "    <tr>\n",
       "      <th>126</th>\n",
       "      <td>3667.b</td>\n",
       "      <td>Gross margins declined primarily as a result of the revenue mix, which included an increase in lower margin partnered services and disposal revenues as we optimised our hire fleet.</td>\n",
       "      <td>What was the effect of them optimizing their hire fleet?</td>\n",
       "      <td>Gross margins declined  \\n</td>\n",
       "    </tr>\n",
       "    <tr>\n",
       "      <th>161</th>\n",
       "      <td>2858</td>\n",
       "      <td>Trading property is carried on the consolidated balance sheet at the lower of cost and market value, therefore valuation surpluses on trading property are not recorded. Any unrecognised surplus is however reflected within the EPRA net asset value measure.</td>\n",
       "      <td>Why are valuation surpluses on trading property not recorded?</td>\n",
       "      <td>Trading property is carried on the consolidated balance sheet at the lower of cost and market value  \\n</td>\n",
       "    </tr>\n",
       "    <tr>\n",
       "      <th>223</th>\n",
       "      <td>2410</td>\n",
       "      <td>Energy prices remain uncertain and for that reason we forward sell our generation (from which we earned revenues of £18.5m in the year) for the coming year to provide earnings</td>\n",
       "      <td>Why do they forward sell their generation for the coming year to provide earnings?</td>\n",
       "      <td>Energy prices remain uncertain  \\n</td>\n",
       "    </tr>\n",
       "    <tr>\n",
       "      <th>235</th>\n",
       "      <td>4080</td>\n",
       "      <td>The GB supply chain investment programme will further improve the flexibility and therefore resilience of our GB supply chain.</td>\n",
       "      <td>What is the consequence of the GB supply chain investment program further improving the flexibility of their GB supply chain?</td>\n",
       "      <td>the resilience of our GB supply chain  \\n</td>\n",
       "    </tr>\n",
       "    <tr>\n",
       "      <th>323</th>\n",
       "      <td>1821</td>\n",
       "      <td>Foreign exchange rate movements had a favourable effect on revenues of approximately £2.7m on account of the weakening of Sterling against the Euro and US Dollar. On a constant currency basis, the Group delivered a like-for-like sales increase of 3.2%.</td>\n",
       "      <td>What was the outcome of the weakening of Sterling against the Euro and US Dollar?</td>\n",
       "      <td>Foreign exchange rate movements had a favourable effect on revenues of approximately £2.7m  \\n</td>\n",
       "    </tr>\n",
       "    <tr>\n",
       "      <th>327</th>\n",
       "      <td>2238</td>\n",
       "      <td>Revenue for Gleeson Strategic Land increased by £1.5m to £29.9m, due to the increased sales activity during the year and mix of sites sold. Highlights • Revenue increased by 12.9% to £160.4m • Gross margin on Gleeson Homes unit sales increased to 33.0% from 31.1%.</td>\n",
       "      <td>What did the increased sales activity during the year and mix of sites sold bring about?</td>\n",
       "      <td>Revenue for Gleeson Strategic Land increased by £1.5m to £29.9m  \\n</td>\n",
       "    </tr>\n",
       "    <tr>\n",
       "      <th>424</th>\n",
       "      <td>1178</td>\n",
       "      <td>Revenue from our Strategic Marketing segment increased by 13% as a result of both strong organic and acquisitive growth.</td>\n",
       "      <td>What did strong organic and acquisitive growth lead to?</td>\n",
       "      <td>Revenue from our Strategic Marketing segment increased by 13%  \\n</td>\n",
       "    </tr>\n",
       "    <tr>\n",
       "      <th>470</th>\n",
       "      <td>1923.a</td>\n",
       "      <td>People costs continue to be the largest component of operating expenses and have risen 31% year-on-year due to new store growth and the further expansion of our specialist support functions. Occupancy costs increased 19% to £30.9 million, as a result of the store openings.</td>\n",
       "      <td>What was the consequence of new store growth and the further expansion of their specialist support functions?</td>\n",
       "      <td>People costs have risen 31% year-on-year  \\n</td>\n",
       "    </tr>\n",
       "    <tr>\n",
       "      <th>58</th>\n",
       "      <td>1472</td>\n",
       "      <td>The maximum bonus opportunity and the metrics for the 2018 financial year will remain unchanged. The majority of the bonus for the coming year (70%) will therefore continue to be based on Trading EBITDA.</td>\n",
       "      <td>What accounts for the fact that the majority (70%) of the bonus for the coming year is still based on Trading EBITDA?</td>\n",
       "      <td>The maximum bonus opportunity and the metrics for the 2018 financial year will remain unchanged.  \\n</td>\n",
       "    </tr>\n",
       "    <tr>\n",
       "      <th>69</th>\n",
       "      <td>4006.b</td>\n",
       "      <td>(11) WAIO – BKM Ore Reserves have increased due to Mineral Resource classification upgrades at Newman JV and Mining Area C. CID Ore Reserves have decreased after a processing capability re-evaluation of lower CID. Reserve Life remains the same due to an increase in nominated production rate</td>\n",
       "      <td>What caused Reserve Life to remain the same?</td>\n",
       "      <td>an increase in nominated production rate \\n</td>\n",
       "    </tr>\n",
       "    <tr>\n",
       "      <th>117</th>\n",
       "      <td>4002</td>\n",
       "      <td>Performance against the corporate financial performance measures was subject to a qualitative review of the underlying performance achieved. As a result of this review, the Committee concluded the overall score should be reduced by 4.1%, reflecting the fact that some elements of reported revenue were outside of management's control.</td>\n",
       "      <td>Why did the Committee conclude that the overall score should be reduced by 4.1%?</td>\n",
       "      <td>As a result of this review, the Committee concluded the overall score should be reduced by 4.1%, reflecting the fact that some elements of reported revenue were outside of management's control.  \\n</td>\n",
       "    </tr>\n",
       "    <tr>\n",
       "      <th>118</th>\n",
       "      <td>3727</td>\n",
       "      <td>In the core scanning area, we are now one of the two main UK operators, and therefore able to support a substantial technology-driven overhead in a market with many small scanning operators.</td>\n",
       "      <td>Why can they support a substantial technology-driven overhead in a market with many small scanning operators?</td>\n",
       "      <td>In the core scanning area, we are now one of the two main UK operators  \\n</td>\n",
       "    </tr>\n",
       "    <tr>\n",
       "      <th>164</th>\n",
       "      <td>3839.b</td>\n",
       "      <td>Free cash flow 2 for the year of £71.1 million was £12.6 million higher than the previous year. This was largely due to expenditure on core capital (excluding development projects) being £11.3 million lower than 2016 as a number of projects were rephased from the latter half</td>\n",
       "      <td>Why was expenditure on core capital £11.3 million lower than in 2016?</td>\n",
       "      <td>as a number of projects were rephased from the latter half  \\n</td>\n",
       "    </tr>\n",
       "    <tr>\n",
       "      <th>186</th>\n",
       "      <td>2465.b</td>\n",
       "      <td>In defined benefit pension plans, the level of pension benefit is known. Therefore, the level of contributions required by HSBC will vary due to a number of risks, including: • investments delivering a return below that required to provide the projected plan benefits; HSBC Holdings plc Annual Report and Accounts</td>\n",
       "      <td>What are the reasons the level of contributions required by HSBC will vary?</td>\n",
       "      <td>investments delivering a return below that required to provide the projected plan benefits \\n</td>\n",
       "    </tr>\n",
       "    <tr>\n",
       "      <th>290</th>\n",
       "      <td>2429.a</td>\n",
       "      <td>When the Company listed on the London Stock Exchange in 2015, it was not fully compliant with the Code due to the composition of the Remuneration Committee. This non-compliance was as a result of the requirement of the major shareholders at the time of the IPO</td>\n",
       "      <td>What was the reason it was not fully compliant with the Code?</td>\n",
       "      <td>the composition of the Remuneration Committee  \\n</td>\n",
       "    </tr>\n",
       "    <tr>\n",
       "      <th>342</th>\n",
       "      <td>945</td>\n",
       "      <td>Due to the diversity of our ODS customer portfolio, the impacts of foreign currency were not as significant and, on a constant currency basis, ODS revenue growth was similar, at 140%. Revenue 2017 £'000s 2016 £'000s Movement % Software implementation 44,764 47,881 (7%) ODS 21,164 8,667 144% Maintenance 21,849 16,732</td>\n",
       "      <td>What has the diversity of their ODS customer portfolio led to?</td>\n",
       "      <td>the impacts of foreign currency were not as significant  \\n</td>\n",
       "    </tr>\n",
       "    <tr>\n",
       "      <th>481</th>\n",
       "      <td>3228</td>\n",
       "      <td>A share-based payments charge of £4.5m (2016: £2.5m) was recognised during the year, including national insurance costs ('NI') on potential employee gains where applicable. The year-on-year increase in the charge was primarily due to further awards made in June 2016 under the Performance Share Plan and the Deferred Annual Bonus</td>\n",
       "      <td>What led to the year-on-year increase in the charge?</td>\n",
       "      <td>further awards made in June 2016 under the Performance Share Plan and the Deferred Annual Bonus  \\n</td>\n",
       "    </tr>\n",
       "  </tbody>\n",
       "</table>\n",
       "</div>"
      ],
      "text/plain": [
       "         id  \\\n",
       "27     1635   \n",
       "42     3030   \n",
       "103     828   \n",
       "126  3667.b   \n",
       "161    2858   \n",
       "223    2410   \n",
       "235    4080   \n",
       "323    1821   \n",
       "327    2238   \n",
       "424    1178   \n",
       "470  1923.a   \n",
       "58     1472   \n",
       "69   4006.b   \n",
       "117    4002   \n",
       "118    3727   \n",
       "164  3839.b   \n",
       "186  2465.b   \n",
       "290  2429.a   \n",
       "342     945   \n",
       "481    3228   \n",
       "\n",
       "                                                                                                                                                                                                                                                                                                                                               Text  \\\n",
       "27                                                                                                                                              The Company incurs significant costs as a result of intellectual property disputes – the Company's ability to compete depends in part, upon the successful protection of its intellectual property.   \n",
       "42                                                                                                                                                                                                              The index grew by 8.6% on an annualised basis. Jupiter's annualised underlying EPS growth did not therefore exceed the index by 5%.   \n",
       "103                                                                                                     As noted in the Strategic Report, all of the Directors are non-executive and therefore there is no Chief Executive Officer (\"CEO\"). The Company does not have any employees. There is therefore no CEO or employee information to disclose.   \n",
       "126                                                                                                                                                            Gross margins declined primarily as a result of the revenue mix, which included an increase in lower margin partnered services and disposal revenues as we optimised our hire fleet.   \n",
       "161                                                                                 Trading property is carried on the consolidated balance sheet at the lower of cost and market value, therefore valuation surpluses on trading property are not recorded. Any unrecognised surplus is however reflected within the EPRA net asset value measure.   \n",
       "223                                                                                                                                                                 Energy prices remain uncertain and for that reason we forward sell our generation (from which we earned revenues of £18.5m in the year) for the coming year to provide earnings   \n",
       "235                                                                                                                                                                                                                  The GB supply chain investment programme will further improve the flexibility and therefore resilience of our GB supply chain.   \n",
       "323                                                                                    Foreign exchange rate movements had a favourable effect on revenues of approximately £2.7m on account of the weakening of Sterling against the Euro and US Dollar. On a constant currency basis, the Group delivered a like-for-like sales increase of 3.2%.   \n",
       "327                                                                        Revenue for Gleeson Strategic Land increased by £1.5m to £29.9m, due to the increased sales activity during the year and mix of sites sold. Highlights • Revenue increased by 12.9% to £160.4m • Gross margin on Gleeson Homes unit sales increased to 33.0% from 31.1%.   \n",
       "424                                                                                                                                                                                                                        Revenue from our Strategic Marketing segment increased by 13% as a result of both strong organic and acquisitive growth.   \n",
       "470                                                               People costs continue to be the largest component of operating expenses and have risen 31% year-on-year due to new store growth and the further expansion of our specialist support functions. Occupancy costs increased 19% to £30.9 million, as a result of the store openings.   \n",
       "58                                                                                                                                      The maximum bonus opportunity and the metrics for the 2018 financial year will remain unchanged. The majority of the bonus for the coming year (70%) will therefore continue to be based on Trading EBITDA.   \n",
       "69                                              (11) WAIO – BKM Ore Reserves have increased due to Mineral Resource classification upgrades at Newman JV and Mining Area C. CID Ore Reserves have decreased after a processing capability re-evaluation of lower CID. Reserve Life remains the same due to an increase in nominated production rate   \n",
       "117  Performance against the corporate financial performance measures was subject to a qualitative review of the underlying performance achieved. As a result of this review, the Committee concluded the overall score should be reduced by 4.1%, reflecting the fact that some elements of reported revenue were outside of management's control.   \n",
       "118                                                                                                                                                  In the core scanning area, we are now one of the two main UK operators, and therefore able to support a substantial technology-driven overhead in a market with many small scanning operators.   \n",
       "164                                                             Free cash flow 2 for the year of £71.1 million was £12.6 million higher than the previous year. This was largely due to expenditure on core capital (excluding development projects) being £11.3 million lower than 2016 as a number of projects were rephased from the latter half   \n",
       "186                       In defined benefit pension plans, the level of pension benefit is known. Therefore, the level of contributions required by HSBC will vary due to a number of risks, including: • investments delivering a return below that required to provide the projected plan benefits; HSBC Holdings plc Annual Report and Accounts   \n",
       "290                                                                            When the Company listed on the London Stock Exchange in 2015, it was not fully compliant with the Code due to the composition of the Remuneration Committee. This non-compliance was as a result of the requirement of the major shareholders at the time of the IPO   \n",
       "342                   Due to the diversity of our ODS customer portfolio, the impacts of foreign currency were not as significant and, on a constant currency basis, ODS revenue growth was similar, at 140%. Revenue 2017 £'000s 2016 £'000s Movement % Software implementation 44,764 47,881 (7%) ODS 21,164 8,667 144% Maintenance 21,849 16,732   \n",
       "481       A share-based payments charge of £4.5m (2016: £2.5m) was recognised during the year, including national insurance costs ('NI') on potential employee gains where applicable. The year-on-year increase in the charge was primarily due to further awards made in June 2016 under the Performance Share Plan and the Deferred Annual Bonus   \n",
       "\n",
       "                                                                                                                          Question  \\\n",
       "27                                                                            What do intellectual property disputes translate to?   \n",
       "42                                    What reason led to Jupiter's annualized underlying EPS growth not exceeding the index by 5%?   \n",
       "103                                                                                       Why is there no Chief Executive Officer?   \n",
       "126                                                                       What was the effect of them optimizing their hire fleet?   \n",
       "161                                                                  Why are valuation surpluses on trading property not recorded?   \n",
       "223                                             Why do they forward sell their generation for the coming year to provide earnings?   \n",
       "235  What is the consequence of the GB supply chain investment program further improving the flexibility of their GB supply chain?   \n",
       "323                                              What was the outcome of the weakening of Sterling against the Euro and US Dollar?   \n",
       "327                                       What did the increased sales activity during the year and mix of sites sold bring about?   \n",
       "424                                                                        What did strong organic and acquisitive growth lead to?   \n",
       "470                  What was the consequence of new store growth and the further expansion of their specialist support functions?   \n",
       "58           What accounts for the fact that the majority (70%) of the bonus for the coming year is still based on Trading EBITDA?   \n",
       "69                                                                                    What caused Reserve Life to remain the same?   \n",
       "117                                               Why did the Committee conclude that the overall score should be reduced by 4.1%?   \n",
       "118                  Why can they support a substantial technology-driven overhead in a market with many small scanning operators?   \n",
       "164                                                          Why was expenditure on core capital £11.3 million lower than in 2016?   \n",
       "186                                                    What are the reasons the level of contributions required by HSBC will vary?   \n",
       "290                                                                  What was the reason it was not fully compliant with the Code?   \n",
       "342                                                                 What has the diversity of their ODS customer portfolio led to?   \n",
       "481                                                                           What led to the year-on-year increase in the charge?   \n",
       "\n",
       "                                                                                                                                                                                                    Answer  \n",
       "27                                                                                                                                                                                   significant costs  \\n  \n",
       "42                                                                                                                                                      The index grew by 8.6% on an annualised basis.  \\n  \n",
       "103                                                                                                                           As noted in the Strategic Report, all of the Directors are non-executive  \\n  \n",
       "126                                                                                                                                                                             Gross margins declined  \\n  \n",
       "161                                                                                                Trading property is carried on the consolidated balance sheet at the lower of cost and market value  \\n  \n",
       "223                                                                                                                                                                     Energy prices remain uncertain  \\n  \n",
       "235                                                                                                                                                              the resilience of our GB supply chain  \\n  \n",
       "323                                                                                                         Foreign exchange rate movements had a favourable effect on revenues of approximately £2.7m  \\n  \n",
       "327                                                                                                                                    Revenue for Gleeson Strategic Land increased by £1.5m to £29.9m  \\n  \n",
       "424                                                                                                                                      Revenue from our Strategic Marketing segment increased by 13%  \\n  \n",
       "470                                                                                                                                                           People costs have risen 31% year-on-year  \\n  \n",
       "58                                                                                                    The maximum bonus opportunity and the metrics for the 2018 financial year will remain unchanged.  \\n  \n",
       "69                                                                                                                                                             an increase in nominated production rate \\n  \n",
       "117  As a result of this review, the Committee concluded the overall score should be reduced by 4.1%, reflecting the fact that some elements of reported revenue were outside of management's control.  \\n  \n",
       "118                                                                                                                             In the core scanning area, we are now one of the two main UK operators  \\n  \n",
       "164                                                                                                                                         as a number of projects were rephased from the latter half  \\n  \n",
       "186                                                                                                          investments delivering a return below that required to provide the projected plan benefits \\n  \n",
       "290                                                                                                                                                      the composition of the Remuneration Committee  \\n  \n",
       "342                                                                                                                                            the impacts of foreign currency were not as significant  \\n  \n",
       "481                                                                                                    further awards made in June 2016 under the Performance Share Plan and the Deferred Annual Bonus  \\n  "
      ]
     },
     "execution_count": 57,
     "metadata": {},
     "output_type": "execute_result"
    }
   ],
   "source": [
    "df_temp.iloc[wrong_ans_index]"
   ]
  },
  {
   "cell_type": "code",
   "execution_count": 58,
   "metadata": {},
   "outputs": [],
   "source": [
    "df_temp['Answer'] = df_temp['Answer'].apply(lambda x:x.strip())\n",
    "df_temp['Answer'] = df_temp['Answer'].apply(lambda x: x[:-1] if x[-1]=='.' else x)\n",
    "df_temp['Answer'] = df_temp['Answer'].apply(lambda x: x.replace(\"Answer:\",'') if x.startswith('Answer:') else x)"
   ]
  },
  {
   "cell_type": "code",
   "execution_count": 59,
   "metadata": {},
   "outputs": [
    {
     "data": {
      "text/html": [
       "<div>\n",
       "<style scoped>\n",
       "    .dataframe tbody tr th:only-of-type {\n",
       "        vertical-align: middle;\n",
       "    }\n",
       "\n",
       "    .dataframe tbody tr th {\n",
       "        vertical-align: top;\n",
       "    }\n",
       "\n",
       "    .dataframe thead th {\n",
       "        text-align: right;\n",
       "    }\n",
       "</style>\n",
       "<table border=\"1\" class=\"dataframe\">\n",
       "  <thead>\n",
       "    <tr style=\"text-align: right;\">\n",
       "      <th></th>\n",
       "      <th>id</th>\n",
       "      <th>Text</th>\n",
       "      <th>Question</th>\n",
       "      <th>Answer</th>\n",
       "    </tr>\n",
       "  </thead>\n",
       "  <tbody>\n",
       "    <tr>\n",
       "      <th>27</th>\n",
       "      <td>1635</td>\n",
       "      <td>The Company incurs significant costs as a result of intellectual property disputes – the Company's ability to compete depends in part, upon the successful protection of its intellectual property.</td>\n",
       "      <td>What do intellectual property disputes translate to?</td>\n",
       "      <td>significant costs</td>\n",
       "    </tr>\n",
       "    <tr>\n",
       "      <th>42</th>\n",
       "      <td>3030</td>\n",
       "      <td>The index grew by 8.6% on an annualised basis. Jupiter's annualised underlying EPS growth did not therefore exceed the index by 5%.</td>\n",
       "      <td>What reason led to Jupiter's annualized underlying EPS growth not exceeding the index by 5%?</td>\n",
       "      <td>The index grew by 8.6% on an annualised basis</td>\n",
       "    </tr>\n",
       "    <tr>\n",
       "      <th>103</th>\n",
       "      <td>828</td>\n",
       "      <td>As noted in the Strategic Report, all of the Directors are non-executive and therefore there is no Chief Executive Officer (\"CEO\"). The Company does not have any employees. There is therefore no CEO or employee information to disclose.</td>\n",
       "      <td>Why is there no Chief Executive Officer?</td>\n",
       "      <td>As noted in the Strategic Report, all of the Directors are non-executive</td>\n",
       "    </tr>\n",
       "    <tr>\n",
       "      <th>126</th>\n",
       "      <td>3667.b</td>\n",
       "      <td>Gross margins declined primarily as a result of the revenue mix, which included an increase in lower margin partnered services and disposal revenues as we optimised our hire fleet.</td>\n",
       "      <td>What was the effect of them optimizing their hire fleet?</td>\n",
       "      <td>Gross margins declined</td>\n",
       "    </tr>\n",
       "    <tr>\n",
       "      <th>161</th>\n",
       "      <td>2858</td>\n",
       "      <td>Trading property is carried on the consolidated balance sheet at the lower of cost and market value, therefore valuation surpluses on trading property are not recorded. Any unrecognised surplus is however reflected within the EPRA net asset value measure.</td>\n",
       "      <td>Why are valuation surpluses on trading property not recorded?</td>\n",
       "      <td>Trading property is carried on the consolidated balance sheet at the lower of cost and market value</td>\n",
       "    </tr>\n",
       "    <tr>\n",
       "      <th>223</th>\n",
       "      <td>2410</td>\n",
       "      <td>Energy prices remain uncertain and for that reason we forward sell our generation (from which we earned revenues of £18.5m in the year) for the coming year to provide earnings</td>\n",
       "      <td>Why do they forward sell their generation for the coming year to provide earnings?</td>\n",
       "      <td>Energy prices remain uncertain</td>\n",
       "    </tr>\n",
       "    <tr>\n",
       "      <th>235</th>\n",
       "      <td>4080</td>\n",
       "      <td>The GB supply chain investment programme will further improve the flexibility and therefore resilience of our GB supply chain.</td>\n",
       "      <td>What is the consequence of the GB supply chain investment program further improving the flexibility of their GB supply chain?</td>\n",
       "      <td>the resilience of our GB supply chain</td>\n",
       "    </tr>\n",
       "    <tr>\n",
       "      <th>323</th>\n",
       "      <td>1821</td>\n",
       "      <td>Foreign exchange rate movements had a favourable effect on revenues of approximately £2.7m on account of the weakening of Sterling against the Euro and US Dollar. On a constant currency basis, the Group delivered a like-for-like sales increase of 3.2%.</td>\n",
       "      <td>What was the outcome of the weakening of Sterling against the Euro and US Dollar?</td>\n",
       "      <td>Foreign exchange rate movements had a favourable effect on revenues of approximately £2.7m</td>\n",
       "    </tr>\n",
       "    <tr>\n",
       "      <th>327</th>\n",
       "      <td>2238</td>\n",
       "      <td>Revenue for Gleeson Strategic Land increased by £1.5m to £29.9m, due to the increased sales activity during the year and mix of sites sold. Highlights • Revenue increased by 12.9% to £160.4m • Gross margin on Gleeson Homes unit sales increased to 33.0% from 31.1%.</td>\n",
       "      <td>What did the increased sales activity during the year and mix of sites sold bring about?</td>\n",
       "      <td>Revenue for Gleeson Strategic Land increased by £1.5m to £29.9m</td>\n",
       "    </tr>\n",
       "    <tr>\n",
       "      <th>424</th>\n",
       "      <td>1178</td>\n",
       "      <td>Revenue from our Strategic Marketing segment increased by 13% as a result of both strong organic and acquisitive growth.</td>\n",
       "      <td>What did strong organic and acquisitive growth lead to?</td>\n",
       "      <td>Revenue from our Strategic Marketing segment increased by 13%</td>\n",
       "    </tr>\n",
       "    <tr>\n",
       "      <th>470</th>\n",
       "      <td>1923.a</td>\n",
       "      <td>People costs continue to be the largest component of operating expenses and have risen 31% year-on-year due to new store growth and the further expansion of our specialist support functions. Occupancy costs increased 19% to £30.9 million, as a result of the store openings.</td>\n",
       "      <td>What was the consequence of new store growth and the further expansion of their specialist support functions?</td>\n",
       "      <td>People costs have risen 31% year-on-year</td>\n",
       "    </tr>\n",
       "    <tr>\n",
       "      <th>58</th>\n",
       "      <td>1472</td>\n",
       "      <td>The maximum bonus opportunity and the metrics for the 2018 financial year will remain unchanged. The majority of the bonus for the coming year (70%) will therefore continue to be based on Trading EBITDA.</td>\n",
       "      <td>What accounts for the fact that the majority (70%) of the bonus for the coming year is still based on Trading EBITDA?</td>\n",
       "      <td>The maximum bonus opportunity and the metrics for the 2018 financial year will remain unchanged</td>\n",
       "    </tr>\n",
       "    <tr>\n",
       "      <th>69</th>\n",
       "      <td>4006.b</td>\n",
       "      <td>(11) WAIO – BKM Ore Reserves have increased due to Mineral Resource classification upgrades at Newman JV and Mining Area C. CID Ore Reserves have decreased after a processing capability re-evaluation of lower CID. Reserve Life remains the same due to an increase in nominated production rate</td>\n",
       "      <td>What caused Reserve Life to remain the same?</td>\n",
       "      <td>an increase in nominated production rate</td>\n",
       "    </tr>\n",
       "    <tr>\n",
       "      <th>117</th>\n",
       "      <td>4002</td>\n",
       "      <td>Performance against the corporate financial performance measures was subject to a qualitative review of the underlying performance achieved. As a result of this review, the Committee concluded the overall score should be reduced by 4.1%, reflecting the fact that some elements of reported revenue were outside of management's control.</td>\n",
       "      <td>Why did the Committee conclude that the overall score should be reduced by 4.1%?</td>\n",
       "      <td>As a result of this review, the Committee concluded the overall score should be reduced by 4.1%, reflecting the fact that some elements of reported revenue were outside of management's control</td>\n",
       "    </tr>\n",
       "    <tr>\n",
       "      <th>118</th>\n",
       "      <td>3727</td>\n",
       "      <td>In the core scanning area, we are now one of the two main UK operators, and therefore able to support a substantial technology-driven overhead in a market with many small scanning operators.</td>\n",
       "      <td>Why can they support a substantial technology-driven overhead in a market with many small scanning operators?</td>\n",
       "      <td>In the core scanning area, we are now one of the two main UK operators</td>\n",
       "    </tr>\n",
       "    <tr>\n",
       "      <th>164</th>\n",
       "      <td>3839.b</td>\n",
       "      <td>Free cash flow 2 for the year of £71.1 million was £12.6 million higher than the previous year. This was largely due to expenditure on core capital (excluding development projects) being £11.3 million lower than 2016 as a number of projects were rephased from the latter half</td>\n",
       "      <td>Why was expenditure on core capital £11.3 million lower than in 2016?</td>\n",
       "      <td>as a number of projects were rephased from the latter half</td>\n",
       "    </tr>\n",
       "    <tr>\n",
       "      <th>186</th>\n",
       "      <td>2465.b</td>\n",
       "      <td>In defined benefit pension plans, the level of pension benefit is known. Therefore, the level of contributions required by HSBC will vary due to a number of risks, including: • investments delivering a return below that required to provide the projected plan benefits; HSBC Holdings plc Annual Report and Accounts</td>\n",
       "      <td>What are the reasons the level of contributions required by HSBC will vary?</td>\n",
       "      <td>investments delivering a return below that required to provide the projected plan benefits</td>\n",
       "    </tr>\n",
       "    <tr>\n",
       "      <th>290</th>\n",
       "      <td>2429.a</td>\n",
       "      <td>When the Company listed on the London Stock Exchange in 2015, it was not fully compliant with the Code due to the composition of the Remuneration Committee. This non-compliance was as a result of the requirement of the major shareholders at the time of the IPO</td>\n",
       "      <td>What was the reason it was not fully compliant with the Code?</td>\n",
       "      <td>the composition of the Remuneration Committee</td>\n",
       "    </tr>\n",
       "    <tr>\n",
       "      <th>342</th>\n",
       "      <td>945</td>\n",
       "      <td>Due to the diversity of our ODS customer portfolio, the impacts of foreign currency were not as significant and, on a constant currency basis, ODS revenue growth was similar, at 140%. Revenue 2017 £'000s 2016 £'000s Movement % Software implementation 44,764 47,881 (7%) ODS 21,164 8,667 144% Maintenance 21,849 16,732</td>\n",
       "      <td>What has the diversity of their ODS customer portfolio led to?</td>\n",
       "      <td>the impacts of foreign currency were not as significant</td>\n",
       "    </tr>\n",
       "    <tr>\n",
       "      <th>481</th>\n",
       "      <td>3228</td>\n",
       "      <td>A share-based payments charge of £4.5m (2016: £2.5m) was recognised during the year, including national insurance costs ('NI') on potential employee gains where applicable. The year-on-year increase in the charge was primarily due to further awards made in June 2016 under the Performance Share Plan and the Deferred Annual Bonus</td>\n",
       "      <td>What led to the year-on-year increase in the charge?</td>\n",
       "      <td>further awards made in June 2016 under the Performance Share Plan and the Deferred Annual Bonus</td>\n",
       "    </tr>\n",
       "  </tbody>\n",
       "</table>\n",
       "</div>"
      ],
      "text/plain": [
       "         id  \\\n",
       "27     1635   \n",
       "42     3030   \n",
       "103     828   \n",
       "126  3667.b   \n",
       "161    2858   \n",
       "223    2410   \n",
       "235    4080   \n",
       "323    1821   \n",
       "327    2238   \n",
       "424    1178   \n",
       "470  1923.a   \n",
       "58     1472   \n",
       "69   4006.b   \n",
       "117    4002   \n",
       "118    3727   \n",
       "164  3839.b   \n",
       "186  2465.b   \n",
       "290  2429.a   \n",
       "342     945   \n",
       "481    3228   \n",
       "\n",
       "                                                                                                                                                                                                                                                                                                                                               Text  \\\n",
       "27                                                                                                                                              The Company incurs significant costs as a result of intellectual property disputes – the Company's ability to compete depends in part, upon the successful protection of its intellectual property.   \n",
       "42                                                                                                                                                                                                              The index grew by 8.6% on an annualised basis. Jupiter's annualised underlying EPS growth did not therefore exceed the index by 5%.   \n",
       "103                                                                                                     As noted in the Strategic Report, all of the Directors are non-executive and therefore there is no Chief Executive Officer (\"CEO\"). The Company does not have any employees. There is therefore no CEO or employee information to disclose.   \n",
       "126                                                                                                                                                            Gross margins declined primarily as a result of the revenue mix, which included an increase in lower margin partnered services and disposal revenues as we optimised our hire fleet.   \n",
       "161                                                                                 Trading property is carried on the consolidated balance sheet at the lower of cost and market value, therefore valuation surpluses on trading property are not recorded. Any unrecognised surplus is however reflected within the EPRA net asset value measure.   \n",
       "223                                                                                                                                                                 Energy prices remain uncertain and for that reason we forward sell our generation (from which we earned revenues of £18.5m in the year) for the coming year to provide earnings   \n",
       "235                                                                                                                                                                                                                  The GB supply chain investment programme will further improve the flexibility and therefore resilience of our GB supply chain.   \n",
       "323                                                                                    Foreign exchange rate movements had a favourable effect on revenues of approximately £2.7m on account of the weakening of Sterling against the Euro and US Dollar. On a constant currency basis, the Group delivered a like-for-like sales increase of 3.2%.   \n",
       "327                                                                        Revenue for Gleeson Strategic Land increased by £1.5m to £29.9m, due to the increased sales activity during the year and mix of sites sold. Highlights • Revenue increased by 12.9% to £160.4m • Gross margin on Gleeson Homes unit sales increased to 33.0% from 31.1%.   \n",
       "424                                                                                                                                                                                                                        Revenue from our Strategic Marketing segment increased by 13% as a result of both strong organic and acquisitive growth.   \n",
       "470                                                               People costs continue to be the largest component of operating expenses and have risen 31% year-on-year due to new store growth and the further expansion of our specialist support functions. Occupancy costs increased 19% to £30.9 million, as a result of the store openings.   \n",
       "58                                                                                                                                      The maximum bonus opportunity and the metrics for the 2018 financial year will remain unchanged. The majority of the bonus for the coming year (70%) will therefore continue to be based on Trading EBITDA.   \n",
       "69                                              (11) WAIO – BKM Ore Reserves have increased due to Mineral Resource classification upgrades at Newman JV and Mining Area C. CID Ore Reserves have decreased after a processing capability re-evaluation of lower CID. Reserve Life remains the same due to an increase in nominated production rate   \n",
       "117  Performance against the corporate financial performance measures was subject to a qualitative review of the underlying performance achieved. As a result of this review, the Committee concluded the overall score should be reduced by 4.1%, reflecting the fact that some elements of reported revenue were outside of management's control.   \n",
       "118                                                                                                                                                  In the core scanning area, we are now one of the two main UK operators, and therefore able to support a substantial technology-driven overhead in a market with many small scanning operators.   \n",
       "164                                                             Free cash flow 2 for the year of £71.1 million was £12.6 million higher than the previous year. This was largely due to expenditure on core capital (excluding development projects) being £11.3 million lower than 2016 as a number of projects were rephased from the latter half   \n",
       "186                       In defined benefit pension plans, the level of pension benefit is known. Therefore, the level of contributions required by HSBC will vary due to a number of risks, including: • investments delivering a return below that required to provide the projected plan benefits; HSBC Holdings plc Annual Report and Accounts   \n",
       "290                                                                            When the Company listed on the London Stock Exchange in 2015, it was not fully compliant with the Code due to the composition of the Remuneration Committee. This non-compliance was as a result of the requirement of the major shareholders at the time of the IPO   \n",
       "342                   Due to the diversity of our ODS customer portfolio, the impacts of foreign currency were not as significant and, on a constant currency basis, ODS revenue growth was similar, at 140%. Revenue 2017 £'000s 2016 £'000s Movement % Software implementation 44,764 47,881 (7%) ODS 21,164 8,667 144% Maintenance 21,849 16,732   \n",
       "481       A share-based payments charge of £4.5m (2016: £2.5m) was recognised during the year, including national insurance costs ('NI') on potential employee gains where applicable. The year-on-year increase in the charge was primarily due to further awards made in June 2016 under the Performance Share Plan and the Deferred Annual Bonus   \n",
       "\n",
       "                                                                                                                          Question  \\\n",
       "27                                                                            What do intellectual property disputes translate to?   \n",
       "42                                    What reason led to Jupiter's annualized underlying EPS growth not exceeding the index by 5%?   \n",
       "103                                                                                       Why is there no Chief Executive Officer?   \n",
       "126                                                                       What was the effect of them optimizing their hire fleet?   \n",
       "161                                                                  Why are valuation surpluses on trading property not recorded?   \n",
       "223                                             Why do they forward sell their generation for the coming year to provide earnings?   \n",
       "235  What is the consequence of the GB supply chain investment program further improving the flexibility of their GB supply chain?   \n",
       "323                                              What was the outcome of the weakening of Sterling against the Euro and US Dollar?   \n",
       "327                                       What did the increased sales activity during the year and mix of sites sold bring about?   \n",
       "424                                                                        What did strong organic and acquisitive growth lead to?   \n",
       "470                  What was the consequence of new store growth and the further expansion of their specialist support functions?   \n",
       "58           What accounts for the fact that the majority (70%) of the bonus for the coming year is still based on Trading EBITDA?   \n",
       "69                                                                                    What caused Reserve Life to remain the same?   \n",
       "117                                               Why did the Committee conclude that the overall score should be reduced by 4.1%?   \n",
       "118                  Why can they support a substantial technology-driven overhead in a market with many small scanning operators?   \n",
       "164                                                          Why was expenditure on core capital £11.3 million lower than in 2016?   \n",
       "186                                                    What are the reasons the level of contributions required by HSBC will vary?   \n",
       "290                                                                  What was the reason it was not fully compliant with the Code?   \n",
       "342                                                                 What has the diversity of their ODS customer portfolio led to?   \n",
       "481                                                                           What led to the year-on-year increase in the charge?   \n",
       "\n",
       "                                                                                                                                                                                               Answer  \n",
       "27                                                                                                                                                                                  significant costs  \n",
       "42                                                                                                                                                      The index grew by 8.6% on an annualised basis  \n",
       "103                                                                                                                          As noted in the Strategic Report, all of the Directors are non-executive  \n",
       "126                                                                                                                                                                            Gross margins declined  \n",
       "161                                                                                               Trading property is carried on the consolidated balance sheet at the lower of cost and market value  \n",
       "223                                                                                                                                                                    Energy prices remain uncertain  \n",
       "235                                                                                                                                                             the resilience of our GB supply chain  \n",
       "323                                                                                                        Foreign exchange rate movements had a favourable effect on revenues of approximately £2.7m  \n",
       "327                                                                                                                                   Revenue for Gleeson Strategic Land increased by £1.5m to £29.9m  \n",
       "424                                                                                                                                     Revenue from our Strategic Marketing segment increased by 13%  \n",
       "470                                                                                                                                                          People costs have risen 31% year-on-year  \n",
       "58                                                                                                    The maximum bonus opportunity and the metrics for the 2018 financial year will remain unchanged  \n",
       "69                                                                                                                                                           an increase in nominated production rate  \n",
       "117  As a result of this review, the Committee concluded the overall score should be reduced by 4.1%, reflecting the fact that some elements of reported revenue were outside of management's control  \n",
       "118                                                                                                                            In the core scanning area, we are now one of the two main UK operators  \n",
       "164                                                                                                                                        as a number of projects were rephased from the latter half  \n",
       "186                                                                                                        investments delivering a return below that required to provide the projected plan benefits  \n",
       "290                                                                                                                                                     the composition of the Remuneration Committee  \n",
       "342                                                                                                                                           the impacts of foreign currency were not as significant  \n",
       "481                                                                                                   further awards made in June 2016 under the Performance Share Plan and the Deferred Annual Bonus  "
      ]
     },
     "execution_count": 59,
     "metadata": {},
     "output_type": "execute_result"
    }
   ],
   "source": [
    "df_temp.iloc[wrong_ans_index]"
   ]
  },
  {
   "cell_type": "code",
   "execution_count": 60,
   "metadata": {},
   "outputs": [
    {
     "data": {
      "text/html": [
       "<div>\n",
       "<style scoped>\n",
       "    .dataframe tbody tr th:only-of-type {\n",
       "        vertical-align: middle;\n",
       "    }\n",
       "\n",
       "    .dataframe tbody tr th {\n",
       "        vertical-align: top;\n",
       "    }\n",
       "\n",
       "    .dataframe thead th {\n",
       "        text-align: right;\n",
       "    }\n",
       "</style>\n",
       "<table border=\"1\" class=\"dataframe\">\n",
       "  <thead>\n",
       "    <tr style=\"text-align: right;\">\n",
       "      <th></th>\n",
       "      <th>id</th>\n",
       "      <th>Text</th>\n",
       "      <th>Question</th>\n",
       "      <th>Answer</th>\n",
       "    </tr>\n",
       "  </thead>\n",
       "  <tbody>\n",
       "    <tr>\n",
       "      <th>235</th>\n",
       "      <td>4080</td>\n",
       "      <td>The GB supply chain investment programme will further improve the flexibility and therefore resilience of our GB supply chain.</td>\n",
       "      <td>What is the consequence of the GB supply chain investment program further improving the flexibility of their GB supply chain?</td>\n",
       "      <td>the resilience of our GB supply chain</td>\n",
       "    </tr>\n",
       "    <tr>\n",
       "      <th>470</th>\n",
       "      <td>1923.a</td>\n",
       "      <td>People costs continue to be the largest component of operating expenses and have risen 31% year-on-year due to new store growth and the further expansion of our specialist support functions. Occupancy costs increased 19% to £30.9 million, as a result of the store openings.</td>\n",
       "      <td>What was the consequence of new store growth and the further expansion of their specialist support functions?</td>\n",
       "      <td>People costs have risen 31% year-on-year</td>\n",
       "    </tr>\n",
       "  </tbody>\n",
       "</table>\n",
       "</div>"
      ],
      "text/plain": [
       "         id  \\\n",
       "235    4080   \n",
       "470  1923.a   \n",
       "\n",
       "                                                                                                                                                                                                                                                                                  Text  \\\n",
       "235                                                                                                                                                     The GB supply chain investment programme will further improve the flexibility and therefore resilience of our GB supply chain.   \n",
       "470  People costs continue to be the largest component of operating expenses and have risen 31% year-on-year due to new store growth and the further expansion of our specialist support functions. Occupancy costs increased 19% to £30.9 million, as a result of the store openings.   \n",
       "\n",
       "                                                                                                                          Question  \\\n",
       "235  What is the consequence of the GB supply chain investment program further improving the flexibility of their GB supply chain?   \n",
       "470                  What was the consequence of new store growth and the further expansion of their specialist support functions?   \n",
       "\n",
       "                                       Answer  \n",
       "235     the resilience of our GB supply chain  \n",
       "470  People costs have risen 31% year-on-year  "
      ]
     },
     "execution_count": 60,
     "metadata": {},
     "output_type": "execute_result"
    }
   ],
   "source": [
    "df_temp[df_temp.apply(lambda x:x.Answer.lower().strip() not in x.Text.lower().strip(),axis=1)]"
   ]
  },
  {
   "cell_type": "code",
   "execution_count": 61,
   "metadata": {},
   "outputs": [
    {
     "data": {
      "text/plain": [
       "['id', 'Text', 'Question', 'Answer']"
      ]
     },
     "execution_count": 61,
     "metadata": {},
     "output_type": "execute_result"
    }
   ],
   "source": [
    "list(df_temp)"
   ]
  },
  {
   "cell_type": "code",
   "execution_count": 62,
   "metadata": {},
   "outputs": [],
   "source": [
    "df_temp.columns = ['ID', 'Text', 'Question', 'Answer']"
   ]
  },
  {
   "cell_type": "code",
   "execution_count": 63,
   "metadata": {},
   "outputs": [],
   "source": [
    "df_temp.to_csv(\"results_en_final_v3.csv\", index=False, sep=\";\")"
   ]
  },
  {
   "cell_type": "markdown",
   "metadata": {},
   "source": [
    "# EXTRA"
   ]
  },
  {
   "cell_type": "code",
   "execution_count": 51,
   "metadata": {},
   "outputs": [
    {
     "data": {
      "text/html": [
       "<div>\n",
       "<style scoped>\n",
       "    .dataframe tbody tr th:only-of-type {\n",
       "        vertical-align: middle;\n",
       "    }\n",
       "\n",
       "    .dataframe tbody tr th {\n",
       "        vertical-align: top;\n",
       "    }\n",
       "\n",
       "    .dataframe thead th {\n",
       "        text-align: right;\n",
       "    }\n",
       "</style>\n",
       "<table border=\"1\" class=\"dataframe\">\n",
       "  <thead>\n",
       "    <tr style=\"text-align: right;\">\n",
       "      <th></th>\n",
       "      <th>ID</th>\n",
       "      <th>Text</th>\n",
       "      <th>Question</th>\n",
       "      <th>Answer</th>\n",
       "    </tr>\n",
       "  </thead>\n",
       "  <tbody>\n",
       "    <tr>\n",
       "      <th>0</th>\n",
       "      <td>2759</td>\n",
       "      <td>The fees of the non-executive directors and the Chairman were reviewed in 2017 and as a result no increase will be made in 2018.</td>\n",
       "      <td>What was the consequence of the 2017 review of the fees for non-executive directors and the Chairman?</td>\n",
       "      <td>no increase will be made in 2018</td>\n",
       "    </tr>\n",
       "    <tr>\n",
       "      <th>1</th>\n",
       "      <td>2259.a</td>\n",
       "      <td>The Directors believe that due to the size and nature of the Company it would be unnecessarily burdensome to establish a separate remuneration committee. Remuneration matters are therefore included in matters reserved for the Board.</td>\n",
       "      <td>What factors make the Directors believe it is unnecessary to establish a separate remuneration committee?</td>\n",
       "      <td>the size and nature of the Company it</td>\n",
       "    </tr>\n",
       "    <tr>\n",
       "      <th>2</th>\n",
       "      <td>2123.a</td>\n",
       "      <td>Owing to the Company's REIT status, income and capital gains from our property rental business are exempt from corporation tax, therefore, the tax charge for the year is nil.</td>\n",
       "      <td>What does the Company's REIT status result in?</td>\n",
       "      <td>income and capital gains from our property rental business are exempt from corporation tax</td>\n",
       "    </tr>\n",
       "    <tr>\n",
       "      <th>3</th>\n",
       "      <td>1882.b</td>\n",
       "      <td>Underlying Group EBITDA declined by 10.1% to £10.0m (2016: £11.2m). This decline has been driven by an increase in UK overheads of £1.0m (5.6%), due to investment in support of our strategic initiatives and well-publicised cost headwinds.</td>\n",
       "      <td>What has motivated the increase in UK overheads by £1.0 million, or 5.6%?</td>\n",
       "      <td>investment in support of our strategic initiatives and well-publicised cost headwinds</td>\n",
       "    </tr>\n",
       "    <tr>\n",
       "      <th>4</th>\n",
       "      <td>1117</td>\n",
       "      <td>No further disclosure is provided for deductions due to the materiality of the numbers.</td>\n",
       "      <td>What reason drives them not to provide disclosure for deductions?</td>\n",
       "      <td>the materiality of the numbers</td>\n",
       "    </tr>\n",
       "    <tr>\n",
       "      <th>...</th>\n",
       "      <td>...</td>\n",
       "      <td>...</td>\n",
       "      <td>...</td>\n",
       "      <td>...</td>\n",
       "    </tr>\n",
       "    <tr>\n",
       "      <th>493</th>\n",
       "      <td>5148</td>\n",
       "      <td>Following an extensive process, your Board reached agreement with the Board of Sibanye-Stillwater on the terms of the all-share offer for your Company which we announced on 14 December 2017. The full details of that offer are set out in that announcement and a Scheme Circular will be sent to each shareholder in due course. It is important that all shareholders read and consider the Scheme Circular in full. Your Board recommended the offer from Sibanye-Stillwater because we believe it to be in the best interests of Lonmin shareholders and all the other stakeholders in your Company.</td>\n",
       "      <td>What explains the Board recommending the offer from Sibanye-Stillwater?</td>\n",
       "      <td>we believe it to be in the best interests of Lonmin shareholders and all the other stakeholders in your Company</td>\n",
       "    </tr>\n",
       "    <tr>\n",
       "      <th>494</th>\n",
       "      <td>9084</td>\n",
       "      <td>Supporting the Company's current phase of development and strategy, remuneration is clearly biased towards performance-related elements that are aligned with continued delivery of improved levels of profitable growth and thus returns to our shareholders.</td>\n",
       "      <td>Why does the Company remain committed to delivering consistent returns to its shareholders?</td>\n",
       "      <td>Supporting the Company's current phase of development and strategy, remuneration is clearly biased towards performance-related elements that are aligned with continued delivery of improved levels of profitable growth and</td>\n",
       "    </tr>\n",
       "    <tr>\n",
       "      <th>495</th>\n",
       "      <td>9087</td>\n",
       "      <td>Finally, we pledged to enhance the alignment of interests of management and shareholders, and as such have increased shareholding requirements to 1,000% of salary for the CEO and 350% for the CFO.</td>\n",
       "      <td>What was the reason behind increasing the shareholding requirements to 1,000% of the CEO's salary and 350% for the CFO?</td>\n",
       "      <td>we pledged to enhance the alignment of interests of management and shareholders</td>\n",
       "    </tr>\n",
       "    <tr>\n",
       "      <th>496</th>\n",
       "      <td>9088.a</td>\n",
       "      <td>Following Savills Investment Management's record result in 2016, the expected decrease in disposal activity from the liquidating SEB German Open Ended Funds caused revenue to decrease by 8% (11% in constant currency) to £66.5m (2016: £72.0m). This generated an underlying profit of £13.3m (2016: £17.6m).</td>\n",
       "      <td>What factor drove the 8% decline in revenue to £66.5m, down from £72.0m in 2016?</td>\n",
       "      <td>the expected decrease in disposal activity from the liquidating SEB German Open Ended Funds caused</td>\n",
       "    </tr>\n",
       "    <tr>\n",
       "      <th>497</th>\n",
       "      <td>9088.b</td>\n",
       "      <td>Following Savills Investment Management's record result in 2016, the expected decrease in disposal activity from the liquidating SEB German Open Ended Funds caused revenue to decrease by 8% (11% in constant currency) to £66.5m (2016: £72.0m). This generated an underlying profit of £13.3m (2016: £17.6m).</td>\n",
       "      <td>What was the consequence of the 8% revenue decrease to £66.5m, compared to £72.0m in 2016?</td>\n",
       "      <td>generated an underlying profit of £13.3m (2016: £17.6m)</td>\n",
       "    </tr>\n",
       "  </tbody>\n",
       "</table>\n",
       "<p>498 rows × 4 columns</p>\n",
       "</div>"
      ],
      "text/plain": [
       "         ID  \\\n",
       "0      2759   \n",
       "1    2259.a   \n",
       "2    2123.a   \n",
       "3    1882.b   \n",
       "4      1117   \n",
       "..      ...   \n",
       "493    5148   \n",
       "494    9084   \n",
       "495    9087   \n",
       "496  9088.a   \n",
       "497  9088.b   \n",
       "\n",
       "                                                                                                                                                                                                                                                                                                                                                                                                                                                                                                                                                                                                            Text  \\\n",
       "0                                                                                                                                                                                                                                                                                                                                                                                                                                                                               The fees of the non-executive directors and the Chairman were reviewed in 2017 and as a result no increase will be made in 2018.   \n",
       "1                                                                                                                                                                                                                                                                                                                                                                       The Directors believe that due to the size and nature of the Company it would be unnecessarily burdensome to establish a separate remuneration committee. Remuneration matters are therefore included in matters reserved for the Board.   \n",
       "2                                                                                                                                                                                                                                                                                                                                                                                                                                 Owing to the Company's REIT status, income and capital gains from our property rental business are exempt from corporation tax, therefore, the tax charge for the year is nil.   \n",
       "3                                                                                                                                                                                                                                                                                                                                                                 Underlying Group EBITDA declined by 10.1% to £10.0m (2016: £11.2m). This decline has been driven by an increase in UK overheads of £1.0m (5.6%), due to investment in support of our strategic initiatives and well-publicised cost headwinds.   \n",
       "4                                                                                                                                                                                                                                                                                                                                                                                                                                                                                                                        No further disclosure is provided for deductions due to the materiality of the numbers.   \n",
       "..                                                                                                                                                                                                                                                                                                                                                                                                                                                                                                                                                                                                           ...   \n",
       "493  Following an extensive process, your Board reached agreement with the Board of Sibanye-Stillwater on the terms of the all-share offer for your Company which we announced on 14 December 2017. The full details of that offer are set out in that announcement and a Scheme Circular will be sent to each shareholder in due course. It is important that all shareholders read and consider the Scheme Circular in full. Your Board recommended the offer from Sibanye-Stillwater because we believe it to be in the best interests of Lonmin shareholders and all the other stakeholders in your Company.   \n",
       "494                                                                                                                                                                                                                                                                                                                                               Supporting the Company's current phase of development and strategy, remuneration is clearly biased towards performance-related elements that are aligned with continued delivery of improved levels of profitable growth and thus returns to our shareholders.   \n",
       "495                                                                                                                                                                                                                                                                                                                                                                                                         Finally, we pledged to enhance the alignment of interests of management and shareholders, and as such have increased shareholding requirements to 1,000% of salary for the CEO and 350% for the CFO.   \n",
       "496                                                                                                                                                                                                                                                                                             Following Savills Investment Management's record result in 2016, the expected decrease in disposal activity from the liquidating SEB German Open Ended Funds caused revenue to decrease by 8% (11% in constant currency) to £66.5m (2016: £72.0m). This generated an underlying profit of £13.3m (2016: £17.6m).   \n",
       "497                                                                                                                                                                                                                                                                                             Following Savills Investment Management's record result in 2016, the expected decrease in disposal activity from the liquidating SEB German Open Ended Funds caused revenue to decrease by 8% (11% in constant currency) to £66.5m (2016: £72.0m). This generated an underlying profit of £13.3m (2016: £17.6m).   \n",
       "\n",
       "                                                                                                                    Question  \\\n",
       "0                      What was the consequence of the 2017 review of the fees for non-executive directors and the Chairman?   \n",
       "1                  What factors make the Directors believe it is unnecessary to establish a separate remuneration committee?   \n",
       "2                                                                             What does the Company's REIT status result in?   \n",
       "3                                                  What has motivated the increase in UK overheads by £1.0 million, or 5.6%?   \n",
       "4                                                          What reason drives them not to provide disclosure for deductions?   \n",
       "..                                                                                                                       ...   \n",
       "493                                                  What explains the Board recommending the offer from Sibanye-Stillwater?   \n",
       "494                              Why does the Company remain committed to delivering consistent returns to its shareholders?   \n",
       "495  What was the reason behind increasing the shareholding requirements to 1,000% of the CEO's salary and 350% for the CFO?   \n",
       "496                                         What factor drove the 8% decline in revenue to £66.5m, down from £72.0m in 2016?   \n",
       "497                               What was the consequence of the 8% revenue decrease to £66.5m, compared to £72.0m in 2016?   \n",
       "\n",
       "                                                                                                                                                                                                                           Answer  \n",
       "0                                                                                                                                                                                                no increase will be made in 2018  \n",
       "1                                                                                                                                                                                           the size and nature of the Company it  \n",
       "2                                                                                                                                      income and capital gains from our property rental business are exempt from corporation tax  \n",
       "3                                                                                                                                           investment in support of our strategic initiatives and well-publicised cost headwinds  \n",
       "4                                                                                                                                                                                                  the materiality of the numbers  \n",
       "..                                                                                                                                                                                                                            ...  \n",
       "493                                                                                                               we believe it to be in the best interests of Lonmin shareholders and all the other stakeholders in your Company  \n",
       "494  Supporting the Company's current phase of development and strategy, remuneration is clearly biased towards performance-related elements that are aligned with continued delivery of improved levels of profitable growth and  \n",
       "495                                                                                                                                               we pledged to enhance the alignment of interests of management and shareholders  \n",
       "496                                                                                                                            the expected decrease in disposal activity from the liquidating SEB German Open Ended Funds caused  \n",
       "497                                                                                                                                                                       generated an underlying profit of £13.3m (2016: £17.6m)  \n",
       "\n",
       "[498 rows x 4 columns]"
      ]
     },
     "execution_count": 51,
     "metadata": {},
     "output_type": "execute_result"
    }
   ],
   "source": [
    "df_temp"
   ]
  },
  {
   "cell_type": "code",
   "execution_count": 68,
   "metadata": {},
   "outputs": [],
   "source": [
    "messages1 = lambda context,question,answer: [\n",
    "        {\"role\": \"system\", \"content\": \"You are a helpful assistant that provides accurate and improved answers.\"},\n",
    "        \n",
    "        {\"role\": \"user\", \"content\": f\"\"\"\n",
    "        You are given a Context, a Question, and an Answer.\n",
    "\n",
    "        1. If the Answer is 100% correct and is extracted verbatim from the Context, return the exact same Answer.\n",
    "        2. If the Answer is incorrect or not fully extracted from the Context, return an improved version of the Answer that is extracted verbatim from the Context.\n",
    "\n",
    "        Context: {context}\n",
    "        Question: {question}\n",
    "        Answer: {answer}\n",
    "        \"\"\"}\n",
    "    ]"
   ]
  },
  {
   "cell_type": "code",
   "execution_count": 69,
   "metadata": {},
   "outputs": [],
   "source": [
    "def get_predicted_linker1(cntxt,qstn,ans):\n",
    "    completion = client.chat.completions.create(\n",
    "        model= 'gemma-2-9b-it', #'llama-3.1-8b-instant',# chatgpt cheapest and efficient -> \"gpt-4o-mini\",\n",
    "        # stop = [\"\\n\\n\", \"<|endoftext|>\", \"<end_of_turn>\"],\n",
    "        stop = [\"<start_of_turn>\",\"<end_of_turn>\"],\n",
    "        messages= messages1(cntxt,qstn,ans),\n",
    "        temperature = 0\n",
    "    )\n",
    "\n",
    "    # print(messages2(temp_df,cntxt,qstn))\n",
    "    return completion.choices[0].message.content"
   ]
  },
  {
   "cell_type": "code",
   "execution_count": 70,
   "metadata": {},
   "outputs": [],
   "source": [
    "df_new = df_temp.copy()"
   ]
  },
  {
   "cell_type": "code",
   "execution_count": 71,
   "metadata": {},
   "outputs": [
    {
     "data": {
      "application/vnd.jupyter.widget-view+json": {
       "model_id": "431e6b448412449b960d292a8d170fd1",
       "version_major": 2,
       "version_minor": 0
      },
      "text/plain": [
       "0it [00:00, ?it/s]"
      ]
     },
     "metadata": {},
     "output_type": "display_data"
    }
   ],
   "source": [
    "df_new['Predicted_Answer'] = None\n",
    "for line,row in tqdm(df_new.iterrows()):\n",
    "    context = row['Text']\n",
    "    qstn = row['Question']\n",
    "    ans = row['Answer']\n",
    "    a = get_predicted_linker1(context,qstn,ans)\n",
    "    df_new.at[line, 'Predicted_Answer'] = a"
   ]
  },
  {
   "cell_type": "code",
   "execution_count": null,
   "metadata": {},
   "outputs": [],
   "source": []
  },
  {
   "cell_type": "code",
   "execution_count": 72,
   "metadata": {},
   "outputs": [],
   "source": [
    "df_temp['Answer'] = df_temp['Answer'].apply(lambda x:x.strip())\n",
    "df_temp['Answer'] = df_temp['Answer'].apply(lambda x: x[:-1] if x[-1]=='.' else x)\n",
    "df_temp['Answer'] = df_temp['Answer'].apply(lambda x: x.replace(\"Answer:\",'') if x.startswith('Answer:') else x)"
   ]
  },
  {
   "cell_type": "code",
   "execution_count": 73,
   "metadata": {},
   "outputs": [
    {
     "data": {
      "text/html": [
       "<div>\n",
       "<style scoped>\n",
       "    .dataframe tbody tr th:only-of-type {\n",
       "        vertical-align: middle;\n",
       "    }\n",
       "\n",
       "    .dataframe tbody tr th {\n",
       "        vertical-align: top;\n",
       "    }\n",
       "\n",
       "    .dataframe thead th {\n",
       "        text-align: right;\n",
       "    }\n",
       "</style>\n",
       "<table border=\"1\" class=\"dataframe\">\n",
       "  <thead>\n",
       "    <tr style=\"text-align: right;\">\n",
       "      <th></th>\n",
       "      <th>ID</th>\n",
       "      <th>Text</th>\n",
       "      <th>Question</th>\n",
       "      <th>Answer</th>\n",
       "    </tr>\n",
       "  </thead>\n",
       "  <tbody>\n",
       "    <tr>\n",
       "      <th>0</th>\n",
       "      <td>2759</td>\n",
       "      <td>The fees of the non-executive directors and the Chairman were reviewed in 2017 and as a result no increase will be made in 2018.</td>\n",
       "      <td>What was the consequence of the 2017 review of the fees for non-executive directors and the Chairman?</td>\n",
       "      <td>no increase will be made in 2018</td>\n",
       "    </tr>\n",
       "    <tr>\n",
       "      <th>1</th>\n",
       "      <td>2259.a</td>\n",
       "      <td>The Directors believe that due to the size and nature of the Company it would be unnecessarily burdensome to establish a separate remuneration committee. Remuneration matters are therefore included in matters reserved for the Board.</td>\n",
       "      <td>What factors make the Directors believe it is unnecessary to establish a separate remuneration committee?</td>\n",
       "      <td>the size and nature of the Company it</td>\n",
       "    </tr>\n",
       "    <tr>\n",
       "      <th>2</th>\n",
       "      <td>2123.a</td>\n",
       "      <td>Owing to the Company's REIT status, income and capital gains from our property rental business are exempt from corporation tax, therefore, the tax charge for the year is nil.</td>\n",
       "      <td>What does the Company's REIT status result in?</td>\n",
       "      <td>income and capital gains from our property rental business are exempt from corporation tax</td>\n",
       "    </tr>\n",
       "    <tr>\n",
       "      <th>3</th>\n",
       "      <td>1882.b</td>\n",
       "      <td>Underlying Group EBITDA declined by 10.1% to £10.0m (2016: £11.2m). This decline has been driven by an increase in UK overheads of £1.0m (5.6%), due to investment in support of our strategic initiatives and well-publicised cost headwinds.</td>\n",
       "      <td>What has motivated the increase in UK overheads by £1.0 million, or 5.6%?</td>\n",
       "      <td>investment in support of our strategic initiatives and well-publicised cost headwinds</td>\n",
       "    </tr>\n",
       "    <tr>\n",
       "      <th>4</th>\n",
       "      <td>1117</td>\n",
       "      <td>No further disclosure is provided for deductions due to the materiality of the numbers.</td>\n",
       "      <td>What reason drives them not to provide disclosure for deductions?</td>\n",
       "      <td>the materiality of the numbers</td>\n",
       "    </tr>\n",
       "    <tr>\n",
       "      <th>...</th>\n",
       "      <td>...</td>\n",
       "      <td>...</td>\n",
       "      <td>...</td>\n",
       "      <td>...</td>\n",
       "    </tr>\n",
       "    <tr>\n",
       "      <th>493</th>\n",
       "      <td>5148</td>\n",
       "      <td>Following an extensive process, your Board reached agreement with the Board of Sibanye-Stillwater on the terms of the all-share offer for your Company which we announced on 14 December 2017. The full details of that offer are set out in that announcement and a Scheme Circular will be sent to each shareholder in due course. It is important that all shareholders read and consider the Scheme Circular in full. Your Board recommended the offer from Sibanye-Stillwater because we believe it to be in the best interests of Lonmin shareholders and all the other stakeholders in your Company.</td>\n",
       "      <td>What explains the Board recommending the offer from Sibanye-Stillwater?</td>\n",
       "      <td>we believe it to be in the best interests of Lonmin shareholders and all the other stakeholders in your Company</td>\n",
       "    </tr>\n",
       "    <tr>\n",
       "      <th>494</th>\n",
       "      <td>9084</td>\n",
       "      <td>Supporting the Company's current phase of development and strategy, remuneration is clearly biased towards performance-related elements that are aligned with continued delivery of improved levels of profitable growth and thus returns to our shareholders.</td>\n",
       "      <td>Why does the Company remain committed to delivering consistent returns to its shareholders?</td>\n",
       "      <td>Supporting the Company's current phase of development and strategy, remuneration is clearly biased towards performance-related elements that are aligned with continued delivery of improved levels of profitable growth and</td>\n",
       "    </tr>\n",
       "    <tr>\n",
       "      <th>495</th>\n",
       "      <td>9087</td>\n",
       "      <td>Finally, we pledged to enhance the alignment of interests of management and shareholders, and as such have increased shareholding requirements to 1,000% of salary for the CEO and 350% for the CFO.</td>\n",
       "      <td>What was the reason behind increasing the shareholding requirements to 1,000% of the CEO's salary and 350% for the CFO?</td>\n",
       "      <td>we pledged to enhance the alignment of interests of management and shareholders</td>\n",
       "    </tr>\n",
       "    <tr>\n",
       "      <th>496</th>\n",
       "      <td>9088.a</td>\n",
       "      <td>Following Savills Investment Management's record result in 2016, the expected decrease in disposal activity from the liquidating SEB German Open Ended Funds caused revenue to decrease by 8% (11% in constant currency) to £66.5m (2016: £72.0m). This generated an underlying profit of £13.3m (2016: £17.6m).</td>\n",
       "      <td>What factor drove the 8% decline in revenue to £66.5m, down from £72.0m in 2016?</td>\n",
       "      <td>the expected decrease in disposal activity from the liquidating SEB German Open Ended Funds caused</td>\n",
       "    </tr>\n",
       "    <tr>\n",
       "      <th>497</th>\n",
       "      <td>9088.b</td>\n",
       "      <td>Following Savills Investment Management's record result in 2016, the expected decrease in disposal activity from the liquidating SEB German Open Ended Funds caused revenue to decrease by 8% (11% in constant currency) to £66.5m (2016: £72.0m). This generated an underlying profit of £13.3m (2016: £17.6m).</td>\n",
       "      <td>What was the consequence of the 8% revenue decrease to £66.5m, compared to £72.0m in 2016?</td>\n",
       "      <td>generated an underlying profit of £13.3m (2016: £17.6m)</td>\n",
       "    </tr>\n",
       "  </tbody>\n",
       "</table>\n",
       "<p>498 rows × 4 columns</p>\n",
       "</div>"
      ],
      "text/plain": [
       "         ID  \\\n",
       "0      2759   \n",
       "1    2259.a   \n",
       "2    2123.a   \n",
       "3    1882.b   \n",
       "4      1117   \n",
       "..      ...   \n",
       "493    5148   \n",
       "494    9084   \n",
       "495    9087   \n",
       "496  9088.a   \n",
       "497  9088.b   \n",
       "\n",
       "                                                                                                                                                                                                                                                                                                                                                                                                                                                                                                                                                                                                            Text  \\\n",
       "0                                                                                                                                                                                                                                                                                                                                                                                                                                                                               The fees of the non-executive directors and the Chairman were reviewed in 2017 and as a result no increase will be made in 2018.   \n",
       "1                                                                                                                                                                                                                                                                                                                                                                       The Directors believe that due to the size and nature of the Company it would be unnecessarily burdensome to establish a separate remuneration committee. Remuneration matters are therefore included in matters reserved for the Board.   \n",
       "2                                                                                                                                                                                                                                                                                                                                                                                                                                 Owing to the Company's REIT status, income and capital gains from our property rental business are exempt from corporation tax, therefore, the tax charge for the year is nil.   \n",
       "3                                                                                                                                                                                                                                                                                                                                                                 Underlying Group EBITDA declined by 10.1% to £10.0m (2016: £11.2m). This decline has been driven by an increase in UK overheads of £1.0m (5.6%), due to investment in support of our strategic initiatives and well-publicised cost headwinds.   \n",
       "4                                                                                                                                                                                                                                                                                                                                                                                                                                                                                                                        No further disclosure is provided for deductions due to the materiality of the numbers.   \n",
       "..                                                                                                                                                                                                                                                                                                                                                                                                                                                                                                                                                                                                           ...   \n",
       "493  Following an extensive process, your Board reached agreement with the Board of Sibanye-Stillwater on the terms of the all-share offer for your Company which we announced on 14 December 2017. The full details of that offer are set out in that announcement and a Scheme Circular will be sent to each shareholder in due course. It is important that all shareholders read and consider the Scheme Circular in full. Your Board recommended the offer from Sibanye-Stillwater because we believe it to be in the best interests of Lonmin shareholders and all the other stakeholders in your Company.   \n",
       "494                                                                                                                                                                                                                                                                                                                                               Supporting the Company's current phase of development and strategy, remuneration is clearly biased towards performance-related elements that are aligned with continued delivery of improved levels of profitable growth and thus returns to our shareholders.   \n",
       "495                                                                                                                                                                                                                                                                                                                                                                                                         Finally, we pledged to enhance the alignment of interests of management and shareholders, and as such have increased shareholding requirements to 1,000% of salary for the CEO and 350% for the CFO.   \n",
       "496                                                                                                                                                                                                                                                                                             Following Savills Investment Management's record result in 2016, the expected decrease in disposal activity from the liquidating SEB German Open Ended Funds caused revenue to decrease by 8% (11% in constant currency) to £66.5m (2016: £72.0m). This generated an underlying profit of £13.3m (2016: £17.6m).   \n",
       "497                                                                                                                                                                                                                                                                                             Following Savills Investment Management's record result in 2016, the expected decrease in disposal activity from the liquidating SEB German Open Ended Funds caused revenue to decrease by 8% (11% in constant currency) to £66.5m (2016: £72.0m). This generated an underlying profit of £13.3m (2016: £17.6m).   \n",
       "\n",
       "                                                                                                                    Question  \\\n",
       "0                      What was the consequence of the 2017 review of the fees for non-executive directors and the Chairman?   \n",
       "1                  What factors make the Directors believe it is unnecessary to establish a separate remuneration committee?   \n",
       "2                                                                             What does the Company's REIT status result in?   \n",
       "3                                                  What has motivated the increase in UK overheads by £1.0 million, or 5.6%?   \n",
       "4                                                          What reason drives them not to provide disclosure for deductions?   \n",
       "..                                                                                                                       ...   \n",
       "493                                                  What explains the Board recommending the offer from Sibanye-Stillwater?   \n",
       "494                              Why does the Company remain committed to delivering consistent returns to its shareholders?   \n",
       "495  What was the reason behind increasing the shareholding requirements to 1,000% of the CEO's salary and 350% for the CFO?   \n",
       "496                                         What factor drove the 8% decline in revenue to £66.5m, down from £72.0m in 2016?   \n",
       "497                               What was the consequence of the 8% revenue decrease to £66.5m, compared to £72.0m in 2016?   \n",
       "\n",
       "                                                                                                                                                                                                                           Answer  \n",
       "0                                                                                                                                                                                                no increase will be made in 2018  \n",
       "1                                                                                                                                                                                           the size and nature of the Company it  \n",
       "2                                                                                                                                      income and capital gains from our property rental business are exempt from corporation tax  \n",
       "3                                                                                                                                           investment in support of our strategic initiatives and well-publicised cost headwinds  \n",
       "4                                                                                                                                                                                                  the materiality of the numbers  \n",
       "..                                                                                                                                                                                                                            ...  \n",
       "493                                                                                                               we believe it to be in the best interests of Lonmin shareholders and all the other stakeholders in your Company  \n",
       "494  Supporting the Company's current phase of development and strategy, remuneration is clearly biased towards performance-related elements that are aligned with continued delivery of improved levels of profitable growth and  \n",
       "495                                                                                                                                               we pledged to enhance the alignment of interests of management and shareholders  \n",
       "496                                                                                                                            the expected decrease in disposal activity from the liquidating SEB German Open Ended Funds caused  \n",
       "497                                                                                                                                                                       generated an underlying profit of £13.3m (2016: £17.6m)  \n",
       "\n",
       "[498 rows x 4 columns]"
      ]
     },
     "execution_count": 73,
     "metadata": {},
     "output_type": "execute_result"
    }
   ],
   "source": [
    "df_temp"
   ]
  },
  {
   "cell_type": "code",
   "execution_count": 1,
   "metadata": {},
   "outputs": [
    {
     "ename": "NameError",
     "evalue": "name 'df_temp' is not defined",
     "output_type": "error",
     "traceback": [
      "\u001b[1;31m---------------------------------------------------------------------------\u001b[0m",
      "\u001b[1;31mNameError\u001b[0m                                 Traceback (most recent call last)",
      "Cell \u001b[1;32mIn[1], line 1\u001b[0m\n\u001b[1;32m----> 1\u001b[0m \u001b[43mdf_temp\u001b[49m\u001b[38;5;241m.\u001b[39mto_csv(\u001b[38;5;124m\"\u001b[39m\u001b[38;5;124mresults_en_final_v4.csv\u001b[39m\u001b[38;5;124m\"\u001b[39m, index\u001b[38;5;241m=\u001b[39m\u001b[38;5;28;01mFalse\u001b[39;00m, sep\u001b[38;5;241m=\u001b[39m\u001b[38;5;124m\"\u001b[39m\u001b[38;5;124m;\u001b[39m\u001b[38;5;124m\"\u001b[39m)\n",
      "\u001b[1;31mNameError\u001b[0m: name 'df_temp' is not defined"
     ]
    }
   ],
   "source": [
    "df_temp.to_csv(\"results_en_final_v4.csv\", index=False, sep=\";\")"
   ]
  },
  {
   "attachments": {
    "adc15171-665a-4d42-a210-2ddd354c9356.png": {
     "image/png": "[encoded data removed]"
    }
   },
   "cell_type": "markdown",
   "metadata": {},
   "source": [
    "![image.png](attachment:adc15171-665a-4d42-a210-2ddd354c9356.png)"
   ]
  },
  {
   "cell_type": "code",
   "execution_count": null,
   "metadata": {},
   "outputs": [],
   "source": []
  }
 ],
 "metadata": {
  "accelerator": "GPU",
  "colab": {
   "provenance": []
  },
  "kaggle": {
   "accelerator": "gpu",
   "dataSources": [
    {
     "datasetId": 5916349,
     "sourceId": 9679722,
     "sourceType": "datasetVersion"
    },
    {
     "datasetId": 6037096,
     "sourceId": 9840981,
     "sourceType": "datasetVersion"
    },
    {
     "datasetId": 6060159,
     "sourceId": 9871906,
     "sourceType": "datasetVersion"
    }
   ],
   "dockerImageVersionId": 30786,
   "isGpuEnabled": true,
   "isInternetEnabled": true,
   "language": "python",
   "sourceType": "notebook"
  },
  "kernelspec": {
   "display_name": "Python 3 (ipykernel)",
   "language": "python",
   "name": "python3"
  },
  "language_info": {
   "codemirror_mode": {
    "name": "ipython",
    "version": 3
   },
   "file_extension": ".py",
   "mimetype": "text/x-python",
   "name": "python",
   "nbconvert_exporter": "python",
   "pygments_lexer": "ipython3",
   "version": "3.9.15"
  }
 },
 "nbformat": 4,
 "nbformat_minor": 4
}
