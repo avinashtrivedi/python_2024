{
 "cells": [
  {
   "cell_type": "code",
   "execution_count": 1,
   "id": "84e19032",
   "metadata": {},
   "outputs": [],
   "source": [
    "import pandas as pd"
   ]
  },
  {
   "cell_type": "code",
   "execution_count": 6,
   "id": "872eecca",
   "metadata": {},
   "outputs": [],
   "source": [
    "df = pd.read_csv(\"reference_data_practise_en.csv\",sep=';')"
   ]
  },
  {
   "cell_type": "code",
   "execution_count": 12,
   "id": "6f0dd7d0",
   "metadata": {},
   "outputs": [
    {
     "data": {
      "text/plain": [
       "0     Nationwide is in robust financial health, havi...\n",
       "1     All the Directors are resident in the UK and t...\n",
       "2     Overall, Group trading continues to be subdued...\n",
       "3     Included within the Group’s administrative exp...\n",
       "4     The following points were noted: • A review of...\n",
       "                            ...                        \n",
       "95    The Directors have determined that three years...\n",
       "96    Returns to shareholders As a result of our str...\n",
       "97    Mitigation: While research underlines consumer...\n",
       "98    Our regretted institutional attrition rate has...\n",
       "99    Our regretted institutional attrition rate has...\n",
       "Name: Text, Length: 100, dtype: object"
      ]
     },
     "execution_count": 12,
     "metadata": {},
     "output_type": "execute_result"
    }
   ],
   "source": [
    "df['Text']"
   ]
  },
  {
   "cell_type": "code",
   "execution_count": null,
   "id": "35602f57",
   "metadata": {},
   "outputs": [],
   "source": []
  }
 ],
 "metadata": {
  "kernelspec": {
   "display_name": "rag_llm",
   "language": "python",
   "name": "rag_llm"
  },
  "language_info": {
   "codemirror_mode": {
    "name": "ipython",
    "version": 3
   },
   "file_extension": ".py",
   "mimetype": "text/x-python",
   "name": "python",
   "nbconvert_exporter": "python",
   "pygments_lexer": "ipython3",
   "version": "3.12.4"
  }
 },
 "nbformat": 4,
 "nbformat_minor": 5
}
