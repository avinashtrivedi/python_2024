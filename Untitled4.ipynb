{
 "cells": [
  {
   "cell_type": "code",
   "execution_count": null,
   "id": "84bc1d3c",
   "metadata": {},
   "outputs": [],
   "source": [
    "a = 1"
   ]
  },
  {
   "cell_type": "code",
   "execution_count": null,
   "id": "996a8a15",
   "metadata": {},
   "outputs": [],
   "source": [
    "b =1."
   ]
  },
  {
   "cell_type": "code",
   "execution_count": null,
   "id": "27c74356",
   "metadata": {},
   "outputs": [],
   "source": [
    "type(a)"
   ]
  },
  {
   "cell_type": "code",
   "execution_count": null,
   "id": "efef58e9",
   "metadata": {},
   "outputs": [],
   "source": [
    "type(b)"
   ]
  },
  {
   "cell_type": "code",
   "execution_count": null,
   "id": "92d1ca03",
   "metadata": {},
   "outputs": [],
   "source": [
    "a = [1,2,3,4,455]"
   ]
  },
  {
   "cell_type": "code",
   "execution_count": null,
   "id": "92d6946b",
   "metadata": {},
   "outputs": [],
   "source": [
    "a"
   ]
  },
  {
   "cell_type": "code",
   "execution_count": null,
   "id": "bd2fadd3",
   "metadata": {},
   "outputs": [],
   "source": [
    "a[-2]"
   ]
  },
  {
   "cell_type": "code",
   "execution_count": null,
   "id": "090ab431",
   "metadata": {},
   "outputs": [],
   "source": [
    "a[0:3]"
   ]
  },
  {
   "cell_type": "code",
   "execution_count": null,
   "id": "1dd15205",
   "metadata": {},
   "outputs": [],
   "source": [
    "a[-3:]"
   ]
  },
  {
   "cell_type": "code",
   "execution_count": null,
   "id": "b206e438",
   "metadata": {},
   "outputs": [],
   "source": [
    "a[::-1]"
   ]
  },
  {
   "cell_type": "code",
   "execution_count": null,
   "id": "7f82d70d",
   "metadata": {},
   "outputs": [],
   "source": [
    "a[::2]"
   ]
  },
  {
   "cell_type": "code",
   "execution_count": null,
   "id": "7fb63bf1",
   "metadata": {},
   "outputs": [],
   "source": [
    "a"
   ]
  },
  {
   "cell_type": "code",
   "execution_count": null,
   "id": "b1b74761",
   "metadata": {},
   "outputs": [],
   "source": [
    "s = 'Hello world'"
   ]
  },
  {
   "cell_type": "code",
   "execution_count": null,
   "id": "bef6abf2",
   "metadata": {},
   "outputs": [],
   "source": [
    "s[0]"
   ]
  },
  {
   "cell_type": "code",
   "execution_count": null,
   "id": "e0c078b5",
   "metadata": {},
   "outputs": [],
   "source": [
    "s[::-1]"
   ]
  },
  {
   "cell_type": "code",
   "execution_count": null,
   "id": "7b45d386",
   "metadata": {},
   "outputs": [],
   "source": [
    "s[-3:]"
   ]
  },
  {
   "cell_type": "code",
   "execution_count": null,
   "id": "efa7ec94",
   "metadata": {},
   "outputs": [],
   "source": [
    "s"
   ]
  },
  {
   "cell_type": "code",
   "execution_count": null,
   "id": "58aa4750",
   "metadata": {},
   "outputs": [],
   "source": [
    "len(s)"
   ]
  },
  {
   "cell_type": "code",
   "execution_count": null,
   "id": "3b736d65",
   "metadata": {},
   "outputs": [],
   "source": [
    "s[44:]"
   ]
  },
  {
   "cell_type": "code",
   "execution_count": null,
   "id": "7a81a3ac",
   "metadata": {},
   "outputs": [],
   "source": [
    "'hello**world'.split(sep='*')"
   ]
  },
  {
   "cell_type": "code",
   "execution_count": null,
   "id": "d11d32e5",
   "metadata": {},
   "outputs": [],
   "source": [
    "for i in [4,2,3,7,9,11]:\n",
    "    print(i)"
   ]
  },
  {
   "cell_type": "code",
   "execution_count": null,
   "id": "c75583d7",
   "metadata": {},
   "outputs": [],
   "source": [
    "for i in range(2,10,2):\n",
    "    print(i)"
   ]
  },
  {
   "cell_type": "code",
   "execution_count": null,
   "id": "3c7d517e",
   "metadata": {},
   "outputs": [],
   "source": [
    "for i in range(2,10,2):\n",
    "    print(i)"
   ]
  },
  {
   "cell_type": "code",
   "execution_count": null,
   "id": "8f74a04c",
   "metadata": {},
   "outputs": [],
   "source": []
  },
  {
   "cell_type": "code",
   "execution_count": null,
   "id": "585107bb",
   "metadata": {},
   "outputs": [],
   "source": [
    "# list(range(100))"
   ]
  },
  {
   "cell_type": "code",
   "execution_count": null,
   "id": "5e9307ef",
   "metadata": {},
   "outputs": [],
   "source": [
    "list('abcd')"
   ]
  },
  {
   "cell_type": "code",
   "execution_count": null,
   "id": "2e7a2eda",
   "metadata": {},
   "outputs": [],
   "source": [
    "a = [5,4,3,12]\n",
    "b = ['a', 'b', 'c', 'd']"
   ]
  },
  {
   "cell_type": "code",
   "execution_count": null,
   "id": "0697bd19",
   "metadata": {},
   "outputs": [],
   "source": [
    "for i in zip(a,b):\n",
    "    print(i)"
   ]
  },
  {
   "cell_type": "code",
   "execution_count": null,
   "id": "ad845cca",
   "metadata": {},
   "outputs": [],
   "source": [
    "j =0\n",
    "for i in 'helloworld':\n",
    "    print(i,j)\n",
    "    j = j + 1"
   ]
  },
  {
   "cell_type": "code",
   "execution_count": null,
   "id": "090ba4a3",
   "metadata": {},
   "outputs": [],
   "source": [
    "for indx,char in enumerate('helloworld'):\n",
    "    print(indx,char)"
   ]
  },
  {
   "cell_type": "code",
   "execution_count": null,
   "id": "56e216a7",
   "metadata": {},
   "outputs": [],
   "source": [
    "import string"
   ]
  },
  {
   "cell_type": "code",
   "execution_count": null,
   "id": "6168b6a2",
   "metadata": {},
   "outputs": [],
   "source": [
    "string.punctuation"
   ]
  },
  {
   "cell_type": "code",
   "execution_count": null,
   "id": "34a1b04c",
   "metadata": {},
   "outputs": [],
   "source": [
    "string.ascii_letters"
   ]
  },
  {
   "cell_type": "code",
   "execution_count": null,
   "id": "cbac14be",
   "metadata": {},
   "outputs": [],
   "source": [
    "string.ascii_uppercase"
   ]
  },
  {
   "cell_type": "code",
   "execution_count": null,
   "id": "6cce1844",
   "metadata": {},
   "outputs": [],
   "source": [
    "a = (2,3,4,5)"
   ]
  },
  {
   "cell_type": "code",
   "execution_count": null,
   "id": "ad0c95f7",
   "metadata": {},
   "outputs": [],
   "source": [
    "a"
   ]
  },
  {
   "cell_type": "code",
   "execution_count": null,
   "id": "3f14159e",
   "metadata": {},
   "outputs": [],
   "source": [
    "b = [3,4,5,6]"
   ]
  },
  {
   "cell_type": "code",
   "execution_count": null,
   "id": "9f79c5aa",
   "metadata": {},
   "outputs": [],
   "source": [
    "b"
   ]
  },
  {
   "cell_type": "code",
   "execution_count": null,
   "id": "bf34b86c",
   "metadata": {},
   "outputs": [],
   "source": [
    "b[1] = 100"
   ]
  },
  {
   "cell_type": "code",
   "execution_count": null,
   "id": "569bfb6f",
   "metadata": {},
   "outputs": [],
   "source": [
    "b"
   ]
  },
  {
   "cell_type": "code",
   "execution_count": null,
   "id": "4e7a0660",
   "metadata": {},
   "outputs": [],
   "source": [
    "b"
   ]
  },
  {
   "cell_type": "code",
   "execution_count": null,
   "id": "3a749a73",
   "metadata": {},
   "outputs": [],
   "source": [
    "type(a)"
   ]
  },
  {
   "cell_type": "code",
   "execution_count": null,
   "id": "624ce3d7",
   "metadata": {},
   "outputs": [],
   "source": [
    "a[2] = 100 "
   ]
  },
  {
   "cell_type": "code",
   "execution_count": null,
   "id": "53ac4d75",
   "metadata": {},
   "outputs": [],
   "source": [
    "x = set()"
   ]
  },
  {
   "cell_type": "code",
   "execution_count": null,
   "id": "af09c0d2",
   "metadata": {},
   "outputs": [],
   "source": [
    "type(x)"
   ]
  },
  {
   "cell_type": "code",
   "execution_count": null,
   "id": "18b20100",
   "metadata": {},
   "outputs": [],
   "source": [
    "x.add(22)"
   ]
  },
  {
   "cell_type": "code",
   "execution_count": null,
   "id": "8523b25c",
   "metadata": {},
   "outputs": [],
   "source": [
    "x"
   ]
  },
  {
   "cell_type": "code",
   "execution_count": null,
   "id": "f0d0b857",
   "metadata": {},
   "outputs": [],
   "source": [
    "x.add(100)"
   ]
  },
  {
   "cell_type": "code",
   "execution_count": null,
   "id": "182e4502",
   "metadata": {},
   "outputs": [],
   "source": [
    "x"
   ]
  },
  {
   "cell_type": "code",
   "execution_count": null,
   "id": "cfa67682",
   "metadata": {},
   "outputs": [],
   "source": [
    "b"
   ]
  },
  {
   "cell_type": "code",
   "execution_count": null,
   "id": "8be8d8dd",
   "metadata": {},
   "outputs": [],
   "source": [
    "set(b)"
   ]
  },
  {
   "cell_type": "code",
   "execution_count": null,
   "id": "64d434ed",
   "metadata": {},
   "outputs": [],
   "source": [
    "set([1,1,1,1,1,2,2,2,2,2])"
   ]
  },
  {
   "cell_type": "code",
   "execution_count": null,
   "id": "d97e0120",
   "metadata": {},
   "outputs": [],
   "source": [
    "a = '''Since there are a large number of texts that need to be classified on the Internet, in order to avoid the reduction of classification\n",
    "result caused by text truncation, an adaptive segmented text classification model is innovatively proposed in this paper. First, according\n",
    "to the length of different texts and the MSL set by the deep learning\n",
    "model, different segmentation strategies are executed for the texts with\n",
    "different lengths. Secondly, in order to avoid the loss of text continuity caused by segmentation, an adjacent-segment-vector-attended\n",
    "co-attention network is designed. In addition, the traditional 1D Convolution is replaced by the multi-channel Convolution to further extract\n",
    "deep hidden features. What is more, considering that the pooling operation of Convolutional Neural Network (CNN)'''"
   ]
  },
  {
   "cell_type": "code",
   "execution_count": null,
   "id": "e52f2f9f",
   "metadata": {},
   "outputs": [],
   "source": [
    "len(a.lower().split())"
   ]
  },
  {
   "cell_type": "code",
   "execution_count": null,
   "id": "a9b54ec3",
   "metadata": {},
   "outputs": [],
   "source": [
    "len(set(a.lower().split()))"
   ]
  },
  {
   "cell_type": "code",
   "execution_count": null,
   "id": "76c7cb96",
   "metadata": {},
   "outputs": [],
   "source": [
    "a = {}"
   ]
  },
  {
   "cell_type": "code",
   "execution_count": null,
   "id": "f898c27a",
   "metadata": {},
   "outputs": [],
   "source": [
    "type(a)"
   ]
  },
  {
   "cell_type": "code",
   "execution_count": null,
   "id": "ff266913",
   "metadata": {},
   "outputs": [],
   "source": [
    "a = dict()"
   ]
  },
  {
   "cell_type": "code",
   "execution_count": null,
   "id": "0d214b67",
   "metadata": {},
   "outputs": [],
   "source": [
    "a"
   ]
  },
  {
   "cell_type": "code",
   "execution_count": null,
   "id": "bd9a4146",
   "metadata": {},
   "outputs": [],
   "source": [
    "a['key1'] = 101\n",
    "a['key2'] = 102\n",
    "a['key3'] = 103\n",
    "a['key4'] = 104"
   ]
  },
  {
   "cell_type": "code",
   "execution_count": null,
   "id": "196aad99",
   "metadata": {},
   "outputs": [],
   "source": [
    "from sklearn.linear_model import LogisticRegression,LinearRegression"
   ]
  },
  {
   "cell_type": "code",
   "execution_count": null,
   "id": "1346abe5",
   "metadata": {},
   "outputs": [],
   "source": [
    "from sklearn.tree import DecisionTreeClassifier, DecisionTreeRegressor"
   ]
  },
  {
   "cell_type": "code",
   "execution_count": null,
   "id": "b4af8807",
   "metadata": {},
   "outputs": [],
   "source": []
  },
  {
   "cell_type": "code",
   "execution_count": null,
   "id": "4b64cac8",
   "metadata": {},
   "outputs": [],
   "source": [
    "models = { 'logistic': LogisticRegression(),\n",
    "          'linear':LinearRegression(),\n",
    "          'dt': DecisionTreeClassifier()\n",
    "          }"
   ]
  },
  {
   "cell_type": "code",
   "execution_count": null,
   "id": "3c62b1a5",
   "metadata": {},
   "outputs": [],
   "source": [
    "a['key2']"
   ]
  },
  {
   "cell_type": "code",
   "execution_count": null,
   "id": "77d0a9ef",
   "metadata": {},
   "outputs": [],
   "source": []
  },
  {
   "cell_type": "code",
   "execution_count": null,
   "id": "97ac8e1e",
   "metadata": {},
   "outputs": [],
   "source": [
    "models"
   ]
  },
  {
   "cell_type": "code",
   "execution_count": null,
   "id": "227368ad",
   "metadata": {},
   "outputs": [],
   "source": [
    "a"
   ]
  },
  {
   "cell_type": "code",
   "execution_count": null,
   "id": "989b31ac",
   "metadata": {},
   "outputs": [],
   "source": [
    "a.keys()"
   ]
  },
  {
   "cell_type": "code",
   "execution_count": null,
   "id": "1fe9b99c",
   "metadata": {},
   "outputs": [],
   "source": [
    "list(a)"
   ]
  },
  {
   "cell_type": "code",
   "execution_count": null,
   "id": "ec9e71c4",
   "metadata": {},
   "outputs": [],
   "source": [
    "a.values()"
   ]
  },
  {
   "cell_type": "code",
   "execution_count": null,
   "id": "b8cd1934",
   "metadata": {},
   "outputs": [],
   "source": [
    "a.items()"
   ]
  },
  {
   "cell_type": "code",
   "execution_count": null,
   "id": "a5ffd4d2",
   "metadata": {},
   "outputs": [],
   "source": [
    "for key in a:\n",
    "    print(key,a[key])"
   ]
  },
  {
   "cell_type": "code",
   "execution_count": null,
   "id": "1f0578de",
   "metadata": {},
   "outputs": [],
   "source": [
    "for key,val in a.items():\n",
    "    print(key,val)"
   ]
  },
  {
   "cell_type": "code",
   "execution_count": null,
   "id": "10ce6fb0",
   "metadata": {},
   "outputs": [],
   "source": [
    "for i in a.items():\n",
    "    print(i[0],i[1])"
   ]
  },
  {
   "cell_type": "code",
   "execution_count": null,
   "id": "4fa2ae77",
   "metadata": {},
   "outputs": [],
   "source": [
    "for model_name in models:\n",
    "    print(models[model_name])\n",
    "    clf = models[model_name]\n",
    "    clf."
   ]
  },
  {
   "cell_type": "code",
   "execution_count": null,
   "id": "1fc5a0ae",
   "metadata": {},
   "outputs": [],
   "source": [
    "a['khkjj']"
   ]
  },
  {
   "cell_type": "code",
   "execution_count": null,
   "id": "f40f863b",
   "metadata": {},
   "outputs": [],
   "source": [
    "if 'khkjj' in a:\n",
    "    print('yes')\n",
    "else:\n",
    "    print('no')"
   ]
  },
  {
   "cell_type": "code",
   "execution_count": null,
   "id": "9740c394",
   "metadata": {},
   "outputs": [],
   "source": [
    "a.get('key111','500')"
   ]
  },
  {
   "cell_type": "code",
   "execution_count": null,
   "id": "77247a33",
   "metadata": {},
   "outputs": [],
   "source": [
    "1==2"
   ]
  },
  {
   "cell_type": "code",
   "execution_count": null,
   "id": "f5e04e64",
   "metadata": {},
   "outputs": [],
   "source": [
    "c,b,f,d = 1,2,3,4"
   ]
  },
  {
   "cell_type": "code",
   "execution_count": null,
   "id": "582564d3",
   "metadata": {},
   "outputs": [],
   "source": [
    "c,b,f,d"
   ]
  },
  {
   "cell_type": "code",
   "execution_count": null,
   "id": "e9fb8c09",
   "metadata": {},
   "outputs": [],
   "source": [
    "for i in range(1000):\n",
    "    pass"
   ]
  },
  {
   "cell_type": "code",
   "execution_count": null,
   "id": "d1de1241",
   "metadata": {},
   "outputs": [],
   "source": [
    "for i in range(1000):\n",
    "    ..."
   ]
  },
  {
   "cell_type": "code",
   "execution_count": null,
   "id": "d4ae22f3",
   "metadata": {},
   "outputs": [],
   "source": [
    "for i in range(1000):\n",
    "    3"
   ]
  },
  {
   "cell_type": "code",
   "execution_count": null,
   "id": "dbf0e2db",
   "metadata": {},
   "outputs": [],
   "source": [
    "for i in range(10):\n",
    "    if i==4:\n",
    "        break\n",
    "else:\n",
    "    print('in else')"
   ]
  },
  {
   "cell_type": "code",
   "execution_count": null,
   "id": "9446067d",
   "metadata": {},
   "outputs": [],
   "source": [
    "def sq(x):\n",
    "    return x*x"
   ]
  },
  {
   "cell_type": "code",
   "execution_count": null,
   "id": "408ef3ba",
   "metadata": {},
   "outputs": [],
   "source": [
    "sq(4)"
   ]
  },
  {
   "cell_type": "code",
   "execution_count": null,
   "id": "cd5aaa80",
   "metadata": {},
   "outputs": [],
   "source": [
    "f = lambda x: x*x"
   ]
  },
  {
   "cell_type": "code",
   "execution_count": null,
   "id": "0e37825f",
   "metadata": {},
   "outputs": [],
   "source": [
    "f(14)"
   ]
  },
  {
   "cell_type": "code",
   "execution_count": null,
   "id": "53c4ca13",
   "metadata": {},
   "outputs": [],
   "source": [
    "a['key2'] = 22\n",
    "a['key3'] = 10\n",
    "a['key4'] = 24"
   ]
  },
  {
   "cell_type": "code",
   "execution_count": null,
   "id": "7241a7a6",
   "metadata": {},
   "outputs": [],
   "source": [
    "a"
   ]
  },
  {
   "cell_type": "code",
   "execution_count": null,
   "id": "42c24aa6",
   "metadata": {},
   "outputs": [],
   "source": [
    "b = [4,3,12,5,6,7]"
   ]
  },
  {
   "cell_type": "code",
   "execution_count": null,
   "id": "4a182576",
   "metadata": {},
   "outputs": [],
   "source": [
    "b."
   ]
  },
  {
   "cell_type": "code",
   "execution_count": null,
   "id": "7961efe6",
   "metadata": {},
   "outputs": [],
   "source": [
    "sorted(b)"
   ]
  },
  {
   "cell_type": "code",
   "execution_count": null,
   "id": "94f1120d",
   "metadata": {},
   "outputs": [],
   "source": [
    "b"
   ]
  },
  {
   "cell_type": "code",
   "execution_count": null,
   "id": "68285b60",
   "metadata": {},
   "outputs": [],
   "source": [
    "b = b.sort()"
   ]
  },
  {
   "cell_type": "code",
   "execution_count": null,
   "id": "dedacb6f",
   "metadata": {},
   "outputs": [],
   "source": [
    "b"
   ]
  },
  {
   "cell_type": "code",
   "execution_count": null,
   "id": "674ae1bd",
   "metadata": {},
   "outputs": [],
   "source": [
    "sorted(a)"
   ]
  },
  {
   "cell_type": "code",
   "execution_count": null,
   "id": "9b03e4d3",
   "metadata": {},
   "outputs": [],
   "source": [
    "a = {'dc': 101, 'aa': 22, 'b': 10, 'ab': 24}"
   ]
  },
  {
   "cell_type": "code",
   "execution_count": null,
   "id": "719a8944",
   "metadata": {},
   "outputs": [],
   "source": [
    "dict(sorted(a.items(),key=lambda x:x[1]))"
   ]
  },
  {
   "cell_type": "code",
   "execution_count": null,
   "id": "6278b88b",
   "metadata": {},
   "outputs": [],
   "source": [
    "a.items()"
   ]
  },
  {
   "cell_type": "code",
   "execution_count": null,
   "id": "186e9b9d",
   "metadata": {},
   "outputs": [],
   "source": [
    "import mylibrary as glass"
   ]
  },
  {
   "cell_type": "code",
   "execution_count": 1,
   "id": "d0e19d6f",
   "metadata": {},
   "outputs": [],
   "source": [
    "from mylibrary import abc"
   ]
  },
  {
   "cell_type": "code",
   "execution_count": 3,
   "id": "4d50a966",
   "metadata": {},
   "outputs": [],
   "source": [
    "a = abc(3,4)"
   ]
  },
  {
   "cell_type": "code",
   "execution_count": 4,
   "id": "fa600531",
   "metadata": {},
   "outputs": [
    {
     "name": "stdout",
     "output_type": "stream",
     "text": [
      "7\n"
     ]
    }
   ],
   "source": [
    "a.add()"
   ]
  },
  {
   "cell_type": "code",
   "execution_count": null,
   "id": "ce627f22",
   "metadata": {},
   "outputs": [],
   "source": [
    "a."
   ]
  }
 ],
 "metadata": {
  "kernelspec": {
   "display_name": "Python 3 (ipykernel)",
   "language": "python",
   "name": "python3"
  },
  "language_info": {
   "codemirror_mode": {
    "name": "ipython",
    "version": 3
   },
   "file_extension": ".py",
   "mimetype": "text/x-python",
   "name": "python",
   "nbconvert_exporter": "python",
   "pygments_lexer": "ipython3",
   "version": "3.9.15"
  }
 },
 "nbformat": 4,
 "nbformat_minor": 5
}
