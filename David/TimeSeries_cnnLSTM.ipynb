{
 "cells": [
  {
   "cell_type": "code",
   "execution_count": 3,
   "id": "6ba2a2b5",
   "metadata": {},
   "outputs": [],
   "source": [
    "import pickle\n",
    "from itw_tools import get_demands, no_date_gaps, get_forecasts\n",
    "import torch\n",
    "import numpy as np\n",
    "import torch.nn as nn\n",
    "import torch.nn.functional as F\n",
    "from torch.utils.data import TensorDataset, DataLoader\n",
    "# how many previous datapoint to check\n",
    "lookback = 30"
   ]
  },
  {
   "cell_type": "code",
   "execution_count": 4,
   "id": "c6ca006c",
   "metadata": {},
   "outputs": [],
   "source": [
    "# get the data\n",
    "with open(\"testdata.pkl\", \"rb\") as f:\n",
    "    d = pickle.load(f)\n",
    "e = d[0]\n",
    "#dvtest=d[1]\n",
    "p, tp, d = get_demands(e)\n",
    "pfc, tpfc, fc = get_forecasts(e)\n",
    "timeseries = np.array(d).astype('float32')"
   ]
  },
  {
   "cell_type": "code",
   "execution_count": 5,
   "id": "a9d25c7b",
   "metadata": {},
   "outputs": [],
   "source": [
    "# reshaping to get in the format (N rows, 1 Column )\n",
    "# -1 means number of rows will be automatically decided by Puthon\n",
    "timeseries = timeseries.reshape(-1,1)"
   ]
  },
  {
   "cell_type": "code",
   "execution_count": 6,
   "id": "a48dfecd",
   "metadata": {},
   "outputs": [],
   "source": [
    "def create_dataset(dataset, lookback):\n",
    "    \"\"\"Transform a time series into a prediction dataset\n",
    "\n",
    "    Args:\n",
    "        dataset: A numpy array of time series, first dimension is the time steps\n",
    "        lookback: Size of window for prediction\n",
    "    \"\"\"\n",
    "    X, y = [], []\n",
    "    for i in range(len(dataset)-lookback):\n",
    "        feature = dataset[i:i+lookback]\n",
    "        target = dataset[i+lookback]  #dataset[i+1:i+lookback+1]\n",
    "        X.append(feature)\n",
    "        y.append(target)\n",
    "        \n",
    "    X = np.array(X)\n",
    "    y = np.array(y)\n",
    "    return torch.tensor(X, dtype=torch.float32), torch.tensor(y, dtype=torch.float32)"
   ]
  },
  {
   "cell_type": "code",
   "execution_count": 7,
   "id": "5ee7a276",
   "metadata": {},
   "outputs": [],
   "source": [
    "# normalize the data to bring into common range of 0-1 to converse the model\n",
    "from sklearn.preprocessing import MinMaxScaler\n",
    "sc = MinMaxScaler()\n",
    "timeseries = sc.fit_transform(timeseries)"
   ]
  },
  {
   "cell_type": "code",
   "execution_count": 8,
   "id": "b17ad932",
   "metadata": {},
   "outputs": [],
   "source": [
    "# get X and y\n",
    "X, y = create_dataset(timeseries, lookback=lookback)"
   ]
  },
  {
   "cell_type": "code",
   "execution_count": 9,
   "id": "c16e2575",
   "metadata": {},
   "outputs": [],
   "source": [
    "# split data in test and training cases\n",
    "train_size = int(len(y) * 0.80)"
   ]
  },
  {
   "cell_type": "code",
   "execution_count": 10,
   "id": "82e39ff3",
   "metadata": {},
   "outputs": [],
   "source": [
    "X_train, X_test = X[:train_size], X[train_size:]\n",
    "y_train, y_test = y[:train_size], y[train_size:]"
   ]
  },
  {
   "cell_type": "code",
   "execution_count": 11,
   "id": "af851c9f",
   "metadata": {},
   "outputs": [],
   "source": [
    "X_train.shape\n",
    "X_test.shape\n",
    "# reshaping to match RNN model input format\n",
    "X_train = np.reshape(X_train, (X_train.shape[0], 1, X_train.shape[1]))\n",
    "X_test = np.reshape(X_test, (X_test.shape[0], 1, X_test.shape[1]))"
   ]
  },
  {
   "cell_type": "code",
   "execution_count": 12,
   "id": "29d50cb7",
   "metadata": {},
   "outputs": [
    {
     "data": {
      "text/plain": [
       "torch.Size([77, 1, 30])"
      ]
     },
     "execution_count": 12,
     "metadata": {},
     "output_type": "execute_result"
    }
   ],
   "source": [
    "X_train.shape\n",
    "X_test.shape"
   ]
  },
  {
   "cell_type": "code",
   "execution_count": 13,
   "id": "bed1bc6f",
   "metadata": {},
   "outputs": [],
   "source": [
    "train_loader = DataLoader(TensorDataset(X_train, y_train), \\\n",
    "                                  batch_size = lookback, shuffle = True)\n",
    "test_loader = DataLoader(TensorDataset(X_test, y_test), \\\n",
    "                                 batch_size = lookback, shuffle = False)"
   ]
  },
  {
   "cell_type": "markdown",
   "id": "b241c918",
   "metadata": {},
   "source": [
    "# CODE"
   ]
  },
  {
   "cell_type": "code",
   "execution_count": 14,
   "id": "df4855fc",
   "metadata": {},
   "outputs": [
    {
     "ename": "ModuleNotFoundError",
     "evalue": "No module named 'optuna'",
     "output_type": "error",
     "traceback": [
      "\u001b[1;31m---------------------------------------------------------------------------\u001b[0m",
      "\u001b[1;31mModuleNotFoundError\u001b[0m                       Traceback (most recent call last)",
      "Cell \u001b[1;32mIn[14], line 1\u001b[0m\n\u001b[1;32m----> 1\u001b[0m \u001b[38;5;28;01mimport\u001b[39;00m \u001b[38;5;21;01moptuna\u001b[39;00m\n\u001b[0;32m      2\u001b[0m \u001b[38;5;28;01mimport\u001b[39;00m \u001b[38;5;21;01mtorch\u001b[39;00m\n\u001b[0;32m      3\u001b[0m \u001b[38;5;28;01mimport\u001b[39;00m \u001b[38;5;21;01mtorch\u001b[39;00m\u001b[38;5;21;01m.\u001b[39;00m\u001b[38;5;21;01mnn\u001b[39;00m \u001b[38;5;28;01mas\u001b[39;00m \u001b[38;5;21;01mnn\u001b[39;00m\n",
      "\u001b[1;31mModuleNotFoundError\u001b[0m: No module named 'optuna'"
     ]
    }
   ],
   "source": [
    "import optuna\n",
    "import torch\n",
    "import torch.nn as nn\n",
    "import torch.optim as optim\n",
    "from torch.utils.data import DataLoader, TensorDataset\n",
    "\n",
    "# Define your CNN-LSTM model\n",
    "class CNNLSTM(nn.Module):\n",
    "    def __init__(self, input_shape, num_classes, params):\n",
    "        super(CNNLSTM, self).__init__()\n",
    "        self.cnn = nn.Sequential(\n",
    "            nn.Conv2d(input_shape[0], params['conv1_filters'], kernel_size=params['conv1_kernel_size'], padding=1),\n",
    "            nn.ReLU(),\n",
    "            nn.MaxPool2d(kernel_size=2),\n",
    "            nn.Conv2d(params['conv1_filters'], params['conv2_filters'], kernel_size=params['conv2_kernel_size'], padding=1),\n",
    "            nn.ReLU(),\n",
    "            nn.MaxPool2d(kernel_size=2)\n",
    "        )\n",
    "        self.lstm = nn.LSTM(input_size=params['lstm_input_size'], hidden_size=params['lstm_hidden_size'], num_layers=params['lstm_layers'], batch_first=True)\n",
    "        self.fc = nn.Linear(params['lstm_hidden_size'], num_classes)\n",
    "\n",
    "    def forward(self, x):\n",
    "        x = self.cnn(x)\n",
    "        x = x.view(x.size(0), x.size(1), -1)  # Flatten for LSTM\n",
    "        _, (x, _) = self.lstm(x)\n",
    "        x = self.fc(x[-1])  # Use the last LSTM output\n",
    "        return x\n",
    "\n",
    "# Define the objective function for Optuna\n",
    "def objective(trial):\n",
    "    # Define hyperparameters to optimize\n",
    "    params = {\n",
    "        'conv1_filters': trial.suggest_int('conv1_filters', 16, 64),\n",
    "        'conv1_kernel_size': trial.suggest_int('conv1_kernel_size', 3, 5),\n",
    "        'conv2_filters': trial.suggest_int('conv2_filters', 16, 64),\n",
    "        'conv2_kernel_size': trial.suggest_int('conv2_kernel_size', 3, 5),\n",
    "        'lstm_input_size': trial.suggest_int('lstm_input_size', 64, 256),\n",
    "        'lstm_hidden_size': trial.suggest_int('lstm_hidden_size', 64, 256),\n",
    "        'lstm_layers': trial.suggest_int('lstm_layers', 1, 3)\n",
    "    }\n",
    "    \n",
    "    # Create the model\n",
    "    model = CNNLSTM(input_shape=(3, 32, 32), num_classes=10, params=params)\n",
    "    \n",
    "    # Define loss function and optimizer\n",
    "    criterion = nn.CrossEntropyLoss()\n",
    "    optimizer = optim.Adam(model.parameters(), lr=0.001)\n",
    "    \n",
    "    # Train the model\n",
    "    for epoch in range(5):\n",
    "        for inputs, labels in train_loader:\n",
    "            optimizer.zero_grad()\n",
    "            outputs = model(inputs)\n",
    "            loss = criterion(outputs, labels)\n",
    "            loss.backward()\n",
    "            optimizer.step()\n",
    "    \n",
    "    # Evaluate the model on the validation set\n",
    "    model.eval()\n",
    "    correct = 0\n",
    "    total = 0\n",
    "    with torch.no_grad():\n",
    "        for inputs, labels in test_loader:\n",
    "            outputs = model(inputs)\n",
    "            _, predicted = torch.max(outputs.data, 1)\n",
    "            total += labels.size(0)\n",
    "            correct += (predicted == labels).sum().item()\n",
    "    accuracy = correct / total\n",
    "    \n",
    "    return accuracy\n",
    "\n",
    "# Run Optuna optimization\n",
    "study = optuna.create_study(direction='maximize')\n",
    "study.optimize(objective, n_trials=10)\n",
    "\n",
    "# Get the best hyperparameters\n",
    "best_params = study.best_params\n",
    "best_accuracy = study.best_value\n"
   ]
  },
  {
   "cell_type": "code",
   "execution_count": 15,
   "id": "54078c18",
   "metadata": {},
   "outputs": [
    {
     "name": "stderr",
     "output_type": "stream",
     "text": [
      "WARNING: Ignoring invalid distribution -atplotlib (c:\\users\\avitr\\anaconda3\\lib\\site-packages)\n",
      "WARNING: Ignoring invalid distribution -cipy (c:\\users\\avitr\\anaconda3\\lib\\site-packages)\n",
      "WARNING: Ignoring invalid distribution -rotobuf (c:\\users\\avitr\\anaconda3\\lib\\site-packages)\n",
      "ERROR: Could not install packages due to an OSError: [Errno 2] No such file or directory: 'c:\\\\users\\\\avitr\\\\anaconda3\\\\lib\\\\site-packages\\\\PyYAML-5.4.1.dist-info\\\\METADATA'\n",
      "\n"
     ]
    }
   ],
   "source": [
    "! pip install -q optuna"
   ]
  },
  {
   "cell_type": "code",
   "execution_count": null,
   "id": "e853bfdf",
   "metadata": {},
   "outputs": [],
   "source": []
  }
 ],
 "metadata": {
  "kernelspec": {
   "display_name": "Python (myNEWenv)",
   "language": "python",
   "name": "mynewenv"
  },
  "language_info": {
   "codemirror_mode": {
    "name": "ipython",
    "version": 3
   },
   "file_extension": ".py",
   "mimetype": "text/x-python",
   "name": "python",
   "nbconvert_exporter": "python",
   "pygments_lexer": "ipython3",
   "version": "3.10.12"
  }
 },
 "nbformat": 4,
 "nbformat_minor": 5
}
