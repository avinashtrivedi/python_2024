{
 "cells": [
  {
   "cell_type": "markdown",
   "metadata": {},
   "source": [
    "The provided project for running an experiment with the BioBART-v2-large model for summarization tasks. It includes installation of required libraries, downloading a dataset, preprocessing, creating data loaders, loading the model, and setting up the training parameters.\n",
    "\n",
    "Here's a breakdown of what each part does:\n",
    "\n",
    "* Installation of Dependencies: The script starts with the installation of necessary Python packages like torch, bitsandbytes, trl (Transformers Reinforcement Learning), transformers, peft (Parameter Efficient Fine-tuning), accelerate, datasets, and sentencepiece.\n",
    "\n",
    "* Restart the Environment: To ensure that all installed packages are properly loaded, the script restarts the runtime environment.\n",
    "\n",
    "* Importing Libraries: It imports required libraries such as pandas, transformers, torch, gdown, zipfile, and os.\n",
    "\n",
    "* Summarization Model Information: A brief description of the BioBART-v2-large model is provided, highlighting its design for biomedical tasks and its robust performance on various summarization benchmarks.\n",
    "\n",
    "* Dataset Loading and Preprocessing: The script includes functions to download and extract a dataset from Google Drive, then reads the data into a pandas DataFrame. It preprocesses the data by cleaning it using a custom function that removes newline characters and repeated special characters.\n",
    "\n",
    "* Dataset Preparation: It then creates the training and validation datasets by formatting the dialogue and summary into a suitable format for the model.\n",
    "\n",
    "* Tokenization and Encoding: The script tokenizes and encodes the training and validation datasets using the tokenizer from the pre-trained BioBART-v2-large model.\n",
    "\n",
    "* Setting Training Parameters: It defines a batch size and a learning rate for the training process.\n",
    "\n",
    "* Data Loaders Creation: It creates data loaders for both training and validation datasets with the specified batch size.\n",
    "\n",
    "* Model Loading: The BioBART-v2-large model is loaded with specific configuration settings that enable 4-bit quantization for efficiency. It then enables gradient checkpointing to reduce memory usage during training and prepares the model for k-bit training.\n",
    "\n",
    "* Model Architecture Overview: It prints out the model's architecture, which could help in identifying which modules to target for optimization or further fine-tuning.\n",
    "\n",
    "This script is an end-to-end pipeline for running summarization tasks on a specific dataset using the BioBART-v2-large model. It is likely intended for use in a research or experimentation context where summarization performance on biomedical text is being evaluated.\n"
   ]
  },
  {
   "cell_type": "markdown",
   "metadata": {
    "id": "rRxzwJ4DJmB_"
   },
   "source": [
    "# Install the required dependencies."
   ]
  },
  {
   "cell_type": "code",
   "execution_count": 1,
   "metadata": {
    "colab": {
     "base_uri": "https://localhost:8080/"
    },
    "id": "SWIBVqBt6_up",
    "outputId": "473762f3-06af-4b6c-e9ad-e185763711d0"
   },
   "outputs": [
    {
     "name": "stdout",
     "output_type": "stream",
     "text": [
      "Requirement already satisfied: torch in /usr/local/lib/python3.10/dist-packages (2.2.1+cu121)\n",
      "Requirement already satisfied: filelock in /usr/local/lib/python3.10/dist-packages (from torch) (3.13.3)\n",
      "Requirement already satisfied: typing-extensions>=4.8.0 in /usr/local/lib/python3.10/dist-packages (from torch) (4.10.0)\n",
      "Requirement already satisfied: sympy in /usr/local/lib/python3.10/dist-packages (from torch) (1.12)\n",
      "Requirement already satisfied: networkx in /usr/local/lib/python3.10/dist-packages (from torch) (3.2.1)\n",
      "Requirement already satisfied: jinja2 in /usr/local/lib/python3.10/dist-packages (from torch) (3.1.3)\n",
      "Requirement already satisfied: fsspec in /usr/local/lib/python3.10/dist-packages (from torch) (2023.6.0)\n",
      "Collecting nvidia-cuda-nvrtc-cu12==12.1.105 (from torch)\n",
      "  Downloading nvidia_cuda_nvrtc_cu12-12.1.105-py3-none-manylinux1_x86_64.whl (23.7 MB)\n",
      "\u001b[2K     \u001b[90m━━━━━━━━━━━━━━━━━━━━━━━━━━━━━━━━━━━━━━━━\u001b[0m \u001b[32m23.7/23.7 MB\u001b[0m \u001b[31m28.1 MB/s\u001b[0m eta \u001b[36m0:00:00\u001b[0m\n",
      "\u001b[?25hCollecting nvidia-cuda-runtime-cu12==12.1.105 (from torch)\n",
      "  Downloading nvidia_cuda_runtime_cu12-12.1.105-py3-none-manylinux1_x86_64.whl (823 kB)\n",
      "\u001b[2K     \u001b[90m━━━━━━━━━━━━━━━━━━━━━━━━━━━━━━━━━━━━━━━━\u001b[0m \u001b[32m823.6/823.6 kB\u001b[0m \u001b[31m18.9 MB/s\u001b[0m eta \u001b[36m0:00:00\u001b[0m\n",
      "\u001b[?25hCollecting nvidia-cuda-cupti-cu12==12.1.105 (from torch)\n",
      "  Downloading nvidia_cuda_cupti_cu12-12.1.105-py3-none-manylinux1_x86_64.whl (14.1 MB)\n",
      "\u001b[2K     \u001b[90m━━━━━━━━━━━━━━━━━━━━━━━━━━━━━━━━━━━━━━━━\u001b[0m \u001b[32m14.1/14.1 MB\u001b[0m \u001b[31m25.5 MB/s\u001b[0m eta \u001b[36m0:00:00\u001b[0m\n",
      "\u001b[?25hCollecting nvidia-cudnn-cu12==8.9.2.26 (from torch)\n",
      "  Downloading nvidia_cudnn_cu12-8.9.2.26-py3-none-manylinux1_x86_64.whl (731.7 MB)\n",
      "\u001b[2K     \u001b[90m━━━━━━━━━━━━━━━━━━━━━━━━━━━━━━━━━━━━━━━━\u001b[0m \u001b[32m731.7/731.7 MB\u001b[0m \u001b[31m2.0 MB/s\u001b[0m eta \u001b[36m0:00:00\u001b[0m\n",
      "\u001b[?25hCollecting nvidia-cublas-cu12==12.1.3.1 (from torch)\n",
      "  Downloading nvidia_cublas_cu12-12.1.3.1-py3-none-manylinux1_x86_64.whl (410.6 MB)\n",
      "\u001b[2K     \u001b[90m━━━━━━━━━━━━━━━━━━━━━━━━━━━━━━━━━━━━━━━━\u001b[0m \u001b[32m410.6/410.6 MB\u001b[0m \u001b[31m2.2 MB/s\u001b[0m eta \u001b[36m0:00:00\u001b[0m\n",
      "\u001b[?25hCollecting nvidia-cufft-cu12==11.0.2.54 (from torch)\n",
      "  Downloading nvidia_cufft_cu12-11.0.2.54-py3-none-manylinux1_x86_64.whl (121.6 MB)\n",
      "\u001b[2K     \u001b[90m━━━━━━━━━━━━━━━━━━━━━━━━━━━━━━━━━━━━━━━━\u001b[0m \u001b[32m121.6/121.6 MB\u001b[0m \u001b[31m9.1 MB/s\u001b[0m eta \u001b[36m0:00:00\u001b[0m\n",
      "\u001b[?25hCollecting nvidia-curand-cu12==10.3.2.106 (from torch)\n",
      "  Downloading nvidia_curand_cu12-10.3.2.106-py3-none-manylinux1_x86_64.whl (56.5 MB)\n",
      "\u001b[2K     \u001b[90m━━━━━━━━━━━━━━━━━━━━━━━━━━━━━━━━━━━━━━━━\u001b[0m \u001b[32m56.5/56.5 MB\u001b[0m \u001b[31m10.9 MB/s\u001b[0m eta \u001b[36m0:00:00\u001b[0m\n",
      "\u001b[?25hCollecting nvidia-cusolver-cu12==11.4.5.107 (from torch)\n",
      "  Downloading nvidia_cusolver_cu12-11.4.5.107-py3-none-manylinux1_x86_64.whl (124.2 MB)\n",
      "\u001b[2K     \u001b[90m━━━━━━━━━━━━━━━━━━━━━━━━━━━━━━━━━━━━━━━━\u001b[0m \u001b[32m124.2/124.2 MB\u001b[0m \u001b[31m7.2 MB/s\u001b[0m eta \u001b[36m0:00:00\u001b[0m\n",
      "\u001b[?25hCollecting nvidia-cusparse-cu12==12.1.0.106 (from torch)\n",
      "  Downloading nvidia_cusparse_cu12-12.1.0.106-py3-none-manylinux1_x86_64.whl (196.0 MB)\n",
      "\u001b[2K     \u001b[90m━━━━━━━━━━━━━━━━━━━━━━━━━━━━━━━━━━━━━━━━\u001b[0m \u001b[32m196.0/196.0 MB\u001b[0m \u001b[31m2.5 MB/s\u001b[0m eta \u001b[36m0:00:00\u001b[0m\n",
      "\u001b[?25hCollecting nvidia-nccl-cu12==2.19.3 (from torch)\n",
      "  Downloading nvidia_nccl_cu12-2.19.3-py3-none-manylinux1_x86_64.whl (166.0 MB)\n",
      "\u001b[2K     \u001b[90m━━━━━━━━━━━━━━━━━━━━━━━━━━━━━━━━━━━━━━━━\u001b[0m \u001b[32m166.0/166.0 MB\u001b[0m \u001b[31m7.8 MB/s\u001b[0m eta \u001b[36m0:00:00\u001b[0m\n",
      "\u001b[?25hCollecting nvidia-nvtx-cu12==12.1.105 (from torch)\n",
      "  Downloading nvidia_nvtx_cu12-12.1.105-py3-none-manylinux1_x86_64.whl (99 kB)\n",
      "\u001b[2K     \u001b[90m━━━━━━━━━━━━━━━━━━━━━━━━━━━━━━━━━━━━━━━━\u001b[0m \u001b[32m99.1/99.1 kB\u001b[0m \u001b[31m12.3 MB/s\u001b[0m eta \u001b[36m0:00:00\u001b[0m\n",
      "\u001b[?25hRequirement already satisfied: triton==2.2.0 in /usr/local/lib/python3.10/dist-packages (from torch) (2.2.0)\n",
      "Collecting nvidia-nvjitlink-cu12 (from nvidia-cusolver-cu12==11.4.5.107->torch)\n",
      "  Downloading nvidia_nvjitlink_cu12-12.4.99-py3-none-manylinux2014_x86_64.whl (21.1 MB)\n",
      "\u001b[2K     \u001b[90m━━━━━━━━━━━━━━━━━━━━━━━━━━━━━━━━━━━━━━━━\u001b[0m \u001b[32m21.1/21.1 MB\u001b[0m \u001b[31m46.7 MB/s\u001b[0m eta \u001b[36m0:00:00\u001b[0m\n",
      "\u001b[?25hRequirement already satisfied: MarkupSafe>=2.0 in /usr/local/lib/python3.10/dist-packages (from jinja2->torch) (2.1.5)\n",
      "Requirement already satisfied: mpmath>=0.19 in /usr/local/lib/python3.10/dist-packages (from sympy->torch) (1.3.0)\n",
      "Installing collected packages: nvidia-nvtx-cu12, nvidia-nvjitlink-cu12, nvidia-nccl-cu12, nvidia-curand-cu12, nvidia-cufft-cu12, nvidia-cuda-runtime-cu12, nvidia-cuda-nvrtc-cu12, nvidia-cuda-cupti-cu12, nvidia-cublas-cu12, nvidia-cusparse-cu12, nvidia-cudnn-cu12, nvidia-cusolver-cu12\n",
      "Successfully installed nvidia-cublas-cu12-12.1.3.1 nvidia-cuda-cupti-cu12-12.1.105 nvidia-cuda-nvrtc-cu12-12.1.105 nvidia-cuda-runtime-cu12-12.1.105 nvidia-cudnn-cu12-8.9.2.26 nvidia-cufft-cu12-11.0.2.54 nvidia-curand-cu12-10.3.2.106 nvidia-cusolver-cu12-11.4.5.107 nvidia-cusparse-cu12-12.1.0.106 nvidia-nccl-cu12-2.19.3 nvidia-nvjitlink-cu12-12.4.99 nvidia-nvtx-cu12-12.1.105\n",
      "\u001b[2K     \u001b[90m━━━━━━━━━━━━━━━━━━━━━━━━━━━━━━━━━━━━━━━━\u001b[0m \u001b[32m102.2/102.2 MB\u001b[0m \u001b[31m9.6 MB/s\u001b[0m eta \u001b[36m0:00:00\u001b[0m\n",
      "\u001b[2K     \u001b[90m━━━━━━━━━━━━━━━━━━━━━━━━━━━━━━━━━━━━━━━━\u001b[0m \u001b[32m225.0/225.0 kB\u001b[0m \u001b[31m27.1 MB/s\u001b[0m eta \u001b[36m0:00:00\u001b[0m\n",
      "\u001b[2K     \u001b[90m━━━━━━━━━━━━━━━━━━━━━━━━━━━━━━━━━━━━━━━━\u001b[0m \u001b[32m290.1/290.1 kB\u001b[0m \u001b[31m31.1 MB/s\u001b[0m eta \u001b[36m0:00:00\u001b[0m\n",
      "\u001b[2K     \u001b[90m━━━━━━━━━━━━━━━━━━━━━━━━━━━━━━━━━━━━━━━━\u001b[0m \u001b[32m510.5/510.5 kB\u001b[0m \u001b[31m46.2 MB/s\u001b[0m eta \u001b[36m0:00:00\u001b[0m\n",
      "\u001b[2K     \u001b[90m━━━━━━━━━━━━━━━━━━━━━━━━━━━━━━━━━━━━━━━━\u001b[0m \u001b[32m79.8/79.8 kB\u001b[0m \u001b[31m10.1 MB/s\u001b[0m eta \u001b[36m0:00:00\u001b[0m\n",
      "\u001b[2K     \u001b[90m━━━━━━━━━━━━━━━━━━━━━━━━━━━━━━━━━━━━━━━━\u001b[0m \u001b[32m116.3/116.3 kB\u001b[0m \u001b[31m14.6 MB/s\u001b[0m eta \u001b[36m0:00:00\u001b[0m\n",
      "\u001b[2K     \u001b[90m━━━━━━━━━━━━━━━━━━━━━━━━━━━━━━━━━━━━━━━━\u001b[0m \u001b[32m194.1/194.1 kB\u001b[0m \u001b[31m23.4 MB/s\u001b[0m eta \u001b[36m0:00:00\u001b[0m\n",
      "\u001b[2K     \u001b[90m━━━━━━━━━━━━━━━━━━━━━━━━━━━━━━━━━━━━━━━━\u001b[0m \u001b[32m134.8/134.8 kB\u001b[0m \u001b[31m16.8 MB/s\u001b[0m eta \u001b[36m0:00:00\u001b[0m\n",
      "\u001b[?25h  Installing build dependencies ... \u001b[?25l\u001b[?25hdone\n",
      "  Getting requirements to build wheel ... \u001b[?25l\u001b[?25hdone\n",
      "  Preparing metadata (pyproject.toml) ... \u001b[?25l\u001b[?25hdone\n",
      "  Building wheel for transformers (pyproject.toml) ... \u001b[?25l\u001b[?25hdone\n",
      "  Installing build dependencies ... \u001b[?25l\u001b[?25hdone\n",
      "  Getting requirements to build wheel ... \u001b[?25l\u001b[?25hdone\n",
      "  Preparing metadata (pyproject.toml) ... \u001b[?25l\u001b[?25hdone\n",
      "  Building wheel for peft (pyproject.toml) ... \u001b[?25l\u001b[?25hdone\n",
      "  Installing build dependencies ... \u001b[?25l\u001b[?25hdone\n",
      "  Getting requirements to build wheel ... \u001b[?25l\u001b[?25hdone\n",
      "  Preparing metadata (pyproject.toml) ... \u001b[?25l\u001b[?25hdone\n",
      "  Building wheel for accelerate (pyproject.toml) ... \u001b[?25l\u001b[?25hdone\n"
     ]
    }
   ],
   "source": [
    "!pip install torch\n",
    "!pip install -q -U bitsandbytes trl\n",
    "!pip install -q -U git+https://github.com/huggingface/transformers.git\n",
    "!pip install -q -U git+https://github.com/huggingface/peft.git\n",
    "!pip install -q -U git+https://github.com/huggingface/accelerate.git\n",
    "!pip install -q datasets sentencepiece scipy"
   ]
  },
  {
   "cell_type": "markdown",
   "metadata": {
    "id": "_8vBH2-dMSuC"
   },
   "source": [
    "**Restart the environment**"
   ]
  },
  {
   "cell_type": "code",
   "execution_count": 2,
   "metadata": {
    "id": "vHALXAbwQ28h"
   },
   "outputs": [],
   "source": [
    "exit()"
   ]
  },
  {
   "cell_type": "markdown",
   "metadata": {
    "id": "PpnjZa2RQ3f4"
   },
   "source": [
    "----"
   ]
  },
  {
   "cell_type": "markdown",
   "metadata": {
    "id": "va29klnwKHDF"
   },
   "source": [
    "# Import necessary libraries"
   ]
  },
  {
   "cell_type": "code",
   "execution_count": 1,
   "metadata": {
    "id": "BjEH_4_86mhE"
   },
   "outputs": [],
   "source": [
    "import pandas as pd\n",
    "import transformers\n",
    "import torch\n",
    "import gdown\n",
    "import zipfile\n",
    "import os"
   ]
  },
  {
   "cell_type": "markdown",
   "metadata": {
    "id": "4ESKvGWJLBF3"
   },
   "source": [
    "# Summarization model\n",
    "BioBART-v2-large, Developed as an extension of BioBART, this specialized variant is designed specifically for biomedical tasks. With its robust transformer-based architecture and incorporation of techniques such as pre-training and fine-tuning, BioBART-v2-large excels at generating exceptional abstractive summaries from input text. Having undergone training on an extensive and diverse dataset, it has achieved remarkable performance in various summarization benchmarks and competitions. As a result, BioBART-v2-large has gained widespread recognition within the natural language processing (NLP) community for its remarkable ability to produce coherent and concise summaries"
   ]
  },
  {
   "cell_type": "markdown",
   "metadata": {
    "id": "Dg658fzoKIqf"
   },
   "source": [
    "## Load the dataset"
   ]
  },
  {
   "cell_type": "markdown",
   "metadata": {
    "id": "XHTmRQ_ZwcCY"
   },
   "source": [
    "### Get the data from the drive"
   ]
  },
  {
   "cell_type": "code",
   "execution_count": 2,
   "metadata": {
    "id": "J6GTghgXyhFV"
   },
   "outputs": [],
   "source": [
    "\n",
    "def download_zip_from_drive(drive_link, output_path):\n",
    "    \"\"\"Download a zip file from a Google Drive link using gdown.\"\"\"\n",
    "    gdown.download(drive_link, output_path, quiet=False)\n",
    "    print(\"Zip file downloaded successfully.\")\n",
    "\n",
    "def unzip_file(zip_path, extract_dir):\n",
    "    \"\"\"Extract the contents of a zip file into a given directory.\"\"\"\n",
    "    # Create the directory if it doesn't exist\n",
    "    os.makedirs(extract_dir, exist_ok=True)\n",
    "\n",
    "    # Extract the contents of the zip file\n",
    "    with zipfile.ZipFile(zip_path, 'r') as zip_ref:\n",
    "        zip_ref.extractall(extract_dir)\n",
    "    print(\"Zip file extracted successfully.\")\n"
   ]
  },
  {
   "cell_type": "code",
   "execution_count": 3,
   "metadata": {
    "id": "KqFjFDb0yv2g"
   },
   "outputs": [],
   "source": [
    "# https://drive.google.com/file/d/1zMj26O5ElYlzJUn5ooajf6eG7AOhuOu2/view?usp=sharing\n",
    "drive_link = \"https://drive.google.com/uc?id=1zMj26O5ElYlzJUn5ooajf6eG7AOhuOu2\"\n",
    "zip_output_path = \"/content/MTS-Dialog-main.zip\"\n",
    "DATASET_BASE_DIR = \"/content/\""
   ]
  },
  {
   "cell_type": "code",
   "execution_count": 4,
   "metadata": {
    "colab": {
     "base_uri": "https://localhost:8080/"
    },
    "id": "UdlGc9-Q3oNy",
    "outputId": "13e5388c-523c-4e50-bc1a-f14e8cc4da28"
   },
   "outputs": [
    {
     "name": "stderr",
     "output_type": "stream",
     "text": [
      "Downloading...\n",
      "From: https://drive.google.com/uc?id=1zMj26O5ElYlzJUn5ooajf6eG7AOhuOu2\n",
      "To: /content/MTS-Dialog-main.zip\n",
      "100%|██████████| 2.61M/2.61M [00:00<00:00, 222MB/s]"
     ]
    },
    {
     "name": "stdout",
     "output_type": "stream",
     "text": [
      "Zip file downloaded successfully.\n"
     ]
    },
    {
     "name": "stderr",
     "output_type": "stream",
     "text": [
      "\n"
     ]
    }
   ],
   "source": [
    "download_zip_from_drive(drive_link, zip_output_path)"
   ]
  },
  {
   "cell_type": "code",
   "execution_count": 5,
   "metadata": {
    "colab": {
     "base_uri": "https://localhost:8080/"
    },
    "id": "ZQAykokCyx6S",
    "outputId": "4904c070-6a63-4b30-e564-8db8249c3b84"
   },
   "outputs": [
    {
     "name": "stdout",
     "output_type": "stream",
     "text": [
      "Zip file extracted successfully.\n"
     ]
    }
   ],
   "source": [
    "# Extract the files\n",
    "unzip_file(zip_output_path, DATASET_BASE_DIR)"
   ]
  },
  {
   "cell_type": "code",
   "execution_count": 6,
   "metadata": {
    "colab": {
     "base_uri": "https://localhost:8080/",
     "height": 237
    },
    "id": "c_RIGgqQ6x0T",
    "outputId": "c0bf7185-d94c-4791-e514-e2f27e3d7b89"
   },
   "outputs": [
    {
     "data": {
      "application/vnd.google.colaboratory.intrinsic+json": {
       "summary": "{\n  \"name\": \"df\",\n  \"rows\": 1201,\n  \"fields\": [\n    {\n      \"column\": \"ID\",\n      \"properties\": {\n        \"dtype\": \"number\",\n        \"std\": 346,\n        \"min\": 0,\n        \"max\": 1200,\n        \"num_unique_values\": 1201,\n        \"samples\": [\n          243,\n          1024,\n          233\n        ],\n        \"semantic_type\": \"\",\n        \"description\": \"\"\n      }\n    },\n    {\n      \"column\": \"section_header\",\n      \"properties\": {\n        \"dtype\": \"category\",\n        \"num_unique_values\": 20,\n        \"samples\": [\n          \"GENHX\",\n          \"IMAGING\",\n          \"IMMUNIZATIONS\"\n        ],\n        \"semantic_type\": \"\",\n        \"description\": \"\"\n      }\n    },\n    {\n      \"column\": \"section_text\",\n      \"properties\": {\n        \"dtype\": \"string\",\n        \"num_unique_values\": 1071,\n        \"samples\": [\n          \"Upper respiratory infection.\",\n          \"1.  He is status post left inguinal hernia repair. 2.  Prostate cancer diagnosed in December 2004, which was a Gleason 3+4.  He is now receiving Lupron.\",\n          \"He has a very remote history of tobacco use.  He has one to two alcoholic drinks per day.  He is married.\"\n        ],\n        \"semantic_type\": \"\",\n        \"description\": \"\"\n      }\n    },\n    {\n      \"column\": \"dialogue\",\n      \"properties\": {\n        \"dtype\": \"string\",\n        \"num_unique_values\": 1199,\n        \"samples\": [\n          \"Doctor: Welcome back to the clinic. How are you feeling today? \\r\\nPatient: Thank you. I am doing better. \\r\\nDoctor: It looks like we are following up on your severe osteoarthritis in both knees. And you also have been experiencing some flexion contracture limitations. \\r\\nPatient: Um hum.\\r\\nDoctor: How is your physical therapy going? \\r\\nPatient: It is going really well. She kicks my butt but it seems to be helping. Doing my exercises at home is really helping. \\r\\nDoctor: Were you not doing them in the beginning? \\r\\nPatient: No, I wasn't. She got on me to start doing them and I have definitely seen the difference. \\r\\nDoctor: Have you experienced any worsening of pain since you were last seen? \\r\\nPatient: Well, the right knee is worse than the left? It mostly hurts after physical therapy. \\r\\nDoctor: Can you describe what the pain feels like? \\r\\nPatient: It feels achy. \\r\\nDoctor: Is it a continuous pain, or? \\r\\nPatient: No. It is not all the time. Every once and a while. It feels stiff all the time. \\r\\nDoctor: Any weakness or instability? \\r\\nPatient: No. \\r\\nDoctor: Any burning sensations associated with the pain? \\r\\nPatient: No. \\r\\nDoctor: How long have you been dealing with this? \\r\\nPatient: Several months. \\r\\nDoctor: Have you had any trouble sleeping?  \\r\\nPatient: No. When I sit down or lie down at night there's no pain.\\r\\nDoctor: So, the pain is when you are weight bearing, right? \\r\\nPatient: Yeah. And it hurts when I move around. It makes it difficult to do things. \\r\\nDoctor: Have you noticed any pain with the cold weather change? \\r\\nPatient: No, I have not noticed anything. \\r\\nDoctor: I am just going to take a look here. \\r\\nPatient: Okay. \\r\\nDoctor: I don't see any swelling or redness. And I don't feel any warmth coming from the area. Have you noticed any of these symptoms? \\r\\nPatient: Nope. \\r\\nDoctor: Any radiating pain through the knees here? \\r\\nPatient: No. \\r\\nDoctor: Any pain any where else in the body? \\r\\nPatient: No, just the knees. \\r\\nDoctor: So, no pain in the hips or back? \\r\\nPatient: Nope.\",\n          \"Doctor: I will ask you a few questions about your family history, sir.\\r\\nPatient: That's okay. \\r\\nDoctor: Does anyone in your family ever have any medical problems?\\r\\nPatient: Both of my parents had diabetes.\",\n          \"Doctor: Does anyone else in your family have aneurysm problem?\\r\\nPatient: Well, my grandmother had it. She actually passed away due to brain aneurysm. \\r\\nDoctor: Oh, okay.\"\n        ],\n        \"semantic_type\": \"\",\n        \"description\": \"\"\n      }\n    }\n  ]\n}",
       "type": "dataframe",
       "variable_name": "df"
      },
      "text/html": [
       "\n",
       "  <div id=\"df-5cb1e58a-6e20-40d9-8bdd-833c6878182a\" class=\"colab-df-container\">\n",
       "    <div>\n",
       "<style scoped>\n",
       "    .dataframe tbody tr th:only-of-type {\n",
       "        vertical-align: middle;\n",
       "    }\n",
       "\n",
       "    .dataframe tbody tr th {\n",
       "        vertical-align: top;\n",
       "    }\n",
       "\n",
       "    .dataframe thead th {\n",
       "        text-align: right;\n",
       "    }\n",
       "</style>\n",
       "<table border=\"1\" class=\"dataframe\">\n",
       "  <thead>\n",
       "    <tr style=\"text-align: right;\">\n",
       "      <th></th>\n",
       "      <th>section_header</th>\n",
       "      <th>section_text</th>\n",
       "      <th>dialogue</th>\n",
       "    </tr>\n",
       "    <tr>\n",
       "      <th>ID</th>\n",
       "      <th></th>\n",
       "      <th></th>\n",
       "      <th></th>\n",
       "    </tr>\n",
       "  </thead>\n",
       "  <tbody>\n",
       "    <tr>\n",
       "      <th>0</th>\n",
       "      <td>GENHX</td>\n",
       "      <td>The patient is a 76-year-old white female who ...</td>\n",
       "      <td>Doctor: What brings you back into the clinic t...</td>\n",
       "    </tr>\n",
       "    <tr>\n",
       "      <th>1</th>\n",
       "      <td>GENHX</td>\n",
       "      <td>The patient is a 25-year-old right-handed Cauc...</td>\n",
       "      <td>Doctor: How're you feeling today?  \\r\\nPatient...</td>\n",
       "    </tr>\n",
       "    <tr>\n",
       "      <th>2</th>\n",
       "      <td>GENHX</td>\n",
       "      <td>This is a 22-year-old female, who presented to...</td>\n",
       "      <td>Doctor: Hello, miss. What is the reason for yo...</td>\n",
       "    </tr>\n",
       "    <tr>\n",
       "      <th>3</th>\n",
       "      <td>MEDICATIONS</td>\n",
       "      <td>Prescribed medications were Salmeterol inhaler...</td>\n",
       "      <td>Doctor: Are you taking any over the counter me...</td>\n",
       "    </tr>\n",
       "    <tr>\n",
       "      <th>4</th>\n",
       "      <td>CC</td>\n",
       "      <td>Burn, right arm.</td>\n",
       "      <td>Doctor: Hi, how are you? \\r\\nPatient: I burned...</td>\n",
       "    </tr>\n",
       "  </tbody>\n",
       "</table>\n",
       "</div>\n",
       "    <div class=\"colab-df-buttons\">\n",
       "\n",
       "  <div class=\"colab-df-container\">\n",
       "    <button class=\"colab-df-convert\" onclick=\"convertToInteractive('df-5cb1e58a-6e20-40d9-8bdd-833c6878182a')\"\n",
       "            title=\"Convert this dataframe to an interactive table.\"\n",
       "            style=\"display:none;\">\n",
       "\n",
       "  <svg xmlns=\"http://www.w3.org/2000/svg\" height=\"24px\" viewBox=\"0 -960 960 960\">\n",
       "    <path d=\"M120-120v-720h720v720H120Zm60-500h600v-160H180v160Zm220 220h160v-160H400v160Zm0 220h160v-160H400v160ZM180-400h160v-160H180v160Zm440 0h160v-160H620v160ZM180-180h160v-160H180v160Zm440 0h160v-160H620v160Z\"/>\n",
       "  </svg>\n",
       "    </button>\n",
       "\n",
       "  <style>\n",
       "    .colab-df-container {\n",
       "      display:flex;\n",
       "      gap: 12px;\n",
       "    }\n",
       "\n",
       "    .colab-df-convert {\n",
       "      background-color: #E8F0FE;\n",
       "      border: none;\n",
       "      border-radius: 50%;\n",
       "      cursor: pointer;\n",
       "      display: none;\n",
       "      fill: #1967D2;\n",
       "      height: 32px;\n",
       "      padding: 0 0 0 0;\n",
       "      width: 32px;\n",
       "    }\n",
       "\n",
       "    .colab-df-convert:hover {\n",
       "      background-color: #E2EBFA;\n",
       "      box-shadow: 0px 1px 2px rgba(60, 64, 67, 0.3), 0px 1px 3px 1px rgba(60, 64, 67, 0.15);\n",
       "      fill: #174EA6;\n",
       "    }\n",
       "\n",
       "    .colab-df-buttons div {\n",
       "      margin-bottom: 4px;\n",
       "    }\n",
       "\n",
       "    [theme=dark] .colab-df-convert {\n",
       "      background-color: #3B4455;\n",
       "      fill: #D2E3FC;\n",
       "    }\n",
       "\n",
       "    [theme=dark] .colab-df-convert:hover {\n",
       "      background-color: #434B5C;\n",
       "      box-shadow: 0px 1px 3px 1px rgba(0, 0, 0, 0.15);\n",
       "      filter: drop-shadow(0px 1px 2px rgba(0, 0, 0, 0.3));\n",
       "      fill: #FFFFFF;\n",
       "    }\n",
       "  </style>\n",
       "\n",
       "    <script>\n",
       "      const buttonEl =\n",
       "        document.querySelector('#df-5cb1e58a-6e20-40d9-8bdd-833c6878182a button.colab-df-convert');\n",
       "      buttonEl.style.display =\n",
       "        google.colab.kernel.accessAllowed ? 'block' : 'none';\n",
       "\n",
       "      async function convertToInteractive(key) {\n",
       "        const element = document.querySelector('#df-5cb1e58a-6e20-40d9-8bdd-833c6878182a');\n",
       "        const dataTable =\n",
       "          await google.colab.kernel.invokeFunction('convertToInteractive',\n",
       "                                                    [key], {});\n",
       "        if (!dataTable) return;\n",
       "\n",
       "        const docLinkHtml = 'Like what you see? Visit the ' +\n",
       "          '<a target=\"_blank\" href=https://colab.research.google.com/notebooks/data_table.ipynb>data table notebook</a>'\n",
       "          + ' to learn more about interactive tables.';\n",
       "        element.innerHTML = '';\n",
       "        dataTable['output_type'] = 'display_data';\n",
       "        await google.colab.output.renderOutput(dataTable, element);\n",
       "        const docLink = document.createElement('div');\n",
       "        docLink.innerHTML = docLinkHtml;\n",
       "        element.appendChild(docLink);\n",
       "      }\n",
       "    </script>\n",
       "  </div>\n",
       "\n",
       "\n",
       "<div id=\"df-f8403a4c-de17-4546-9fa5-76bf83558d9e\">\n",
       "  <button class=\"colab-df-quickchart\" onclick=\"quickchart('df-f8403a4c-de17-4546-9fa5-76bf83558d9e')\"\n",
       "            title=\"Suggest charts\"\n",
       "            style=\"display:none;\">\n",
       "\n",
       "<svg xmlns=\"http://www.w3.org/2000/svg\" height=\"24px\"viewBox=\"0 0 24 24\"\n",
       "     width=\"24px\">\n",
       "    <g>\n",
       "        <path d=\"M19 3H5c-1.1 0-2 .9-2 2v14c0 1.1.9 2 2 2h14c1.1 0 2-.9 2-2V5c0-1.1-.9-2-2-2zM9 17H7v-7h2v7zm4 0h-2V7h2v10zm4 0h-2v-4h2v4z\"/>\n",
       "    </g>\n",
       "</svg>\n",
       "  </button>\n",
       "\n",
       "<style>\n",
       "  .colab-df-quickchart {\n",
       "      --bg-color: #E8F0FE;\n",
       "      --fill-color: #1967D2;\n",
       "      --hover-bg-color: #E2EBFA;\n",
       "      --hover-fill-color: #174EA6;\n",
       "      --disabled-fill-color: #AAA;\n",
       "      --disabled-bg-color: #DDD;\n",
       "  }\n",
       "\n",
       "  [theme=dark] .colab-df-quickchart {\n",
       "      --bg-color: #3B4455;\n",
       "      --fill-color: #D2E3FC;\n",
       "      --hover-bg-color: #434B5C;\n",
       "      --hover-fill-color: #FFFFFF;\n",
       "      --disabled-bg-color: #3B4455;\n",
       "      --disabled-fill-color: #666;\n",
       "  }\n",
       "\n",
       "  .colab-df-quickchart {\n",
       "    background-color: var(--bg-color);\n",
       "    border: none;\n",
       "    border-radius: 50%;\n",
       "    cursor: pointer;\n",
       "    display: none;\n",
       "    fill: var(--fill-color);\n",
       "    height: 32px;\n",
       "    padding: 0;\n",
       "    width: 32px;\n",
       "  }\n",
       "\n",
       "  .colab-df-quickchart:hover {\n",
       "    background-color: var(--hover-bg-color);\n",
       "    box-shadow: 0 1px 2px rgba(60, 64, 67, 0.3), 0 1px 3px 1px rgba(60, 64, 67, 0.15);\n",
       "    fill: var(--button-hover-fill-color);\n",
       "  }\n",
       "\n",
       "  .colab-df-quickchart-complete:disabled,\n",
       "  .colab-df-quickchart-complete:disabled:hover {\n",
       "    background-color: var(--disabled-bg-color);\n",
       "    fill: var(--disabled-fill-color);\n",
       "    box-shadow: none;\n",
       "  }\n",
       "\n",
       "  .colab-df-spinner {\n",
       "    border: 2px solid var(--fill-color);\n",
       "    border-color: transparent;\n",
       "    border-bottom-color: var(--fill-color);\n",
       "    animation:\n",
       "      spin 1s steps(1) infinite;\n",
       "  }\n",
       "\n",
       "  @keyframes spin {\n",
       "    0% {\n",
       "      border-color: transparent;\n",
       "      border-bottom-color: var(--fill-color);\n",
       "      border-left-color: var(--fill-color);\n",
       "    }\n",
       "    20% {\n",
       "      border-color: transparent;\n",
       "      border-left-color: var(--fill-color);\n",
       "      border-top-color: var(--fill-color);\n",
       "    }\n",
       "    30% {\n",
       "      border-color: transparent;\n",
       "      border-left-color: var(--fill-color);\n",
       "      border-top-color: var(--fill-color);\n",
       "      border-right-color: var(--fill-color);\n",
       "    }\n",
       "    40% {\n",
       "      border-color: transparent;\n",
       "      border-right-color: var(--fill-color);\n",
       "      border-top-color: var(--fill-color);\n",
       "    }\n",
       "    60% {\n",
       "      border-color: transparent;\n",
       "      border-right-color: var(--fill-color);\n",
       "    }\n",
       "    80% {\n",
       "      border-color: transparent;\n",
       "      border-right-color: var(--fill-color);\n",
       "      border-bottom-color: var(--fill-color);\n",
       "    }\n",
       "    90% {\n",
       "      border-color: transparent;\n",
       "      border-bottom-color: var(--fill-color);\n",
       "    }\n",
       "  }\n",
       "</style>\n",
       "\n",
       "  <script>\n",
       "    async function quickchart(key) {\n",
       "      const quickchartButtonEl =\n",
       "        document.querySelector('#' + key + ' button');\n",
       "      quickchartButtonEl.disabled = true;  // To prevent multiple clicks.\n",
       "      quickchartButtonEl.classList.add('colab-df-spinner');\n",
       "      try {\n",
       "        const charts = await google.colab.kernel.invokeFunction(\n",
       "            'suggestCharts', [key], {});\n",
       "      } catch (error) {\n",
       "        console.error('Error during call to suggestCharts:', error);\n",
       "      }\n",
       "      quickchartButtonEl.classList.remove('colab-df-spinner');\n",
       "      quickchartButtonEl.classList.add('colab-df-quickchart-complete');\n",
       "    }\n",
       "    (() => {\n",
       "      let quickchartButtonEl =\n",
       "        document.querySelector('#df-f8403a4c-de17-4546-9fa5-76bf83558d9e button');\n",
       "      quickchartButtonEl.style.display =\n",
       "        google.colab.kernel.accessAllowed ? 'block' : 'none';\n",
       "    })();\n",
       "  </script>\n",
       "</div>\n",
       "\n",
       "    </div>\n",
       "  </div>\n"
      ],
      "text/plain": [
       "   section_header                                       section_text  \\\n",
       "ID                                                                     \n",
       "0           GENHX  The patient is a 76-year-old white female who ...   \n",
       "1           GENHX  The patient is a 25-year-old right-handed Cauc...   \n",
       "2           GENHX  This is a 22-year-old female, who presented to...   \n",
       "3     MEDICATIONS  Prescribed medications were Salmeterol inhaler...   \n",
       "4              CC                                   Burn, right arm.   \n",
       "\n",
       "                                             dialogue  \n",
       "ID                                                     \n",
       "0   Doctor: What brings you back into the clinic t...  \n",
       "1   Doctor: How're you feeling today?  \\r\\nPatient...  \n",
       "2   Doctor: Hello, miss. What is the reason for yo...  \n",
       "3   Doctor: Are you taking any over the counter me...  \n",
       "4   Doctor: Hi, how are you? \\r\\nPatient: I burned...  "
      ]
     },
     "execution_count": 6,
     "metadata": {},
     "output_type": "execute_result"
    }
   ],
   "source": [
    "## load the train data\n",
    "df  = pd.read_csv(os.path.join(DATASET_BASE_DIR,\"MTS-Dialog-main\",\"Main-Dataset\",\"MTS-Dialog-TrainingSet.csv\")).set_index(\"ID\")\n",
    "# load the validation data\n",
    "df_test1  = pd.read_csv(os.path.join(DATASET_BASE_DIR,\"MTS-Dialog-main\",\"Main-Dataset\",\"MTS-Dialog-TestSet-1-MEDIQA-Chat-2023.csv\")).set_index(\"ID\")\n",
    "# drop nans\n",
    "df_test1 = df_test1.dropna()\n",
    "df = df.dropna()\n",
    "\n",
    "df.head()"
   ]
  },
  {
   "cell_type": "code",
   "execution_count": 7,
   "metadata": {
    "colab": {
     "base_uri": "https://localhost:8080/"
    },
    "id": "ES-Cu6GVXyXK",
    "outputId": "50baf053-10fb-4dfa-c1ca-5f5aedb45828"
   },
   "outputs": [
    {
     "data": {
      "text/plain": [
       "section_header                                                GENHX\n",
       "section_text      The patient is a 76-year-old white female who ...\n",
       "dialogue          Doctor: What brings you back into the clinic t...\n",
       "Name: 0, dtype: object"
      ]
     },
     "execution_count": 7,
     "metadata": {},
     "output_type": "execute_result"
    }
   ],
   "source": [
    "df.iloc[0]"
   ]
  },
  {
   "cell_type": "markdown",
   "metadata": {
    "id": "emg33Z_GKL4u"
   },
   "source": [
    "## Clean and create the dataset"
   ]
  },
  {
   "cell_type": "code",
   "execution_count": 8,
   "metadata": {
    "id": "GjvD-2IpXDIw"
   },
   "outputs": [],
   "source": [
    "import re\n",
    "\n",
    "def clean_input_content(text):\n",
    "    # Remove newline characters (\\n)\n",
    "    text = text.replace(\"\\n\", \"\").replace(\"\\r\",\" \")\n",
    "    # Remove repeated special characters\n",
    "    text = re.sub(r\"([^\\w\\s])\\1+\", r\"\\1\", text)\n",
    "    return  text\n"
   ]
  },
  {
   "cell_type": "code",
   "execution_count": 9,
   "metadata": {
    "colab": {
     "base_uri": "https://localhost:8080/",
     "height": 122
    },
    "id": "IQHVnop9XFY5",
    "outputId": "0a7b561b-c093-4e2b-89b2-8a6a5cec2fb9"
   },
   "outputs": [
    {
     "data": {
      "application/vnd.google.colaboratory.intrinsic+json": {
       "type": "string"
      },
      "text/plain": [
       "'Doctor: What brings you back into the clinic today, miss?  Patient: I came in for a refill of my blood pressure medicine.  Doctor: It looks like Doctor Kumar followed up with you last time regarding your hypertension, osteoarthritis, osteoporosis, hypothyroidism, allergic rhinitis and kidney stones.  Have you noticed any changes or do you have any concerns regarding these issues?   Patient: No.  Doctor: Have you had any fever or chills, cough, congestion, nausea, vomiting, chest pain, chest pressure? Patient: No.   Doctor: Great. Also, for our records, how old are you and what race do you identify yourself as? Patient: I am seventy six years old and identify as a white female.'"
      ]
     },
     "execution_count": 9,
     "metadata": {},
     "output_type": "execute_result"
    }
   ],
   "source": [
    "# clean the data\n",
    "df[\"section_text\"] = df.section_text.apply(lambda x:  clean_input_content(x))\n",
    "df[\"dialogue\"] = df.dialogue.apply(lambda x:  clean_input_content(x))\n",
    "\n",
    "\n",
    "df_test1[\"section_text\"] = df_test1.section_text.apply(lambda x:  clean_input_content(x))\n",
    "df_test1[\"dialogue\"] = df_test1.dialogue.apply(lambda x:  clean_input_content(x))\n",
    "\n",
    "\n",
    "df[\"dialogue\"][0]"
   ]
  },
  {
   "cell_type": "code",
   "execution_count": 10,
   "metadata": {
    "colab": {
     "base_uri": "https://localhost:8080/"
    },
    "id": "bBu12NgZ7luT",
    "outputId": "72338358-98af-42b5-f81b-fa012e25003b"
   },
   "outputs": [
    {
     "data": {
      "text/plain": [
       "{'dialogue': 'GENHX</s>Doctor: What brings you back into the clinic today, miss?  Patient: I came in for a refill of my blood pressure medicine.  Doctor: It looks like Doctor Kumar followed up with you last time regarding your hypertension, osteoarthritis, osteoporosis, hypothyroidism, allergic rhinitis and kidney stones.  Have you noticed any changes or do you have any concerns regarding these issues?   Patient: No.  Doctor: Have you had any fever or chills, cough, congestion, nausea, vomiting, chest pain, chest pressure? Patient: No.   Doctor: Great. Also, for our records, how old are you and what race do you identify yourself as? Patient: I am seventy six years old and identify as a white female.',\n",
       " 'summary': 'The patient is a 76-year-old white female who presents to the clinic today originally for hypertension and a med check.  She has a history of hypertension, osteoarthritis, osteoporosis, hypothyroidism, allergic rhinitis and kidney stones.  Since her last visit she has been followed by Dr. Kumar.  Those issues are stable.  She has had no fever or chills, cough, congestion, nausea, vomiting, chest pain, chest pressure.'}"
      ]
     },
     "execution_count": 10,
     "metadata": {},
     "output_type": "execute_result"
    }
   ],
   "source": [
    "dataset_train = [   {\"dialogue\": head+\"</s>\"+text, \"summary\": summ} for text,head, summ in  zip(df.dialogue,df.section_header,df.section_text)]\n",
    "dataset_val = [   {\"dialogue\": head+\"</s>\"+text, \"summary\": summ} for text,head, summ in  zip(df_test1.dialogue,df_test1.section_header,df_test1.section_text)]\n",
    "dataset_train[0]"
   ]
  },
  {
   "cell_type": "markdown",
   "metadata": {
    "id": "FTlZo-sBKPEM"
   },
   "source": [
    "## Encode the dataset"
   ]
  },
  {
   "cell_type": "code",
   "execution_count": 11,
   "metadata": {
    "colab": {
     "base_uri": "https://localhost:8080/",
     "height": 269,
     "referenced_widgets": [
      "e7ca2ea85fe54ef3b7975096677407ef",
      "80fa743f34324b80bca188234abe9202",
      "a254bca17765456d8d2831f7e9fbd580",
      "db43a12ee2b9434cb0a2e07925469395",
      "e861b2a10b3a4d6690471591def373c6",
      "9c4439bbf33547d0b7f5cf7d633192c8",
      "fbeaaa5838c64292bdc5d3e77077cfcc",
      "68d33e280d774c7282e2c91492ae5808",
      "95bec9e420ff41d3ba2937382b9a2121",
      "b75650872e0b4bf18382f8b98ebec5db",
      "94de34c239d64ad4a86e9db02d4ae844",
      "2713a8963f0143b8902d5addb1591950",
      "76efe3616ae7493cb18393fb29ec6c8f",
      "b8e2ca66b3b149aebb684939dba762e5",
      "1ff8a4b01a6a4023a82bd52ace693396",
      "e480ab89c90e4abb9c435bce077ec04f",
      "08041492a65548cabe3db95a6461f1f6",
      "da7802435d664c29bd3cb5381fe92791",
      "70a61c398d03422490ad197fcdf02b81",
      "880d36e466e146baafeeff9c975bc39b",
      "3774e527828d4e68987b26c6db6755c9",
      "b14ee993ad90415ca9cfd7e78eeeb590",
      "a915715f71aa450c950be226c98de379",
      "66f7dc4793a54edd8034370f3bd04638",
      "9dc53888d8584437ad65c434d8e4dd1d",
      "ea6e29f31cac4fdfad7118f59943a98c",
      "bef70c529d8c4cd5b6373c70a7bc9727",
      "d710d58c10e040328956c4c7d27993b9",
      "d1d5244b14a34c068b5edbe82edfef5e",
      "b1dbec38e36b4bca94164eaf5e836f3d",
      "4c80f683187f4ba1af988c482a3e7b4b",
      "740d90a54cc54b4a91f33bc81e8944cf",
      "f46cb06c45f0443796a2088de60731d9",
      "8fc7d61b042b451aaac7aec4a1e3a3e9",
      "875fad4f8c084747a0f25836ecd7f391",
      "c5a1d3d39fce4a0498285c0ea78b8954",
      "39e15556b790427c9baecf6ead48f15e",
      "1befc0e7064c469e97a1920a1f5628af",
      "5d8231e73fb74b338bc27d9ffb7f4263",
      "7fca012cd2174803932a4c7606d0607c",
      "5cac3b1731844248b3d939711e43c4d4",
      "88d79a3f4d944cb68c05ea3bb90e5de8",
      "9df2a5d136f949b2b70ac4b85ce59cde",
      "8cb3a6918c764954b5903defd54d8a09"
     ]
    },
    "id": "BZTHFNW77cGq",
    "outputId": "3ddc1b0b-ba04-454c-b053-71afc1a17283"
   },
   "outputs": [
    {
     "name": "stderr",
     "output_type": "stream",
     "text": [
      "/usr/local/lib/python3.10/dist-packages/huggingface_hub/utils/_token.py:88: UserWarning: \n",
      "The secret `HF_TOKEN` does not exist in your Colab secrets.\n",
      "To authenticate with the Hugging Face Hub, create a token in your settings tab (https://huggingface.co/settings/tokens), set it as secret in your Google Colab and restart your session.\n",
      "You will be able to reuse this secret in all of your notebooks.\n",
      "Please note that authentication is recommended but still optional to access public models or datasets.\n",
      "  warnings.warn(\n"
     ]
    },
    {
     "data": {
      "application/vnd.jupyter.widget-view+json": {
       "model_id": "e7ca2ea85fe54ef3b7975096677407ef",
       "version_major": 2,
       "version_minor": 0
      },
      "text/plain": [
       "tokenizer_config.json:   0%|          | 0.00/1.09k [00:00<?, ?B/s]"
      ]
     },
     "metadata": {},
     "output_type": "display_data"
    },
    {
     "data": {
      "application/vnd.jupyter.widget-view+json": {
       "model_id": "2713a8963f0143b8902d5addb1591950",
       "version_major": 2,
       "version_minor": 0
      },
      "text/plain": [
       "vocab.json:   0%|          | 0.00/1.59M [00:00<?, ?B/s]"
      ]
     },
     "metadata": {},
     "output_type": "display_data"
    },
    {
     "data": {
      "application/vnd.jupyter.widget-view+json": {
       "model_id": "a915715f71aa450c950be226c98de379",
       "version_major": 2,
       "version_minor": 0
      },
      "text/plain": [
       "merges.txt:   0%|          | 0.00/892k [00:00<?, ?B/s]"
      ]
     },
     "metadata": {},
     "output_type": "display_data"
    },
    {
     "data": {
      "application/vnd.jupyter.widget-view+json": {
       "model_id": "8fc7d61b042b451aaac7aec4a1e3a3e9",
       "version_major": 2,
       "version_minor": 0
      },
      "text/plain": [
       "special_tokens_map.json:   0%|          | 0.00/772 [00:00<?, ?B/s]"
      ]
     },
     "metadata": {},
     "output_type": "display_data"
    }
   ],
   "source": [
    "from transformers import AutoTokenizer, AutoModelForSeq2SeqLM, BitsAndBytesConfig\n",
    "\n",
    "device = \"cuda\" if torch.cuda.is_available() else \"cpu\"\n",
    "\n",
    "# Get the Tokenizer\n",
    "MODEL_NAME =\"GanjinZero/biobart-v2-large\"\n",
    "tokenizer = AutoTokenizer.from_pretrained(MODEL_NAME)\n",
    "\n",
    "# Encode the train data\n",
    "inputs_train = tokenizer([example['dialogue'] for example in dataset_train], truncation=True, padding=True,max_length =1024, return_tensors='pt')\n",
    "labels_train = tokenizer([example['summary'] for example in dataset_train], truncation=True, padding=True,max_length =1024, return_tensors='pt')\n",
    "\n",
    "\n",
    "\n",
    "# Encode the val data\n",
    "inputs_val = tokenizer([example['dialogue'] for example in dataset_val], truncation=True, padding=True,max_length =1024, return_tensors='pt')\n",
    "labels_val = tokenizer([example['summary'] for example in dataset_val], truncation=True, padding=True,max_length =1024, return_tensors='pt')\n"
   ]
  },
  {
   "cell_type": "code",
   "execution_count": 12,
   "metadata": {
    "id": "H1HGnVrK7VPx"
   },
   "outputs": [],
   "source": [
    "# Define training parameters for summarization model\n",
    "batch_size = 1\n",
    "learning_rate = 1e-3"
   ]
  },
  {
   "cell_type": "markdown",
   "metadata": {
    "id": "pfDirqoVKfd0"
   },
   "source": [
    "## Create the data loader"
   ]
  },
  {
   "cell_type": "code",
   "execution_count": 13,
   "metadata": {
    "id": "w3nWtRD682mw"
   },
   "outputs": [],
   "source": [
    "# Create the data Loader for training\n",
    "data_train = torch.utils.data.TensorDataset(inputs_train['input_ids'], inputs_train['attention_mask'], labels_train['input_ids'], labels_train['attention_mask'])\n",
    "data_loader_train = torch.utils.data.DataLoader(data_train, batch_size=batch_size, shuffle=True)\n",
    "\n",
    "# Create the data Loader for Validation\n",
    "data_val = torch.utils.data.TensorDataset(inputs_val['input_ids'], inputs_val['attention_mask'], labels_val['input_ids'], labels_val['attention_mask'])\n",
    "data_loader_val = torch.utils.data.DataLoader(data_val, batch_size=batch_size, shuffle=True)"
   ]
  },
  {
   "cell_type": "markdown",
   "metadata": {
    "id": "qFHxreVyKsKR"
   },
   "source": [
    "## Load the pre-trained model"
   ]
  },
  {
   "cell_type": "code",
   "execution_count": 22,
   "metadata": {
    "id": "Vq8j2ULy64Oo"
   },
   "outputs": [],
   "source": [
    "# Load pre-trained  model for summarization using the Bouble Qunatization\n",
    "bnb_config = BitsAndBytesConfig(\n",
    "    load_in_4bit=True,\n",
    "    bnb_4bit_use_double_quant=True,\n",
    "    bnb_4bit_quant_type=\"nf4\",\n",
    "    bnb_4bit_compute_dtype=torch.bfloat16\n",
    ")\n",
    "\n",
    "summarization_model = AutoModelForSeq2SeqLM.from_pretrained(MODEL_NAME, quantization_config=bnb_config, device_map= device)\n",
    "summarization_model.save_pretrained(\"summarization_model\")\n"
   ]
  },
  {
   "cell_type": "markdown",
   "metadata": {
    "id": "Mp2gMi1ZzGET"
   },
   "source": [
    "Enabling Gradient Checkpointing and Preparing Model for k-bit Training"
   ]
  },
  {
   "cell_type": "code",
   "execution_count": 25,
   "metadata": {
    "id": "a9EUEDAl0ss3"
   },
   "outputs": [],
   "source": [
    "from peft import prepare_model_for_kbit_training\n",
    "# Enable gradient checkpointing for the 'summarization_model', which helps reduce memory usage during training.\n",
    "summarization_model.gradient_checkpointing_enable()\n",
    "\n",
    "# Prepare the 'summarization_model' for k-bit training using the 'prepare_model_for_kbit_training' function.\n",
    "# t optimizes the model for training with k-bit quantization to achieve efficient performance.\n",
    "summarization_model = prepare_model_for_kbit_training(summarization_model)\n"
   ]
  },
  {
   "cell_type": "code",
   "execution_count": 16,
   "metadata": {
    "colab": {
     "base_uri": "https://localhost:8080/"
    },
    "id": "R3HSUlwzGw3Y",
    "outputId": "942c059f-54df-4e34-91b4-a0595923e46d"
   },
   "outputs": [
    {
     "data": {
      "text/plain": [
       "BartForConditionalGeneration(\n",
       "  (model): BartModel(\n",
       "    (shared): Embedding(85401, 1024, padding_idx=1)\n",
       "    (encoder): BartEncoder(\n",
       "      (embed_tokens): Embedding(85401, 1024, padding_idx=1)\n",
       "      (embed_positions): BartLearnedPositionalEmbedding(1026, 1024)\n",
       "      (layers): ModuleList(\n",
       "        (0-11): 12 x BartEncoderLayer(\n",
       "          (self_attn): BartSdpaAttention(\n",
       "            (k_proj): Linear4bit(in_features=1024, out_features=1024, bias=True)\n",
       "            (v_proj): Linear4bit(in_features=1024, out_features=1024, bias=True)\n",
       "            (q_proj): Linear4bit(in_features=1024, out_features=1024, bias=True)\n",
       "            (out_proj): Linear4bit(in_features=1024, out_features=1024, bias=True)\n",
       "          )\n",
       "          (self_attn_layer_norm): LayerNorm((1024,), eps=1e-05, elementwise_affine=True)\n",
       "          (activation_fn): GELUActivation()\n",
       "          (fc1): Linear4bit(in_features=1024, out_features=4096, bias=True)\n",
       "          (fc2): Linear4bit(in_features=4096, out_features=1024, bias=True)\n",
       "          (final_layer_norm): LayerNorm((1024,), eps=1e-05, elementwise_affine=True)\n",
       "        )\n",
       "      )\n",
       "      (layernorm_embedding): LayerNorm((1024,), eps=1e-05, elementwise_affine=True)\n",
       "    )\n",
       "    (decoder): BartDecoder(\n",
       "      (embed_tokens): Embedding(85401, 1024, padding_idx=1)\n",
       "      (embed_positions): BartLearnedPositionalEmbedding(1026, 1024)\n",
       "      (layers): ModuleList(\n",
       "        (0-11): 12 x BartDecoderLayer(\n",
       "          (self_attn): BartSdpaAttention(\n",
       "            (k_proj): Linear4bit(in_features=1024, out_features=1024, bias=True)\n",
       "            (v_proj): Linear4bit(in_features=1024, out_features=1024, bias=True)\n",
       "            (q_proj): Linear4bit(in_features=1024, out_features=1024, bias=True)\n",
       "            (out_proj): Linear4bit(in_features=1024, out_features=1024, bias=True)\n",
       "          )\n",
       "          (activation_fn): GELUActivation()\n",
       "          (self_attn_layer_norm): LayerNorm((1024,), eps=1e-05, elementwise_affine=True)\n",
       "          (encoder_attn): BartSdpaAttention(\n",
       "            (k_proj): Linear4bit(in_features=1024, out_features=1024, bias=True)\n",
       "            (v_proj): Linear4bit(in_features=1024, out_features=1024, bias=True)\n",
       "            (q_proj): Linear4bit(in_features=1024, out_features=1024, bias=True)\n",
       "            (out_proj): Linear4bit(in_features=1024, out_features=1024, bias=True)\n",
       "          )\n",
       "          (encoder_attn_layer_norm): LayerNorm((1024,), eps=1e-05, elementwise_affine=True)\n",
       "          (fc1): Linear4bit(in_features=1024, out_features=4096, bias=True)\n",
       "          (fc2): Linear4bit(in_features=4096, out_features=1024, bias=True)\n",
       "          (final_layer_norm): LayerNorm((1024,), eps=1e-05, elementwise_affine=True)\n",
       "        )\n",
       "      )\n",
       "      (layernorm_embedding): LayerNorm((1024,), eps=1e-05, elementwise_affine=True)\n",
       "    )\n",
       "  )\n",
       "  (lm_head): Linear(in_features=1024, out_features=85401, bias=False)\n",
       ")"
      ]
     },
     "execution_count": 16,
     "metadata": {},
     "output_type": "execute_result"
    }
   ],
   "source": [
    "# Show the model architecture to found the Modules to traget (Generaly we target the Heads q_proj, v_proj)\n",
    "summarization_model"
   ]
  },
  {
   "cell_type": "markdown",
   "metadata": {
    "id": "PmO2uc6DBo1D"
   },
   "source": [
    "Based On the given articles, we use the same hyperparametres for LoRa used in the article:\n",
    "![image.png](data:image/png;base64,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)"
   ]
  },
  {
   "cell_type": "code",
   "execution_count": 26,
   "metadata": {
    "id": "Ybeyl20n3dYH"
   },
   "outputs": [],
   "source": [
    "from peft import LoraConfig, get_peft_model\n",
    "\n",
    "# Create an instance of 'LoraConfig' with specific configuration options.\n",
    "    # 'r=8' sets the number of expert heads in the LoRA module to 8.\n",
    "    # 'lora_alpha=32' sets the alpha value for LoRA gating mechanism to 32.\n",
    "    # 'target_modules' specifies the modules where the LoRA module will be inserted, i.e., \"q_proj\" and \"v_proj\".\n",
    "    # 'lora_dropout=0.05' sets the dropout rate for the LoRA module to 0.05.\n",
    "    # 'bias=\"none\"' specifies that no bias will be used in the LoRA module.\n",
    "    # 'task_type=\"CAUSAL_LM\"' sets the task type as \"CAUSAL_LM\" (Causal Language Modeling).\n",
    "config = LoraConfig(\n",
    "    r=8,\n",
    "    lora_alpha=32,\n",
    "    target_modules=[\"q_proj\", \"v_proj\"],\n",
    "    lora_dropout=1e-3,\n",
    "    bias=\"none\",\n",
    "    task_type=\"SEQ_2_SEQ_LM\"\n",
    ")\n",
    "\n",
    "# Get the model with the LoRA module using the 'get_peft_model' function.\n",
    "# This function inserts the LoRA module into the specified 'model' according to the provided 'config'.\n",
    "summarization_model = get_peft_model(summarization_model, config)\n"
   ]
  },
  {
   "cell_type": "code",
   "execution_count": 27,
   "metadata": {
    "colab": {
     "base_uri": "https://localhost:8080/"
    },
    "id": "GjOqBGJe7ZFQ",
    "outputId": "f31375e2-0c67-4026-e42b-333fb79c439f"
   },
   "outputs": [
    {
     "name": "stderr",
     "output_type": "stream",
     "text": [
      "/usr/local/lib/python3.10/dist-packages/transformers/optimization.py:521: FutureWarning: This implementation of AdamW is deprecated and will be removed in a future version. Use the PyTorch implementation torch.optim.AdamW instead, or set `no_deprecation_warning=True` to disable this warning\n",
      "  warnings.warn(\n"
     ]
    }
   ],
   "source": [
    "from torch.nn.utils import clip_grad_norm_\n",
    "# Define optimizer and loss function for summarization model\n",
    "optimizer = transformers.AdamW(summarization_model.parameters(), lr=learning_rate, weight_decay=0.01)"
   ]
  },
  {
   "cell_type": "markdown",
   "metadata": {
    "id": "kbjtrksMK3Z2"
   },
   "source": [
    "## Start the Training"
   ]
  },
  {
   "cell_type": "code",
   "execution_count": 28,
   "metadata": {
    "id": "UIl8RxDSRd8r"
   },
   "outputs": [],
   "source": [
    "def validate_model(model, data_loader):\n",
    "    model.eval()  # Set the model to evaluation mode\n",
    "    total_loss = 0.0\n",
    "    num_batches = 0\n",
    "\n",
    "    with torch.no_grad():  # Disable gradient calculation during validation\n",
    "        for batch in data_loader:\n",
    "            input_ids = batch[0].to(device)\n",
    "            attention_mask = batch[1].to(device)\n",
    "            labels = batch[2].to(device)\n",
    "            labels_attention_mask = batch[3].to(device)\n",
    "\n",
    "            outputs = model(input_ids=input_ids, attention_mask=attention_mask,\n",
    "                            labels=labels, decoder_attention_mask=labels_attention_mask)\n",
    "            loss = outputs.loss\n",
    "            total_loss += loss.item()\n",
    "            num_batches += 1\n",
    "\n",
    "    average_loss = total_loss / num_batches if num_batches > 0 else 0.0\n",
    "    return average_loss\n"
   ]
  },
  {
   "cell_type": "code",
   "execution_count": 29,
   "metadata": {
    "colab": {
     "base_uri": "https://localhost:8080/"
    },
    "id": "JQQLZIBJDEMt",
    "outputId": "38fb5341-bb19-4c5f-c67e-d1adac21d371"
   },
   "outputs": [
    {
     "metadata": {
      "tags": null
     },
     "name": "stderr",
     "output_type": "stream",
     "text": [
      "  8%|▊         | 100/1201 [01:35<16:22,  1.12it/s]"
     ]
    },
    {
     "metadata": {
      "tags": null
     },
     "name": "stdout",
     "output_type": "stream",
     "text": [
      "Epoch 1, Batch 100, Loss: 0.1472\n"
     ]
    },
    {
     "metadata": {
      "tags": null
     },
     "name": "stderr",
     "output_type": "stream",
     "text": [
      " 17%|█▋        | 200/1201 [03:02<14:20,  1.16it/s]"
     ]
    },
    {
     "metadata": {
      "tags": null
     },
     "name": "stdout",
     "output_type": "stream",
     "text": [
      "Epoch 1, Batch 200, Loss: 0.1608\n"
     ]
    },
    {
     "name": "stderr",
     "output_type": "stream",
     "text": [
      " 25%|██▍       | 300/1201 [04:28<12:46,  1.18it/s]"
     ]
    },
    {
     "name": "stdout",
     "output_type": "stream",
     "text": [
      "Epoch 1, Batch 300, Loss: 0.1135\n"
     ]
    },
    {
     "name": "stderr",
     "output_type": "stream",
     "text": [
      " 33%|███▎      | 400/1201 [05:52<11:21,  1.18it/s]"
     ]
    },
    {
     "name": "stdout",
     "output_type": "stream",
     "text": [
      "Epoch 1, Batch 400, Loss: 0.1235\n"
     ]
    },
    {
     "name": "stderr",
     "output_type": "stream",
     "text": [
      " 42%|████▏     | 500/1201 [07:17<09:55,  1.18it/s]"
     ]
    },
    {
     "name": "stdout",
     "output_type": "stream",
     "text": [
      "Epoch 1, Batch 500, Loss: 0.1422\n"
     ]
    },
    {
     "name": "stderr",
     "output_type": "stream",
     "text": [
      " 50%|████▉     | 600/1201 [08:42<08:31,  1.18it/s]"
     ]
    },
    {
     "name": "stdout",
     "output_type": "stream",
     "text": [
      "Epoch 1, Batch 600, Loss: 0.1691\n"
     ]
    },
    {
     "name": "stderr",
     "output_type": "stream",
     "text": [
      " 58%|█████▊    | 700/1201 [10:07<07:05,  1.18it/s]"
     ]
    },
    {
     "name": "stdout",
     "output_type": "stream",
     "text": [
      "Epoch 1, Batch 700, Loss: 0.1502\n"
     ]
    },
    {
     "name": "stderr",
     "output_type": "stream",
     "text": [
      " 67%|██████▋   | 800/1201 [11:32<05:40,  1.18it/s]"
     ]
    },
    {
     "name": "stdout",
     "output_type": "stream",
     "text": [
      "Epoch 1, Batch 800, Loss: 0.1180\n"
     ]
    },
    {
     "name": "stderr",
     "output_type": "stream",
     "text": [
      " 75%|███████▍  | 900/1201 [12:57<04:16,  1.17it/s]"
     ]
    },
    {
     "name": "stdout",
     "output_type": "stream",
     "text": [
      "Epoch 1, Batch 900, Loss: 0.0923\n"
     ]
    },
    {
     "name": "stderr",
     "output_type": "stream",
     "text": [
      " 83%|████████▎ | 1000/1201 [14:22<02:50,  1.18it/s]"
     ]
    },
    {
     "name": "stdout",
     "output_type": "stream",
     "text": [
      "Epoch 1, Batch 1000, Loss: 0.1005\n"
     ]
    },
    {
     "name": "stderr",
     "output_type": "stream",
     "text": [
      " 92%|█████████▏| 1100/1201 [15:47<01:26,  1.17it/s]"
     ]
    },
    {
     "name": "stdout",
     "output_type": "stream",
     "text": [
      "Epoch 1, Batch 1100, Loss: 0.1223\n"
     ]
    },
    {
     "name": "stderr",
     "output_type": "stream",
     "text": [
      "100%|█████████▉| 1200/1201 [17:11<00:00,  1.18it/s]"
     ]
    },
    {
     "name": "stdout",
     "output_type": "stream",
     "text": [
      "Epoch 1, Batch 1200, Loss: 0.1131\n"
     ]
    },
    {
     "name": "stderr",
     "output_type": "stream",
     "text": [
      "100%|██████████| 1201/1201 [17:12<00:00,  1.16it/s]\n"
     ]
    },
    {
     "name": "stdout",
     "output_type": "stream",
     "text": [
      "Checkpoint saved at: /content/checkpoints/checkpoint_epoch_1.pt\n"
     ]
    },
    {
     "name": "stderr",
     "output_type": "stream",
     "text": [
      "  8%|▊         | 100/1201 [01:24<15:30,  1.18it/s]"
     ]
    },
    {
     "name": "stdout",
     "output_type": "stream",
     "text": [
      "Epoch 2, Batch 100, Loss: 0.1431\n"
     ]
    },
    {
     "name": "stderr",
     "output_type": "stream",
     "text": [
      " 17%|█▋        | 200/1201 [02:48<14:07,  1.18it/s]"
     ]
    },
    {
     "name": "stdout",
     "output_type": "stream",
     "text": [
      "Epoch 2, Batch 200, Loss: 0.1122\n"
     ]
    },
    {
     "name": "stderr",
     "output_type": "stream",
     "text": [
      " 25%|██▍       | 300/1201 [04:13<12:37,  1.19it/s]"
     ]
    },
    {
     "name": "stdout",
     "output_type": "stream",
     "text": [
      "Epoch 2, Batch 300, Loss: 0.1223\n"
     ]
    },
    {
     "name": "stderr",
     "output_type": "stream",
     "text": [
      " 33%|███▎      | 400/1201 [05:37<11:17,  1.18it/s]"
     ]
    },
    {
     "name": "stdout",
     "output_type": "stream",
     "text": [
      "Epoch 2, Batch 400, Loss: 0.0871\n"
     ]
    },
    {
     "name": "stderr",
     "output_type": "stream",
     "text": [
      " 42%|████▏     | 500/1201 [07:01<09:53,  1.18it/s]"
     ]
    },
    {
     "name": "stdout",
     "output_type": "stream",
     "text": [
      "Epoch 2, Batch 500, Loss: 0.1228\n"
     ]
    },
    {
     "name": "stderr",
     "output_type": "stream",
     "text": [
      " 50%|████▉     | 600/1201 [08:26<08:27,  1.18it/s]"
     ]
    },
    {
     "name": "stdout",
     "output_type": "stream",
     "text": [
      "Epoch 2, Batch 600, Loss: 0.1004\n"
     ]
    },
    {
     "name": "stderr",
     "output_type": "stream",
     "text": [
      " 58%|█████▊    | 700/1201 [09:50<07:02,  1.19it/s]"
     ]
    },
    {
     "name": "stdout",
     "output_type": "stream",
     "text": [
      "Epoch 2, Batch 700, Loss: 0.1073\n"
     ]
    },
    {
     "name": "stderr",
     "output_type": "stream",
     "text": [
      " 67%|██████▋   | 800/1201 [11:15<05:41,  1.18it/s]"
     ]
    },
    {
     "name": "stdout",
     "output_type": "stream",
     "text": [
      "Epoch 2, Batch 800, Loss: 0.1155\n"
     ]
    },
    {
     "name": "stderr",
     "output_type": "stream",
     "text": [
      " 75%|███████▍  | 900/1201 [12:39<04:13,  1.19it/s]"
     ]
    },
    {
     "name": "stdout",
     "output_type": "stream",
     "text": [
      "Epoch 2, Batch 900, Loss: 0.1224\n"
     ]
    },
    {
     "name": "stderr",
     "output_type": "stream",
     "text": [
      " 83%|████████▎ | 1000/1201 [14:04<02:49,  1.18it/s]"
     ]
    },
    {
     "name": "stdout",
     "output_type": "stream",
     "text": [
      "Epoch 2, Batch 1000, Loss: 0.1053\n"
     ]
    },
    {
     "name": "stderr",
     "output_type": "stream",
     "text": [
      " 92%|█████████▏| 1100/1201 [15:28<01:25,  1.18it/s]"
     ]
    },
    {
     "name": "stdout",
     "output_type": "stream",
     "text": [
      "Epoch 2, Batch 1100, Loss: 0.1222\n"
     ]
    },
    {
     "name": "stderr",
     "output_type": "stream",
     "text": [
      "100%|█████████▉| 1200/1201 [16:53<00:00,  1.18it/s]"
     ]
    },
    {
     "name": "stdout",
     "output_type": "stream",
     "text": [
      "Epoch 2, Batch 1200, Loss: 0.1173\n"
     ]
    },
    {
     "name": "stderr",
     "output_type": "stream",
     "text": [
      "100%|██████████| 1201/1201 [16:54<00:00,  1.18it/s]\n"
     ]
    },
    {
     "name": "stdout",
     "output_type": "stream",
     "text": [
      "Checkpoint saved at: /content/checkpoints/checkpoint_epoch_2.pt\n"
     ]
    },
    {
     "name": "stderr",
     "output_type": "stream",
     "text": [
      "  8%|▊         | 100/1201 [01:24<15:31,  1.18it/s]"
     ]
    },
    {
     "name": "stdout",
     "output_type": "stream",
     "text": [
      "Epoch 3, Batch 100, Loss: 0.0910\n"
     ]
    },
    {
     "name": "stderr",
     "output_type": "stream",
     "text": [
      " 17%|█▋        | 200/1201 [02:48<14:11,  1.18it/s]"
     ]
    },
    {
     "name": "stdout",
     "output_type": "stream",
     "text": [
      "Epoch 3, Batch 200, Loss: 0.1141\n"
     ]
    },
    {
     "name": "stderr",
     "output_type": "stream",
     "text": [
      " 25%|██▍       | 300/1201 [04:13<12:45,  1.18it/s]"
     ]
    },
    {
     "name": "stdout",
     "output_type": "stream",
     "text": [
      "Epoch 3, Batch 300, Loss: 0.0863\n"
     ]
    },
    {
     "name": "stderr",
     "output_type": "stream",
     "text": [
      " 33%|███▎      | 400/1201 [05:37<11:17,  1.18it/s]"
     ]
    },
    {
     "name": "stdout",
     "output_type": "stream",
     "text": [
      "Epoch 3, Batch 400, Loss: 0.1367\n"
     ]
    },
    {
     "name": "stderr",
     "output_type": "stream",
     "text": [
      " 42%|████▏     | 500/1201 [07:01<09:51,  1.18it/s]"
     ]
    },
    {
     "name": "stdout",
     "output_type": "stream",
     "text": [
      "Epoch 3, Batch 500, Loss: 0.0999\n"
     ]
    },
    {
     "name": "stderr",
     "output_type": "stream",
     "text": [
      " 50%|████▉     | 600/1201 [08:26<08:26,  1.19it/s]"
     ]
    },
    {
     "name": "stdout",
     "output_type": "stream",
     "text": [
      "Epoch 3, Batch 600, Loss: 0.1323\n"
     ]
    },
    {
     "name": "stderr",
     "output_type": "stream",
     "text": [
      " 58%|█████▊    | 700/1201 [09:50<07:04,  1.18it/s]"
     ]
    },
    {
     "name": "stdout",
     "output_type": "stream",
     "text": [
      "Epoch 3, Batch 700, Loss: 0.0972\n"
     ]
    },
    {
     "name": "stderr",
     "output_type": "stream",
     "text": [
      " 67%|██████▋   | 800/1201 [11:15<05:38,  1.18it/s]"
     ]
    },
    {
     "name": "stdout",
     "output_type": "stream",
     "text": [
      "Epoch 3, Batch 800, Loss: 0.1069\n"
     ]
    },
    {
     "name": "stderr",
     "output_type": "stream",
     "text": [
      " 75%|███████▍  | 900/1201 [12:39<04:16,  1.17it/s]"
     ]
    },
    {
     "name": "stdout",
     "output_type": "stream",
     "text": [
      "Epoch 3, Batch 900, Loss: 0.1037\n"
     ]
    },
    {
     "name": "stderr",
     "output_type": "stream",
     "text": [
      " 83%|████████▎ | 1000/1201 [14:04<02:49,  1.19it/s]"
     ]
    },
    {
     "name": "stdout",
     "output_type": "stream",
     "text": [
      "Epoch 3, Batch 1000, Loss: 0.1047\n"
     ]
    },
    {
     "name": "stderr",
     "output_type": "stream",
     "text": [
      " 92%|█████████▏| 1100/1201 [15:28<01:26,  1.17it/s]"
     ]
    },
    {
     "name": "stdout",
     "output_type": "stream",
     "text": [
      "Epoch 3, Batch 1100, Loss: 0.0872\n"
     ]
    },
    {
     "name": "stderr",
     "output_type": "stream",
     "text": [
      "100%|█████████▉| 1200/1201 [16:53<00:00,  1.18it/s]"
     ]
    },
    {
     "name": "stdout",
     "output_type": "stream",
     "text": [
      "Epoch 3, Batch 1200, Loss: 0.1125\n"
     ]
    },
    {
     "name": "stderr",
     "output_type": "stream",
     "text": [
      "100%|██████████| 1201/1201 [16:54<00:00,  1.18it/s]\n"
     ]
    },
    {
     "name": "stdout",
     "output_type": "stream",
     "text": [
      "Checkpoint saved at: /content/checkpoints/checkpoint_epoch_3.pt\n"
     ]
    }
   ],
   "source": [
    "from tqdm import tqdm\n",
    "\n",
    "# Set the number of epochs for training\n",
    "num_epochs = 10\n",
    "\n",
    "\n",
    "# Define a directory to save the checkpoints\n",
    "checkpoint_dir = os.path.join(DATASET_BASE_DIR,\"checkpoints\")\n",
    "os.makedirs(checkpoint_dir, exist_ok=True)\n",
    "\n",
    "# Initialize variables to track best validation loss and corresponding checkpoint\n",
    "best_validation_loss = float('inf')\n",
    "best_checkpoint_path = None\n",
    "\n",
    "# Fine-tune the summarization model on the GPU and use tqdm to display a progress bar\n",
    "for epoch in range(num_epochs):\n",
    "    running_loss = 0.0\n",
    "    # Iterate over the batches in the data loader\n",
    "    for i, batch in enumerate(tqdm(data_loader_train)):\n",
    "        # Move batch data to the appropriate device\n",
    "        input_ids = batch[0].to(device)\n",
    "        attention_mask = batch[1].to(device)\n",
    "        labels = batch[2].to(device)\n",
    "        labels_attention_mask = batch[3].to(device)\n",
    "\n",
    "        # Forward pass: compute model outputs and loss\n",
    "        outputs = summarization_model(input_ids=input_ids, attention_mask=attention_mask,\n",
    "                                      labels=labels, decoder_attention_mask=labels_attention_mask)\n",
    "        loss = outputs.loss\n",
    "\n",
    "        # Backward pass: compute gradients\n",
    "        loss.backward()\n",
    "\n",
    "        # Apply gradient clipping to prevent exploding gradients\n",
    "        clip_grad_norm_(summarization_model.parameters(), max_norm=1.0)\n",
    "\n",
    "        # Update model parameters using the optimizer\n",
    "        optimizer.step()\n",
    "\n",
    "        # Clear gradients for the next iteration\n",
    "        optimizer.zero_grad()\n",
    "\n",
    "        # Accumulate the loss for monitoring\n",
    "        running_loss += loss.item()\n",
    "\n",
    "        # Print the average loss every 100 batches\n",
    "        if i % 100 == 99:\n",
    "            tqdm.write(f'Epoch {epoch + 1}, Batch {i + 1}, Loss: {running_loss / 100:.4f}')\n",
    "            running_loss = 0.0\n",
    "\n",
    "    # Save the model checkpoint after each epoch\n",
    "    checkpoint_filename = f\"checkpoint_epoch_{epoch + 1}.pt\"\n",
    "    checkpoint_path = os.path.join(checkpoint_dir, checkpoint_filename)\n",
    "    torch.save(summarization_model.state_dict(), checkpoint_path)\n",
    "    print(f\"Checkpoint saved at: {checkpoint_path}\")\n",
    "\n",
    "    # Validation phase\n",
    "    validation_loss = validate_model(summarization_model, data_loader_val)\n",
    "\n",
    "    # Check if the current model is the best so far\n",
    "    if validation_loss < best_validation_loss:\n",
    "        best_validation_loss = validation_loss\n",
    "        best_checkpoint_path = checkpoint_path"
   ]
  },
  {
   "cell_type": "markdown",
   "metadata": {
    "id": "Xpe0t6FgdRN0"
   },
   "source": [
    "# Save the tuned Model"
   ]
  },
  {
   "cell_type": "code",
   "execution_count": 30,
   "metadata": {
    "colab": {
     "base_uri": "https://localhost:8080/"
    },
    "id": "_r3xG_R3JmXb",
    "outputId": "02bb50fb-70e2-4965-ea24-44185906c8a7"
   },
   "outputs": [
    {
     "name": "stdout",
     "output_type": "stream",
     "text": [
      "Best checkpoint loaded from: /content/checkpoints/checkpoint_epoch_3.pt\n"
     ]
    }
   ],
   "source": [
    "# Load the best checkpoint after training\n",
    "if best_checkpoint_path:\n",
    "    summarization_model.load_state_dict(torch.load(best_checkpoint_path))\n",
    "    print(f\"Best checkpoint loaded from: {best_checkpoint_path}\")\n",
    "else:\n",
    "    print(\"No best checkpoint found.\")"
   ]
  },
  {
   "cell_type": "markdown",
   "metadata": {
    "id": "BO3jJbJsdVw-"
   },
   "source": [
    "# Evaluate"
   ]
  },
  {
   "cell_type": "code",
   "execution_count": 34,
   "metadata": {
    "id": "MyqZY1V9X5cQ"
   },
   "outputs": [],
   "source": [
    "chat = dataset_val[0][\"dialogue\"]\n",
    "summ = dataset_val[0][\"summary\"]"
   ]
  },
  {
   "cell_type": "code",
   "execution_count": 37,
   "metadata": {
    "colab": {
     "base_uri": "https://localhost:8080/",
     "height": 122
    },
    "id": "WicnfAMxpYAW",
    "outputId": "21789868-2c72-46f8-95ca-434db708818f"
   },
   "outputs": [
    {
     "data": {
      "application/vnd.google.colaboratory.intrinsic+json": {
       "type": "string"
      },
      "text/plain": [
       "\"GENHX</s>Doctor: Good afternoon, sir. Did you just have a birthday? I don't have my chart with me right now, the nurse is bringing it. Patient: Good afternoon, sir. Yes, I just turned fifty five. Doctor: You identify as African American, correct? Patient: Yes, that's right. Doctor: When was your last visit, sir? Patient: Um, it was on July twenty ninth two thousand eight. Doctor: Yes, I see. Did we go over your M R I results? Patient: No, I was having those new seizures, remember?Doctor: Yes, I do. Well, the M R I demonstrated right contrast temporal mass. Patient: What exactly does that mean, doctor? Doctor: Well, given this mass, and your new seizures, I am concerned that this could be a high grade glioma, we'll need to do more tests.\""
      ]
     },
     "execution_count": 37,
     "metadata": {},
     "output_type": "execute_result"
    }
   ],
   "source": [
    "chat"
   ]
  },
  {
   "cell_type": "code",
   "execution_count": 48,
   "metadata": {
    "colab": {
     "base_uri": "https://localhost:8080/",
     "height": 70
    },
    "id": "QiKKL33LVX8j",
    "outputId": "db8e7b5f-4b10-4fb2-b0bf-6947957038ca"
   },
   "outputs": [
    {
     "data": {
      "application/vnd.google.colaboratory.intrinsic+json": {
       "type": "string"
      },
      "text/plain": [
       "'The patient is a 55-year-old African-American male who presents to me on 07/29/2008.  He states that he does not have a history of seizures, but that his right temporal mass has been noted.  Given the history of new seizures and the mass, he is concerned that this could be a high-grade glioma.'"
      ]
     },
     "execution_count": 48,
     "metadata": {},
     "output_type": "execute_result"
    }
   ],
   "source": [
    "# Generate summary of the dialog \"chat\" using the fine-tuned summarization model\n",
    "summarization_model.eval()\n",
    "input_ids = tokenizer.encode(chat, return_tensors='pt', padding=True).to(device)\n",
    "outputs = summarization_model.generate(input_ids=input_ids, max_length=128, early_stopping=True,do_sample=True).to(device)\n",
    "generated_summary = tokenizer.decode(outputs[0], skip_special_tokens=True)\n",
    "generated_summary"
   ]
  },
  {
   "cell_type": "code",
   "execution_count": 49,
   "metadata": {
    "colab": {
     "base_uri": "https://localhost:8080/"
    },
    "id": "lESs0vV1H3W3",
    "outputId": "d1777dd9-9378-4443-ab59-b3aab50bb444"
   },
   "outputs": [
    {
     "name": "stdout",
     "output_type": "stream",
     "text": [
      "Summary:\n",
      "The patient is a 55-year-old African-American male that was last seen in clinic on 07/29/2008 with diagnosis of new onset seizures and an MRI scan, which demonstrated right contrast-enhancing temporal mass.  Given the characteristics of this mass and his new onset seizures, it is significantly concerning for a high-grade glioma.\n",
      "====================================================================================================\n",
      "Generated summary\n",
      "The patient is a 55-year-old African-American male who presents to me on 07/29/2008.  He states that he does not have a history of seizures, but that his right temporal mass has been noted.  Given the history of new seizures and the mass, he is concerned that this could be a high-grade glioma.\n"
     ]
    }
   ],
   "source": [
    "print(\"Summary:\")\n",
    "print(summ)\n",
    "print(\"=\"*100)\n",
    "print(\"Generated summary\")\n",
    "print(generated_summary)"
   ]
  },
  {
   "cell_type": "markdown",
   "metadata": {
    "id": "EcYX2B_KqivP"
   },
   "source": [
    "----"
   ]
  }
 ],
 "metadata": {
  "accelerator": "GPU",
  "colab": {
   "gpuType": "T4",
   "provenance": []
  },
  "kernelspec": {
   "display_name": "Python 3 (ipykernel)",
   "language": "python",
   "name": "python3"
  },
  "language_info": {
   "codemirror_mode": {
    "name": "ipython",
    "version": 3
   },
   "file_extension": ".py",
   "mimetype": "text/x-python",
   "name": "python",
   "nbconvert_exporter": "python",
   "pygments_lexer": "ipython3",
   "version": "3.9.15"
  },
  "widgets": {
   "application/vnd.jupyter.widget-state+json": {
    "08041492a65548cabe3db95a6461f1f6": {
     "model_module": "@jupyter-widgets/base",
     "model_module_version": "1.2.0",
     "model_name": "LayoutModel",
     "state": {
      "_model_module": "@jupyter-widgets/base",
      "_model_module_version": "1.2.0",
      "_model_name": "LayoutModel",
      "_view_count": null,
      "_view_module": "@jupyter-widgets/base",
      "_view_module_version": "1.2.0",
      "_view_name": "LayoutView",
      "align_content": null,
      "align_items": null,
      "align_self": null,
      "border": null,
      "bottom": null,
      "display": null,
      "flex": null,
      "flex_flow": null,
      "grid_area": null,
      "grid_auto_columns": null,
      "grid_auto_flow": null,
      "grid_auto_rows": null,
      "grid_column": null,
      "grid_gap": null,
      "grid_row": null,
      "grid_template_areas": null,
      "grid_template_columns": null,
      "grid_template_rows": null,
      "height": null,
      "justify_content": null,
      "justify_items": null,
      "left": null,
      "margin": null,
      "max_height": null,
      "max_width": null,
      "min_height": null,
      "min_width": null,
      "object_fit": null,
      "object_position": null,
      "order": null,
      "overflow": null,
      "overflow_x": null,
      "overflow_y": null,
      "padding": null,
      "right": null,
      "top": null,
      "visibility": null,
      "width": null
     }
    },
    "1befc0e7064c469e97a1920a1f5628af": {
     "model_module": "@jupyter-widgets/base",
     "model_module_version": "1.2.0",
     "model_name": "LayoutModel",
     "state": {
      "_model_module": "@jupyter-widgets/base",
      "_model_module_version": "1.2.0",
      "_model_name": "LayoutModel",
      "_view_count": null,
      "_view_module": "@jupyter-widgets/base",
      "_view_module_version": "1.2.0",
      "_view_name": "LayoutView",
      "align_content": null,
      "align_items": null,
      "align_self": null,
      "border": null,
      "bottom": null,
      "display": null,
      "flex": null,
      "flex_flow": null,
      "grid_area": null,
      "grid_auto_columns": null,
      "grid_auto_flow": null,
      "grid_auto_rows": null,
      "grid_column": null,
      "grid_gap": null,
      "grid_row": null,
      "grid_template_areas": null,
      "grid_template_columns": null,
      "grid_template_rows": null,
      "height": null,
      "justify_content": null,
      "justify_items": null,
      "left": null,
      "margin": null,
      "max_height": null,
      "max_width": null,
      "min_height": null,
      "min_width": null,
      "object_fit": null,
      "object_position": null,
      "order": null,
      "overflow": null,
      "overflow_x": null,
      "overflow_y": null,
      "padding": null,
      "right": null,
      "top": null,
      "visibility": null,
      "width": null
     }
    },
    "1ff8a4b01a6a4023a82bd52ace693396": {
     "model_module": "@jupyter-widgets/controls",
     "model_module_version": "1.5.0",
     "model_name": "HTMLModel",
     "state": {
      "_dom_classes": [],
      "_model_module": "@jupyter-widgets/controls",
      "_model_module_version": "1.5.0",
      "_model_name": "HTMLModel",
      "_view_count": null,
      "_view_module": "@jupyter-widgets/controls",
      "_view_module_version": "1.5.0",
      "_view_name": "HTMLView",
      "description": "",
      "description_tooltip": null,
      "layout": "IPY_MODEL_3774e527828d4e68987b26c6db6755c9",
      "placeholder": "​",
      "style": "IPY_MODEL_b14ee993ad90415ca9cfd7e78eeeb590",
      "value": " 1.59M/1.59M [00:00&lt;00:00, 17.5MB/s]"
     }
    },
    "2713a8963f0143b8902d5addb1591950": {
     "model_module": "@jupyter-widgets/controls",
     "model_module_version": "1.5.0",
     "model_name": "HBoxModel",
     "state": {
      "_dom_classes": [],
      "_model_module": "@jupyter-widgets/controls",
      "_model_module_version": "1.5.0",
      "_model_name": "HBoxModel",
      "_view_count": null,
      "_view_module": "@jupyter-widgets/controls",
      "_view_module_version": "1.5.0",
      "_view_name": "HBoxView",
      "box_style": "",
      "children": [
       "IPY_MODEL_76efe3616ae7493cb18393fb29ec6c8f",
       "IPY_MODEL_b8e2ca66b3b149aebb684939dba762e5",
       "IPY_MODEL_1ff8a4b01a6a4023a82bd52ace693396"
      ],
      "layout": "IPY_MODEL_e480ab89c90e4abb9c435bce077ec04f"
     }
    },
    "3774e527828d4e68987b26c6db6755c9": {
     "model_module": "@jupyter-widgets/base",
     "model_module_version": "1.2.0",
     "model_name": "LayoutModel",
     "state": {
      "_model_module": "@jupyter-widgets/base",
      "_model_module_version": "1.2.0",
      "_model_name": "LayoutModel",
      "_view_count": null,
      "_view_module": "@jupyter-widgets/base",
      "_view_module_version": "1.2.0",
      "_view_name": "LayoutView",
      "align_content": null,
      "align_items": null,
      "align_self": null,
      "border": null,
      "bottom": null,
      "display": null,
      "flex": null,
      "flex_flow": null,
      "grid_area": null,
      "grid_auto_columns": null,
      "grid_auto_flow": null,
      "grid_auto_rows": null,
      "grid_column": null,
      "grid_gap": null,
      "grid_row": null,
      "grid_template_areas": null,
      "grid_template_columns": null,
      "grid_template_rows": null,
      "height": null,
      "justify_content": null,
      "justify_items": null,
      "left": null,
      "margin": null,
      "max_height": null,
      "max_width": null,
      "min_height": null,
      "min_width": null,
      "object_fit": null,
      "object_position": null,
      "order": null,
      "overflow": null,
      "overflow_x": null,
      "overflow_y": null,
      "padding": null,
      "right": null,
      "top": null,
      "visibility": null,
      "width": null
     }
    },
    "39e15556b790427c9baecf6ead48f15e": {
     "model_module": "@jupyter-widgets/controls",
     "model_module_version": "1.5.0",
     "model_name": "HTMLModel",
     "state": {
      "_dom_classes": [],
      "_model_module": "@jupyter-widgets/controls",
      "_model_module_version": "1.5.0",
      "_model_name": "HTMLModel",
      "_view_count": null,
      "_view_module": "@jupyter-widgets/controls",
      "_view_module_version": "1.5.0",
      "_view_name": "HTMLView",
      "description": "",
      "description_tooltip": null,
      "layout": "IPY_MODEL_9df2a5d136f949b2b70ac4b85ce59cde",
      "placeholder": "​",
      "style": "IPY_MODEL_8cb3a6918c764954b5903defd54d8a09",
      "value": " 772/772 [00:00&lt;00:00, 54.0kB/s]"
     }
    },
    "4c80f683187f4ba1af988c482a3e7b4b": {
     "model_module": "@jupyter-widgets/controls",
     "model_module_version": "1.5.0",
     "model_name": "ProgressStyleModel",
     "state": {
      "_model_module": "@jupyter-widgets/controls",
      "_model_module_version": "1.5.0",
      "_model_name": "ProgressStyleModel",
      "_view_count": null,
      "_view_module": "@jupyter-widgets/base",
      "_view_module_version": "1.2.0",
      "_view_name": "StyleView",
      "bar_color": null,
      "description_width": ""
     }
    },
    "5cac3b1731844248b3d939711e43c4d4": {
     "model_module": "@jupyter-widgets/base",
     "model_module_version": "1.2.0",
     "model_name": "LayoutModel",
     "state": {
      "_model_module": "@jupyter-widgets/base",
      "_model_module_version": "1.2.0",
      "_model_name": "LayoutModel",
      "_view_count": null,
      "_view_module": "@jupyter-widgets/base",
      "_view_module_version": "1.2.0",
      "_view_name": "LayoutView",
      "align_content": null,
      "align_items": null,
      "align_self": null,
      "border": null,
      "bottom": null,
      "display": null,
      "flex": null,
      "flex_flow": null,
      "grid_area": null,
      "grid_auto_columns": null,
      "grid_auto_flow": null,
      "grid_auto_rows": null,
      "grid_column": null,
      "grid_gap": null,
      "grid_row": null,
      "grid_template_areas": null,
      "grid_template_columns": null,
      "grid_template_rows": null,
      "height": null,
      "justify_content": null,
      "justify_items": null,
      "left": null,
      "margin": null,
      "max_height": null,
      "max_width": null,
      "min_height": null,
      "min_width": null,
      "object_fit": null,
      "object_position": null,
      "order": null,
      "overflow": null,
      "overflow_x": null,
      "overflow_y": null,
      "padding": null,
      "right": null,
      "top": null,
      "visibility": null,
      "width": null
     }
    },
    "5d8231e73fb74b338bc27d9ffb7f4263": {
     "model_module": "@jupyter-widgets/base",
     "model_module_version": "1.2.0",
     "model_name": "LayoutModel",
     "state": {
      "_model_module": "@jupyter-widgets/base",
      "_model_module_version": "1.2.0",
      "_model_name": "LayoutModel",
      "_view_count": null,
      "_view_module": "@jupyter-widgets/base",
      "_view_module_version": "1.2.0",
      "_view_name": "LayoutView",
      "align_content": null,
      "align_items": null,
      "align_self": null,
      "border": null,
      "bottom": null,
      "display": null,
      "flex": null,
      "flex_flow": null,
      "grid_area": null,
      "grid_auto_columns": null,
      "grid_auto_flow": null,
      "grid_auto_rows": null,
      "grid_column": null,
      "grid_gap": null,
      "grid_row": null,
      "grid_template_areas": null,
      "grid_template_columns": null,
      "grid_template_rows": null,
      "height": null,
      "justify_content": null,
      "justify_items": null,
      "left": null,
      "margin": null,
      "max_height": null,
      "max_width": null,
      "min_height": null,
      "min_width": null,
      "object_fit": null,
      "object_position": null,
      "order": null,
      "overflow": null,
      "overflow_x": null,
      "overflow_y": null,
      "padding": null,
      "right": null,
      "top": null,
      "visibility": null,
      "width": null
     }
    },
    "66f7dc4793a54edd8034370f3bd04638": {
     "model_module": "@jupyter-widgets/controls",
     "model_module_version": "1.5.0",
     "model_name": "HTMLModel",
     "state": {
      "_dom_classes": [],
      "_model_module": "@jupyter-widgets/controls",
      "_model_module_version": "1.5.0",
      "_model_name": "HTMLModel",
      "_view_count": null,
      "_view_module": "@jupyter-widgets/controls",
      "_view_module_version": "1.5.0",
      "_view_name": "HTMLView",
      "description": "",
      "description_tooltip": null,
      "layout": "IPY_MODEL_d710d58c10e040328956c4c7d27993b9",
      "placeholder": "​",
      "style": "IPY_MODEL_d1d5244b14a34c068b5edbe82edfef5e",
      "value": "merges.txt: 100%"
     }
    },
    "68d33e280d774c7282e2c91492ae5808": {
     "model_module": "@jupyter-widgets/base",
     "model_module_version": "1.2.0",
     "model_name": "LayoutModel",
     "state": {
      "_model_module": "@jupyter-widgets/base",
      "_model_module_version": "1.2.0",
      "_model_name": "LayoutModel",
      "_view_count": null,
      "_view_module": "@jupyter-widgets/base",
      "_view_module_version": "1.2.0",
      "_view_name": "LayoutView",
      "align_content": null,
      "align_items": null,
      "align_self": null,
      "border": null,
      "bottom": null,
      "display": null,
      "flex": null,
      "flex_flow": null,
      "grid_area": null,
      "grid_auto_columns": null,
      "grid_auto_flow": null,
      "grid_auto_rows": null,
      "grid_column": null,
      "grid_gap": null,
      "grid_row": null,
      "grid_template_areas": null,
      "grid_template_columns": null,
      "grid_template_rows": null,
      "height": null,
      "justify_content": null,
      "justify_items": null,
      "left": null,
      "margin": null,
      "max_height": null,
      "max_width": null,
      "min_height": null,
      "min_width": null,
      "object_fit": null,
      "object_position": null,
      "order": null,
      "overflow": null,
      "overflow_x": null,
      "overflow_y": null,
      "padding": null,
      "right": null,
      "top": null,
      "visibility": null,
      "width": null
     }
    },
    "70a61c398d03422490ad197fcdf02b81": {
     "model_module": "@jupyter-widgets/base",
     "model_module_version": "1.2.0",
     "model_name": "LayoutModel",
     "state": {
      "_model_module": "@jupyter-widgets/base",
      "_model_module_version": "1.2.0",
      "_model_name": "LayoutModel",
      "_view_count": null,
      "_view_module": "@jupyter-widgets/base",
      "_view_module_version": "1.2.0",
      "_view_name": "LayoutView",
      "align_content": null,
      "align_items": null,
      "align_self": null,
      "border": null,
      "bottom": null,
      "display": null,
      "flex": null,
      "flex_flow": null,
      "grid_area": null,
      "grid_auto_columns": null,
      "grid_auto_flow": null,
      "grid_auto_rows": null,
      "grid_column": null,
      "grid_gap": null,
      "grid_row": null,
      "grid_template_areas": null,
      "grid_template_columns": null,
      "grid_template_rows": null,
      "height": null,
      "justify_content": null,
      "justify_items": null,
      "left": null,
      "margin": null,
      "max_height": null,
      "max_width": null,
      "min_height": null,
      "min_width": null,
      "object_fit": null,
      "object_position": null,
      "order": null,
      "overflow": null,
      "overflow_x": null,
      "overflow_y": null,
      "padding": null,
      "right": null,
      "top": null,
      "visibility": null,
      "width": null
     }
    },
    "740d90a54cc54b4a91f33bc81e8944cf": {
     "model_module": "@jupyter-widgets/base",
     "model_module_version": "1.2.0",
     "model_name": "LayoutModel",
     "state": {
      "_model_module": "@jupyter-widgets/base",
      "_model_module_version": "1.2.0",
      "_model_name": "LayoutModel",
      "_view_count": null,
      "_view_module": "@jupyter-widgets/base",
      "_view_module_version": "1.2.0",
      "_view_name": "LayoutView",
      "align_content": null,
      "align_items": null,
      "align_self": null,
      "border": null,
      "bottom": null,
      "display": null,
      "flex": null,
      "flex_flow": null,
      "grid_area": null,
      "grid_auto_columns": null,
      "grid_auto_flow": null,
      "grid_auto_rows": null,
      "grid_column": null,
      "grid_gap": null,
      "grid_row": null,
      "grid_template_areas": null,
      "grid_template_columns": null,
      "grid_template_rows": null,
      "height": null,
      "justify_content": null,
      "justify_items": null,
      "left": null,
      "margin": null,
      "max_height": null,
      "max_width": null,
      "min_height": null,
      "min_width": null,
      "object_fit": null,
      "object_position": null,
      "order": null,
      "overflow": null,
      "overflow_x": null,
      "overflow_y": null,
      "padding": null,
      "right": null,
      "top": null,
      "visibility": null,
      "width": null
     }
    },
    "76efe3616ae7493cb18393fb29ec6c8f": {
     "model_module": "@jupyter-widgets/controls",
     "model_module_version": "1.5.0",
     "model_name": "HTMLModel",
     "state": {
      "_dom_classes": [],
      "_model_module": "@jupyter-widgets/controls",
      "_model_module_version": "1.5.0",
      "_model_name": "HTMLModel",
      "_view_count": null,
      "_view_module": "@jupyter-widgets/controls",
      "_view_module_version": "1.5.0",
      "_view_name": "HTMLView",
      "description": "",
      "description_tooltip": null,
      "layout": "IPY_MODEL_08041492a65548cabe3db95a6461f1f6",
      "placeholder": "​",
      "style": "IPY_MODEL_da7802435d664c29bd3cb5381fe92791",
      "value": "vocab.json: 100%"
     }
    },
    "7fca012cd2174803932a4c7606d0607c": {
     "model_module": "@jupyter-widgets/controls",
     "model_module_version": "1.5.0",
     "model_name": "DescriptionStyleModel",
     "state": {
      "_model_module": "@jupyter-widgets/controls",
      "_model_module_version": "1.5.0",
      "_model_name": "DescriptionStyleModel",
      "_view_count": null,
      "_view_module": "@jupyter-widgets/base",
      "_view_module_version": "1.2.0",
      "_view_name": "StyleView",
      "description_width": ""
     }
    },
    "80fa743f34324b80bca188234abe9202": {
     "model_module": "@jupyter-widgets/controls",
     "model_module_version": "1.5.0",
     "model_name": "HTMLModel",
     "state": {
      "_dom_classes": [],
      "_model_module": "@jupyter-widgets/controls",
      "_model_module_version": "1.5.0",
      "_model_name": "HTMLModel",
      "_view_count": null,
      "_view_module": "@jupyter-widgets/controls",
      "_view_module_version": "1.5.0",
      "_view_name": "HTMLView",
      "description": "",
      "description_tooltip": null,
      "layout": "IPY_MODEL_9c4439bbf33547d0b7f5cf7d633192c8",
      "placeholder": "​",
      "style": "IPY_MODEL_fbeaaa5838c64292bdc5d3e77077cfcc",
      "value": "tokenizer_config.json: 100%"
     }
    },
    "875fad4f8c084747a0f25836ecd7f391": {
     "model_module": "@jupyter-widgets/controls",
     "model_module_version": "1.5.0",
     "model_name": "HTMLModel",
     "state": {
      "_dom_classes": [],
      "_model_module": "@jupyter-widgets/controls",
      "_model_module_version": "1.5.0",
      "_model_name": "HTMLModel",
      "_view_count": null,
      "_view_module": "@jupyter-widgets/controls",
      "_view_module_version": "1.5.0",
      "_view_name": "HTMLView",
      "description": "",
      "description_tooltip": null,
      "layout": "IPY_MODEL_5d8231e73fb74b338bc27d9ffb7f4263",
      "placeholder": "​",
      "style": "IPY_MODEL_7fca012cd2174803932a4c7606d0607c",
      "value": "special_tokens_map.json: 100%"
     }
    },
    "880d36e466e146baafeeff9c975bc39b": {
     "model_module": "@jupyter-widgets/controls",
     "model_module_version": "1.5.0",
     "model_name": "ProgressStyleModel",
     "state": {
      "_model_module": "@jupyter-widgets/controls",
      "_model_module_version": "1.5.0",
      "_model_name": "ProgressStyleModel",
      "_view_count": null,
      "_view_module": "@jupyter-widgets/base",
      "_view_module_version": "1.2.0",
      "_view_name": "StyleView",
      "bar_color": null,
      "description_width": ""
     }
    },
    "88d79a3f4d944cb68c05ea3bb90e5de8": {
     "model_module": "@jupyter-widgets/controls",
     "model_module_version": "1.5.0",
     "model_name": "ProgressStyleModel",
     "state": {
      "_model_module": "@jupyter-widgets/controls",
      "_model_module_version": "1.5.0",
      "_model_name": "ProgressStyleModel",
      "_view_count": null,
      "_view_module": "@jupyter-widgets/base",
      "_view_module_version": "1.2.0",
      "_view_name": "StyleView",
      "bar_color": null,
      "description_width": ""
     }
    },
    "8cb3a6918c764954b5903defd54d8a09": {
     "model_module": "@jupyter-widgets/controls",
     "model_module_version": "1.5.0",
     "model_name": "DescriptionStyleModel",
     "state": {
      "_model_module": "@jupyter-widgets/controls",
      "_model_module_version": "1.5.0",
      "_model_name": "DescriptionStyleModel",
      "_view_count": null,
      "_view_module": "@jupyter-widgets/base",
      "_view_module_version": "1.2.0",
      "_view_name": "StyleView",
      "description_width": ""
     }
    },
    "8fc7d61b042b451aaac7aec4a1e3a3e9": {
     "model_module": "@jupyter-widgets/controls",
     "model_module_version": "1.5.0",
     "model_name": "HBoxModel",
     "state": {
      "_dom_classes": [],
      "_model_module": "@jupyter-widgets/controls",
      "_model_module_version": "1.5.0",
      "_model_name": "HBoxModel",
      "_view_count": null,
      "_view_module": "@jupyter-widgets/controls",
      "_view_module_version": "1.5.0",
      "_view_name": "HBoxView",
      "box_style": "",
      "children": [
       "IPY_MODEL_875fad4f8c084747a0f25836ecd7f391",
       "IPY_MODEL_c5a1d3d39fce4a0498285c0ea78b8954",
       "IPY_MODEL_39e15556b790427c9baecf6ead48f15e"
      ],
      "layout": "IPY_MODEL_1befc0e7064c469e97a1920a1f5628af"
     }
    },
    "94de34c239d64ad4a86e9db02d4ae844": {
     "model_module": "@jupyter-widgets/controls",
     "model_module_version": "1.5.0",
     "model_name": "DescriptionStyleModel",
     "state": {
      "_model_module": "@jupyter-widgets/controls",
      "_model_module_version": "1.5.0",
      "_model_name": "DescriptionStyleModel",
      "_view_count": null,
      "_view_module": "@jupyter-widgets/base",
      "_view_module_version": "1.2.0",
      "_view_name": "StyleView",
      "description_width": ""
     }
    },
    "95bec9e420ff41d3ba2937382b9a2121": {
     "model_module": "@jupyter-widgets/controls",
     "model_module_version": "1.5.0",
     "model_name": "ProgressStyleModel",
     "state": {
      "_model_module": "@jupyter-widgets/controls",
      "_model_module_version": "1.5.0",
      "_model_name": "ProgressStyleModel",
      "_view_count": null,
      "_view_module": "@jupyter-widgets/base",
      "_view_module_version": "1.2.0",
      "_view_name": "StyleView",
      "bar_color": null,
      "description_width": ""
     }
    },
    "9c4439bbf33547d0b7f5cf7d633192c8": {
     "model_module": "@jupyter-widgets/base",
     "model_module_version": "1.2.0",
     "model_name": "LayoutModel",
     "state": {
      "_model_module": "@jupyter-widgets/base",
      "_model_module_version": "1.2.0",
      "_model_name": "LayoutModel",
      "_view_count": null,
      "_view_module": "@jupyter-widgets/base",
      "_view_module_version": "1.2.0",
      "_view_name": "LayoutView",
      "align_content": null,
      "align_items": null,
      "align_self": null,
      "border": null,
      "bottom": null,
      "display": null,
      "flex": null,
      "flex_flow": null,
      "grid_area": null,
      "grid_auto_columns": null,
      "grid_auto_flow": null,
      "grid_auto_rows": null,
      "grid_column": null,
      "grid_gap": null,
      "grid_row": null,
      "grid_template_areas": null,
      "grid_template_columns": null,
      "grid_template_rows": null,
      "height": null,
      "justify_content": null,
      "justify_items": null,
      "left": null,
      "margin": null,
      "max_height": null,
      "max_width": null,
      "min_height": null,
      "min_width": null,
      "object_fit": null,
      "object_position": null,
      "order": null,
      "overflow": null,
      "overflow_x": null,
      "overflow_y": null,
      "padding": null,
      "right": null,
      "top": null,
      "visibility": null,
      "width": null
     }
    },
    "9dc53888d8584437ad65c434d8e4dd1d": {
     "model_module": "@jupyter-widgets/controls",
     "model_module_version": "1.5.0",
     "model_name": "FloatProgressModel",
     "state": {
      "_dom_classes": [],
      "_model_module": "@jupyter-widgets/controls",
      "_model_module_version": "1.5.0",
      "_model_name": "FloatProgressModel",
      "_view_count": null,
      "_view_module": "@jupyter-widgets/controls",
      "_view_module_version": "1.5.0",
      "_view_name": "ProgressView",
      "bar_style": "success",
      "description": "",
      "description_tooltip": null,
      "layout": "IPY_MODEL_b1dbec38e36b4bca94164eaf5e836f3d",
      "max": 892447,
      "min": 0,
      "orientation": "horizontal",
      "style": "IPY_MODEL_4c80f683187f4ba1af988c482a3e7b4b",
      "value": 892447
     }
    },
    "9df2a5d136f949b2b70ac4b85ce59cde": {
     "model_module": "@jupyter-widgets/base",
     "model_module_version": "1.2.0",
     "model_name": "LayoutModel",
     "state": {
      "_model_module": "@jupyter-widgets/base",
      "_model_module_version": "1.2.0",
      "_model_name": "LayoutModel",
      "_view_count": null,
      "_view_module": "@jupyter-widgets/base",
      "_view_module_version": "1.2.0",
      "_view_name": "LayoutView",
      "align_content": null,
      "align_items": null,
      "align_self": null,
      "border": null,
      "bottom": null,
      "display": null,
      "flex": null,
      "flex_flow": null,
      "grid_area": null,
      "grid_auto_columns": null,
      "grid_auto_flow": null,
      "grid_auto_rows": null,
      "grid_column": null,
      "grid_gap": null,
      "grid_row": null,
      "grid_template_areas": null,
      "grid_template_columns": null,
      "grid_template_rows": null,
      "height": null,
      "justify_content": null,
      "justify_items": null,
      "left": null,
      "margin": null,
      "max_height": null,
      "max_width": null,
      "min_height": null,
      "min_width": null,
      "object_fit": null,
      "object_position": null,
      "order": null,
      "overflow": null,
      "overflow_x": null,
      "overflow_y": null,
      "padding": null,
      "right": null,
      "top": null,
      "visibility": null,
      "width": null
     }
    },
    "a254bca17765456d8d2831f7e9fbd580": {
     "model_module": "@jupyter-widgets/controls",
     "model_module_version": "1.5.0",
     "model_name": "FloatProgressModel",
     "state": {
      "_dom_classes": [],
      "_model_module": "@jupyter-widgets/controls",
      "_model_module_version": "1.5.0",
      "_model_name": "FloatProgressModel",
      "_view_count": null,
      "_view_module": "@jupyter-widgets/controls",
      "_view_module_version": "1.5.0",
      "_view_name": "ProgressView",
      "bar_style": "success",
      "description": "",
      "description_tooltip": null,
      "layout": "IPY_MODEL_68d33e280d774c7282e2c91492ae5808",
      "max": 1091,
      "min": 0,
      "orientation": "horizontal",
      "style": "IPY_MODEL_95bec9e420ff41d3ba2937382b9a2121",
      "value": 1091
     }
    },
    "a915715f71aa450c950be226c98de379": {
     "model_module": "@jupyter-widgets/controls",
     "model_module_version": "1.5.0",
     "model_name": "HBoxModel",
     "state": {
      "_dom_classes": [],
      "_model_module": "@jupyter-widgets/controls",
      "_model_module_version": "1.5.0",
      "_model_name": "HBoxModel",
      "_view_count": null,
      "_view_module": "@jupyter-widgets/controls",
      "_view_module_version": "1.5.0",
      "_view_name": "HBoxView",
      "box_style": "",
      "children": [
       "IPY_MODEL_66f7dc4793a54edd8034370f3bd04638",
       "IPY_MODEL_9dc53888d8584437ad65c434d8e4dd1d",
       "IPY_MODEL_ea6e29f31cac4fdfad7118f59943a98c"
      ],
      "layout": "IPY_MODEL_bef70c529d8c4cd5b6373c70a7bc9727"
     }
    },
    "b14ee993ad90415ca9cfd7e78eeeb590": {
     "model_module": "@jupyter-widgets/controls",
     "model_module_version": "1.5.0",
     "model_name": "DescriptionStyleModel",
     "state": {
      "_model_module": "@jupyter-widgets/controls",
      "_model_module_version": "1.5.0",
      "_model_name": "DescriptionStyleModel",
      "_view_count": null,
      "_view_module": "@jupyter-widgets/base",
      "_view_module_version": "1.2.0",
      "_view_name": "StyleView",
      "description_width": ""
     }
    },
    "b1dbec38e36b4bca94164eaf5e836f3d": {
     "model_module": "@jupyter-widgets/base",
     "model_module_version": "1.2.0",
     "model_name": "LayoutModel",
     "state": {
      "_model_module": "@jupyter-widgets/base",
      "_model_module_version": "1.2.0",
      "_model_name": "LayoutModel",
      "_view_count": null,
      "_view_module": "@jupyter-widgets/base",
      "_view_module_version": "1.2.0",
      "_view_name": "LayoutView",
      "align_content": null,
      "align_items": null,
      "align_self": null,
      "border": null,
      "bottom": null,
      "display": null,
      "flex": null,
      "flex_flow": null,
      "grid_area": null,
      "grid_auto_columns": null,
      "grid_auto_flow": null,
      "grid_auto_rows": null,
      "grid_column": null,
      "grid_gap": null,
      "grid_row": null,
      "grid_template_areas": null,
      "grid_template_columns": null,
      "grid_template_rows": null,
      "height": null,
      "justify_content": null,
      "justify_items": null,
      "left": null,
      "margin": null,
      "max_height": null,
      "max_width": null,
      "min_height": null,
      "min_width": null,
      "object_fit": null,
      "object_position": null,
      "order": null,
      "overflow": null,
      "overflow_x": null,
      "overflow_y": null,
      "padding": null,
      "right": null,
      "top": null,
      "visibility": null,
      "width": null
     }
    },
    "b75650872e0b4bf18382f8b98ebec5db": {
     "model_module": "@jupyter-widgets/base",
     "model_module_version": "1.2.0",
     "model_name": "LayoutModel",
     "state": {
      "_model_module": "@jupyter-widgets/base",
      "_model_module_version": "1.2.0",
      "_model_name": "LayoutModel",
      "_view_count": null,
      "_view_module": "@jupyter-widgets/base",
      "_view_module_version": "1.2.0",
      "_view_name": "LayoutView",
      "align_content": null,
      "align_items": null,
      "align_self": null,
      "border": null,
      "bottom": null,
      "display": null,
      "flex": null,
      "flex_flow": null,
      "grid_area": null,
      "grid_auto_columns": null,
      "grid_auto_flow": null,
      "grid_auto_rows": null,
      "grid_column": null,
      "grid_gap": null,
      "grid_row": null,
      "grid_template_areas": null,
      "grid_template_columns": null,
      "grid_template_rows": null,
      "height": null,
      "justify_content": null,
      "justify_items": null,
      "left": null,
      "margin": null,
      "max_height": null,
      "max_width": null,
      "min_height": null,
      "min_width": null,
      "object_fit": null,
      "object_position": null,
      "order": null,
      "overflow": null,
      "overflow_x": null,
      "overflow_y": null,
      "padding": null,
      "right": null,
      "top": null,
      "visibility": null,
      "width": null
     }
    },
    "b8e2ca66b3b149aebb684939dba762e5": {
     "model_module": "@jupyter-widgets/controls",
     "model_module_version": "1.5.0",
     "model_name": "FloatProgressModel",
     "state": {
      "_dom_classes": [],
      "_model_module": "@jupyter-widgets/controls",
      "_model_module_version": "1.5.0",
      "_model_name": "FloatProgressModel",
      "_view_count": null,
      "_view_module": "@jupyter-widgets/controls",
      "_view_module_version": "1.5.0",
      "_view_name": "ProgressView",
      "bar_style": "success",
      "description": "",
      "description_tooltip": null,
      "layout": "IPY_MODEL_70a61c398d03422490ad197fcdf02b81",
      "max": 1585944,
      "min": 0,
      "orientation": "horizontal",
      "style": "IPY_MODEL_880d36e466e146baafeeff9c975bc39b",
      "value": 1585944
     }
    },
    "bef70c529d8c4cd5b6373c70a7bc9727": {
     "model_module": "@jupyter-widgets/base",
     "model_module_version": "1.2.0",
     "model_name": "LayoutModel",
     "state": {
      "_model_module": "@jupyter-widgets/base",
      "_model_module_version": "1.2.0",
      "_model_name": "LayoutModel",
      "_view_count": null,
      "_view_module": "@jupyter-widgets/base",
      "_view_module_version": "1.2.0",
      "_view_name": "LayoutView",
      "align_content": null,
      "align_items": null,
      "align_self": null,
      "border": null,
      "bottom": null,
      "display": null,
      "flex": null,
      "flex_flow": null,
      "grid_area": null,
      "grid_auto_columns": null,
      "grid_auto_flow": null,
      "grid_auto_rows": null,
      "grid_column": null,
      "grid_gap": null,
      "grid_row": null,
      "grid_template_areas": null,
      "grid_template_columns": null,
      "grid_template_rows": null,
      "height": null,
      "justify_content": null,
      "justify_items": null,
      "left": null,
      "margin": null,
      "max_height": null,
      "max_width": null,
      "min_height": null,
      "min_width": null,
      "object_fit": null,
      "object_position": null,
      "order": null,
      "overflow": null,
      "overflow_x": null,
      "overflow_y": null,
      "padding": null,
      "right": null,
      "top": null,
      "visibility": null,
      "width": null
     }
    },
    "c5a1d3d39fce4a0498285c0ea78b8954": {
     "model_module": "@jupyter-widgets/controls",
     "model_module_version": "1.5.0",
     "model_name": "FloatProgressModel",
     "state": {
      "_dom_classes": [],
      "_model_module": "@jupyter-widgets/controls",
      "_model_module_version": "1.5.0",
      "_model_name": "FloatProgressModel",
      "_view_count": null,
      "_view_module": "@jupyter-widgets/controls",
      "_view_module_version": "1.5.0",
      "_view_name": "ProgressView",
      "bar_style": "success",
      "description": "",
      "description_tooltip": null,
      "layout": "IPY_MODEL_5cac3b1731844248b3d939711e43c4d4",
      "max": 772,
      "min": 0,
      "orientation": "horizontal",
      "style": "IPY_MODEL_88d79a3f4d944cb68c05ea3bb90e5de8",
      "value": 772
     }
    },
    "d1d5244b14a34c068b5edbe82edfef5e": {
     "model_module": "@jupyter-widgets/controls",
     "model_module_version": "1.5.0",
     "model_name": "DescriptionStyleModel",
     "state": {
      "_model_module": "@jupyter-widgets/controls",
      "_model_module_version": "1.5.0",
      "_model_name": "DescriptionStyleModel",
      "_view_count": null,
      "_view_module": "@jupyter-widgets/base",
      "_view_module_version": "1.2.0",
      "_view_name": "StyleView",
      "description_width": ""
     }
    },
    "d710d58c10e040328956c4c7d27993b9": {
     "model_module": "@jupyter-widgets/base",
     "model_module_version": "1.2.0",
     "model_name": "LayoutModel",
     "state": {
      "_model_module": "@jupyter-widgets/base",
      "_model_module_version": "1.2.0",
      "_model_name": "LayoutModel",
      "_view_count": null,
      "_view_module": "@jupyter-widgets/base",
      "_view_module_version": "1.2.0",
      "_view_name": "LayoutView",
      "align_content": null,
      "align_items": null,
      "align_self": null,
      "border": null,
      "bottom": null,
      "display": null,
      "flex": null,
      "flex_flow": null,
      "grid_area": null,
      "grid_auto_columns": null,
      "grid_auto_flow": null,
      "grid_auto_rows": null,
      "grid_column": null,
      "grid_gap": null,
      "grid_row": null,
      "grid_template_areas": null,
      "grid_template_columns": null,
      "grid_template_rows": null,
      "height": null,
      "justify_content": null,
      "justify_items": null,
      "left": null,
      "margin": null,
      "max_height": null,
      "max_width": null,
      "min_height": null,
      "min_width": null,
      "object_fit": null,
      "object_position": null,
      "order": null,
      "overflow": null,
      "overflow_x": null,
      "overflow_y": null,
      "padding": null,
      "right": null,
      "top": null,
      "visibility": null,
      "width": null
     }
    },
    "da7802435d664c29bd3cb5381fe92791": {
     "model_module": "@jupyter-widgets/controls",
     "model_module_version": "1.5.0",
     "model_name": "DescriptionStyleModel",
     "state": {
      "_model_module": "@jupyter-widgets/controls",
      "_model_module_version": "1.5.0",
      "_model_name": "DescriptionStyleModel",
      "_view_count": null,
      "_view_module": "@jupyter-widgets/base",
      "_view_module_version": "1.2.0",
      "_view_name": "StyleView",
      "description_width": ""
     }
    },
    "db43a12ee2b9434cb0a2e07925469395": {
     "model_module": "@jupyter-widgets/controls",
     "model_module_version": "1.5.0",
     "model_name": "HTMLModel",
     "state": {
      "_dom_classes": [],
      "_model_module": "@jupyter-widgets/controls",
      "_model_module_version": "1.5.0",
      "_model_name": "HTMLModel",
      "_view_count": null,
      "_view_module": "@jupyter-widgets/controls",
      "_view_module_version": "1.5.0",
      "_view_name": "HTMLView",
      "description": "",
      "description_tooltip": null,
      "layout": "IPY_MODEL_b75650872e0b4bf18382f8b98ebec5db",
      "placeholder": "​",
      "style": "IPY_MODEL_94de34c239d64ad4a86e9db02d4ae844",
      "value": " 1.09k/1.09k [00:00&lt;00:00, 59.7kB/s]"
     }
    },
    "e480ab89c90e4abb9c435bce077ec04f": {
     "model_module": "@jupyter-widgets/base",
     "model_module_version": "1.2.0",
     "model_name": "LayoutModel",
     "state": {
      "_model_module": "@jupyter-widgets/base",
      "_model_module_version": "1.2.0",
      "_model_name": "LayoutModel",
      "_view_count": null,
      "_view_module": "@jupyter-widgets/base",
      "_view_module_version": "1.2.0",
      "_view_name": "LayoutView",
      "align_content": null,
      "align_items": null,
      "align_self": null,
      "border": null,
      "bottom": null,
      "display": null,
      "flex": null,
      "flex_flow": null,
      "grid_area": null,
      "grid_auto_columns": null,
      "grid_auto_flow": null,
      "grid_auto_rows": null,
      "grid_column": null,
      "grid_gap": null,
      "grid_row": null,
      "grid_template_areas": null,
      "grid_template_columns": null,
      "grid_template_rows": null,
      "height": null,
      "justify_content": null,
      "justify_items": null,
      "left": null,
      "margin": null,
      "max_height": null,
      "max_width": null,
      "min_height": null,
      "min_width": null,
      "object_fit": null,
      "object_position": null,
      "order": null,
      "overflow": null,
      "overflow_x": null,
      "overflow_y": null,
      "padding": null,
      "right": null,
      "top": null,
      "visibility": null,
      "width": null
     }
    },
    "e7ca2ea85fe54ef3b7975096677407ef": {
     "model_module": "@jupyter-widgets/controls",
     "model_module_version": "1.5.0",
     "model_name": "HBoxModel",
     "state": {
      "_dom_classes": [],
      "_model_module": "@jupyter-widgets/controls",
      "_model_module_version": "1.5.0",
      "_model_name": "HBoxModel",
      "_view_count": null,
      "_view_module": "@jupyter-widgets/controls",
      "_view_module_version": "1.5.0",
      "_view_name": "HBoxView",
      "box_style": "",
      "children": [
       "IPY_MODEL_80fa743f34324b80bca188234abe9202",
       "IPY_MODEL_a254bca17765456d8d2831f7e9fbd580",
       "IPY_MODEL_db43a12ee2b9434cb0a2e07925469395"
      ],
      "layout": "IPY_MODEL_e861b2a10b3a4d6690471591def373c6"
     }
    },
    "e861b2a10b3a4d6690471591def373c6": {
     "model_module": "@jupyter-widgets/base",
     "model_module_version": "1.2.0",
     "model_name": "LayoutModel",
     "state": {
      "_model_module": "@jupyter-widgets/base",
      "_model_module_version": "1.2.0",
      "_model_name": "LayoutModel",
      "_view_count": null,
      "_view_module": "@jupyter-widgets/base",
      "_view_module_version": "1.2.0",
      "_view_name": "LayoutView",
      "align_content": null,
      "align_items": null,
      "align_self": null,
      "border": null,
      "bottom": null,
      "display": null,
      "flex": null,
      "flex_flow": null,
      "grid_area": null,
      "grid_auto_columns": null,
      "grid_auto_flow": null,
      "grid_auto_rows": null,
      "grid_column": null,
      "grid_gap": null,
      "grid_row": null,
      "grid_template_areas": null,
      "grid_template_columns": null,
      "grid_template_rows": null,
      "height": null,
      "justify_content": null,
      "justify_items": null,
      "left": null,
      "margin": null,
      "max_height": null,
      "max_width": null,
      "min_height": null,
      "min_width": null,
      "object_fit": null,
      "object_position": null,
      "order": null,
      "overflow": null,
      "overflow_x": null,
      "overflow_y": null,
      "padding": null,
      "right": null,
      "top": null,
      "visibility": null,
      "width": null
     }
    },
    "ea6e29f31cac4fdfad7118f59943a98c": {
     "model_module": "@jupyter-widgets/controls",
     "model_module_version": "1.5.0",
     "model_name": "HTMLModel",
     "state": {
      "_dom_classes": [],
      "_model_module": "@jupyter-widgets/controls",
      "_model_module_version": "1.5.0",
      "_model_name": "HTMLModel",
      "_view_count": null,
      "_view_module": "@jupyter-widgets/controls",
      "_view_module_version": "1.5.0",
      "_view_name": "HTMLView",
      "description": "",
      "description_tooltip": null,
      "layout": "IPY_MODEL_740d90a54cc54b4a91f33bc81e8944cf",
      "placeholder": "​",
      "style": "IPY_MODEL_f46cb06c45f0443796a2088de60731d9",
      "value": " 892k/892k [00:00&lt;00:00, 10.8MB/s]"
     }
    },
    "f46cb06c45f0443796a2088de60731d9": {
     "model_module": "@jupyter-widgets/controls",
     "model_module_version": "1.5.0",
     "model_name": "DescriptionStyleModel",
     "state": {
      "_model_module": "@jupyter-widgets/controls",
      "_model_module_version": "1.5.0",
      "_model_name": "DescriptionStyleModel",
      "_view_count": null,
      "_view_module": "@jupyter-widgets/base",
      "_view_module_version": "1.2.0",
      "_view_name": "StyleView",
      "description_width": ""
     }
    },
    "fbeaaa5838c64292bdc5d3e77077cfcc": {
     "model_module": "@jupyter-widgets/controls",
     "model_module_version": "1.5.0",
     "model_name": "DescriptionStyleModel",
     "state": {
      "_model_module": "@jupyter-widgets/controls",
      "_model_module_version": "1.5.0",
      "_model_name": "DescriptionStyleModel",
      "_view_count": null,
      "_view_module": "@jupyter-widgets/base",
      "_view_module_version": "1.2.0",
      "_view_name": "StyleView",
      "description_width": ""
     }
    }
   }
  }
 },
 "nbformat": 4,
 "nbformat_minor": 4
}
