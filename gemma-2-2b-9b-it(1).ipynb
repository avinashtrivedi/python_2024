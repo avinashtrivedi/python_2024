{
 "cells": [
  {
   "cell_type": "code",
   "execution_count": 1,
   "id": "62ab4807-50a7-4cb9-a1ac-64c67bb130af",
   "metadata": {},
   "outputs": [],
   "source": [
    "import pandas as pd"
   ]
  },
  {
   "cell_type": "code",
   "execution_count": 2,
   "id": "f778bbc8-a472-446c-bf72-e80826674665",
   "metadata": {},
   "outputs": [],
   "source": [
    "df_train = pd.read_csv('training_data_en.csv',sep=';',on_bad_lines='skip')"
   ]
  },
  {
   "cell_type": "code",
   "execution_count": 3,
   "id": "0705993a-389b-4c5a-a61f-7d372454e1f3",
   "metadata": {},
   "outputs": [
    {
     "data": {
      "text/html": [
       "<div>\n",
       "<style scoped>\n",
       "    .dataframe tbody tr th:only-of-type {\n",
       "        vertical-align: middle;\n",
       "    }\n",
       "\n",
       "    .dataframe tbody tr th {\n",
       "        vertical-align: top;\n",
       "    }\n",
       "\n",
       "    .dataframe thead th {\n",
       "        text-align: right;\n",
       "    }\n",
       "</style>\n",
       "<table border=\"1\" class=\"dataframe\">\n",
       "  <thead>\n",
       "    <tr style=\"text-align: right;\">\n",
       "      <th></th>\n",
       "      <th>ID</th>\n",
       "      <th>Text</th>\n",
       "      <th>Question</th>\n",
       "      <th>Answer</th>\n",
       "    </tr>\n",
       "  </thead>\n",
       "  <tbody>\n",
       "    <tr>\n",
       "      <th>0</th>\n",
       "      <td>3335</td>\n",
       "      <td>Nationwide is in robust financial health, havi...</td>\n",
       "      <td>What is the effect of achieving profits of ove...</td>\n",
       "      <td>Nationwide is in robust financial health</td>\n",
       "    </tr>\n",
       "    <tr>\n",
       "      <th>1</th>\n",
       "      <td>3336</td>\n",
       "      <td>All the Directors are resident in the UK and t...</td>\n",
       "      <td>What is the impact of the Company's small size...</td>\n",
       "      <td>the Board considers it sensible for all the Di...</td>\n",
       "    </tr>\n",
       "    <tr>\n",
       "      <th>2</th>\n",
       "      <td>3337</td>\n",
       "      <td>Overall, Group trading continues to be subdued...</td>\n",
       "      <td>What is the main reason why the Group trading ...</td>\n",
       "      <td>legacy issues</td>\n",
       "    </tr>\n",
       "    <tr>\n",
       "      <th>3</th>\n",
       "      <td>3341</td>\n",
       "      <td>Included within the Group's administrative exp...</td>\n",
       "      <td>What is the effect of the Group taking a contr...</td>\n",
       "      <td>consolidate the results of a portfolio company...</td>\n",
       "    </tr>\n",
       "    <tr>\n",
       "      <th>4</th>\n",
       "      <td>3343</td>\n",
       "      <td>The following points were noted: • A review of...</td>\n",
       "      <td>What happened because of management performing...</td>\n",
       "      <td>The outstanding receivables are fully impaired</td>\n",
       "    </tr>\n",
       "    <tr>\n",
       "      <th>...</th>\n",
       "      <td>...</td>\n",
       "      <td>...</td>\n",
       "      <td>...</td>\n",
       "      <td>...</td>\n",
       "    </tr>\n",
       "    <tr>\n",
       "      <th>1991</th>\n",
       "      <td>5094</td>\n",
       "      <td>Because the \"curing\" of concrete takes place o...</td>\n",
       "      <td>What are the consequences of the \"curing\" of c...</td>\n",
       "      <td>some of these tests span periods up to 12 mont...</td>\n",
       "    </tr>\n",
       "    <tr>\n",
       "      <th>1992</th>\n",
       "      <td>3568.a</td>\n",
       "      <td>Finally it is worth noting that in addition to...</td>\n",
       "      <td>What was the impact of the continuing enhanced...</td>\n",
       "      <td>has made us the biggest in our industry</td>\n",
       "    </tr>\n",
       "    <tr>\n",
       "      <th>1993</th>\n",
       "      <td>5044.1</td>\n",
       "      <td>The Group will operate in highly competitive m...</td>\n",
       "      <td>What explains the rapid evolution and adaptati...</td>\n",
       "      <td>factors such as consumer tastes, trends and te...</td>\n",
       "    </tr>\n",
       "    <tr>\n",
       "      <th>1994</th>\n",
       "      <td>1463</td>\n",
       "      <td>Any increases to Non-Executive Director fees w...</td>\n",
       "      <td>What factors will influence the decision to in...</td>\n",
       "      <td>the outcome of a review process and taking int...</td>\n",
       "    </tr>\n",
       "    <tr>\n",
       "      <th>1995</th>\n",
       "      <td>5142</td>\n",
       "      <td>The occupational cost ratio decreased from 15....</td>\n",
       "      <td>What factors account for the decrease in the o...</td>\n",
       "      <td>the increase in sales and also the disposals o...</td>\n",
       "    </tr>\n",
       "  </tbody>\n",
       "</table>\n",
       "<p>1996 rows × 4 columns</p>\n",
       "</div>"
      ],
      "text/plain": [
       "          ID                                               Text  \\\n",
       "0       3335  Nationwide is in robust financial health, havi...   \n",
       "1       3336  All the Directors are resident in the UK and t...   \n",
       "2       3337  Overall, Group trading continues to be subdued...   \n",
       "3       3341  Included within the Group's administrative exp...   \n",
       "4       3343  The following points were noted: • A review of...   \n",
       "...      ...                                                ...   \n",
       "1991    5094  Because the \"curing\" of concrete takes place o...   \n",
       "1992  3568.a  Finally it is worth noting that in addition to...   \n",
       "1993  5044.1  The Group will operate in highly competitive m...   \n",
       "1994    1463  Any increases to Non-Executive Director fees w...   \n",
       "1995    5142  The occupational cost ratio decreased from 15....   \n",
       "\n",
       "                                               Question  \\\n",
       "0     What is the effect of achieving profits of ove...   \n",
       "1     What is the impact of the Company's small size...   \n",
       "2     What is the main reason why the Group trading ...   \n",
       "3     What is the effect of the Group taking a contr...   \n",
       "4     What happened because of management performing...   \n",
       "...                                                 ...   \n",
       "1991  What are the consequences of the \"curing\" of c...   \n",
       "1992  What was the impact of the continuing enhanced...   \n",
       "1993  What explains the rapid evolution and adaptati...   \n",
       "1994  What factors will influence the decision to in...   \n",
       "1995  What factors account for the decrease in the o...   \n",
       "\n",
       "                                                 Answer  \n",
       "0              Nationwide is in robust financial health  \n",
       "1     the Board considers it sensible for all the Di...  \n",
       "2                                         legacy issues  \n",
       "3     consolidate the results of a portfolio company...  \n",
       "4        The outstanding receivables are fully impaired  \n",
       "...                                                 ...  \n",
       "1991  some of these tests span periods up to 12 mont...  \n",
       "1992            has made us the biggest in our industry  \n",
       "1993  factors such as consumer tastes, trends and te...  \n",
       "1994  the outcome of a review process and taking int...  \n",
       "1995  the increase in sales and also the disposals o...  \n",
       "\n",
       "[1996 rows x 4 columns]"
      ]
     },
     "execution_count": 3,
     "metadata": {},
     "output_type": "execute_result"
    }
   ],
   "source": [
    "df_train"
   ]
  },
  {
   "cell_type": "code",
   "execution_count": 4,
   "id": "881453cd-10fb-439a-81f8-cdf394c9252a",
   "metadata": {},
   "outputs": [
    {
     "data": {
      "text/plain": [
       "'Overall, Group trading continues to be subdued in large part due to legacy issues'"
      ]
     },
     "execution_count": 4,
     "metadata": {},
     "output_type": "execute_result"
    }
   ],
   "source": [
    "df_train.loc[2]['Text']"
   ]
  },
  {
   "cell_type": "code",
   "execution_count": 5,
   "id": "58cd3855-d60b-467a-a906-8888602dd82d",
   "metadata": {},
   "outputs": [],
   "source": [
    "# Same Text multiple cause and Effects"
   ]
  },
  {
   "cell_type": "code",
   "execution_count": 6,
   "id": "af3f842b-0c0e-4aa5-ae01-ed62198ebb49",
   "metadata": {},
   "outputs": [],
   "source": [
    "df_grouped = df_train.groupby('Text').count()  # Group by 'Text' and get counts\n",
    "filtered_df = df_grouped[df_grouped['ID'] > 1]  # Replace 'some_column' with the column you're counting"
   ]
  },
  {
   "cell_type": "code",
   "execution_count": 7,
   "id": "854a21f7-ae2a-44bd-bf39-be3f335f7886",
   "metadata": {},
   "outputs": [],
   "source": [
    "import os\n",
    "import openai\n",
    "from openai import OpenAI\n",
    "# get client\n",
    "\n",
    "# choice = input('Willing to use paid or free?')\n",
    "\n",
    "# if choice=='paid':\n",
    "#     # paid, get your key and add in key.env file\n",
    "#     client = OpenAI(api_key=OAI_KEY)\n",
    "# else:\n",
    "#     # free, get your free key and add in key.env file\n",
    "#     client = openai.OpenAI(\n",
    "#     base_url=\"https://api.groq.com/openai/v1\",\n",
    "#     # create your api key https://console.groq.com/keys\n",
    "#     api_key=\"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\"\n",
    "#     )"
   ]
  },
  {
   "cell_type": "code",
   "execution_count": 8,
   "id": "dbd05438-b9cf-478f-8967-fe9a8a01bf55",
   "metadata": {},
   "outputs": [],
   "source": [
    "client = openai.OpenAI(\n",
    "    base_url=\"http://127.0.0.1:1337/v1\",\n",
    "    # base_url=\"http://localhost:8080/v1\", # \"http://<Your api-server IP>:port\"\n",
    "    api_key = \"sk-no-key-required\"\n",
    ")"
   ]
  },
  {
   "cell_type": "code",
   "execution_count": 9,
   "id": "b4703701-eea0-4d46-8259-36b2e4a82d7c",
   "metadata": {},
   "outputs": [],
   "source": [
    "# List available models\n",
    "models = client.models.list()"
   ]
  },
  {
   "cell_type": "code",
   "execution_count": 10,
   "id": "0ef8bb66-a9b5-4fa8-890d-a41e50426fa8",
   "metadata": {},
   "outputs": [
    {
     "data": {
      "text/plain": [
       "['Llama-3.2-3B-Instruct-Q3_K_L',\n",
       " 'Meta-Llama-3.1-70B-Instruct-IQ1_M',\n",
       " 'Meta-Llama-3.1-70B-Instruct-IQ2_XXS',\n",
       " 'Meta-Llama-3.1-70B-Instruct-Q4_K_M',\n",
       " 'Meta-Llama-3.1-8B-Instruct-Q8_0',\n",
       " 'aya-23-35b',\n",
       " 'aya-23-8b',\n",
       " 'bakllava-1',\n",
       " 'claude-3-5-sonnet-20240620',\n",
       " 'claude-3-haiku-20240307',\n",
       " 'claude-3-opus-20240229',\n",
       " 'claude-3-sonnet-20240229',\n",
       " 'codeninja-1.0-7b',\n",
       " 'codestral-22b',\n",
       " 'command-r',\n",
       " 'command-r-34b',\n",
       " 'command-r-plus',\n",
       " 'deepseek-coder-1.3b',\n",
       " 'deepseek-coder-34b',\n",
       " 'deepseek-coder-7b-instruct-v1.5-Q4_K_M',\n",
       " 'gemma-1.1-2b-it',\n",
       " 'gemma-1.1-7b-it',\n",
       " 'gemma-2-27b-it',\n",
       " 'gemma-2-2b-it',\n",
       " 'gemma-2-9b-it',\n",
       " 'gemma-7b-it',\n",
       " 'gpt-3.5-turbo',\n",
       " 'gpt-4-turbo',\n",
       " 'gpt-4-vision-preview',\n",
       " 'gpt-4o',\n",
       " 'llama2-chat-70b',\n",
       " 'llama2-chat-7b',\n",
       " 'llama3-70b-8192',\n",
       " 'llama3-8b-8192',\n",
       " 'llama3-8b-instruct',\n",
       " 'llama3-hermes-8b',\n",
       " 'llama3.1-70b-instruct',\n",
       " 'llama3.1-8b-instruct',\n",
       " 'llama3.2-1b-instruct',\n",
       " 'llama3.2-3b-instruct',\n",
       " 'llamacorn-1.1b',\n",
       " 'llava-13b',\n",
       " 'llava-7b',\n",
       " 'mistral-ins-7b-q4',\n",
       " 'mistral-large-latest',\n",
       " 'mistral-small-latest',\n",
       " 'mixtral-8x7b-32768',\n",
       " 'mixtral-8x7b-instruct',\n",
       " 'noromaid-7b',\n",
       " 'o1-mini',\n",
       " 'o1-preview',\n",
       " 'open-mixtral-8x22b',\n",
       " 'open-router-auto',\n",
       " 'openchat-3.5-7b',\n",
       " 'phi3-3.8b',\n",
       " 'phi3-medium',\n",
       " 'phind-34b',\n",
       " 'qwen-7b',\n",
       " 'qwen2-7b',\n",
       " 'qwen2.5-14b-instruct',\n",
       " 'qwen2.5-32b-instruct',\n",
       " 'qwen2.5-72b-instruct',\n",
       " 'qwen2.5-7b-instruct',\n",
       " 'qwen2.5-coder-7b-instruct',\n",
       " 'router',\n",
       " 'stable-zephyr-3b',\n",
       " 'stealth-v1.2-7b',\n",
       " 'tinyllama-1.1b',\n",
       " 'trinity-v1.2-7b',\n",
       " 'vistral-7b',\n",
       " 'wizardcoder-13b',\n",
       " 'yi-34b']"
      ]
     },
     "execution_count": 10,
     "metadata": {},
     "output_type": "execute_result"
    }
   ],
   "source": [
    "[i.id for i in models.data]"
   ]
  },
  {
   "cell_type": "code",
   "execution_count": 11,
   "id": "68822f47-9eb9-4d2d-94ad-905209abcbe2",
   "metadata": {},
   "outputs": [],
   "source": [
    "# List of models\n",
    "# https://community.make.com/t/what-is-the-difference-between-system-user-and-assistant-roles-in-chatgpt/36160\n",
    "# Free:- https://console.groq.com/docs/models\n",
    "# Paid:- https://openai.com/api/pricing/\n",
    "\n",
    "\n",
    "def get_predicted_linker(cntxt,qstn):\n",
    "    completion = client.chat.completions.create(\n",
    "        model= 'gemma-2-9b-it', #'llama-3.1-8b-instant',# chatgpt cheapest and efficient -> \"gpt-4o-mini\",\n",
    "        stop= [\"<start_of_turn>\",\"<end_of_turn>\",\"\\n\"], #[\"<|eot_id|>\", \"\\n\",'</s>'],\n",
    "        messages=[\n",
    "            {\"role\": \"system\", \"content\": \"\"\"\n",
    "            You are an AI assistant in Finance Causal generation. Your task is to The answer the cause or effect previously questioned, extracted verbatim from the text, making it extractive.\n",
    "            Here are some examples:\n",
    "            \n",
    "            Example 1:\n",
    "            CONTEXT: Nationwide is in robust financial health, having achieved profits of over £1 billion for the third consecutive year. \n",
    "            As a mutual, profits are not the only barometer of our success, but they are important because they allow us to maintain our financial strength, to invest with confidence, \n",
    "            and to return value to you, our members, through pricing and service.When given new sequences, respond with only the predicted Linker SMILES and nothing else.\n",
    "            QUESTION: What is the effect of achieving profits of over £1 billion for the third consecutive year?\n",
    "            ANSWER: Nationwide is in robust financial health\n",
    "\n",
    "            Example 2:\n",
    "            CONTEXT: All the Directors are resident in the UK and their biographical details, which are set out on page s 26 and 27, \n",
    "            demonstrate the wide range of skills and experience that they bring to the Board. In view of the Company's size and as the Board is comprised of only five Directors, \n",
    "            all of whom are independent, the Board considers it sensible for all the Directors to be members of the Audit Committee and of the Nomination and Remuneration Committee.\n",
    "            QUESTION: What is the impact of the Company's small size and having a Board comprised of only five independent Directors?\n",
    "            ANSWER: the Board considers it sensible for all the Directors to be members of the Audit Committee and of the Nomination and Remuneration Committee\n",
    "\n",
    "            When given new Context and Question,just respond with only extracted verbatim from the ###Context as Answer and Do not add or modify anything.\n",
    "            \"\"\"},\n",
    "\n",
    "            {\"role\": \"user\", \"content\": f\"\"\"\n",
    "            ### Instruction\n",
    "            You will be given financial text as context in ### Context.\n",
    "\n",
    "            Read and understand definition of Cause and Effect:\n",
    "            The cause and effect is defined as a relation established between two events, where the first\n",
    "            event acts as the cause of the second event and the second event is the effect of the first event.\n",
    "            One cause can have several effects. A cause is why an event happens. The effect is an event\n",
    "            that happens because of cause. The cause and effect occurs based on the following criteria,\n",
    "            where cause has to occur before effect, and whenever the cause occurs the effect has to occur.\n",
    " \n",
    "            ### Context: {cntxt}\n",
    "            ### Question: {qstn}\n",
    "            ### Answer:\n",
    "            \"\"\"}\n",
    "        ]\n",
    "    )\n",
    "    return completion.choices[0].message.content"
   ]
  },
  {
   "cell_type": "code",
   "execution_count": 12,
   "id": "62e85827-e4d9-4fa8-8d73-6b2c84bfa044",
   "metadata": {},
   "outputs": [],
   "source": [
    "t = df_train['Text'][5]\n",
    "q = df_train['Question'][5]"
   ]
  },
  {
   "cell_type": "code",
   "execution_count": 13,
   "id": "b2555d90-6e51-48a5-a023-de365efb6429",
   "metadata": {},
   "outputs": [
    {
     "data": {
      "text/plain": [
       "'This year, we continued to implement the objectives set out in our Environmental Policy'"
      ]
     },
     "execution_count": 13,
     "metadata": {},
     "output_type": "execute_result"
    }
   ],
   "source": [
    "df_train['Answer'][5]"
   ]
  },
  {
   "cell_type": "code",
   "execution_count": 14,
   "id": "cd62da6e-df97-437a-825f-088ee7e02d45",
   "metadata": {},
   "outputs": [
    {
     "data": {
      "text/plain": [
       "'This year, we continued to implement the objectives set out in our Environmental Policy and as a result, the Bank has introduced many initiatives to enhance our commitment to conducting our business'"
      ]
     },
     "execution_count": 14,
     "metadata": {},
     "output_type": "execute_result"
    }
   ],
   "source": [
    "t"
   ]
  },
  {
   "cell_type": "code",
   "execution_count": 15,
   "id": "829c8abb-995e-4193-a248-52b8b5128a67",
   "metadata": {},
   "outputs": [
    {
     "data": {
      "text/plain": [
       "'Why has the Bank introduced many initiatives to enhance their commitment to conducting their business?'"
      ]
     },
     "execution_count": 15,
     "metadata": {},
     "output_type": "execute_result"
    }
   ],
   "source": [
    "q"
   ]
  },
  {
   "cell_type": "code",
   "execution_count": 16,
   "id": "367c7b37-546d-433e-ab90-f41cb69f748b",
   "metadata": {},
   "outputs": [],
   "source": [
    "a = get_predicted_linker(t,q)"
   ]
  },
  {
   "cell_type": "code",
   "execution_count": 17,
   "id": "67e221cc-5685-4ba6-8ca4-9347d09f1c01",
   "metadata": {},
   "outputs": [
    {
     "data": {
      "text/plain": [
       "'This year, we continued to implement the objectives set out in our Environmental Policy  '"
      ]
     },
     "execution_count": 17,
     "metadata": {},
     "output_type": "execute_result"
    }
   ],
   "source": [
    "a"
   ]
  },
  {
   "cell_type": "code",
   "execution_count": 18,
   "id": "8f04cc3c-b6e6-403f-b391-a4b500cd062c",
   "metadata": {},
   "outputs": [
    {
     "name": "stdout",
     "output_type": "stream",
     "text": [
      "This year, we continued to implement the objectives set out in our Environmental Policy  \n"
     ]
    }
   ],
   "source": [
    "print(a)"
   ]
  },
  {
   "cell_type": "code",
   "execution_count": 19,
   "id": "27e63638-d7f0-4995-9cae-cc8743a67040",
   "metadata": {},
   "outputs": [
    {
     "data": {
      "text/plain": [
       "array(['What', 'Why', 'In', 'Why,', 'According', 'Following', 'For',\n",
       "       'Which', 'Given', 'Apart', 'To'], dtype=object)"
      ]
     },
     "execution_count": 19,
     "metadata": {},
     "output_type": "execute_result"
    }
   ],
   "source": [
    "df_train['Question'].apply(lambda x:x.split()[0]).unique()"
   ]
  },
  {
   "cell_type": "code",
   "execution_count": 20,
   "id": "7a0fa195-ca59-45e9-a78d-5d61facfa852",
   "metadata": {},
   "outputs": [],
   "source": [
    "from tqdm.notebook import tqdm"
   ]
  },
  {
   "cell_type": "code",
   "execution_count": 21,
   "id": "e53e546f-ecf9-4f97-965f-f682499b04d7",
   "metadata": {},
   "outputs": [],
   "source": [
    "df = df_train"
   ]
  },
  {
   "cell_type": "code",
   "execution_count": 22,
   "id": "f4ebef27-1190-4a0d-9c89-a8be4168707b",
   "metadata": {},
   "outputs": [
    {
     "data": {
      "application/vnd.jupyter.widget-view+json": {
       "model_id": "116f824a3c82462cb500ef92f87a8d63",
       "version_major": 2,
       "version_minor": 0
      },
      "text/plain": [
       "0it [00:00, ?it/s]"
      ]
     },
     "metadata": {},
     "output_type": "display_data"
    }
   ],
   "source": [
    "df['Predicted_Answer'] = None\n",
    "for line,row in tqdm(df.iterrows()):\n",
    "    context = row['Text']\n",
    "    qstn = row['Question']\n",
    "    a = get_predicted_linker(context,qstn)\n",
    "    df.at[line, 'Predicted_Answer'] = a"
   ]
  },
  {
   "cell_type": "code",
   "execution_count": 23,
   "id": "f64b9087-8b7e-4c53-82f7-662e0aa092d2",
   "metadata": {},
   "outputs": [],
   "source": [
    "# generate all causes and respective effect\n",
    "# Roberta + decoder\n",
    "# prompt tuning\n",
    "# change topk top P , temp etc.."
   ]
  },
  {
   "cell_type": "code",
   "execution_count": 24,
   "id": "8168f9dd-fc82-4375-89be-efca4b1ee1c8",
   "metadata": {},
   "outputs": [
    {
     "data": {
      "text/html": [
       "<div>\n",
       "<style scoped>\n",
       "    .dataframe tbody tr th:only-of-type {\n",
       "        vertical-align: middle;\n",
       "    }\n",
       "\n",
       "    .dataframe tbody tr th {\n",
       "        vertical-align: top;\n",
       "    }\n",
       "\n",
       "    .dataframe thead th {\n",
       "        text-align: right;\n",
       "    }\n",
       "</style>\n",
       "<table border=\"1\" class=\"dataframe\">\n",
       "  <thead>\n",
       "    <tr style=\"text-align: right;\">\n",
       "      <th></th>\n",
       "      <th>ID</th>\n",
       "      <th>Text</th>\n",
       "      <th>Question</th>\n",
       "      <th>Answer</th>\n",
       "      <th>Predicted_Answer</th>\n",
       "    </tr>\n",
       "  </thead>\n",
       "  <tbody>\n",
       "    <tr>\n",
       "      <th>0</th>\n",
       "      <td>3335</td>\n",
       "      <td>Nationwide is in robust financial health, havi...</td>\n",
       "      <td>What is the effect of achieving profits of ove...</td>\n",
       "      <td>Nationwide is in robust financial health</td>\n",
       "      <td>Nationwide is in robust financial health</td>\n",
       "    </tr>\n",
       "    <tr>\n",
       "      <th>1</th>\n",
       "      <td>3336</td>\n",
       "      <td>All the Directors are resident in the UK and t...</td>\n",
       "      <td>What is the impact of the Company's small size...</td>\n",
       "      <td>the Board considers it sensible for all the Di...</td>\n",
       "      <td>the Board considers it sensible for all the Di...</td>\n",
       "    </tr>\n",
       "    <tr>\n",
       "      <th>2</th>\n",
       "      <td>3337</td>\n",
       "      <td>Overall, Group trading continues to be subdued...</td>\n",
       "      <td>What is the main reason why the Group trading ...</td>\n",
       "      <td>legacy issues</td>\n",
       "      <td>legacy issues</td>\n",
       "    </tr>\n",
       "    <tr>\n",
       "      <th>3</th>\n",
       "      <td>3341</td>\n",
       "      <td>Included within the Group's administrative exp...</td>\n",
       "      <td>What is the effect of the Group taking a contr...</td>\n",
       "      <td>consolidate the results of a portfolio company...</td>\n",
       "      <td>and hence consolidate the results of a portfol...</td>\n",
       "    </tr>\n",
       "    <tr>\n",
       "      <th>4</th>\n",
       "      <td>3343</td>\n",
       "      <td>The following points were noted: • A review of...</td>\n",
       "      <td>What happened because of management performing...</td>\n",
       "      <td>The outstanding receivables are fully impaired</td>\n",
       "      <td>As a result of the above actions, management c...</td>\n",
       "    </tr>\n",
       "    <tr>\n",
       "      <th>...</th>\n",
       "      <td>...</td>\n",
       "      <td>...</td>\n",
       "      <td>...</td>\n",
       "      <td>...</td>\n",
       "      <td>...</td>\n",
       "    </tr>\n",
       "    <tr>\n",
       "      <th>1991</th>\n",
       "      <td>5094</td>\n",
       "      <td>Because the \"curing\" of concrete takes place o...</td>\n",
       "      <td>What are the consequences of the \"curing\" of c...</td>\n",
       "      <td>some of these tests span periods up to 12 mont...</td>\n",
       "      <td>some of these tests span periods up to 12 mont...</td>\n",
       "    </tr>\n",
       "    <tr>\n",
       "      <th>1992</th>\n",
       "      <td>3568.a</td>\n",
       "      <td>Finally it is worth noting that in addition to...</td>\n",
       "      <td>What was the impact of the continuing enhanced...</td>\n",
       "      <td>has made us the biggest in our industry</td>\n",
       "      <td>the biggest in our industry and therefore inev...</td>\n",
       "    </tr>\n",
       "    <tr>\n",
       "      <th>1993</th>\n",
       "      <td>5044.1</td>\n",
       "      <td>The Group will operate in highly competitive m...</td>\n",
       "      <td>What explains the rapid evolution and adaptati...</td>\n",
       "      <td>factors such as consumer tastes, trends and te...</td>\n",
       "      <td>factors such as consumer tastes, trends and te...</td>\n",
       "    </tr>\n",
       "    <tr>\n",
       "      <th>1994</th>\n",
       "      <td>1463</td>\n",
       "      <td>Any increases to Non-Executive Director fees w...</td>\n",
       "      <td>What factors will influence the decision to in...</td>\n",
       "      <td>the outcome of a review process and taking int...</td>\n",
       "      <td>the outcome of a review process and taking int...</td>\n",
       "    </tr>\n",
       "    <tr>\n",
       "      <th>1995</th>\n",
       "      <td>5142</td>\n",
       "      <td>The occupational cost ratio decreased from 15....</td>\n",
       "      <td>What factors account for the decrease in the o...</td>\n",
       "      <td>the increase in sales and also the disposals o...</td>\n",
       "      <td>the increase in sales and also the disposals o...</td>\n",
       "    </tr>\n",
       "  </tbody>\n",
       "</table>\n",
       "<p>1996 rows × 5 columns</p>\n",
       "</div>"
      ],
      "text/plain": [
       "          ID                                               Text  \\\n",
       "0       3335  Nationwide is in robust financial health, havi...   \n",
       "1       3336  All the Directors are resident in the UK and t...   \n",
       "2       3337  Overall, Group trading continues to be subdued...   \n",
       "3       3341  Included within the Group's administrative exp...   \n",
       "4       3343  The following points were noted: • A review of...   \n",
       "...      ...                                                ...   \n",
       "1991    5094  Because the \"curing\" of concrete takes place o...   \n",
       "1992  3568.a  Finally it is worth noting that in addition to...   \n",
       "1993  5044.1  The Group will operate in highly competitive m...   \n",
       "1994    1463  Any increases to Non-Executive Director fees w...   \n",
       "1995    5142  The occupational cost ratio decreased from 15....   \n",
       "\n",
       "                                               Question  \\\n",
       "0     What is the effect of achieving profits of ove...   \n",
       "1     What is the impact of the Company's small size...   \n",
       "2     What is the main reason why the Group trading ...   \n",
       "3     What is the effect of the Group taking a contr...   \n",
       "4     What happened because of management performing...   \n",
       "...                                                 ...   \n",
       "1991  What are the consequences of the \"curing\" of c...   \n",
       "1992  What was the impact of the continuing enhanced...   \n",
       "1993  What explains the rapid evolution and adaptati...   \n",
       "1994  What factors will influence the decision to in...   \n",
       "1995  What factors account for the decrease in the o...   \n",
       "\n",
       "                                                 Answer  \\\n",
       "0              Nationwide is in robust financial health   \n",
       "1     the Board considers it sensible for all the Di...   \n",
       "2                                         legacy issues   \n",
       "3     consolidate the results of a portfolio company...   \n",
       "4        The outstanding receivables are fully impaired   \n",
       "...                                                 ...   \n",
       "1991  some of these tests span periods up to 12 mont...   \n",
       "1992            has made us the biggest in our industry   \n",
       "1993  factors such as consumer tastes, trends and te...   \n",
       "1994  the outcome of a review process and taking int...   \n",
       "1995  the increase in sales and also the disposals o...   \n",
       "\n",
       "                                       Predicted_Answer  \n",
       "0            Nationwide is in robust financial health    \n",
       "1     the Board considers it sensible for all the Di...  \n",
       "2                                        legacy issues   \n",
       "3     and hence consolidate the results of a portfol...  \n",
       "4     As a result of the above actions, management c...  \n",
       "...                                                 ...  \n",
       "1991  some of these tests span periods up to 12 mont...  \n",
       "1992  the biggest in our industry and therefore inev...  \n",
       "1993  factors such as consumer tastes, trends and te...  \n",
       "1994  the outcome of a review process and taking int...  \n",
       "1995  the increase in sales and also the disposals o...  \n",
       "\n",
       "[1996 rows x 5 columns]"
      ]
     },
     "execution_count": 24,
     "metadata": {},
     "output_type": "execute_result"
    }
   ],
   "source": [
    "df"
   ]
  },
  {
   "cell_type": "code",
   "execution_count": 25,
   "id": "e991fce6-3380-4d69-b096-7f8fca7ee7df",
   "metadata": {},
   "outputs": [],
   "source": [
    "import pandas as pd\n",
    "import numpy as np\n",
    "df.to_csv('prediction_gemma-2-9b-it.csv',index=False)"
   ]
  },
  {
   "cell_type": "code",
   "execution_count": 26,
   "id": "8826eee1-7e12-450c-841b-109334ad8bd7",
   "metadata": {},
   "outputs": [
    {
     "name": "stderr",
     "output_type": "stream",
     "text": [
      "/home/sarang/.local/lib/python3.10/site-packages/sentence_transformers/cross_encoder/CrossEncoder.py:13: TqdmExperimentalWarning: Using `tqdm.autonotebook.tqdm` in notebook mode. Use `tqdm.tqdm` instead to force console mode (e.g. in jupyter console)\n",
      "  from tqdm.autonotebook import tqdm, trange\n",
      "2024-10-23 07:28:13.185722: I tensorflow/core/util/util.cc:169] oneDNN custom operations are on. You may see slightly different numerical results due to floating-point round-off errors from different computation orders. To turn them off, set the environment variable `TF_ENABLE_ONEDNN_OPTS=0`.\n"
     ]
    }
   ],
   "source": [
    "from sentence_transformers import SentenceTransformer, util\n",
    "from collections import namedtuple\n",
    "\n",
    "model = \"sentence-transformers/paraphrase-multilingual-mpnet-base-v2\"\n",
    "st_model = SentenceTransformer(model)\n",
    "\n",
    "Task2Data = namedtuple('Task2Data', ['index', 'context', 'question', 'answer'])\n",
    "\n",
    "def SAS(predicted_answers, reference_answers):\n",
    "    predictions_embeddings = st_model.encode(predicted_answers, convert_to_tensor=True)\n",
    "    reference_embeddings = st_model.encode(reference_answers, convert_to_tensor=True)\n",
    "    similarity_scores = [util.cos_sim(p, l).cpu().numpy() for p, l in zip(predictions_embeddings, reference_embeddings)]\n",
    "    return np.mean(similarity_scores)\n",
    "\n",
    "def ExactMatch(predicted_answers, reference_answers):\n",
    "    return np.mean([1 if pred.lower().strip() == ref.lower().strip() else 0 for pred, ref in zip(predicted_answers, reference_answers)])\n"
   ]
  },
  {
   "cell_type": "code",
   "execution_count": 27,
   "id": "d7f1aaa2-63fc-4c31-9a35-b8f6ad3021f5",
   "metadata": {},
   "outputs": [],
   "source": [
    "reference_answers = df['Answer'].values\n",
    "predicted_answers = df['Predicted_Answer'].values"
   ]
  },
  {
   "cell_type": "code",
   "execution_count": 28,
   "id": "98a52548-b1d6-4c48-98e3-7386eeabb1ca",
   "metadata": {},
   "outputs": [
    {
     "data": {
      "text/plain": [
       "0.89748996"
      ]
     },
     "execution_count": 28,
     "metadata": {},
     "output_type": "execute_result"
    }
   ],
   "source": [
    "SAS(predicted_answers, reference_answers)"
   ]
  },
  {
   "cell_type": "code",
   "execution_count": 29,
   "id": "baaff873-c9ef-4293-8d06-b8be1c11de9d",
   "metadata": {},
   "outputs": [
    {
     "data": {
      "text/plain": [
       "0.28707414829659317"
      ]
     },
     "execution_count": 29,
     "metadata": {},
     "output_type": "execute_result"
    }
   ],
   "source": [
    "ExactMatch(predicted_answers, reference_answers)"
   ]
  },
  {
   "cell_type": "code",
   "execution_count": null,
   "id": "4a816795-2d17-44fa-a050-dd29b9ec1b97",
   "metadata": {},
   "outputs": [],
   "source": []
  }
 ],
 "metadata": {
  "kernelspec": {
   "display_name": "Python 3 (ipykernel)",
   "language": "python",
   "name": "python3"
  },
  "language_info": {
   "codemirror_mode": {
    "name": "ipython",
    "version": 3
   },
   "file_extension": ".py",
   "mimetype": "text/x-python",
   "name": "python",
   "nbconvert_exporter": "python",
   "pygments_lexer": "ipython3",
   "version": "3.9.15"
  }
 },
 "nbformat": 4,
 "nbformat_minor": 5
}
