{
 "cells": [
  {
   "cell_type": "code",
   "execution_count": 1,
   "id": "d56d0fa3",
   "metadata": {},
   "outputs": [],
   "source": [
    "from Bio import Entrez\n",
    "import pandas as pd\n",
    "from tqdm.notebook import tqdm\n",
    "\n",
    "Entrez.email = \"singhmohit.1889@gmail.com\"\n",
    "Entrez.api_key = \"1c22910bfa9f49693b451d3dfec15c1dbb09\"\n",
    "\n",
    "def extract_pubmed_id(reference):\n",
    "    try:\n",
    "        for article_id in reference['ArticleIdList']:\n",
    "            if article_id.attributes['IdType'] == 'pubmed':\n",
    "                return str(article_id)\n",
    "    except:\n",
    "        return float('NaN')\n",
    "\n",
    "def fetch_paper_details(pmid):\n",
    "    handle = Entrez.efetch(db=\"pubmed\", id=pmid, rettype=\"xml\", retmode=\"text\")\n",
    "    records = Entrez.read(handle)\n",
    "    handle.close()\n",
    "    \n",
    "    paper_title = pmid\n",
    "#     paper_title = records['PubmedArticle'][0]['MedlineCitation']['Article']['ArticleTitle']\n",
    "    authors = records['PubmedArticle'][0]['MedlineCitation']['Article']['AuthorList']\n",
    "    paper_authors = [f\"{author['ForeName']} {author['LastName']}\" for author in authors]\n",
    "    journal = records['PubmedArticle'][0]['MedlineCitation']['Article']['Journal']['Title']\n",
    "    year = records['PubmedArticle'][0]['MedlineCitation']['Article']['Journal']['JournalIssue']['PubDate']['Year']   \n",
    "    return paper_title, paper_authors, journal, year\n",
    "\n",
    "def fetch_citations(pmid):\n",
    "    handle = Entrez.elink(dbfrom=\"pubmed\", id=pmid, linkname=\"pubmed_pubmed_citedin\")\n",
    "    records = Entrez.read(handle)\n",
    "    handle.close()\n",
    "    \n",
    "    citing_paper_titles = []\n",
    "    citing_paper_references = []\n",
    "    details = []\n",
    "    if records[0][\"LinkSetDb\"]:\n",
    "        for link in records[0][\"LinkSetDb\"][0][\"Link\"]:\n",
    "            citing_pmid = link[\"Id\"]\n",
    "            handle = Entrez.efetch(db=\"pubmed\", id=citing_pmid, rettype=\"xml\", retmode=\"text\")\n",
    "            records = Entrez.read(handle)\n",
    "            handle.close()\n",
    "            \n",
    "            paper_title = citing_pmid\n",
    "#             paper_title = records['PubmedArticle'][0]['MedlineCitation']['Article']['ArticleTitle']\n",
    "            references = records['PubmedArticle'][0]['PubmedData']['ReferenceList'][0]['Reference']\n",
    "            reference_list = [extract_pubmed_id(reference) for reference in references]\n",
    "            details.append((paper_title,reference_list))\n",
    "    \n",
    "    return details"
   ]
  },
  {
   "cell_type": "code",
   "execution_count": 2,
   "id": "40b3ebd4",
   "metadata": {},
   "outputs": [],
   "source": [
    "df = pd.read_csv(\"savedrecs imp csv.csv\",encoding='latin-1')\n",
    "PubmedId = df[~df['Pubmed Id'].isna()]['Pubmed Id'].values"
   ]
  },
  {
   "cell_type": "code",
   "execution_count": 3,
   "id": "5d45633b",
   "metadata": {},
   "outputs": [
    {
     "data": {
      "text/plain": [
       "97"
      ]
     },
     "execution_count": 3,
     "metadata": {},
     "output_type": "execute_result"
    }
   ],
   "source": [
    "len(PubmedId)"
   ]
  },
  {
   "cell_type": "code",
   "execution_count": 4,
   "id": "125a7ee5",
   "metadata": {},
   "outputs": [],
   "source": [
    "PubmedId = PubmedId.astype(int)\n",
    "PubmedId = PubmedId.astype(str)"
   ]
  },
  {
   "cell_type": "code",
   "execution_count": 5,
   "id": "b1dc2df5",
   "metadata": {},
   "outputs": [
    {
     "name": "stderr",
     "output_type": "stream",
     "text": [
      "  3%|██▍                                                                             | 3/97 [00:07<03:10,  2.03s/it]"
     ]
    },
    {
     "name": "stdout",
     "output_type": "stream",
     "text": [
      "Failed to fetch details for PMID: 34910933\n"
     ]
    },
    {
     "name": "stderr",
     "output_type": "stream",
     "text": [
      " 24%|██████████████████▋                                                            | 23/97 [05:16<15:20, 12.44s/it]"
     ]
    },
    {
     "name": "stdout",
     "output_type": "stream",
     "text": [
      "Failed to fetch details for PMID: 32783919\n"
     ]
    },
    {
     "name": "stderr",
     "output_type": "stream",
     "text": [
      " 38%|██████████████████████████████▏                                                | 37/97 [15:05<30:51, 30.87s/it]"
     ]
    },
    {
     "name": "stdout",
     "output_type": "stream",
     "text": [
      "Failed to fetch details for PMID: 20457754\n"
     ]
    },
    {
     "name": "stderr",
     "output_type": "stream",
     "text": [
      " 55%|███████████████████████████████████████████▏                                   | 53/97 [25:20<15:24, 21.01s/it]"
     ]
    },
    {
     "name": "stdout",
     "output_type": "stream",
     "text": [
      "Failed to fetch details for PMID: 25233993\n"
     ]
    },
    {
     "name": "stderr",
     "output_type": "stream",
     "text": [
      " 70%|███████████████████████████████████████████████████████▍                       | 68/97 [27:08<02:24,  4.97s/it]"
     ]
    },
    {
     "name": "stdout",
     "output_type": "stream",
     "text": [
      "Failed to fetch details for PMID: 7546706\n"
     ]
    },
    {
     "name": "stderr",
     "output_type": "stream",
     "text": [
      " 75%|███████████████████████████████████████████████████████████▍                   | 73/97 [27:24<01:42,  4.28s/it]"
     ]
    },
    {
     "name": "stdout",
     "output_type": "stream",
     "text": [
      "Failed to fetch details for PMID: 32998157\n"
     ]
    },
    {
     "name": "stderr",
     "output_type": "stream",
     "text": [
      "100%|███████████████████████████████████████████████████████████████████████████████| 97/97 [42:00<00:00, 25.99s/it]\n"
     ]
    }
   ],
   "source": [
    "import pandas as pd\n",
    "from tqdm import tqdm\n",
    "from concurrent.futures import ThreadPoolExecutor, as_completed\n",
    "\n",
    "# Function to fetch details and citations\n",
    "def fetch_details_and_citations(pmid):\n",
    "    try:\n",
    "        paper_title, paper_authors, journal, year = fetch_paper_details(pmid)\n",
    "        citing_papers = fetch_citations(pmid)\n",
    "        return (pmid, paper_title, paper_authors, journal, year, citing_papers)\n",
    "    except Exception as e:\n",
    "        return (pmid, None, None, None, None, None)\n",
    "\n",
    "# Initialize DataFrame\n",
    "df = pd.DataFrame([], columns=['Paper_Title', 'Paper_Authors', 'Journal', 'Year', 'Citing_Paper_Title', 'Citing_Paper_References'])\n",
    "\n",
    "# List of PubMed IDs\n",
    "# PubmedId = PubmedId\n",
    "\n",
    "# Use ThreadPoolExecutor for parallel processing\n",
    "with ThreadPoolExecutor(max_workers=8) as executor:\n",
    "    futures = {executor.submit(fetch_details_and_citations, pmid): pmid for pmid in PubmedId}\n",
    "    \n",
    "    for future in tqdm(as_completed(futures), total=len(PubmedId)):\n",
    "        pmid, paper_title, paper_authors, journal, year, citing_papers = future.result()\n",
    "        if paper_title and paper_authors and journal and year and citing_papers:\n",
    "            for title, ref in citing_papers:\n",
    "                df.loc[len(df)] = [paper_title, paper_authors, journal, year, title, ref]\n",
    "        else:\n",
    "            print(f\"Failed to fetch details for PMID: {pmid}\")\n",
    "\n",
    "# Save the DataFrame to a CSV file or any other desired format\n",
    "df.to_csv('outputPMID.csv', index=False)\n"
   ]
  },
  {
   "cell_type": "code",
   "execution_count": 17,
   "id": "8d2bc985",
   "metadata": {},
   "outputs": [],
   "source": [
    "df['Citing_Paper_References'] = df['Citing_Paper_References'].apply(lambda x: [i for i in x if isinstance(i,str)])"
   ]
  },
  {
   "cell_type": "code",
   "execution_count": 19,
   "id": "a52e9830",
   "metadata": {},
   "outputs": [],
   "source": [
    "d = df.copy()"
   ]
  },
  {
   "cell_type": "code",
   "execution_count": 20,
   "id": "d0c5faa0",
   "metadata": {},
   "outputs": [],
   "source": [
    "df = df.drop('Paper_Authors',axis=1)"
   ]
  },
  {
   "cell_type": "code",
   "execution_count": 24,
   "id": "547d1477",
   "metadata": {},
   "outputs": [
    {
     "data": {
      "text/html": [
       "<div>\n",
       "<style scoped>\n",
       "    .dataframe tbody tr th:only-of-type {\n",
       "        vertical-align: middle;\n",
       "    }\n",
       "\n",
       "    .dataframe tbody tr th {\n",
       "        vertical-align: top;\n",
       "    }\n",
       "\n",
       "    .dataframe thead th {\n",
       "        text-align: right;\n",
       "    }\n",
       "</style>\n",
       "<table border=\"1\" class=\"dataframe\">\n",
       "  <thead>\n",
       "    <tr style=\"text-align: right;\">\n",
       "      <th></th>\n",
       "      <th>Paper_Title</th>\n",
       "      <th>Journal</th>\n",
       "      <th>Year</th>\n",
       "      <th>Citing_Paper_Title</th>\n",
       "      <th>Citing_Paper_References</th>\n",
       "    </tr>\n",
       "  </thead>\n",
       "  <tbody>\n",
       "    <tr>\n",
       "      <th>0</th>\n",
       "      <td>37020354</td>\n",
       "      <td>Annals of the New York Academy of Sciences</td>\n",
       "      <td>2023</td>\n",
       "      <td>38125026</td>\n",
       "      <td>[31869338, 26229114, 27153120, 25121750, 21987...</td>\n",
       "    </tr>\n",
       "    <tr>\n",
       "      <th>1</th>\n",
       "      <td>37020354</td>\n",
       "      <td>Annals of the New York Academy of Sciences</td>\n",
       "      <td>2023</td>\n",
       "      <td>37084166</td>\n",
       "      <td>[35454874, 35089462, 36675082, 37534923, 27531...</td>\n",
       "    </tr>\n",
       "    <tr>\n",
       "      <th>2</th>\n",
       "      <td>37371829</td>\n",
       "      <td>Biomedicines</td>\n",
       "      <td>2023</td>\n",
       "      <td>38400169</td>\n",
       "      <td>[35821637, 37705354, 36311701, 37595605, 37454...</td>\n",
       "    </tr>\n",
       "    <tr>\n",
       "      <th>3</th>\n",
       "      <td>37371829</td>\n",
       "      <td>Biomedicines</td>\n",
       "      <td>2023</td>\n",
       "      <td>38254150</td>\n",
       "      <td>[33049211, 33942880, 27498188, 28762175, 34706...</td>\n",
       "    </tr>\n",
       "    <tr>\n",
       "      <th>4</th>\n",
       "      <td>35536311</td>\n",
       "      <td>Nucleic acids research</td>\n",
       "      <td>2022</td>\n",
       "      <td>38406265</td>\n",
       "      <td>[8559254, 8674114, 8797828, 9106664, 37492704,...</td>\n",
       "    </tr>\n",
       "  </tbody>\n",
       "</table>\n",
       "</div>"
      ],
      "text/plain": [
       "  Paper_Title                                     Journal  Year  \\\n",
       "0    37020354  Annals of the New York Academy of Sciences  2023   \n",
       "1    37020354  Annals of the New York Academy of Sciences  2023   \n",
       "2    37371829                                Biomedicines  2023   \n",
       "3    37371829                                Biomedicines  2023   \n",
       "4    35536311                      Nucleic acids research  2022   \n",
       "\n",
       "  Citing_Paper_Title                            Citing_Paper_References  \n",
       "0           38125026  [31869338, 26229114, 27153120, 25121750, 21987...  \n",
       "1           37084166  [35454874, 35089462, 36675082, 37534923, 27531...  \n",
       "2           38400169  [35821637, 37705354, 36311701, 37595605, 37454...  \n",
       "3           38254150  [33049211, 33942880, 27498188, 28762175, 34706...  \n",
       "4           38406265  [8559254, 8674114, 8797828, 9106664, 37492704,...  "
      ]
     },
     "execution_count": 24,
     "metadata": {},
     "output_type": "execute_result"
    }
   ],
   "source": [
    "df.head()"
   ]
  },
  {
   "cell_type": "code",
   "execution_count": 39,
   "id": "cbf4a65f",
   "metadata": {},
   "outputs": [
    {
     "data": {
      "text/plain": [
       "(7205, 5)"
      ]
     },
     "execution_count": 39,
     "metadata": {},
     "output_type": "execute_result"
    }
   ],
   "source": [
    "df.shape"
   ]
  },
  {
   "cell_type": "code",
   "execution_count": 40,
   "id": "18e0e294",
   "metadata": {},
   "outputs": [],
   "source": [
    "df_exploded = df.explode('Citing_Paper_References').reset_index(drop=True)"
   ]
  },
  {
   "cell_type": "code",
   "execution_count": 48,
   "id": "e7980d12",
   "metadata": {},
   "outputs": [],
   "source": [
    "df_exploded.columns = ['Focal Paper Pubmed ID','Journal','Year',\n",
    "                       'Citing Paper Pubmed ID',\n",
    "                       'Citing paper references Pubmed ID']"
   ]
  },
  {
   "cell_type": "code",
   "execution_count": 49,
   "id": "804a94f0",
   "metadata": {},
   "outputs": [],
   "source": [
    "df_exploded.to_csv('with_pmid_v1.csv',index=False)"
   ]
  },
  {
   "cell_type": "code",
   "execution_count": 50,
   "id": "b9afaa82",
   "metadata": {},
   "outputs": [
    {
     "data": {
      "text/html": [
       "<div>\n",
       "<style scoped>\n",
       "    .dataframe tbody tr th:only-of-type {\n",
       "        vertical-align: middle;\n",
       "    }\n",
       "\n",
       "    .dataframe tbody tr th {\n",
       "        vertical-align: top;\n",
       "    }\n",
       "\n",
       "    .dataframe thead th {\n",
       "        text-align: right;\n",
       "    }\n",
       "</style>\n",
       "<table border=\"1\" class=\"dataframe\">\n",
       "  <thead>\n",
       "    <tr style=\"text-align: right;\">\n",
       "      <th></th>\n",
       "      <th>Focal Paper Pubmed ID</th>\n",
       "      <th>Journal</th>\n",
       "      <th>Year</th>\n",
       "      <th>Citing Paper Pubmed ID</th>\n",
       "      <th>Citing paper references Pubmed ID</th>\n",
       "    </tr>\n",
       "  </thead>\n",
       "  <tbody>\n",
       "    <tr>\n",
       "      <th>0</th>\n",
       "      <td>37020354</td>\n",
       "      <td>Annals of the New York Academy of Sciences</td>\n",
       "      <td>2023</td>\n",
       "      <td>38125026</td>\n",
       "      <td>31869338</td>\n",
       "    </tr>\n",
       "    <tr>\n",
       "      <th>1</th>\n",
       "      <td>37020354</td>\n",
       "      <td>Annals of the New York Academy of Sciences</td>\n",
       "      <td>2023</td>\n",
       "      <td>38125026</td>\n",
       "      <td>26229114</td>\n",
       "    </tr>\n",
       "    <tr>\n",
       "      <th>2</th>\n",
       "      <td>37020354</td>\n",
       "      <td>Annals of the New York Academy of Sciences</td>\n",
       "      <td>2023</td>\n",
       "      <td>38125026</td>\n",
       "      <td>27153120</td>\n",
       "    </tr>\n",
       "    <tr>\n",
       "      <th>3</th>\n",
       "      <td>37020354</td>\n",
       "      <td>Annals of the New York Academy of Sciences</td>\n",
       "      <td>2023</td>\n",
       "      <td>38125026</td>\n",
       "      <td>25121750</td>\n",
       "    </tr>\n",
       "    <tr>\n",
       "      <th>4</th>\n",
       "      <td>37020354</td>\n",
       "      <td>Annals of the New York Academy of Sciences</td>\n",
       "      <td>2023</td>\n",
       "      <td>38125026</td>\n",
       "      <td>21987658</td>\n",
       "    </tr>\n",
       "    <tr>\n",
       "      <th>...</th>\n",
       "      <td>...</td>\n",
       "      <td>...</td>\n",
       "      <td>...</td>\n",
       "      <td>...</td>\n",
       "      <td>...</td>\n",
       "    </tr>\n",
       "    <tr>\n",
       "      <th>730912</th>\n",
       "      <td>16111635</td>\n",
       "      <td>Immunity</td>\n",
       "      <td>2005</td>\n",
       "      <td>16330812</td>\n",
       "      <td>15563593</td>\n",
       "    </tr>\n",
       "    <tr>\n",
       "      <th>730913</th>\n",
       "      <td>16111635</td>\n",
       "      <td>Immunity</td>\n",
       "      <td>2005</td>\n",
       "      <td>16330812</td>\n",
       "      <td>15208624</td>\n",
       "    </tr>\n",
       "    <tr>\n",
       "      <th>730914</th>\n",
       "      <td>16111635</td>\n",
       "      <td>Immunity</td>\n",
       "      <td>2005</td>\n",
       "      <td>16330812</td>\n",
       "      <td>16027240</td>\n",
       "    </tr>\n",
       "    <tr>\n",
       "      <th>730915</th>\n",
       "      <td>16111635</td>\n",
       "      <td>Immunity</td>\n",
       "      <td>2005</td>\n",
       "      <td>16330812</td>\n",
       "      <td>16230478</td>\n",
       "    </tr>\n",
       "    <tr>\n",
       "      <th>730916</th>\n",
       "      <td>16111635</td>\n",
       "      <td>Immunity</td>\n",
       "      <td>2005</td>\n",
       "      <td>16330812</td>\n",
       "      <td>15692999</td>\n",
       "    </tr>\n",
       "  </tbody>\n",
       "</table>\n",
       "<p>730917 rows × 5 columns</p>\n",
       "</div>"
      ],
      "text/plain": [
       "       Focal Paper Pubmed ID                                     Journal  \\\n",
       "0                   37020354  Annals of the New York Academy of Sciences   \n",
       "1                   37020354  Annals of the New York Academy of Sciences   \n",
       "2                   37020354  Annals of the New York Academy of Sciences   \n",
       "3                   37020354  Annals of the New York Academy of Sciences   \n",
       "4                   37020354  Annals of the New York Academy of Sciences   \n",
       "...                      ...                                         ...   \n",
       "730912              16111635                                    Immunity   \n",
       "730913              16111635                                    Immunity   \n",
       "730914              16111635                                    Immunity   \n",
       "730915              16111635                                    Immunity   \n",
       "730916              16111635                                    Immunity   \n",
       "\n",
       "        Year Citing Paper Pubmed ID Citing paper references Pubmed ID  \n",
       "0       2023               38125026                          31869338  \n",
       "1       2023               38125026                          26229114  \n",
       "2       2023               38125026                          27153120  \n",
       "3       2023               38125026                          25121750  \n",
       "4       2023               38125026                          21987658  \n",
       "...      ...                    ...                               ...  \n",
       "730912  2005               16330812                          15563593  \n",
       "730913  2005               16330812                          15208624  \n",
       "730914  2005               16330812                          16027240  \n",
       "730915  2005               16330812                          16230478  \n",
       "730916  2005               16330812                          15692999  \n",
       "\n",
       "[730917 rows x 5 columns]"
      ]
     },
     "execution_count": 50,
     "metadata": {},
     "output_type": "execute_result"
    }
   ],
   "source": [
    "df_exploded"
   ]
  },
  {
   "cell_type": "code",
   "execution_count": null,
   "id": "d9b90c51",
   "metadata": {},
   "outputs": [],
   "source": []
  }
 ],
 "metadata": {
  "kernelspec": {
   "display_name": "Python (myNEWenv)",
   "language": "python",
   "name": "mynewenv"
  },
  "language_info": {
   "codemirror_mode": {
    "name": "ipython",
    "version": 3
   },
   "file_extension": ".py",
   "mimetype": "text/x-python",
   "name": "python",
   "nbconvert_exporter": "python",
   "pygments_lexer": "ipython3",
   "version": "3.10.12"
  }
 },
 "nbformat": 4,
 "nbformat_minor": 5
}
