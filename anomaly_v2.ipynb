{
 "cells": [
  {
   "cell_type": "code",
   "execution_count": 1,
   "id": "03554a05",
   "metadata": {},
   "outputs": [],
   "source": [
    "import pandas as pd"
   ]
  },
  {
   "cell_type": "code",
   "execution_count": 2,
   "id": "5365955c",
   "metadata": {},
   "outputs": [],
   "source": [
    "df = pd.read_csv(\"D:\\OneDrive - NITT\\Custom_Download\\dataset_train.csv\")"
   ]
  },
  {
   "cell_type": "code",
   "execution_count": 3,
   "id": "42e25838",
   "metadata": {},
   "outputs": [
    {
     "data": {
      "text/plain": [
       "query          0.000000\n",
       "intent         0.000000\n",
       "sentiment     99.796204\n",
       "misspelled     0.000000\n",
       "entity1        2.076169\n",
       "entity2        7.107375\n",
       "entity3       52.388231\n",
       "entity4       93.988027\n",
       "entity5       99.668832\n",
       "entity6       99.949051\n",
       "entity7       99.987263\n",
       "dtype: float64"
      ]
     },
     "execution_count": 3,
     "metadata": {},
     "output_type": "execute_result"
    }
   ],
   "source": [
    "df.isna().mean()*100"
   ]
  },
  {
   "cell_type": "code",
   "execution_count": 4,
   "id": "61900e5b",
   "metadata": {},
   "outputs": [],
   "source": [
    "df = df[['query','intent','entity1','entity2','entity3']]"
   ]
  },
  {
   "cell_type": "code",
   "execution_count": 5,
   "id": "495aba17",
   "metadata": {},
   "outputs": [
    {
     "data": {
      "text/plain": [
       "BROWSE       5768\n",
       "GOTO         1930\n",
       "GIBBERISH     141\n",
       "OTHER          12\n",
       "Name: intent, dtype: int64"
      ]
     },
     "execution_count": 5,
     "metadata": {},
     "output_type": "execute_result"
    }
   ],
   "source": [
    "df['intent'].value_counts()"
   ]
  },
  {
   "cell_type": "code",
   "execution_count": 6,
   "id": "0c21db4c",
   "metadata": {},
   "outputs": [
    {
     "data": {
      "text/plain": [
       "'genre_modifier(entype=genre,entities=sports,lang=eng,value=sports)'"
      ]
     },
     "execution_count": 6,
     "metadata": {},
     "output_type": "execute_result"
    }
   ],
   "source": [
    "df['entity1'][0]"
   ]
  },
  {
   "cell_type": "markdown",
   "id": "129232b4",
   "metadata": {},
   "source": [
    "# Anomaly detection"
   ]
  },
  {
   "cell_type": "code",
   "execution_count": 7,
   "id": "77108ab7",
   "metadata": {},
   "outputs": [],
   "source": [
    "# df[:10].loc[3]['entity2']"
   ]
  },
  {
   "cell_type": "code",
   "execution_count": 8,
   "id": "9f3597bc",
   "metadata": {},
   "outputs": [],
   "source": [
    "# df[df['entity1'].apply(lambda x:x.startswith('cost_modifier'))]['entity1']"
   ]
  },
  {
   "cell_type": "code",
   "execution_count": 9,
   "id": "eb4afa7d",
   "metadata": {},
   "outputs": [],
   "source": [
    "import pandas as pd\n",
    "from sklearn.feature_extraction.text import TfidfVectorizer\n",
    "from sklearn.preprocessing import OneHotEncoder\n",
    "\n",
    "data = df\n",
    "\n",
    "data.fillna('', inplace=True)\n",
    "\n",
    "data['combined'] = data['query'] + ' ' + data['intent'] + ' ' + data['entity1'] + ' ' + data['entity2'] + ' '+data['entity3']\n",
    "\n",
    "tfidf = TfidfVectorizer()\n",
    "X = tfidf.fit_transform(data['combined'])\n"
   ]
  },
  {
   "cell_type": "code",
   "execution_count": 10,
   "id": "22e89116",
   "metadata": {},
   "outputs": [],
   "source": [
    "from sklearn.ensemble import IsolationForest\n",
    "\n",
    "# Train the Isolation Forest model\n",
    "\n",
    "for i in range(1,5):\n",
    "    model = IsolationForest(random_state=42,contamination=0.1*i)\n",
    "    model.fit(X)\n",
    "    # Predict anomalies\n",
    "    data[f'anomaly{i}'] = model.predict(X)\n",
    "\n",
    "    # -1 for anomalies, 1 for normal instances\n",
    "    data[f'anomaly{i}'] = data[f'anomaly{i}'].apply(lambda x: 'Anomaly' if x == -1 else 'Normal')"
   ]
  },
  {
   "cell_type": "code",
   "execution_count": 11,
   "id": "2f1501d6",
   "metadata": {},
   "outputs": [],
   "source": [
    "# data['anomaly'].value_counts()"
   ]
  },
  {
   "cell_type": "code",
   "execution_count": 12,
   "id": "a937a75e",
   "metadata": {},
   "outputs": [],
   "source": [
    "temp = data.copy()\n",
    "for col in ['anomaly1','anomaly2','anomaly3','anomaly4']:\n",
    "    temp = temp[temp[col]=='Anomaly']"
   ]
  },
  {
   "cell_type": "code",
   "execution_count": 13,
   "id": "f050c0d1",
   "metadata": {},
   "outputs": [
    {
     "data": {
      "text/html": [
       "<div>\n",
       "<style scoped>\n",
       "    .dataframe tbody tr th:only-of-type {\n",
       "        vertical-align: middle;\n",
       "    }\n",
       "\n",
       "    .dataframe tbody tr th {\n",
       "        vertical-align: top;\n",
       "    }\n",
       "\n",
       "    .dataframe thead th {\n",
       "        text-align: right;\n",
       "    }\n",
       "</style>\n",
       "<table border=\"1\" class=\"dataframe\">\n",
       "  <thead>\n",
       "    <tr style=\"text-align: right;\">\n",
       "      <th></th>\n",
       "      <th>query</th>\n",
       "      <th>intent</th>\n",
       "      <th>entity1</th>\n",
       "      <th>entity2</th>\n",
       "      <th>entity3</th>\n",
       "      <th>combined</th>\n",
       "      <th>anomaly1</th>\n",
       "      <th>anomaly2</th>\n",
       "      <th>anomaly3</th>\n",
       "      <th>anomaly4</th>\n",
       "    </tr>\n",
       "  </thead>\n",
       "  <tbody>\n",
       "    <tr>\n",
       "      <th>21</th>\n",
       "      <td>English for the Braves and the Phillies</td>\n",
       "      <td>BROWSE</td>\n",
       "      <td>locale_modifier(entype=language,entities=Engli...</td>\n",
       "      <td>sport_team(entype=sportsTeam,entities=Atlanta ...</td>\n",
       "      <td>sport_team(entype=sportsTeam,entities=Philadel...</td>\n",
       "      <td>English for the Braves and the Phillies BROWSE...</td>\n",
       "      <td>Anomaly</td>\n",
       "      <td>Anomaly</td>\n",
       "      <td>Anomaly</td>\n",
       "      <td>Anomaly</td>\n",
       "    </tr>\n",
       "    <tr>\n",
       "      <th>27</th>\n",
       "      <td>Show me Major League Baseball playoff games</td>\n",
       "      <td>BROWSE</td>\n",
       "      <td>sports_league(entype=league,entities=MLB,entit...</td>\n",
       "      <td></td>\n",
       "      <td></td>\n",
       "      <td>Show me Major League Baseball playoff games BR...</td>\n",
       "      <td>Anomaly</td>\n",
       "      <td>Anomaly</td>\n",
       "      <td>Anomaly</td>\n",
       "      <td>Anomaly</td>\n",
       "    </tr>\n",
       "    <tr>\n",
       "      <th>28</th>\n",
       "      <td>Astros vs. the Twins</td>\n",
       "      <td>BROWSE</td>\n",
       "      <td>sport_team(entype=sportsTeam,entities=Minnesot...</td>\n",
       "      <td>sport_team(entype=sportsTeam,entities=Houston ...</td>\n",
       "      <td></td>\n",
       "      <td>Astros vs. the Twins BROWSE sport_team(entype=...</td>\n",
       "      <td>Anomaly</td>\n",
       "      <td>Anomaly</td>\n",
       "      <td>Anomaly</td>\n",
       "      <td>Anomaly</td>\n",
       "    </tr>\n",
       "    <tr>\n",
       "      <th>30</th>\n",
       "      <td>Philly vs. the Braves</td>\n",
       "      <td>BROWSE</td>\n",
       "      <td>sport_team(entype=sportsTeam,entities=Atlanta ...</td>\n",
       "      <td>sport_team(entype=sportsTeam,entities=Philadel...</td>\n",
       "      <td></td>\n",
       "      <td>Philly vs. the Braves BROWSE sport_team(entype...</td>\n",
       "      <td>Anomaly</td>\n",
       "      <td>Anomaly</td>\n",
       "      <td>Anomaly</td>\n",
       "      <td>Anomaly</td>\n",
       "    </tr>\n",
       "    <tr>\n",
       "      <th>31</th>\n",
       "      <td>Braves vs. the Philadelphia Phillies</td>\n",
       "      <td>BROWSE</td>\n",
       "      <td>sport_team(entype=sportsTeam,entities=Philadel...</td>\n",
       "      <td>sport_team(entype=sportsTeam,entities=Atlanta ...</td>\n",
       "      <td></td>\n",
       "      <td>Braves vs. the Philadelphia Phillies BROWSE sp...</td>\n",
       "      <td>Anomaly</td>\n",
       "      <td>Anomaly</td>\n",
       "      <td>Anomaly</td>\n",
       "      <td>Anomaly</td>\n",
       "    </tr>\n",
       "    <tr>\n",
       "      <th>...</th>\n",
       "      <td>...</td>\n",
       "      <td>...</td>\n",
       "      <td>...</td>\n",
       "      <td>...</td>\n",
       "      <td>...</td>\n",
       "      <td>...</td>\n",
       "      <td>...</td>\n",
       "      <td>...</td>\n",
       "      <td>...</td>\n",
       "      <td>...</td>\n",
       "    </tr>\n",
       "    <tr>\n",
       "      <th>7759</th>\n",
       "      <td>Cula de Freddy en español la película de Fredd...</td>\n",
       "      <td>GOTO</td>\n",
       "      <td>locale_modifier(entype=language,entities=spani...</td>\n",
       "      <td>content_type(entype=type_modifier,entities=mov...</td>\n",
       "      <td>program_name(entype=movie,entities=Freddy,lang...</td>\n",
       "      <td>Cula de Freddy en español la película de Fredd...</td>\n",
       "      <td>Anomaly</td>\n",
       "      <td>Anomaly</td>\n",
       "      <td>Anomaly</td>\n",
       "      <td>Anomaly</td>\n",
       "    </tr>\n",
       "    <tr>\n",
       "      <th>7765</th>\n",
       "      <td>Película de terror en español</td>\n",
       "      <td>BROWSE</td>\n",
       "      <td>locale_modifier(entype=language,entities=spani...</td>\n",
       "      <td>genre_modifier(entype=genre,entities=horror,la...</td>\n",
       "      <td>content_type(entype=type_modifier,entities=mov...</td>\n",
       "      <td>Película de terror en español BROWSE locale_mo...</td>\n",
       "      <td>Anomaly</td>\n",
       "      <td>Anomaly</td>\n",
       "      <td>Anomaly</td>\n",
       "      <td>Anomaly</td>\n",
       "    </tr>\n",
       "    <tr>\n",
       "      <th>7785</th>\n",
       "      <td>Free new movies</td>\n",
       "      <td>BROWSE</td>\n",
       "      <td>content_type(entype=type_modifier,entities=mov...</td>\n",
       "      <td>temporal_modifier(entype=air_modifier,entities...</td>\n",
       "      <td>cost_modifier(entype=cost_modifier,entities=fr...</td>\n",
       "      <td>Free new movies BROWSE content_type(entype=typ...</td>\n",
       "      <td>Anomaly</td>\n",
       "      <td>Anomaly</td>\n",
       "      <td>Anomaly</td>\n",
       "      <td>Anomaly</td>\n",
       "    </tr>\n",
       "    <tr>\n",
       "      <th>7793</th>\n",
       "      <td>Results for New York</td>\n",
       "      <td>BROWSE</td>\n",
       "      <td>sport_team(entype=sportsTeam,lang=eng,value=Ne...</td>\n",
       "      <td></td>\n",
       "      <td></td>\n",
       "      <td>Results for New York BROWSE sport_team(entype=...</td>\n",
       "      <td>Anomaly</td>\n",
       "      <td>Anomaly</td>\n",
       "      <td>Anomaly</td>\n",
       "      <td>Anomaly</td>\n",
       "    </tr>\n",
       "    <tr>\n",
       "      <th>7800</th>\n",
       "      <td>Free to me movies</td>\n",
       "      <td>BROWSE</td>\n",
       "      <td>content_type(entype=type_modifier,entities=mov...</td>\n",
       "      <td>cost_modifier(entype=cost_modifier,entities=fr...</td>\n",
       "      <td></td>\n",
       "      <td>Free to me movies BROWSE content_type(entype=t...</td>\n",
       "      <td>Anomaly</td>\n",
       "      <td>Anomaly</td>\n",
       "      <td>Anomaly</td>\n",
       "      <td>Anomaly</td>\n",
       "    </tr>\n",
       "  </tbody>\n",
       "</table>\n",
       "<p>785 rows × 10 columns</p>\n",
       "</div>"
      ],
      "text/plain": [
       "                                                  query  intent  \\\n",
       "21              English for the Braves and the Phillies  BROWSE   \n",
       "27          Show me Major League Baseball playoff games  BROWSE   \n",
       "28                                 Astros vs. the Twins  BROWSE   \n",
       "30                                Philly vs. the Braves  BROWSE   \n",
       "31                 Braves vs. the Philadelphia Phillies  BROWSE   \n",
       "...                                                 ...     ...   \n",
       "7759  Cula de Freddy en español la película de Fredd...    GOTO   \n",
       "7765                      Película de terror en español  BROWSE   \n",
       "7785                                    Free new movies  BROWSE   \n",
       "7793                               Results for New York  BROWSE   \n",
       "7800                                  Free to me movies  BROWSE   \n",
       "\n",
       "                                                entity1  \\\n",
       "21    locale_modifier(entype=language,entities=Engli...   \n",
       "27    sports_league(entype=league,entities=MLB,entit...   \n",
       "28    sport_team(entype=sportsTeam,entities=Minnesot...   \n",
       "30    sport_team(entype=sportsTeam,entities=Atlanta ...   \n",
       "31    sport_team(entype=sportsTeam,entities=Philadel...   \n",
       "...                                                 ...   \n",
       "7759  locale_modifier(entype=language,entities=spani...   \n",
       "7765  locale_modifier(entype=language,entities=spani...   \n",
       "7785  content_type(entype=type_modifier,entities=mov...   \n",
       "7793  sport_team(entype=sportsTeam,lang=eng,value=Ne...   \n",
       "7800  content_type(entype=type_modifier,entities=mov...   \n",
       "\n",
       "                                                entity2  \\\n",
       "21    sport_team(entype=sportsTeam,entities=Atlanta ...   \n",
       "27                                                        \n",
       "28    sport_team(entype=sportsTeam,entities=Houston ...   \n",
       "30    sport_team(entype=sportsTeam,entities=Philadel...   \n",
       "31    sport_team(entype=sportsTeam,entities=Atlanta ...   \n",
       "...                                                 ...   \n",
       "7759  content_type(entype=type_modifier,entities=mov...   \n",
       "7765  genre_modifier(entype=genre,entities=horror,la...   \n",
       "7785  temporal_modifier(entype=air_modifier,entities...   \n",
       "7793                                                      \n",
       "7800  cost_modifier(entype=cost_modifier,entities=fr...   \n",
       "\n",
       "                                                entity3  \\\n",
       "21    sport_team(entype=sportsTeam,entities=Philadel...   \n",
       "27                                                        \n",
       "28                                                        \n",
       "30                                                        \n",
       "31                                                        \n",
       "...                                                 ...   \n",
       "7759  program_name(entype=movie,entities=Freddy,lang...   \n",
       "7765  content_type(entype=type_modifier,entities=mov...   \n",
       "7785  cost_modifier(entype=cost_modifier,entities=fr...   \n",
       "7793                                                      \n",
       "7800                                                      \n",
       "\n",
       "                                               combined anomaly1 anomaly2  \\\n",
       "21    English for the Braves and the Phillies BROWSE...  Anomaly  Anomaly   \n",
       "27    Show me Major League Baseball playoff games BR...  Anomaly  Anomaly   \n",
       "28    Astros vs. the Twins BROWSE sport_team(entype=...  Anomaly  Anomaly   \n",
       "30    Philly vs. the Braves BROWSE sport_team(entype...  Anomaly  Anomaly   \n",
       "31    Braves vs. the Philadelphia Phillies BROWSE sp...  Anomaly  Anomaly   \n",
       "...                                                 ...      ...      ...   \n",
       "7759  Cula de Freddy en español la película de Fredd...  Anomaly  Anomaly   \n",
       "7765  Película de terror en español BROWSE locale_mo...  Anomaly  Anomaly   \n",
       "7785  Free new movies BROWSE content_type(entype=typ...  Anomaly  Anomaly   \n",
       "7793  Results for New York BROWSE sport_team(entype=...  Anomaly  Anomaly   \n",
       "7800  Free to me movies BROWSE content_type(entype=t...  Anomaly  Anomaly   \n",
       "\n",
       "     anomaly3 anomaly4  \n",
       "21    Anomaly  Anomaly  \n",
       "27    Anomaly  Anomaly  \n",
       "28    Anomaly  Anomaly  \n",
       "30    Anomaly  Anomaly  \n",
       "31    Anomaly  Anomaly  \n",
       "...       ...      ...  \n",
       "7759  Anomaly  Anomaly  \n",
       "7765  Anomaly  Anomaly  \n",
       "7785  Anomaly  Anomaly  \n",
       "7793  Anomaly  Anomaly  \n",
       "7800  Anomaly  Anomaly  \n",
       "\n",
       "[785 rows x 10 columns]"
      ]
     },
     "execution_count": 13,
     "metadata": {},
     "output_type": "execute_result"
    }
   ],
   "source": [
    "temp"
   ]
  },
  {
   "cell_type": "code",
   "execution_count": null,
   "id": "3f56b842",
   "metadata": {},
   "outputs": [],
   "source": []
  }
 ],
 "metadata": {
  "kernelspec": {
   "display_name": "Python (myNEWenv)",
   "language": "python",
   "name": "mynewenv"
  },
  "language_info": {
   "codemirror_mode": {
    "name": "ipython",
    "version": 3
   },
   "file_extension": ".py",
   "mimetype": "text/x-python",
   "name": "python",
   "nbconvert_exporter": "python",
   "pygments_lexer": "ipython3",
   "version": "3.10.12"
  }
 },
 "nbformat": 4,
 "nbformat_minor": 5
}
