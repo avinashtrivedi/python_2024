{
 "cells": [
  {
   "cell_type": "markdown",
   "id": "a37d39dc",
   "metadata": {
    "deletable": false,
    "editable": false,
    "nbgrader": {
     "cell_type": "markdown",
     "checksum": "2b92120c79c477dde102fcdaca3faef2",
     "grade": false,
     "grade_id": "cell-24cf45f8d0b46638",
     "locked": true,
     "schema_version": 3,
     "solution": false,
     "task": false
    }
   },
   "source": [
    "## Overview\n",
    "\n",
    "This week you will be forecasting the incidence of COVID-19 cases. However, before forecasting you will begin by investigating the relationship between diabetes prevalence and COVID-19 incidence. \n",
    "\n",
    "This is split up into three notebooks\n",
    "\n",
    "  1. Inspect correlations between diabetes and COVID-19 prevelance\n",
    "\n",
    "  2. Implement LSTM model for COVID-19 forecasting and evaluate on county-level data\n",
    "\n",
    "  3. Visualize the performance of two models trained on nation-level or county-level data"
   ]
  },
  {
   "cell_type": "code",
   "execution_count": null,
   "id": "12f84cc4",
   "metadata": {
    "deletable": false,
    "editable": false,
    "nbgrader": {
     "cell_type": "code",
     "checksum": "051a1a354a095aa88838db3bbc500a1a",
     "grade": false,
     "grade_id": "cell-dd38e23ba1d6b5d5",
     "locked": true,
     "schema_version": 3,
     "solution": false,
     "task": false
    }
   },
   "outputs": [],
   "source": [
    "import plotly.figure_factory as ff\n",
    "import numpy as np\n",
    "import pandas as pd\n",
    "import warnings\n",
    "warnings.filterwarnings('ignore')\n",
    "from plotly.subplots import make_subplots\n",
    "import plotly.graph_objects as go\n",
    "import json\n",
    "from scipy.stats import pearsonr\n",
    "import data_cleaners as dc"
   ]
  },
  {
   "cell_type": "code",
   "execution_count": null,
   "id": "594db935",
   "metadata": {
    "deletable": false,
    "editable": false,
    "nbgrader": {
     "cell_type": "code",
     "checksum": "f6a324833781de5528ce99eb05106974",
     "grade": false,
     "grade_id": "cell-8bc67c6a32fcc6bf",
     "locked": true,
     "schema_version": 3,
     "solution": false,
     "task": false
    }
   },
   "outputs": [],
   "source": [
    "%load_ext autoreload\n",
    "%autoreload 2"
   ]
  },
  {
   "cell_type": "markdown",
   "id": "873395e0",
   "metadata": {
    "deletable": false,
    "editable": false,
    "nbgrader": {
     "cell_type": "markdown",
     "checksum": "1d4c82220877634a8830b99c8ed72d66",
     "grade": false,
     "grade_id": "cell-9229924121b02212",
     "locked": true,
     "schema_version": 3,
     "solution": false,
     "task": false
    }
   },
   "source": [
    "## Pipeline task overview: Forecasting COVID-19 incidence\n",
    "\n",
    "\n",
    "\n",
    "Recall from your previous courses that these tasks can typically be described by the following components: \n",
    "\n",
    " 1. Data collection - <font color='green'>Done</font>\n",
    " 2. Data cleaning / transformation - <font color='green'>Done</font>\n",
    " 3. Dataset splitting <font color='green'>Done</font>\n",
    " 4. Model training <font color='magenta'>You will do</font>\n",
    " 5. Model evaluation <font color='magenta'>You will do</font>\n",
    " 6. Repeat 1-5 to perform model selection <font color='magenta'>You will do</font>\n",
    " 7. Presenation of findings (Visualization) <font color='magenta'>You will do</font>\n",
    "\n"
   ]
  },
  {
   "cell_type": "code",
   "execution_count": null,
   "id": "9091d40f",
   "metadata": {
    "deletable": false,
    "editable": false,
    "nbgrader": {
     "cell_type": "code",
     "checksum": "8f3943a321e2c8e428fdf7aaac4ad039",
     "grade": false,
     "grade_id": "cell-1478a521600f63bc",
     "locked": true,
     "schema_version": 3,
     "solution": false,
     "task": false
    }
   },
   "outputs": [],
   "source": [
    "def get_covid_data():\n",
    "    cub = dc.CUBData()\n",
    "    covid = cub.us_cases\n",
    "    covid['key'] = ['{}_{}'.format(state, county) for county,state in zip(covid['Admin2'],covid['Province_State'])]\n",
    "    s=covid.filter(like='/')\n",
    "\n",
    "    total_counts = s.iloc[:,-1]\n",
    "    covids = covid[['key','Province_State']]\n",
    "    covids['total_counts'] = total_counts\n",
    "    return covids"
   ]
  },
  {
   "cell_type": "markdown",
   "id": "54469128",
   "metadata": {
    "deletable": false,
    "editable": false,
    "nbgrader": {
     "cell_type": "markdown",
     "checksum": "6987c37d807236fa9a1e5306a6d7d3ed",
     "grade": false,
     "grade_id": "cell-ff3fb618b382e502",
     "locked": true,
     "schema_version": 3,
     "solution": false,
     "task": false
    }
   },
   "source": [
    "## <font color='magenta'>Your task</font>\n",
    "\n",
    "In this notebook you will be inspecting correlations between diabetes and COVID-19 prevalence. "
   ]
  },
  {
   "cell_type": "markdown",
   "id": "8dd5492c",
   "metadata": {
    "deletable": false,
    "editable": false,
    "nbgrader": {
     "cell_type": "markdown",
     "checksum": "a331a0d5bbaf4a09eb5c66ef3b70a17f",
     "grade": false,
     "grade_id": "cell-e321489ab18a89e3",
     "locked": true,
     "schema_version": 3,
     "solution": false,
     "task": false
    }
   },
   "source": [
    "## <font color='magenta'>Task One</font>\n",
    "Load in the two datasets: \n",
    "\n",
    "Merge the two datasets covid_data and counties using the column `key` from `covid_data` and `s_county` from `counties` (\"../../assets/assignment4/County_Demo_1012.csv\").\n",
    "\n",
    "\n",
    "Save your new dataframe in the variable `merged_covid`.\n",
    "\n",
    "**To receive credit you must use a Pandas merge**"
   ]
  },
  {
   "cell_type": "code",
   "execution_count": null,
   "id": "a8e5a579",
   "metadata": {
    "deletable": false,
    "nbgrader": {
     "cell_type": "code",
     "checksum": "ba20ac7757b3b3df0a501da02378dcbd",
     "grade": false,
     "grade_id": "cell-429296105262e16b",
     "locked": false,
     "schema_version": 3,
     "solution": true,
     "task": false
    }
   },
   "outputs": [],
   "source": [
    "merged_covid = None\n",
    "# YOUR CODE HERE\n",
    "raise NotImplementedError()"
   ]
  },
  {
   "cell_type": "code",
   "execution_count": null,
   "id": "943e5dc4",
   "metadata": {
    "deletable": false,
    "editable": false,
    "nbgrader": {
     "cell_type": "code",
     "checksum": "7268f1131dbfef34545d8ad97d5ff020",
     "grade": true,
     "grade_id": "cell-3543e08f30d4fb0a",
     "locked": true,
     "points": 5,
     "schema_version": 3,
     "solution": false,
     "task": false
    }
   },
   "outputs": [],
   "source": [
    "#hidden tests are within this cell"
   ]
  },
  {
   "cell_type": "markdown",
   "id": "f93f60d0",
   "metadata": {
    "deletable": false,
    "editable": false,
    "nbgrader": {
     "cell_type": "markdown",
     "checksum": "6159259191acf37f89bb8e747b56ea18",
     "grade": false,
     "grade_id": "cell-0b5a52ea9255c792",
     "locked": true,
     "schema_version": 3,
     "solution": false,
     "task": false
    }
   },
   "source": [
    "## <font color='magenta'>Task Two</font>\n",
    "\n",
    "Now you will look at how various factors in the county dataset are correlated both with the proportion of a population that is diabetic, and the proportion of the population with COVID-19 over time. \n",
    "\n",
    "Using the function ```pearsonr ``` compute the correlation coefficient between all factors in the list `factors` which are columns in the `merged_covid` dataframe and the `mean_cases` column computed below. \n",
    "\n",
    "Write a function which takes in the column of interest and outputs a dictionary with all factors as keys and a tuple of ```(correlation coefficient, p-value)```, sorted by correlation coefficient. Then report the factors with the **10 largest** correlation coefficients below."
   ]
  },
  {
   "cell_type": "code",
   "execution_count": null,
   "id": "47ce03a1",
   "metadata": {
    "deletable": false,
    "editable": false,
    "nbgrader": {
     "cell_type": "code",
     "checksum": "7cfa74283070a07c484bdcd298caff61",
     "grade": false,
     "grade_id": "cell-faccd332000945a8",
     "locked": true,
     "schema_version": 3,
     "solution": false,
     "task": false
    }
   },
   "outputs": [],
   "source": [
    "merged_covid['mean_cases'] = merged_covid['total_counts']/merged_covid['population']"
   ]
  },
  {
   "cell_type": "code",
   "execution_count": null,
   "id": "21513d83",
   "metadata": {
    "deletable": false,
    "editable": false,
    "nbgrader": {
     "cell_type": "code",
     "checksum": "32d73fb17da28c2a3c80ba7680affb4c",
     "grade": false,
     "grade_id": "cell-a2cd33edc277713e",
     "locked": true,
     "schema_version": 3,
     "solution": false,
     "task": false
    }
   },
   "outputs": [],
   "source": [
    "factors = ['white_pct',\n",
    "       'black_pct', 'hispanic_pct', 'nonwhite_pct', 'foreignborn_pct',\n",
    "       'female_pct', 'age29andunder_pct', 'age65andolder_pct', 'median_hh_inc',\n",
    "       'clf_unemploy_pct', 'lesshs_pct', 'lesscollege_pct', 'rural_pct',\n",
    "       'popdensity', 'housedensity', 'km_from_equator', 'poor_or_fair_health',\n",
    "       'adult_smoking', 'adult_obesity', 'percent_uninsured',\n",
    "       'social_association_rate', 'air_quality_avg_pm', \n",
    "       'percent_insufficient_sleep', 'percent_uninsured_adults',\n",
    "       'percent_uninsured_children']"
   ]
  },
  {
   "cell_type": "code",
   "execution_count": null,
   "id": "a35064bf",
   "metadata": {
    "deletable": false,
    "nbgrader": {
     "cell_type": "code",
     "checksum": "fd6bb403dfab2d26e5c2c40f8dbb4c1e",
     "grade": false,
     "grade_id": "cell-ab3dd958c53867bf",
     "locked": false,
     "schema_version": 3,
     "solution": true,
     "task": false
    }
   },
   "outputs": [],
   "source": [
    "def get_factors(col_of_interest):\n",
    "    to_return_dict = {}\n",
    "    \n",
    "    # your code goes here\n",
    "    # YOUR CODE HERE\n",
    "    raise NotImplementedError()\n",
    "    \n",
    "    return to_return_dict\n",
    "\n",
    "result_dict = get_factors(\"mean_cases\")"
   ]
  },
  {
   "cell_type": "code",
   "execution_count": null,
   "id": "f81636e8",
   "metadata": {
    "deletable": false,
    "editable": false,
    "nbgrader": {
     "cell_type": "code",
     "checksum": "f96f1f649e00431deb58f639421e64e2",
     "grade": true,
     "grade_id": "cell-73e2c2df3868f635",
     "locked": true,
     "points": 5,
     "schema_version": 3,
     "solution": false,
     "task": false
    }
   },
   "outputs": [],
   "source": [
    "#hidden tests are within this cell"
   ]
  },
  {
   "cell_type": "code",
   "execution_count": null,
   "id": "25bda78a",
   "metadata": {
    "deletable": false,
    "nbgrader": {
     "cell_type": "code",
     "checksum": "f8c83f668a8122bbe17184ba06697bb3",
     "grade": false,
     "grade_id": "cell-46022f30cc3eaa32",
     "locked": false,
     "schema_version": 3,
     "solution": true,
     "task": false
    }
   },
   "outputs": [],
   "source": [
    "#Fill in column name of the top factor most correlated with mean cases\n",
    "top_factor = ''\n",
    "#Fill in column name of the second factor most correlated with mean cases\n",
    "second_factor = ''\n",
    "#Fill in column name of the third factor most correlated with mean cases\n",
    "third_factor = ''\n",
    "#Fill in column name of the fourth factor most correlated with mean cases\n",
    "fourth_factor = ''\n",
    "#Fill in column name of the fifth factor most correlated with mean cases\n",
    "fifth_factor = ''\n",
    "\n",
    "# YOUR CODE HERE\n",
    "raise NotImplementedError()"
   ]
  },
  {
   "cell_type": "code",
   "execution_count": null,
   "id": "8e64ba1b",
   "metadata": {
    "deletable": false,
    "editable": false,
    "nbgrader": {
     "cell_type": "code",
     "checksum": "6736b0ccf9af5acb41080b0b0ac25e8c",
     "grade": true,
     "grade_id": "cell-334ebeb5752de1eb",
     "locked": true,
     "points": 5,
     "schema_version": 3,
     "solution": false,
     "task": false
    }
   },
   "outputs": [],
   "source": [
    "#hidden tests are within this cell"
   ]
  },
  {
   "cell_type": "markdown",
   "id": "4a95a947",
   "metadata": {
    "deletable": false,
    "editable": false,
    "nbgrader": {
     "cell_type": "markdown",
     "checksum": "e508eb2814442dbe8793244ce58dd643",
     "grade": false,
     "grade_id": "cell-3524ffb4ba1e0936",
     "locked": true,
     "schema_version": 3,
     "solution": false,
     "task": false
    }
   },
   "source": [
    "Compute the correlation coefficient between all factors in the list `factors` which are columns in the `merged_covid` dataframe and the `percent_diabetic` column."
   ]
  },
  {
   "cell_type": "code",
   "execution_count": null,
   "id": "c5a8c22c",
   "metadata": {
    "deletable": false,
    "editable": false,
    "nbgrader": {
     "cell_type": "code",
     "checksum": "f2ec66bc31280565015d8751458fb0c8",
     "grade": false,
     "grade_id": "cell-b8ed6a4978570e96",
     "locked": true,
     "schema_version": 3,
     "solution": false,
     "task": false
    }
   },
   "outputs": [],
   "source": [
    "result_dict = get_factors(\"percent_diabetic\")\n"
   ]
  },
  {
   "cell_type": "code",
   "execution_count": null,
   "id": "c7c4e3c5",
   "metadata": {
    "deletable": false,
    "nbgrader": {
     "cell_type": "code",
     "checksum": "75d8f4f3ce655b6a564fd4bc5d122db2",
     "grade": false,
     "grade_id": "cell-a8b4552531f92108",
     "locked": false,
     "schema_version": 3,
     "solution": true,
     "task": false
    }
   },
   "outputs": [],
   "source": [
    "#Fill in column name of the top factor most correlated with percent_diabetic\n",
    "top_factor = ''\n",
    "#Fill in column name of the second factor most correlated with percent_diabetic\n",
    "second_factor = ''\n",
    "#Fill in column name of the third factor most correlated with percent_diabetic\n",
    "third_factor = ''\n",
    "#Fill in column name of the fourth factor most correlated with percent_diabetic\n",
    "fourth_factor = ''\n",
    "#Fill in column name of the fifth factor most correlated with percent_diabetic\n",
    "fifth_factor = ''\n",
    "\n",
    "# YOUR CODE HERE\n",
    "raise NotImplementedError()"
   ]
  },
  {
   "cell_type": "code",
   "execution_count": null,
   "id": "a2b39b42",
   "metadata": {
    "deletable": false,
    "editable": false,
    "nbgrader": {
     "cell_type": "code",
     "checksum": "c1224b2fc7b7ee6589473753473cccb9",
     "grade": true,
     "grade_id": "cell-e7e4d1489d3723ee",
     "locked": true,
     "points": 2,
     "schema_version": 3,
     "solution": false,
     "task": false
    }
   },
   "outputs": [],
   "source": [
    "#hidden tests are within this cell"
   ]
  },
  {
   "cell_type": "markdown",
   "id": "1618c23d",
   "metadata": {
    "deletable": false,
    "editable": false,
    "nbgrader": {
     "cell_type": "markdown",
     "checksum": "e81874e0ff9f9659e3260212d4544b9c",
     "grade": false,
     "grade_id": "cell-7dd5e92746be3b26",
     "locked": true,
     "schema_version": 3,
     "solution": false,
     "task": false
    }
   },
   "source": [
    "## <font color='magenta'>Task Three</font>\n",
    "\n",
    "Using the same `merged_covid` dataframe, prepare a Pandas Dataframe `df_states` with three columns, `total_diabetic`, `percent_diabetic` and `percent_covid` for each state. Do not reset the index to allow the autograder to match your results.\n",
    "\n",
    "\n",
    "\n",
    "In order to pass the autograder, we suggest `df_states` contains the following columns:\n",
    "```python\n",
    "['Province_State', 'population', 'total_diabetic', 'total_counts','percent_diabetic','percent_covid','code']  \n",
    "\n",
    "```\n",
    "\n",
    "To add the column code to `df_states` take a look at this file (\"../../assets/assignment4/states.json\").\n",
    "\n",
    "The first row of your DataFrame should look like the following: \n",
    "\n",
    "|    | Province_State   |   population |   total_diabetic |   total_counts |   percent_diabetic |   percent_covid | code   |\n",
    "|---:|:-----------------|-------------:|-----------------:|---------------:|-------------------:|----------------:|:-------|\n",
    "|  0 | Alabama          |      4831672 |           670972 |        1273213 |             13.887 |         26.3514 | AL     |"
   ]
  },
  {
   "cell_type": "code",
   "execution_count": null,
   "id": "4e80c5ba",
   "metadata": {
    "deletable": false,
    "nbgrader": {
     "cell_type": "code",
     "checksum": "5872876f76f392fdf4d155eb38e9f4d5",
     "grade": false,
     "grade_id": "cell-50b6c08918492e2a",
     "locked": false,
     "schema_version": 3,
     "solution": true,
     "task": false
    }
   },
   "outputs": [],
   "source": [
    "# setup df_states dataframe with two columns 'percent_diabetic', and 'percent_covid'; also add 'code' to get the\n",
    "# alphabetic code for the state (to use with Plotly).\n",
    "\n",
    "df_states = None\n",
    "\n",
    "# YOUR CODE HERE\n",
    "raise NotImplementedError()"
   ]
  },
  {
   "cell_type": "code",
   "execution_count": null,
   "id": "bac082f2",
   "metadata": {
    "deletable": false,
    "editable": false,
    "nbgrader": {
     "cell_type": "code",
     "checksum": "b8d01125d9127d46ebde49ce52aed1b2",
     "grade": true,
     "grade_id": "cell-a47d47d96567ef86",
     "locked": true,
     "points": 3,
     "schema_version": 3,
     "solution": false,
     "task": false
    }
   },
   "outputs": [],
   "source": [
    "#hidden tests are within this cell"
   ]
  },
  {
   "cell_type": "markdown",
   "id": "c5c824a2",
   "metadata": {
    "deletable": false,
    "editable": false,
    "nbgrader": {
     "cell_type": "markdown",
     "checksum": "da9acf6b00a7c5563fedafb28b86afa9",
     "grade": false,
     "grade_id": "cell-d619fe86b84c1944",
     "locked": true,
     "schema_version": 3,
     "solution": false,
     "task": false
    }
   },
   "source": [
    "## <font color='magenta'>Task Four</font>\n",
    "\n",
    "Using the prepared `df_states` Dataframe, you will recreate the plot below. \n",
    "\n",
    "This plot is a Choropleth rendered with the library Plotly. \n",
    "\n",
    "You can follow the example here: [Plotly Choropleth](https://plotly.com/python/choropleth-maps/)\n",
    "\n",
    "Pay attention to detail, to get full points you will need to match the colors and titles of the subplots. You will also need to show both plots side by side. A JSON file containing alphabetic state codes has been given in the assets folder ('../../assets/assignment4/states.json'). Note that the colors used to create the chart are referred to as 'Blues'."
   ]
  },
  {
   "cell_type": "code",
   "execution_count": null,
   "id": "2f844c9a",
   "metadata": {
    "deletable": false,
    "editable": false,
    "nbgrader": {
     "cell_type": "code",
     "checksum": "a06252dc159e6381b4deed7e6e414e2e",
     "grade": false,
     "grade_id": "cell-a2fd89bd89592c94",
     "locked": true,
     "schema_version": 3,
     "solution": false,
     "task": false
    }
   },
   "outputs": [],
   "source": [
    "from IPython.display import SVG, display\n",
    "def show_svg():\n",
    "    display(SVG(filename=\"../../assets/assignment4/national_covid_and_diabetes.svg\"))\n",
    "show_svg()"
   ]
  },
  {
   "cell_type": "code",
   "execution_count": null,
   "id": "7a519ebb",
   "metadata": {
    "deletable": false,
    "nbgrader": {
     "cell_type": "code",
     "checksum": "440e73740baf6765b409187f838452eb",
     "grade": false,
     "grade_id": "cell-0307cb7933c8feec",
     "locked": false,
     "schema_version": 3,
     "solution": true,
     "task": false
    }
   },
   "outputs": [],
   "source": [
    "# Your code to replicate the visualization goes here\n",
    "\n",
    "# YOUR CODE HERE\n",
    "raise NotImplementedError()"
   ]
  }
 ],
 "metadata": {
  "kernelspec": {
   "display_name": "Python 3 (ipykernel)",
   "language": "python",
   "name": "python3"
  },
  "language_info": {
   "codemirror_mode": {
    "name": "ipython",
    "version": 3
   },
   "file_extension": ".py",
   "mimetype": "text/x-python",
   "name": "python",
   "nbconvert_exporter": "python",
   "pygments_lexer": "ipython3",
   "version": "3.9.15"
  }
 },
 "nbformat": 4,
 "nbformat_minor": 5
}
