{
 "cells": [
  {
   "cell_type": "markdown",
   "id": "dbda8aaf",
   "metadata": {
    "deletable": false,
    "editable": false,
    "nbgrader": {
     "cell_type": "markdown",
     "checksum": "aee7666074bf7d2f2c2a74ccb275b953",
     "grade": false,
     "grade_id": "cell-26f79a104a25cd27",
     "locked": true,
     "schema_version": 3,
     "solution": false,
     "task": false
    }
   },
   "source": [
    "## Overview\n",
    "\n",
    "This week you will be forecasting the incidence of COVID-19 cases. However, before forecasting you will begin by investigating the relationship between diabetes prevalence and COVID-19 incidence. \n",
    "\n",
    "This is split up into three notebooks\n",
    "\n",
    "  1. Inspect correlations between diabetes and COVID-19 prevelance\n",
    "\n",
    "  2. Implement LSTM model for COVID-19 forecasting and evaluate on state-level and county-level data.\n",
    "\n",
    "  3. Visualize the performance of LSTM models trained on nation-level (pretrained), state-level, and county-level data. In addition, we will also visualize the performance of the ARIMA model (pretrained) using county-level data."
   ]
  },
  {
   "cell_type": "markdown",
   "id": "45e98086",
   "metadata": {
    "deletable": false,
    "editable": false,
    "nbgrader": {
     "cell_type": "markdown",
     "checksum": "5b37cc3b7d211692a864636ef8d71534",
     "grade": false,
     "grade_id": "cell-6e617288b1a2db34",
     "locked": true,
     "schema_version": 3,
     "solution": false,
     "task": false
    }
   },
   "source": [
    "## <font color='magenta'>Your task</font>\n",
    "\n",
    "In this notebook you will visualize the perfomance of various models. The results from Milwaukee county in Wisconsin state has been saved from the previous notebook ('../../assets/assignment4/results_wi_milwaukee.pkl'). In addition, we pretrained and saved the results for all counties using the nation-level data ('../../assets/assignment4/results_nation_all_counties.pkl') and also trained an ARIMA model for the county-level data ('../../assets/assignment4/results_arima_Milwaukee.pkl').\n",
    "\n",
    "\n",
    "You will need to recreate the plot shown below. This plot looks at how different models trained on different datasets perform at predicting COVID-19 cases for Milwaukee county.  \n",
    "\n",
    "\n",
    "TIP: FIPS/GEOID for Milwaukee county is 55079\n",
    "Make sure that the line types and colors match those from below.\n",
    "\n",
    "Note:\n",
    "- the hex color for the predicted new cases from Nation - LSTM is: #000000\n",
    "- the hex color for the predicted new cases from Wisconsin - LSTM is: #7570b3\n",
    "- the hex color for the predicted new cases from Milwaukee - LSTM is: #1b9e77\n",
    "- the hex color for the predicted new cases from Milwaukee - ARIMA is: #e7298a\n",
    "- the hex color for the actual new cases is: #66a61e"
   ]
  },
  {
   "cell_type": "code",
   "execution_count": null,
   "id": "be829e99",
   "metadata": {
    "deletable": false,
    "editable": false,
    "nbgrader": {
     "cell_type": "code",
     "checksum": "db6a246985152cbb6af883d7c7905f6f",
     "grade": false,
     "grade_id": "cell-29f6f3d918162868",
     "locked": true,
     "schema_version": 3,
     "solution": false,
     "task": false
    }
   },
   "outputs": [],
   "source": [
    "import pandas as pd\n",
    "import numpy as np\n",
    "\n",
    "import data_cleaners as dc\n",
    "import matplotlib.pyplot as plt\n",
    "import pickle\n",
    "\n",
    "STATE = 'Wisconsin'\n",
    "COUNTY = 'Milwaukee'\n",
    "BURNIN_WEEKS = 14\n",
    "NUM_BIWEEKLY_INTERVALS = 20 # after the burnin period"
   ]
  },
  {
   "cell_type": "code",
   "execution_count": null,
   "id": "a5ca6666",
   "metadata": {
    "deletable": false,
    "nbgrader": {
     "cell_type": "code",
     "checksum": "50f624f93308bd8cbc363c673538ac5b",
     "grade": true,
     "grade_id": "cell-4902af21584120d1",
     "locked": false,
     "points": 0,
     "schema_version": 3,
     "solution": true,
     "task": false
    }
   },
   "outputs": [],
   "source": [
    "# Plot predicted new cases (50th quantile) vs actual new cases for the county at each interval using state model,\n",
    "# county model, nation model.\n",
    "\n",
    "\n",
    "# YOUR CODE HERE\n",
    "raise NotImplementedError()"
   ]
  },
  {
   "cell_type": "code",
   "execution_count": null,
   "id": "ff06806b",
   "metadata": {
    "deletable": false,
    "editable": false,
    "nbgrader": {
     "cell_type": "code",
     "checksum": "4daa1823ea3bc08ba263916fa099c81e",
     "grade": false,
     "grade_id": "cell-b9b496ebf8c18d40",
     "locked": true,
     "schema_version": 3,
     "solution": false,
     "task": false
    }
   },
   "outputs": [],
   "source": [
    "from IPython.display import SVG, display\n",
    "def show_svg():\n",
    "    display(SVG(filename=\"../../assets/assignment4/milwaukie_wi_predicted_cases.svg\"))\n",
    "show_svg()"
   ]
  },
  {
   "cell_type": "code",
   "execution_count": null,
   "id": "b2ca380c",
   "metadata": {},
   "outputs": [],
   "source": []
  }
 ],
 "metadata": {
  "kernelspec": {
   "display_name": "Python 3 (ipykernel)",
   "language": "python",
   "name": "python3"
  },
  "language_info": {
   "codemirror_mode": {
    "name": "ipython",
    "version": 3
   },
   "file_extension": ".py",
   "mimetype": "text/x-python",
   "name": "python",
   "nbconvert_exporter": "python",
   "pygments_lexer": "ipython3",
   "version": "3.9.15"
  }
 },
 "nbformat": 4,
 "nbformat_minor": 5
}
