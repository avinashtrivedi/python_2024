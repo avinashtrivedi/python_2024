{
 "cells": [
  {
   "cell_type": "markdown",
   "id": "1435bad4",
   "metadata": {
    "deletable": false,
    "editable": false,
    "nbgrader": {
     "cell_type": "markdown",
     "checksum": "2500c1505455c23e893f2c6761fdf199",
     "grade": false,
     "grade_id": "cell-e5fd1439edf2801c",
     "locked": true,
     "schema_version": 3,
     "solution": false,
     "task": false
    }
   },
   "source": [
    "## Overview\n",
    "\n",
    "This week you will be forecasting the incidence of COVID-19 cases. However, before forecasting you will begin by investigating the relationship between diabetes prevalence and COVID-19 incidence. \n",
    "\n",
    "This is split up into three notebooks\n",
    "\n",
    "  1. Inspect correlations between diabetes and COVID-19 prevelance\n",
    "\n",
    "  2. Implement LSTM model for COVID-19 forecasting and evaluate on state-level and county-level data.\n",
    "\n",
    "  3. Visualize the performance of LSTM models trained on nation-level (pretrained), state-level, and county-level data. In addition, we will also visualize the performance of the ARIMA model (pretrained) using county-level data."
   ]
  },
  {
   "cell_type": "markdown",
   "id": "eec65b91",
   "metadata": {
    "deletable": false,
    "editable": false,
    "nbgrader": {
     "cell_type": "markdown",
     "checksum": "9413deabf74db5e847f14b08e288297d",
     "grade": false,
     "grade_id": "cell-82f05c8d02853948",
     "locked": true,
     "schema_version": 3,
     "solution": false,
     "task": false
    }
   },
   "source": [
    "## <font color='magenta'>Task One A</font>\n",
    "\n",
    "In this notebook you will implement elements of the model explained in the paper: [A spatiotemporal machine learning approach to forecasting\n",
    "COVID-19 incidence at the county level in the United States](https://arxiv.org/pdf/2109.12094.pdf).\n",
    "\n",
    "In particular, you must fill in the following functions in ```find_best_hyperparameters```\n",
    "\n",
    "- `QuantileLoss` \n",
    "  - `__init__` \n",
    "  - `forward`\n",
    "  \n",
    "- `LSTM` \n",
    "  - `__init__` \n",
    "  - `forward`\n",
    "  \n",
    "Unlike the paper you will not be implementing an ensemble but only one model (this is only to save time, we do encourage you to explore ensemble models on your own). "
   ]
  },
  {
   "cell_type": "markdown",
   "id": "cf332c47",
   "metadata": {
    "deletable": false,
    "editable": false,
    "nbgrader": {
     "cell_type": "markdown",
     "checksum": "056a08f96ab283849429b7d54af61fce",
     "grade": false,
     "grade_id": "cell-e116c760a8dd3007",
     "locked": true,
     "schema_version": 3,
     "solution": false,
     "task": false
    }
   },
   "source": [
    "You will need the constants below so do not change these:"
   ]
  },
  {
   "cell_type": "code",
   "execution_count": null,
   "id": "d06be79d",
   "metadata": {
    "deletable": false,
    "editable": false,
    "nbgrader": {
     "cell_type": "code",
     "checksum": "f1dbad7bd872cabff100fa40401a2d2b",
     "grade": false,
     "grade_id": "cell-652cc2ae2a8c6b2a",
     "locked": true,
     "schema_version": 3,
     "solution": false,
     "task": false
    }
   },
   "outputs": [],
   "source": [
    "import pandas as pd\n",
    "import numpy as np\n",
    "\n",
    "import data_cleaners as dc\n",
    "import find_best_hyperparameters as fbh\n",
    "\n",
    "STATE = 'Wisconsin'\n",
    "COUNTY = 'Milwaukee'\n",
    "BURNIN_WEEKS = 14 # after INITIAL_DATE\n",
    "NUM_BIWEEKLY_INTERVALS = 20 # after the burnin period"
   ]
  },
  {
   "cell_type": "markdown",
   "id": "418d05e0",
   "metadata": {
    "deletable": false,
    "editable": false,
    "nbgrader": {
     "cell_type": "markdown",
     "checksum": "5648f4e8f8c17068e433333ac55b16bf",
     "grade": false,
     "grade_id": "cell-40acd1b8b56fe695",
     "locked": true,
     "schema_version": 3,
     "solution": false,
     "task": false
    }
   },
   "source": [
    "***NOTE that the training time for every interval will gradually increase as the number of training samples increase. \n",
    "It takes less than 5 minutes to complete. Please check your code if it is taking longer than 5 minutes to complete.***\n",
    "\n",
    "The first row of err_results_df (Pandas dataframe) is shown below:\n",
    "\n",
    "|    |   error(State) |   error(County) | forecast_dates   |\n",
    "|---:|---------------:|----------------:|:-----------------|\n",
    "|  0 |      1046.15   |        953.033  | 2020-07-12       |\n",
    "\n",
    "final_results_state is a list of Pandas dataframes. The first row of the first item in the list is shown below:\n",
    "\n",
    "|    |   GEOID |   q_25_pred |   q_100_pred |   q_250_pred |   q_500_pred |   q_750_pred |   q_900_pred |   q_975_pred |   q_25_err |   q_100_err |   q_250_err |    q_500_err |   q_750_err |   q_900_err |   q_975_err |   y_label |   y_delta_cases |   q_25_pred_transform |   q_25_pred_cases |   q_100_pred_transform |   q_100_pred_cases |   q_250_pred_transform |   q_250_pred_cases |   q_500_pred_transform |   q_500_pred_cases |   q_750_pred_transform |   q_750_pred_cases |   q_900_pred_transform |   q_900_pred_cases |   q_975_pred_transform |   q_975_pred_cases |   y_lbl_transform |   y_label_transformed |   y_q500_err |\n",
    "|---:|--------:|------------:|-------------:|-------------:|-------------:|-------------:|-------------:|-------------:|-----------:|------------:|------------:|-------------:|------------:|------------:|------------:|----------:|----------------:|----------------------:|------------------:|-----------------------:|-------------------:|-----------------------:|-------------------:|-----------------------:|-------------------:|-----------------------:|-------------------:|-----------------------:|-------------------:|-----------------------:|-------------------:|------------------:|----------------------:|-------------:|\n",
    "|  0 |   55001 |  0.635589   |    1.00267   |     1.28862  |     1.79157  |     2.11468  |      2.27235 |      2.59408 |  1.19875   |   0.831668  |    0.54572  |  0.0427656   | -0.280339   | -0.438008   |  -0.759739  |  1.83434  |              14 |            0.888134   |         1.78462   |              1.72555   |          3.46732   |               2.62777  |           5.28024  |               4.99888  |          10.0447   |                7.28691 |           14.6423  |                8.70214 |           17.4861  |               12.3842  |           24.8849  |          5.26099  |             10.5714   |     3.95526  |\n",
    "\n",
    "Similarly, final_results_county is a list of Pandas dataframes. The first row of the first item in the list is shown below:\n",
    "\n",
    "|    |   GEOID |   q_25_pred |   q_100_pred |   q_250_pred |   q_500_pred |   q_750_pred |   q_900_pred |   q_975_pred |   q_25_err |   q_100_err |   q_250_err |   q_500_err |   q_750_err |   q_900_err |   q_975_err |   y_label |   y_delta_cases |   q_25_pred_transform |   q_25_pred_cases |   q_100_pred_transform |   q_100_pred_cases |   q_250_pred_transform |   q_250_pred_cases |   q_500_pred_transform |   q_500_pred_cases |   q_750_pred_transform |   q_750_pred_cases |   q_900_pred_transform |   q_900_pred_cases |   q_975_pred_transform |   q_975_pred_cases |   y_lbl_transform |   y_label_transformed |   y_q500_err |\n",
    "|---:|--------:|------------:|-------------:|-------------:|-------------:|-------------:|-------------:|-------------:|-----------:|------------:|------------:|------------:|------------:|------------:|------------:|----------:|----------------:|----------------------:|------------------:|-----------------------:|-------------------:|-----------------------:|-------------------:|-----------------------:|-------------------:|-----------------------:|-------------------:|-----------------------:|-------------------:|-----------------------:|-------------------:|------------------:|----------------------:|-------------:|\n",
    "|  0 |   55079 |      1.8511 |     0.980312 |     0.764299 |      2.45973 |      2.13678 |      1.54987 |      2.84166 |    1.19097 |     2.06176 |     2.27778 |    0.582348 |      0.9053 |     1.49221 |    0.200421 |   3.04208 |            1971 |               5.36683 |           510.507 |                1.66529 |            158.407 |                1.14749 |            109.152 |                10.7016 |            1017.97 |                7.47208 |            710.764 |                3.71084 |            352.985 |                16.1441 |            1535.67 |           19.9487 |               1897.57 |      953.033 |\n"
   ]
  },
  {
   "cell_type": "code",
   "execution_count": null,
   "id": "fb64e706",
   "metadata": {
    "deletable": false,
    "nbgrader": {
     "cell_type": "code",
     "checksum": "484d07b6ca06c185204c5a777f3a6a19",
     "grade": false,
     "grade_id": "cell-dd25e76e70c21871",
     "locked": false,
     "schema_version": 3,
     "solution": true,
     "task": false
    }
   },
   "outputs": [],
   "source": [
    "# after adding code to QuantileLoss and LSTM as instructed above,\n",
    "# comment out the blank return statement in eval_results() before running this cell. \n",
    "err_results_df, final_results_state, final_results_county = fbh.eval_results(BURNIN_WEEKS,\n",
    "                                                                             NUM_BIWEEKLY_INTERVALS,\n",
    "                                                                             STATE,\n",
    "                                                                             COUNTY,\n",
    "                                                                             dc.TEMPORAL_LAG,\n",
    "                                                                             dc.FORECAST_HORIZON\n",
    "                                                                            )\n",
    "# YOUR CODE HERE\n",
    "raise NotImplementedError()"
   ]
  },
  {
   "cell_type": "code",
   "execution_count": null,
   "id": "9ee7a4b1",
   "metadata": {
    "deletable": false,
    "editable": false,
    "nbgrader": {
     "cell_type": "code",
     "checksum": "5da96de8b46af365309f401f5a8eb8ab",
     "grade": true,
     "grade_id": "cell-9aa3724dc18a8a6a",
     "locked": true,
     "points": 10,
     "schema_version": 3,
     "solution": false,
     "task": false
    }
   },
   "outputs": [],
   "source": [
    "#hidden tests are within this cell"
   ]
  },
  {
   "cell_type": "markdown",
   "id": "54679a59",
   "metadata": {
    "deletable": false,
    "editable": false,
    "nbgrader": {
     "cell_type": "markdown",
     "checksum": "b3ec388eb1b44489b1b27ddda93c5613",
     "grade": false,
     "grade_id": "cell-176bb9354fb150c0",
     "locked": true,
     "schema_version": 3,
     "solution": false,
     "task": false
    }
   },
   "source": [
    "## <font color='magenta'>Task One B</font>\n",
    "\n",
    "We have run the same model you implemented for the Milwaukee county in the state of Wisconsin.\n",
    "\n",
    "Using the results from the previous task, generate the plot showing the predicted (50th quantile), actual number of cases, and the range between the 2.5th quantile and the 97.5th quantile. We will use the data from the **state level LSTM model**. \n",
    "\n",
    "You will need to recreate the plot shown below.\n",
    "\n",
    "TIPS -\n",
    "- Check out pyplot fill_between command to create shading for plotting the range of values between the 2.5th quantile and the 97.5th quantile.\n",
    "- FIPS/GEOID for Milwaukee county is 55079.\n",
    "\n",
    "Note:\n",
    "  - the hex color for the predicted new cases is: #1b9e77\n",
    "  - the hex color for the actual new cases is: #66a61e\n",
    "  - the color for the fill_between is: lightblue"
   ]
  },
  {
   "cell_type": "code",
   "execution_count": null,
   "id": "60f0db8b",
   "metadata": {
    "deletable": false,
    "nbgrader": {
     "cell_type": "code",
     "checksum": "e561448e6dbc630cae11286fe44c2cb7",
     "grade": true,
     "grade_id": "cell-58676e8ee041d5eb",
     "locked": false,
     "points": 0,
     "schema_version": 3,
     "solution": true,
     "task": false
    }
   },
   "outputs": [],
   "source": [
    "# Generate the plot showing the predicted (50th quantile), actual number of cases, and the range\n",
    "# between the 2.5th quantile and the 97.5th quantile for the county with data from the state level LSTM model.\n",
    "import matplotlib.pyplot as plt\n",
    "\n",
    "# YOUR CODE HERE\n",
    "raise NotImplementedError()"
   ]
  },
  {
   "cell_type": "code",
   "execution_count": null,
   "id": "5ed0c447",
   "metadata": {
    "deletable": false,
    "editable": false,
    "nbgrader": {
     "cell_type": "code",
     "checksum": "38a84faa35cbd8262f3f2c9afde29d2c",
     "grade": false,
     "grade_id": "cell-8e067c87c8e1a5b3",
     "locked": true,
     "schema_version": 3,
     "solution": false,
     "task": false
    }
   },
   "outputs": [],
   "source": [
    "from IPython.display import SVG, display\n",
    "def show_svg():\n",
    "    display(SVG(filename=\"../../assets/assignment4/milwaukie_predicted_cases.svg\"))\n",
    "show_svg()"
   ]
  },
  {
   "cell_type": "markdown",
   "id": "c58225d9",
   "metadata": {
    "deletable": false,
    "editable": false,
    "nbgrader": {
     "cell_type": "markdown",
     "checksum": "1dfb97a11c3c13597ce0091b4a5a87f0",
     "grade": false,
     "grade_id": "cell-140194b19064bfd1",
     "locked": true,
     "schema_version": 3,
     "solution": false,
     "task": false
    }
   },
   "source": [
    "## <font color='magenta'>Task One C</font>\n",
    "\n",
    "Answer the following questions:\n",
    "    \n",
    "    When is the prediction interval the widest (to enter your answer, answer it as the closest x-tick)?\n"
   ]
  },
  {
   "cell_type": "code",
   "execution_count": null,
   "id": "0efe293b",
   "metadata": {
    "deletable": false,
    "nbgrader": {
     "cell_type": "code",
     "checksum": "02f09e9ad117331fdaf78940622c89b0",
     "grade": false,
     "grade_id": "cell-9dbcf12a35c795a6",
     "locked": false,
     "schema_version": 3,
     "solution": true,
     "task": false
    }
   },
   "outputs": [],
   "source": [
    "widest_interval = None\n",
    "# YOUR CODE HERE\n",
    "raise NotImplementedError()"
   ]
  },
  {
   "cell_type": "code",
   "execution_count": null,
   "id": "2e4003c6",
   "metadata": {
    "deletable": false,
    "editable": false,
    "nbgrader": {
     "cell_type": "code",
     "checksum": "4e06f8b44d56f67fdb259f4a7197c20b",
     "grade": true,
     "grade_id": "cell-81fbeb8c59c853aa",
     "locked": true,
     "points": 3,
     "schema_version": 3,
     "solution": false,
     "task": false
    }
   },
   "outputs": [],
   "source": [
    "#hidden tests are within this cell"
   ]
  }
 ],
 "metadata": {
  "kernelspec": {
   "display_name": "Python 3 (ipykernel)",
   "language": "python",
   "name": "python3"
  },
  "language_info": {
   "codemirror_mode": {
    "name": "ipython",
    "version": 3
   },
   "file_extension": ".py",
   "mimetype": "text/x-python",
   "name": "python",
   "nbconvert_exporter": "python",
   "pygments_lexer": "ipython3",
   "version": "3.9.15"
  }
 },
 "nbformat": 4,
 "nbformat_minor": 5
}
