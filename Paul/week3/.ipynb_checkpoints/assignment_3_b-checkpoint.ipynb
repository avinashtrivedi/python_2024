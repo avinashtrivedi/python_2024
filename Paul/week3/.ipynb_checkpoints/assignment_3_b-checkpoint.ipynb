{
 "cells": [
  {
   "cell_type": "markdown",
   "id": "aeafdc46",
   "metadata": {
    "deletable": false,
    "editable": false,
    "nbgrader": {
     "cell_type": "markdown",
     "checksum": "43faee01c283856693ed300e0262543b",
     "grade": false,
     "grade_id": "cell-0ca1eb412d9411e0",
     "locked": true,
     "schema_version": 3,
     "solution": false,
     "task": false
    }
   },
   "source": [
    "## Overview\n",
    "\n",
    "This week you will classify whether a specific text snippet refers to an individual with diabetes. Each text snippet contains the notes from an electronic health record. You will consider deep learning models built with two types of data: \n",
    "\n",
    "- A bag of embeddings representation of the text data\n",
    "- A pre-trained vector embedding of the notes\n",
    "\n",
    "First, you will develop a model with each of these sources independently and then you will develop a model which incorporates both.\n",
    "\n",
    "This is split up into three notebooks. \n",
    "\n",
    " 1. You will use a bag of embeddings text representation\n",
    " \n",
    " 2. You will use a vector representation of each text snippet\n",
    " \n",
    " 3. You will combine these two types of data in a single deep learning model \n"
   ]
  },
  {
   "cell_type": "markdown",
   "id": "afef5b45",
   "metadata": {
    "deletable": false,
    "editable": false,
    "nbgrader": {
     "cell_type": "markdown",
     "checksum": "1379fefef0ca196551b4662dbcb97d0f",
     "grade": false,
     "grade_id": "cell-2f83997e22060b05",
     "locked": true,
     "schema_version": 3,
     "solution": false,
     "task": false
    }
   },
   "source": [
    "## Pipeline task overview: Predicting presence of diabetes from text\n",
    "\n",
    "\n",
    "\n",
    "Recall from your previous courses that these tasks can typically be described by the following components: \n",
    "\n",
    " 1. Data collection - <font color='green'>Done</font>\n",
    " 2. Data cleaning / transformation - <font color='magenta'>You will do some in assignment 3 c</font>\n",
    " 3. Dataset splitting <font color='green'>Done</font>\n",
    " 4. Model training <font color='magenta'>You will do</font>\n",
    " 5. Model evaluation <font color='magenta'>You will do</font>\n",
    " 6. Repeat 1-5 to perform model selection <font color='magenta'>You will do</font>\n",
    " 7. Presenation of findings (Visualization) <font color='green'>Not required</font>\n",
    "\n"
   ]
  },
  {
   "cell_type": "markdown",
   "id": "a67b81ea",
   "metadata": {
    "deletable": false,
    "editable": false,
    "nbgrader": {
     "cell_type": "markdown",
     "checksum": "63292ceb0fd21d4796c4843deba416c5",
     "grade": false,
     "grade_id": "cell-bb10654e9a82dcc3",
     "locked": true,
     "schema_version": 3,
     "solution": false,
     "task": false
    }
   },
   "source": [
    "## <font color='magenta'>Task One</font>\n",
    "\n",
    "In this notebook you will find the best hyper-parameters for a deep learning model which is trained on word embeddings only. You will implement the following:\n",
    "\n",
    "\n",
    "```VecModel``` in ```find_best_hyperparameters```.\n",
    "\n",
    "The only functions you need to implement are the ```init``` and ```forward``` functions\n",
    "\n",
    "You will then run the following code and match the output. \n",
    "\n",
    "HINTS:\n",
    "\n",
    " - Your first layer should be PyTorch's `nn.Linear` layer. \n",
    "\n",
    " - Your next layer should be PyTorch's `nn.Linear` layer.\n",
    "\n",
    " - To match the solution code you must add this one line at the end of your `init` function,`self.double()`\n"
   ]
  },
  {
   "cell_type": "code",
   "execution_count": null,
   "id": "c87a419f",
   "metadata": {
    "deletable": false,
    "editable": false,
    "nbgrader": {
     "cell_type": "code",
     "checksum": "9a805654a77b238bc60e4075bb90436f",
     "grade": false,
     "grade_id": "cell-c870954515f64ae5",
     "locked": true,
     "schema_version": 3,
     "solution": false,
     "task": false
    }
   },
   "outputs": [],
   "source": [
    "import data_cleaners as dc"
   ]
  },
  {
   "cell_type": "code",
   "execution_count": null,
   "id": "1368f511",
   "metadata": {
    "deletable": false,
    "editable": false,
    "nbgrader": {
     "cell_type": "code",
     "checksum": "c20e7257184817a46293479530ab48f4",
     "grade": false,
     "grade_id": "cell-af97297175be7496",
     "locked": true,
     "schema_version": 3,
     "solution": false,
     "task": false
    }
   },
   "outputs": [],
   "source": [
    "train, val= dc.get_vec_data()"
   ]
  },
  {
   "cell_type": "code",
   "execution_count": null,
   "id": "7d736cd4",
   "metadata": {
    "deletable": false,
    "editable": false,
    "nbgrader": {
     "cell_type": "code",
     "checksum": "99fb39ffcd5718ea1382fc6160dff29a",
     "grade": false,
     "grade_id": "cell-a1645791bd36a3d2",
     "locked": true,
     "schema_version": 3,
     "solution": false,
     "task": false
    }
   },
   "outputs": [],
   "source": [
    "import find_best_hyperparameters as fbh"
   ]
  },
  {
   "cell_type": "markdown",
   "id": "4d565ca5",
   "metadata": {
    "deletable": false,
    "editable": false,
    "nbgrader": {
     "cell_type": "markdown",
     "checksum": "b1d75a58ac2d21f0dc449e0fd6ee2f1f",
     "grade": false,
     "grade_id": "cell-19ec229c727e3c90",
     "locked": true,
     "schema_version": 3,
     "solution": false,
     "task": false
    }
   },
   "source": [
    "After completing the ```init``` and ```forward``` functions for `VecModel` the following code should run. The dictionary `params_vectors` containing the average precision scores for the hyperparameter `d` should look *similar* to the one shown below:\n",
    "```python\n",
    "{'10': 0.1111111111111111,\n",
    " '25': 0.2222222222222222,\n",
    " '50': 0.2121212121212121,\n",
    " '100': 0.121212121212121}\n",
    "```\n",
    "***Make sure that you take note of the best average precision in this notebook as we will ask about it later.***"
   ]
  },
  {
   "cell_type": "code",
   "execution_count": null,
   "id": "057a932c",
   "metadata": {
    "deletable": false,
    "nbgrader": {
     "cell_type": "code",
     "checksum": "013a866235fbc219335e43c337f01edb",
     "grade": false,
     "grade_id": "cell-785c91da0caeb0af",
     "locked": false,
     "schema_version": 3,
     "solution": true,
     "task": false
    }
   },
   "outputs": [],
   "source": [
    "params_vectors =  fbh.get_vec_model_parameters(train,val)\n",
    "\n",
    "# YOUR CODE HERE\n",
    "raise NotImplementedError()"
   ]
  },
  {
   "cell_type": "code",
   "execution_count": null,
   "id": "b55627ef",
   "metadata": {
    "deletable": false,
    "editable": false,
    "nbgrader": {
     "cell_type": "code",
     "checksum": "19c23d9bec3d1fe81b75fdec9160b907",
     "grade": true,
     "grade_id": "cell-a4328edfb106449a",
     "locked": true,
     "points": 25,
     "schema_version": 3,
     "solution": false,
     "task": false
    }
   },
   "outputs": [],
   "source": [
    "#hidden tests are within this cell"
   ]
  }
 ],
 "metadata": {
  "kernelspec": {
   "display_name": "Python 3 (ipykernel)",
   "language": "python",
   "name": "python3"
  },
  "language_info": {
   "codemirror_mode": {
    "name": "ipython",
    "version": 3
   },
   "file_extension": ".py",
   "mimetype": "text/x-python",
   "name": "python",
   "nbconvert_exporter": "python",
   "pygments_lexer": "ipython3",
   "version": "3.9.15"
  }
 },
 "nbformat": 4,
 "nbformat_minor": 5
}
