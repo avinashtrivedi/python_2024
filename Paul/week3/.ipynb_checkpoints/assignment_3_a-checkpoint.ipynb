{
 "cells": [
  {
   "cell_type": "markdown",
   "id": "aeafdc46",
   "metadata": {
    "deletable": false,
    "editable": false,
    "nbgrader": {
     "cell_type": "markdown",
     "checksum": "31a1b1394acb038c00c25d7fb8c6c218",
     "grade": false,
     "grade_id": "cell-1d3d70a15d57cf4c",
     "locked": true,
     "schema_version": 3,
     "solution": false,
     "task": false
    }
   },
   "source": [
    "## Overview\n",
    "\n",
    "This week you will classify whether a specific text snippet refers to an individual with diabetes. Each text snippet contains the notes from an electronic health record. You will consider deep learning models built with two types of data: \n",
    "\n",
    "- A bag of embeddings representation of the text data\n",
    "- A pre-trained vector embedding of the notes\n",
    "\n",
    "First, you will develop a model with each of these sources independently and then you will develop a model which incorporates both.\n",
    "\n",
    "This is split up into three notebooks. \n",
    "\n",
    "  1. You will use a bag of embeddings text representation\n",
    " \n",
    "  2. You will use a vector representation of each text snippet\n",
    " \n",
    "  3. You will combine these two types of data in a single deep learning model \n"
   ]
  },
  {
   "cell_type": "markdown",
   "id": "27054085",
   "metadata": {
    "deletable": false,
    "editable": false,
    "nbgrader": {
     "cell_type": "markdown",
     "checksum": "1dea339a9070f41d23ad7d983ec1f7b2",
     "grade": false,
     "grade_id": "cell-e2828bf0e9f7a260",
     "locked": true,
     "schema_version": 3,
     "solution": false,
     "task": false
    }
   },
   "source": [
    "## Pipeline task overview: Predicting presence of diabetes from text\n",
    "\n",
    "\n",
    "\n",
    "Recall from your previous courses that these tasks can typically be described by the following components: \n",
    "\n",
    " 1. Data collection - <font color='green'>Done</font>\n",
    " 2. Data cleaning / transformation - <font color='magenta'>You will do some in assignment 3 c</font>\n",
    " 3. Dataset splitting <font color='green'>Done</font>\n",
    " 4. Model training <font color='magenta'>You will do</font>\n",
    " 5. Model evaluation <font color='magenta'>You will do</font>\n",
    " 6. Repeat 1-5 to perform model selection <font color='magenta'>You will do</font>\n",
    " 7. Presenation of findings (Visualization) <font color='green'>Not required</font>\n",
    "\n"
   ]
  },
  {
   "cell_type": "markdown",
   "id": "9f997bfb",
   "metadata": {
    "deletable": false,
    "editable": false,
    "nbgrader": {
     "cell_type": "markdown",
     "checksum": "1ea72fb277be4257dbb246104b068b6f",
     "grade": false,
     "grade_id": "cell-7540c5589f9c8a77",
     "locked": true,
     "schema_version": 3,
     "solution": false,
     "task": false
    }
   },
   "source": [
    "## <font color='magenta'>Task One</font>\n",
    "\n",
    "You will implement the following:\n",
    "\n",
    "\n",
    "```BoEModel``` in ```find_best_hyperparameters```.\n",
    "\n",
    "The only functions you need to implement are the ```init``` and ```forward``` functions\n",
    "\n",
    "You will then run the following code and match the output. \n",
    "\n",
    "\n",
    "HINTS:\n",
    "\n",
    " - Your first layer should be PyTorch's `nn.EmbeddingBag` layer and must be called ```self.embedding_bag```. \n",
    "\n",
    " - Your next layer should be PyTorch's `nn.Linear` layer and must be called ```self.fc_layer```.\n",
    "\n",
    " - To match the solution code you must add these two lines at the end of your `init` function,         `self.init_weights()` and `self.double()`\n"
   ]
  },
  {
   "cell_type": "code",
   "execution_count": 1,
   "id": "c87a419f",
   "metadata": {
    "deletable": false,
    "editable": false,
    "nbgrader": {
     "cell_type": "code",
     "checksum": "2afde081905d33373ebd9e5535f74fdc",
     "grade": false,
     "grade_id": "cell-08f4f0e7bd3536a8",
     "locked": true,
     "schema_version": 3,
     "solution": false,
     "task": false
    }
   },
   "outputs": [
    {
     "name": "stderr",
     "output_type": "stream",
     "text": [
      "C:\\Users\\avitr\\anaconda3\\lib\\site-packages\\pandas\\core\\arrays\\masked.py:60: UserWarning: Pandas requires version '1.3.6' or newer of 'bottleneck' (version '1.3.5' currently installed).\n",
      "  from pandas.core import (\n"
     ]
    },
    {
     "ename": "ModuleNotFoundError",
     "evalue": "No module named 'torchtext'",
     "output_type": "error",
     "traceback": [
      "\u001b[1;31m---------------------------------------------------------------------------\u001b[0m",
      "\u001b[1;31mModuleNotFoundError\u001b[0m                       Traceback (most recent call last)",
      "Cell \u001b[1;32mIn[1], line 1\u001b[0m\n\u001b[1;32m----> 1\u001b[0m \u001b[38;5;28;01mimport\u001b[39;00m \u001b[38;5;21;01mdata_cleaners\u001b[39;00m \u001b[38;5;28;01mas\u001b[39;00m \u001b[38;5;21;01mdc\u001b[39;00m\n",
      "File \u001b[1;32mD:\\OneDrive - NITT\\CODE\\Python Scripts\\Code_2024\\Paul\\week3\\data_cleaners.py:4\u001b[0m\n\u001b[0;32m      2\u001b[0m \u001b[38;5;28;01mimport\u001b[39;00m \u001b[38;5;21;01mpickle\u001b[39;00m\n\u001b[0;32m      3\u001b[0m \u001b[38;5;28;01mimport\u001b[39;00m \u001b[38;5;21;01mtorch\u001b[39;00m\n\u001b[1;32m----> 4\u001b[0m \u001b[38;5;28;01mfrom\u001b[39;00m \u001b[38;5;21;01mtorchtext\u001b[39;00m\u001b[38;5;21;01m.\u001b[39;00m\u001b[38;5;21;01mdata\u001b[39;00m\u001b[38;5;21;01m.\u001b[39;00m\u001b[38;5;21;01mutils\u001b[39;00m \u001b[38;5;28;01mimport\u001b[39;00m get_tokenizer\n\u001b[0;32m      5\u001b[0m \u001b[38;5;28;01mimport\u001b[39;00m \u001b[38;5;21;01mtorchtext\u001b[39;00m\n\u001b[0;32m      6\u001b[0m \u001b[38;5;28;01mfrom\u001b[39;00m \u001b[38;5;21;01mtorch\u001b[39;00m\u001b[38;5;21;01m.\u001b[39;00m\u001b[38;5;21;01mutils\u001b[39;00m\u001b[38;5;21;01m.\u001b[39;00m\u001b[38;5;21;01mdata\u001b[39;00m \u001b[38;5;28;01mimport\u001b[39;00m DataLoader, Dataset\n",
      "\u001b[1;31mModuleNotFoundError\u001b[0m: No module named 'torchtext'"
     ]
    }
   ],
   "source": [
    "import data_cleaners as dc"
   ]
  },
  {
   "cell_type": "code",
   "execution_count": null,
   "id": "1368f511",
   "metadata": {
    "deletable": false,
    "editable": false,
    "nbgrader": {
     "cell_type": "code",
     "checksum": "37d53025b9af4d1dc1acc02c8af8a0f8",
     "grade": false,
     "grade_id": "cell-a5fc857035a0200f",
     "locked": true,
     "schema_version": 3,
     "solution": false,
     "task": false
    }
   },
   "outputs": [],
   "source": [
    "train, val, vocab = dc.get_boe_data()"
   ]
  },
  {
   "cell_type": "code",
   "execution_count": null,
   "id": "7d736cd4",
   "metadata": {
    "deletable": false,
    "editable": false,
    "nbgrader": {
     "cell_type": "code",
     "checksum": "30b1d872ab8c5c81f70dad95e4777ede",
     "grade": false,
     "grade_id": "cell-dc3ace69ea768d97",
     "locked": true,
     "schema_version": 3,
     "solution": false,
     "task": false
    }
   },
   "outputs": [],
   "source": [
    "import find_best_hyperparameters as fbh"
   ]
  },
  {
   "cell_type": "markdown",
   "id": "4d565ca5",
   "metadata": {
    "deletable": false,
    "editable": false,
    "nbgrader": {
     "cell_type": "markdown",
     "checksum": "beedd528e48cd13f226a871d7467db2c",
     "grade": false,
     "grade_id": "cell-1f9ec27692d6017e",
     "locked": true,
     "schema_version": 3,
     "solution": false,
     "task": false
    }
   },
   "source": [
    "After completing the ```init``` and ```forward``` functions for `BOE` model the following code should run. The dictionary `params_boe` containing the average precision scores for the hyperparameter `d` should look *similar* to the one shown below:\n",
    "\n",
    "```python\n",
    "{'10': 0.1111111111111111,\n",
    " '25': 0.2222222222222222,\n",
    " '50': 0.2121212121212121,\n",
    " '100': 0.121212121212121}\n",
    "```"
   ]
  },
  {
   "cell_type": "code",
   "execution_count": null,
   "id": "057a932c",
   "metadata": {
    "deletable": false,
    "nbgrader": {
     "cell_type": "code",
     "checksum": "c322a3a14a31c782d89926a2d8fe2790",
     "grade": false,
     "grade_id": "cell-92496cc6163c9a28",
     "locked": false,
     "schema_version": 3,
     "solution": true,
     "task": false
    }
   },
   "outputs": [],
   "source": [
    "params_boe =  fbh.get_boe_model_parameters(train,val,vocab)\n",
    "\n",
    "# YOUR CODE HERE\n",
    "raise NotImplementedError()"
   ]
  },
  {
   "cell_type": "code",
   "execution_count": null,
   "id": "b55627ef",
   "metadata": {
    "deletable": false,
    "editable": false,
    "nbgrader": {
     "cell_type": "code",
     "checksum": "e0313b0712fd3445d1cd39e9cb2ea829",
     "grade": true,
     "grade_id": "cell-7bf571565f93e965",
     "locked": true,
     "points": 25,
     "schema_version": 3,
     "solution": false,
     "task": false
    }
   },
   "outputs": [],
   "source": [
    "#hidden tests are within this cell"
   ]
  }
 ],
 "metadata": {
  "kernelspec": {
   "display_name": "Python 3 (ipykernel)",
   "language": "python",
   "name": "python3"
  },
  "language_info": {
   "codemirror_mode": {
    "name": "ipython",
    "version": 3
   },
   "file_extension": ".py",
   "mimetype": "text/x-python",
   "name": "python",
   "nbconvert_exporter": "python",
   "pygments_lexer": "ipython3",
   "version": "3.9.15"
  }
 },
 "nbformat": 4,
 "nbformat_minor": 5
}
