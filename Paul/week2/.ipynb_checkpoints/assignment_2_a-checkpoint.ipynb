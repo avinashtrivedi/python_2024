{
 "cells": [
  {
   "cell_type": "markdown",
   "id": "3e622466",
   "metadata": {
    "deletable": false,
    "editable": false,
    "nbgrader": {
     "cell_type": "markdown",
     "checksum": "bce088cbc0187e356b20977a489c39c4",
     "grade": false,
     "grade_id": "cell-5cec6d2724b5f694",
     "locked": true,
     "schema_version": 3,
     "solution": false,
     "task": false
    }
   },
   "source": [
    "## Glucose Prediction \n",
    "\n",
    "\n",
    "This assignment's focus is on predicting blood glucose. There are four parts to the assignment:\n",
    "\n",
    "   1. Data cleaning\n",
    " \n",
    "   2. Population level model\n",
    " \n",
    "   3. Improving model training\n",
    " \n",
    "   4. Transfer learning\n",
    " "
   ]
  },
  {
   "cell_type": "markdown",
   "id": "dad265ed",
   "metadata": {
    "deletable": false,
    "editable": false,
    "nbgrader": {
     "cell_type": "markdown",
     "checksum": "f4420ac7352ff2f1159b46434b9fe58b",
     "grade": false,
     "grade_id": "cell-9707144ab33a2e77",
     "locked": true,
     "schema_version": 3,
     "solution": false,
     "task": false
    },
    "tags": []
   },
   "source": [
    "## <font color='magenta'>IMPORTANT: READ ME</font> \n",
    "\n",
    "This assignment is set up differently from the others. There are four tasks below. You only need to complete ANY two of the four. You do not need to attempt all four and should be able to receive 100\\% by attempting and successfully completing two of the four below. "
   ]
  },
  {
   "cell_type": "markdown",
   "id": "9ea0d5b1",
   "metadata": {
    "deletable": false,
    "editable": false,
    "nbgrader": {
     "cell_type": "markdown",
     "checksum": "06e25c0e3e080e0be652d9c834dfc739",
     "grade": false,
     "grade_id": "cell-a7ce4c725fbdf63e",
     "locked": true,
     "schema_version": 3,
     "solution": false,
     "task": false
    }
   },
   "source": [
    "## Pipeline task overview: Forecasting glucose\n",
    "\n",
    "Recall from your previous courses that these tasks can typically be described by the following components: \n",
    "\n",
    " 1. Data collection - <font color='green'>Done</font>\n",
    " 2. Data cleaning / transformation - <font color='magenta'>You will do in 2a</font>\n",
    " 3. Dataset splitting <font color='green'> - Done </font>\n",
    " 4. Model training <font color='magenta'> - You will do in 2b, 2c and 2d</font>\n",
    " 5. Model evaluation <font color='magenta'> - You will do in 2b, 2c and 2d</font>\n",
    " 6. Repeat 1-5 to perform model selection <font color='magenta'> - You will do in 2b, 2c and 2d</font>"
   ]
  },
  {
   "cell_type": "markdown",
   "id": "29909c19",
   "metadata": {
    "deletable": false,
    "editable": false,
    "nbgrader": {
     "cell_type": "markdown",
     "checksum": "ae6a20045558a09d21411379db17a0b7",
     "grade": false,
     "grade_id": "cell-f07f84af54de03a7",
     "locked": true,
     "schema_version": 3,
     "solution": false,
     "task": false
    }
   },
   "source": [
    "## Data cleaning\n",
    "\n",
    "Continuous glucose monitoring data can be prone to missingness. Users may fail to wear a device for days at a time, resulting in long gaps in the time series. Devices may lose power, or their connection to cloud storage. There are varying approaches for dealing with this missing data. Additionally, these time series can contain outliers which may confuse deep learning models and data cleaning will typically consist of some form of standardization. \n",
    "\n",
    "Your goal is to process the raw data frame contained in `.pkl` to put it into the form [X,y] where each row of X is a continuous time series with 24 glucose readings (2 hour readings at 5 min intervals). Each row of y is a continuous time series with 12 glucose readings (the following 1 hour readings at 5 min intervals). \n",
    "\n",
    "For each person you will clean their glucose data according to the steps below. For example, assume that the following time series has already been cleaned and transformed and has the following values:\n",
    "[x1,x2,x3,...,x35,x36,x37] for patient ID i. Then the rows of the generated dataframe for X will be as follows:\n",
    "- i, x1, x2,...,x24\n",
    "- i, x2, x3,...,x25\n",
    "\n",
    "and the corresponding rows of y will be:\n",
    "- x25,x26,...,x36\n",
    "- x26,x27,...,x37\n",
    "\n",
    "The pickle file 'assets/present_day_data.pkl' has glucose level readings for 10 patients with ids 1 through 10. Each patient's record has missing values. You will process each patient's readings according to the following steps."
   ]
  },
  {
   "cell_type": "code",
   "execution_count": 3,
   "id": "6140a6f6",
   "metadata": {},
   "outputs": [
    {
     "name": "stdout",
     "output_type": "stream",
     "text": [
      "Requirement already satisfied: pandas in c:\\users\\avitr\\anaconda3\\lib\\site-packages (2.2.2)"
     ]
    },
    {
     "name": "stderr",
     "output_type": "stream",
     "text": [
      "WARNING: Ignoring invalid distribution -atplotlib (c:\\users\\avitr\\appdata\\roaming\\python\\python39\\site-packages)\n",
      "WARNING: Ignoring invalid distribution -atplotlib (c:\\users\\avitr\\appdata\\roaming\\python\\python39\\site-packages)\n",
      "WARNING: Ignoring invalid distribution -cipy (c:\\users\\avitr\\anaconda3\\lib\\site-packages)\n",
      "WARNING: Ignoring invalid distribution -rotobuf (c:\\users\\avitr\\anaconda3\\lib\\site-packages)\n",
      "WARNING: Ignoring invalid distribution -atplotlib (c:\\users\\avitr\\appdata\\roaming\\python\\python39\\site-packages)\n",
      "WARNING: Ignoring invalid distribution -cipy (c:\\users\\avitr\\anaconda3\\lib\\site-packages)\n",
      "WARNING: Ignoring invalid distribution -rotobuf (c:\\users\\avitr\\anaconda3\\lib\\site-packages)\n",
      "WARNING: Ignoring invalid distribution -atplotlib (c:\\users\\avitr\\appdata\\roaming\\python\\python39\\site-packages)\n",
      "WARNING: Ignoring invalid distribution -atplotlib (c:\\users\\avitr\\appdata\\roaming\\python\\python39\\site-packages)\n",
      "WARNING: Ignoring invalid distribution -atplotlib (c:\\users\\avitr\\appdata\\roaming\\python\\python39\\site-packages)\n"
     ]
    },
    {
     "name": "stdout",
     "output_type": "stream",
     "text": [
      "\n",
      "Requirement already satisfied: numpy>=1.22.4 in c:\\users\\avitr\\anaconda3\\lib\\site-packages (from pandas) (1.24.3)\n",
      "Requirement already satisfied: python-dateutil>=2.8.2 in c:\\users\\avitr\\anaconda3\\lib\\site-packages (from pandas) (2.8.2)\n",
      "Requirement already satisfied: pytz>=2020.1 in c:\\users\\avitr\\anaconda3\\lib\\site-packages (from pandas) (2022.7)\n",
      "Requirement already satisfied: tzdata>=2022.7 in c:\\users\\avitr\\anaconda3\\lib\\site-packages (from pandas) (2023.3)\n",
      "Requirement already satisfied: six>=1.5 in c:\\users\\avitr\\anaconda3\\lib\\site-packages (from python-dateutil>=2.8.2->pandas) (1.16.0)\n"
     ]
    }
   ],
   "source": [
    "!pip install -U pandas"
   ]
  },
  {
   "cell_type": "markdown",
   "id": "74d89aae",
   "metadata": {
    "deletable": false,
    "editable": false,
    "nbgrader": {
     "cell_type": "markdown",
     "checksum": "c100cebd6addec34a9fe4505526f3e24",
     "grade": false,
     "grade_id": "cell-124cabd194c76f34",
     "locked": true,
     "schema_version": 3,
     "solution": false,
     "task": false
    }
   },
   "source": [
    "## Data processing steps\n",
    "\n",
    "These steps arise from the following paper ([A Deep Learning Approach for Blood Glucose Prediction\n",
    "of Type 1 Diabetes](http://ceur-ws.org/Vol-2675/paper23.pdf)). \n",
    "\n",
    "1. Save all the blood glucose timestamps\n",
    "2. Resample the features to a time delta of 1 second\n",
    "3. Forward fill the missing values by using the last available values\n",
    "4. Fill the left missing values with 0\n",
    "5. Resample the features to a time delta of 5 minutes\n",
    "6. Smooth each feature with a 1D Gaussian filter over a window containing the past 2 hours of data"
   ]
  },
  {
   "cell_type": "markdown",
   "id": "53da774b",
   "metadata": {
    "deletable": false,
    "editable": false,
    "nbgrader": {
     "cell_type": "markdown",
     "checksum": "b517d6fee0bd105540c1403ae908501d",
     "grade": false,
     "grade_id": "cell-d9094c3daca9f870",
     "locked": true,
     "schema_version": 3,
     "solution": false,
     "task": false
    }
   },
   "source": [
    "For each step you will see an incomplete function in data_cleaners.py. Your task in this notebook is to complete each of these functions by following the steps above according to the paper above. \n",
    "\n",
    "Once you have completed all of these steps the following tests will pass. "
   ]
  },
  {
   "cell_type": "code",
   "execution_count": 4,
   "id": "4c637b5f",
   "metadata": {
    "deletable": false,
    "editable": false,
    "nbgrader": {
     "cell_type": "code",
     "checksum": "f5f9bf7f93c157bb23feb8f1d1cde702",
     "grade": false,
     "grade_id": "cell-b675307fe454da19",
     "locked": true,
     "schema_version": 3,
     "solution": false,
     "task": false
    }
   },
   "outputs": [],
   "source": [
    "import data_cleaners as dc"
   ]
  },
  {
   "cell_type": "code",
   "execution_count": 5,
   "id": "99872f52",
   "metadata": {
    "deletable": false,
    "editable": false,
    "nbgrader": {
     "cell_type": "code",
     "checksum": "82f37eb40af032704461b615a5b02674",
     "grade": false,
     "grade_id": "cell-791e67088638d90d",
     "locked": true,
     "schema_version": 3,
     "solution": false,
     "task": false
    }
   },
   "outputs": [
    {
     "ename": "TypeError",
     "evalue": "Argument 'placement' has incorrect type (expected pandas._libs.internals.BlockPlacement, got slice)",
     "output_type": "error",
     "traceback": [
      "\u001b[1;31m---------------------------------------------------------------------------\u001b[0m",
      "\u001b[1;31mTypeError\u001b[0m                                 Traceback (most recent call last)",
      "Cell \u001b[1;32mIn[5], line 1\u001b[0m\n\u001b[1;32m----> 1\u001b[0m glucose \u001b[38;5;241m=\u001b[39m \u001b[43mdc\u001b[49m\u001b[38;5;241;43m.\u001b[39;49m\u001b[43mGlucoseData\u001b[49m\u001b[43m(\u001b[49m\u001b[43m)\u001b[49m\n",
      "File \u001b[1;32mD:\\OneDrive - NITT\\CODE\\Python Scripts\\Code_2024\\Paul\\week2\\data_cleaners.py:41\u001b[0m, in \u001b[0;36mGlucoseData.__init__\u001b[1;34m(self, path_to_data)\u001b[0m\n\u001b[0;32m     39\u001b[0m \u001b[38;5;28;01mdef\u001b[39;00m \u001b[38;5;21m__init__\u001b[39m(\u001b[38;5;28mself\u001b[39m, path_to_data\u001b[38;5;241m=\u001b[39m \u001b[38;5;124m\"\u001b[39m\u001b[38;5;124mweek2pkls/present_day_data.pkl\u001b[39m\u001b[38;5;124m\"\u001b[39m):\n\u001b[0;32m     40\u001b[0m     \u001b[38;5;28;01mwith\u001b[39;00m \u001b[38;5;28mopen\u001b[39m(path_to_data, \u001b[38;5;124m\"\u001b[39m\u001b[38;5;124mrb\u001b[39m\u001b[38;5;124m\"\u001b[39m) \u001b[38;5;28;01mas\u001b[39;00m file:\n\u001b[1;32m---> 41\u001b[0m         \u001b[38;5;28mself\u001b[39m\u001b[38;5;241m.\u001b[39mpresent_day_data \u001b[38;5;241m=\u001b[39m \u001b[43mpickle\u001b[49m\u001b[38;5;241;43m.\u001b[39;49m\u001b[43mload\u001b[49m\u001b[43m(\u001b[49m\u001b[43mfile\u001b[49m\u001b[43m)\u001b[49m\n",
      "File \u001b[1;32m~\\anaconda3\\lib\\site-packages\\pandas\\core\\internals\\blocks.py:2728\u001b[0m, in \u001b[0;36mnew_block\u001b[1;34m(values, placement, ndim, refs)\u001b[0m\n\u001b[0;32m   2716\u001b[0m \u001b[38;5;28;01mdef\u001b[39;00m \u001b[38;5;21mnew_block\u001b[39m(\n\u001b[0;32m   2717\u001b[0m     values,\n\u001b[0;32m   2718\u001b[0m     placement: BlockPlacement,\n\u001b[1;32m   (...)\u001b[0m\n\u001b[0;32m   2725\u001b[0m     \u001b[38;5;66;03m# - check_ndim/ensure_block_shape already checked\u001b[39;00m\n\u001b[0;32m   2726\u001b[0m     \u001b[38;5;66;03m# - maybe_coerce_values already called/unnecessary\u001b[39;00m\n\u001b[0;32m   2727\u001b[0m     klass \u001b[38;5;241m=\u001b[39m get_block_type(values\u001b[38;5;241m.\u001b[39mdtype)\n\u001b[1;32m-> 2728\u001b[0m     \u001b[38;5;28;01mreturn\u001b[39;00m \u001b[43mklass\u001b[49m\u001b[43m(\u001b[49m\u001b[43mvalues\u001b[49m\u001b[43m,\u001b[49m\u001b[43m \u001b[49m\u001b[43mndim\u001b[49m\u001b[38;5;241;43m=\u001b[39;49m\u001b[43mndim\u001b[49m\u001b[43m,\u001b[49m\u001b[43m \u001b[49m\u001b[43mplacement\u001b[49m\u001b[38;5;241;43m=\u001b[39;49m\u001b[43mplacement\u001b[49m\u001b[43m,\u001b[49m\u001b[43m \u001b[49m\u001b[43mrefs\u001b[49m\u001b[38;5;241;43m=\u001b[39;49m\u001b[43mrefs\u001b[49m\u001b[43m)\u001b[49m\n",
      "\u001b[1;31mTypeError\u001b[0m: Argument 'placement' has incorrect type (expected pandas._libs.internals.BlockPlacement, got slice)"
     ]
    }
   ],
   "source": [
    "glucose = dc.GlucoseData()"
   ]
  },
  {
   "cell_type": "code",
   "execution_count": null,
   "id": "417a7dc8",
   "metadata": {
    "deletable": false,
    "editable": false,
    "nbgrader": {
     "cell_type": "code",
     "checksum": "776671f5f146808689d55ada49ccc6fd",
     "grade": false,
     "grade_id": "cell-f583c6960d5f4cd9",
     "locked": true,
     "schema_version": 3,
     "solution": false,
     "task": false
    }
   },
   "outputs": [],
   "source": [
    "%load_ext autoreload\n",
    "%autoreload 2"
   ]
  },
  {
   "attachments": {
    "2a_1.png": {
     "image/png": "[encoded data removed]"
    }
   },
   "cell_type": "markdown",
   "id": "10ae23e6",
   "metadata": {
    "deletable": false,
    "editable": false,
    "nbgrader": {
     "cell_type": "markdown",
     "checksum": "929dc9d9c8efbb4786151268d0016614",
     "grade": false,
     "grade_id": "cell-cc366674b848fb86",
     "locked": true,
     "schema_version": 3,
     "solution": false,
     "task": false
    }
   },
   "source": [
    "## <font color='magenta'>Task One</font>\n",
    "\n",
    "Implement ```step2_preprocessing``` in `data_cleaners.py`\n",
    "\n",
    "Resample the glucose readings to a time delta of 1 second. \n",
    "\n",
    "Before you get started, read the function we’re asking you to complete and make sure you know what it takes as input and what it takes as output. For the first task we’ll help you out and let you know that the input is a Pandas DataFrame and the output is a Pandas DataFrame. You are being asked to transform each series of glucose readings. So if I call new_df = function(old_df), each row of new_df will be the glucose series from old_df resampled to a delta of 1 second. \n",
    "\n",
    "For exmaple, results should look like the following (note that number below are correct)\n",
    "\n",
    "![2a_1.png](attachment:2a_1.png)\n",
    "\n",
    "The paper ([A Deep Learning Approach for Blood Glucose Prediction\n",
    "of Type 1 Diabetes](http://ceur-ws.org/Vol-2675/paper23.pdf)) explains the motivation behind resampling. Before you write any complicated functions make sure you refamiliarize yourself with the Pandas time series library. \n",
    "\n"
   ]
  },
  {
   "cell_type": "code",
   "execution_count": 5,
   "id": "0ac8bcfb",
   "metadata": {},
   "outputs": [],
   "source": [
    "# Add your code in data_cleaners.py. If attempting this task, please set the following flag to True\n",
    "attempted_task_one = True"
   ]
  },
  {
   "cell_type": "code",
   "execution_count": null,
   "id": "b4ab967e",
   "metadata": {
    "deletable": false,
    "editable": false,
    "nbgrader": {
     "cell_type": "code",
     "checksum": "8117e9236a0b647f7d4df9c2923db3bd",
     "grade": true,
     "grade_id": "cell-61e4d1ee7fd530e7",
     "locked": true,
     "points": 5,
     "schema_version": 3,
     "solution": false,
     "task": false
    }
   },
   "outputs": [],
   "source": [
    "#hidden tests are within this cell"
   ]
  },
  {
   "attachments": {
    "2a_2.png": {
     "image/png": "[encoded data removed]"
    }
   },
   "cell_type": "markdown",
   "id": "02e0430d",
   "metadata": {
    "deletable": false,
    "editable": false,
    "nbgrader": {
     "cell_type": "markdown",
     "checksum": "844708ec7265bfa78b7964d3de580fa7",
     "grade": false,
     "grade_id": "cell-441f16078e484dbb",
     "locked": true,
     "schema_version": 3,
     "solution": false,
     "task": false
    }
   },
   "source": [
    "## <font color='magenta'>Task Two</font>\n",
    "\n",
    "Similar to Task One, you will be completing a function in data_cleaners. Make sure you check what the input and output to this function is.\n",
    "\n",
    "Implement ```step3_4_preprocessing``` in `data_cleaners.py`\n",
    "\n",
    "1. Forward fill the missing values by using the last available values - refer to [Pandas fillna](https://pandas.pydata.org/docs/reference/api/pandas.DataFrame.fillna.html#pandas.DataFrame.fillna) method on how to propagate last valid observation.\n",
    "2. If the first observation was missing, it will stay missing after forward fill. In order to handle this case, simply fill the missing value with 0.\n",
    "\n",
    "For exmaple, results should look like the following (note that number below are correct)\n",
    "\n",
    "![Pandas Dataframe, where the DeviceDtTM column shows date time information incrementing per second and the Glucose column values are reading 212](attachment:2a_2.png)"
   ]
  },
  {
   "cell_type": "code",
   "execution_count": null,
   "id": "37f5cac7",
   "metadata": {},
   "outputs": [],
   "source": [
    "# Add your code in data_cleaners.py. If attempting this task, please set the following flag to True\n",
    "attempted_task_two = True\n",
    "glucose"
   ]
  },
  {
   "cell_type": "code",
   "execution_count": null,
   "id": "5d4562bf",
   "metadata": {
    "deletable": false,
    "editable": false,
    "nbgrader": {
     "cell_type": "code",
     "checksum": "bf347291a57f98e182e6d45c95c6cb7a",
     "grade": true,
     "grade_id": "cell-2b5d0ae47114e9d4",
     "locked": true,
     "points": 5,
     "schema_version": 3,
     "solution": false,
     "task": false
    }
   },
   "outputs": [],
   "source": [
    "#hidden tests are within this cell"
   ]
  },
  {
   "attachments": {
    "2a_3.png": {
     "image/png": "[encoded data removed]"
    }
   },
   "cell_type": "markdown",
   "id": "6288d52d",
   "metadata": {},
   "source": [
    "## <font color='magenta'>Task Three</font>\n",
    "\n",
    "Implement `step5_preprocessing` in `data_cleaners.py`\n",
    "\n",
    "When we did a forward fill in steps 3_4, we imputed the glucose level from the previous value. The glucose levels are currently sampled at 1s interval. Before we resample the glucose levels to a time delta of 5 minutes, we need to ensure that the glucose levels are aligned and no data is lost. In order to do that we perform the following steps:\n",
    "1. We create a dummy row at 5m interval from the last row's timestamp. The new row will have the same glucose reading as the last row and will have a timestamp of 5 minutes after the last row.\n",
    "2. Resample the features to a time delta of 5 minutes, ensuring that the timestamps start uniformly at 5, 10,... minutes from the hour using [Pandas resampler first](https://pandas.pydata.org/docs/reference/api/pandas.core.resample.Resampler.first.html).\n",
    "3. Finally we shift the rows up by one. \n",
    "\n",
    "For exmaple, results should look like the following (note that number below are correct)\n",
    "\n",
    "![Pandas Dataframe, where the DeviceDtTM column shows date time information incrementing per five minutes, starting from 10:25:00 and the Glucose column values are reading 212](attachment:2a_3.png)"
   ]
  },
  {
   "cell_type": "code",
   "execution_count": null,
   "id": "56b47ac0",
   "metadata": {},
   "outputs": [],
   "source": [
    "# Add your code in data_cleaners.py. If attempting this task, please set the following flag to True\n",
    "attempted_task_three = False"
   ]
  },
  {
   "cell_type": "code",
   "execution_count": null,
   "id": "e5e6afaf",
   "metadata": {
    "deletable": false,
    "editable": false,
    "nbgrader": {
     "cell_type": "code",
     "checksum": "5fce960df27be38ad1c49ebb46d50075",
     "grade": true,
     "grade_id": "cell-2dab848d4dd6bdde",
     "locked": true,
     "points": 5,
     "schema_version": 3,
     "solution": false,
     "task": false
    }
   },
   "outputs": [],
   "source": [
    "#hidden tests are within this cell"
   ]
  },
  {
   "cell_type": "markdown",
   "id": "e7375720",
   "metadata": {
    "deletable": false,
    "editable": false,
    "nbgrader": {
     "cell_type": "markdown",
     "checksum": "32a9efb68c3e028df88c9dc98297d58c",
     "grade": false,
     "grade_id": "cell-5afe93543b5e995a",
     "locked": true,
     "schema_version": 3,
     "solution": false,
     "task": false
    }
   },
   "source": [
    "## <font color='magenta'>Task Four</font>\n",
    "\n",
    "Implement `step6_preprocessing` in `data_cleaners.py`\n",
    "\n",
    "Smooth each glucose reading with a 1D Gaussian filter over a window containing the past 2 hours of data (make_loader() has already defined the horizon window for 2 hours).\n",
    "\n",
    "For exmaple, results should look like the following (note that number below may not be correct)\n",
    "```python\n",
    "step_6_output = [256.0, 262.0, ..., 278.0, 274.0]\n",
    "```\n",
    "\n"
   ]
  },
  {
   "cell_type": "code",
   "execution_count": null,
   "id": "89d63ec4",
   "metadata": {
    "deletable": false,
    "nbgrader": {
     "cell_type": "code",
     "checksum": "396783e4454845d6054394d2c5746148",
     "grade": false,
     "grade_id": "cell-a0ce26d4b157d291",
     "locked": false,
     "schema_version": 3,
     "solution": true,
     "task": false
    }
   },
   "outputs": [],
   "source": [
    "# Add your code in data_cleaners.py. If attempting this task, please set the following flag to True\n",
    "attempted_task_four = False\n",
    "\n",
    "# YOUR CODE HERE\n",
    "raise NotImplementedError()"
   ]
  },
  {
   "cell_type": "code",
   "execution_count": null,
   "id": "997a3c3b",
   "metadata": {
    "deletable": false,
    "editable": false,
    "nbgrader": {
     "cell_type": "code",
     "checksum": "ccd603985db45dede974bf7d84e7a8c2",
     "grade": true,
     "grade_id": "cell-f62a805e2f23be47",
     "locked": true,
     "points": 5,
     "schema_version": 3,
     "solution": false,
     "task": false
    }
   },
   "outputs": [],
   "source": [
    "#hidden tests are within this cell"
   ]
  },
  {
   "cell_type": "code",
   "execution_count": null,
   "id": "d875ed15",
   "metadata": {
    "deletable": false,
    "editable": false,
    "nbgrader": {
     "cell_type": "code",
     "checksum": "a3116f8198093b2898573ebfc1e295ec",
     "grade": false,
     "grade_id": "cell-ee941e2bdcf6af4a",
     "locked": true,
     "schema_version": 3,
     "solution": false,
     "task": false
    }
   },
   "outputs": [],
   "source": [
    "# This will generate the population level training data in assets folder\n",
    "# glucose.generate_training_data()"
   ]
  }
 ],
 "metadata": {
  "kernelspec": {
   "display_name": "Python 3 (ipykernel)",
   "language": "python",
   "name": "python3"
  },
  "language_info": {
   "codemirror_mode": {
    "name": "ipython",
    "version": 3
   },
   "file_extension": ".py",
   "mimetype": "text/x-python",
   "name": "python",
   "nbconvert_exporter": "python",
   "pygments_lexer": "ipython3",
   "version": "3.9.15"
  }
 },
 "nbformat": 4,
 "nbformat_minor": 5
}
