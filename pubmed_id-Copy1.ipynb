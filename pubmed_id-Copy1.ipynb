{
 "cells": [
  {
   "cell_type": "code",
   "execution_count": 52,
   "id": "d56d0fa3",
   "metadata": {},
   "outputs": [],
   "source": [
    "from Bio import Entrez\n",
    "import pandas as pd\n",
    "from tqdm.notebook import tqdm\n",
    "\n",
    "Entrez.email = \"singhmohit.1889@gmail.com\"\n",
    "Entrez.api_key = \"1c22910bfa9f49693b451d3dfec15c1dbb09\"\n",
    "\n",
    "def extract_pubmed_id(reference):\n",
    "    try:\n",
    "        for article_id in reference['ArticleIdList']:\n",
    "            if article_id.attributes['IdType'] == 'pubmed':\n",
    "                return str(article_id)\n",
    "    except:\n",
    "        print(reference)\n",
    "    return float('NaN')\n",
    "\n",
    "def fetch_paper_details(pmid):\n",
    "    handle = Entrez.efetch(db=\"pubmed\", id=pmid, rettype=\"xml\", retmode=\"text\")\n",
    "    records = Entrez.read(handle)\n",
    "    handle.close()\n",
    "    \n",
    "    paper_title = pmid\n",
    "#     paper_title = records['PubmedArticle'][0]['MedlineCitation']['Article']['ArticleTitle']\n",
    "    authors = records['PubmedArticle'][0]['MedlineCitation']['Article']['AuthorList']\n",
    "    paper_authors = [f\"{author['ForeName']} {author['LastName']}\" for author in authors]\n",
    "    journal = records['PubmedArticle'][0]['MedlineCitation']['Article']['Journal']['Title']\n",
    "    year = records['PubmedArticle'][0]['MedlineCitation']['Article']['Journal']['JournalIssue']['PubDate']['Year']   \n",
    "    return paper_title, paper_authors, journal, year\n",
    "\n",
    "def fetch_citations(pmid):\n",
    "    handle = Entrez.elink(dbfrom=\"pubmed\", id=pmid, linkname=\"pubmed_pubmed_citedin\")\n",
    "    records = Entrez.read(handle)\n",
    "    handle.close()\n",
    "    \n",
    "    citing_paper_titles = []\n",
    "    citing_paper_references = []\n",
    "    details = []\n",
    "    if records[0][\"LinkSetDb\"]:\n",
    "        for link in records[0][\"LinkSetDb\"][0][\"Link\"]:\n",
    "            citing_pmid = link[\"Id\"]\n",
    "            handle = Entrez.efetch(db=\"pubmed\", id=citing_pmid, rettype=\"xml\", retmode=\"text\")\n",
    "            records = Entrez.read(handle)\n",
    "            handle.close()\n",
    "\n",
    "#             paper_title = records['PubmedArticle'][0]['MedlineCitation']['Article']['ArticleTitle']\n",
    "            paper_title = citing_pmid\n",
    "            references = records['PubmedArticle'][0]['PubmedData']['ReferenceList'][0]['Reference']\n",
    "            reference_list = [extract_pubmed_id(reference) for reference in references]\n",
    "            details.append((paper_title,reference_list))\n",
    "    \n",
    "    return details"
   ]
  },
  {
   "cell_type": "code",
   "execution_count": 6,
   "id": "40b3ebd4",
   "metadata": {},
   "outputs": [],
   "source": [
    "df = pd.read_csv(\"savedrecs imp csv.csv\",encoding='latin-1')\n",
    "PubmedId = df[~df['Pubmed Id'].isna()]['Pubmed Id'].values"
   ]
  },
  {
   "cell_type": "code",
   "execution_count": 3,
   "id": "125a7ee5",
   "metadata": {},
   "outputs": [],
   "source": [
    "# PubmedId = PubmedId.astype(int)\n",
    "# PubmedId = PubmedId.astype(str)"
   ]
  },
  {
   "cell_type": "code",
   "execution_count": 3,
   "id": "1f9846a0",
   "metadata": {},
   "outputs": [],
   "source": [
    "PubmedId = ['34910933',\n",
    "'7546706',\n",
    "# '32998157',\n",
    "# '26264835',\n",
    "# '25233993',\n",
    "# '18797453',\n",
    "# '20457754',\n",
    "# '22334017',\n",
    "# '29739835',\n",
    "# '33414215',\n",
    "# '32783919'\n",
    "           ]"
   ]
  },
  {
   "cell_type": "code",
   "execution_count": 53,
   "id": "5e50740f",
   "metadata": {},
   "outputs": [],
   "source": [
    "PubmedId = ['37371829','37020354']"
   ]
  },
  {
   "cell_type": "code",
   "execution_count": 54,
   "id": "54e4cef9",
   "metadata": {},
   "outputs": [
    {
     "data": {
      "application/vnd.jupyter.widget-view+json": {
       "model_id": "37a961159c22465fb0c1a28ab05a67fd",
       "version_major": 2,
       "version_minor": 0
      },
      "text/plain": [
       "  0%|          | 0/2 [00:00<?, ?it/s]"
      ]
     },
     "metadata": {},
     "output_type": "display_data"
    },
    {
     "name": "stdout",
     "output_type": "stream",
     "text": [
      "{'Citation': 'Kozai T, Fernandez-Martinez J, van Eeuwen T, Gallardo P, Kapinos LE, Mazur A, Zhang W, Tempkin J, Panatala R, Delgado-Izquierdo M, et al: Dynamic molecular mechanism of the nuclear pore complex permeability barrier. bioRxiv 2023.'}\n",
      "{'Citation': 'Pérez-Berlanga M, Wiersma VI, Zbinden A, De Vos L, Wagner U, Foglieni C, Mallona I, Betz KM, Cléry A, Weber J, et al: TDP-43 oligomerization and RNA binding are codependent but their loss elicits distinct pathologies. bioRxiv 2022:2022.2005.2023.493029.'}\n",
      "{'Citation': 'Lee YJ, Rio DC: Analysis of altered pre-mRNA splicing patterns caused by a mutation in the RNA binding protein hnRNPA1 linked to amyotrophic lateral sclerosis. bioRxiv 2022:2022.2002.2003.479052.'}\n",
      "{'Citation': 'Aikio M, Wobst HJ, Odeh HM, Lee B-L, Class B, Ollerhead TA, Mack KL, Ford AF, Barbieri EM, Cupo RR, et al: Opposing roles of p38α-mediated phosphorylation and arginine methylation in driving TDP-43 proteinopathy. bioRxiv 2021:2021.2008.2004.455154.'}\n",
      "{'Citation': 'Guo L, Mann JR, Mauna JC, Copley KE, Wang H, Rubien JD, Odeh HM, Lin J, Lee B-L, Ganser L, et al: Defining RNA oligonucleotides that reverse deleterious phase transitions of RNA-binding proteins with prion-like domains. bioRxiv 2023:2023.2009.2004.555754.'}\n",
      "{'Citation': 'Cicardi M, Kankate V, Sriramoji S, Krishnamurthy K, Markandaiah S, Verdone B, Girdhar A, Nelson A, Rivas L, Boehringer A, et al: The nuclear import receptor Kapβ2 protein modifies neurotoxicity mediated by poly(GR) in C9orf72-linked ALS/FTD. bioRxiv 2023:2022.2009.2030.510384.'}\n",
      "{'Citation': 'Raina N, Singh AK, Islam A: Biological Implications of Plyethylene Glycol and PEGylation: Therapeutic Approaches Based on Biophysical Studies and Protein Structure-Based Drug Design Tools. Innovations and Implementations of Computer Aided Drug Discovery Strategies in Rational Drug Design 2021:273–294.'}\n",
      "{'Citation': 'Ruff EK, Timperman DL, Amador AA, Aguirre-Lamus I, de Haro M, Al-Ramahi I: Increased Karyopherin Alpha Levels Attenuate Mutant Ataxin-1-Induced Neurodegeneration. bioRxiv 2023:2023.2007.2012.548780.'}\n",
      "{'Citation': 'Adnani L, Spinelli C, Tawil N, Rak J (2022) Role of extracellular vesicles in cancer-specific interactions between tumour cells and the vasculature. In: Seminars in cancer biology. Elsevier'}\n",
      "{'Citation': 'Debnath K, Las Heras K, Rivera A, Lenzini S, Shin J-W (2023) Extracellular vesicle–matrix interactions. Nat Rev Mater 2023:1–13'}\n",
      "{'Citation': 'Pan Y, Wang Y, Wang Y, Xu S, Jiang F, Han Y, Hu M, Liu Z (2022) Platelet-derived microvesicles (PMVs) in cancer progression and clinical applications. Clin Transl Oncol 2022:1–9'}\n",
      "{'Citation': 'Dixson AC, Dawson TR, Di Vizio D, Weaver AM (2023) Context-specific regulation of extracellular vesicle biogenesis and cargo selection. Nat Rev Mol Cell Biol 2023:1–23'}\n",
      "{'Citation': 'Pour MSS, Kasgari FH, Farsinejad A, Fatemi A, Khalilabadi RM (2017) Platelet-derived microparticles increase expression of hTERT in umbilical cord mesenchymal stem cells. Res Mol Med (RMM) 2017:31–40'}\n",
      "{'Citation': 'Hong C-S, Danet-Desnoyers G, Shan X, Sharma P, Whiteside TL, Boyiadzis M (2019) Human acute myeloid leukemia blast-derived exosomes in patient-derived xenograft mice mediate immune suppression. Exp Hematol 76(60–66):e62'}\n",
      "{'Citation': 'Valandani HM, Amirizadeh N, Nikougoftar M, Safa M, Khalilabadi RM, Kazemi A (2018) Effect of extracellular vesicles derived from mesenchymal stem cells on K-562 leukemia cell line. Iran Red Crescent Med J 20:e64991'}\n"
     ]
    }
   ],
   "source": [
    "df = pd.DataFrame([],columns=['Paper_Title','Paper_Authors','Journal','Year','Citing_Paper_Title','Citing_Paper_References'])\n",
    "for pmid in tqdm(PubmedId):\n",
    "    \n",
    "    paper_title, paper_authors, journal, year = fetch_paper_details(pmid)\n",
    "    citing_papers = fetch_citations(pmid)\n",
    "    for title, ref in citing_papers:\n",
    "        df.loc[len(df)] = [paper_title, paper_authors, journal, year,title,ref]\n",
    "#     except Exception as e:\n",
    "#         print(pmid,e)"
   ]
  },
  {
   "cell_type": "code",
   "execution_count": 55,
   "id": "66cdb284",
   "metadata": {},
   "outputs": [
    {
     "data": {
      "text/html": [
       "<div>\n",
       "<style scoped>\n",
       "    .dataframe tbody tr th:only-of-type {\n",
       "        vertical-align: middle;\n",
       "    }\n",
       "\n",
       "    .dataframe tbody tr th {\n",
       "        vertical-align: top;\n",
       "    }\n",
       "\n",
       "    .dataframe thead th {\n",
       "        text-align: right;\n",
       "    }\n",
       "</style>\n",
       "<table border=\"1\" class=\"dataframe\">\n",
       "  <thead>\n",
       "    <tr style=\"text-align: right;\">\n",
       "      <th></th>\n",
       "      <th>Paper_Title</th>\n",
       "      <th>Paper_Authors</th>\n",
       "      <th>Journal</th>\n",
       "      <th>Year</th>\n",
       "      <th>Citing_Paper_Title</th>\n",
       "      <th>Citing_Paper_References</th>\n",
       "    </tr>\n",
       "  </thead>\n",
       "  <tbody>\n",
       "    <tr>\n",
       "      <th>0</th>\n",
       "      <td>37371829</td>\n",
       "      <td>[Owen Daly, Azita Josefine Mahiny, Sara Majesk...</td>\n",
       "      <td>Biomedicines</td>\n",
       "      <td>2023</td>\n",
       "      <td>38400169</td>\n",
       "      <td>[35821637, 37705354, 36311701, 37595605, 37454...</td>\n",
       "    </tr>\n",
       "    <tr>\n",
       "      <th>1</th>\n",
       "      <td>37371829</td>\n",
       "      <td>[Owen Daly, Azita Josefine Mahiny, Sara Majesk...</td>\n",
       "      <td>Biomedicines</td>\n",
       "      <td>2023</td>\n",
       "      <td>38254150</td>\n",
       "      <td>[33049211, 33942880, 27498188, 28762175, 34706...</td>\n",
       "    </tr>\n",
       "    <tr>\n",
       "      <th>2</th>\n",
       "      <td>37020354</td>\n",
       "      <td>[Jennifer Cable, Barney S Graham, Richard A Ko...</td>\n",
       "      <td>Annals of the New York Academy of Sciences</td>\n",
       "      <td>2023</td>\n",
       "      <td>38125026</td>\n",
       "      <td>[31869338, 26229114, 27153120, 25121750, 21987...</td>\n",
       "    </tr>\n",
       "    <tr>\n",
       "      <th>3</th>\n",
       "      <td>37020354</td>\n",
       "      <td>[Jennifer Cable, Barney S Graham, Richard A Ko...</td>\n",
       "      <td>Annals of the New York Academy of Sciences</td>\n",
       "      <td>2023</td>\n",
       "      <td>37084166</td>\n",
       "      <td>[nan, nan, 35454874, nan, 35089462, nan, 36675...</td>\n",
       "    </tr>\n",
       "  </tbody>\n",
       "</table>\n",
       "</div>"
      ],
      "text/plain": [
       "  Paper_Title                                      Paper_Authors  \\\n",
       "0    37371829  [Owen Daly, Azita Josefine Mahiny, Sara Majesk...   \n",
       "1    37371829  [Owen Daly, Azita Josefine Mahiny, Sara Majesk...   \n",
       "2    37020354  [Jennifer Cable, Barney S Graham, Richard A Ko...   \n",
       "3    37020354  [Jennifer Cable, Barney S Graham, Richard A Ko...   \n",
       "\n",
       "                                      Journal  Year Citing_Paper_Title  \\\n",
       "0                                Biomedicines  2023           38400169   \n",
       "1                                Biomedicines  2023           38254150   \n",
       "2  Annals of the New York Academy of Sciences  2023           38125026   \n",
       "3  Annals of the New York Academy of Sciences  2023           37084166   \n",
       "\n",
       "                             Citing_Paper_References  \n",
       "0  [35821637, 37705354, 36311701, 37595605, 37454...  \n",
       "1  [33049211, 33942880, 27498188, 28762175, 34706...  \n",
       "2  [31869338, 26229114, 27153120, 25121750, 21987...  \n",
       "3  [nan, nan, 35454874, nan, 35089462, nan, 36675...  "
      ]
     },
     "execution_count": 55,
     "metadata": {},
     "output_type": "execute_result"
    }
   ],
   "source": [
    "df"
   ]
  },
  {
   "cell_type": "code",
   "execution_count": null,
   "id": "b49d13b8",
   "metadata": {},
   "outputs": [],
   "source": []
  },
  {
   "cell_type": "code",
   "execution_count": null,
   "id": "70302f48",
   "metadata": {},
   "outputs": [],
   "source": []
  },
  {
   "cell_type": "code",
   "execution_count": 26,
   "id": "42e71c36",
   "metadata": {},
   "outputs": [
    {
     "name": "stdout",
     "output_type": "stream",
     "text": [
      "38400169\n",
      "38254150\n"
     ]
    }
   ],
   "source": [
    "handle = Entrez.elink(dbfrom=\"pubmed\", id='37371829', linkname=\"pubmed_pubmed_citedin\")\n",
    "records = Entrez.read(handle)\n",
    "handle.close()\n",
    "\n",
    "citing_paper_titles = []\n",
    "citing_paper_references = []\n",
    "details = []\n",
    "if records[0][\"LinkSetDb\"]:\n",
    "    for link in records[0][\"LinkSetDb\"][0][\"Link\"]:\n",
    "        citing_pmid = link[\"Id\"]\n",
    "        print(citing_pmid)\n",
    "        handle = Entrez.efetch(db=\"pubmed\", id=citing_pmid, rettype=\"xml\", retmode=\"text\")\n",
    "        records = Entrez.read(handle)\n",
    "        handle.close()\n",
    "\n",
    "        paper_title = records['PubmedArticle'][0]['MedlineCitation']['Article']['ArticleTitle']\n",
    "        references = records['PubmedArticle'][0]['PubmedData']['ReferenceList'][0]['Reference']\n",
    "        reference_list = [reference['Citation'] for reference in references]\n",
    "        details.append((paper_title,reference_list))\n",
    "else:\n",
    "    print('Hi')"
   ]
  },
  {
   "cell_type": "code",
   "execution_count": 27,
   "id": "02aff06e",
   "metadata": {},
   "outputs": [],
   "source": [
    "handle = Entrez.efetch(db=\"pubmed\", id='38400169', rettype=\"xml\", retmode=\"text\")\n",
    "records = Entrez.read(handle)\n",
    "handle.close()"
   ]
  },
  {
   "cell_type": "code",
   "execution_count": 30,
   "id": "3feffdba",
   "metadata": {},
   "outputs": [
    {
     "data": {
      "text/plain": [
       "'Lipid Nanoparticle (LNP) Delivery Carrier-Assisted Targeted Controlled Release mRNA Vaccines in Tumor Immunity.'"
      ]
     },
     "execution_count": 30,
     "metadata": {},
     "output_type": "execute_result"
    }
   ],
   "source": [
    "records['PubmedArticle'][0]['MedlineCitation']['Article']['ArticleTitle']"
   ]
  },
  {
   "cell_type": "code",
   "execution_count": 39,
   "id": "9396c6ad",
   "metadata": {},
   "outputs": [
    {
     "data": {
      "text/plain": [
       "{'Citation': 'Bevers S., Kooijmans S.A.A., Van de Velde E., Evers M.J.W., Seghers S., Gitz-Francois J.J.J.M., van Kronenburg N.C.H., Fens M.H.A.M., Mastrobattista E., Hassler L., et al. mRNA-LNP vaccines tuned for systemic immunization induce strong antitumor immunity by engaging splenic immune cells. Mol. Ther. 2022;30:3078–3094. doi: 10.1016/j.ymthe.2022.07.007.', 'ArticleIdList': [StringElement('10.1016/j.ymthe.2022.07.007', attributes={'IdType': 'doi'}), StringElement('PMC9273295', attributes={'IdType': 'pmc'}), StringElement('35821637', attributes={'IdType': 'pubmed'})]}"
      ]
     },
     "execution_count": 39,
     "metadata": {},
     "output_type": "execute_result"
    }
   ],
   "source": [
    "a = records['PubmedArticle'][0]['PubmedData']['ReferenceList'][0]['Reference'][0]#['ArticleIdList']\n",
    "a"
   ]
  },
  {
   "cell_type": "code",
   "execution_count": 38,
   "id": "8a3625a9",
   "metadata": {},
   "outputs": [],
   "source": [
    "def extract_pubmed_id(reference):\n",
    "    for article_id in reference['ArticleIdList']:\n",
    "        if article_id.attributes['IdType'] == 'pubmed':\n",
    "            return str(article_id)\n",
    "    return None"
   ]
  },
  {
   "cell_type": "code",
   "execution_count": 40,
   "id": "c08cccbf",
   "metadata": {},
   "outputs": [
    {
     "data": {
      "text/plain": [
       "'35821637'"
      ]
     },
     "execution_count": 40,
     "metadata": {},
     "output_type": "execute_result"
    }
   ],
   "source": [
    "extract_pubmed_id(a)"
   ]
  },
  {
   "cell_type": "code",
   "execution_count": null,
   "id": "9ca1d177",
   "metadata": {},
   "outputs": [],
   "source": []
  },
  {
   "cell_type": "code",
   "execution_count": null,
   "id": "66866674",
   "metadata": {},
   "outputs": [],
   "source": []
  },
  {
   "cell_type": "code",
   "execution_count": null,
   "id": "cc832155",
   "metadata": {},
   "outputs": [],
   "source": []
  },
  {
   "cell_type": "code",
   "execution_count": null,
   "id": "8f0290f0",
   "metadata": {},
   "outputs": [],
   "source": []
  },
  {
   "cell_type": "code",
   "execution_count": 5,
   "id": "5690e6e8",
   "metadata": {},
   "outputs": [],
   "source": [
    "df.to_csv('output2.csv',index=False)"
   ]
  },
  {
   "cell_type": "code",
   "execution_count": null,
   "id": "695813f7",
   "metadata": {},
   "outputs": [],
   "source": [
    "34910933 'AuthorList'\n",
    "32998157 list index out of range\n",
    "25233993 list index out of range\n",
    "20457754 list index out of range\n",
    "32783919"
   ]
  },
  {
   "cell_type": "code",
   "execution_count": 9,
   "id": "7cd2d4e0",
   "metadata": {},
   "outputs": [],
   "source": [
    "df1 = pd.read_csv('output.csv')\n",
    "df2 = pd.read_csv('output1.csv')"
   ]
  },
  {
   "cell_type": "code",
   "execution_count": 10,
   "id": "03f5fee0",
   "metadata": {},
   "outputs": [],
   "source": [
    "df = pd.concat([df1,df2])"
   ]
  },
  {
   "cell_type": "code",
   "execution_count": 11,
   "id": "c535f43b",
   "metadata": {},
   "outputs": [
    {
     "data": {
      "text/html": [
       "<div>\n",
       "<style scoped>\n",
       "    .dataframe tbody tr th:only-of-type {\n",
       "        vertical-align: middle;\n",
       "    }\n",
       "\n",
       "    .dataframe tbody tr th {\n",
       "        vertical-align: top;\n",
       "    }\n",
       "\n",
       "    .dataframe thead th {\n",
       "        text-align: right;\n",
       "    }\n",
       "</style>\n",
       "<table border=\"1\" class=\"dataframe\">\n",
       "  <thead>\n",
       "    <tr style=\"text-align: right;\">\n",
       "      <th></th>\n",
       "      <th>Paper_Title</th>\n",
       "      <th>Paper_Authors</th>\n",
       "      <th>Journal</th>\n",
       "      <th>Year</th>\n",
       "      <th>Citing_Paper_Title</th>\n",
       "      <th>Citing_Paper_References</th>\n",
       "    </tr>\n",
       "  </thead>\n",
       "  <tbody>\n",
       "    <tr>\n",
       "      <th>0</th>\n",
       "      <td>Progress in vaccine development for infectious...</td>\n",
       "      <td>['Jennifer Cable', 'Barney S Graham', 'Richard...</td>\n",
       "      <td>Annals of the New York Academy of Sciences</td>\n",
       "      <td>2023</td>\n",
       "      <td>Oral tolerance to systemic vaccination remains...</td>\n",
       "      <td>['Cram J.A., Fiore-Gartland A.J., Srinivasan S...</td>\n",
       "    </tr>\n",
       "    <tr>\n",
       "      <th>1</th>\n",
       "      <td>Progress in vaccine development for infectious...</td>\n",
       "      <td>['Jennifer Cable', 'Barney S Graham', 'Richard...</td>\n",
       "      <td>Annals of the New York Academy of Sciences</td>\n",
       "      <td>2023</td>\n",
       "      <td>Extracellular microvesicles: biologic properti...</td>\n",
       "      <td>['Adnani L, Spinelli C, Tawil N, Rak J (2022) ...</td>\n",
       "    </tr>\n",
       "    <tr>\n",
       "      <th>2</th>\n",
       "      <td>Modified uridines are the key to a successful ...</td>\n",
       "      <td>['Katalin Karikó']</td>\n",
       "      <td>Nature reviews. Immunology</td>\n",
       "      <td>2021</td>\n",
       "      <td>Stabilized 5' Cap Analogue for Optochemical Ac...</td>\n",
       "      <td>['Curreri A.; Sankholkar D.; Mitragotri S.; Zh...</td>\n",
       "    </tr>\n",
       "    <tr>\n",
       "      <th>3</th>\n",
       "      <td>Modified uridines are the key to a successful ...</td>\n",
       "      <td>['Katalin Karikó']</td>\n",
       "      <td>Nature reviews. Immunology</td>\n",
       "      <td>2021</td>\n",
       "      <td>Transfection of hypoxia-inducible factor-1α mR...</td>\n",
       "      <td>['Sen CK, Gordillo GM, Roy S, Kirsner R, Lambe...</td>\n",
       "    </tr>\n",
       "    <tr>\n",
       "      <th>4</th>\n",
       "      <td>Modified uridines are the key to a successful ...</td>\n",
       "      <td>['Katalin Karikó']</td>\n",
       "      <td>Nature reviews. Immunology</td>\n",
       "      <td>2021</td>\n",
       "      <td>Race with virus evolution: The development and...</td>\n",
       "      <td>['Wolff J.A., Malone R.W., Williams P., Chong ...</td>\n",
       "    </tr>\n",
       "    <tr>\n",
       "      <th>...</th>\n",
       "      <td>...</td>\n",
       "      <td>...</td>\n",
       "      <td>...</td>\n",
       "      <td>...</td>\n",
       "      <td>...</td>\n",
       "      <td>...</td>\n",
       "    </tr>\n",
       "    <tr>\n",
       "      <th>1615</th>\n",
       "      <td>A noninflammatory mRNA vaccine for treatment o...</td>\n",
       "      <td>['Christina Krienke', 'Laura Kolb', 'Elif Dike...</td>\n",
       "      <td>Science (New York, N.Y.)</td>\n",
       "      <td>2021</td>\n",
       "      <td>&lt;i&gt;In vitro&lt;/i&gt; and &lt;i&gt;ex vivo&lt;/i&gt; functional ...</td>\n",
       "      <td>['Todd J.A., Acha-Orbea H., Bell J.I., Chao N....</td>\n",
       "    </tr>\n",
       "    <tr>\n",
       "      <th>1616</th>\n",
       "      <td>A noninflammatory mRNA vaccine for treatment o...</td>\n",
       "      <td>['Christina Krienke', 'Laura Kolb', 'Elif Dike...</td>\n",
       "      <td>Science (New York, N.Y.)</td>\n",
       "      <td>2021</td>\n",
       "      <td>Human Vaccines &amp; Immunotherapeutics: news.</td>\n",
       "      <td>['Rappazzo CG, Tse LV, Kaku CI, Wrapp D, Sakha...</td>\n",
       "    </tr>\n",
       "    <tr>\n",
       "      <th>1617</th>\n",
       "      <td>A noninflammatory mRNA vaccine for treatment o...</td>\n",
       "      <td>['Christina Krienke', 'Laura Kolb', 'Elif Dike...</td>\n",
       "      <td>Science (New York, N.Y.)</td>\n",
       "      <td>2021</td>\n",
       "      <td>SARS-CoV-2 vaccines in patients with SLE.</td>\n",
       "      <td>['Johns Hopkins University coronavirus resourc...</td>\n",
       "    </tr>\n",
       "    <tr>\n",
       "      <th>1618</th>\n",
       "      <td>A noninflammatory mRNA vaccine for treatment o...</td>\n",
       "      <td>['Christina Krienke', 'Laura Kolb', 'Elif Dike...</td>\n",
       "      <td>Science (New York, N.Y.)</td>\n",
       "      <td>2021</td>\n",
       "      <td>Non-Genetically Encoded Epitopes Are Relevant ...</td>\n",
       "      <td>['Atkinson M.A. The Pathogenesis and Natural H...</td>\n",
       "    </tr>\n",
       "    <tr>\n",
       "      <th>1619</th>\n",
       "      <td>A noninflammatory mRNA vaccine for treatment o...</td>\n",
       "      <td>['Christina Krienke', 'Laura Kolb', 'Elif Dike...</td>\n",
       "      <td>Science (New York, N.Y.)</td>\n",
       "      <td>2021</td>\n",
       "      <td>Suppressing autoimmunity with mRNA vaccines.</td>\n",
       "      <td>['Krienke, C. et al. A noninflammatory mRNA va...</td>\n",
       "    </tr>\n",
       "  </tbody>\n",
       "</table>\n",
       "<p>6322 rows × 6 columns</p>\n",
       "</div>"
      ],
      "text/plain": [
       "                                            Paper_Title  \\\n",
       "0     Progress in vaccine development for infectious...   \n",
       "1     Progress in vaccine development for infectious...   \n",
       "2     Modified uridines are the key to a successful ...   \n",
       "3     Modified uridines are the key to a successful ...   \n",
       "4     Modified uridines are the key to a successful ...   \n",
       "...                                                 ...   \n",
       "1615  A noninflammatory mRNA vaccine for treatment o...   \n",
       "1616  A noninflammatory mRNA vaccine for treatment o...   \n",
       "1617  A noninflammatory mRNA vaccine for treatment o...   \n",
       "1618  A noninflammatory mRNA vaccine for treatment o...   \n",
       "1619  A noninflammatory mRNA vaccine for treatment o...   \n",
       "\n",
       "                                          Paper_Authors  \\\n",
       "0     ['Jennifer Cable', 'Barney S Graham', 'Richard...   \n",
       "1     ['Jennifer Cable', 'Barney S Graham', 'Richard...   \n",
       "2                                    ['Katalin Karikó']   \n",
       "3                                    ['Katalin Karikó']   \n",
       "4                                    ['Katalin Karikó']   \n",
       "...                                                 ...   \n",
       "1615  ['Christina Krienke', 'Laura Kolb', 'Elif Dike...   \n",
       "1616  ['Christina Krienke', 'Laura Kolb', 'Elif Dike...   \n",
       "1617  ['Christina Krienke', 'Laura Kolb', 'Elif Dike...   \n",
       "1618  ['Christina Krienke', 'Laura Kolb', 'Elif Dike...   \n",
       "1619  ['Christina Krienke', 'Laura Kolb', 'Elif Dike...   \n",
       "\n",
       "                                         Journal  Year  \\\n",
       "0     Annals of the New York Academy of Sciences  2023   \n",
       "1     Annals of the New York Academy of Sciences  2023   \n",
       "2                     Nature reviews. Immunology  2021   \n",
       "3                     Nature reviews. Immunology  2021   \n",
       "4                     Nature reviews. Immunology  2021   \n",
       "...                                          ...   ...   \n",
       "1615                    Science (New York, N.Y.)  2021   \n",
       "1616                    Science (New York, N.Y.)  2021   \n",
       "1617                    Science (New York, N.Y.)  2021   \n",
       "1618                    Science (New York, N.Y.)  2021   \n",
       "1619                    Science (New York, N.Y.)  2021   \n",
       "\n",
       "                                     Citing_Paper_Title  \\\n",
       "0     Oral tolerance to systemic vaccination remains...   \n",
       "1     Extracellular microvesicles: biologic properti...   \n",
       "2     Stabilized 5' Cap Analogue for Optochemical Ac...   \n",
       "3     Transfection of hypoxia-inducible factor-1α mR...   \n",
       "4     Race with virus evolution: The development and...   \n",
       "...                                                 ...   \n",
       "1615  <i>In vitro</i> and <i>ex vivo</i> functional ...   \n",
       "1616         Human Vaccines & Immunotherapeutics: news.   \n",
       "1617          SARS-CoV-2 vaccines in patients with SLE.   \n",
       "1618  Non-Genetically Encoded Epitopes Are Relevant ...   \n",
       "1619       Suppressing autoimmunity with mRNA vaccines.   \n",
       "\n",
       "                                Citing_Paper_References  \n",
       "0     ['Cram J.A., Fiore-Gartland A.J., Srinivasan S...  \n",
       "1     ['Adnani L, Spinelli C, Tawil N, Rak J (2022) ...  \n",
       "2     ['Curreri A.; Sankholkar D.; Mitragotri S.; Zh...  \n",
       "3     ['Sen CK, Gordillo GM, Roy S, Kirsner R, Lambe...  \n",
       "4     ['Wolff J.A., Malone R.W., Williams P., Chong ...  \n",
       "...                                                 ...  \n",
       "1615  ['Todd J.A., Acha-Orbea H., Bell J.I., Chao N....  \n",
       "1616  ['Rappazzo CG, Tse LV, Kaku CI, Wrapp D, Sakha...  \n",
       "1617  ['Johns Hopkins University coronavirus resourc...  \n",
       "1618  ['Atkinson M.A. The Pathogenesis and Natural H...  \n",
       "1619  ['Krienke, C. et al. A noninflammatory mRNA va...  \n",
       "\n",
       "[6322 rows x 6 columns]"
      ]
     },
     "execution_count": 11,
     "metadata": {},
     "output_type": "execute_result"
    }
   ],
   "source": [
    "df"
   ]
  },
  {
   "cell_type": "code",
   "execution_count": 12,
   "id": "e991e87a",
   "metadata": {},
   "outputs": [],
   "source": [
    "df.reset_index(drop=True,inplace=True)"
   ]
  },
  {
   "cell_type": "code",
   "execution_count": 14,
   "id": "fdeb340e",
   "metadata": {},
   "outputs": [],
   "source": [
    "df.to_csv('final.csv',index=False)"
   ]
  },
  {
   "cell_type": "code",
   "execution_count": null,
   "id": "4f71f6ca",
   "metadata": {},
   "outputs": [],
   "source": []
  }
 ],
 "metadata": {
  "kernelspec": {
   "display_name": "Python (myNEWenv)",
   "language": "python",
   "name": "mynewenv"
  },
  "language_info": {
   "codemirror_mode": {
    "name": "ipython",
    "version": 3
   },
   "file_extension": ".py",
   "mimetype": "text/x-python",
   "name": "python",
   "nbconvert_exporter": "python",
   "pygments_lexer": "ipython3",
   "version": "3.10.12"
  }
 },
 "nbformat": 4,
 "nbformat_minor": 5
}
