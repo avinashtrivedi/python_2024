{
 "cells": [
  {
   "cell_type": "code",
   "execution_count": 35,
   "id": "0ad5664b",
   "metadata": {},
   "outputs": [],
   "source": [
    "import pandas as pd\n",
    "import numpy as np\n",
    "import warnings\n",
    "warnings.filterwarnings(\"ignore\")\n",
    "from sklearn.preprocessing import StandardScaler\n",
    "from sklearn.model_selection import train_test_split\n",
    "from sklearn.metrics import f1_score, mean_squared_error,make_scorer, accuracy_score\n",
    "from sklearn.tree import DecisionTreeClassifier\n",
    "from sklearn.linear_model import LogisticRegression"
   ]
  },
  {
   "cell_type": "code",
   "execution_count": 34,
   "id": "16827d89",
   "metadata": {},
   "outputs": [
    {
     "name": "stdout",
     "output_type": "stream",
     "text": [
      "1.0 ->acc 0.8712121212121212\n",
      "1.1 ->acc 0.8712121212121212\n",
      "1.2 ->acc 0.8712121212121212\n",
      "1.3 ->acc 0.8712121212121212\n",
      "1.4 ->acc 0.8712121212121212\n",
      "1.5 ->acc 0.8712121212121212\n",
      "1.6 ->acc 0.8712121212121212\n",
      "1.7 ->acc 0.8712121212121212\n",
      "1.8 ->acc 0.8712121212121212\n",
      "1.9 ->acc 0.8712121212121212\n",
      "2.0 ->acc 0.8712121212121212\n",
      "2.1 ->acc 0.8712121212121212\n",
      "2.2 ->acc 0.8712121212121212\n",
      "2.3 ->acc 0.8712121212121212\n",
      "2.4 ->acc 0.8712121212121212\n",
      "2.5 ->acc 0.8712121212121212\n",
      "2.6 ->acc 0.8712121212121212\n",
      "2.7 ->acc 0.8712121212121212\n",
      "2.8 ->acc 0.8712121212121212\n",
      "2.9 ->acc 0.8712121212121212\n",
      "3.0 ->acc 0.8712121212121212\n",
      "3.1 ->acc 0.8712121212121212\n",
      "3.2 ->acc 0.8712121212121212\n",
      "3.3 ->acc 0.8712121212121212\n",
      "3.4 ->acc 0.8712121212121212\n",
      "3.5 ->acc 0.8712121212121212\n",
      "3.6 ->acc 0.8712121212121212\n",
      "3.7 ->acc 0.8712121212121212\n",
      "3.8 ->acc 0.8712121212121212\n",
      "3.9 ->acc 0.8712121212121212\n",
      "4.0 ->acc 0.8712121212121212\n",
      "4.1 ->acc 0.8712121212121212\n",
      "4.2 ->acc 0.8712121212121212\n",
      "4.3 ->acc 0.8712121212121212\n",
      "4.4 ->acc 0.8712121212121212\n",
      "4.5 ->acc 0.8712121212121212\n",
      "4.6 ->acc 0.8712121212121212\n",
      "4.7 ->acc 0.8712121212121212\n",
      "4.8 ->acc 0.8712121212121212\n",
      "4.9 ->acc 0.8712121212121212\n",
      "5.0 ->acc 0.8712121212121212\n",
      "5.1 ->acc 0.8712121212121212\n",
      "5.2 ->acc 0.8712121212121212\n",
      "5.3 ->acc 0.8712121212121212\n",
      "5.4 ->acc 0.8712121212121212\n",
      "5.5 ->acc 0.8712121212121212\n",
      "5.6 ->acc 0.8712121212121212\n",
      "5.7 ->acc 0.8712121212121212\n",
      "5.8 ->acc 0.8712121212121212\n",
      "5.9 ->acc 0.8712121212121212\n"
     ]
    }
   ],
   "source": [
    "df = pd.read_csv('D:\\OneDrive - NITT\\Custom_Download\\Social_Network_Ads (1).csv')\n",
    "df = df.drop('User ID',axis=1)\n",
    "df = pd.get_dummies(df)\n",
    "\n",
    "result = {}\n",
    "for i in range(0,50):\n",
    "    n = (1+i/10)\n",
    "    df['NEstimatedSalary'] = df['EstimatedSalary']*n\n",
    "#     print()\n",
    "    X = df.drop(['Purchased','EstimatedSalary'],axis=1)\n",
    "    y = df['Purchased']\n",
    "\n",
    "    X_train, X_test, y_train, y_test = train_test_split(X, y, test_size=0.33, random_state=42)\n",
    "\n",
    "    clf = DecisionTreeClassifier(random_state=42)\n",
    "    clf.fit(X_train,y_train)\n",
    "\n",
    "    pred = clf.predict(X_test)\n",
    "\n",
    "    acc = accuracy_score(y_test,pred)\n",
    "    result[i] = acc\n",
    "    print(n,'->acc',acc)"
   ]
  },
  {
   "cell_type": "code",
   "execution_count": null,
   "id": "418c05f6",
   "metadata": {},
   "outputs": [],
   "source": [
    "0.87121212"
   ]
  },
  {
   "cell_type": "code",
   "execution_count": 27,
   "id": "07b3ad37",
   "metadata": {},
   "outputs": [
    {
     "data": {
      "text/html": [
       "<div>\n",
       "<style scoped>\n",
       "    .dataframe tbody tr th:only-of-type {\n",
       "        vertical-align: middle;\n",
       "    }\n",
       "\n",
       "    .dataframe tbody tr th {\n",
       "        vertical-align: top;\n",
       "    }\n",
       "\n",
       "    .dataframe thead th {\n",
       "        text-align: right;\n",
       "    }\n",
       "</style>\n",
       "<table border=\"1\" class=\"dataframe\">\n",
       "  <thead>\n",
       "    <tr style=\"text-align: right;\">\n",
       "      <th></th>\n",
       "      <th>Age</th>\n",
       "      <th>EstimatedSalary</th>\n",
       "      <th>Purchased</th>\n",
       "      <th>Gender_Female</th>\n",
       "      <th>Gender_Male</th>\n",
       "      <th>NewAge</th>\n",
       "    </tr>\n",
       "  </thead>\n",
       "  <tbody>\n",
       "    <tr>\n",
       "      <th>0</th>\n",
       "      <td>19</td>\n",
       "      <td>19000</td>\n",
       "      <td>0</td>\n",
       "      <td>0</td>\n",
       "      <td>1</td>\n",
       "      <td>28.5</td>\n",
       "    </tr>\n",
       "    <tr>\n",
       "      <th>1</th>\n",
       "      <td>35</td>\n",
       "      <td>20000</td>\n",
       "      <td>0</td>\n",
       "      <td>0</td>\n",
       "      <td>1</td>\n",
       "      <td>52.5</td>\n",
       "    </tr>\n",
       "    <tr>\n",
       "      <th>2</th>\n",
       "      <td>26</td>\n",
       "      <td>43000</td>\n",
       "      <td>0</td>\n",
       "      <td>1</td>\n",
       "      <td>0</td>\n",
       "      <td>39.0</td>\n",
       "    </tr>\n",
       "    <tr>\n",
       "      <th>3</th>\n",
       "      <td>27</td>\n",
       "      <td>57000</td>\n",
       "      <td>0</td>\n",
       "      <td>1</td>\n",
       "      <td>0</td>\n",
       "      <td>40.5</td>\n",
       "    </tr>\n",
       "    <tr>\n",
       "      <th>4</th>\n",
       "      <td>19</td>\n",
       "      <td>76000</td>\n",
       "      <td>0</td>\n",
       "      <td>0</td>\n",
       "      <td>1</td>\n",
       "      <td>28.5</td>\n",
       "    </tr>\n",
       "    <tr>\n",
       "      <th>...</th>\n",
       "      <td>...</td>\n",
       "      <td>...</td>\n",
       "      <td>...</td>\n",
       "      <td>...</td>\n",
       "      <td>...</td>\n",
       "      <td>...</td>\n",
       "    </tr>\n",
       "    <tr>\n",
       "      <th>395</th>\n",
       "      <td>46</td>\n",
       "      <td>41000</td>\n",
       "      <td>1</td>\n",
       "      <td>1</td>\n",
       "      <td>0</td>\n",
       "      <td>69.0</td>\n",
       "    </tr>\n",
       "    <tr>\n",
       "      <th>396</th>\n",
       "      <td>51</td>\n",
       "      <td>23000</td>\n",
       "      <td>1</td>\n",
       "      <td>0</td>\n",
       "      <td>1</td>\n",
       "      <td>76.5</td>\n",
       "    </tr>\n",
       "    <tr>\n",
       "      <th>397</th>\n",
       "      <td>50</td>\n",
       "      <td>20000</td>\n",
       "      <td>1</td>\n",
       "      <td>1</td>\n",
       "      <td>0</td>\n",
       "      <td>75.0</td>\n",
       "    </tr>\n",
       "    <tr>\n",
       "      <th>398</th>\n",
       "      <td>36</td>\n",
       "      <td>33000</td>\n",
       "      <td>0</td>\n",
       "      <td>0</td>\n",
       "      <td>1</td>\n",
       "      <td>54.0</td>\n",
       "    </tr>\n",
       "    <tr>\n",
       "      <th>399</th>\n",
       "      <td>49</td>\n",
       "      <td>36000</td>\n",
       "      <td>1</td>\n",
       "      <td>1</td>\n",
       "      <td>0</td>\n",
       "      <td>73.5</td>\n",
       "    </tr>\n",
       "  </tbody>\n",
       "</table>\n",
       "<p>400 rows × 6 columns</p>\n",
       "</div>"
      ],
      "text/plain": [
       "     Age  EstimatedSalary  Purchased  Gender_Female  Gender_Male  NewAge\n",
       "0     19            19000          0              0            1    28.5\n",
       "1     35            20000          0              0            1    52.5\n",
       "2     26            43000          0              1            0    39.0\n",
       "3     27            57000          0              1            0    40.5\n",
       "4     19            76000          0              0            1    28.5\n",
       "..   ...              ...        ...            ...          ...     ...\n",
       "395   46            41000          1              1            0    69.0\n",
       "396   51            23000          1              0            1    76.5\n",
       "397   50            20000          1              1            0    75.0\n",
       "398   36            33000          0              0            1    54.0\n",
       "399   49            36000          1              1            0    73.5\n",
       "\n",
       "[400 rows x 6 columns]"
      ]
     },
     "execution_count": 27,
     "metadata": {},
     "output_type": "execute_result"
    }
   ],
   "source": [
    "df"
   ]
  },
  {
   "cell_type": "code",
   "execution_count": 42,
   "id": "a6b2163f",
   "metadata": {},
   "outputs": [],
   "source": [
    "df = pd.read_csv('D:\\OneDrive - NITT\\Custom_Download\\Social_Network_Ads (1).csv')\n",
    "df = df.drop('User ID',axis=1)\n",
    "df = pd.get_dummies(df)\n",
    "X = df.drop(['Purchased'],axis=1)\n",
    "y = df['Purchased']\n",
    "\n",
    "X_train, X_test, y_train, y_test = train_test_split(X, y, test_size=0.33, random_state=42)\n",
    "\n",
    "clf = LogisticRegression()\n",
    "clf.fit(X_train,y_train)\n",
    "\n",
    "pred = clf.predict(X_test)\n",
    "\n",
    "acc = accuracy_score(y_test,pred)"
   ]
  },
  {
   "cell_type": "code",
   "execution_count": 47,
   "id": "5b2139a5",
   "metadata": {},
   "outputs": [
    {
     "name": "stdout",
     "output_type": "stream",
     "text": [
      "Age 0.14973680744612355\n",
      "EstimatedSalary 2.6976652092860907e-05\n",
      "Gender_Female -2.8061162575622043\n",
      "Gender_Male -2.6676460994567086\n"
     ]
    }
   ],
   "source": [
    "for i ,j in zip(clf.feature_names_in_,clf.coef_[0]):\n",
    "    print(i,j)"
   ]
  },
  {
   "cell_type": "code",
   "execution_count": 48,
   "id": "70c3c3df",
   "metadata": {},
   "outputs": [
    {
     "data": {
      "text/plain": [
       "0.8409090909090909"
      ]
     },
     "execution_count": 48,
     "metadata": {},
     "output_type": "execute_result"
    }
   ],
   "source": [
    "acc"
   ]
  },
  {
   "cell_type": "code",
   "execution_count": 39,
   "id": "dd89b5e0",
   "metadata": {},
   "outputs": [
    {
     "data": {
      "text/plain": [
       "array([-7.23223819])"
      ]
     },
     "execution_count": 39,
     "metadata": {},
     "output_type": "execute_result"
    }
   ],
   "source": [
    "clf.intercept_"
   ]
  },
  {
   "cell_type": "markdown",
   "id": "a79091f5",
   "metadata": {},
   "source": [
    "# drop correlated features"
   ]
  },
  {
   "cell_type": "code",
   "execution_count": null,
   "id": "85c6c5c4",
   "metadata": {},
   "outputs": [],
   "source": [
    "# Create correlation matrix\n",
    "corr_matrix = df_train.corr().abs()\n",
    "\n",
    "# Select upper triangle of correlation matrix\n",
    "upper = corr_matrix.where(np.triu(np.ones(corr_matrix.shape), k=1).astype(bool))\n",
    "\n",
    "# Find features with correlation greater than 0.95\n",
    "to_drop = [column for column in upper.columns if any(upper[column] > 0.97)] #96\n",
    "\n",
    "# Drop features \n",
    "df.drop(to_drop, axis=1, inplace=True)"
   ]
  }
 ],
 "metadata": {
  "kernelspec": {
   "display_name": "Python (myNEWenv)",
   "language": "python",
   "name": "mynewenv"
  },
  "language_info": {
   "codemirror_mode": {
    "name": "ipython",
    "version": 3
   },
   "file_extension": ".py",
   "mimetype": "text/x-python",
   "name": "python",
   "nbconvert_exporter": "python",
   "pygments_lexer": "ipython3",
   "version": "3.10.12"
  }
 },
 "nbformat": 4,
 "nbformat_minor": 5
}
